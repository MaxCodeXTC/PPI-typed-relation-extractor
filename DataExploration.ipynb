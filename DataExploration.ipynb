{
 "cells": [
  {
   "cell_type": "markdown",
   "metadata": {
    "collapsed": true
   },
   "source": [
    "## Data Exploration"
   ]
  },
  {
   "cell_type": "code",
   "execution_count": 1,
   "metadata": {},
   "outputs": [],
   "source": [
    "\n",
    "s3_data =\"s3://aegovan-data/human_output/human_keyinteractions.json\"\n",
    "s3_annotations =\"s3://aegovan-data/input_data_pubtator_annotated.txt\"\n",
    "human_idmapping_dat = \"/Users/aeg/Downloads/HUMAN_9606_idmapping.dat\""
   ]
  },
  {
   "cell_type": "code",
   "execution_count": null,
   "metadata": {},
   "outputs": [],
   "source": [
    "import boto3\n",
    "\n",
    "def download_single_file(bucket_name_path, local_path):\n",
    "    index = bucket_name_path.find(\"://\")\n",
    "\n",
    "    # remove the s3:// if present\n",
    "    if index > -1:\n",
    "        bucket_name_path = bucket_name_path[index + 3:]\n",
    "\n",
    "    key_start_index = bucket_name_path.find(\"/\")\n",
    "    bucket_name = bucket_name_path\n",
    "    key = \"/\"\n",
    "    if key_start_index > -1:\n",
    "        bucket_name = bucket_name_path[0:key_start_index]\n",
    "        key = bucket_name_path[key_start_index + 1:]\n",
    "        \n",
    "    client = boto3.resource('s3')\n",
    "    client.Bucket(bucket_name).download_file(key, local_path)\n"
   ]
  },
  {
   "cell_type": "code",
   "execution_count": 2,
   "metadata": {},
   "outputs": [],
   "source": [
    "data_file=\"input_data.json\"\n",
    "annotations_file=\"input_data_annotations.txt\""
   ]
  },
  {
   "cell_type": "code",
   "execution_count": null,
   "metadata": {},
   "outputs": [],
   "source": [
    "download_single_file(s3_data, data_file)"
   ]
  },
  {
   "cell_type": "code",
   "execution_count": null,
   "metadata": {},
   "outputs": [],
   "source": [
    "download_single_file(s3_annotations, annotations_file)"
   ]
  },
  {
   "cell_type": "code",
   "execution_count": 3,
   "metadata": {},
   "outputs": [
    {
     "name": "stdout",
     "output_type": "stream",
     "text": [
      "Total number of records: 3381\n"
     ]
    }
   ],
   "source": [
    "\n",
    "import pandas as pd\n",
    "\n",
    "data = pd.read_json(data_file)\n",
    "\n",
    "print(\"Total number of records: {}\".format(data.shape[0]))"
   ]
  },
  {
   "cell_type": "code",
   "execution_count": null,
   "metadata": {},
   "outputs": [],
   "source": [
    "\n",
    "pd.set_option('display.max_columns', None)\n",
    "pd.set_option('display.max_colwidth', 10000)\n",
    "pd.set_option('display.max_rows', 100)"
   ]
  },
  {
   "cell_type": "markdown",
   "metadata": {},
   "source": [
    "### Sneak preview of the data"
   ]
  },
  {
   "cell_type": "code",
   "execution_count": 4,
   "metadata": {},
   "outputs": [],
   "source": [
    "#TODO: Fix data format\n",
    "data[\"pubmedId\"] = data[\"pubmedId\"].astype(str)\n",
    "data[\"interactionId\"] = data[\"interactionId\"].astype(str)"
   ]
  },
  {
   "cell_type": "code",
   "execution_count": 5,
   "metadata": {},
   "outputs": [
    {
     "data": {
      "text/html": [
       "<div>\n",
       "<style scoped>\n",
       "    .dataframe tbody tr th:only-of-type {\n",
       "        vertical-align: middle;\n",
       "    }\n",
       "\n",
       "    .dataframe tbody tr th {\n",
       "        vertical-align: top;\n",
       "    }\n",
       "\n",
       "    .dataframe thead th {\n",
       "        text-align: right;\n",
       "    }\n",
       "</style>\n",
       "<table border=\"1\" class=\"dataframe\">\n",
       "  <thead>\n",
       "    <tr style=\"text-align: right;\">\n",
       "      <th></th>\n",
       "      <th>interactionId</th>\n",
       "      <th>interactionType</th>\n",
       "      <th>isNegative</th>\n",
       "      <th>participants</th>\n",
       "      <th>pubmedId</th>\n",
       "      <th>pubmedTitle</th>\n",
       "      <th>pubmedabstract</th>\n",
       "    </tr>\n",
       "  </thead>\n",
       "  <tbody>\n",
       "    <tr>\n",
       "      <th>0</th>\n",
       "      <td>2503510</td>\n",
       "      <td>phosphorylation</td>\n",
       "      <td>false</td>\n",
       "      <td>[{'uniprotid': 'P43405', 'alias': [['ksyk_huma...</td>\n",
       "      <td>25605870</td>\n",
       "      <td>None</td>\n",
       "      <td>NLRP3 is the most crucial member of the NLR fa...</td>\n",
       "    </tr>\n",
       "    <tr>\n",
       "      <th>1</th>\n",
       "      <td>2503513</td>\n",
       "      <td>phosphorylation</td>\n",
       "      <td>false</td>\n",
       "      <td>[{'uniprotid': 'P43405', 'alias': [['ksyk_huma...</td>\n",
       "      <td>25605870</td>\n",
       "      <td>None</td>\n",
       "      <td>NLRP3 is the most crucial member of the NLR fa...</td>\n",
       "    </tr>\n",
       "    <tr>\n",
       "      <th>10</th>\n",
       "      <td>1796163</td>\n",
       "      <td>phosphorylation</td>\n",
       "      <td>false</td>\n",
       "      <td>[{'uniprotid': 'Q8WUB1', 'alias': [['kc1g2_hum...</td>\n",
       "      <td>25500533</td>\n",
       "      <td>None</td>\n",
       "      <td>LRRK2, a gene relevant to Parkinson's disease,...</td>\n",
       "    </tr>\n",
       "  </tbody>\n",
       "</table>\n",
       "</div>"
      ],
      "text/plain": [
       "   interactionId  interactionType isNegative  \\\n",
       "0        2503510  phosphorylation      false   \n",
       "1        2503513  phosphorylation      false   \n",
       "10       1796163  phosphorylation      false   \n",
       "\n",
       "                                         participants  pubmedId pubmedTitle  \\\n",
       "0   [{'uniprotid': 'P43405', 'alias': [['ksyk_huma...  25605870        None   \n",
       "1   [{'uniprotid': 'P43405', 'alias': [['ksyk_huma...  25605870        None   \n",
       "10  [{'uniprotid': 'Q8WUB1', 'alias': [['kc1g2_hum...  25500533        None   \n",
       "\n",
       "                                       pubmedabstract  \n",
       "0   NLRP3 is the most crucial member of the NLR fa...  \n",
       "1   NLRP3 is the most crucial member of the NLR fa...  \n",
       "10  LRRK2, a gene relevant to Parkinson's disease,...  "
      ]
     },
     "execution_count": 5,
     "metadata": {},
     "output_type": "execute_result"
    }
   ],
   "source": [
    "data.head(n=3)"
   ]
  },
  {
   "cell_type": "markdown",
   "metadata": {},
   "source": [
    "### Number of interactions per paper\n",
    "**Note: The number of interactions per paper only takes the filtered interactions extracted from the Intact database**"
   ]
  },
  {
   "cell_type": "code",
   "execution_count": null,
   "metadata": {},
   "outputs": [],
   "source": [
    "import matplotlib.pyplot as plt\n",
    "\n",
    "data.pubmedId.value_counts().hist (bins=50, figsize=(15,5), color = 'red')\n",
    "plt.title('Papers vs number of interactions distribution')\n",
    "plt.xlabel('Number of interactions per paper')\n",
    "plt.ylabel('Total number of papers')\n",
    "\n",
    "plt.show()"
   ]
  },
  {
   "cell_type": "code",
   "execution_count": null,
   "metadata": {},
   "outputs": [],
   "source": [
    "df = data.pubmedId.value_counts().hist (bins=range(1, 30), figsize=(15,5), color = 'red')\n",
    "\n",
    "plt.title('Papers vs number of interactions distribution ( Filtered distribution of interactions between 1 to 30)')\n",
    "plt.xlabel('Number of interactions per paper')\n",
    "plt.ylabel('Total number of interactions')\n",
    "\n",
    "plt.show()"
   ]
  },
  {
   "cell_type": "markdown",
   "metadata": {},
   "source": [
    "### Filter out interactions from paper with more than 15 interactions"
   ]
  },
  {
   "cell_type": "code",
   "execution_count": null,
   "metadata": {},
   "outputs": [],
   "source": [
    "pubmed_interaction_count = data.pubmedId.value_counts().to_frame().rename(columns={\"pubmedId\":\"interactionCountPerPubmed\"})\n"
   ]
  },
  {
   "cell_type": "code",
   "execution_count": null,
   "metadata": {},
   "outputs": [],
   "source": [
    "interactions_count= pd.DataFrame()\n",
    "data[\"lessThanThreshold\"] = data.apply(lambda r: r[\"pubmedId\"] in  pubmed_interaction_count.query('interactionCountPerPubmed <= 15').index , 1)\n",
    "\n",
    "\n",
    "data.lessThanThreshold.value_counts().plot.pie(autopct='%.2f',figsize=(5, 5))\n",
    "plt.title('Has more than 15 interactions')\n",
    "plt.show()"
   ]
  },
  {
   "cell_type": "code",
   "execution_count": null,
   "metadata": {},
   "outputs": [],
   "source": [
    "data = data.query(\"lessThanThreshold == 1\")"
   ]
  },
  {
   "cell_type": "code",
   "execution_count": null,
   "metadata": {},
   "outputs": [],
   "source": [
    "print(\"Total number of records after filter: {}\".format(data.shape[0]))"
   ]
  },
  {
   "cell_type": "markdown",
   "metadata": {},
   "source": [
    "### Interaction Types distribution"
   ]
  },
  {
   "cell_type": "code",
   "execution_count": null,
   "metadata": {},
   "outputs": [],
   "source": [
    "data.interactionType.value_counts().plot.pie(autopct='%.2f',figsize=(5, 5))\n",
    "plt.title('Interaction Type Distribution')\n",
    "plt.show()"
   ]
  },
  {
   "cell_type": "code",
   "execution_count": null,
   "metadata": {},
   "outputs": [],
   "source": [
    "data.interactionType.value_counts().to_frame()"
   ]
  },
  {
   "cell_type": "markdown",
   "metadata": {},
   "source": [
    "### Distinct interaction types per paper"
   ]
  },
  {
   "cell_type": "code",
   "execution_count": null,
   "metadata": {},
   "outputs": [],
   "source": [
    "distinct_no_papers = data['pubmedId'].nunique()\n",
    "data.groupby('pubmedId')['interactionType'].nunique().hist(bins=100)\n",
    "plt.title(\"Number of unique interactions per paper\")\n",
    "plt.xlabel('Number of interactions')\n",
    "plt.ylabel('Number of papers (total is {})'.format(distinct_no_papers))\n",
    "plt.show()"
   ]
  },
  {
   "cell_type": "markdown",
   "metadata": {},
   "source": [
    "### Postive vs Negative Relationships"
   ]
  },
  {
   "cell_type": "code",
   "execution_count": null,
   "metadata": {},
   "outputs": [],
   "source": [
    "data.isNegative.value_counts().plot.pie(autopct='%.2f',figsize=(5, 5))\n",
    "plt.title('Is Negtive relationship')\n",
    "plt.show()"
   ]
  },
  {
   "cell_type": "markdown",
   "metadata": {},
   "source": [
    "### Number of participants per interaction"
   ]
  },
  {
   "cell_type": "code",
   "execution_count": null,
   "metadata": {},
   "outputs": [],
   "source": [
    "data[\"participants\"].apply(lambda x: len(x)).hist (bins=50, figsize=(5,5), color = 'green')\n",
    "plt.title(\"Participants count per interaction\")\n",
    "plt.show()"
   ]
  },
  {
   "cell_type": "markdown",
   "metadata": {},
   "source": [
    "### Explore if the abstract contains the trigger word"
   ]
  },
  {
   "cell_type": "code",
   "execution_count": null,
   "metadata": {},
   "outputs": [],
   "source": [
    "data[\"hasTriggerWord\"] = data.apply(lambda r: r[\"interactionType\"].lower() in r[\"pubmedabstract\"].lower() , 1)"
   ]
  },
  {
   "cell_type": "code",
   "execution_count": null,
   "metadata": {},
   "outputs": [],
   "source": [
    "data.hasTriggerWord.value_counts().plot.pie(autopct='%.2f',figsize=(5, 5))\n",
    "plt.title('Has trigger word')\n",
    "plt.show()"
   ]
  },
  {
   "cell_type": "code",
   "execution_count": null,
   "metadata": {},
   "outputs": [],
   "source": [
    "fig, ax = plt.subplots( 7,1, figsize=(45,30))\n",
    "data.groupby(['hasTriggerWord', 'interactionType']).size().unstack().plot(kind='pie', subplots='True',autopct='%.2f', ax=ax)\n",
    "plt.show()"
   ]
  },
  {
   "cell_type": "markdown",
   "metadata": {},
   "source": [
    "### Explore how many of the entity alias are mentioned in the abstract"
   ]
  },
  {
   "cell_type": "code",
   "execution_count": null,
   "metadata": {},
   "outputs": [],
   "source": [
    "%%time \n",
    "\n",
    "from difflib import SequenceMatcher\n",
    "def getEntityMentionsCount(r):\n",
    "    count = 0\n",
    "    abstract = r[\"pubmedabstract\"].lower()\n",
    "    abstract_len= len(abstract)\n",
    "    for p in r[\"participants\"]:\n",
    "        if p is None or p['alias'] is None : continue\n",
    "        \n",
    "        for a in p['alias']:\n",
    "            alias = a[0].lower()\n",
    "            s = SequenceMatcher(None, abstract, alias)\n",
    "            _,_,match_size = s.find_longest_match(0, len(abstract), 0, len(alias))\n",
    "            if match_size >= 3 and match_size >= len(alias)/2 :\n",
    "                count += 1\n",
    "        \n",
    "    return count\n",
    "        \n",
    "\n",
    "data[\"entityMentionsCount\"] = data.apply(lambda r: getEntityMentionsCount(r)  , 1)"
   ]
  },
  {
   "cell_type": "code",
   "execution_count": null,
   "metadata": {},
   "outputs": [],
   "source": [
    "data['entityMentionsCount'].hist ( bins=150, figsize=(15,5), color = 'red')\n",
    "plt.title('Entity mentions count distribution')\n",
    "plt.xlabel('Entity name mentions count in abstract')\n",
    "plt.ylabel('Total number of interactions')\n",
    "\n",
    "plt.show()"
   ]
  },
  {
   "cell_type": "code",
   "execution_count": null,
   "metadata": {},
   "outputs": [],
   "source": [
    "(data['entityMentionsCount'] > 0).value_counts().plot.pie(autopct='%.2f')\n",
    "plt.title(\"Percentage of interactions with entity mentions \")\n",
    "plt.ylabel(\"Entity mentions > 0\")\n",
    "plt.show()"
   ]
  },
  {
   "cell_type": "markdown",
   "metadata": {},
   "source": [
    "### Randomly eye ball interactions with no entity mentions"
   ]
  },
  {
   "cell_type": "code",
   "execution_count": null,
   "metadata": {},
   "outputs": [],
   "source": [
    "\n",
    "data.query('entityMentionsCount == 0')[['participants','pubmedabstract' ]].sample(n=10)\n"
   ]
  },
  {
   "cell_type": "code",
   "execution_count": null,
   "metadata": {},
   "outputs": [],
   "source": [
    "data.head(n=10)"
   ]
  },
  {
   "cell_type": "markdown",
   "metadata": {},
   "source": [
    "### Data Transformation"
   ]
  },
  {
   "cell_type": "code",
   "execution_count": 6,
   "metadata": {},
   "outputs": [],
   "source": [
    "from datatransformer.jsonPPIFlattenTransformer import IntactJsonPpiFlattenTransformer\n",
    " \n",
    "\n",
    "sut = IntactJsonPpiFlattenTransformer()\n",
    "\n",
    "data_transformed = sut.transform(data)\n"
   ]
  },
  {
   "cell_type": "code",
   "execution_count": 7,
   "metadata": {
    "scrolled": true
   },
   "outputs": [
    {
     "data": {
      "text/html": [
       "<div>\n",
       "<style scoped>\n",
       "    .dataframe tbody tr th:only-of-type {\n",
       "        vertical-align: middle;\n",
       "    }\n",
       "\n",
       "    .dataframe tbody tr th {\n",
       "        vertical-align: top;\n",
       "    }\n",
       "\n",
       "    .dataframe thead th {\n",
       "        text-align: right;\n",
       "    }\n",
       "</style>\n",
       "<table border=\"1\" class=\"dataframe\">\n",
       "  <thead>\n",
       "    <tr style=\"text-align: right;\">\n",
       "      <th></th>\n",
       "      <th>interactionId</th>\n",
       "      <th>interactionType</th>\n",
       "      <th>isNegative</th>\n",
       "      <th>participant1Alias</th>\n",
       "      <th>participant1Id</th>\n",
       "      <th>participant2Alias</th>\n",
       "      <th>participant2Id</th>\n",
       "      <th>pubmedId</th>\n",
       "      <th>pubmedTitle</th>\n",
       "      <th>pubmedabstract</th>\n",
       "    </tr>\n",
       "  </thead>\n",
       "  <tbody>\n",
       "    <tr>\n",
       "      <th>0</th>\n",
       "      <td>2503510</td>\n",
       "      <td>phosphorylation</td>\n",
       "      <td>false</td>\n",
       "      <td>[[ksyk_human], [Tyrosine-protein kinase SYK], ...</td>\n",
       "      <td>P43405</td>\n",
       "      <td>[[ksyk_human], [Tyrosine-protein kinase SYK], ...</td>\n",
       "      <td>P43405</td>\n",
       "      <td>25605870</td>\n",
       "      <td>None</td>\n",
       "      <td>NLRP3 is the most crucial member of the NLR fa...</td>\n",
       "    </tr>\n",
       "    <tr>\n",
       "      <th>1</th>\n",
       "      <td>2503513</td>\n",
       "      <td>phosphorylation</td>\n",
       "      <td>false</td>\n",
       "      <td>[[ksyk_human], [Tyrosine-protein kinase SYK], ...</td>\n",
       "      <td>P43405</td>\n",
       "      <td>[[asc_human], [Apoptosis-associated speck-like...</td>\n",
       "      <td>Q9BSZ5</td>\n",
       "      <td>25605870</td>\n",
       "      <td>None</td>\n",
       "      <td>NLRP3 is the most crucial member of the NLR fa...</td>\n",
       "    </tr>\n",
       "  </tbody>\n",
       "</table>\n",
       "</div>"
      ],
      "text/plain": [
       "  interactionId  interactionType isNegative  \\\n",
       "0       2503510  phosphorylation      false   \n",
       "1       2503513  phosphorylation      false   \n",
       "\n",
       "                                   participant1Alias participant1Id  \\\n",
       "0  [[ksyk_human], [Tyrosine-protein kinase SYK], ...         P43405   \n",
       "1  [[ksyk_human], [Tyrosine-protein kinase SYK], ...         P43405   \n",
       "\n",
       "                                   participant2Alias participant2Id  pubmedId  \\\n",
       "0  [[ksyk_human], [Tyrosine-protein kinase SYK], ...         P43405  25605870   \n",
       "1  [[asc_human], [Apoptosis-associated speck-like...         Q9BSZ5  25605870   \n",
       "\n",
       "  pubmedTitle                                     pubmedabstract  \n",
       "0        None  NLRP3 is the most crucial member of the NLR fa...  \n",
       "1        None  NLRP3 is the most crucial member of the NLR fa...  "
      ]
     },
     "execution_count": 7,
     "metadata": {},
     "output_type": "execute_result"
    }
   ],
   "source": [
    "data_transformed.head(n=2)"
   ]
  },
  {
   "cell_type": "code",
   "execution_count": null,
   "metadata": {},
   "outputs": [],
   "source": [
    "data_transformed.shape"
   ]
  },
  {
   "cell_type": "markdown",
   "metadata": {},
   "source": [
    "Okay.. looks like it is only a case of the names of the participants not matching the names of the alias used in the abstract.. "
   ]
  },
  {
   "cell_type": "markdown",
   "metadata": {},
   "source": [
    "### Data Engineering"
   ]
  },
  {
   "cell_type": "markdown",
   "metadata": {},
   "source": [
    "#### Add more negative samples"
   ]
  },
  {
   "cell_type": "code",
   "execution_count": 8,
   "metadata": {},
   "outputs": [],
   "source": [
    "\n",
    "def generate_negative_old(data):\n",
    "    import uuid\n",
    "    unique_pubmeds = data[\"pubmedId\"].unique()\n",
    "    data_fake = pd.DataFrame(columns=data.columns)\n",
    "\n",
    "    num_fake_records = int( .50 * len(data))\n",
    "    #TODO: Randomise this, biased via\n",
    "    for u in unique_pubmeds:\n",
    "        fake_records = pd.DataFrame(data[ data.pubmedId != u]  ).sample(n=1) \n",
    "        fake_records.loc[:, \"interactionId\"] =  fake_records.interactionId.astype(str) + \"_\" + str(uuid.uuid4() ) + \"_\" + \"fake\"\n",
    "        fake_records.loc[:,\"isNegative\"] = 'True' \n",
    "        ## Copy of the pubmeid abtract and the title from a id\n",
    "        fake_records.loc[:,\"pubmedId\"] = u\n",
    "        fake_records.loc[:, \"pubmedTitle\"] =  data[ data.pubmedId == u].iloc[0][\"pubmedTitle\"]\n",
    "        fake_records.loc[:, \"pubmedabstract\"] =  data[ data.pubmedId == u].iloc[0][\"pubmedabstract\"]\n",
    "\n",
    "\n",
    "        data_fake = data_fake.append(fake_records, ignore_index=True)\n",
    "        if len(data_fake) > num_fake_records:\n",
    "            break\n",
    "            \n",
    "    return data_fake\n",
    "  \n",
    "    "
   ]
  },
  {
   "cell_type": "code",
   "execution_count": 9,
   "metadata": {},
   "outputs": [],
   "source": [
    "\n",
    "def generate_negative(data, enity_annotations_file):\n",
    "    from dataformatters.gnormplusPubtatorReader import GnormplusPubtatorReader\n",
    "    from datatransformer.gnormplusNegativeSamplesAugmentor import GnormplusNegativeSamplesAugmentor\n",
    "    from datatransformer.ncbiGeneUniprotLocalDbMapper import NcbiGeneUniprotLocalDbMapper\n",
    "\n",
    "    import os\n",
    "    \n",
    " \n",
    "    localdb = human_idmapping_dat\n",
    "    with open(localdb, \"r\") as dbhandle:\n",
    "        mapper = NcbiGeneUniprotLocalDbMapper(dbhandle, \"GeneID\") \n",
    "            \n",
    "        #Read gnormplus identified entities\n",
    "        reader = GnormplusPubtatorReader()\n",
    "        with open(enity_annotations_file,\"r\") as handle:\n",
    "            annotations_json = list(reader(handle))\n",
    "\n",
    "        negative_samples_generator = GnormplusNegativeSamplesAugmentor(annotations_json, mapper)\n",
    "\n",
    "        result = negative_samples_generator.transform(data)\n",
    "        return result"
   ]
  },
  {
   "cell_type": "markdown",
   "metadata": {},
   "source": [
    "Remove records where the alias is null"
   ]
  },
  {
   "cell_type": "code",
   "execution_count": 10,
   "metadata": {},
   "outputs": [],
   "source": [
    "data_filtered = data_transformed[data_transformed.participant1Alias.notnull()]\n",
    "data_filtered = data_filtered[data_filtered.participant2Alias.notnull()]"
   ]
  },
  {
   "cell_type": "code",
   "execution_count": 11,
   "metadata": {},
   "outputs": [],
   "source": [
    "from sklearn.model_selection import train_test_split\n",
    "train, test = train_test_split(data_filtered, test_size=.2,\n",
    "                                                        random_state=777)\n",
    "\n",
    "train, val = train_test_split(train, test_size=.2,\n",
    "                                                        random_state=777)"
   ]
  },
  {
   "cell_type": "code",
   "execution_count": 12,
   "metadata": {
    "scrolled": true
   },
   "outputs": [
    {
     "name": "stdout",
     "output_type": "stream",
     "text": [
      "The total number of train records including fake records 6628\n"
     ]
    }
   ],
   "source": [
    "train = generate_negative(train, annotations_file)\n",
    "print(\"The total number of train records including fake records {}\".format(train.shape[0]))\n"
   ]
  },
  {
   "cell_type": "code",
   "execution_count": 13,
   "metadata": {},
   "outputs": [
    {
     "name": "stdout",
     "output_type": "stream",
     "text": [
      "The total number of test records including fake records 2718\n",
      "The total number of val records including fake records 2200\n"
     ]
    }
   ],
   "source": [
    "\n",
    "\n",
    "test = generate_negative(test,  annotations_file)\n",
    "print(\"The total number of test records including fake records {}\".format(test.shape[0]))\n",
    "\n",
    "\n",
    "val = generate_negative(val, annotations_file)\n",
    "print(\"The total number of val records including fake records {}\".format(val.shape[0]))"
   ]
  },
  {
   "cell_type": "code",
   "execution_count": 14,
   "metadata": {},
   "outputs": [
    {
     "data": {
      "text/html": [
       "<div>\n",
       "<style scoped>\n",
       "    .dataframe tbody tr th:only-of-type {\n",
       "        vertical-align: middle;\n",
       "    }\n",
       "\n",
       "    .dataframe tbody tr th {\n",
       "        vertical-align: top;\n",
       "    }\n",
       "\n",
       "    .dataframe thead th {\n",
       "        text-align: right;\n",
       "    }\n",
       "</style>\n",
       "<table border=\"1\" class=\"dataframe\">\n",
       "  <thead>\n",
       "    <tr style=\"text-align: right;\">\n",
       "      <th></th>\n",
       "      <th>interactionId</th>\n",
       "      <th>interactionType</th>\n",
       "      <th>isNegative</th>\n",
       "      <th>participant1Alias</th>\n",
       "      <th>participant1Id</th>\n",
       "      <th>participant2Alias</th>\n",
       "      <th>participant2Id</th>\n",
       "      <th>pubmedId</th>\n",
       "      <th>pubmedTitle</th>\n",
       "      <th>pubmedabstract</th>\n",
       "    </tr>\n",
       "  </thead>\n",
       "  <tbody>\n",
       "    <tr>\n",
       "      <th>3063</th>\n",
       "      <td>1215357_30adb9b9-a23d-429a-b607-2b63ac1590f8_f...</td>\n",
       "      <td>dephosphorylation</td>\n",
       "      <td>True</td>\n",
       "      <td>[PTPBR7]</td>\n",
       "      <td>Q7Z2V8</td>\n",
       "      <td>[MEK1]</td>\n",
       "      <td>H3BRW9</td>\n",
       "      <td>10066421</td>\n",
       "      <td>None</td>\n",
       "      <td>Mitogen-activated protein kinase (MAPK) is ina...</td>\n",
       "    </tr>\n",
       "    <tr>\n",
       "      <th>3061</th>\n",
       "      <td>1215357_848c61b2-7e5f-4959-a68b-67e5631c05ce_f...</td>\n",
       "      <td>dephosphorylation</td>\n",
       "      <td>True</td>\n",
       "      <td>[extracellular signal-regulated kinase, ERK2, ...</td>\n",
       "      <td>Q499G7</td>\n",
       "      <td>[ERK1]</td>\n",
       "      <td>Q9BWJ1</td>\n",
       "      <td>10066421</td>\n",
       "      <td>None</td>\n",
       "      <td>Mitogen-activated protein kinase (MAPK) is ina...</td>\n",
       "    </tr>\n",
       "    <tr>\n",
       "      <th>3064</th>\n",
       "      <td>1215357_9a90a5c0-0cd1-4017-b7db-8e3d5887bb7c_f...</td>\n",
       "      <td>dephosphorylation</td>\n",
       "      <td>True</td>\n",
       "      <td>[extracellular signal-regulated kinase, ERK2, ...</td>\n",
       "      <td>Q499G7</td>\n",
       "      <td>[MEK1]</td>\n",
       "      <td>H3BRW9</td>\n",
       "      <td>10066421</td>\n",
       "      <td>None</td>\n",
       "      <td>Mitogen-activated protein kinase (MAPK) is ina...</td>\n",
       "    </tr>\n",
       "    <tr>\n",
       "      <th>3065</th>\n",
       "      <td>1215357_7320de54-1e75-422a-80df-9b6ba42ccaa9_f...</td>\n",
       "      <td>dephosphorylation</td>\n",
       "      <td>True</td>\n",
       "      <td>[PTPBR7]</td>\n",
       "      <td>Q7Z2V8</td>\n",
       "      <td>[NGF, nerve growth factor]</td>\n",
       "      <td>P01138</td>\n",
       "      <td>10066421</td>\n",
       "      <td>None</td>\n",
       "      <td>Mitogen-activated protein kinase (MAPK) is ina...</td>\n",
       "    </tr>\n",
       "    <tr>\n",
       "      <th>3066</th>\n",
       "      <td>1215357_b4914c5d-f946-4f47-849a-d346fc5d518b_f...</td>\n",
       "      <td>dephosphorylation</td>\n",
       "      <td>True</td>\n",
       "      <td>[extracellular signal-regulated kinase, ERK2, ...</td>\n",
       "      <td>Q499G7</td>\n",
       "      <td>[NGF, nerve growth factor]</td>\n",
       "      <td>P01138</td>\n",
       "      <td>10066421</td>\n",
       "      <td>None</td>\n",
       "      <td>Mitogen-activated protein kinase (MAPK) is ina...</td>\n",
       "    </tr>\n",
       "    <tr>\n",
       "      <th>3067</th>\n",
       "      <td>1215357_8ef21c20-55de-443f-b147-99ec4db535b7_f...</td>\n",
       "      <td>dephosphorylation</td>\n",
       "      <td>True</td>\n",
       "      <td>[NGF, nerve growth factor]</td>\n",
       "      <td>P01138</td>\n",
       "      <td>[MEK1]</td>\n",
       "      <td>H3BRW9</td>\n",
       "      <td>10066421</td>\n",
       "      <td>None</td>\n",
       "      <td>Mitogen-activated protein kinase (MAPK) is ina...</td>\n",
       "    </tr>\n",
       "    <tr>\n",
       "      <th>3068</th>\n",
       "      <td>1215357_2cd18222-4734-4266-842b-e01e40c634e2_f...</td>\n",
       "      <td>dephosphorylation</td>\n",
       "      <td>True</td>\n",
       "      <td>[NGF, nerve growth factor]</td>\n",
       "      <td>P01138</td>\n",
       "      <td>[ERK1]</td>\n",
       "      <td>Q9BWJ1</td>\n",
       "      <td>10066421</td>\n",
       "      <td>None</td>\n",
       "      <td>Mitogen-activated protein kinase (MAPK) is ina...</td>\n",
       "    </tr>\n",
       "    <tr>\n",
       "      <th>3069</th>\n",
       "      <td>1215357_04616ca5-4175-4a48-ac85-26c807c7ed88_f...</td>\n",
       "      <td>dephosphorylation</td>\n",
       "      <td>True</td>\n",
       "      <td>[PTPBR7]</td>\n",
       "      <td>Q7Z2V8</td>\n",
       "      <td>[ERK1]</td>\n",
       "      <td>Q9BWJ1</td>\n",
       "      <td>10066421</td>\n",
       "      <td>None</td>\n",
       "      <td>Mitogen-activated protein kinase (MAPK) is ina...</td>\n",
       "    </tr>\n",
       "    <tr>\n",
       "      <th>3070</th>\n",
       "      <td>1215357_b9b068fe-2030-4cb9-99f4-0dbcb12923ce_f...</td>\n",
       "      <td>dephosphorylation</td>\n",
       "      <td>True</td>\n",
       "      <td>[extracellular signal-regulated kinase, ERK2, ...</td>\n",
       "      <td>Q499G7</td>\n",
       "      <td>[PTPBR7]</td>\n",
       "      <td>Q7Z2V8</td>\n",
       "      <td>10066421</td>\n",
       "      <td>None</td>\n",
       "      <td>Mitogen-activated protein kinase (MAPK) is ina...</td>\n",
       "    </tr>\n",
       "    <tr>\n",
       "      <th>5796</th>\n",
       "      <td>1215357</td>\n",
       "      <td>dephosphorylation</td>\n",
       "      <td>false</td>\n",
       "      <td>[[ptprr_mouse], [Receptor-type tyrosine-protei...</td>\n",
       "      <td>Q9QUH9</td>\n",
       "      <td>[[mk03_human], [Mitogen-activated protein kina...</td>\n",
       "      <td>Q8NHX1</td>\n",
       "      <td>10066421</td>\n",
       "      <td>None</td>\n",
       "      <td>Mitogen-activated protein kinase (MAPK) is ina...</td>\n",
       "    </tr>\n",
       "  </tbody>\n",
       "</table>\n",
       "</div>"
      ],
      "text/plain": [
       "                                          interactionId    interactionType  \\\n",
       "3063  1215357_30adb9b9-a23d-429a-b607-2b63ac1590f8_f...  dephosphorylation   \n",
       "3061  1215357_848c61b2-7e5f-4959-a68b-67e5631c05ce_f...  dephosphorylation   \n",
       "3064  1215357_9a90a5c0-0cd1-4017-b7db-8e3d5887bb7c_f...  dephosphorylation   \n",
       "3065  1215357_7320de54-1e75-422a-80df-9b6ba42ccaa9_f...  dephosphorylation   \n",
       "3066  1215357_b4914c5d-f946-4f47-849a-d346fc5d518b_f...  dephosphorylation   \n",
       "3067  1215357_8ef21c20-55de-443f-b147-99ec4db535b7_f...  dephosphorylation   \n",
       "3068  1215357_2cd18222-4734-4266-842b-e01e40c634e2_f...  dephosphorylation   \n",
       "3069  1215357_04616ca5-4175-4a48-ac85-26c807c7ed88_f...  dephosphorylation   \n",
       "3070  1215357_b9b068fe-2030-4cb9-99f4-0dbcb12923ce_f...  dephosphorylation   \n",
       "5796                                            1215357  dephosphorylation   \n",
       "\n",
       "     isNegative                                  participant1Alias  \\\n",
       "3063       True                                           [PTPBR7]   \n",
       "3061       True  [extracellular signal-regulated kinase, ERK2, ...   \n",
       "3064       True  [extracellular signal-regulated kinase, ERK2, ...   \n",
       "3065       True                                           [PTPBR7]   \n",
       "3066       True  [extracellular signal-regulated kinase, ERK2, ...   \n",
       "3067       True                         [NGF, nerve growth factor]   \n",
       "3068       True                         [NGF, nerve growth factor]   \n",
       "3069       True                                           [PTPBR7]   \n",
       "3070       True  [extracellular signal-regulated kinase, ERK2, ...   \n",
       "5796      false  [[ptprr_mouse], [Receptor-type tyrosine-protei...   \n",
       "\n",
       "     participant1Id                                  participant2Alias  \\\n",
       "3063         Q7Z2V8                                             [MEK1]   \n",
       "3061         Q499G7                                             [ERK1]   \n",
       "3064         Q499G7                                             [MEK1]   \n",
       "3065         Q7Z2V8                         [NGF, nerve growth factor]   \n",
       "3066         Q499G7                         [NGF, nerve growth factor]   \n",
       "3067         P01138                                             [MEK1]   \n",
       "3068         P01138                                             [ERK1]   \n",
       "3069         Q7Z2V8                                             [ERK1]   \n",
       "3070         Q499G7                                           [PTPBR7]   \n",
       "5796         Q9QUH9  [[mk03_human], [Mitogen-activated protein kina...   \n",
       "\n",
       "     participant2Id  pubmedId pubmedTitle  \\\n",
       "3063         H3BRW9  10066421        None   \n",
       "3061         Q9BWJ1  10066421        None   \n",
       "3064         H3BRW9  10066421        None   \n",
       "3065         P01138  10066421        None   \n",
       "3066         P01138  10066421        None   \n",
       "3067         H3BRW9  10066421        None   \n",
       "3068         Q9BWJ1  10066421        None   \n",
       "3069         Q9BWJ1  10066421        None   \n",
       "3070         Q7Z2V8  10066421        None   \n",
       "5796         Q8NHX1  10066421        None   \n",
       "\n",
       "                                         pubmedabstract  \n",
       "3063  Mitogen-activated protein kinase (MAPK) is ina...  \n",
       "3061  Mitogen-activated protein kinase (MAPK) is ina...  \n",
       "3064  Mitogen-activated protein kinase (MAPK) is ina...  \n",
       "3065  Mitogen-activated protein kinase (MAPK) is ina...  \n",
       "3066  Mitogen-activated protein kinase (MAPK) is ina...  \n",
       "3067  Mitogen-activated protein kinase (MAPK) is ina...  \n",
       "3068  Mitogen-activated protein kinase (MAPK) is ina...  \n",
       "3069  Mitogen-activated protein kinase (MAPK) is ina...  \n",
       "3070  Mitogen-activated protein kinase (MAPK) is ina...  \n",
       "5796  Mitogen-activated protein kinase (MAPK) is ina...  "
      ]
     },
     "execution_count": 14,
     "metadata": {},
     "output_type": "execute_result"
    }
   ],
   "source": [
    "train.sort_values(by=[\"pubmedId\"]).query(\"interactionType != 'phosphorylation'\").head(n=10)"
   ]
  },
  {
   "cell_type": "code",
   "execution_count": 16,
   "metadata": {},
   "outputs": [
    {
     "data": {
      "image/png": "[encoded data removed]",
      "text/plain": [
       "<Figure size 3240x2160 with 7 Axes>"
      ]
     },
     "metadata": {},
     "output_type": "display_data"
    }
   ],
   "source": [
    "import matplotlib.pyplot as plt\n",
    "fig, ax = plt.subplots( 7,1, figsize=(45,30))\n",
    "train.groupby(['isNegative', 'interactionType']).size().unstack().plot(kind='pie', subplots='True',autopct='%.2f', ax=ax)\n",
    "plt.show()"
   ]
  },
  {
   "cell_type": "code",
   "execution_count": 18,
   "metadata": {},
   "outputs": [
    {
     "data": {
      "image/png": "[encoded data removed]",
      "text/plain": [
       "<Figure size 3240x2160 with 7 Axes>"
      ]
     },
     "metadata": {},
     "output_type": "display_data"
    }
   ],
   "source": [
    "import matplotlib.pyplot as plt\n",
    "fig, ax = plt.subplots( 7,1, figsize=(45,30))\n",
    "val.groupby(['isNegative', 'interactionType']).size().unstack().plot(kind='pie', subplots='True',autopct='%.2f', ax=ax)\n",
    "plt.show()"
   ]
  },
  {
   "cell_type": "code",
   "execution_count": 22,
   "metadata": {},
   "outputs": [
    {
     "data": {
      "text/plain": [
       "<matplotlib.axes._subplots.AxesSubplot at 0x1a15a4fc18>"
      ]
     },
     "execution_count": 22,
     "metadata": {},
     "output_type": "execute_result"
    },
    {
     "data": {
      "image/png": "[encoded data removed]",
      "text/plain": [
       "<Figure size 360x360 with 1 Axes>"
      ]
     },
     "metadata": {},
     "output_type": "display_data"
    }
   ],
   "source": [
    "import matplotlib.pyplot as plt\n",
    "val.isNegative.value_counts().plot.pie(autopct='%.2f',figsize=(5, 5))"
   ]
  },
  {
   "cell_type": "code",
   "execution_count": 17,
   "metadata": {},
   "outputs": [],
   "source": [
    "train.to_json(\"train.json\")\n",
    "test.to_json(\"test.json\")\n",
    "val.to_json(\"val.json\")"
   ]
  }
 ],
 "metadata": {
  "kernelspec": {
   "display_name": "Python 3",
   "language": "python",
   "name": "python3"
  },
  "language_info": {
   "codemirror_mode": {
    "name": "ipython",
    "version": 3
   },
   "file_extension": ".py",
   "mimetype": "text/x-python",
   "name": "python",
   "nbconvert_exporter": "python",
   "pygments_lexer": "ipython3",
   "version": "3.6.4"
  }
 },
 "nbformat": 4,
 "nbformat_minor": 1
}
