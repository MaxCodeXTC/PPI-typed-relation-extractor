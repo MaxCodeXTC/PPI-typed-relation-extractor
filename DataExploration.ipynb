{
 "cells": [
  {
   "cell_type": "markdown",
   "metadata": {
    "collapsed": true
   },
   "source": [
    "## Data Exploration"
   ]
  },
  {
   "cell_type": "code",
   "execution_count": null,
   "metadata": {},
   "outputs": [],
   "source": [
    "\n",
    "s3_bucket_path=\"s3://aegovan-data/human_output/human_keyinteractions.json\"\n"
   ]
  },
  {
   "cell_type": "code",
   "execution_count": null,
   "metadata": {},
   "outputs": [],
   "source": [
    "import boto3\n",
    "\n",
    "def download_single_file(bucket_name_path, local_path):\n",
    "    index = bucket_name_path.find(\"://\")\n",
    "\n",
    "    # remove the s3:// if present\n",
    "    if index > -1:\n",
    "        bucket_name_path = bucket_name_path[index + 3:]\n",
    "\n",
    "    key_start_index = bucket_name_path.find(\"/\")\n",
    "    bucket_name = bucket_name_path\n",
    "    key = \"/\"\n",
    "    if key_start_index > -1:\n",
    "        bucket_name = bucket_name_path[0:key_start_index]\n",
    "        key = bucket_name_path[key_start_index + 1:]\n",
    "        \n",
    "    client = boto3.resource('s3')\n",
    "    client.Bucket(bucket_name).download_file(key, local_path)\n"
   ]
  },
  {
   "cell_type": "code",
   "execution_count": 31,
   "metadata": {},
   "outputs": [],
   "source": [
    "data_file=\"input_data.json\"\n"
   ]
  },
  {
   "cell_type": "code",
   "execution_count": null,
   "metadata": {},
   "outputs": [],
   "source": [
    "download_single_file(s3_bucket_path, data_file)"
   ]
  },
  {
   "cell_type": "code",
   "execution_count": 32,
   "metadata": {},
   "outputs": [
    {
     "name": "stdout",
     "output_type": "stream",
     "text": [
      "Total number of records: 3381\n"
     ]
    }
   ],
   "source": [
    "\n",
    "import pandas as pd\n",
    "\n",
    "data = pd.read_json(data_file)\n",
    "\n",
    "print(\"Total number of records: {}\".format(data.shape[0]))"
   ]
  },
  {
   "cell_type": "markdown",
   "metadata": {},
   "source": [
    "### Sneak preview of the data"
   ]
  },
  {
   "cell_type": "code",
   "execution_count": null,
   "metadata": {},
   "outputs": [],
   "source": [
    "#TODO: Fix data format\n",
    "data[\"pubmedId\"] = data[\"pubmedId\"].astype(str)"
   ]
  },
  {
   "cell_type": "code",
   "execution_count": null,
   "metadata": {},
   "outputs": [],
   "source": [
    "data.head(n=3)"
   ]
  },
  {
   "cell_type": "markdown",
   "metadata": {},
   "source": [
    "### Number of interactions per paper\n",
    "**Note: The number of interactions per paper only takes the filtered interactions extracted from the Intact database**"
   ]
  },
  {
   "cell_type": "code",
   "execution_count": null,
   "metadata": {},
   "outputs": [],
   "source": [
    "import matplotlib.pyplot as plt\n",
    "\n",
    "data.pubmedId.value_counts().hist (bins=50, figsize=(15,5), color = 'red')\n",
    "plt.title('Papers vs number of interactions distribution')\n",
    "plt.xlabel('Number of interactions per paper')\n",
    "plt.ylabel('Total number of papers')\n",
    "\n",
    "plt.show()"
   ]
  },
  {
   "cell_type": "code",
   "execution_count": null,
   "metadata": {},
   "outputs": [],
   "source": [
    "df = data.pubmedId.value_counts().hist (bins=range(1, 30), figsize=(15,5), color = 'red')\n",
    "\n",
    "plt.title('Papers vs number of interactions distribution ( Filtered distribution of interactions between 1 to 30)')\n",
    "plt.xlabel('Number of interactions per paper')\n",
    "plt.ylabel('Total number of interactions')\n",
    "\n",
    "plt.show()"
   ]
  },
  {
   "cell_type": "markdown",
   "metadata": {},
   "source": [
    "### Filter out interactions from paper with more than 15 interactions"
   ]
  },
  {
   "cell_type": "code",
   "execution_count": null,
   "metadata": {},
   "outputs": [],
   "source": [
    "pubmed_interaction_count = data.pubmedId.value_counts().to_frame().rename(columns={\"pubmedId\":\"interactionCountPerPubmed\"})\n"
   ]
  },
  {
   "cell_type": "code",
   "execution_count": null,
   "metadata": {},
   "outputs": [],
   "source": [
    "interactions_count= pd.DataFrame()\n",
    "data[\"lessThanThreshold\"] = data.apply(lambda r: r[\"pubmedId\"] in  pubmed_interaction_count.query('interactionCountPerPubmed <= 15').index , 1)\n",
    "\n",
    "\n",
    "data.lessThanThreshold.value_counts().plot.pie(autopct='%.2f',figsize=(5, 5))\n",
    "plt.title('Has more than 15 interactions')\n",
    "plt.show()"
   ]
  },
  {
   "cell_type": "code",
   "execution_count": null,
   "metadata": {},
   "outputs": [],
   "source": [
    "data = data.query(\"lessThanThreshold == 1\")"
   ]
  },
  {
   "cell_type": "code",
   "execution_count": null,
   "metadata": {},
   "outputs": [],
   "source": [
    "print(\"Total number of records after filter: {}\".format(data.shape[0]))"
   ]
  },
  {
   "cell_type": "markdown",
   "metadata": {},
   "source": [
    "### Interaction Types distribution"
   ]
  },
  {
   "cell_type": "code",
   "execution_count": null,
   "metadata": {},
   "outputs": [],
   "source": [
    "data.interactionType.value_counts().plot.pie(autopct='%.2f',figsize=(5, 5))\n",
    "plt.title('Interaction Type Distribution')\n",
    "plt.show()"
   ]
  },
  {
   "cell_type": "code",
   "execution_count": null,
   "metadata": {},
   "outputs": [],
   "source": [
    "data.interactionType.value_counts().to_frame()"
   ]
  },
  {
   "cell_type": "markdown",
   "metadata": {},
   "source": [
    "### Distinct interaction types per paper"
   ]
  },
  {
   "cell_type": "code",
   "execution_count": null,
   "metadata": {},
   "outputs": [],
   "source": [
    "distinct_no_papers = data['pubmedId'].nunique()\n",
    "data.groupby('pubmedId')['interactionType'].nunique().hist(bins=100)\n",
    "plt.title(\"Number of unique interactions per paper\")\n",
    "plt.xlabel('Number of interactions')\n",
    "plt.ylabel('Number of papers (total is {})'.format(distinct_no_papers))\n",
    "plt.show()"
   ]
  },
  {
   "cell_type": "markdown",
   "metadata": {},
   "source": [
    "### Postive vs Negative Relationships"
   ]
  },
  {
   "cell_type": "code",
   "execution_count": null,
   "metadata": {},
   "outputs": [],
   "source": [
    "data.isNegative.value_counts().plot.pie(autopct='%.2f',figsize=(5, 5))\n",
    "plt.title('Is Negtive relationship')\n",
    "plt.show()"
   ]
  },
  {
   "cell_type": "markdown",
   "metadata": {},
   "source": [
    "### Number of participants per interaction"
   ]
  },
  {
   "cell_type": "code",
   "execution_count": null,
   "metadata": {},
   "outputs": [],
   "source": [
    "data[\"participants\"].apply(lambda x: len(x)).hist (bins=50, figsize=(5,5), color = 'green')\n",
    "plt.title(\"Participants count per interaction\")\n",
    "plt.show()"
   ]
  },
  {
   "cell_type": "markdown",
   "metadata": {},
   "source": [
    "### Explore if the abstract contains the trigger word"
   ]
  },
  {
   "cell_type": "code",
   "execution_count": null,
   "metadata": {},
   "outputs": [],
   "source": [
    "data[\"hasTriggerWord\"] = data.apply(lambda r: r[\"interactionType\"].lower() in r[\"pubmedabstract\"].lower() , 1)"
   ]
  },
  {
   "cell_type": "code",
   "execution_count": null,
   "metadata": {},
   "outputs": [],
   "source": [
    "data.hasTriggerWord.value_counts().plot.pie(autopct='%.2f',figsize=(5, 5))\n",
    "plt.title('Has trigger word')\n",
    "plt.show()"
   ]
  },
  {
   "cell_type": "code",
   "execution_count": null,
   "metadata": {},
   "outputs": [],
   "source": [
    "fig, ax = plt.subplots( 7,1, figsize=(45,30))\n",
    "data.groupby(['hasTriggerWord', 'interactionType']).size().unstack().plot(kind='pie', subplots='True',autopct='%.2f', ax=ax)\n",
    "plt.show()"
   ]
  },
  {
   "cell_type": "markdown",
   "metadata": {},
   "source": [
    "### Explore how many of the entity alias are mentioned in the abstract"
   ]
  },
  {
   "cell_type": "code",
   "execution_count": null,
   "metadata": {},
   "outputs": [],
   "source": [
    "%%time \n",
    "\n",
    "from difflib import SequenceMatcher\n",
    "def getEntityMentionsCount(r):\n",
    "    count = 0\n",
    "    abstract = r[\"pubmedabstract\"].lower()\n",
    "    abstract_len= len(abstract)\n",
    "    for p in r[\"participants\"]:\n",
    "        if p is None or p['alias'] is None : continue\n",
    "        \n",
    "        for a in p['alias']:\n",
    "            alias = a[0].lower()\n",
    "            s = SequenceMatcher(None, abstract, alias)\n",
    "            _,_,match_size = s.find_longest_match(0, len(abstract), 0, len(alias))\n",
    "            if match_size >= 3 and match_size >= len(alias)/2 :\n",
    "                count += 1\n",
    "        \n",
    "    return count\n",
    "        \n",
    "\n",
    "data[\"entityMentionsCount\"] = data.apply(lambda r: getEntityMentionsCount(r)  , 1)"
   ]
  },
  {
   "cell_type": "code",
   "execution_count": null,
   "metadata": {},
   "outputs": [],
   "source": [
    "data['entityMentionsCount'].hist ( bins=150, figsize=(15,5), color = 'red')\n",
    "plt.title('Entity mentions count distribution')\n",
    "plt.xlabel('Entity name mentions count in abstract')\n",
    "plt.ylabel('Total number of interactions')\n",
    "\n",
    "plt.show()"
   ]
  },
  {
   "cell_type": "code",
   "execution_count": null,
   "metadata": {},
   "outputs": [],
   "source": [
    "(data['entityMentionsCount'] > 0).value_counts().plot.pie(autopct='%.2f')\n",
    "plt.title(\"Percentage of interactions with entity mentions \")\n",
    "plt.ylabel(\"Entity mentions > 0\")\n",
    "plt.show()"
   ]
  },
  {
   "cell_type": "markdown",
   "metadata": {},
   "source": [
    "### Randomly eye ball interactions with no entity mentions"
   ]
  },
  {
   "cell_type": "code",
   "execution_count": null,
   "metadata": {},
   "outputs": [],
   "source": [
    "\n",
    "pd.set_option('display.max_columns', None)\n",
    "pd.set_option('display.max_colwidth', 10000)\n",
    "pd.set_option('display.max_rows', 100)\n",
    "\n",
    "data.query('entityMentionsCount == 0')[['participants','pubmedabstract' ]].sample(n=10)\n"
   ]
  },
  {
   "cell_type": "code",
   "execution_count": null,
   "metadata": {},
   "outputs": [],
   "source": [
    "data.head(n=10)"
   ]
  },
  {
   "cell_type": "markdown",
   "metadata": {},
   "source": [
    "### Data Transformation"
   ]
  },
  {
   "cell_type": "code",
   "execution_count": 41,
   "metadata": {},
   "outputs": [],
   "source": [
    "from datatransformer.jsonPPIFlattenTransformer import IntactJsonPpiFlattenTransformer\n",
    " \n",
    "\n",
    "sut = IntactJsonPpiFlattenTransformer()\n",
    "\n",
    "data_transformed = sut.transform(data)\n"
   ]
  },
  {
   "cell_type": "code",
   "execution_count": 42,
   "metadata": {
    "scrolled": true
   },
   "outputs": [
    {
     "data": {
      "text/html": [
       "<div>\n",
       "<style scoped>\n",
       "    .dataframe tbody tr th:only-of-type {\n",
       "        vertical-align: middle;\n",
       "    }\n",
       "\n",
       "    .dataframe tbody tr th {\n",
       "        vertical-align: top;\n",
       "    }\n",
       "\n",
       "    .dataframe thead th {\n",
       "        text-align: right;\n",
       "    }\n",
       "</style>\n",
       "<table border=\"1\" class=\"dataframe\">\n",
       "  <thead>\n",
       "    <tr style=\"text-align: right;\">\n",
       "      <th></th>\n",
       "      <th>destAlias</th>\n",
       "      <th>destUnitprot</th>\n",
       "      <th>interactionId</th>\n",
       "      <th>interactionType</th>\n",
       "      <th>isNegative</th>\n",
       "      <th>pubmedId</th>\n",
       "      <th>pubmedTitle</th>\n",
       "      <th>pubmedabstract</th>\n",
       "      <th>sourceAlias</th>\n",
       "      <th>sourceUniprot</th>\n",
       "    </tr>\n",
       "  </thead>\n",
       "  <tbody>\n",
       "    <tr>\n",
       "      <th>0</th>\n",
       "      <td>[[ksyk_human], [Tyrosine-protein kinase SYK], ...</td>\n",
       "      <td>P43405</td>\n",
       "      <td>2503510</td>\n",
       "      <td>phosphorylation</td>\n",
       "      <td>false</td>\n",
       "      <td>25605870</td>\n",
       "      <td>None</td>\n",
       "      <td>NLRP3 is the most crucial member of the NLR fa...</td>\n",
       "      <td>[[ksyk_human], [Tyrosine-protein kinase SYK], ...</td>\n",
       "      <td>P43405</td>\n",
       "    </tr>\n",
       "    <tr>\n",
       "      <th>1</th>\n",
       "      <td>[[asc_human], [Apoptosis-associated speck-like...</td>\n",
       "      <td>Q9BSZ5</td>\n",
       "      <td>2503513</td>\n",
       "      <td>phosphorylation</td>\n",
       "      <td>false</td>\n",
       "      <td>25605870</td>\n",
       "      <td>None</td>\n",
       "      <td>NLRP3 is the most crucial member of the NLR fa...</td>\n",
       "      <td>[[ksyk_human], [Tyrosine-protein kinase SYK], ...</td>\n",
       "      <td>P43405</td>\n",
       "    </tr>\n",
       "  </tbody>\n",
       "</table>\n",
       "</div>"
      ],
      "text/plain": [
       "                                           destAlias destUnitprot  \\\n",
       "0  [[ksyk_human], [Tyrosine-protein kinase SYK], ...       P43405   \n",
       "1  [[asc_human], [Apoptosis-associated speck-like...       Q9BSZ5   \n",
       "\n",
       "   interactionId  interactionType isNegative  pubmedId pubmedTitle  \\\n",
       "0        2503510  phosphorylation      false  25605870        None   \n",
       "1        2503513  phosphorylation      false  25605870        None   \n",
       "\n",
       "                                      pubmedabstract  \\\n",
       "0  NLRP3 is the most crucial member of the NLR fa...   \n",
       "1  NLRP3 is the most crucial member of the NLR fa...   \n",
       "\n",
       "                                         sourceAlias sourceUniprot  \n",
       "0  [[ksyk_human], [Tyrosine-protein kinase SYK], ...        P43405  \n",
       "1  [[ksyk_human], [Tyrosine-protein kinase SYK], ...        P43405  "
      ]
     },
     "execution_count": 42,
     "metadata": {},
     "output_type": "execute_result"
    }
   ],
   "source": [
    "data_transformed.head(n=2)"
   ]
  },
  {
   "cell_type": "code",
   "execution_count": 43,
   "metadata": {},
   "outputs": [
    {
     "data": {
      "text/plain": [
       "(5510, 10)"
      ]
     },
     "execution_count": 43,
     "metadata": {},
     "output_type": "execute_result"
    }
   ],
   "source": [
    "data_transformed.shape"
   ]
  },
  {
   "cell_type": "markdown",
   "metadata": {},
   "source": [
    "Okay.. looks like it is only a case of the names of the participants not matching the names of the alias used in the abstract.. "
   ]
  },
  {
   "cell_type": "markdown",
   "metadata": {},
   "source": [
    "### Data Engineering"
   ]
  },
  {
   "cell_type": "markdown",
   "metadata": {},
   "source": [
    "#### Add more negative samples"
   ]
  },
  {
   "cell_type": "code",
   "execution_count": 35,
   "metadata": {},
   "outputs": [],
   "source": [
    "\n",
    "def generate_negative(data):\n",
    "    import uuid\n",
    "    unique_pubmeds = data[\"pubmedId\"].unique()\n",
    "    data_fake = pd.DataFrame(columns=data.columns)\n",
    "\n",
    "    num_fake_records = int( .50 * len(data))\n",
    "    #TODO: Randomise this, biased via\n",
    "    for u in unique_pubmeds:\n",
    "        fake_records = pd.DataFrame(data[ data.pubmedId != u]  ).sample(n=1) \n",
    "        fake_records.loc[:, \"interactionId\"] =  fake_records.interactionId.astype(str) + \"_\" + str(uuid.uuid4() ) + \"_\" + \"fake\"\n",
    "        fake_records.loc[:,\"isNegative\"] = 'True' \n",
    "        ## Copy of the pubmeid abtract and the title from a id\n",
    "        fake_records.loc[:,\"pubmedId\"] = u\n",
    "        fake_records.loc[:, \"pubmedTitle\"] =  data[ data.pubmedId == u].iloc[0][\"pubmedTitle\"]\n",
    "        fake_records.loc[:, \"pubmedabstract\"] =  data[ data.pubmedId == u].iloc[0][\"pubmedabstract\"]\n",
    "\n",
    "\n",
    "        data_fake = data_fake.append(fake_records, ignore_index=True)\n",
    "        if len(data_fake) > num_fake_records:\n",
    "            break\n",
    "            \n",
    "    return data_fake\n",
    "  \n",
    "    "
   ]
  },
  {
   "cell_type": "code",
   "execution_count": 45,
   "metadata": {},
   "outputs": [],
   "source": [
    "data_filtered = data_transformed[data_transformed.sourceAlias.notnull()]\n",
    "data_filtered = data_filtered[data_filtered.destAlias.notnull()]"
   ]
  },
  {
   "cell_type": "code",
   "execution_count": 46,
   "metadata": {},
   "outputs": [],
   "source": [
    "from sklearn.model_selection import train_test_split\n",
    "train, test = train_test_split(data_filtered, test_size=.2,\n",
    "                                                        random_state=777)\n",
    "\n",
    "train, val = train_test_split(train, test_size=.2,\n",
    "                                                        random_state=777)"
   ]
  },
  {
   "cell_type": "code",
   "execution_count": 47,
   "metadata": {},
   "outputs": [
    {
     "name": "stdout",
     "output_type": "stream",
     "text": [
      "The total number of train records including fake records 3745\n",
      "The total number of test records including fake records 1285\n",
      "The total number of test records including fake records 1565\n"
     ]
    }
   ],
   "source": [
    "train = train.append(generate_negative(train), ignore_index=True)\n",
    "print(\"The total number of train records including fake records {}\".format(train.shape[0]))\n",
    "\n",
    "\n",
    "test = test.append(generate_negative(test), ignore_index=True)\n",
    "print(\"The total number of test records including fake records {}\".format(test.shape[0]))\n",
    "\n",
    "\n",
    "val = test.append(generate_negative(val), ignore_index=True)\n",
    "print(\"The total number of val records including fake records {}\".format(val.shape[0]))"
   ]
  },
  {
   "cell_type": "code",
   "execution_count": 48,
   "metadata": {},
   "outputs": [
    {
     "data": {
      "text/html": [
       "<div>\n",
       "<style scoped>\n",
       "    .dataframe tbody tr th:only-of-type {\n",
       "        vertical-align: middle;\n",
       "    }\n",
       "\n",
       "    .dataframe tbody tr th {\n",
       "        vertical-align: top;\n",
       "    }\n",
       "\n",
       "    .dataframe thead th {\n",
       "        text-align: right;\n",
       "    }\n",
       "</style>\n",
       "<table border=\"1\" class=\"dataframe\">\n",
       "  <thead>\n",
       "    <tr style=\"text-align: right;\">\n",
       "      <th></th>\n",
       "      <th>destAlias</th>\n",
       "      <th>destUnitprot</th>\n",
       "      <th>interactionId</th>\n",
       "      <th>interactionType</th>\n",
       "      <th>isNegative</th>\n",
       "      <th>pubmedId</th>\n",
       "      <th>pubmedTitle</th>\n",
       "      <th>pubmedabstract</th>\n",
       "      <th>sourceAlias</th>\n",
       "      <th>sourceUniprot</th>\n",
       "    </tr>\n",
       "  </thead>\n",
       "  <tbody>\n",
       "    <tr>\n",
       "      <th>3396</th>\n",
       "      <td>[[ub2v1_human], [Ubiquitin-conjugating enzyme ...</td>\n",
       "      <td>Q9UM48</td>\n",
       "      <td>1572512_b8163f77-b235-4d1f-bad0-7b372b4c4663_fake</td>\n",
       "      <td>ubiquitination</td>\n",
       "      <td>True</td>\n",
       "      <td>2153075</td>\n",
       "      <td>None</td>\n",
       "      <td>Some genital human papillomavirus (HPV) types,...</td>\n",
       "      <td>[[uba1_human], [Ubiquitin-like modifier-activa...</td>\n",
       "      <td>Q5JRR8</td>\n",
       "    </tr>\n",
       "    <tr>\n",
       "      <th>3446</th>\n",
       "      <td>[[ptprc_human], [Receptor-type tyrosine-protei...</td>\n",
       "      <td>A0A0A0MT22</td>\n",
       "      <td>824757_e3375c3d-9bc9-46ec-a486-f2df515dda3b_fake</td>\n",
       "      <td>dephosphorylation</td>\n",
       "      <td>True</td>\n",
       "      <td>7514173</td>\n",
       "      <td>None</td>\n",
       "      <td>The enzyme glycogen synthase kinase-3 (GSK-3) ...</td>\n",
       "      <td>[[ntrk1_human], [High affinity nerve growth fa...</td>\n",
       "      <td>B7ZM34</td>\n",
       "    </tr>\n",
       "    <tr>\n",
       "      <th>1140</th>\n",
       "      <td>[[ptn1_human], [Tyrosine-protein phosphatase n...</td>\n",
       "      <td>Q5TGD8</td>\n",
       "      <td>794415</td>\n",
       "      <td>dephosphorylation</td>\n",
       "      <td>false</td>\n",
       "      <td>7514173</td>\n",
       "      <td>None</td>\n",
       "      <td>The enzyme glycogen synthase kinase-3 (GSK-3) ...</td>\n",
       "      <td>[[gsk3b_human], [Glycogen synthase kinase-3 be...</td>\n",
       "      <td>Q9UL47</td>\n",
       "    </tr>\n",
       "    <tr>\n",
       "      <th>3575</th>\n",
       "      <td>[[met_human], [Hepatocyte growth factor recept...</td>\n",
       "      <td>Q9UDX7</td>\n",
       "      <td>1242450_09ee024d-a7ea-4716-b092-d07763af1941_fake</td>\n",
       "      <td>dephosphorylation</td>\n",
       "      <td>True</td>\n",
       "      <td>7539106</td>\n",
       "      <td>None</td>\n",
       "      <td>Its reactivity to the antiphosphotyrosine 4G10...</td>\n",
       "      <td>[[ppbi_bovin], [Intestinal-type alkaline phosp...</td>\n",
       "      <td>Q28124</td>\n",
       "    </tr>\n",
       "    <tr>\n",
       "      <th>1903</th>\n",
       "      <td>[[ptn6_human], [Tyrosine-protein phosphatase n...</td>\n",
       "      <td>G3V0F8</td>\n",
       "      <td>794427</td>\n",
       "      <td>dephosphorylation</td>\n",
       "      <td>false</td>\n",
       "      <td>7539106</td>\n",
       "      <td>None</td>\n",
       "      <td>Its reactivity to the antiphosphotyrosine 4G10...</td>\n",
       "      <td>[[esr1_human], [Estrogen receptor], [ESR1], [E...</td>\n",
       "      <td>Q14276</td>\n",
       "    </tr>\n",
       "    <tr>\n",
       "      <th>3430</th>\n",
       "      <td>[[ub2v1_human], [Ubiquitin-conjugating enzyme ...</td>\n",
       "      <td>Q9UM48</td>\n",
       "      <td>1572642_5e53acd2-aff5-40c8-94a2-f3b17ffe8faa_fake</td>\n",
       "      <td>ubiquitination</td>\n",
       "      <td>True</td>\n",
       "      <td>7685104</td>\n",
       "      <td>None</td>\n",
       "      <td>The substrate specificity of a recombinant pro...</td>\n",
       "      <td>[[ube2n_human], [Ubiquitin-conjugating enzyme ...</td>\n",
       "      <td>Q16781</td>\n",
       "    </tr>\n",
       "    <tr>\n",
       "      <th>3255</th>\n",
       "      <td>[[kdm4a_human], [Lysine-specific demethylase 4...</td>\n",
       "      <td>Q5VVB1</td>\n",
       "      <td>680731_fc27a4e4-17f5-4460-bbf7-784bb8a153fc_fake</td>\n",
       "      <td>demethylation</td>\n",
       "      <td>True</td>\n",
       "      <td>7782287</td>\n",
       "      <td>None</td>\n",
       "      <td>Mammalian pyruvate dehydrogenase (alpha 2 beta...</td>\n",
       "      <td>[[h31t_human], [Histone H3.1t], [HIST3H3], [H3...</td>\n",
       "      <td>B2R5K3</td>\n",
       "    </tr>\n",
       "    <tr>\n",
       "      <th>720</th>\n",
       "      <td>[[pdp1_human], [[Pyruvate dehydrogenase [acety...</td>\n",
       "      <td>B3KX71</td>\n",
       "      <td>1242866</td>\n",
       "      <td>dephosphorylation</td>\n",
       "      <td>false</td>\n",
       "      <td>7782287</td>\n",
       "      <td>None</td>\n",
       "      <td>Mammalian pyruvate dehydrogenase (alpha 2 beta...</td>\n",
       "      <td>[[odpa_human], [Pyruvate dehydrogenase E1 comp...</td>\n",
       "      <td>Q9UBJ8</td>\n",
       "    </tr>\n",
       "    <tr>\n",
       "      <th>3375</th>\n",
       "      <td>[[csk_human], [Tyrosine-protein kinase CSK], [...</td>\n",
       "      <td>Q6FGZ6</td>\n",
       "      <td>824736_2b6fdf50-22bd-4df7-bff9-a56d4e963a10_fake</td>\n",
       "      <td>dephosphorylation</td>\n",
       "      <td>True</td>\n",
       "      <td>8114715</td>\n",
       "      <td>None</td>\n",
       "      <td>The phosphorylation and dephosphorylation of p...</td>\n",
       "      <td>[[ptprc_human], [Receptor-type tyrosine-protei...</td>\n",
       "      <td>A0A0A0MT22</td>\n",
       "    </tr>\n",
       "    <tr>\n",
       "      <th>3439</th>\n",
       "      <td>[[cop1_arath], [E3 ubiquitin-protein ligase CO...</td>\n",
       "      <td>O23975</td>\n",
       "      <td>699351_b07c44ea-0efa-4fa8-95b2-dfa5c1dc7f2e_fake</td>\n",
       "      <td>ubiquitination</td>\n",
       "      <td>True</td>\n",
       "      <td>8521818</td>\n",
       "      <td>None</td>\n",
       "      <td>It is proposed that the CDK7-cyclin H complex ...</td>\n",
       "      <td>[[hfr1_arath], [Transcription factor HFR1], [T...</td>\n",
       "      <td>Q9FZ26</td>\n",
       "    </tr>\n",
       "  </tbody>\n",
       "</table>\n",
       "</div>"
      ],
      "text/plain": [
       "                                              destAlias destUnitprot  \\\n",
       "3396  [[ub2v1_human], [Ubiquitin-conjugating enzyme ...       Q9UM48   \n",
       "3446  [[ptprc_human], [Receptor-type tyrosine-protei...   A0A0A0MT22   \n",
       "1140  [[ptn1_human], [Tyrosine-protein phosphatase n...       Q5TGD8   \n",
       "3575  [[met_human], [Hepatocyte growth factor recept...       Q9UDX7   \n",
       "1903  [[ptn6_human], [Tyrosine-protein phosphatase n...       G3V0F8   \n",
       "3430  [[ub2v1_human], [Ubiquitin-conjugating enzyme ...       Q9UM48   \n",
       "3255  [[kdm4a_human], [Lysine-specific demethylase 4...       Q5VVB1   \n",
       "720   [[pdp1_human], [[Pyruvate dehydrogenase [acety...       B3KX71   \n",
       "3375  [[csk_human], [Tyrosine-protein kinase CSK], [...       Q6FGZ6   \n",
       "3439  [[cop1_arath], [E3 ubiquitin-protein ligase CO...       O23975   \n",
       "\n",
       "                                          interactionId    interactionType  \\\n",
       "3396  1572512_b8163f77-b235-4d1f-bad0-7b372b4c4663_fake     ubiquitination   \n",
       "3446   824757_e3375c3d-9bc9-46ec-a486-f2df515dda3b_fake  dephosphorylation   \n",
       "1140                                             794415  dephosphorylation   \n",
       "3575  1242450_09ee024d-a7ea-4716-b092-d07763af1941_fake  dephosphorylation   \n",
       "1903                                             794427  dephosphorylation   \n",
       "3430  1572642_5e53acd2-aff5-40c8-94a2-f3b17ffe8faa_fake     ubiquitination   \n",
       "3255   680731_fc27a4e4-17f5-4460-bbf7-784bb8a153fc_fake      demethylation   \n",
       "720                                             1242866  dephosphorylation   \n",
       "3375   824736_2b6fdf50-22bd-4df7-bff9-a56d4e963a10_fake  dephosphorylation   \n",
       "3439   699351_b07c44ea-0efa-4fa8-95b2-dfa5c1dc7f2e_fake     ubiquitination   \n",
       "\n",
       "     isNegative pubmedId pubmedTitle  \\\n",
       "3396       True  2153075        None   \n",
       "3446       True  7514173        None   \n",
       "1140      false  7514173        None   \n",
       "3575       True  7539106        None   \n",
       "1903      false  7539106        None   \n",
       "3430       True  7685104        None   \n",
       "3255       True  7782287        None   \n",
       "720       false  7782287        None   \n",
       "3375       True  8114715        None   \n",
       "3439       True  8521818        None   \n",
       "\n",
       "                                         pubmedabstract  \\\n",
       "3396  Some genital human papillomavirus (HPV) types,...   \n",
       "3446  The enzyme glycogen synthase kinase-3 (GSK-3) ...   \n",
       "1140  The enzyme glycogen synthase kinase-3 (GSK-3) ...   \n",
       "3575  Its reactivity to the antiphosphotyrosine 4G10...   \n",
       "1903  Its reactivity to the antiphosphotyrosine 4G10...   \n",
       "3430  The substrate specificity of a recombinant pro...   \n",
       "3255  Mammalian pyruvate dehydrogenase (alpha 2 beta...   \n",
       "720   Mammalian pyruvate dehydrogenase (alpha 2 beta...   \n",
       "3375  The phosphorylation and dephosphorylation of p...   \n",
       "3439  It is proposed that the CDK7-cyclin H complex ...   \n",
       "\n",
       "                                            sourceAlias sourceUniprot  \n",
       "3396  [[uba1_human], [Ubiquitin-like modifier-activa...        Q5JRR8  \n",
       "3446  [[ntrk1_human], [High affinity nerve growth fa...        B7ZM34  \n",
       "1140  [[gsk3b_human], [Glycogen synthase kinase-3 be...        Q9UL47  \n",
       "3575  [[ppbi_bovin], [Intestinal-type alkaline phosp...        Q28124  \n",
       "1903  [[esr1_human], [Estrogen receptor], [ESR1], [E...        Q14276  \n",
       "3430  [[ube2n_human], [Ubiquitin-conjugating enzyme ...        Q16781  \n",
       "3255  [[h31t_human], [Histone H3.1t], [HIST3H3], [H3...        B2R5K3  \n",
       "720   [[odpa_human], [Pyruvate dehydrogenase E1 comp...        Q9UBJ8  \n",
       "3375  [[ptprc_human], [Receptor-type tyrosine-protei...    A0A0A0MT22  \n",
       "3439  [[hfr1_arath], [Transcription factor HFR1], [T...        Q9FZ26  "
      ]
     },
     "execution_count": 48,
     "metadata": {},
     "output_type": "execute_result"
    }
   ],
   "source": [
    "train.sort_values(by=[\"pubmedId\"]).query(\"interactionType != 'phosphorylation'\").head(n=10)"
   ]
  },
  {
   "cell_type": "code",
   "execution_count": 49,
   "metadata": {},
   "outputs": [
    {
     "data": {
      "image/png": "[encoded data removed]",
      "text/plain": [
       "<Figure size 3240x2160 with 7 Axes>"
      ]
     },
     "metadata": {},
     "output_type": "display_data"
    }
   ],
   "source": [
    "import matplotlib.pyplot as plt\n",
    "fig, ax = plt.subplots( 7,1, figsize=(45,30))\n",
    "train.groupby(['isNegative', 'interactionType']).size().unstack().plot(kind='pie', subplots='True',autopct='%.2f', ax=ax)\n",
    "plt.show()"
   ]
  },
  {
   "cell_type": "code",
   "execution_count": 50,
   "metadata": {},
   "outputs": [],
   "source": [
    "train.to_json(\"train.json\")\n",
    "test.to_json(\"test.json\")\n",
    "val.to_json(\"val.json\")"
   ]
  }
 ],
 "metadata": {
  "kernelspec": {
   "display_name": "Python 3",
   "language": "python",
   "name": "python3"
  }
 },
 "nbformat": 4,
 "nbformat_minor": 1
}
