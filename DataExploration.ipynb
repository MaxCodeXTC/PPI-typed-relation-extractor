{
 "cells": [
  {
   "cell_type": "markdown",
   "metadata": {
    "collapsed": true
   },
   "source": [
    "## Data Exploration"
   ]
  },
  {
   "cell_type": "code",
   "execution_count": 12,
   "metadata": {},
   "outputs": [],
   "source": [
    "\n",
    "s3_data =\"s3://aegovan-data/human_output/human_keyinteractions.json\"\n",
    "s3_annotations =\"s3://aegovan-data/input_data_pubtator_annotated.txt\"\n",
    "human_idmapping_dat = \"/Users/aeg/Downloads/HUMAN_9606_idmapping.dat\""
   ]
  },
  {
   "cell_type": "code",
   "execution_count": null,
   "metadata": {},
   "outputs": [],
   "source": [
    "import boto3\n",
    "\n",
    "def download_single_file(bucket_name_path, local_path):\n",
    "    index = bucket_name_path.find(\"://\")\n",
    "\n",
    "    # remove the s3:// if present\n",
    "    if index > -1:\n",
    "        bucket_name_path = bucket_name_path[index + 3:]\n",
    "\n",
    "    key_start_index = bucket_name_path.find(\"/\")\n",
    "    bucket_name = bucket_name_path\n",
    "    key = \"/\"\n",
    "    if key_start_index > -1:\n",
    "        bucket_name = bucket_name_path[0:key_start_index]\n",
    "        key = bucket_name_path[key_start_index + 1:]\n",
    "        \n",
    "    client = boto3.resource('s3')\n",
    "    client.Bucket(bucket_name).download_file(key, local_path)\n"
   ]
  },
  {
   "cell_type": "code",
   "execution_count": 28,
   "metadata": {},
   "outputs": [],
   "source": [
    "data_file=\"input_data.json\"\n",
    "annotations_file=\"input_data_annotations.txt\""
   ]
  },
  {
   "cell_type": "code",
   "execution_count": 6,
   "metadata": {},
   "outputs": [
    {
     "ename": "NameError",
     "evalue": "name 'download_single_file' is not defined",
     "output_type": "error",
     "traceback": [
      "\u001b[0;31m---------------------------------------------------------------------------\u001b[0m",
      "\u001b[0;31mNameError\u001b[0m                                 Traceback (most recent call last)",
      "\u001b[0;32m<ipython-input-6-9315df309985>\u001b[0m in \u001b[0;36m<module>\u001b[0;34m()\u001b[0m\n\u001b[0;32m----> 1\u001b[0;31m \u001b[0mdownload_single_file\u001b[0m\u001b[0;34m(\u001b[0m\u001b[0ms3_data\u001b[0m\u001b[0;34m,\u001b[0m \u001b[0mdata_file\u001b[0m\u001b[0;34m)\u001b[0m\u001b[0;34m\u001b[0m\u001b[0m\n\u001b[0m",
      "\u001b[0;31mNameError\u001b[0m: name 'download_single_file' is not defined"
     ]
    }
   ],
   "source": [
    "download_single_file(s3_data, data_file)"
   ]
  },
  {
   "cell_type": "code",
   "execution_count": null,
   "metadata": {},
   "outputs": [],
   "source": [
    "download_single_file(s3_annotations, annotations_file)"
   ]
  },
  {
   "cell_type": "code",
   "execution_count": 29,
   "metadata": {},
   "outputs": [
    {
     "name": "stdout",
     "output_type": "stream",
     "text": [
      "Total number of records: 3381\n"
     ]
    }
   ],
   "source": [
    "\n",
    "import pandas as pd\n",
    "\n",
    "data = pd.read_json(data_file)\n",
    "\n",
    "print(\"Total number of records: {}\".format(data.shape[0]))"
   ]
  },
  {
   "cell_type": "code",
   "execution_count": 8,
   "metadata": {},
   "outputs": [],
   "source": [
    "\n",
    "pd.set_option('display.max_columns', None)\n",
    "pd.set_option('display.max_colwidth', 10000)\n",
    "pd.set_option('display.max_rows', 100)"
   ]
  },
  {
   "cell_type": "markdown",
   "metadata": {},
   "source": [
    "### Sneak preview of the data"
   ]
  },
  {
   "cell_type": "code",
   "execution_count": 30,
   "metadata": {},
   "outputs": [],
   "source": [
    "#TODO: Fix data format\n",
    "data[\"pubmedId\"] = data[\"pubmedId\"].astype(str)\n",
    "data[\"interactionId\"] = data[\"interactionId\"].astype(str)\n",
    "data[\"isNegative\"] = data.isNegative.isin(['true', '1', 'True'])"
   ]
  },
  {
   "cell_type": "code",
   "execution_count": 31,
   "metadata": {},
   "outputs": [
    {
     "data": {
      "text/html": [
       "<div>\n",
       "<style scoped>\n",
       "    .dataframe tbody tr th:only-of-type {\n",
       "        vertical-align: middle;\n",
       "    }\n",
       "\n",
       "    .dataframe tbody tr th {\n",
       "        vertical-align: top;\n",
       "    }\n",
       "\n",
       "    .dataframe thead th {\n",
       "        text-align: right;\n",
       "    }\n",
       "</style>\n",
       "<table border=\"1\" class=\"dataframe\">\n",
       "  <thead>\n",
       "    <tr style=\"text-align: right;\">\n",
       "      <th></th>\n",
       "      <th>interactionId</th>\n",
       "      <th>interactionType</th>\n",
       "      <th>isNegative</th>\n",
       "      <th>participants</th>\n",
       "      <th>pubmedId</th>\n",
       "      <th>pubmedTitle</th>\n",
       "      <th>pubmedabstract</th>\n",
       "    </tr>\n",
       "  </thead>\n",
       "  <tbody>\n",
       "    <tr>\n",
       "      <th>0</th>\n",
       "      <td>2503510</td>\n",
       "      <td>phosphorylation</td>\n",
       "      <td>False</td>\n",
       "      <td>[{'uniprotid': 'P43405', 'alias': [['ksyk_human'], ['Tyrosine-protein kinase SYK'], ['SYK'], ['Spleen tyrosine kinase'], ['p72-Syk']]}]</td>\n",
       "      <td>25605870</td>\n",
       "      <td>None</td>\n",
       "      <td>NLRP3 is the most crucial member of the NLR family, as it detects the existence of pathogen invasion and self-derived molecules associated with cellular damage. Several studies have reported that excessive NLRP3 inflammasome-mediated caspase-1 activation is a key factor in the development of diseases. Recent studies have reported that Syk is involved in pathogen-induced NLRP3 inflammasome activation; however, the detailed mechanism linking Syk to NLRP3 inflammasome remains unclear. In this study, we showed that Syk mediates NLRP3 stimuli-induced processing of procaspase-1 and the consequent activation of caspase-1. Moreover, the kinase activity of Syk is required to potentiate caspase-1 activation in a reconstituted NLRP3 inflammasome system in HEK293T cells. The adaptor protein ASC bridges NLRP3 with the effector protein caspase-1. Herein, we find that Syk can associate directly with ASC and NLRP3 by its kinase domain but interact indirectly with procaspase-1. Syk can phosphorylate ASC at Y146 and Y187 residues, and the phosphorylation of both residues is critical to enhance ASC oligomerization and the recruitment of procaspase-1. Together, our results reveal a new molecular pathway through which Syk promotes NLRP3 inflammasome formation, resulting from the phosphorylation of ASC. Thus, the control of Syk activity might be effective to modulate NLRP3 inflammasome activation and treat NLRP3-related immune diseases.</td>\n",
       "    </tr>\n",
       "    <tr>\n",
       "      <th>1</th>\n",
       "      <td>2503513</td>\n",
       "      <td>phosphorylation</td>\n",
       "      <td>False</td>\n",
       "      <td>[{'uniprotid': 'P43405', 'alias': [['ksyk_human'], ['Tyrosine-protein kinase SYK'], ['SYK'], ['Spleen tyrosine kinase'], ['p72-Syk']]}, {'uniprotid': 'Q9BSZ5', 'alias': [['asc_human'], ['Apoptosis-associated speck-like protein containing a CARD'], ['PYD and CARD domain-containing protein'], ['Target of methylation-induced silencing 1'], ['Caspase recruitment domain-containing protein 5'], ['ASC'], ['CARD5'], ['TMS1'], ['PYCARD']]}]</td>\n",
       "      <td>25605870</td>\n",
       "      <td>None</td>\n",
       "      <td>NLRP3 is the most crucial member of the NLR family, as it detects the existence of pathogen invasion and self-derived molecules associated with cellular damage. Several studies have reported that excessive NLRP3 inflammasome-mediated caspase-1 activation is a key factor in the development of diseases. Recent studies have reported that Syk is involved in pathogen-induced NLRP3 inflammasome activation; however, the detailed mechanism linking Syk to NLRP3 inflammasome remains unclear. In this study, we showed that Syk mediates NLRP3 stimuli-induced processing of procaspase-1 and the consequent activation of caspase-1. Moreover, the kinase activity of Syk is required to potentiate caspase-1 activation in a reconstituted NLRP3 inflammasome system in HEK293T cells. The adaptor protein ASC bridges NLRP3 with the effector protein caspase-1. Herein, we find that Syk can associate directly with ASC and NLRP3 by its kinase domain but interact indirectly with procaspase-1. Syk can phosphorylate ASC at Y146 and Y187 residues, and the phosphorylation of both residues is critical to enhance ASC oligomerization and the recruitment of procaspase-1. Together, our results reveal a new molecular pathway through which Syk promotes NLRP3 inflammasome formation, resulting from the phosphorylation of ASC. Thus, the control of Syk activity might be effective to modulate NLRP3 inflammasome activation and treat NLRP3-related immune diseases.</td>\n",
       "    </tr>\n",
       "    <tr>\n",
       "      <th>10</th>\n",
       "      <td>1796163</td>\n",
       "      <td>phosphorylation</td>\n",
       "      <td>False</td>\n",
       "      <td>[{'uniprotid': 'Q8WUB1', 'alias': [['kc1g2_human'], ['Casein kinase I isoform gamma-2'], ['CK1G2'], ['CSNK1G2']]}, {'uniprotid': 'Q6ZS50', 'alias': [['lrrk2_human'], ['Leucine-rich repeat serine/threonine-protein kinase 2'], ['LRRK2'], ['PARK8'], ['Dardarin']]}]</td>\n",
       "      <td>25500533</td>\n",
       "      <td>None</td>\n",
       "      <td>LRRK2, a gene relevant to Parkinson's disease, encodes a scaffolding protein with both GTPase and kinase activities. LRRK2 protein is itself phosphorylated and therefore is subject to regulation by cell signalling; however, the kinase(s) responsible for this event have not been definitively identified. Here using an unbiased siRNA kinome screen, we identify and validate casein kinase 1α (CK1α) as being responsible for LRRK2 phosphorylation, including in the adult mouse striatum. We further show that LRRK2 recruitment to TGN46-positive Golgi-derived vesicles is modulated by constitutive LRRK2 phosphorylation by CK1α. These effects are mediated by differential protein interactions of LRRK2 with a guanine nucleotide exchange factor, ARHGEF7. These pathways are therefore likely involved in the physiological maintenance of the Golgi in cells, which may play a role in the pathogenesis of Parkinson's disease.</td>\n",
       "    </tr>\n",
       "  </tbody>\n",
       "</table>\n",
       "</div>"
      ],
      "text/plain": [
       "   interactionId  interactionType  isNegative  \\\n",
       "0        2503510  phosphorylation       False   \n",
       "1        2503513  phosphorylation       False   \n",
       "10       1796163  phosphorylation       False   \n",
       "\n",
       "                                                                                                                                                                                                                                                                                                                                                                                                                                           participants  \\\n",
       "0                                                                                                                                                                                                                                                                                                               [{'uniprotid': 'P43405', 'alias': [['ksyk_human'], ['Tyrosine-protein kinase SYK'], ['SYK'], ['Spleen tyrosine kinase'], ['p72-Syk']]}]   \n",
       "1   [{'uniprotid': 'P43405', 'alias': [['ksyk_human'], ['Tyrosine-protein kinase SYK'], ['SYK'], ['Spleen tyrosine kinase'], ['p72-Syk']]}, {'uniprotid': 'Q9BSZ5', 'alias': [['asc_human'], ['Apoptosis-associated speck-like protein containing a CARD'], ['PYD and CARD domain-containing protein'], ['Target of methylation-induced silencing 1'], ['Caspase recruitment domain-containing protein 5'], ['ASC'], ['CARD5'], ['TMS1'], ['PYCARD']]}]   \n",
       "10                                                                                                                                                                               [{'uniprotid': 'Q8WUB1', 'alias': [['kc1g2_human'], ['Casein kinase I isoform gamma-2'], ['CK1G2'], ['CSNK1G2']]}, {'uniprotid': 'Q6ZS50', 'alias': [['lrrk2_human'], ['Leucine-rich repeat serine/threonine-protein kinase 2'], ['LRRK2'], ['PARK8'], ['Dardarin']]}]   \n",
       "\n",
       "    pubmedId pubmedTitle  \\\n",
       "0   25605870        None   \n",
       "1   25605870        None   \n",
       "10  25500533        None   \n",
       "\n",
       "                                                                                                                                                                                                                                                                                                                                                                                                                                                                                                                                                                                                                                                                                                                                                                                                                                                                                                                                                                                                                                                                                                                                                                                                                                                                                                                                                                                                                                                                                    pubmedabstract  \n",
       "0   NLRP3 is the most crucial member of the NLR family, as it detects the existence of pathogen invasion and self-derived molecules associated with cellular damage. Several studies have reported that excessive NLRP3 inflammasome-mediated caspase-1 activation is a key factor in the development of diseases. Recent studies have reported that Syk is involved in pathogen-induced NLRP3 inflammasome activation; however, the detailed mechanism linking Syk to NLRP3 inflammasome remains unclear. In this study, we showed that Syk mediates NLRP3 stimuli-induced processing of procaspase-1 and the consequent activation of caspase-1. Moreover, the kinase activity of Syk is required to potentiate caspase-1 activation in a reconstituted NLRP3 inflammasome system in HEK293T cells. The adaptor protein ASC bridges NLRP3 with the effector protein caspase-1. Herein, we find that Syk can associate directly with ASC and NLRP3 by its kinase domain but interact indirectly with procaspase-1. Syk can phosphorylate ASC at Y146 and Y187 residues, and the phosphorylation of both residues is critical to enhance ASC oligomerization and the recruitment of procaspase-1. Together, our results reveal a new molecular pathway through which Syk promotes NLRP3 inflammasome formation, resulting from the phosphorylation of ASC. Thus, the control of Syk activity might be effective to modulate NLRP3 inflammasome activation and treat NLRP3-related immune diseases.  \n",
       "1   NLRP3 is the most crucial member of the NLR family, as it detects the existence of pathogen invasion and self-derived molecules associated with cellular damage. Several studies have reported that excessive NLRP3 inflammasome-mediated caspase-1 activation is a key factor in the development of diseases. Recent studies have reported that Syk is involved in pathogen-induced NLRP3 inflammasome activation; however, the detailed mechanism linking Syk to NLRP3 inflammasome remains unclear. In this study, we showed that Syk mediates NLRP3 stimuli-induced processing of procaspase-1 and the consequent activation of caspase-1. Moreover, the kinase activity of Syk is required to potentiate caspase-1 activation in a reconstituted NLRP3 inflammasome system in HEK293T cells. The adaptor protein ASC bridges NLRP3 with the effector protein caspase-1. Herein, we find that Syk can associate directly with ASC and NLRP3 by its kinase domain but interact indirectly with procaspase-1. Syk can phosphorylate ASC at Y146 and Y187 residues, and the phosphorylation of both residues is critical to enhance ASC oligomerization and the recruitment of procaspase-1. Together, our results reveal a new molecular pathway through which Syk promotes NLRP3 inflammasome formation, resulting from the phosphorylation of ASC. Thus, the control of Syk activity might be effective to modulate NLRP3 inflammasome activation and treat NLRP3-related immune diseases.  \n",
       "10                                                                                                                                                                                                                                                                                                                                                                                                                                                                                                                                            LRRK2, a gene relevant to Parkinson's disease, encodes a scaffolding protein with both GTPase and kinase activities. LRRK2 protein is itself phosphorylated and therefore is subject to regulation by cell signalling; however, the kinase(s) responsible for this event have not been definitively identified. Here using an unbiased siRNA kinome screen, we identify and validate casein kinase 1α (CK1α) as being responsible for LRRK2 phosphorylation, including in the adult mouse striatum. We further show that LRRK2 recruitment to TGN46-positive Golgi-derived vesicles is modulated by constitutive LRRK2 phosphorylation by CK1α. These effects are mediated by differential protein interactions of LRRK2 with a guanine nucleotide exchange factor, ARHGEF7. These pathways are therefore likely involved in the physiological maintenance of the Golgi in cells, which may play a role in the pathogenesis of Parkinson's disease.   "
      ]
     },
     "execution_count": 31,
     "metadata": {},
     "output_type": "execute_result"
    }
   ],
   "source": [
    "data.head(n=3)"
   ]
  },
  {
   "cell_type": "markdown",
   "metadata": {},
   "source": [
    "### Number of interactions per paper\n",
    "**Note: The number of interactions per paper only takes the filtered interactions extracted from the Intact database**"
   ]
  },
  {
   "cell_type": "code",
   "execution_count": 33,
   "metadata": {},
   "outputs": [
    {
     "data": {
      "image/png": "[encoded data removed]",
      "text/plain": [
       "<Figure size 1080x360 with 1 Axes>"
      ]
     },
     "metadata": {},
     "output_type": "display_data"
    }
   ],
   "source": [
    "import matplotlib.pyplot as plt\n",
    "\n",
    "data.pubmedId.value_counts().hist (bins=50, figsize=(15,5), color = 'red')\n",
    "plt.title('Papers vs number of interactions distribution')\n",
    "plt.xlabel('Number of interactions per paper')\n",
    "plt.ylabel('Total number of papers')\n",
    "\n",
    "plt.show()"
   ]
  },
  {
   "cell_type": "code",
   "execution_count": null,
   "metadata": {},
   "outputs": [],
   "source": [
    "df = data.pubmedId.value_counts().hist (bins=range(1, 30), figsize=(15,5), color = 'red')\n",
    "\n",
    "plt.title('Papers vs number of interactions distribution ( Filtered distribution of interactions between 1 to 30)')\n",
    "plt.xlabel('Number of interactions per paper')\n",
    "plt.ylabel('Total number of interactions')\n",
    "\n",
    "plt.show()"
   ]
  },
  {
   "cell_type": "markdown",
   "metadata": {},
   "source": [
    "### Filter out interactions from paper with more than 15 interactions"
   ]
  },
  {
   "cell_type": "code",
   "execution_count": null,
   "metadata": {},
   "outputs": [],
   "source": [
    "pubmed_interaction_count = data.pubmedId.value_counts().to_frame().rename(columns={\"pubmedId\":\"interactionCountPerPubmed\"})\n"
   ]
  },
  {
   "cell_type": "code",
   "execution_count": null,
   "metadata": {},
   "outputs": [],
   "source": [
    "interactions_count= pd.DataFrame()\n",
    "data[\"lessThanThreshold\"] = data.apply(lambda r: r[\"pubmedId\"] in  pubmed_interaction_count.query('interactionCountPerPubmed <= 15').index , 1)\n",
    "\n",
    "\n",
    "data.lessThanThreshold.value_counts().plot.pie(autopct='%.2f',figsize=(5, 5))\n",
    "plt.title('Has more than 15 interactions')\n",
    "plt.show()"
   ]
  },
  {
   "cell_type": "code",
   "execution_count": null,
   "metadata": {},
   "outputs": [],
   "source": [
    "data = data.query(\"lessThanThreshold == 1\")"
   ]
  },
  {
   "cell_type": "code",
   "execution_count": null,
   "metadata": {},
   "outputs": [],
   "source": [
    "print(\"Total number of records after filter: {}\".format(data.shape[0]))"
   ]
  },
  {
   "cell_type": "markdown",
   "metadata": {},
   "source": [
    "### Interaction Types distribution"
   ]
  },
  {
   "cell_type": "code",
   "execution_count": 55,
   "metadata": {},
   "outputs": [
    {
     "data": {
      "image/png": "[encoded data removed]",
      "text/plain": [
       "<Figure size 576x576 with 1 Axes>"
      ]
     },
     "metadata": {},
     "output_type": "display_data"
    }
   ],
   "source": [
    "data.interactionType.value_counts().plot.pie(autopct='%.2f',figsize=(8, 8))\n",
    "plt.title('Interaction Type Distribution')\n",
    "plt.savefig(\"Interactiontype.svg\")\n",
    "plt.show()"
   ]
  },
  {
   "cell_type": "code",
   "execution_count": null,
   "metadata": {},
   "outputs": [],
   "source": [
    "data.interactionType.value_counts().to_frame()"
   ]
  },
  {
   "cell_type": "markdown",
   "metadata": {},
   "source": [
    "### Distinct interaction types per paper"
   ]
  },
  {
   "cell_type": "code",
   "execution_count": null,
   "metadata": {},
   "outputs": [],
   "source": [
    "distinct_no_papers = data['pubmedId'].nunique()\n",
    "data.groupby('pubmedId')['interactionType'].nunique().hist(bins=100)\n",
    "plt.title(\"Number of unique interactions per paper\")\n",
    "plt.xlabel('Number of interactions')\n",
    "plt.ylabel('Number of papers (total is {})'.format(distinct_no_papers))\n",
    "plt.show()"
   ]
  },
  {
   "cell_type": "markdown",
   "metadata": {},
   "source": [
    "### Postive vs Negative Relationships"
   ]
  },
  {
   "cell_type": "code",
   "execution_count": 35,
   "metadata": {},
   "outputs": [
    {
     "data": {
      "image/png": "[encoded data removed]",
      "text/plain": [
       "<Figure size 360x360 with 1 Axes>"
      ]
     },
     "metadata": {},
     "output_type": "display_data"
    }
   ],
   "source": [
    "data.isNegative.value_counts().plot.pie(autopct='%.2f',figsize=(5, 5))\n",
    "plt.title('Is Negtive relationship')\n",
    "plt.show()"
   ]
  },
  {
   "cell_type": "markdown",
   "metadata": {},
   "source": [
    "### Number of participants per interaction"
   ]
  },
  {
   "cell_type": "code",
   "execution_count": null,
   "metadata": {},
   "outputs": [],
   "source": [
    "data[\"participants\"].apply(lambda x: len(x)).hist (bins=50, figsize=(5,5), color = 'green')\n",
    "plt.title(\"Participants count per interaction\")\n",
    "plt.show()"
   ]
  },
  {
   "cell_type": "markdown",
   "metadata": {},
   "source": [
    "### Explore if the abstract contains the trigger word"
   ]
  },
  {
   "cell_type": "code",
   "execution_count": null,
   "metadata": {},
   "outputs": [],
   "source": [
    "data[\"hasTriggerWord\"] = data.apply(lambda r: r[\"interactionType\"].lower() in r[\"pubmedabstract\"].lower() , 1)"
   ]
  },
  {
   "cell_type": "code",
   "execution_count": null,
   "metadata": {},
   "outputs": [],
   "source": [
    "data.hasTriggerWord.value_counts().plot.pie(autopct='%.2f',figsize=(5, 5))\n",
    "plt.title('Has trigger word')\n",
    "plt.show()"
   ]
  },
  {
   "cell_type": "code",
   "execution_count": null,
   "metadata": {},
   "outputs": [],
   "source": [
    "fig, ax = plt.subplots( 7,1, figsize=(45,30))\n",
    "data.groupby(['hasTriggerWord', 'interactionType']).size().unstack().plot(kind='pie', subplots='True',autopct='%.2f', ax=ax)\n",
    "plt.show()"
   ]
  },
  {
   "cell_type": "markdown",
   "metadata": {},
   "source": [
    "### Explore how many of the entity alias are mentioned in the abstract"
   ]
  },
  {
   "cell_type": "code",
   "execution_count": null,
   "metadata": {},
   "outputs": [],
   "source": [
    "%%time \n",
    "\n",
    "from difflib import SequenceMatcher\n",
    "def getEntityMentionsCount(r):\n",
    "    count = 0\n",
    "    abstract = r[\"pubmedabstract\"].lower()\n",
    "    abstract_len= len(abstract)\n",
    "    for p in r[\"participants\"]:\n",
    "        if p is None or p['alias'] is None : continue\n",
    "        \n",
    "        for a in p['alias']:\n",
    "            alias = a[0].lower()\n",
    "            s = SequenceMatcher(None, abstract, alias)\n",
    "            _,_,match_size = s.find_longest_match(0, len(abstract), 0, len(alias))\n",
    "            if match_size >= 3 and match_size >= len(alias)/2 :\n",
    "                count += 1\n",
    "        \n",
    "    return count\n",
    "        \n",
    "\n",
    "data[\"entityMentionsCount\"] = data.apply(lambda r: getEntityMentionsCount(r)  , 1)"
   ]
  },
  {
   "cell_type": "code",
   "execution_count": null,
   "metadata": {},
   "outputs": [],
   "source": [
    "data['entityMentionsCount'].hist ( bins=150, figsize=(15,5), color = 'red')\n",
    "plt.title('Entity mentions count distribution')\n",
    "plt.xlabel('Entity name mentions count in abstract')\n",
    "plt.ylabel('Total number of interactions')\n",
    "\n",
    "plt.show()"
   ]
  },
  {
   "cell_type": "code",
   "execution_count": null,
   "metadata": {},
   "outputs": [],
   "source": [
    "(data['entityMentionsCount'] > 0).value_counts().plot.pie(autopct='%.2f')\n",
    "plt.title(\"Percentage of interactions with entity mentions \")\n",
    "plt.ylabel(\"Entity mentions > 0\")\n",
    "plt.show()"
   ]
  },
  {
   "cell_type": "markdown",
   "metadata": {},
   "source": [
    "### Randomly eye ball interactions with no entity mentions"
   ]
  },
  {
   "cell_type": "code",
   "execution_count": null,
   "metadata": {},
   "outputs": [],
   "source": [
    "\n",
    "data.query('entityMentionsCount == 0')[['participants','pubmedabstract' ]].sample(n=10)\n"
   ]
  },
  {
   "cell_type": "code",
   "execution_count": null,
   "metadata": {},
   "outputs": [],
   "source": [
    "data.head(n=10)"
   ]
  },
  {
   "cell_type": "markdown",
   "metadata": {},
   "source": [
    "### Data Transformation"
   ]
  },
  {
   "cell_type": "code",
   "execution_count": 31,
   "metadata": {},
   "outputs": [],
   "source": [
    "from datatransformer.jsonPPIFlattenTransformer import IntactJsonPpiFlattenTransformer\n",
    " \n",
    "\n",
    "sut = IntactJsonPpiFlattenTransformer()\n",
    "\n",
    "data_transformed = sut.transform(data)\n"
   ]
  },
  {
   "cell_type": "code",
   "execution_count": 37,
   "metadata": {
    "scrolled": true
   },
   "outputs": [
    {
     "data": {
      "text/html": [
       "<div>\n",
       "<style scoped>\n",
       "    .dataframe tbody tr th:only-of-type {\n",
       "        vertical-align: middle;\n",
       "    }\n",
       "\n",
       "    .dataframe tbody tr th {\n",
       "        vertical-align: top;\n",
       "    }\n",
       "\n",
       "    .dataframe thead th {\n",
       "        text-align: right;\n",
       "    }\n",
       "</style>\n",
       "<table border=\"1\" class=\"dataframe\">\n",
       "  <thead>\n",
       "    <tr style=\"text-align: right;\">\n",
       "      <th></th>\n",
       "      <th>interactionId</th>\n",
       "      <th>interactionType</th>\n",
       "      <th>isNegative</th>\n",
       "      <th>participant1Alias</th>\n",
       "      <th>participant1Id</th>\n",
       "      <th>participant2Alias</th>\n",
       "      <th>participant2Id</th>\n",
       "      <th>pubmedId</th>\n",
       "      <th>pubmedTitle</th>\n",
       "      <th>pubmedabstract</th>\n",
       "    </tr>\n",
       "  </thead>\n",
       "  <tbody>\n",
       "    <tr>\n",
       "      <th>0</th>\n",
       "      <td>2503510</td>\n",
       "      <td>phosphorylation</td>\n",
       "      <td>False</td>\n",
       "      <td>[[ksyk_human], [Tyrosine-protein kinase SYK], [SYK], [Spleen tyrosine kinase], [p72-Syk]]</td>\n",
       "      <td>P43405</td>\n",
       "      <td>[[ksyk_human], [Tyrosine-protein kinase SYK], [SYK], [Spleen tyrosine kinase], [p72-Syk]]</td>\n",
       "      <td>P43405</td>\n",
       "      <td>25605870</td>\n",
       "      <td>None</td>\n",
       "      <td>NLRP3 is the most crucial member of the NLR family, as it detects the existence of pathogen invasion and self-derived molecules associated with cellular damage. Several studies have reported that excessive NLRP3 inflammasome-mediated caspase-1 activation is a key factor in the development of diseases. Recent studies have reported that Syk is involved in pathogen-induced NLRP3 inflammasome activation; however, the detailed mechanism linking Syk to NLRP3 inflammasome remains unclear. In this study, we showed that Syk mediates NLRP3 stimuli-induced processing of procaspase-1 and the consequent activation of caspase-1. Moreover, the kinase activity of Syk is required to potentiate caspase-1 activation in a reconstituted NLRP3 inflammasome system in HEK293T cells. The adaptor protein ASC bridges NLRP3 with the effector protein caspase-1. Herein, we find that Syk can associate directly with ASC and NLRP3 by its kinase domain but interact indirectly with procaspase-1. Syk can phosphorylate ASC at Y146 and Y187 residues, and the phosphorylation of both residues is critical to enhance ASC oligomerization and the recruitment of procaspase-1. Together, our results reveal a new molecular pathway through which Syk promotes NLRP3 inflammasome formation, resulting from the phosphorylation of ASC. Thus, the control of Syk activity might be effective to modulate NLRP3 inflammasome activation and treat NLRP3-related immune diseases.</td>\n",
       "    </tr>\n",
       "    <tr>\n",
       "      <th>1</th>\n",
       "      <td>2503513</td>\n",
       "      <td>phosphorylation</td>\n",
       "      <td>False</td>\n",
       "      <td>[[ksyk_human], [Tyrosine-protein kinase SYK], [SYK], [Spleen tyrosine kinase], [p72-Syk]]</td>\n",
       "      <td>P43405</td>\n",
       "      <td>[[asc_human], [Apoptosis-associated speck-like protein containing a CARD], [PYD and CARD domain-containing protein], [Target of methylation-induced silencing 1], [Caspase recruitment domain-containing protein 5], [ASC], [CARD5], [TMS1], [PYCARD]]</td>\n",
       "      <td>Q9BSZ5</td>\n",
       "      <td>25605870</td>\n",
       "      <td>None</td>\n",
       "      <td>NLRP3 is the most crucial member of the NLR family, as it detects the existence of pathogen invasion and self-derived molecules associated with cellular damage. Several studies have reported that excessive NLRP3 inflammasome-mediated caspase-1 activation is a key factor in the development of diseases. Recent studies have reported that Syk is involved in pathogen-induced NLRP3 inflammasome activation; however, the detailed mechanism linking Syk to NLRP3 inflammasome remains unclear. In this study, we showed that Syk mediates NLRP3 stimuli-induced processing of procaspase-1 and the consequent activation of caspase-1. Moreover, the kinase activity of Syk is required to potentiate caspase-1 activation in a reconstituted NLRP3 inflammasome system in HEK293T cells. The adaptor protein ASC bridges NLRP3 with the effector protein caspase-1. Herein, we find that Syk can associate directly with ASC and NLRP3 by its kinase domain but interact indirectly with procaspase-1. Syk can phosphorylate ASC at Y146 and Y187 residues, and the phosphorylation of both residues is critical to enhance ASC oligomerization and the recruitment of procaspase-1. Together, our results reveal a new molecular pathway through which Syk promotes NLRP3 inflammasome formation, resulting from the phosphorylation of ASC. Thus, the control of Syk activity might be effective to modulate NLRP3 inflammasome activation and treat NLRP3-related immune diseases.</td>\n",
       "    </tr>\n",
       "  </tbody>\n",
       "</table>\n",
       "</div>"
      ],
      "text/plain": [
       "  interactionId  interactionType  isNegative  \\\n",
       "0       2503510  phosphorylation       False   \n",
       "1       2503513  phosphorylation       False   \n",
       "\n",
       "                                                                           participant1Alias  \\\n",
       "0  [[ksyk_human], [Tyrosine-protein kinase SYK], [SYK], [Spleen tyrosine kinase], [p72-Syk]]   \n",
       "1  [[ksyk_human], [Tyrosine-protein kinase SYK], [SYK], [Spleen tyrosine kinase], [p72-Syk]]   \n",
       "\n",
       "  participant1Id  \\\n",
       "0         P43405   \n",
       "1         P43405   \n",
       "\n",
       "                                                                                                                                                                                                                                        participant2Alias  \\\n",
       "0                                                                                                                                                               [[ksyk_human], [Tyrosine-protein kinase SYK], [SYK], [Spleen tyrosine kinase], [p72-Syk]]   \n",
       "1  [[asc_human], [Apoptosis-associated speck-like protein containing a CARD], [PYD and CARD domain-containing protein], [Target of methylation-induced silencing 1], [Caspase recruitment domain-containing protein 5], [ASC], [CARD5], [TMS1], [PYCARD]]   \n",
       "\n",
       "  participant2Id  pubmedId pubmedTitle  \\\n",
       "0         P43405  25605870        None   \n",
       "1         Q9BSZ5  25605870        None   \n",
       "\n",
       "                                                                                                                                                                                                                                                                                                                                                                                                                                                                                                                                                                                                                                                                                                                                                                                                                                                                                                                                                                                                                                                                                                                                                                                                                                                                                                                                                                                                                                                                                   pubmedabstract  \n",
       "0  NLRP3 is the most crucial member of the NLR family, as it detects the existence of pathogen invasion and self-derived molecules associated with cellular damage. Several studies have reported that excessive NLRP3 inflammasome-mediated caspase-1 activation is a key factor in the development of diseases. Recent studies have reported that Syk is involved in pathogen-induced NLRP3 inflammasome activation; however, the detailed mechanism linking Syk to NLRP3 inflammasome remains unclear. In this study, we showed that Syk mediates NLRP3 stimuli-induced processing of procaspase-1 and the consequent activation of caspase-1. Moreover, the kinase activity of Syk is required to potentiate caspase-1 activation in a reconstituted NLRP3 inflammasome system in HEK293T cells. The adaptor protein ASC bridges NLRP3 with the effector protein caspase-1. Herein, we find that Syk can associate directly with ASC and NLRP3 by its kinase domain but interact indirectly with procaspase-1. Syk can phosphorylate ASC at Y146 and Y187 residues, and the phosphorylation of both residues is critical to enhance ASC oligomerization and the recruitment of procaspase-1. Together, our results reveal a new molecular pathway through which Syk promotes NLRP3 inflammasome formation, resulting from the phosphorylation of ASC. Thus, the control of Syk activity might be effective to modulate NLRP3 inflammasome activation and treat NLRP3-related immune diseases.  \n",
       "1  NLRP3 is the most crucial member of the NLR family, as it detects the existence of pathogen invasion and self-derived molecules associated with cellular damage. Several studies have reported that excessive NLRP3 inflammasome-mediated caspase-1 activation is a key factor in the development of diseases. Recent studies have reported that Syk is involved in pathogen-induced NLRP3 inflammasome activation; however, the detailed mechanism linking Syk to NLRP3 inflammasome remains unclear. In this study, we showed that Syk mediates NLRP3 stimuli-induced processing of procaspase-1 and the consequent activation of caspase-1. Moreover, the kinase activity of Syk is required to potentiate caspase-1 activation in a reconstituted NLRP3 inflammasome system in HEK293T cells. The adaptor protein ASC bridges NLRP3 with the effector protein caspase-1. Herein, we find that Syk can associate directly with ASC and NLRP3 by its kinase domain but interact indirectly with procaspase-1. Syk can phosphorylate ASC at Y146 and Y187 residues, and the phosphorylation of both residues is critical to enhance ASC oligomerization and the recruitment of procaspase-1. Together, our results reveal a new molecular pathway through which Syk promotes NLRP3 inflammasome formation, resulting from the phosphorylation of ASC. Thus, the control of Syk activity might be effective to modulate NLRP3 inflammasome activation and treat NLRP3-related immune diseases.  "
      ]
     },
     "execution_count": 37,
     "metadata": {},
     "output_type": "execute_result"
    }
   ],
   "source": [
    "data_transformed.head(n=2)"
   ]
  },
  {
   "cell_type": "code",
   "execution_count": 38,
   "metadata": {},
   "outputs": [
    {
     "data": {
      "text/plain": [
       "(5510, 10)"
      ]
     },
     "execution_count": 38,
     "metadata": {},
     "output_type": "execute_result"
    }
   ],
   "source": [
    "data_transformed.shape"
   ]
  },
  {
   "cell_type": "markdown",
   "metadata": {},
   "source": [
    "Okay.. looks like it is only a case of the names of the participants not matching the names of the alias used in the abstract.. "
   ]
  },
  {
   "cell_type": "markdown",
   "metadata": {},
   "source": [
    "### Data Engineering"
   ]
  },
  {
   "cell_type": "markdown",
   "metadata": {},
   "source": [
    "#### Add more negative samples"
   ]
  },
  {
   "cell_type": "code",
   "execution_count": 39,
   "metadata": {},
   "outputs": [],
   "source": [
    "\n",
    "def generate_negative_old(data):\n",
    "    import uuid\n",
    "    unique_pubmeds = data[\"pubmedId\"].unique()\n",
    "    data_fake = pd.DataFrame(columns=data.columns)\n",
    "\n",
    "    num_fake_records = int( .50 * len(data))\n",
    "    #TODO: Randomise this, biased via\n",
    "    for u in unique_pubmeds:\n",
    "        fake_records = pd.DataFrame(data[ data.pubmedId != u]  ).sample(n=1) \n",
    "        fake_records.loc[:, \"interactionId\"] =  fake_records.interactionId.astype(str) + \"_\" + str(uuid.uuid4() ) + \"_\" + \"fake\"\n",
    "        fake_records.loc[:,\"isNegative\"] = 'True' \n",
    "        ## Copy of the pubmeid abtract and the title from a id\n",
    "        fake_records.loc[:,\"pubmedId\"] = u\n",
    "        fake_records.loc[:, \"pubmedTitle\"] =  data[ data.pubmedId == u].iloc[0][\"pubmedTitle\"]\n",
    "        fake_records.loc[:, \"pubmedabstract\"] =  data[ data.pubmedId == u].iloc[0][\"pubmedabstract\"]\n",
    "\n",
    "\n",
    "        data_fake = data_fake.append(fake_records, ignore_index=True)\n",
    "        if len(data_fake) > num_fake_records:\n",
    "            break\n",
    "            \n",
    "    return data_fake\n",
    "  \n",
    "    "
   ]
  },
  {
   "cell_type": "code",
   "execution_count": 32,
   "metadata": {},
   "outputs": [],
   "source": [
    "\n",
    "def generate_negative(data, enity_annotations_file):\n",
    "    from dataformatters.gnormplusPubtatorReader import GnormplusPubtatorReader\n",
    "    from datatransformer.gnormplusNegativeSamplesAugmentor import GnormplusNegativeSamplesAugmentor\n",
    "    from datatransformer.ncbiGeneUniprotLocalDbMapper import NcbiGeneUniprotLocalDbMapper\n",
    "    from datatransformer.interactionTypeNegativeSamplesAugmentor import InteractionTypeNegativeSamplesAugmentor\n",
    "\n",
    "    import os\n",
    "    \n",
    " \n",
    "    localdb = human_idmapping_dat\n",
    "    with open(localdb, \"r\") as dbhandle:\n",
    "        mapper = NcbiGeneUniprotLocalDbMapper(dbhandle, \"GeneID\") \n",
    "            \n",
    "        #Read gnormplus identified entities\n",
    "        reader = GnormplusPubtatorReader()\n",
    "        with open(enity_annotations_file,\"r\") as handle:\n",
    "            annotations_json = list(reader(handle))\n",
    "\n",
    "        negative_samples_generator = GnormplusNegativeSamplesAugmentor(annotations_json, mapper)\n",
    "        result = negative_samples_generator.transform(data)\n",
    "        \n",
    "        negative_samples_generator = InteractionTypeNegativeSamplesAugmentor()\n",
    "        result = negative_samples_generator.transform(result)\n",
    "\n",
    "        return result"
   ]
  },
  {
   "cell_type": "markdown",
   "metadata": {},
   "source": [
    "Remove records where the alias is null"
   ]
  },
  {
   "cell_type": "code",
   "execution_count": 33,
   "metadata": {},
   "outputs": [],
   "source": [
    "data_filtered = data_transformed[data_transformed.participant1Alias.notnull()]\n",
    "data_filtered = data_filtered[data_filtered.participant2Alias.notnull()]"
   ]
  },
  {
   "cell_type": "code",
   "execution_count": 34,
   "metadata": {},
   "outputs": [],
   "source": [
    "from sklearn.model_selection import train_test_split\n",
    "train, test = train_test_split(data_filtered, test_size=.2,\n",
    "                                                        random_state=777)\n",
    "\n",
    "train, val = train_test_split(train, test_size=.2,\n",
    "                                                        random_state=777)"
   ]
  },
  {
   "cell_type": "code",
   "execution_count": 35,
   "metadata": {
    "scrolled": true
   },
   "outputs": [
    {
     "name": "stdout",
     "output_type": "stream",
     "text": [
      "The total number of train records including fake records 10730\n"
     ]
    }
   ],
   "source": [
    "train = generate_negative(train, annotations_file)\n",
    "print(\"The total number of train records including fake records {}\".format(train.shape[0]))\n"
   ]
  },
  {
   "cell_type": "code",
   "execution_count": 36,
   "metadata": {},
   "outputs": [
    {
     "name": "stdout",
     "output_type": "stream",
     "text": [
      "The total number of test records including fake records 4683\n",
      "The total number of val records including fake records 3879\n"
     ]
    }
   ],
   "source": [
    "\n",
    "\n",
    "test = generate_negative(test,  annotations_file)\n",
    "print(\"The total number of test records including fake records {}\".format(test.shape[0]))\n",
    "\n",
    "\n",
    "val = generate_negative(val, annotations_file)\n",
    "print(\"The total number of val records including fake records {}\".format(val.shape[0]))"
   ]
  },
  {
   "cell_type": "code",
   "execution_count": 45,
   "metadata": {},
   "outputs": [
    {
     "data": {
      "text/html": [
       "<div>\n",
       "<style scoped>\n",
       "    .dataframe tbody tr th:only-of-type {\n",
       "        vertical-align: middle;\n",
       "    }\n",
       "\n",
       "    .dataframe tbody tr th {\n",
       "        vertical-align: top;\n",
       "    }\n",
       "\n",
       "    .dataframe thead th {\n",
       "        text-align: right;\n",
       "    }\n",
       "</style>\n",
       "<table border=\"1\" class=\"dataframe\">\n",
       "  <thead>\n",
       "    <tr style=\"text-align: right;\">\n",
       "      <th></th>\n",
       "      <th>interactionId</th>\n",
       "      <th>interactionType</th>\n",
       "      <th>isNegative</th>\n",
       "      <th>participant1Alias</th>\n",
       "      <th>participant1Id</th>\n",
       "      <th>participant2Alias</th>\n",
       "      <th>participant2Id</th>\n",
       "      <th>pubmedId</th>\n",
       "      <th>pubmedTitle</th>\n",
       "      <th>pubmedabstract</th>\n",
       "    </tr>\n",
       "  </thead>\n",
       "  <tbody>\n",
       "    <tr>\n",
       "      <th>2534</th>\n",
       "      <td>1215357_fdaba8dd-7f90-48ce-b207-5c3c6ec55235_fake_annot</td>\n",
       "      <td>methylation</td>\n",
       "      <td>True</td>\n",
       "      <td>[[ptprr_mouse], [Receptor-type tyrosine-protein phosphatase R], [Ptprr], [Ptp13], [Phosphotyrosine phosphatase 13], [Protein-tyrosine-phosphatase SL]]</td>\n",
       "      <td>Q9QUH9</td>\n",
       "      <td>[[mk03_human], [Mitogen-activated protein kinase 3], [ERT2], [MAP kinase isoform p44], [Microtubule-associated protein 2 kinase], [Extracellular signal-regulated kinase 1], [Insulin-stimulated MAP2 kinase], [p44-ERK1], [MAPK3], [ERK1], [PRKM3]]</td>\n",
       "      <td>Q8NHX1</td>\n",
       "      <td>10066421</td>\n",
       "      <td>None</td>\n",
       "      <td>Mitogen-activated protein kinase (MAPK) is inactivated through dephosphorylation of tyrosyl and threonyl regulatory sites. In yeast, both dual-specificity and tyrosine-specific phosphatases are involved in dephosphorylation. In mammals, however, no tyrosine-specific phosphatase has been identified molecularly to dephosphorylate MAPK in vivo. Recently, we and others have cloned a murine tyrosine-specific phosphatase, PTPBR7/PTP-SL, which is expressed predominantly in the brain. Here we report inactivation of the extracellular signal-regulated kinase (ERK) family MAPK by PTPBR7. PTPBR7 made complexes with ERK1/ERK2 in vivo and dephosphorylated ERK1 in vitro. When overexpressed in mammalian cells, wild-type PTPBR7 suppressed the phosphorylation and activation of ERK by epidermal growth factor (EGF), nerve growth factor (NGF), and constitutively active MEK1, a mutant MAPK kinase. In contrast, catalytically inactive and ERK-binding-deficient mutants revealed little inhibition on the ERK cascade. These results indicate that PTPBR7 suppresses MAPK directly in vivo.</td>\n",
       "    </tr>\n",
       "    <tr>\n",
       "      <th>7163</th>\n",
       "      <td>1215357_d64126c7-079c-45d9-9fbe-e79837f742be_fake_annot</td>\n",
       "      <td>dephosphorylation</td>\n",
       "      <td>True</td>\n",
       "      <td>[nerve growth factor, NGF]</td>\n",
       "      <td>P01138</td>\n",
       "      <td>[extracellular signal-regulated kinase, ERK2, ERK]</td>\n",
       "      <td>Q499G7</td>\n",
       "      <td>10066421</td>\n",
       "      <td>None</td>\n",
       "      <td>Mitogen-activated protein kinase (MAPK) is inactivated through dephosphorylation of tyrosyl and threonyl regulatory sites. In yeast, both dual-specificity and tyrosine-specific phosphatases are involved in dephosphorylation. In mammals, however, no tyrosine-specific phosphatase has been identified molecularly to dephosphorylate MAPK in vivo. Recently, we and others have cloned a murine tyrosine-specific phosphatase, PTPBR7/PTP-SL, which is expressed predominantly in the brain. Here we report inactivation of the extracellular signal-regulated kinase (ERK) family MAPK by PTPBR7. PTPBR7 made complexes with ERK1/ERK2 in vivo and dephosphorylated ERK1 in vitro. When overexpressed in mammalian cells, wild-type PTPBR7 suppressed the phosphorylation and activation of ERK by epidermal growth factor (EGF), nerve growth factor (NGF), and constitutively active MEK1, a mutant MAPK kinase. In contrast, catalytically inactive and ERK-binding-deficient mutants revealed little inhibition on the ERK cascade. These results indicate that PTPBR7 suppresses MAPK directly in vivo.</td>\n",
       "    </tr>\n",
       "    <tr>\n",
       "      <th>7164</th>\n",
       "      <td>1215357_92b62e69-00c4-4861-87f6-6488b927159e_fake_annot</td>\n",
       "      <td>dephosphorylation</td>\n",
       "      <td>True</td>\n",
       "      <td>[extracellular signal-regulated kinase, ERK2, ERK]</td>\n",
       "      <td>Q499G7</td>\n",
       "      <td>[ERK1]</td>\n",
       "      <td>Q9BWJ1</td>\n",
       "      <td>10066421</td>\n",
       "      <td>None</td>\n",
       "      <td>Mitogen-activated protein kinase (MAPK) is inactivated through dephosphorylation of tyrosyl and threonyl regulatory sites. In yeast, both dual-specificity and tyrosine-specific phosphatases are involved in dephosphorylation. In mammals, however, no tyrosine-specific phosphatase has been identified molecularly to dephosphorylate MAPK in vivo. Recently, we and others have cloned a murine tyrosine-specific phosphatase, PTPBR7/PTP-SL, which is expressed predominantly in the brain. Here we report inactivation of the extracellular signal-regulated kinase (ERK) family MAPK by PTPBR7. PTPBR7 made complexes with ERK1/ERK2 in vivo and dephosphorylated ERK1 in vitro. When overexpressed in mammalian cells, wild-type PTPBR7 suppressed the phosphorylation and activation of ERK by epidermal growth factor (EGF), nerve growth factor (NGF), and constitutively active MEK1, a mutant MAPK kinase. In contrast, catalytically inactive and ERK-binding-deficient mutants revealed little inhibition on the ERK cascade. These results indicate that PTPBR7 suppresses MAPK directly in vivo.</td>\n",
       "    </tr>\n",
       "    <tr>\n",
       "      <th>9898</th>\n",
       "      <td>1215357</td>\n",
       "      <td>dephosphorylation</td>\n",
       "      <td>False</td>\n",
       "      <td>[[ptprr_mouse], [Receptor-type tyrosine-protein phosphatase R], [Ptprr], [Ptp13], [Phosphotyrosine phosphatase 13], [Protein-tyrosine-phosphatase SL]]</td>\n",
       "      <td>Q9QUH9</td>\n",
       "      <td>[[mk03_human], [Mitogen-activated protein kinase 3], [ERT2], [MAP kinase isoform p44], [Microtubule-associated protein 2 kinase], [Extracellular signal-regulated kinase 1], [Insulin-stimulated MAP2 kinase], [p44-ERK1], [MAPK3], [ERK1], [PRKM3]]</td>\n",
       "      <td>Q8NHX1</td>\n",
       "      <td>10066421</td>\n",
       "      <td>None</td>\n",
       "      <td>Mitogen-activated protein kinase (MAPK) is inactivated through dephosphorylation of tyrosyl and threonyl regulatory sites. In yeast, both dual-specificity and tyrosine-specific phosphatases are involved in dephosphorylation. In mammals, however, no tyrosine-specific phosphatase has been identified molecularly to dephosphorylate MAPK in vivo. Recently, we and others have cloned a murine tyrosine-specific phosphatase, PTPBR7/PTP-SL, which is expressed predominantly in the brain. Here we report inactivation of the extracellular signal-regulated kinase (ERK) family MAPK by PTPBR7. PTPBR7 made complexes with ERK1/ERK2 in vivo and dephosphorylated ERK1 in vitro. When overexpressed in mammalian cells, wild-type PTPBR7 suppressed the phosphorylation and activation of ERK by epidermal growth factor (EGF), nerve growth factor (NGF), and constitutively active MEK1, a mutant MAPK kinase. In contrast, catalytically inactive and ERK-binding-deficient mutants revealed little inhibition on the ERK cascade. These results indicate that PTPBR7 suppresses MAPK directly in vivo.</td>\n",
       "    </tr>\n",
       "    <tr>\n",
       "      <th>7165</th>\n",
       "      <td>1215357_69bc2637-42ac-4354-940b-c8640d9feadf_fake_annot</td>\n",
       "      <td>dephosphorylation</td>\n",
       "      <td>True</td>\n",
       "      <td>[PTPBR7]</td>\n",
       "      <td>Q7Z2V8</td>\n",
       "      <td>[MEK1]</td>\n",
       "      <td>H3BRW9</td>\n",
       "      <td>10066421</td>\n",
       "      <td>None</td>\n",
       "      <td>Mitogen-activated protein kinase (MAPK) is inactivated through dephosphorylation of tyrosyl and threonyl regulatory sites. In yeast, both dual-specificity and tyrosine-specific phosphatases are involved in dephosphorylation. In mammals, however, no tyrosine-specific phosphatase has been identified molecularly to dephosphorylate MAPK in vivo. Recently, we and others have cloned a murine tyrosine-specific phosphatase, PTPBR7/PTP-SL, which is expressed predominantly in the brain. Here we report inactivation of the extracellular signal-regulated kinase (ERK) family MAPK by PTPBR7. PTPBR7 made complexes with ERK1/ERK2 in vivo and dephosphorylated ERK1 in vitro. When overexpressed in mammalian cells, wild-type PTPBR7 suppressed the phosphorylation and activation of ERK by epidermal growth factor (EGF), nerve growth factor (NGF), and constitutively active MEK1, a mutant MAPK kinase. In contrast, catalytically inactive and ERK-binding-deficient mutants revealed little inhibition on the ERK cascade. These results indicate that PTPBR7 suppresses MAPK directly in vivo.</td>\n",
       "    </tr>\n",
       "    <tr>\n",
       "      <th>7166</th>\n",
       "      <td>1215357_127fa21d-1f0b-40de-9183-d5eaa7352f39_fake_annot</td>\n",
       "      <td>dephosphorylation</td>\n",
       "      <td>True</td>\n",
       "      <td>[nerve growth factor, NGF]</td>\n",
       "      <td>P01138</td>\n",
       "      <td>[ERK1]</td>\n",
       "      <td>Q9BWJ1</td>\n",
       "      <td>10066421</td>\n",
       "      <td>None</td>\n",
       "      <td>Mitogen-activated protein kinase (MAPK) is inactivated through dephosphorylation of tyrosyl and threonyl regulatory sites. In yeast, both dual-specificity and tyrosine-specific phosphatases are involved in dephosphorylation. In mammals, however, no tyrosine-specific phosphatase has been identified molecularly to dephosphorylate MAPK in vivo. Recently, we and others have cloned a murine tyrosine-specific phosphatase, PTPBR7/PTP-SL, which is expressed predominantly in the brain. Here we report inactivation of the extracellular signal-regulated kinase (ERK) family MAPK by PTPBR7. PTPBR7 made complexes with ERK1/ERK2 in vivo and dephosphorylated ERK1 in vitro. When overexpressed in mammalian cells, wild-type PTPBR7 suppressed the phosphorylation and activation of ERK by epidermal growth factor (EGF), nerve growth factor (NGF), and constitutively active MEK1, a mutant MAPK kinase. In contrast, catalytically inactive and ERK-binding-deficient mutants revealed little inhibition on the ERK cascade. These results indicate that PTPBR7 suppresses MAPK directly in vivo.</td>\n",
       "    </tr>\n",
       "    <tr>\n",
       "      <th>7167</th>\n",
       "      <td>1215357_52eeef6e-32cc-49d1-8121-fe604a338d9d_fake_annot</td>\n",
       "      <td>dephosphorylation</td>\n",
       "      <td>True</td>\n",
       "      <td>[PTPBR7]</td>\n",
       "      <td>Q7Z2V8</td>\n",
       "      <td>[nerve growth factor, NGF]</td>\n",
       "      <td>P01138</td>\n",
       "      <td>10066421</td>\n",
       "      <td>None</td>\n",
       "      <td>Mitogen-activated protein kinase (MAPK) is inactivated through dephosphorylation of tyrosyl and threonyl regulatory sites. In yeast, both dual-specificity and tyrosine-specific phosphatases are involved in dephosphorylation. In mammals, however, no tyrosine-specific phosphatase has been identified molecularly to dephosphorylate MAPK in vivo. Recently, we and others have cloned a murine tyrosine-specific phosphatase, PTPBR7/PTP-SL, which is expressed predominantly in the brain. Here we report inactivation of the extracellular signal-regulated kinase (ERK) family MAPK by PTPBR7. PTPBR7 made complexes with ERK1/ERK2 in vivo and dephosphorylated ERK1 in vitro. When overexpressed in mammalian cells, wild-type PTPBR7 suppressed the phosphorylation and activation of ERK by epidermal growth factor (EGF), nerve growth factor (NGF), and constitutively active MEK1, a mutant MAPK kinase. In contrast, catalytically inactive and ERK-binding-deficient mutants revealed little inhibition on the ERK cascade. These results indicate that PTPBR7 suppresses MAPK directly in vivo.</td>\n",
       "    </tr>\n",
       "    <tr>\n",
       "      <th>7168</th>\n",
       "      <td>1215357_af4a28d6-0f36-4f45-8638-86d2c93e77e3_fake_annot</td>\n",
       "      <td>dephosphorylation</td>\n",
       "      <td>True</td>\n",
       "      <td>[MEK1]</td>\n",
       "      <td>H3BRW9</td>\n",
       "      <td>[extracellular signal-regulated kinase, ERK2, ERK]</td>\n",
       "      <td>Q499G7</td>\n",
       "      <td>10066421</td>\n",
       "      <td>None</td>\n",
       "      <td>Mitogen-activated protein kinase (MAPK) is inactivated through dephosphorylation of tyrosyl and threonyl regulatory sites. In yeast, both dual-specificity and tyrosine-specific phosphatases are involved in dephosphorylation. In mammals, however, no tyrosine-specific phosphatase has been identified molecularly to dephosphorylate MAPK in vivo. Recently, we and others have cloned a murine tyrosine-specific phosphatase, PTPBR7/PTP-SL, which is expressed predominantly in the brain. Here we report inactivation of the extracellular signal-regulated kinase (ERK) family MAPK by PTPBR7. PTPBR7 made complexes with ERK1/ERK2 in vivo and dephosphorylated ERK1 in vitro. When overexpressed in mammalian cells, wild-type PTPBR7 suppressed the phosphorylation and activation of ERK by epidermal growth factor (EGF), nerve growth factor (NGF), and constitutively active MEK1, a mutant MAPK kinase. In contrast, catalytically inactive and ERK-binding-deficient mutants revealed little inhibition on the ERK cascade. These results indicate that PTPBR7 suppresses MAPK directly in vivo.</td>\n",
       "    </tr>\n",
       "    <tr>\n",
       "      <th>2535</th>\n",
       "      <td>1215357_bdc8b77b-64f8-4409-a74a-6f76005d8bc9_fake_annot</td>\n",
       "      <td>deubiquitination</td>\n",
       "      <td>True</td>\n",
       "      <td>[[ptprr_mouse], [Receptor-type tyrosine-protein phosphatase R], [Ptprr], [Ptp13], [Phosphotyrosine phosphatase 13], [Protein-tyrosine-phosphatase SL]]</td>\n",
       "      <td>Q9QUH9</td>\n",
       "      <td>[[mk03_human], [Mitogen-activated protein kinase 3], [ERT2], [MAP kinase isoform p44], [Microtubule-associated protein 2 kinase], [Extracellular signal-regulated kinase 1], [Insulin-stimulated MAP2 kinase], [p44-ERK1], [MAPK3], [ERK1], [PRKM3]]</td>\n",
       "      <td>Q8NHX1</td>\n",
       "      <td>10066421</td>\n",
       "      <td>None</td>\n",
       "      <td>Mitogen-activated protein kinase (MAPK) is inactivated through dephosphorylation of tyrosyl and threonyl regulatory sites. In yeast, both dual-specificity and tyrosine-specific phosphatases are involved in dephosphorylation. In mammals, however, no tyrosine-specific phosphatase has been identified molecularly to dephosphorylate MAPK in vivo. Recently, we and others have cloned a murine tyrosine-specific phosphatase, PTPBR7/PTP-SL, which is expressed predominantly in the brain. Here we report inactivation of the extracellular signal-regulated kinase (ERK) family MAPK by PTPBR7. PTPBR7 made complexes with ERK1/ERK2 in vivo and dephosphorylated ERK1 in vitro. When overexpressed in mammalian cells, wild-type PTPBR7 suppressed the phosphorylation and activation of ERK by epidermal growth factor (EGF), nerve growth factor (NGF), and constitutively active MEK1, a mutant MAPK kinase. In contrast, catalytically inactive and ERK-binding-deficient mutants revealed little inhibition on the ERK cascade. These results indicate that PTPBR7 suppresses MAPK directly in vivo.</td>\n",
       "    </tr>\n",
       "    <tr>\n",
       "      <th>7170</th>\n",
       "      <td>1215357_c82834be-bf8b-47d1-a4e2-bfe50090253f_fake_annot</td>\n",
       "      <td>dephosphorylation</td>\n",
       "      <td>True</td>\n",
       "      <td>[PTPBR7]</td>\n",
       "      <td>Q7Z2V8</td>\n",
       "      <td>[ERK1]</td>\n",
       "      <td>Q9BWJ1</td>\n",
       "      <td>10066421</td>\n",
       "      <td>None</td>\n",
       "      <td>Mitogen-activated protein kinase (MAPK) is inactivated through dephosphorylation of tyrosyl and threonyl regulatory sites. In yeast, both dual-specificity and tyrosine-specific phosphatases are involved in dephosphorylation. In mammals, however, no tyrosine-specific phosphatase has been identified molecularly to dephosphorylate MAPK in vivo. Recently, we and others have cloned a murine tyrosine-specific phosphatase, PTPBR7/PTP-SL, which is expressed predominantly in the brain. Here we report inactivation of the extracellular signal-regulated kinase (ERK) family MAPK by PTPBR7. PTPBR7 made complexes with ERK1/ERK2 in vivo and dephosphorylated ERK1 in vitro. When overexpressed in mammalian cells, wild-type PTPBR7 suppressed the phosphorylation and activation of ERK by epidermal growth factor (EGF), nerve growth factor (NGF), and constitutively active MEK1, a mutant MAPK kinase. In contrast, catalytically inactive and ERK-binding-deficient mutants revealed little inhibition on the ERK cascade. These results indicate that PTPBR7 suppresses MAPK directly in vivo.</td>\n",
       "    </tr>\n",
       "  </tbody>\n",
       "</table>\n",
       "</div>"
      ],
      "text/plain": [
       "                                                interactionId  \\\n",
       "2534  1215357_fdaba8dd-7f90-48ce-b207-5c3c6ec55235_fake_annot   \n",
       "7163  1215357_d64126c7-079c-45d9-9fbe-e79837f742be_fake_annot   \n",
       "7164  1215357_92b62e69-00c4-4861-87f6-6488b927159e_fake_annot   \n",
       "9898                                                  1215357   \n",
       "7165  1215357_69bc2637-42ac-4354-940b-c8640d9feadf_fake_annot   \n",
       "7166  1215357_127fa21d-1f0b-40de-9183-d5eaa7352f39_fake_annot   \n",
       "7167  1215357_52eeef6e-32cc-49d1-8121-fe604a338d9d_fake_annot   \n",
       "7168  1215357_af4a28d6-0f36-4f45-8638-86d2c93e77e3_fake_annot   \n",
       "2535  1215357_bdc8b77b-64f8-4409-a74a-6f76005d8bc9_fake_annot   \n",
       "7170  1215357_c82834be-bf8b-47d1-a4e2-bfe50090253f_fake_annot   \n",
       "\n",
       "        interactionType isNegative  \\\n",
       "2534        methylation       True   \n",
       "7163  dephosphorylation       True   \n",
       "7164  dephosphorylation       True   \n",
       "9898  dephosphorylation      False   \n",
       "7165  dephosphorylation       True   \n",
       "7166  dephosphorylation       True   \n",
       "7167  dephosphorylation       True   \n",
       "7168  dephosphorylation       True   \n",
       "2535   deubiquitination       True   \n",
       "7170  dephosphorylation       True   \n",
       "\n",
       "                                                                                                                                           participant1Alias  \\\n",
       "2534  [[ptprr_mouse], [Receptor-type tyrosine-protein phosphatase R], [Ptprr], [Ptp13], [Phosphotyrosine phosphatase 13], [Protein-tyrosine-phosphatase SL]]   \n",
       "7163                                                                                                                              [nerve growth factor, NGF]   \n",
       "7164                                                                                                      [extracellular signal-regulated kinase, ERK2, ERK]   \n",
       "9898  [[ptprr_mouse], [Receptor-type tyrosine-protein phosphatase R], [Ptprr], [Ptp13], [Phosphotyrosine phosphatase 13], [Protein-tyrosine-phosphatase SL]]   \n",
       "7165                                                                                                                                                [PTPBR7]   \n",
       "7166                                                                                                                              [nerve growth factor, NGF]   \n",
       "7167                                                                                                                                                [PTPBR7]   \n",
       "7168                                                                                                                                                  [MEK1]   \n",
       "2535  [[ptprr_mouse], [Receptor-type tyrosine-protein phosphatase R], [Ptprr], [Ptp13], [Phosphotyrosine phosphatase 13], [Protein-tyrosine-phosphatase SL]]   \n",
       "7170                                                                                                                                                [PTPBR7]   \n",
       "\n",
       "     participant1Id  \\\n",
       "2534         Q9QUH9   \n",
       "7163         P01138   \n",
       "7164         Q499G7   \n",
       "9898         Q9QUH9   \n",
       "7165         Q7Z2V8   \n",
       "7166         P01138   \n",
       "7167         Q7Z2V8   \n",
       "7168         H3BRW9   \n",
       "2535         Q9QUH9   \n",
       "7170         Q7Z2V8   \n",
       "\n",
       "                                                                                                                                                                                                                                         participant2Alias  \\\n",
       "2534  [[mk03_human], [Mitogen-activated protein kinase 3], [ERT2], [MAP kinase isoform p44], [Microtubule-associated protein 2 kinase], [Extracellular signal-regulated kinase 1], [Insulin-stimulated MAP2 kinase], [p44-ERK1], [MAPK3], [ERK1], [PRKM3]]   \n",
       "7163                                                                                                                                                                                                    [extracellular signal-regulated kinase, ERK2, ERK]   \n",
       "7164                                                                                                                                                                                                                                                [ERK1]   \n",
       "9898  [[mk03_human], [Mitogen-activated protein kinase 3], [ERT2], [MAP kinase isoform p44], [Microtubule-associated protein 2 kinase], [Extracellular signal-regulated kinase 1], [Insulin-stimulated MAP2 kinase], [p44-ERK1], [MAPK3], [ERK1], [PRKM3]]   \n",
       "7165                                                                                                                                                                                                                                                [MEK1]   \n",
       "7166                                                                                                                                                                                                                                                [ERK1]   \n",
       "7167                                                                                                                                                                                                                            [nerve growth factor, NGF]   \n",
       "7168                                                                                                                                                                                                    [extracellular signal-regulated kinase, ERK2, ERK]   \n",
       "2535  [[mk03_human], [Mitogen-activated protein kinase 3], [ERT2], [MAP kinase isoform p44], [Microtubule-associated protein 2 kinase], [Extracellular signal-regulated kinase 1], [Insulin-stimulated MAP2 kinase], [p44-ERK1], [MAPK3], [ERK1], [PRKM3]]   \n",
       "7170                                                                                                                                                                                                                                                [ERK1]   \n",
       "\n",
       "     participant2Id  pubmedId pubmedTitle  \\\n",
       "2534         Q8NHX1  10066421        None   \n",
       "7163         Q499G7  10066421        None   \n",
       "7164         Q9BWJ1  10066421        None   \n",
       "9898         Q8NHX1  10066421        None   \n",
       "7165         H3BRW9  10066421        None   \n",
       "7166         Q9BWJ1  10066421        None   \n",
       "7167         P01138  10066421        None   \n",
       "7168         Q499G7  10066421        None   \n",
       "2535         Q8NHX1  10066421        None   \n",
       "7170         Q9BWJ1  10066421        None   \n",
       "\n",
       "                                                                                                                                                                                                                                                                                                                                                                                                                                                                                                                                                                                                                                                                                                                                                                                                                                                                                                                                                                                                                                                                                                          pubmedabstract  \n",
       "2534  Mitogen-activated protein kinase (MAPK) is inactivated through dephosphorylation of tyrosyl and threonyl regulatory sites. In yeast, both dual-specificity and tyrosine-specific phosphatases are involved in dephosphorylation. In mammals, however, no tyrosine-specific phosphatase has been identified molecularly to dephosphorylate MAPK in vivo. Recently, we and others have cloned a murine tyrosine-specific phosphatase, PTPBR7/PTP-SL, which is expressed predominantly in the brain. Here we report inactivation of the extracellular signal-regulated kinase (ERK) family MAPK by PTPBR7. PTPBR7 made complexes with ERK1/ERK2 in vivo and dephosphorylated ERK1 in vitro. When overexpressed in mammalian cells, wild-type PTPBR7 suppressed the phosphorylation and activation of ERK by epidermal growth factor (EGF), nerve growth factor (NGF), and constitutively active MEK1, a mutant MAPK kinase. In contrast, catalytically inactive and ERK-binding-deficient mutants revealed little inhibition on the ERK cascade. These results indicate that PTPBR7 suppresses MAPK directly in vivo.  \n",
       "7163  Mitogen-activated protein kinase (MAPK) is inactivated through dephosphorylation of tyrosyl and threonyl regulatory sites. In yeast, both dual-specificity and tyrosine-specific phosphatases are involved in dephosphorylation. In mammals, however, no tyrosine-specific phosphatase has been identified molecularly to dephosphorylate MAPK in vivo. Recently, we and others have cloned a murine tyrosine-specific phosphatase, PTPBR7/PTP-SL, which is expressed predominantly in the brain. Here we report inactivation of the extracellular signal-regulated kinase (ERK) family MAPK by PTPBR7. PTPBR7 made complexes with ERK1/ERK2 in vivo and dephosphorylated ERK1 in vitro. When overexpressed in mammalian cells, wild-type PTPBR7 suppressed the phosphorylation and activation of ERK by epidermal growth factor (EGF), nerve growth factor (NGF), and constitutively active MEK1, a mutant MAPK kinase. In contrast, catalytically inactive and ERK-binding-deficient mutants revealed little inhibition on the ERK cascade. These results indicate that PTPBR7 suppresses MAPK directly in vivo.  \n",
       "7164  Mitogen-activated protein kinase (MAPK) is inactivated through dephosphorylation of tyrosyl and threonyl regulatory sites. In yeast, both dual-specificity and tyrosine-specific phosphatases are involved in dephosphorylation. In mammals, however, no tyrosine-specific phosphatase has been identified molecularly to dephosphorylate MAPK in vivo. Recently, we and others have cloned a murine tyrosine-specific phosphatase, PTPBR7/PTP-SL, which is expressed predominantly in the brain. Here we report inactivation of the extracellular signal-regulated kinase (ERK) family MAPK by PTPBR7. PTPBR7 made complexes with ERK1/ERK2 in vivo and dephosphorylated ERK1 in vitro. When overexpressed in mammalian cells, wild-type PTPBR7 suppressed the phosphorylation and activation of ERK by epidermal growth factor (EGF), nerve growth factor (NGF), and constitutively active MEK1, a mutant MAPK kinase. In contrast, catalytically inactive and ERK-binding-deficient mutants revealed little inhibition on the ERK cascade. These results indicate that PTPBR7 suppresses MAPK directly in vivo.  \n",
       "9898  Mitogen-activated protein kinase (MAPK) is inactivated through dephosphorylation of tyrosyl and threonyl regulatory sites. In yeast, both dual-specificity and tyrosine-specific phosphatases are involved in dephosphorylation. In mammals, however, no tyrosine-specific phosphatase has been identified molecularly to dephosphorylate MAPK in vivo. Recently, we and others have cloned a murine tyrosine-specific phosphatase, PTPBR7/PTP-SL, which is expressed predominantly in the brain. Here we report inactivation of the extracellular signal-regulated kinase (ERK) family MAPK by PTPBR7. PTPBR7 made complexes with ERK1/ERK2 in vivo and dephosphorylated ERK1 in vitro. When overexpressed in mammalian cells, wild-type PTPBR7 suppressed the phosphorylation and activation of ERK by epidermal growth factor (EGF), nerve growth factor (NGF), and constitutively active MEK1, a mutant MAPK kinase. In contrast, catalytically inactive and ERK-binding-deficient mutants revealed little inhibition on the ERK cascade. These results indicate that PTPBR7 suppresses MAPK directly in vivo.  \n",
       "7165  Mitogen-activated protein kinase (MAPK) is inactivated through dephosphorylation of tyrosyl and threonyl regulatory sites. In yeast, both dual-specificity and tyrosine-specific phosphatases are involved in dephosphorylation. In mammals, however, no tyrosine-specific phosphatase has been identified molecularly to dephosphorylate MAPK in vivo. Recently, we and others have cloned a murine tyrosine-specific phosphatase, PTPBR7/PTP-SL, which is expressed predominantly in the brain. Here we report inactivation of the extracellular signal-regulated kinase (ERK) family MAPK by PTPBR7. PTPBR7 made complexes with ERK1/ERK2 in vivo and dephosphorylated ERK1 in vitro. When overexpressed in mammalian cells, wild-type PTPBR7 suppressed the phosphorylation and activation of ERK by epidermal growth factor (EGF), nerve growth factor (NGF), and constitutively active MEK1, a mutant MAPK kinase. In contrast, catalytically inactive and ERK-binding-deficient mutants revealed little inhibition on the ERK cascade. These results indicate that PTPBR7 suppresses MAPK directly in vivo.  \n",
       "7166  Mitogen-activated protein kinase (MAPK) is inactivated through dephosphorylation of tyrosyl and threonyl regulatory sites. In yeast, both dual-specificity and tyrosine-specific phosphatases are involved in dephosphorylation. In mammals, however, no tyrosine-specific phosphatase has been identified molecularly to dephosphorylate MAPK in vivo. Recently, we and others have cloned a murine tyrosine-specific phosphatase, PTPBR7/PTP-SL, which is expressed predominantly in the brain. Here we report inactivation of the extracellular signal-regulated kinase (ERK) family MAPK by PTPBR7. PTPBR7 made complexes with ERK1/ERK2 in vivo and dephosphorylated ERK1 in vitro. When overexpressed in mammalian cells, wild-type PTPBR7 suppressed the phosphorylation and activation of ERK by epidermal growth factor (EGF), nerve growth factor (NGF), and constitutively active MEK1, a mutant MAPK kinase. In contrast, catalytically inactive and ERK-binding-deficient mutants revealed little inhibition on the ERK cascade. These results indicate that PTPBR7 suppresses MAPK directly in vivo.  \n",
       "7167  Mitogen-activated protein kinase (MAPK) is inactivated through dephosphorylation of tyrosyl and threonyl regulatory sites. In yeast, both dual-specificity and tyrosine-specific phosphatases are involved in dephosphorylation. In mammals, however, no tyrosine-specific phosphatase has been identified molecularly to dephosphorylate MAPK in vivo. Recently, we and others have cloned a murine tyrosine-specific phosphatase, PTPBR7/PTP-SL, which is expressed predominantly in the brain. Here we report inactivation of the extracellular signal-regulated kinase (ERK) family MAPK by PTPBR7. PTPBR7 made complexes with ERK1/ERK2 in vivo and dephosphorylated ERK1 in vitro. When overexpressed in mammalian cells, wild-type PTPBR7 suppressed the phosphorylation and activation of ERK by epidermal growth factor (EGF), nerve growth factor (NGF), and constitutively active MEK1, a mutant MAPK kinase. In contrast, catalytically inactive and ERK-binding-deficient mutants revealed little inhibition on the ERK cascade. These results indicate that PTPBR7 suppresses MAPK directly in vivo.  \n",
       "7168  Mitogen-activated protein kinase (MAPK) is inactivated through dephosphorylation of tyrosyl and threonyl regulatory sites. In yeast, both dual-specificity and tyrosine-specific phosphatases are involved in dephosphorylation. In mammals, however, no tyrosine-specific phosphatase has been identified molecularly to dephosphorylate MAPK in vivo. Recently, we and others have cloned a murine tyrosine-specific phosphatase, PTPBR7/PTP-SL, which is expressed predominantly in the brain. Here we report inactivation of the extracellular signal-regulated kinase (ERK) family MAPK by PTPBR7. PTPBR7 made complexes with ERK1/ERK2 in vivo and dephosphorylated ERK1 in vitro. When overexpressed in mammalian cells, wild-type PTPBR7 suppressed the phosphorylation and activation of ERK by epidermal growth factor (EGF), nerve growth factor (NGF), and constitutively active MEK1, a mutant MAPK kinase. In contrast, catalytically inactive and ERK-binding-deficient mutants revealed little inhibition on the ERK cascade. These results indicate that PTPBR7 suppresses MAPK directly in vivo.  \n",
       "2535  Mitogen-activated protein kinase (MAPK) is inactivated through dephosphorylation of tyrosyl and threonyl regulatory sites. In yeast, both dual-specificity and tyrosine-specific phosphatases are involved in dephosphorylation. In mammals, however, no tyrosine-specific phosphatase has been identified molecularly to dephosphorylate MAPK in vivo. Recently, we and others have cloned a murine tyrosine-specific phosphatase, PTPBR7/PTP-SL, which is expressed predominantly in the brain. Here we report inactivation of the extracellular signal-regulated kinase (ERK) family MAPK by PTPBR7. PTPBR7 made complexes with ERK1/ERK2 in vivo and dephosphorylated ERK1 in vitro. When overexpressed in mammalian cells, wild-type PTPBR7 suppressed the phosphorylation and activation of ERK by epidermal growth factor (EGF), nerve growth factor (NGF), and constitutively active MEK1, a mutant MAPK kinase. In contrast, catalytically inactive and ERK-binding-deficient mutants revealed little inhibition on the ERK cascade. These results indicate that PTPBR7 suppresses MAPK directly in vivo.  \n",
       "7170  Mitogen-activated protein kinase (MAPK) is inactivated through dephosphorylation of tyrosyl and threonyl regulatory sites. In yeast, both dual-specificity and tyrosine-specific phosphatases are involved in dephosphorylation. In mammals, however, no tyrosine-specific phosphatase has been identified molecularly to dephosphorylate MAPK in vivo. Recently, we and others have cloned a murine tyrosine-specific phosphatase, PTPBR7/PTP-SL, which is expressed predominantly in the brain. Here we report inactivation of the extracellular signal-regulated kinase (ERK) family MAPK by PTPBR7. PTPBR7 made complexes with ERK1/ERK2 in vivo and dephosphorylated ERK1 in vitro. When overexpressed in mammalian cells, wild-type PTPBR7 suppressed the phosphorylation and activation of ERK by epidermal growth factor (EGF), nerve growth factor (NGF), and constitutively active MEK1, a mutant MAPK kinase. In contrast, catalytically inactive and ERK-binding-deficient mutants revealed little inhibition on the ERK cascade. These results indicate that PTPBR7 suppresses MAPK directly in vivo.  "
      ]
     },
     "execution_count": 45,
     "metadata": {},
     "output_type": "execute_result"
    }
   ],
   "source": [
    "train.sort_values(by=[\"pubmedId\"]).query(\"interactionType != 'phosphorylation'\").head(n=10)"
   ]
  },
  {
   "cell_type": "code",
   "execution_count": 66,
   "metadata": {},
   "outputs": [
    {
     "data": {
      "image/png": "[encoded data removed]",
      "text/plain": [
       "<Figure size 576x216 with 2 Axes>"
      ]
     },
     "metadata": {},
     "output_type": "display_data"
    }
   ],
   "source": [
    "import matplotlib.pyplot as plt\n",
    "fig, ax = plt.subplots( 1,2, figsize=(8,3))\n",
    "\n",
    "#fig, ax = plt.subplots( 7,1, figsize=(45,30))\n",
    "train.groupby(['interactionType', 'isNegative']).size().unstack().plot.bar(ax=ax[0])\n",
    "ax[0].set_title( \"Training set\")\n",
    "\n",
    "\n",
    "val.groupby(['interactionType', 'isNegative']).size().unstack().plot.bar(ax=ax[1])\n",
    "ax[1].set_title( \"Validation set\")\n",
    "\n",
    "\n",
    "plt.savefig(\"NegativeSample.svg\",bbox_inches = \"tight\")\n",
    "plt.show()"
   ]
  },
  {
   "cell_type": "code",
   "execution_count": 24,
   "metadata": {},
   "outputs": [
    {
     "data": {
      "text/plain": [
       "isNegative  interactionType  \n",
       "false       acetylation           14\n",
       "            demethylation          1\n",
       "            dephosphorylation     67\n",
       "            deubiquitination       8\n",
       "            methylation           30\n",
       "            phosphorylation      396\n",
       "            ubiquitination       249\n",
       "dtype: int64"
      ]
     },
     "execution_count": 24,
     "metadata": {},
     "output_type": "execute_result"
    }
   ],
   "source": [
    "val.groupby(['isNegative', 'interactionType']).size()"
   ]
  },
  {
   "cell_type": "code",
   "execution_count": 48,
   "metadata": {},
   "outputs": [
    {
     "data": {
      "text/plain": [
       "<matplotlib.axes._subplots.AxesSubplot at 0x113275320>"
      ]
     },
     "execution_count": 48,
     "metadata": {},
     "output_type": "execute_result"
    },
    {
     "data": {
      "image/png": "[encoded data removed]",
      "text/plain": [
       "<Figure size 360x360 with 1 Axes>"
      ]
     },
     "metadata": {},
     "output_type": "display_data"
    }
   ],
   "source": [
    "import matplotlib.pyplot as plt\n",
    "val.isNegative.value_counts().plot.pie(autopct='%.2f',figsize=(5, 5))"
   ]
  },
  {
   "cell_type": "code",
   "execution_count": null,
   "metadata": {},
   "outputs": [],
   "source": []
  },
  {
   "cell_type": "code",
   "execution_count": null,
   "metadata": {},
   "outputs": [],
   "source": [
    "train.to_json(\"train.json\")\n",
    "test.to_json(\"test.json\")\n",
    "val.to_json(\"val.json\")"
   ]
  },
  {
   "cell_type": "markdown",
   "metadata": {},
   "source": [
    "### Train val split such that the pubmedid do not overladp"
   ]
  },
  {
   "cell_type": "code",
   "execution_count": 49,
   "metadata": {},
   "outputs": [],
   "source": [
    "from sklearn.model_selection import train_test_split\n",
    "trainpubmed, testpubmed = train_test_split(data_filtered.pubmedId.unique(), test_size=.2,\n",
    "                                                        random_state=777)\n",
    "\n",
    "trainpubmed, valpubmed = train_test_split(trainpubmed, test_size=.2,\n",
    "                                                        random_state=777)"
   ]
  },
  {
   "cell_type": "code",
   "execution_count": 19,
   "metadata": {},
   "outputs": [
    {
     "name": "stdout",
     "output_type": "stream",
     "text": [
      "Unique pubmeds in train 531, test 166 and val 133\n"
     ]
    }
   ],
   "source": [
    "print(\"Unique pubmeds in train {}, test {} and val {}\".format(len(trainpubmed), len(testpubmed),len(valpubmed)))"
   ]
  },
  {
   "cell_type": "code",
   "execution_count": 50,
   "metadata": {},
   "outputs": [],
   "source": [
    "train = data_filtered[data_filtered['pubmedId'].isin(trainpubmed)]\n",
    "test = data_filtered[data_filtered['pubmedId'].isin(testpubmed)]\n",
    "val = data_filtered[data_filtered['pubmedId'].isin(valpubmed)]\n",
    "\n"
   ]
  },
  {
   "cell_type": "code",
   "execution_count": 51,
   "metadata": {},
   "outputs": [
    {
     "name": "stdout",
     "output_type": "stream",
     "text": [
      "The total number of train records including fake records 9214\n",
      "The total number of test records including fake records 2913\n",
      "The total number of val records including fake records 1692\n"
     ]
    }
   ],
   "source": [
    "\n",
    "train = generate_negative(train,  annotations_file)\n",
    "print(\"The total number of train records including fake records {}\".format(train.shape[0]))\n",
    "\n",
    "\n",
    "\n",
    "test = generate_negative(test,  annotations_file)\n",
    "print(\"The total number of test records including fake records {}\".format(test.shape[0]))\n",
    "\n",
    "\n",
    "val = generate_negative(val, annotations_file)\n",
    "print(\"The total number of val records including fake records {}\".format(val.shape[0]))"
   ]
  },
  {
   "cell_type": "code",
   "execution_count": 59,
   "metadata": {},
   "outputs": [
    {
     "data": {
      "text/plain": [
       "<matplotlib.axes._subplots.AxesSubplot at 0x1a12f67e80>"
      ]
     },
     "execution_count": 59,
     "metadata": {},
     "output_type": "execute_result"
    },
    {
     "data": {
      "image/png": "[encoded data removed]",
      "text/plain": [
       "<Figure size 3600x2160 with 3 Axes>"
      ]
     },
     "metadata": {},
     "output_type": "display_data"
    }
   ],
   "source": [
    "import matplotlib.pyplot as plt\n",
    "fig, ax = plt.subplots( 3,1, figsize=(50,30))\n",
    "train.isNegative.value_counts().plot.pie(autopct='%.2f',ax=ax[1])\n",
    "\n",
    "\n",
    "val.isNegative.value_counts().plot.pie(autopct='%.2f',ax=ax[0])\n",
    "\n",
    "test.isNegative.value_counts().plot.pie(autopct='%.2f',ax=ax[2])"
   ]
  },
  {
   "cell_type": "code",
   "execution_count": 53,
   "metadata": {},
   "outputs": [],
   "source": [
    "train.to_json(\"train_unique_pub.json\")\n",
    "test.to_json(\"test_unique_pub.json\")\n",
    "val.to_json(\"val_unique_pub.json\")"
   ]
  },
  {
   "cell_type": "code",
   "execution_count": null,
   "metadata": {},
   "outputs": [],
   "source": [
    "train.head(n=3)"
   ]
  }
 ],
 "metadata": {
  "kernelspec": {
   "display_name": "Python 3",
   "language": "python",
   "name": "python3"
  },
  "language_info": {
   "codemirror_mode": {
    "name": "ipython",
    "version": 3
   },
   "file_extension": ".py",
   "mimetype": "text/x-python",
   "name": "python",
   "nbconvert_exporter": "python",
   "pygments_lexer": "ipython3",
   "version": "3.6.4"
  }
 },
 "nbformat": 4,
 "nbformat_minor": 1
}
