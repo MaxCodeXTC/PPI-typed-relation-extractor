{
 "cells": [
  {
   "cell_type": "markdown",
   "metadata": {
    "collapsed": true
   },
   "source": [
    "## Data Exploration"
   ]
  },
  {
   "cell_type": "code",
   "execution_count": 1,
   "metadata": {},
   "outputs": [],
   "source": [
    "\n",
    "s3_data =\"s3://aegovan-data/human_output/human_interactions_ppi_v2.json\"\n",
    "s3_annotations =\"s3://aegovan-data/processed_dataset/input_data_pubtator_annotated_human.txt\"\n",
    "s3_results_prefix = \"s3://aegovan-data/processed_dataset/\"\n",
    "human_idmapping_dat = \"/users/aeg/Downloads/HUMAN_9606_idmapping.dat\"\n",
    "mouse_idmapping_dat=\"/users/aeg/Downloads/MOUSE_10090_idmapping.dat\"\n",
    "idmapping_dat=\"./tmpmap.dat\""
   ]
  },
  {
   "cell_type": "code",
   "execution_count": 2,
   "metadata": {},
   "outputs": [
    {
     "name": "stdout",
     "output_type": "stream",
     "text": [
      "cat: /users/aeg/Downloads/MOUSE_10090_idmapping.dat: No such file or directory\n",
      " 6069354 ./tmpmap.dat\n"
     ]
    }
   ],
   "source": [
    "!cp $human_idmapping_dat $idmapping_dat\n",
    "!cat $mouse_idmapping_dat >> $idmapping_dat\n",
    "!wc -l $idmapping_dat"
   ]
  },
  {
   "cell_type": "code",
   "execution_count": 3,
   "metadata": {},
   "outputs": [],
   "source": [
    "import boto3\n",
    "\n",
    "def download_single_file(bucket_name_path, local_path):\n",
    "    index = bucket_name_path.find(\"://\")\n",
    "\n",
    "    # remove the s3:// if present\n",
    "    if index > -1:\n",
    "        bucket_name_path = bucket_name_path[index + 3:]\n",
    "\n",
    "    key_start_index = bucket_name_path.find(\"/\")\n",
    "    bucket_name = bucket_name_path\n",
    "    key = \"/\"\n",
    "    if key_start_index > -1:\n",
    "        bucket_name = bucket_name_path[0:key_start_index]\n",
    "        key = bucket_name_path[key_start_index + 1:]\n",
    "        \n",
    "    client = boto3.resource('s3')\n",
    "    client.Bucket(bucket_name).download_file(key, local_path)\n"
   ]
  },
  {
   "cell_type": "code",
   "execution_count": 4,
   "metadata": {},
   "outputs": [],
   "source": [
    "data_file=\"input_data.json\"\n",
    "annotations_file=\"input_data_annotations.txt\""
   ]
  },
  {
   "cell_type": "code",
   "execution_count": 5,
   "metadata": {},
   "outputs": [],
   "source": [
    "download_single_file(s3_data, data_file)"
   ]
  },
  {
   "cell_type": "code",
   "execution_count": 6,
   "metadata": {},
   "outputs": [],
   "source": [
    "download_single_file(s3_annotations, annotations_file)"
   ]
  },
  {
   "cell_type": "code",
   "execution_count": 7,
   "metadata": {},
   "outputs": [
    {
     "name": "stdout",
     "output_type": "stream",
     "text": [
      "Total number of records: 3381\n"
     ]
    }
   ],
   "source": [
    "\n",
    "import pandas as pd\n",
    "\n",
    "data = pd.read_json(data_file)\n",
    "\n",
    "print(\"Total number of records: {}\".format(data.shape[0]))"
   ]
  },
  {
   "cell_type": "code",
   "execution_count": 8,
   "metadata": {},
   "outputs": [
    {
     "data": {
      "text/plain": [
       "850"
      ]
     },
     "execution_count": 8,
     "metadata": {},
     "output_type": "execute_result"
    }
   ],
   "source": [
    "data.pubmedId.nunique()"
   ]
  },
  {
   "cell_type": "code",
   "execution_count": 9,
   "metadata": {},
   "outputs": [],
   "source": [
    "\n",
    "pd.set_option('display.max_columns', None)\n",
    "pd.set_option('display.max_colwidth', 10000)\n",
    "pd.set_option('display.max_rows', 100)\n",
    "\n",
    "import matplotlib.pyplot as plt\n",
    "plt.rcParams['font.family'] = 'sans-serif'\n",
    "plt.rcParams['font.sans-serif'] = ['Times']\n",
    "plt.rcParams.update({'font.size': 12})"
   ]
  },
  {
   "cell_type": "markdown",
   "metadata": {},
   "source": [
    "## Preliminary data transformations"
   ]
  },
  {
   "cell_type": "code",
   "execution_count": 10,
   "metadata": {},
   "outputs": [],
   "source": [
    "#TODO: Fix data format\n",
    "data[\"pubmedId\"] = data[\"pubmedId\"].astype(str)\n",
    "data[\"interactionId\"] = data[\"interactionId\"].astype(str)\n",
    "data[\"isValid\"] =  data.isNegative.isin(['false', '0', 'False'])\n",
    "data = data.drop('isNegative', axis=1)"
   ]
  },
  {
   "cell_type": "markdown",
   "metadata": {},
   "source": [
    "### Sneak preview of the data"
   ]
  },
  {
   "cell_type": "code",
   "execution_count": 11,
   "metadata": {},
   "outputs": [
    {
     "data": {
      "text/html": [
       "<div>\n",
       "<style scoped>\n",
       "    .dataframe tbody tr th:only-of-type {\n",
       "        vertical-align: middle;\n",
       "    }\n",
       "\n",
       "    .dataframe tbody tr th {\n",
       "        vertical-align: top;\n",
       "    }\n",
       "\n",
       "    .dataframe thead th {\n",
       "        text-align: right;\n",
       "    }\n",
       "</style>\n",
       "<table border=\"1\" class=\"dataframe\">\n",
       "  <thead>\n",
       "    <tr style=\"text-align: right;\">\n",
       "      <th></th>\n",
       "      <th>interactionId</th>\n",
       "      <th>interactionType</th>\n",
       "      <th>participants</th>\n",
       "      <th>pubmedId</th>\n",
       "      <th>pubmedTitle</th>\n",
       "      <th>pubmedabstract</th>\n",
       "      <th>isValid</th>\n",
       "    </tr>\n",
       "  </thead>\n",
       "  <tbody>\n",
       "    <tr>\n",
       "      <th>0</th>\n",
       "      <td>1585513</td>\n",
       "      <td>phosphorylation</td>\n",
       "      <td>[{'uniprotid': 'Q10728', 'alias': [['mypt1_rat'], ['Protein phosphatase 1 regulatory subunit 12A'], ['Ppp1r12a'], ['Mbs'], ['Mypt1'], ['Myosin phosphatase-targeting subunit 1'], ['Protein phosphatase myosin-binding subunit'], ['MBSP'], ['Serine/threonine protein phosphatase PP1 smooth muscle regulatory subunit M110'], ['Protein phosphatase subunit 1M']], 'alternative_uniprots': ['Q62937', 'Q9WU33']}, {'uniprotid': 'O43293-2', 'alias': [['o43293-2'], ['Death-associated protein kinase 3'], ['ZIPK-S'], ['DAPK3'], ['ZIPK'], ['DAP-like kinase'], ['MYPT1 kinase'], ['Zipper-interacting protein kinase']], 'alternative_uniprots': []}]</td>\n",
       "      <td>17126281</td>\n",
       "      <td>None</td>\n",
       "      <td>Zipper-interacting protein kinase (ZIP kinase) has been thought to be involved in apoptosis and the C-terminal leucine zipper motif is important for its function. Recent studies have revealed that ZIP kinase also plays a role in regulating myosin phosphorylation. Here, we found novel ZIP kinase isoform in which the C-terminal non-kinase domain containing a leucine zipper is eliminated (hZIPK-S). hZIPK-S binds to myosin phosphatase targeting subunit 1(MYPT1) similar to the long isoform (hZIPK-L). In addition, we found that hZIPK-S as well as hZIPK-L bind to myosin. These results indicate that a leucine zipper is not critical for the binding of ZIP kinase to MYPT1 and myosin. Consistently, hZIPK-S localized with stress-fibers where they co-localized with myosin. The residues 278-311, the C-terminal side of the kinase domain common to the both isoforms, is involved in the binding to MYPT1, while the myosin binding domain is within the kinase domain. These results suggest that the newly found hZIPK-S as well as the long isoform play an important role in the regulation of myosin phosphorylation.</td>\n",
       "      <td>True</td>\n",
       "    </tr>\n",
       "    <tr>\n",
       "      <th>1</th>\n",
       "      <td>1585516</td>\n",
       "      <td>phosphorylation</td>\n",
       "      <td>[{'uniprotid': 'O43293-1', 'alias': [['o43293-1'], ['Death-associated protein kinase 3'], ['ZIPK-L'], ['DAPK3'], ['ZIPK'], ['DAP-like kinase'], ['MYPT1 kinase'], ['Zipper-interacting protein kinase']], 'alternative_uniprots': []}, {'uniprotid': 'Q10728', 'alias': [['mypt1_rat'], ['Protein phosphatase 1 regulatory subunit 12A'], ['Ppp1r12a'], ['Mbs'], ['Mypt1'], ['Myosin phosphatase-targeting subunit 1'], ['Protein phosphatase myosin-binding subunit'], ['MBSP'], ['Serine/threonine protein phosphatase PP1 smooth muscle regulatory subunit M110'], ['Protein phosphatase subunit 1M']], 'alternative_uniprots': ['Q62937', 'Q9WU33']}]</td>\n",
       "      <td>17126281</td>\n",
       "      <td>None</td>\n",
       "      <td>Zipper-interacting protein kinase (ZIP kinase) has been thought to be involved in apoptosis and the C-terminal leucine zipper motif is important for its function. Recent studies have revealed that ZIP kinase also plays a role in regulating myosin phosphorylation. Here, we found novel ZIP kinase isoform in which the C-terminal non-kinase domain containing a leucine zipper is eliminated (hZIPK-S). hZIPK-S binds to myosin phosphatase targeting subunit 1(MYPT1) similar to the long isoform (hZIPK-L). In addition, we found that hZIPK-S as well as hZIPK-L bind to myosin. These results indicate that a leucine zipper is not critical for the binding of ZIP kinase to MYPT1 and myosin. Consistently, hZIPK-S localized with stress-fibers where they co-localized with myosin. The residues 278-311, the C-terminal side of the kinase domain common to the both isoforms, is involved in the binding to MYPT1, while the myosin binding domain is within the kinase domain. These results suggest that the newly found hZIPK-S as well as the long isoform play an important role in the regulation of myosin phosphorylation.</td>\n",
       "      <td>True</td>\n",
       "    </tr>\n",
       "    <tr>\n",
       "      <th>10</th>\n",
       "      <td>575312</td>\n",
       "      <td>phosphorylation</td>\n",
       "      <td>[{'uniprotid': 'P02686-1', 'alias': [['p02686-1'], ['Myelin basic protein'], ['MBP'], ['Myelin A1 protein'], ['Myelin membrane encephalitogenic protein'], ['Golli-MBP1'], ['HOG7']], 'alternative_uniprots': []}, {'uniprotid': 'Q8I629', 'alias': [['q8i629_plaf7'], ['PF3D7_1201600']], 'alternative_uniprots': []}]</td>\n",
       "      <td>17064692</td>\n",
       "      <td>None</td>\n",
       "      <td>The canonical mitogen-activated protein kinase (MAPK) signal cascade was previously suggested to be atypical in the malaria parasite. This raises queries on the existence of alternative mediators of plasmodial MAPK pathways. This study describes, Pfnek3, a malarial protein kinase belonging to the NIMA (Never in Mitosis, Aspergillus) family. Endogenous Pfnek3 is expressed during late asexual to gametocyte stages and lacks some classical protein kinase sequence motifs. Moreover, Pfnek3 is phylogenetically distant from mammalian NIMA-kinases. Recombinant Pfnek3 was able to phosphorylate and stimulate a malarial MAPK (Pfmap2). Contrastingly, this was not observed with two other kinases, Pfmap1 and human MAPK1, suggesting that the Pfnek3-Pfmap2 interaction may be specific for Pfmap2 regulation. In summary, our data reveal a malarial NIMA-kinase with the potential to regulate a MAPK. Possessing biochemical properties divergent from classical mammalian NIMA-kinases, Pfnek3 could potentially be an attractive target for parasite-selective anti-malarials.</td>\n",
       "      <td>True</td>\n",
       "    </tr>\n",
       "  </tbody>\n",
       "</table>\n",
       "</div>"
      ],
      "text/plain": [
       "   interactionId  interactionType  \\\n",
       "0        1585513  phosphorylation   \n",
       "1        1585516  phosphorylation   \n",
       "10        575312  phosphorylation   \n",
       "\n",
       "                                                                                                                                                                                                                                                                                                                                                                                                                                                                                                                                                                                                                                                 participants  \\\n",
       "0   [{'uniprotid': 'Q10728', 'alias': [['mypt1_rat'], ['Protein phosphatase 1 regulatory subunit 12A'], ['Ppp1r12a'], ['Mbs'], ['Mypt1'], ['Myosin phosphatase-targeting subunit 1'], ['Protein phosphatase myosin-binding subunit'], ['MBSP'], ['Serine/threonine protein phosphatase PP1 smooth muscle regulatory subunit M110'], ['Protein phosphatase subunit 1M']], 'alternative_uniprots': ['Q62937', 'Q9WU33']}, {'uniprotid': 'O43293-2', 'alias': [['o43293-2'], ['Death-associated protein kinase 3'], ['ZIPK-S'], ['DAPK3'], ['ZIPK'], ['DAP-like kinase'], ['MYPT1 kinase'], ['Zipper-interacting protein kinase']], 'alternative_uniprots': []}]   \n",
       "1   [{'uniprotid': 'O43293-1', 'alias': [['o43293-1'], ['Death-associated protein kinase 3'], ['ZIPK-L'], ['DAPK3'], ['ZIPK'], ['DAP-like kinase'], ['MYPT1 kinase'], ['Zipper-interacting protein kinase']], 'alternative_uniprots': []}, {'uniprotid': 'Q10728', 'alias': [['mypt1_rat'], ['Protein phosphatase 1 regulatory subunit 12A'], ['Ppp1r12a'], ['Mbs'], ['Mypt1'], ['Myosin phosphatase-targeting subunit 1'], ['Protein phosphatase myosin-binding subunit'], ['MBSP'], ['Serine/threonine protein phosphatase PP1 smooth muscle regulatory subunit M110'], ['Protein phosphatase subunit 1M']], 'alternative_uniprots': ['Q62937', 'Q9WU33']}]   \n",
       "10                                                                                                                                                                                                                                                                                                                                    [{'uniprotid': 'P02686-1', 'alias': [['p02686-1'], ['Myelin basic protein'], ['MBP'], ['Myelin A1 protein'], ['Myelin membrane encephalitogenic protein'], ['Golli-MBP1'], ['HOG7']], 'alternative_uniprots': []}, {'uniprotid': 'Q8I629', 'alias': [['q8i629_plaf7'], ['PF3D7_1201600']], 'alternative_uniprots': []}]   \n",
       "\n",
       "    pubmedId pubmedTitle  \\\n",
       "0   17126281        None   \n",
       "1   17126281        None   \n",
       "10  17064692        None   \n",
       "\n",
       "                                                                                                                                                                                                                                                                                                                                                                                                                                                                                                                                                                                                                                                                                                                                                                                                                                                                                                                                                                                                                                                                                                                                         pubmedabstract  \\\n",
       "0   Zipper-interacting protein kinase (ZIP kinase) has been thought to be involved in apoptosis and the C-terminal leucine zipper motif is important for its function. Recent studies have revealed that ZIP kinase also plays a role in regulating myosin phosphorylation. Here, we found novel ZIP kinase isoform in which the C-terminal non-kinase domain containing a leucine zipper is eliminated (hZIPK-S). hZIPK-S binds to myosin phosphatase targeting subunit 1(MYPT1) similar to the long isoform (hZIPK-L). In addition, we found that hZIPK-S as well as hZIPK-L bind to myosin. These results indicate that a leucine zipper is not critical for the binding of ZIP kinase to MYPT1 and myosin. Consistently, hZIPK-S localized with stress-fibers where they co-localized with myosin. The residues 278-311, the C-terminal side of the kinase domain common to the both isoforms, is involved in the binding to MYPT1, while the myosin binding domain is within the kinase domain. These results suggest that the newly found hZIPK-S as well as the long isoform play an important role in the regulation of myosin phosphorylation.   \n",
       "1   Zipper-interacting protein kinase (ZIP kinase) has been thought to be involved in apoptosis and the C-terminal leucine zipper motif is important for its function. Recent studies have revealed that ZIP kinase also plays a role in regulating myosin phosphorylation. Here, we found novel ZIP kinase isoform in which the C-terminal non-kinase domain containing a leucine zipper is eliminated (hZIPK-S). hZIPK-S binds to myosin phosphatase targeting subunit 1(MYPT1) similar to the long isoform (hZIPK-L). In addition, we found that hZIPK-S as well as hZIPK-L bind to myosin. These results indicate that a leucine zipper is not critical for the binding of ZIP kinase to MYPT1 and myosin. Consistently, hZIPK-S localized with stress-fibers where they co-localized with myosin. The residues 278-311, the C-terminal side of the kinase domain common to the both isoforms, is involved in the binding to MYPT1, while the myosin binding domain is within the kinase domain. These results suggest that the newly found hZIPK-S as well as the long isoform play an important role in the regulation of myosin phosphorylation.   \n",
       "10                                                The canonical mitogen-activated protein kinase (MAPK) signal cascade was previously suggested to be atypical in the malaria parasite. This raises queries on the existence of alternative mediators of plasmodial MAPK pathways. This study describes, Pfnek3, a malarial protein kinase belonging to the NIMA (Never in Mitosis, Aspergillus) family. Endogenous Pfnek3 is expressed during late asexual to gametocyte stages and lacks some classical protein kinase sequence motifs. Moreover, Pfnek3 is phylogenetically distant from mammalian NIMA-kinases. Recombinant Pfnek3 was able to phosphorylate and stimulate a malarial MAPK (Pfmap2). Contrastingly, this was not observed with two other kinases, Pfmap1 and human MAPK1, suggesting that the Pfnek3-Pfmap2 interaction may be specific for Pfmap2 regulation. In summary, our data reveal a malarial NIMA-kinase with the potential to regulate a MAPK. Possessing biochemical properties divergent from classical mammalian NIMA-kinases, Pfnek3 could potentially be an attractive target for parasite-selective anti-malarials.   \n",
       "\n",
       "    isValid  \n",
       "0      True  \n",
       "1      True  \n",
       "10     True  "
      ]
     },
     "execution_count": 11,
     "metadata": {},
     "output_type": "execute_result"
    }
   ],
   "source": [
    "data.head(n=3)"
   ]
  },
  {
   "cell_type": "code",
   "execution_count": 12,
   "metadata": {},
   "outputs": [
    {
     "data": {
      "text/plain": [
       "(3381, 7)"
      ]
     },
     "execution_count": 12,
     "metadata": {},
     "output_type": "execute_result"
    }
   ],
   "source": [
    "data.shape"
   ]
  },
  {
   "cell_type": "code",
   "execution_count": 13,
   "metadata": {},
   "outputs": [],
   "source": [
    "def to_percent(y, position):\n",
    "    # Ignore the passed in position. This has the effect of scaling the default\n",
    "    # tick locations.\n",
    "    s = str(100 * y)\n",
    "\n",
    "    # The percent symbol needs escaping in latex\n",
    "    if matplotlib.rcParams['text.usetex'] is True:\n",
    "        return s + r'$\\%$'\n",
    "    else:\n",
    "        return s + '%'"
   ]
  },
  {
   "cell_type": "markdown",
   "metadata": {},
   "source": [
    "### Number of interactions per paper\n",
    "**Note: The number of interactions per paper only takes the filtered interactions extracted from the Intact database**"
   ]
  },
  {
   "cell_type": "code",
   "execution_count": 14,
   "metadata": {},
   "outputs": [
    {
     "name": "stderr",
     "output_type": "stream",
     "text": [
      "/Users/aeg/miniconda/envs/kegg_env/lib/python3.7/site-packages/matplotlib/font_manager.py:1238: UserWarning: findfont: Font family ['sans-serif'] not found. Falling back to DejaVu Sans.\n",
      "  (prop.get_family(), self.defaultFamily[fontext]))\n"
     ]
    },
    {
     "data": {
      "image/png": "[encoded data removed]",
      "text/plain": [
       "<Figure size 720x360 with 1 Axes>"
      ]
     },
     "metadata": {
      "needs_background": "light"
     },
     "output_type": "display_data"
    }
   ],
   "source": [
    "import matplotlib.pyplot as plt\n",
    "import numpy as np \n",
    "\n",
    "ax = plt.axes( yscale='log')\n",
    "ax.xaxis.set_major_locator(plt.MaxNLocator(10, prune='lower'))\n",
    "\n",
    "#sns.distplot(data.pubmedId.value_counts().tolist(), bins=100, kde=False, norm_hist=True)\n",
    "\n",
    "data.pubmedId.value_counts().plot.hist (bins=250,figsize=(10,5), ax=ax, color='dodgerblue')\n",
    "plt.title('Histogram - number of interactions per pubmed')\n",
    "plt.xlabel('Number of interactions per Pubmed paper')\n",
    "plt.ylabel('Frequency')\n",
    "#plt.show()\n",
    "plt.savefig('PaperVsInteractions.eps', bbox_inches='tight')\n",
    "plt.savefig('PaperVsInteractions.png', bbox_inches='tight')\n",
    "plt.show()"
   ]
  },
  {
   "cell_type": "code",
   "execution_count": 15,
   "metadata": {},
   "outputs": [
    {
     "data": {
      "image/png": "[encoded data removed]",
      "text/plain": [
       "<Figure size 1080x360 with 1 Axes>"
      ]
     },
     "metadata": {
      "needs_background": "light"
     },
     "output_type": "display_data"
    }
   ],
   "source": [
    "df = data.pubmedId.value_counts().hist (bins=range(1, 30), figsize=(15,5), color = 'red')\n",
    "\n",
    "plt.title('Papers vs number of interactions distribution ( Filtered distribution of interactions between 1 to 30)')\n",
    "plt.xlabel('Number of interactions per paper')\n",
    "plt.ylabel('Total number of papers')\n",
    "\n",
    "plt.show()"
   ]
  },
  {
   "cell_type": "markdown",
   "metadata": {},
   "source": [
    "### Interaction Types distribution"
   ]
  },
  {
   "cell_type": "code",
   "execution_count": 16,
   "metadata": {},
   "outputs": [
    {
     "data": {
      "image/png": "[encoded data removed]",
      "text/plain": [
       "<Figure size 576x576 with 1 Axes>"
      ]
     },
     "metadata": {},
     "output_type": "display_data"
    }
   ],
   "source": [
    "data.interactionType.value_counts().plot.pie(autopct='%.2f',figsize=(8, 8))\n",
    "plt.title('Interaction Type Distribution')\n",
    "plt.savefig(\"Interactiontype.svg\")\n",
    "plt.show()"
   ]
  },
  {
   "cell_type": "code",
   "execution_count": 17,
   "metadata": {},
   "outputs": [
    {
     "data": {
      "text/html": [
       "<div>\n",
       "<style scoped>\n",
       "    .dataframe tbody tr th:only-of-type {\n",
       "        vertical-align: middle;\n",
       "    }\n",
       "\n",
       "    .dataframe tbody tr th {\n",
       "        vertical-align: top;\n",
       "    }\n",
       "\n",
       "    .dataframe thead th {\n",
       "        text-align: right;\n",
       "    }\n",
       "</style>\n",
       "<table border=\"1\" class=\"dataframe\">\n",
       "  <thead>\n",
       "    <tr style=\"text-align: right;\">\n",
       "      <th></th>\n",
       "      <th>interactionType</th>\n",
       "    </tr>\n",
       "  </thead>\n",
       "  <tbody>\n",
       "    <tr>\n",
       "      <th>phosphorylation</th>\n",
       "      <td>2446</td>\n",
       "    </tr>\n",
       "    <tr>\n",
       "      <th>dephosphorylation</th>\n",
       "      <td>437</td>\n",
       "    </tr>\n",
       "    <tr>\n",
       "      <th>ubiquitination</th>\n",
       "      <td>226</td>\n",
       "    </tr>\n",
       "    <tr>\n",
       "      <th>methylation</th>\n",
       "      <td>134</td>\n",
       "    </tr>\n",
       "    <tr>\n",
       "      <th>acetylation</th>\n",
       "      <td>70</td>\n",
       "    </tr>\n",
       "    <tr>\n",
       "      <th>demethylation</th>\n",
       "      <td>37</td>\n",
       "    </tr>\n",
       "    <tr>\n",
       "      <th>deubiquitination</th>\n",
       "      <td>31</td>\n",
       "    </tr>\n",
       "  </tbody>\n",
       "</table>\n",
       "</div>"
      ],
      "text/plain": [
       "                   interactionType\n",
       "phosphorylation               2446\n",
       "dephosphorylation              437\n",
       "ubiquitination                 226\n",
       "methylation                    134\n",
       "acetylation                     70\n",
       "demethylation                   37\n",
       "deubiquitination                31"
      ]
     },
     "execution_count": 17,
     "metadata": {},
     "output_type": "execute_result"
    }
   ],
   "source": [
    "data.interactionType.value_counts().to_frame()"
   ]
  },
  {
   "cell_type": "markdown",
   "metadata": {},
   "source": [
    "### Distinct interaction types per paper"
   ]
  },
  {
   "cell_type": "code",
   "execution_count": 18,
   "metadata": {},
   "outputs": [
    {
     "data": {
      "image/png": "[encoded data removed]",
      "text/plain": [
       "<Figure size 432x288 with 1 Axes>"
      ]
     },
     "metadata": {
      "needs_background": "light"
     },
     "output_type": "display_data"
    }
   ],
   "source": [
    "import numpy as np\n",
    "\n",
    "distinct_no_papers = data['pubmedId'].nunique()\n",
    "\n",
    "data.groupby('pubmedId')['interactionType'].nunique().hist(bins=100, density=1)\n",
    "plt.title(\"Number of unique interaction types per paper\")\n",
    "plt.xlabel('Number of unique interaction types')\n",
    "plt.ylabel('Percentage of Pubmed papers'.format(distinct_no_papers))\n",
    "plt.show()\n"
   ]
  },
  {
   "cell_type": "markdown",
   "metadata": {},
   "source": [
    "### Postive vs Negative Relationships"
   ]
  },
  {
   "cell_type": "code",
   "execution_count": 19,
   "metadata": {},
   "outputs": [
    {
     "data": {
      "image/png": "[encoded data removed]",
      "text/plain": [
       "<Figure size 360x360 with 1 Axes>"
      ]
     },
     "metadata": {},
     "output_type": "display_data"
    }
   ],
   "source": [
    "data.isValid.value_counts().plot.pie(autopct='%.2f',figsize=(5, 5))\n",
    "plt.title('Is Valid relationship')\n",
    "plt.show()"
   ]
  },
  {
   "cell_type": "markdown",
   "metadata": {},
   "source": [
    "### Number of participants per interaction"
   ]
  },
  {
   "cell_type": "code",
   "execution_count": 20,
   "metadata": {
    "scrolled": true
   },
   "outputs": [
    {
     "data": {
      "image/png": "[encoded data removed]",
      "text/plain": [
       "<Figure size 360x360 with 1 Axes>"
      ]
     },
     "metadata": {
      "needs_background": "light"
     },
     "output_type": "display_data"
    }
   ],
   "source": [
    "import numpy as np\n",
    "import matplotlib.ticker as mtick\n",
    "\n",
    "\n",
    "fig, ax = plt.subplots( 1,1, figsize=(15,5))\n",
    "\n",
    "\n",
    "\n",
    "#fig, ax = plt.subplots( 7,1, figsize=(45,30))\n",
    "c_ax= ax\n",
    "c_ax.yaxis.set_major_formatter(mtick.PercentFormatter())\n",
    "\n",
    "data['participants_count'] = data[\"participants\"].apply(lambda x: len(x))\n",
    "\n",
    "data['participants_count'].hist (bins=50, ax=c_ax, figsize=(5,5), color = 'dodgerblue',  weights = np.ones_like(data['participants_count'].index)*100 / len(data['participants_count'].index))\n",
    "plt.title(\"Participants count per interaction\")\n",
    "plt.xlabel('Number of participants per interaction')\n",
    "plt.ylabel('Percentage of interactions')\n",
    "plt.savefig(\"ParticipantsPerInteraction.eps\")\n",
    "plt.show()"
   ]
  },
  {
   "cell_type": "markdown",
   "metadata": {},
   "source": [
    "### Explore if the abstract contains the trigger word"
   ]
  },
  {
   "cell_type": "code",
   "execution_count": 21,
   "metadata": {},
   "outputs": [
    {
     "name": "stdout",
     "output_type": "stream",
     "text": [
      "Requirement already satisfied: nltk==3.4.5 in /Users/aeg/miniconda/envs/kegg_env/lib/python3.7/site-packages (3.4.5)\n",
      "Requirement already satisfied: six in /Users/aeg/miniconda/envs/kegg_env/lib/python3.7/site-packages (from nltk==3.4.5) (1.13.0)\n",
      "\u001b[33mWARNING: You are using pip version 19.3.1; however, version 20.0.2 is available.\n",
      "You should consider upgrading via the 'pip install --upgrade pip' command.\u001b[0m\n"
     ]
    }
   ],
   "source": [
    "!pip install nltk==3.4.5"
   ]
  },
  {
   "cell_type": "code",
   "execution_count": 22,
   "metadata": {},
   "outputs": [
    {
     "name": "stdout",
     "output_type": "stream",
     "text": [
      "0      phosphoryl\n",
      "1     deubiquitin\n",
      "2          methyl\n",
      "3        demethyl\n",
      "4          acetyl\n",
      "5       ubiquitin\n",
      "6    dephosphoryl\n",
      "dtype: object\n"
     ]
    }
   ],
   "source": [
    "from nltk.stem import PorterStemmer\n",
    "from nltk.tokenize import sent_tokenize, word_tokenize\n",
    "\n",
    "stemmer = PorterStemmer()\n",
    "print(pd.DataFrame(data.interactionType.unique()).apply(lambda r: stemmer.stem(r.iloc[0].lower()), axis=1))\n",
    "\n",
    "data[\"hasTriggerWord\"] = data.apply(lambda r: stemmer.stem(r[\"interactionType\"].lower()) in r[\"pubmedabstract\"].lower() , 1)"
   ]
  },
  {
   "cell_type": "code",
   "execution_count": 23,
   "metadata": {},
   "outputs": [
    {
     "data": {
      "image/png": "[encoded data removed]",
      "text/plain": [
       "<Figure size 360x360 with 1 Axes>"
      ]
     },
     "metadata": {},
     "output_type": "display_data"
    }
   ],
   "source": [
    "data.hasTriggerWord.value_counts().plot.pie(autopct='%.2f',figsize=(5, 5))\n",
    "plt.title('Has trigger word')\n",
    "plt.show()"
   ]
  },
  {
   "cell_type": "code",
   "execution_count": 24,
   "metadata": {},
   "outputs": [
    {
     "data": {
      "text/html": [
       "<div>\n",
       "<style scoped>\n",
       "    .dataframe tbody tr th:only-of-type {\n",
       "        vertical-align: middle;\n",
       "    }\n",
       "\n",
       "    .dataframe tbody tr th {\n",
       "        vertical-align: top;\n",
       "    }\n",
       "\n",
       "    .dataframe thead th {\n",
       "        text-align: right;\n",
       "    }\n",
       "</style>\n",
       "<table border=\"1\" class=\"dataframe\">\n",
       "  <thead>\n",
       "    <tr style=\"text-align: right;\">\n",
       "      <th>hasTriggerWord</th>\n",
       "      <th>False</th>\n",
       "      <th>True</th>\n",
       "    </tr>\n",
       "    <tr>\n",
       "      <th>interactionType</th>\n",
       "      <th></th>\n",
       "      <th></th>\n",
       "    </tr>\n",
       "  </thead>\n",
       "  <tbody>\n",
       "    <tr>\n",
       "      <th>acetylation</th>\n",
       "      <td>7.1</td>\n",
       "      <td>92.9</td>\n",
       "    </tr>\n",
       "    <tr>\n",
       "      <th>demethylation</th>\n",
       "      <td>2.7</td>\n",
       "      <td>97.3</td>\n",
       "    </tr>\n",
       "    <tr>\n",
       "      <th>dephosphorylation</th>\n",
       "      <td>11.4</td>\n",
       "      <td>88.6</td>\n",
       "    </tr>\n",
       "    <tr>\n",
       "      <th>deubiquitination</th>\n",
       "      <td>22.6</td>\n",
       "      <td>77.4</td>\n",
       "    </tr>\n",
       "    <tr>\n",
       "      <th>methylation</th>\n",
       "      <td>0.7</td>\n",
       "      <td>99.3</td>\n",
       "    </tr>\n",
       "    <tr>\n",
       "      <th>phosphorylation</th>\n",
       "      <td>10.1</td>\n",
       "      <td>89.9</td>\n",
       "    </tr>\n",
       "    <tr>\n",
       "      <th>ubiquitination</th>\n",
       "      <td>1.8</td>\n",
       "      <td>98.2</td>\n",
       "    </tr>\n",
       "  </tbody>\n",
       "</table>\n",
       "</div>"
      ],
      "text/plain": [
       "hasTriggerWord     False  True \n",
       "interactionType                \n",
       "acetylation          7.1   92.9\n",
       "demethylation        2.7   97.3\n",
       "dephosphorylation   11.4   88.6\n",
       "deubiquitination    22.6   77.4\n",
       "methylation          0.7   99.3\n",
       "phosphorylation     10.1   89.9\n",
       "ubiquitination       1.8   98.2"
      ]
     },
     "execution_count": 24,
     "metadata": {},
     "output_type": "execute_result"
    }
   ],
   "source": [
    "data.groupby([ 'interactionType','hasTriggerWord']).size().unstack().apply(lambda x: round(x/sum(x),3)*100, axis=1)\n"
   ]
  },
  {
   "cell_type": "markdown",
   "metadata": {},
   "source": [
    "### Explore how many of the entity alias are mentioned in the abstract"
   ]
  },
  {
   "cell_type": "code",
   "execution_count": 25,
   "metadata": {},
   "outputs": [
    {
     "name": "stdout",
     "output_type": "stream",
     "text": [
      "CPU times: user 24 s, sys: 63.2 ms, total: 24 s\n",
      "Wall time: 24.1 s\n"
     ]
    }
   ],
   "source": [
    "%%time \n",
    "\n",
    "from difflib import SequenceMatcher\n",
    "def getEntityMentionsCount(r):\n",
    "    count = 0\n",
    "    abstract = r[\"pubmedabstract\"].lower()\n",
    "    abstract_len= len(abstract)\n",
    "    for p in r[\"participants\"]:\n",
    "        if p is None or p['alias'] is None : continue\n",
    "        \n",
    "        for a in p['alias']:\n",
    "            alias = a[0].lower()\n",
    "            s = SequenceMatcher(None, abstract, alias)\n",
    "            _,_,match_size = s.find_longest_match(0, len(abstract), 0, len(alias))\n",
    "            if match_size >= 3 and match_size >= len(alias)/2 :\n",
    "                count += 1\n",
    "        \n",
    "    return count\n",
    "        \n",
    "\n",
    "data[\"entityMentionsCount\"] = data.apply(lambda r: getEntityMentionsCount(r)  , 1)"
   ]
  },
  {
   "cell_type": "code",
   "execution_count": 26,
   "metadata": {},
   "outputs": [
    {
     "data": {
      "image/png": "[encoded data removed]",
      "text/plain": [
       "<Figure size 1080x360 with 1 Axes>"
      ]
     },
     "metadata": {
      "needs_background": "light"
     },
     "output_type": "display_data"
    }
   ],
   "source": [
    "data['entityMentionsCount'].hist ( bins=150, figsize=(15,5), color = 'red')\n",
    "plt.title('Entity mentions count distribution')\n",
    "plt.xlabel('Entity name mentions count in abstract')\n",
    "plt.ylabel('Total number of interactions')\n",
    "\n",
    "plt.show()"
   ]
  },
  {
   "cell_type": "code",
   "execution_count": 27,
   "metadata": {},
   "outputs": [
    {
     "data": {
      "image/png": "[encoded data removed]",
      "text/plain": [
       "<Figure size 432x288 with 1 Axes>"
      ]
     },
     "metadata": {},
     "output_type": "display_data"
    }
   ],
   "source": [
    "(data['entityMentionsCount'] > 0).value_counts().plot.pie(autopct='%.2f')\n",
    "plt.title(\"Percentage of interactions with entity mentions \")\n",
    "plt.ylabel(\"Entity mentions > 0\")\n",
    "plt.show()"
   ]
  },
  {
   "cell_type": "markdown",
   "metadata": {},
   "source": [
    "### Randomly eye ball interactions with no entity mentions"
   ]
  },
  {
   "cell_type": "code",
   "execution_count": 28,
   "metadata": {},
   "outputs": [
    {
     "data": {
      "text/html": [
       "<div>\n",
       "<style scoped>\n",
       "    .dataframe tbody tr th:only-of-type {\n",
       "        vertical-align: middle;\n",
       "    }\n",
       "\n",
       "    .dataframe tbody tr th {\n",
       "        vertical-align: top;\n",
       "    }\n",
       "\n",
       "    .dataframe thead th {\n",
       "        text-align: right;\n",
       "    }\n",
       "</style>\n",
       "<table border=\"1\" class=\"dataframe\">\n",
       "  <thead>\n",
       "    <tr style=\"text-align: right;\">\n",
       "      <th></th>\n",
       "      <th>participants</th>\n",
       "      <th>pubmedabstract</th>\n",
       "    </tr>\n",
       "  </thead>\n",
       "  <tbody>\n",
       "    <tr>\n",
       "      <th>799</th>\n",
       "      <td>[{'uniprotid': 'P68400', 'alias': [['csk21_human'], ['Casein kinase II subunit alpha'], ['CSNK2A1'], ['CK2A1']], 'alternative_uniprots': ['Q5U065', 'Q14013', 'P19138', 'B4DYS6', 'P20426', 'D3DVV8']}, {'uniprotid': 'Q5VT52-1', 'alias': [['q5vt52-1'], ['Regulation of nuclear pre-mRNA domain-containing protein 2'], ['RPRD2'], ['KIAA0460'], ['HSPC099']], 'alternative_uniprots': []}]</td>\n",
       "      <td>Deciphering the kinase-substrate relationship is vital for the study of phosphorylation network. The use of immobilized proteins on protein chip as the library for screening of potential kinase substrates is a tried-and-tested method. However, information on phosphorylation sites is lacking and the creation of the library with proteins of whole proteome by recombinant expression is costly and difficult. In this study, a new solid-phase approach by immobilization of proteins from cell lysate onto beads as a protein library for kinase substrate screening was developed. It was found that consensus phosphorylation sites motif for kinase substrates could be accurately determined and hundreds of in vitro kinase substrates and their phosphorylation sites could be identified by using this method.</td>\n",
       "    </tr>\n",
       "    <tr>\n",
       "      <th>10</th>\n",
       "      <td>[{'uniprotid': 'P02686-1', 'alias': [['p02686-1'], ['Myelin basic protein'], ['MBP'], ['Myelin A1 protein'], ['Myelin membrane encephalitogenic protein'], ['Golli-MBP1'], ['HOG7']], 'alternative_uniprots': []}, {'uniprotid': 'Q8I629', 'alias': [['q8i629_plaf7'], ['PF3D7_1201600']], 'alternative_uniprots': []}]</td>\n",
       "      <td>The canonical mitogen-activated protein kinase (MAPK) signal cascade was previously suggested to be atypical in the malaria parasite. This raises queries on the existence of alternative mediators of plasmodial MAPK pathways. This study describes, Pfnek3, a malarial protein kinase belonging to the NIMA (Never in Mitosis, Aspergillus) family. Endogenous Pfnek3 is expressed during late asexual to gametocyte stages and lacks some classical protein kinase sequence motifs. Moreover, Pfnek3 is phylogenetically distant from mammalian NIMA-kinases. Recombinant Pfnek3 was able to phosphorylate and stimulate a malarial MAPK (Pfmap2). Contrastingly, this was not observed with two other kinases, Pfmap1 and human MAPK1, suggesting that the Pfnek3-Pfmap2 interaction may be specific for Pfmap2 regulation. In summary, our data reveal a malarial NIMA-kinase with the potential to regulate a MAPK. Possessing biochemical properties divergent from classical mammalian NIMA-kinases, Pfnek3 could potentially be an attractive target for parasite-selective anti-malarials.</td>\n",
       "    </tr>\n",
       "    <tr>\n",
       "      <th>1814</th>\n",
       "      <td>[{'uniprotid': 'O88351', 'alias': [['ikkb_mouse'], ['Inhibitor of nuclear factor kappa-B kinase subunit beta'], ['I-kappa-B kinase 2'], ['Nuclear factor NF-kappa-B inhibitor kinase beta'], ['Ikbkb'], ['Ikkb']], 'alternative_uniprots': ['Q9R1J6']}, {'uniprotid': 'P25963', 'alias': [['ikba_human'], ['NF-kappa-B inhibitor alpha'], ['NFKBIA'], ['IKBA'], ['MAD3'], ['NFKBI'], ['I-kappa-B-alpha'], ['Major histocompatibility complex enhancer-binding protein MAD3']], 'alternative_uniprots': ['B2R8L6']}]</td>\n",
       "      <td>Tpl2/Cot is a serine/threonine kinase that plays a key physiological role in the regulation of immune responses to pro-inflammatory stimuli, including tumor necrosis factor-alpha (TNF-alpha). TNF-alpha stimulates the JNK, ERK, and p38 mitogen-activated protein kinases and the NF-kappaB pathway by recruiting RIP1 and TRAF2 to the TNF receptor 1. Here we showed that Tpl2 activation by TNF-alpha signals depends on the integrity of the Tpl2-interacting proteins RIP1 and TRAF2, which are required for the engagement of the ERK mitogen-activated protein kinase pathway. However, neither RIP1 nor TRAF2 overexpression was sufficient to activate Tpl2 and ERK. We also showed that Tpl2 activation by TNF-alpha depends on a tyrosine kinase activity that is detected in TNF-alpha-stimulated cells. Based on both genetic and biochemical evidence, we concluded that in a variety of cell types, Syk is the tyrosine kinase that plays an important role in the activation of Tpl2 upstream of ERK. These data therefore dissect the TNF receptor 1 proximal events that regulate Tpl2 and ERK and highlight a role for RIP1, TRAF2, and Syk in this pathway.</td>\n",
       "    </tr>\n",
       "  </tbody>\n",
       "</table>\n",
       "</div>"
      ],
      "text/plain": [
       "                                                                                                                                                                                                                                                                                                                                                                                                                                                                                                             participants  \\\n",
       "799                                                                                                                         [{'uniprotid': 'P68400', 'alias': [['csk21_human'], ['Casein kinase II subunit alpha'], ['CSNK2A1'], ['CK2A1']], 'alternative_uniprots': ['Q5U065', 'Q14013', 'P19138', 'B4DYS6', 'P20426', 'D3DVV8']}, {'uniprotid': 'Q5VT52-1', 'alias': [['q5vt52-1'], ['Regulation of nuclear pre-mRNA domain-containing protein 2'], ['RPRD2'], ['KIAA0460'], ['HSPC099']], 'alternative_uniprots': []}]   \n",
       "10                                                                                                                                                                                                [{'uniprotid': 'P02686-1', 'alias': [['p02686-1'], ['Myelin basic protein'], ['MBP'], ['Myelin A1 protein'], ['Myelin membrane encephalitogenic protein'], ['Golli-MBP1'], ['HOG7']], 'alternative_uniprots': []}, {'uniprotid': 'Q8I629', 'alias': [['q8i629_plaf7'], ['PF3D7_1201600']], 'alternative_uniprots': []}]   \n",
       "1814  [{'uniprotid': 'O88351', 'alias': [['ikkb_mouse'], ['Inhibitor of nuclear factor kappa-B kinase subunit beta'], ['I-kappa-B kinase 2'], ['Nuclear factor NF-kappa-B inhibitor kinase beta'], ['Ikbkb'], ['Ikkb']], 'alternative_uniprots': ['Q9R1J6']}, {'uniprotid': 'P25963', 'alias': [['ikba_human'], ['NF-kappa-B inhibitor alpha'], ['NFKBIA'], ['IKBA'], ['MAD3'], ['NFKBI'], ['I-kappa-B-alpha'], ['Major histocompatibility complex enhancer-binding protein MAD3']], 'alternative_uniprots': ['B2R8L6']}]   \n",
       "\n",
       "                                                                                                                                                                                                                                                                                                                                                                                                                                                                                                                                                                                                                                                                                                                                                                                                                                                                                                                                                                                                                                                                                                                                                                          pubmedabstract  \n",
       "799                                                                                                                                                                                                                                                                                                                                                      Deciphering the kinase-substrate relationship is vital for the study of phosphorylation network. The use of immobilized proteins on protein chip as the library for screening of potential kinase substrates is a tried-and-tested method. However, information on phosphorylation sites is lacking and the creation of the library with proteins of whole proteome by recombinant expression is costly and difficult. In this study, a new solid-phase approach by immobilization of proteins from cell lysate onto beads as a protein library for kinase substrate screening was developed. It was found that consensus phosphorylation sites motif for kinase substrates could be accurately determined and hundreds of in vitro kinase substrates and their phosphorylation sites could be identified by using this method.  \n",
       "10                                                                                 The canonical mitogen-activated protein kinase (MAPK) signal cascade was previously suggested to be atypical in the malaria parasite. This raises queries on the existence of alternative mediators of plasmodial MAPK pathways. This study describes, Pfnek3, a malarial protein kinase belonging to the NIMA (Never in Mitosis, Aspergillus) family. Endogenous Pfnek3 is expressed during late asexual to gametocyte stages and lacks some classical protein kinase sequence motifs. Moreover, Pfnek3 is phylogenetically distant from mammalian NIMA-kinases. Recombinant Pfnek3 was able to phosphorylate and stimulate a malarial MAPK (Pfmap2). Contrastingly, this was not observed with two other kinases, Pfmap1 and human MAPK1, suggesting that the Pfnek3-Pfmap2 interaction may be specific for Pfmap2 regulation. In summary, our data reveal a malarial NIMA-kinase with the potential to regulate a MAPK. Possessing biochemical properties divergent from classical mammalian NIMA-kinases, Pfnek3 could potentially be an attractive target for parasite-selective anti-malarials.  \n",
       "1814  Tpl2/Cot is a serine/threonine kinase that plays a key physiological role in the regulation of immune responses to pro-inflammatory stimuli, including tumor necrosis factor-alpha (TNF-alpha). TNF-alpha stimulates the JNK, ERK, and p38 mitogen-activated protein kinases and the NF-kappaB pathway by recruiting RIP1 and TRAF2 to the TNF receptor 1. Here we showed that Tpl2 activation by TNF-alpha signals depends on the integrity of the Tpl2-interacting proteins RIP1 and TRAF2, which are required for the engagement of the ERK mitogen-activated protein kinase pathway. However, neither RIP1 nor TRAF2 overexpression was sufficient to activate Tpl2 and ERK. We also showed that Tpl2 activation by TNF-alpha depends on a tyrosine kinase activity that is detected in TNF-alpha-stimulated cells. Based on both genetic and biochemical evidence, we concluded that in a variety of cell types, Syk is the tyrosine kinase that plays an important role in the activation of Tpl2 upstream of ERK. These data therefore dissect the TNF receptor 1 proximal events that regulate Tpl2 and ERK and highlight a role for RIP1, TRAF2, and Syk in this pathway.  "
      ]
     },
     "execution_count": 28,
     "metadata": {},
     "output_type": "execute_result"
    }
   ],
   "source": [
    "\n",
    "data.query('entityMentionsCount == 0')[['participants','pubmedabstract' ]].sample(n=3)\n"
   ]
  },
  {
   "cell_type": "code",
   "execution_count": 29,
   "metadata": {},
   "outputs": [
    {
     "data": {
      "text/html": [
       "<div>\n",
       "<style scoped>\n",
       "    .dataframe tbody tr th:only-of-type {\n",
       "        vertical-align: middle;\n",
       "    }\n",
       "\n",
       "    .dataframe tbody tr th {\n",
       "        vertical-align: top;\n",
       "    }\n",
       "\n",
       "    .dataframe thead th {\n",
       "        text-align: right;\n",
       "    }\n",
       "</style>\n",
       "<table border=\"1\" class=\"dataframe\">\n",
       "  <thead>\n",
       "    <tr style=\"text-align: right;\">\n",
       "      <th></th>\n",
       "      <th>interactionId</th>\n",
       "      <th>interactionType</th>\n",
       "      <th>participants</th>\n",
       "      <th>pubmedId</th>\n",
       "      <th>pubmedTitle</th>\n",
       "      <th>pubmedabstract</th>\n",
       "      <th>isValid</th>\n",
       "      <th>participants_count</th>\n",
       "      <th>hasTriggerWord</th>\n",
       "      <th>entityMentionsCount</th>\n",
       "    </tr>\n",
       "  </thead>\n",
       "  <tbody>\n",
       "    <tr>\n",
       "      <th>0</th>\n",
       "      <td>1585513</td>\n",
       "      <td>phosphorylation</td>\n",
       "      <td>[{'uniprotid': 'Q10728', 'alias': [['mypt1_rat'], ['Protein phosphatase 1 regulatory subunit 12A'], ['Ppp1r12a'], ['Mbs'], ['Mypt1'], ['Myosin phosphatase-targeting subunit 1'], ['Protein phosphatase myosin-binding subunit'], ['MBSP'], ['Serine/threonine protein phosphatase PP1 smooth muscle regulatory subunit M110'], ['Protein phosphatase subunit 1M']], 'alternative_uniprots': ['Q62937', 'Q9WU33']}, {'uniprotid': 'O43293-2', 'alias': [['o43293-2'], ['Death-associated protein kinase 3'], ['ZIPK-S'], ['DAPK3'], ['ZIPK'], ['DAP-like kinase'], ['MYPT1 kinase'], ['Zipper-interacting protein kinase']], 'alternative_uniprots': []}]</td>\n",
       "      <td>17126281</td>\n",
       "      <td>None</td>\n",
       "      <td>Zipper-interacting protein kinase (ZIP kinase) has been thought to be involved in apoptosis and the C-terminal leucine zipper motif is important for its function. Recent studies have revealed that ZIP kinase also plays a role in regulating myosin phosphorylation. Here, we found novel ZIP kinase isoform in which the C-terminal non-kinase domain containing a leucine zipper is eliminated (hZIPK-S). hZIPK-S binds to myosin phosphatase targeting subunit 1(MYPT1) similar to the long isoform (hZIPK-L). In addition, we found that hZIPK-S as well as hZIPK-L bind to myosin. These results indicate that a leucine zipper is not critical for the binding of ZIP kinase to MYPT1 and myosin. Consistently, hZIPK-S localized with stress-fibers where they co-localized with myosin. The residues 278-311, the C-terminal side of the kinase domain common to the both isoforms, is involved in the binding to MYPT1, while the myosin binding domain is within the kinase domain. These results suggest that the newly found hZIPK-S as well as the long isoform play an important role in the regulation of myosin phosphorylation.</td>\n",
       "      <td>True</td>\n",
       "      <td>2</td>\n",
       "      <td>True</td>\n",
       "      <td>9</td>\n",
       "    </tr>\n",
       "    <tr>\n",
       "      <th>1</th>\n",
       "      <td>1585516</td>\n",
       "      <td>phosphorylation</td>\n",
       "      <td>[{'uniprotid': 'O43293-1', 'alias': [['o43293-1'], ['Death-associated protein kinase 3'], ['ZIPK-L'], ['DAPK3'], ['ZIPK'], ['DAP-like kinase'], ['MYPT1 kinase'], ['Zipper-interacting protein kinase']], 'alternative_uniprots': []}, {'uniprotid': 'Q10728', 'alias': [['mypt1_rat'], ['Protein phosphatase 1 regulatory subunit 12A'], ['Ppp1r12a'], ['Mbs'], ['Mypt1'], ['Myosin phosphatase-targeting subunit 1'], ['Protein phosphatase myosin-binding subunit'], ['MBSP'], ['Serine/threonine protein phosphatase PP1 smooth muscle regulatory subunit M110'], ['Protein phosphatase subunit 1M']], 'alternative_uniprots': ['Q62937', 'Q9WU33']}]</td>\n",
       "      <td>17126281</td>\n",
       "      <td>None</td>\n",
       "      <td>Zipper-interacting protein kinase (ZIP kinase) has been thought to be involved in apoptosis and the C-terminal leucine zipper motif is important for its function. Recent studies have revealed that ZIP kinase also plays a role in regulating myosin phosphorylation. Here, we found novel ZIP kinase isoform in which the C-terminal non-kinase domain containing a leucine zipper is eliminated (hZIPK-S). hZIPK-S binds to myosin phosphatase targeting subunit 1(MYPT1) similar to the long isoform (hZIPK-L). In addition, we found that hZIPK-S as well as hZIPK-L bind to myosin. These results indicate that a leucine zipper is not critical for the binding of ZIP kinase to MYPT1 and myosin. Consistently, hZIPK-S localized with stress-fibers where they co-localized with myosin. The residues 278-311, the C-terminal side of the kinase domain common to the both isoforms, is involved in the binding to MYPT1, while the myosin binding domain is within the kinase domain. These results suggest that the newly found hZIPK-S as well as the long isoform play an important role in the regulation of myosin phosphorylation.</td>\n",
       "      <td>True</td>\n",
       "      <td>2</td>\n",
       "      <td>True</td>\n",
       "      <td>9</td>\n",
       "    </tr>\n",
       "  </tbody>\n",
       "</table>\n",
       "</div>"
      ],
      "text/plain": [
       "  interactionId  interactionType  \\\n",
       "0       1585513  phosphorylation   \n",
       "1       1585516  phosphorylation   \n",
       "\n",
       "                                                                                                                                                                                                                                                                                                                                                                                                                                                                                                                                                                                                                                                participants  \\\n",
       "0  [{'uniprotid': 'Q10728', 'alias': [['mypt1_rat'], ['Protein phosphatase 1 regulatory subunit 12A'], ['Ppp1r12a'], ['Mbs'], ['Mypt1'], ['Myosin phosphatase-targeting subunit 1'], ['Protein phosphatase myosin-binding subunit'], ['MBSP'], ['Serine/threonine protein phosphatase PP1 smooth muscle regulatory subunit M110'], ['Protein phosphatase subunit 1M']], 'alternative_uniprots': ['Q62937', 'Q9WU33']}, {'uniprotid': 'O43293-2', 'alias': [['o43293-2'], ['Death-associated protein kinase 3'], ['ZIPK-S'], ['DAPK3'], ['ZIPK'], ['DAP-like kinase'], ['MYPT1 kinase'], ['Zipper-interacting protein kinase']], 'alternative_uniprots': []}]   \n",
       "1  [{'uniprotid': 'O43293-1', 'alias': [['o43293-1'], ['Death-associated protein kinase 3'], ['ZIPK-L'], ['DAPK3'], ['ZIPK'], ['DAP-like kinase'], ['MYPT1 kinase'], ['Zipper-interacting protein kinase']], 'alternative_uniprots': []}, {'uniprotid': 'Q10728', 'alias': [['mypt1_rat'], ['Protein phosphatase 1 regulatory subunit 12A'], ['Ppp1r12a'], ['Mbs'], ['Mypt1'], ['Myosin phosphatase-targeting subunit 1'], ['Protein phosphatase myosin-binding subunit'], ['MBSP'], ['Serine/threonine protein phosphatase PP1 smooth muscle regulatory subunit M110'], ['Protein phosphatase subunit 1M']], 'alternative_uniprots': ['Q62937', 'Q9WU33']}]   \n",
       "\n",
       "   pubmedId pubmedTitle  \\\n",
       "0  17126281        None   \n",
       "1  17126281        None   \n",
       "\n",
       "                                                                                                                                                                                                                                                                                                                                                                                                                                                                                                                                                                                                                                                                                                                                                                                                                                                                                                                                                                                                                                                                                                                                        pubmedabstract  \\\n",
       "0  Zipper-interacting protein kinase (ZIP kinase) has been thought to be involved in apoptosis and the C-terminal leucine zipper motif is important for its function. Recent studies have revealed that ZIP kinase also plays a role in regulating myosin phosphorylation. Here, we found novel ZIP kinase isoform in which the C-terminal non-kinase domain containing a leucine zipper is eliminated (hZIPK-S). hZIPK-S binds to myosin phosphatase targeting subunit 1(MYPT1) similar to the long isoform (hZIPK-L). In addition, we found that hZIPK-S as well as hZIPK-L bind to myosin. These results indicate that a leucine zipper is not critical for the binding of ZIP kinase to MYPT1 and myosin. Consistently, hZIPK-S localized with stress-fibers where they co-localized with myosin. The residues 278-311, the C-terminal side of the kinase domain common to the both isoforms, is involved in the binding to MYPT1, while the myosin binding domain is within the kinase domain. These results suggest that the newly found hZIPK-S as well as the long isoform play an important role in the regulation of myosin phosphorylation.   \n",
       "1  Zipper-interacting protein kinase (ZIP kinase) has been thought to be involved in apoptosis and the C-terminal leucine zipper motif is important for its function. Recent studies have revealed that ZIP kinase also plays a role in regulating myosin phosphorylation. Here, we found novel ZIP kinase isoform in which the C-terminal non-kinase domain containing a leucine zipper is eliminated (hZIPK-S). hZIPK-S binds to myosin phosphatase targeting subunit 1(MYPT1) similar to the long isoform (hZIPK-L). In addition, we found that hZIPK-S as well as hZIPK-L bind to myosin. These results indicate that a leucine zipper is not critical for the binding of ZIP kinase to MYPT1 and myosin. Consistently, hZIPK-S localized with stress-fibers where they co-localized with myosin. The residues 278-311, the C-terminal side of the kinase domain common to the both isoforms, is involved in the binding to MYPT1, while the myosin binding domain is within the kinase domain. These results suggest that the newly found hZIPK-S as well as the long isoform play an important role in the regulation of myosin phosphorylation.   \n",
       "\n",
       "   isValid  participants_count  hasTriggerWord  entityMentionsCount  \n",
       "0     True                   2            True                    9  \n",
       "1     True                   2            True                    9  "
      ]
     },
     "execution_count": 29,
     "metadata": {},
     "output_type": "execute_result"
    }
   ],
   "source": [
    "data.head(n=2)"
   ]
  },
  {
   "cell_type": "markdown",
   "metadata": {},
   "source": [
    "## Data Transformation"
   ]
  },
  {
   "cell_type": "markdown",
   "metadata": {},
   "source": [
    "### Filter interactions with more than 2 participants"
   ]
  },
  {
   "cell_type": "code",
   "execution_count": 30,
   "metadata": {},
   "outputs": [
    {
     "data": {
      "text/plain": [
       "(2868, 10)"
      ]
     },
     "execution_count": 30,
     "metadata": {},
     "output_type": "execute_result"
    }
   ],
   "source": [
    "filtered = data.query('participants_count <= 2')\n",
    "filtered.shape"
   ]
  },
  {
   "cell_type": "code",
   "execution_count": 31,
   "metadata": {},
   "outputs": [
    {
     "data": {
      "image/png": "[encoded data removed]",
      "text/plain": [
       "<Figure size 360x360 with 1 Axes>"
      ]
     },
     "metadata": {
      "needs_background": "light"
     },
     "output_type": "display_data"
    }
   ],
   "source": [
    "import matplotlib.ticker as mtick\n",
    "\n",
    "\n",
    "fig, ax = plt.subplots( 1,1, figsize=(15,5))\n",
    "\n",
    "\n",
    "\n",
    "c_ax= ax\n",
    "c_ax.yaxis.set_major_formatter(mtick.PercentFormatter())\n",
    "filtered['participants_count'].hist (bins=50, figsize=(5,5), ax=c_ax, color = 'blue',  weights = np.ones_like(filtered['participants_count'].index)*100 / len(filtered['participants_count'].index))\n",
    "plt.title(\"Participants count per interaction\")\n",
    "plt.xlabel('Number of participants per interaction')\n",
    "plt.ylabel('Percentage of interactions')\n",
    "plt.savefig(\"ParticipantsPerInteraction.eps\")\n",
    "plt.show()"
   ]
  },
  {
   "cell_type": "markdown",
   "metadata": {},
   "source": [
    "### Filter out interactions from paper with more than 15 interactions"
   ]
  },
  {
   "cell_type": "code",
   "execution_count": 32,
   "metadata": {},
   "outputs": [
    {
     "name": "stderr",
     "output_type": "stream",
     "text": [
      "/Users/aeg/miniconda/envs/kegg_env/lib/python3.7/site-packages/ipykernel_launcher.py:5: SettingWithCopyWarning: \n",
      "A value is trying to be set on a copy of a slice from a DataFrame.\n",
      "Try using .loc[row_indexer,col_indexer] = value instead\n",
      "\n",
      "See the caveats in the documentation: http://pandas.pydata.org/pandas-docs/stable/indexing.html#indexing-view-versus-copy\n",
      "  \"\"\"\n"
     ]
    },
    {
     "data": {
      "image/png": "[encoded data removed]",
      "text/plain": [
       "<Figure size 360x360 with 1 Axes>"
      ]
     },
     "metadata": {},
     "output_type": "display_data"
    }
   ],
   "source": [
    "pubmed_interaction_count = filtered.pubmedId.value_counts().to_frame().rename(columns={\"pubmedId\":\"interactionCountPerPubmed\"})\n",
    "\n",
    "\n",
    "#interactions_count= pd.DataFrame()\n",
    "filtered[\"lessThanThreshold\"] = filtered.apply(lambda r: r[\"pubmedId\"] in  pubmed_interaction_count.query('interactionCountPerPubmed <= 15').index , 1)\n",
    "\n",
    "\n",
    "filtered.lessThanThreshold.value_counts().plot.pie(autopct='%.2f',figsize=(5, 5))\n",
    "plt.title('Has less than 15 interactions')\n",
    "plt.show()"
   ]
  },
  {
   "cell_type": "code",
   "execution_count": 33,
   "metadata": {},
   "outputs": [],
   "source": [
    "filtered = filtered.query(\"lessThanThreshold == 1\")"
   ]
  },
  {
   "cell_type": "code",
   "execution_count": 34,
   "metadata": {},
   "outputs": [
    {
     "name": "stdout",
     "output_type": "stream",
     "text": [
      "Total number of records after filter: 1865\n"
     ]
    }
   ],
   "source": [
    "print(\"Total number of records after filter: {}\".format(filtered.shape[0]))"
   ]
  },
  {
   "cell_type": "markdown",
   "metadata": {},
   "source": [
    "###  Flatten partcipants into participant 1 and particpiant 2"
   ]
  },
  {
   "cell_type": "code",
   "execution_count": 35,
   "metadata": {},
   "outputs": [],
   "source": [
    "from datatransformer.jsonPPIFlattenTransformer import IntactJsonPpiFlattenTransformer\n",
    " \n",
    "\n",
    "sut = IntactJsonPpiFlattenTransformer()\n",
    "\n",
    "data_transformed = sut.transform(filtered)\n"
   ]
  },
  {
   "cell_type": "code",
   "execution_count": 36,
   "metadata": {
    "scrolled": true
   },
   "outputs": [
    {
     "data": {
      "text/html": [
       "<div>\n",
       "<style scoped>\n",
       "    .dataframe tbody tr th:only-of-type {\n",
       "        vertical-align: middle;\n",
       "    }\n",
       "\n",
       "    .dataframe tbody tr th {\n",
       "        vertical-align: top;\n",
       "    }\n",
       "\n",
       "    .dataframe thead th {\n",
       "        text-align: right;\n",
       "    }\n",
       "</style>\n",
       "<table border=\"1\" class=\"dataframe\">\n",
       "  <thead>\n",
       "    <tr style=\"text-align: right;\">\n",
       "      <th></th>\n",
       "      <th>entityMentionsCount</th>\n",
       "      <th>hasTriggerWord</th>\n",
       "      <th>interactionId</th>\n",
       "      <th>interactionType</th>\n",
       "      <th>isValid</th>\n",
       "      <th>lessThanThreshold</th>\n",
       "      <th>participant1Alias</th>\n",
       "      <th>participant1Id</th>\n",
       "      <th>participant2Alias</th>\n",
       "      <th>participant2Id</th>\n",
       "      <th>participants_count</th>\n",
       "      <th>pubmedId</th>\n",
       "      <th>pubmedTitle</th>\n",
       "      <th>pubmedabstract</th>\n",
       "    </tr>\n",
       "  </thead>\n",
       "  <tbody>\n",
       "    <tr>\n",
       "      <th>0</th>\n",
       "      <td>9</td>\n",
       "      <td>True</td>\n",
       "      <td>1585513</td>\n",
       "      <td>phosphorylation</td>\n",
       "      <td>True</td>\n",
       "      <td>True</td>\n",
       "      <td>[[mypt1_rat], [Protein phosphatase 1 regulatory subunit 12A], [Ppp1r12a], [Mbs], [Mypt1], [Myosin phosphatase-targeting subunit 1], [Protein phosphatase myosin-binding subunit], [MBSP], [Serine/threonine protein phosphatase PP1 smooth muscle regulatory subunit M110], [Protein phosphatase subunit 1M]]</td>\n",
       "      <td>Q10728</td>\n",
       "      <td>[[o43293-2], [Death-associated protein kinase 3], [ZIPK-S], [DAPK3], [ZIPK], [DAP-like kinase], [MYPT1 kinase], [Zipper-interacting protein kinase]]</td>\n",
       "      <td>O43293-2</td>\n",
       "      <td>2</td>\n",
       "      <td>17126281</td>\n",
       "      <td>None</td>\n",
       "      <td>Zipper-interacting protein kinase (ZIP kinase) has been thought to be involved in apoptosis and the C-terminal leucine zipper motif is important for its function. Recent studies have revealed that ZIP kinase also plays a role in regulating myosin phosphorylation. Here, we found novel ZIP kinase isoform in which the C-terminal non-kinase domain containing a leucine zipper is eliminated (hZIPK-S). hZIPK-S binds to myosin phosphatase targeting subunit 1(MYPT1) similar to the long isoform (hZIPK-L). In addition, we found that hZIPK-S as well as hZIPK-L bind to myosin. These results indicate that a leucine zipper is not critical for the binding of ZIP kinase to MYPT1 and myosin. Consistently, hZIPK-S localized with stress-fibers where they co-localized with myosin. The residues 278-311, the C-terminal side of the kinase domain common to the both isoforms, is involved in the binding to MYPT1, while the myosin binding domain is within the kinase domain. These results suggest that the newly found hZIPK-S as well as the long isoform play an important role in the regulation of myosin phosphorylation.</td>\n",
       "    </tr>\n",
       "    <tr>\n",
       "      <th>1</th>\n",
       "      <td>9</td>\n",
       "      <td>True</td>\n",
       "      <td>1585516</td>\n",
       "      <td>phosphorylation</td>\n",
       "      <td>True</td>\n",
       "      <td>True</td>\n",
       "      <td>[[o43293-1], [Death-associated protein kinase 3], [ZIPK-L], [DAPK3], [ZIPK], [DAP-like kinase], [MYPT1 kinase], [Zipper-interacting protein kinase]]</td>\n",
       "      <td>O43293-1</td>\n",
       "      <td>[[mypt1_rat], [Protein phosphatase 1 regulatory subunit 12A], [Ppp1r12a], [Mbs], [Mypt1], [Myosin phosphatase-targeting subunit 1], [Protein phosphatase myosin-binding subunit], [MBSP], [Serine/threonine protein phosphatase PP1 smooth muscle regulatory subunit M110], [Protein phosphatase subunit 1M]]</td>\n",
       "      <td>Q10728</td>\n",
       "      <td>2</td>\n",
       "      <td>17126281</td>\n",
       "      <td>None</td>\n",
       "      <td>Zipper-interacting protein kinase (ZIP kinase) has been thought to be involved in apoptosis and the C-terminal leucine zipper motif is important for its function. Recent studies have revealed that ZIP kinase also plays a role in regulating myosin phosphorylation. Here, we found novel ZIP kinase isoform in which the C-terminal non-kinase domain containing a leucine zipper is eliminated (hZIPK-S). hZIPK-S binds to myosin phosphatase targeting subunit 1(MYPT1) similar to the long isoform (hZIPK-L). In addition, we found that hZIPK-S as well as hZIPK-L bind to myosin. These results indicate that a leucine zipper is not critical for the binding of ZIP kinase to MYPT1 and myosin. Consistently, hZIPK-S localized with stress-fibers where they co-localized with myosin. The residues 278-311, the C-terminal side of the kinase domain common to the both isoforms, is involved in the binding to MYPT1, while the myosin binding domain is within the kinase domain. These results suggest that the newly found hZIPK-S as well as the long isoform play an important role in the regulation of myosin phosphorylation.</td>\n",
       "    </tr>\n",
       "  </tbody>\n",
       "</table>\n",
       "</div>"
      ],
      "text/plain": [
       "   entityMentionsCount  hasTriggerWord interactionId  interactionType  \\\n",
       "0                    9            True       1585513  phosphorylation   \n",
       "1                    9            True       1585516  phosphorylation   \n",
       "\n",
       "   isValid  lessThanThreshold  \\\n",
       "0     True               True   \n",
       "1     True               True   \n",
       "\n",
       "                                                                                                                                                                                                                                                                                               participant1Alias  \\\n",
       "0  [[mypt1_rat], [Protein phosphatase 1 regulatory subunit 12A], [Ppp1r12a], [Mbs], [Mypt1], [Myosin phosphatase-targeting subunit 1], [Protein phosphatase myosin-binding subunit], [MBSP], [Serine/threonine protein phosphatase PP1 smooth muscle regulatory subunit M110], [Protein phosphatase subunit 1M]]   \n",
       "1                                                                                                                                                           [[o43293-1], [Death-associated protein kinase 3], [ZIPK-L], [DAPK3], [ZIPK], [DAP-like kinase], [MYPT1 kinase], [Zipper-interacting protein kinase]]   \n",
       "\n",
       "  participant1Id  \\\n",
       "0         Q10728   \n",
       "1       O43293-1   \n",
       "\n",
       "                                                                                                                                                                                                                                                                                               participant2Alias  \\\n",
       "0                                                                                                                                                           [[o43293-2], [Death-associated protein kinase 3], [ZIPK-S], [DAPK3], [ZIPK], [DAP-like kinase], [MYPT1 kinase], [Zipper-interacting protein kinase]]   \n",
       "1  [[mypt1_rat], [Protein phosphatase 1 regulatory subunit 12A], [Ppp1r12a], [Mbs], [Mypt1], [Myosin phosphatase-targeting subunit 1], [Protein phosphatase myosin-binding subunit], [MBSP], [Serine/threonine protein phosphatase PP1 smooth muscle regulatory subunit M110], [Protein phosphatase subunit 1M]]   \n",
       "\n",
       "  participant2Id  participants_count  pubmedId pubmedTitle  \\\n",
       "0       O43293-2                   2  17126281        None   \n",
       "1         Q10728                   2  17126281        None   \n",
       "\n",
       "                                                                                                                                                                                                                                                                                                                                                                                                                                                                                                                                                                                                                                                                                                                                                                                                                                                                                                                                                                                                                                                                                                                                        pubmedabstract  \n",
       "0  Zipper-interacting protein kinase (ZIP kinase) has been thought to be involved in apoptosis and the C-terminal leucine zipper motif is important for its function. Recent studies have revealed that ZIP kinase also plays a role in regulating myosin phosphorylation. Here, we found novel ZIP kinase isoform in which the C-terminal non-kinase domain containing a leucine zipper is eliminated (hZIPK-S). hZIPK-S binds to myosin phosphatase targeting subunit 1(MYPT1) similar to the long isoform (hZIPK-L). In addition, we found that hZIPK-S as well as hZIPK-L bind to myosin. These results indicate that a leucine zipper is not critical for the binding of ZIP kinase to MYPT1 and myosin. Consistently, hZIPK-S localized with stress-fibers where they co-localized with myosin. The residues 278-311, the C-terminal side of the kinase domain common to the both isoforms, is involved in the binding to MYPT1, while the myosin binding domain is within the kinase domain. These results suggest that the newly found hZIPK-S as well as the long isoform play an important role in the regulation of myosin phosphorylation.  \n",
       "1  Zipper-interacting protein kinase (ZIP kinase) has been thought to be involved in apoptosis and the C-terminal leucine zipper motif is important for its function. Recent studies have revealed that ZIP kinase also plays a role in regulating myosin phosphorylation. Here, we found novel ZIP kinase isoform in which the C-terminal non-kinase domain containing a leucine zipper is eliminated (hZIPK-S). hZIPK-S binds to myosin phosphatase targeting subunit 1(MYPT1) similar to the long isoform (hZIPK-L). In addition, we found that hZIPK-S as well as hZIPK-L bind to myosin. These results indicate that a leucine zipper is not critical for the binding of ZIP kinase to MYPT1 and myosin. Consistently, hZIPK-S localized with stress-fibers where they co-localized with myosin. The residues 278-311, the C-terminal side of the kinase domain common to the both isoforms, is involved in the binding to MYPT1, while the myosin binding domain is within the kinase domain. These results suggest that the newly found hZIPK-S as well as the long isoform play an important role in the regulation of myosin phosphorylation.  "
      ]
     },
     "execution_count": 36,
     "metadata": {},
     "output_type": "execute_result"
    }
   ],
   "source": [
    "data_transformed.head(n=2)"
   ]
  },
  {
   "cell_type": "code",
   "execution_count": 37,
   "metadata": {},
   "outputs": [
    {
     "data": {
      "text/plain": [
       "(1865, 14)"
      ]
     },
     "execution_count": 37,
     "metadata": {},
     "output_type": "execute_result"
    }
   ],
   "source": [
    "data_transformed.shape"
   ]
  },
  {
   "cell_type": "markdown",
   "metadata": {},
   "source": [
    "### Remove records where the alias is null"
   ]
  },
  {
   "cell_type": "code",
   "execution_count": 38,
   "metadata": {},
   "outputs": [
    {
     "data": {
      "text/plain": [
       "(1865, 14)"
      ]
     },
     "execution_count": 38,
     "metadata": {},
     "output_type": "execute_result"
    }
   ],
   "source": [
    "data_transformed.shape"
   ]
  },
  {
   "cell_type": "code",
   "execution_count": 39,
   "metadata": {},
   "outputs": [
    {
     "data": {
      "text/plain": [
       "(1795, 14)"
      ]
     },
     "execution_count": 39,
     "metadata": {},
     "output_type": "execute_result"
    }
   ],
   "source": [
    "data_filtered = data_transformed[data_transformed.participant1Id.notnull()]\n",
    "data_filtered.shape"
   ]
  },
  {
   "cell_type": "code",
   "execution_count": 40,
   "metadata": {},
   "outputs": [
    {
     "data": {
      "text/plain": [
       "(1766, 14)"
      ]
     },
     "execution_count": 40,
     "metadata": {},
     "output_type": "execute_result"
    }
   ],
   "source": [
    "data_filtered = data_filtered[data_filtered.participant2Id.notnull()]\n",
    "data_filtered.shape"
   ]
  },
  {
   "cell_type": "code",
   "execution_count": 41,
   "metadata": {},
   "outputs": [
    {
     "data": {
      "text/html": [
       "<div>\n",
       "<style scoped>\n",
       "    .dataframe tbody tr th:only-of-type {\n",
       "        vertical-align: middle;\n",
       "    }\n",
       "\n",
       "    .dataframe tbody tr th {\n",
       "        vertical-align: top;\n",
       "    }\n",
       "\n",
       "    .dataframe thead th {\n",
       "        text-align: right;\n",
       "    }\n",
       "</style>\n",
       "<table border=\"1\" class=\"dataframe\">\n",
       "  <thead>\n",
       "    <tr style=\"text-align: right;\">\n",
       "      <th></th>\n",
       "      <th>entityMentionsCount</th>\n",
       "      <th>hasTriggerWord</th>\n",
       "      <th>interactionId</th>\n",
       "      <th>interactionType</th>\n",
       "      <th>isValid</th>\n",
       "      <th>lessThanThreshold</th>\n",
       "      <th>participant1Alias</th>\n",
       "      <th>participant1Id</th>\n",
       "      <th>participant2Alias</th>\n",
       "      <th>participant2Id</th>\n",
       "      <th>participants_count</th>\n",
       "      <th>pubmedId</th>\n",
       "      <th>pubmedTitle</th>\n",
       "      <th>pubmedabstract</th>\n",
       "    </tr>\n",
       "  </thead>\n",
       "  <tbody>\n",
       "    <tr>\n",
       "      <th>0</th>\n",
       "      <td>9</td>\n",
       "      <td>True</td>\n",
       "      <td>1585513</td>\n",
       "      <td>phosphorylation</td>\n",
       "      <td>True</td>\n",
       "      <td>True</td>\n",
       "      <td>[[mypt1_rat], [Protein phosphatase 1 regulatory subunit 12A], [Ppp1r12a], [Mbs], [Mypt1], [Myosin phosphatase-targeting subunit 1], [Protein phosphatase myosin-binding subunit], [MBSP], [Serine/threonine protein phosphatase PP1 smooth muscle regulatory subunit M110], [Protein phosphatase subunit 1M]]</td>\n",
       "      <td>Q10728</td>\n",
       "      <td>[[o43293-2], [Death-associated protein kinase 3], [ZIPK-S], [DAPK3], [ZIPK], [DAP-like kinase], [MYPT1 kinase], [Zipper-interacting protein kinase]]</td>\n",
       "      <td>O43293-2</td>\n",
       "      <td>2</td>\n",
       "      <td>17126281</td>\n",
       "      <td>None</td>\n",
       "      <td>Zipper-interacting protein kinase (ZIP kinase) has been thought to be involved in apoptosis and the C-terminal leucine zipper motif is important for its function. Recent studies have revealed that ZIP kinase also plays a role in regulating myosin phosphorylation. Here, we found novel ZIP kinase isoform in which the C-terminal non-kinase domain containing a leucine zipper is eliminated (hZIPK-S). hZIPK-S binds to myosin phosphatase targeting subunit 1(MYPT1) similar to the long isoform (hZIPK-L). In addition, we found that hZIPK-S as well as hZIPK-L bind to myosin. These results indicate that a leucine zipper is not critical for the binding of ZIP kinase to MYPT1 and myosin. Consistently, hZIPK-S localized with stress-fibers where they co-localized with myosin. The residues 278-311, the C-terminal side of the kinase domain common to the both isoforms, is involved in the binding to MYPT1, while the myosin binding domain is within the kinase domain. These results suggest that the newly found hZIPK-S as well as the long isoform play an important role in the regulation of myosin phosphorylation.</td>\n",
       "    </tr>\n",
       "    <tr>\n",
       "      <th>1</th>\n",
       "      <td>9</td>\n",
       "      <td>True</td>\n",
       "      <td>1585516</td>\n",
       "      <td>phosphorylation</td>\n",
       "      <td>True</td>\n",
       "      <td>True</td>\n",
       "      <td>[[o43293-1], [Death-associated protein kinase 3], [ZIPK-L], [DAPK3], [ZIPK], [DAP-like kinase], [MYPT1 kinase], [Zipper-interacting protein kinase]]</td>\n",
       "      <td>O43293-1</td>\n",
       "      <td>[[mypt1_rat], [Protein phosphatase 1 regulatory subunit 12A], [Ppp1r12a], [Mbs], [Mypt1], [Myosin phosphatase-targeting subunit 1], [Protein phosphatase myosin-binding subunit], [MBSP], [Serine/threonine protein phosphatase PP1 smooth muscle regulatory subunit M110], [Protein phosphatase subunit 1M]]</td>\n",
       "      <td>Q10728</td>\n",
       "      <td>2</td>\n",
       "      <td>17126281</td>\n",
       "      <td>None</td>\n",
       "      <td>Zipper-interacting protein kinase (ZIP kinase) has been thought to be involved in apoptosis and the C-terminal leucine zipper motif is important for its function. Recent studies have revealed that ZIP kinase also plays a role in regulating myosin phosphorylation. Here, we found novel ZIP kinase isoform in which the C-terminal non-kinase domain containing a leucine zipper is eliminated (hZIPK-S). hZIPK-S binds to myosin phosphatase targeting subunit 1(MYPT1) similar to the long isoform (hZIPK-L). In addition, we found that hZIPK-S as well as hZIPK-L bind to myosin. These results indicate that a leucine zipper is not critical for the binding of ZIP kinase to MYPT1 and myosin. Consistently, hZIPK-S localized with stress-fibers where they co-localized with myosin. The residues 278-311, the C-terminal side of the kinase domain common to the both isoforms, is involved in the binding to MYPT1, while the myosin binding domain is within the kinase domain. These results suggest that the newly found hZIPK-S as well as the long isoform play an important role in the regulation of myosin phosphorylation.</td>\n",
       "    </tr>\n",
       "  </tbody>\n",
       "</table>\n",
       "</div>"
      ],
      "text/plain": [
       "   entityMentionsCount  hasTriggerWord interactionId  interactionType  \\\n",
       "0                    9            True       1585513  phosphorylation   \n",
       "1                    9            True       1585516  phosphorylation   \n",
       "\n",
       "   isValid  lessThanThreshold  \\\n",
       "0     True               True   \n",
       "1     True               True   \n",
       "\n",
       "                                                                                                                                                                                                                                                                                               participant1Alias  \\\n",
       "0  [[mypt1_rat], [Protein phosphatase 1 regulatory subunit 12A], [Ppp1r12a], [Mbs], [Mypt1], [Myosin phosphatase-targeting subunit 1], [Protein phosphatase myosin-binding subunit], [MBSP], [Serine/threonine protein phosphatase PP1 smooth muscle regulatory subunit M110], [Protein phosphatase subunit 1M]]   \n",
       "1                                                                                                                                                           [[o43293-1], [Death-associated protein kinase 3], [ZIPK-L], [DAPK3], [ZIPK], [DAP-like kinase], [MYPT1 kinase], [Zipper-interacting protein kinase]]   \n",
       "\n",
       "  participant1Id  \\\n",
       "0         Q10728   \n",
       "1       O43293-1   \n",
       "\n",
       "                                                                                                                                                                                                                                                                                               participant2Alias  \\\n",
       "0                                                                                                                                                           [[o43293-2], [Death-associated protein kinase 3], [ZIPK-S], [DAPK3], [ZIPK], [DAP-like kinase], [MYPT1 kinase], [Zipper-interacting protein kinase]]   \n",
       "1  [[mypt1_rat], [Protein phosphatase 1 regulatory subunit 12A], [Ppp1r12a], [Mbs], [Mypt1], [Myosin phosphatase-targeting subunit 1], [Protein phosphatase myosin-binding subunit], [MBSP], [Serine/threonine protein phosphatase PP1 smooth muscle regulatory subunit M110], [Protein phosphatase subunit 1M]]   \n",
       "\n",
       "  participant2Id  participants_count  pubmedId pubmedTitle  \\\n",
       "0       O43293-2                   2  17126281        None   \n",
       "1         Q10728                   2  17126281        None   \n",
       "\n",
       "                                                                                                                                                                                                                                                                                                                                                                                                                                                                                                                                                                                                                                                                                                                                                                                                                                                                                                                                                                                                                                                                                                                                        pubmedabstract  \n",
       "0  Zipper-interacting protein kinase (ZIP kinase) has been thought to be involved in apoptosis and the C-terminal leucine zipper motif is important for its function. Recent studies have revealed that ZIP kinase also plays a role in regulating myosin phosphorylation. Here, we found novel ZIP kinase isoform in which the C-terminal non-kinase domain containing a leucine zipper is eliminated (hZIPK-S). hZIPK-S binds to myosin phosphatase targeting subunit 1(MYPT1) similar to the long isoform (hZIPK-L). In addition, we found that hZIPK-S as well as hZIPK-L bind to myosin. These results indicate that a leucine zipper is not critical for the binding of ZIP kinase to MYPT1 and myosin. Consistently, hZIPK-S localized with stress-fibers where they co-localized with myosin. The residues 278-311, the C-terminal side of the kinase domain common to the both isoforms, is involved in the binding to MYPT1, while the myosin binding domain is within the kinase domain. These results suggest that the newly found hZIPK-S as well as the long isoform play an important role in the regulation of myosin phosphorylation.  \n",
       "1  Zipper-interacting protein kinase (ZIP kinase) has been thought to be involved in apoptosis and the C-terminal leucine zipper motif is important for its function. Recent studies have revealed that ZIP kinase also plays a role in regulating myosin phosphorylation. Here, we found novel ZIP kinase isoform in which the C-terminal non-kinase domain containing a leucine zipper is eliminated (hZIPK-S). hZIPK-S binds to myosin phosphatase targeting subunit 1(MYPT1) similar to the long isoform (hZIPK-L). In addition, we found that hZIPK-S as well as hZIPK-L bind to myosin. These results indicate that a leucine zipper is not critical for the binding of ZIP kinase to MYPT1 and myosin. Consistently, hZIPK-S localized with stress-fibers where they co-localized with myosin. The residues 278-311, the C-terminal side of the kinase domain common to the both isoforms, is involved in the binding to MYPT1, while the myosin binding domain is within the kinase domain. These results suggest that the newly found hZIPK-S as well as the long isoform play an important role in the regulation of myosin phosphorylation.  "
      ]
     },
     "execution_count": 41,
     "metadata": {},
     "output_type": "execute_result"
    }
   ],
   "source": [
    "data_filtered.head(n=2)"
   ]
  },
  {
   "cell_type": "markdown",
   "metadata": {},
   "source": [
    "### Normalise abstract"
   ]
  },
  {
   "cell_type": "code",
   "execution_count": 42,
   "metadata": {},
   "outputs": [],
   "source": [
    "\n",
    "def normalise_absract(data, enity_annotations_file):\n",
    "    from datatransformer.abstractGeneNormaliser import AbstractGeneNormaliser\n",
    "    from datatransformer.ncbiGeneUniprotLocalDbMapper import NcbiGeneUniprotLocalDbMapper\n",
    "    from datatransformer.ncbiGeneUniprotMapper import NcbiGeneUniprotMapper\n",
    "\n",
    "\n",
    "    from dataformatters.gnormplusPubtatorReader import GnormplusPubtatorReader\n",
    "    from datatransformer.textGeneNormaliser import TextGeneNormaliser\n",
    "\n",
    "\n",
    "    import os\n",
    "    \n",
    " \n",
    "    localdb = idmapping_dat\n",
    "    with open(localdb, \"r\") as dbhandle:\n",
    "        mapper = NcbiGeneUniprotLocalDbMapper(dbhandle, \"GeneID\") \n",
    "        #mapper = NcbiGeneUniprotMapper()\n",
    "        #Read gnormplus identified entities\n",
    "        reader = GnormplusPubtatorReader()\n",
    "        with open(enity_annotations_file,\"r\") as handle:\n",
    "            annotations_json = list(reader(handle))\n",
    "        \n",
    "        \n",
    "        normaliser = AbstractGeneNormaliser(annotations_json)\n",
    "        normaliser.textGeneNormaliser = TextGeneNormaliser(geneIdConverter = mapper) \n",
    "        result = normaliser.transform(data)\n",
    "        \n",
    "       \n",
    "\n",
    "        return result"
   ]
  },
  {
   "cell_type": "code",
   "execution_count": 43,
   "metadata": {},
   "outputs": [
    {
     "name": "stdout",
     "output_type": "stream",
     "text": [
      "CPU times: user 3.93 s, sys: 80.6 ms, total: 4.01 s\n",
      "Wall time: 4.07 s\n"
     ]
    }
   ],
   "source": [
    "%%time\n",
    "data_filtered = normalise_absract(data_filtered, annotations_file)"
   ]
  },
  {
   "cell_type": "code",
   "execution_count": 44,
   "metadata": {},
   "outputs": [
    {
     "data": {
      "text/plain": [
       "(1766, 15)"
      ]
     },
     "execution_count": 44,
     "metadata": {},
     "output_type": "execute_result"
    }
   ],
   "source": [
    "data_filtered.shape"
   ]
  },
  {
   "cell_type": "code",
   "execution_count": 45,
   "metadata": {},
   "outputs": [
    {
     "data": {
      "text/html": [
       "<div>\n",
       "<style scoped>\n",
       "    .dataframe tbody tr th:only-of-type {\n",
       "        vertical-align: middle;\n",
       "    }\n",
       "\n",
       "    .dataframe tbody tr th {\n",
       "        vertical-align: top;\n",
       "    }\n",
       "\n",
       "    .dataframe thead th {\n",
       "        text-align: right;\n",
       "    }\n",
       "</style>\n",
       "<table border=\"1\" class=\"dataframe\">\n",
       "  <thead>\n",
       "    <tr style=\"text-align: right;\">\n",
       "      <th></th>\n",
       "      <th>entityMentionsCount</th>\n",
       "      <th>hasTriggerWord</th>\n",
       "      <th>interactionId</th>\n",
       "      <th>interactionType</th>\n",
       "      <th>isValid</th>\n",
       "      <th>lessThanThreshold</th>\n",
       "      <th>participant1Alias</th>\n",
       "      <th>participant1Id</th>\n",
       "      <th>participant2Alias</th>\n",
       "      <th>participant2Id</th>\n",
       "      <th>participants_count</th>\n",
       "      <th>pubmedId</th>\n",
       "      <th>pubmedTitle</th>\n",
       "      <th>pubmedabstract</th>\n",
       "      <th>normalised_abstract</th>\n",
       "    </tr>\n",
       "  </thead>\n",
       "  <tbody>\n",
       "    <tr>\n",
       "      <th>0</th>\n",
       "      <td>9</td>\n",
       "      <td>True</td>\n",
       "      <td>1585513</td>\n",
       "      <td>phosphorylation</td>\n",
       "      <td>True</td>\n",
       "      <td>True</td>\n",
       "      <td>[[mypt1_rat], [Protein phosphatase 1 regulatory subunit 12A], [Ppp1r12a], [Mbs], [Mypt1], [Myosin phosphatase-targeting subunit 1], [Protein phosphatase myosin-binding subunit], [MBSP], [Serine/threonine protein phosphatase PP1 smooth muscle regulatory subunit M110], [Protein phosphatase subunit 1M]]</td>\n",
       "      <td>Q10728</td>\n",
       "      <td>[[o43293-2], [Death-associated protein kinase 3], [ZIPK-S], [DAPK3], [ZIPK], [DAP-like kinase], [MYPT1 kinase], [Zipper-interacting protein kinase]]</td>\n",
       "      <td>O43293-2</td>\n",
       "      <td>2</td>\n",
       "      <td>17126281</td>\n",
       "      <td>None</td>\n",
       "      <td>Zipper-interacting protein kinase (ZIP kinase) has been thought to be involved in apoptosis and the C-terminal leucine zipper motif is important for its function. Recent studies have revealed that ZIP kinase also plays a role in regulating myosin phosphorylation. Here, we found novel ZIP kinase isoform in which the C-terminal non-kinase domain containing a leucine zipper is eliminated (hZIPK-S). hZIPK-S binds to myosin phosphatase targeting subunit 1(MYPT1) similar to the long isoform (hZIPK-L). In addition, we found that hZIPK-S as well as hZIPK-L bind to myosin. These results indicate that a leucine zipper is not critical for the binding of ZIP kinase to MYPT1 and myosin. Consistently, hZIPK-S localized with stress-fibers where they co-localized with myosin. The residues 278-311, the C-terminal side of the kinase domain common to the both isoforms, is involved in the binding to MYPT1, while the myosin binding domain is within the kinase domain. These results suggest that the newly found hZIPK-S as well as the long isoform play an important role in the regulation of myosin phosphorylation.</td>\n",
       "      <td>O43293-2 (O43293-2) has been thought to be involved in apoptosis and the C-terminal leucine zipper motif is important for its function. Recent studies have revealed that O43293-2 also plays a role in regulating Q7Z406 phosphorylation. Here, we found novel O43293-2 isoform in which the C-terminal non-kinase domain containing a leucine zipper is eliminated (hZIPK-S). hZIPK-S binds to Q10728(Q10728) similar to the long isoform (hZIPK-L). In addition, we found that hZIPK-S as well as hZIPK-L bind to Q7Z406. These results indicate that a leucine zipper is not critical for the binding of O43293-2 to Q10728 and Q7Z406. Consistently, hZIPK-S localized with stress-fibers where they co-localized with Q7Z406. The residues 278-311, the C-terminal side of the kinase domain common to the both isoforms, is involved in the binding to Q10728, while the Q7Z406 binding domain is within the kinase domain. These results suggest that the newly found hZIPK-S as well as the long isoform play an important role in the regulation of Q7Z406 phosphorylation.</td>\n",
       "    </tr>\n",
       "    <tr>\n",
       "      <th>1</th>\n",
       "      <td>9</td>\n",
       "      <td>True</td>\n",
       "      <td>1585516</td>\n",
       "      <td>phosphorylation</td>\n",
       "      <td>True</td>\n",
       "      <td>True</td>\n",
       "      <td>[[o43293-1], [Death-associated protein kinase 3], [ZIPK-L], [DAPK3], [ZIPK], [DAP-like kinase], [MYPT1 kinase], [Zipper-interacting protein kinase]]</td>\n",
       "      <td>O43293-1</td>\n",
       "      <td>[[mypt1_rat], [Protein phosphatase 1 regulatory subunit 12A], [Ppp1r12a], [Mbs], [Mypt1], [Myosin phosphatase-targeting subunit 1], [Protein phosphatase myosin-binding subunit], [MBSP], [Serine/threonine protein phosphatase PP1 smooth muscle regulatory subunit M110], [Protein phosphatase subunit 1M]]</td>\n",
       "      <td>Q10728</td>\n",
       "      <td>2</td>\n",
       "      <td>17126281</td>\n",
       "      <td>None</td>\n",
       "      <td>Zipper-interacting protein kinase (ZIP kinase) has been thought to be involved in apoptosis and the C-terminal leucine zipper motif is important for its function. Recent studies have revealed that ZIP kinase also plays a role in regulating myosin phosphorylation. Here, we found novel ZIP kinase isoform in which the C-terminal non-kinase domain containing a leucine zipper is eliminated (hZIPK-S). hZIPK-S binds to myosin phosphatase targeting subunit 1(MYPT1) similar to the long isoform (hZIPK-L). In addition, we found that hZIPK-S as well as hZIPK-L bind to myosin. These results indicate that a leucine zipper is not critical for the binding of ZIP kinase to MYPT1 and myosin. Consistently, hZIPK-S localized with stress-fibers where they co-localized with myosin. The residues 278-311, the C-terminal side of the kinase domain common to the both isoforms, is involved in the binding to MYPT1, while the myosin binding domain is within the kinase domain. These results suggest that the newly found hZIPK-S as well as the long isoform play an important role in the regulation of myosin phosphorylation.</td>\n",
       "      <td>O43293-1 (O43293-1) has been thought to be involved in apoptosis and the C-terminal leucine zipper motif is important for its function. Recent studies have revealed that O43293-1 also plays a role in regulating Q7Z406 phosphorylation. Here, we found novel O43293-1 isoform in which the C-terminal non-kinase domain containing a leucine zipper is eliminated (hZIPK-S). hZIPK-S binds to Q10728(Q10728) similar to the long isoform (hZIPK-L). In addition, we found that hZIPK-S as well as hZIPK-L bind to Q7Z406. These results indicate that a leucine zipper is not critical for the binding of O43293-1 to Q10728 and Q7Z406. Consistently, hZIPK-S localized with stress-fibers where they co-localized with Q7Z406. The residues 278-311, the C-terminal side of the kinase domain common to the both isoforms, is involved in the binding to Q10728, while the Q7Z406 binding domain is within the kinase domain. These results suggest that the newly found hZIPK-S as well as the long isoform play an important role in the regulation of Q7Z406 phosphorylation.</td>\n",
       "    </tr>\n",
       "    <tr>\n",
       "      <th>2</th>\n",
       "      <td>0</td>\n",
       "      <td>True</td>\n",
       "      <td>575312</td>\n",
       "      <td>phosphorylation</td>\n",
       "      <td>True</td>\n",
       "      <td>True</td>\n",
       "      <td>[[p02686-1], [Myelin basic protein], [MBP], [Myelin A1 protein], [Myelin membrane encephalitogenic protein], [Golli-MBP1], [HOG7]]</td>\n",
       "      <td>P02686-1</td>\n",
       "      <td>[[q8i629_plaf7], [PF3D7_1201600]]</td>\n",
       "      <td>Q8I629</td>\n",
       "      <td>2</td>\n",
       "      <td>17064692</td>\n",
       "      <td>None</td>\n",
       "      <td>The canonical mitogen-activated protein kinase (MAPK) signal cascade was previously suggested to be atypical in the malaria parasite. This raises queries on the existence of alternative mediators of plasmodial MAPK pathways. This study describes, Pfnek3, a malarial protein kinase belonging to the NIMA (Never in Mitosis, Aspergillus) family. Endogenous Pfnek3 is expressed during late asexual to gametocyte stages and lacks some classical protein kinase sequence motifs. Moreover, Pfnek3 is phylogenetically distant from mammalian NIMA-kinases. Recombinant Pfnek3 was able to phosphorylate and stimulate a malarial MAPK (Pfmap2). Contrastingly, this was not observed with two other kinases, Pfmap1 and human MAPK1, suggesting that the Pfnek3-Pfmap2 interaction may be specific for Pfmap2 regulation. In summary, our data reveal a malarial NIMA-kinase with the potential to regulate a MAPK. Possessing biochemical properties divergent from classical mammalian NIMA-kinases, Pfnek3 could potentially be an attractive target for parasite-selective anti-malarials.</td>\n",
       "      <td>The canonical mitogen-activated protein kinase (MAPK) signal cascade was previously suggested to be atypical in the malaria parasite. This raises queries on the existence of alternative mediators of plasmodial MAPK pathways. This study describes, Pfnek3, a malarial protein kinase belonging to the NIMA (Never in Mitosis, Aspergillus) family. Endogenous Pfnek3 is expressed during late asexual to gametocyte stages and lacks some classical protein kinase sequence motifs. Moreover, Pfnek3 is phylogenetically distant from mammalian NIMA-kinases. Recombinant Pfnek3 was able to phosphorylate and stimulate a malarial MAPK (Pfmap2). Contrastingly, this was not observed with two other kinases, Pfmap1 and human P28482, suggesting that the Pfnek3-Pfmap2 interaction may be specific for Pfmap2 regulation. In summary, our data reveal a malarial NIMA-kinase with the potential to regulate a MAPK. Possessing biochemical properties divergent from classical mammalian NIMA-kinases, Pfnek3 could potentially be an attractive target for parasite-selective anti-malarials.</td>\n",
       "    </tr>\n",
       "  </tbody>\n",
       "</table>\n",
       "</div>"
      ],
      "text/plain": [
       "   entityMentionsCount  hasTriggerWord interactionId  interactionType  \\\n",
       "0                    9            True       1585513  phosphorylation   \n",
       "1                    9            True       1585516  phosphorylation   \n",
       "2                    0            True        575312  phosphorylation   \n",
       "\n",
       "   isValid  lessThanThreshold  \\\n",
       "0     True               True   \n",
       "1     True               True   \n",
       "2     True               True   \n",
       "\n",
       "                                                                                                                                                                                                                                                                                               participant1Alias  \\\n",
       "0  [[mypt1_rat], [Protein phosphatase 1 regulatory subunit 12A], [Ppp1r12a], [Mbs], [Mypt1], [Myosin phosphatase-targeting subunit 1], [Protein phosphatase myosin-binding subunit], [MBSP], [Serine/threonine protein phosphatase PP1 smooth muscle regulatory subunit M110], [Protein phosphatase subunit 1M]]   \n",
       "1                                                                                                                                                           [[o43293-1], [Death-associated protein kinase 3], [ZIPK-L], [DAPK3], [ZIPK], [DAP-like kinase], [MYPT1 kinase], [Zipper-interacting protein kinase]]   \n",
       "2                                                                                                                                                                             [[p02686-1], [Myelin basic protein], [MBP], [Myelin A1 protein], [Myelin membrane encephalitogenic protein], [Golli-MBP1], [HOG7]]   \n",
       "\n",
       "  participant1Id  \\\n",
       "0         Q10728   \n",
       "1       O43293-1   \n",
       "2       P02686-1   \n",
       "\n",
       "                                                                                                                                                                                                                                                                                               participant2Alias  \\\n",
       "0                                                                                                                                                           [[o43293-2], [Death-associated protein kinase 3], [ZIPK-S], [DAPK3], [ZIPK], [DAP-like kinase], [MYPT1 kinase], [Zipper-interacting protein kinase]]   \n",
       "1  [[mypt1_rat], [Protein phosphatase 1 regulatory subunit 12A], [Ppp1r12a], [Mbs], [Mypt1], [Myosin phosphatase-targeting subunit 1], [Protein phosphatase myosin-binding subunit], [MBSP], [Serine/threonine protein phosphatase PP1 smooth muscle regulatory subunit M110], [Protein phosphatase subunit 1M]]   \n",
       "2                                                                                                                                                                                                                                                                              [[q8i629_plaf7], [PF3D7_1201600]]   \n",
       "\n",
       "  participant2Id  participants_count  pubmedId pubmedTitle  \\\n",
       "0       O43293-2                   2  17126281        None   \n",
       "1         Q10728                   2  17126281        None   \n",
       "2         Q8I629                   2  17064692        None   \n",
       "\n",
       "                                                                                                                                                                                                                                                                                                                                                                                                                                                                                                                                                                                                                                                                                                                                                                                                                                                                                                                                                                                                                                                                                                                                        pubmedabstract  \\\n",
       "0  Zipper-interacting protein kinase (ZIP kinase) has been thought to be involved in apoptosis and the C-terminal leucine zipper motif is important for its function. Recent studies have revealed that ZIP kinase also plays a role in regulating myosin phosphorylation. Here, we found novel ZIP kinase isoform in which the C-terminal non-kinase domain containing a leucine zipper is eliminated (hZIPK-S). hZIPK-S binds to myosin phosphatase targeting subunit 1(MYPT1) similar to the long isoform (hZIPK-L). In addition, we found that hZIPK-S as well as hZIPK-L bind to myosin. These results indicate that a leucine zipper is not critical for the binding of ZIP kinase to MYPT1 and myosin. Consistently, hZIPK-S localized with stress-fibers where they co-localized with myosin. The residues 278-311, the C-terminal side of the kinase domain common to the both isoforms, is involved in the binding to MYPT1, while the myosin binding domain is within the kinase domain. These results suggest that the newly found hZIPK-S as well as the long isoform play an important role in the regulation of myosin phosphorylation.   \n",
       "1  Zipper-interacting protein kinase (ZIP kinase) has been thought to be involved in apoptosis and the C-terminal leucine zipper motif is important for its function. Recent studies have revealed that ZIP kinase also plays a role in regulating myosin phosphorylation. Here, we found novel ZIP kinase isoform in which the C-terminal non-kinase domain containing a leucine zipper is eliminated (hZIPK-S). hZIPK-S binds to myosin phosphatase targeting subunit 1(MYPT1) similar to the long isoform (hZIPK-L). In addition, we found that hZIPK-S as well as hZIPK-L bind to myosin. These results indicate that a leucine zipper is not critical for the binding of ZIP kinase to MYPT1 and myosin. Consistently, hZIPK-S localized with stress-fibers where they co-localized with myosin. The residues 278-311, the C-terminal side of the kinase domain common to the both isoforms, is involved in the binding to MYPT1, while the myosin binding domain is within the kinase domain. These results suggest that the newly found hZIPK-S as well as the long isoform play an important role in the regulation of myosin phosphorylation.   \n",
       "2                                                The canonical mitogen-activated protein kinase (MAPK) signal cascade was previously suggested to be atypical in the malaria parasite. This raises queries on the existence of alternative mediators of plasmodial MAPK pathways. This study describes, Pfnek3, a malarial protein kinase belonging to the NIMA (Never in Mitosis, Aspergillus) family. Endogenous Pfnek3 is expressed during late asexual to gametocyte stages and lacks some classical protein kinase sequence motifs. Moreover, Pfnek3 is phylogenetically distant from mammalian NIMA-kinases. Recombinant Pfnek3 was able to phosphorylate and stimulate a malarial MAPK (Pfmap2). Contrastingly, this was not observed with two other kinases, Pfmap1 and human MAPK1, suggesting that the Pfnek3-Pfmap2 interaction may be specific for Pfmap2 regulation. In summary, our data reveal a malarial NIMA-kinase with the potential to regulate a MAPK. Possessing biochemical properties divergent from classical mammalian NIMA-kinases, Pfnek3 could potentially be an attractive target for parasite-selective anti-malarials.   \n",
       "\n",
       "                                                                                                                                                                                                                                                                                                                                                                                                                                                                                                                                                                                                                                                                                                                                                                                                                                                                                                                                                                                                                                                                                      normalised_abstract  \n",
       "0                   O43293-2 (O43293-2) has been thought to be involved in apoptosis and the C-terminal leucine zipper motif is important for its function. Recent studies have revealed that O43293-2 also plays a role in regulating Q7Z406 phosphorylation. Here, we found novel O43293-2 isoform in which the C-terminal non-kinase domain containing a leucine zipper is eliminated (hZIPK-S). hZIPK-S binds to Q10728(Q10728) similar to the long isoform (hZIPK-L). In addition, we found that hZIPK-S as well as hZIPK-L bind to Q7Z406. These results indicate that a leucine zipper is not critical for the binding of O43293-2 to Q10728 and Q7Z406. Consistently, hZIPK-S localized with stress-fibers where they co-localized with Q7Z406. The residues 278-311, the C-terminal side of the kinase domain common to the both isoforms, is involved in the binding to Q10728, while the Q7Z406 binding domain is within the kinase domain. These results suggest that the newly found hZIPK-S as well as the long isoform play an important role in the regulation of Q7Z406 phosphorylation.  \n",
       "1                   O43293-1 (O43293-1) has been thought to be involved in apoptosis and the C-terminal leucine zipper motif is important for its function. Recent studies have revealed that O43293-1 also plays a role in regulating Q7Z406 phosphorylation. Here, we found novel O43293-1 isoform in which the C-terminal non-kinase domain containing a leucine zipper is eliminated (hZIPK-S). hZIPK-S binds to Q10728(Q10728) similar to the long isoform (hZIPK-L). In addition, we found that hZIPK-S as well as hZIPK-L bind to Q7Z406. These results indicate that a leucine zipper is not critical for the binding of O43293-1 to Q10728 and Q7Z406. Consistently, hZIPK-S localized with stress-fibers where they co-localized with Q7Z406. The residues 278-311, the C-terminal side of the kinase domain common to the both isoforms, is involved in the binding to Q10728, while the Q7Z406 binding domain is within the kinase domain. These results suggest that the newly found hZIPK-S as well as the long isoform play an important role in the regulation of Q7Z406 phosphorylation.  \n",
       "2  The canonical mitogen-activated protein kinase (MAPK) signal cascade was previously suggested to be atypical in the malaria parasite. This raises queries on the existence of alternative mediators of plasmodial MAPK pathways. This study describes, Pfnek3, a malarial protein kinase belonging to the NIMA (Never in Mitosis, Aspergillus) family. Endogenous Pfnek3 is expressed during late asexual to gametocyte stages and lacks some classical protein kinase sequence motifs. Moreover, Pfnek3 is phylogenetically distant from mammalian NIMA-kinases. Recombinant Pfnek3 was able to phosphorylate and stimulate a malarial MAPK (Pfmap2). Contrastingly, this was not observed with two other kinases, Pfmap1 and human P28482, suggesting that the Pfnek3-Pfmap2 interaction may be specific for Pfmap2 regulation. In summary, our data reveal a malarial NIMA-kinase with the potential to regulate a MAPK. Possessing biochemical properties divergent from classical mammalian NIMA-kinases, Pfnek3 could potentially be an attractive target for parasite-selective anti-malarials.  "
      ]
     },
     "execution_count": 45,
     "metadata": {},
     "output_type": "execute_result"
    }
   ],
   "source": [
    "data_filtered.head(n=3)"
   ]
  },
  {
   "cell_type": "code",
   "execution_count": 46,
   "metadata": {},
   "outputs": [
    {
     "data": {
      "text/plain": [
       "<matplotlib.axes._subplots.AxesSubplot at 0x11a332690>"
      ]
     },
     "execution_count": 46,
     "metadata": {},
     "output_type": "execute_result"
    },
    {
     "data": {
      "image/png": "[encoded data removed]",
      "text/plain": [
       "<Figure size 1080x360 with 4 Axes>"
      ]
     },
     "metadata": {},
     "output_type": "display_data"
    }
   ],
   "source": [
    "\n",
    "fig, ax =  plt.subplots( 1,4, figsize=(15,5))\n",
    "\n",
    "tmp = pd.DataFrame()\n",
    "\n",
    "data_filtered[\"particpant1Exists\"] = data_filtered.apply(lambda r: r[\"participant1Id\"] in r[\"normalised_abstract\"]   , 1)\n",
    "data_filtered[\"particpant1Exists\"].value_counts().plot.pie(ax=ax[0], autopct='%.2f')\n",
    "\n",
    "data_filtered[\"particpant2Exists\"] = data_filtered.apply(lambda r: r[\"participant2Id\"] in r[\"normalised_abstract\"]   , 1)\n",
    "data_filtered[\"particpant2Exists\"].value_counts().plot.pie(ax=ax[1], autopct='%.2f')\n",
    "\n",
    "\n",
    "data_filtered[\"bothParticpantsExist\"] = data_filtered.apply(lambda r: r[\"particpant2Exists\"] and r[\"particpant1Exists\"]   , 1)\n",
    "data_filtered[\"bothParticpantsExist\"].value_counts().plot.pie(ax=ax[2], autopct='%.2f')\n",
    "\n",
    "data_filtered[\"noParticpantsExist\"] = data_filtered.apply(lambda r: not (r[\"particpant2Exists\"] or r[\"particpant1Exists\"])   , 1)\n",
    "data_filtered[\"noParticpantsExist\"].value_counts().plot.pie(ax=ax[3], autopct='%.2f')\n"
   ]
  },
  {
   "cell_type": "code",
   "execution_count": 47,
   "metadata": {},
   "outputs": [
    {
     "data": {
      "image/png": "[encoded data removed]",
      "text/plain": [
       "<Figure size 1440x360 with 7 Axes>"
      ]
     },
     "metadata": {
      "needs_background": "light"
     },
     "output_type": "display_data"
    }
   ],
   "source": [
    "fig, ax = plt.subplots(1,7, figsize=(20,5))\n",
    "\n",
    "data_filtered.groupby([ \"bothParticpantsExist\", 'interactionType']).size().unstack().plot.bar(subplots=True, ax=ax)\n",
    "plt.show()"
   ]
  },
  {
   "cell_type": "code",
   "execution_count": 48,
   "metadata": {},
   "outputs": [
    {
     "data": {
      "text/html": [
       "<div>\n",
       "<style scoped>\n",
       "    .dataframe tbody tr th:only-of-type {\n",
       "        vertical-align: middle;\n",
       "    }\n",
       "\n",
       "    .dataframe tbody tr th {\n",
       "        vertical-align: top;\n",
       "    }\n",
       "\n",
       "    .dataframe thead th {\n",
       "        text-align: right;\n",
       "    }\n",
       "</style>\n",
       "<table border=\"1\" class=\"dataframe\">\n",
       "  <thead>\n",
       "    <tr style=\"text-align: right;\">\n",
       "      <th></th>\n",
       "      <th>entityMentionsCount</th>\n",
       "      <th>hasTriggerWord</th>\n",
       "      <th>interactionId</th>\n",
       "      <th>interactionType</th>\n",
       "      <th>isValid</th>\n",
       "      <th>lessThanThreshold</th>\n",
       "      <th>participant1Alias</th>\n",
       "      <th>participant1Id</th>\n",
       "      <th>participant2Alias</th>\n",
       "      <th>participant2Id</th>\n",
       "      <th>participants_count</th>\n",
       "      <th>pubmedId</th>\n",
       "      <th>pubmedTitle</th>\n",
       "      <th>pubmedabstract</th>\n",
       "      <th>normalised_abstract</th>\n",
       "      <th>particpant1Exists</th>\n",
       "      <th>particpant2Exists</th>\n",
       "      <th>bothParticpantsExist</th>\n",
       "      <th>noParticpantsExist</th>\n",
       "    </tr>\n",
       "  </thead>\n",
       "  <tbody>\n",
       "    <tr>\n",
       "      <th>1806</th>\n",
       "      <td>0</td>\n",
       "      <td>False</td>\n",
       "      <td>1342978</td>\n",
       "      <td>phosphorylation</td>\n",
       "      <td>True</td>\n",
       "      <td>True</td>\n",
       "      <td>[[stk4_human], [Serine/threonine-protein kinase 4], [STK4], [MST1], [STE20-like kinase MST1], [Mammalian STE20-like protein kinase 1], [Serine/threonine-protein kinase Krs-2], [KRS2]]</td>\n",
       "      <td>Q13043</td>\n",
       "      <td>[[stk4_human], [Serine/threonine-protein kinase 4], [STK4], [MST1], [STE20-like kinase MST1], [Mammalian STE20-like protein kinase 1], [Serine/threonine-protein kinase Krs-2], [KRS2]]</td>\n",
       "      <td>Q13043</td>\n",
       "      <td>1</td>\n",
       "      <td>22863277</td>\n",
       "      <td>None</td>\n",
       "      <td>The Hippo pathway is crucial in organ size control, and its dysregulation contributes to tumorigenesis. However, upstream signals that regulate the mammalian Hippo pathway have remained elusive. Here, we report that the Hippo pathway is regulated by G-protein-coupled receptor (GPCR) signaling. Serum-borne lysophosphatidic acid (LPA) and sphingosine 1-phosphophate (S1P) act through G12/13-coupled receptors to inhibit the Hippo pathway kinases Lats1/2, thereby activating YAP and TAZ transcription coactivators, which are oncoproteins repressed by Lats1/2. YAP and TAZ are involved in LPA-induced gene expression, cell migration, and proliferation. In contrast, stimulation of Gs-coupled receptors by glucagon or epinephrine activates Lats1/2 kinase activity, thereby inhibiting YAP function. Thus, GPCR signaling can either activate or inhibit the Hippo-YAP pathway depending on the coupled G protein. Our study identifies extracellular diffusible signals that modulate the Hippo pathway and also establishes the Hippo-YAP pathway as a critical signaling branch downstream of GPCR.</td>\n",
       "      <td>The Hippo pathway is crucial in organ size control, and its dysregulation contributes to tumorigenesis. However, upstream signals that regulate the mammalian Hippo pathway have remained elusive. Here, we report that the Hippo pathway is regulated by G-protein-coupled receptor (GPCR) signaling. Serum-borne lysophosphatidic acid (LPA) and sphingosine 1-phosphophate (S1P) act through G12/13-coupled receptors to inhibit the Hippo pathway kinases 8140;7462, thereby activating YAP and Q16635 transcription coactivators, which are oncoproteins repressed by 8140;7462. YAP and Q16635 are involved in LPA-induced gene expression, cell migration, and proliferation. In contrast, stimulation of Gs-coupled receptors by glucagon or epinephrine activates Q9GZY6 kinase activity, thereby inhibiting YAP function. Thus, GPCR signaling can either activate or inhibit the Hippo-YAP pathway depending on the coupled G protein. Our study identifies extracellular diffusible signals that modulate the Hippo pathway and also establishes the Hippo-YAP pathway as a critical signaling branch downstream of GPCR.</td>\n",
       "      <td>False</td>\n",
       "      <td>False</td>\n",
       "      <td>False</td>\n",
       "      <td>True</td>\n",
       "    </tr>\n",
       "    <tr>\n",
       "      <th>1286</th>\n",
       "      <td>2</td>\n",
       "      <td>True</td>\n",
       "      <td>1796167</td>\n",
       "      <td>phosphorylation</td>\n",
       "      <td>True</td>\n",
       "      <td>True</td>\n",
       "      <td>[[lrrk2_human], [Leucine-rich repeat serine/threonine-protein kinase 2], [LRRK2], [PARK8], [Dardarin]]</td>\n",
       "      <td>Q5S007</td>\n",
       "      <td>[[kc1g3_human], [Casein kinase I isoform gamma-3], [CSNK1G3]]</td>\n",
       "      <td>Q9Y6M4</td>\n",
       "      <td>2</td>\n",
       "      <td>25500533</td>\n",
       "      <td>None</td>\n",
       "      <td>LRRK2, a gene relevant to Parkinson's disease, encodes a scaffolding protein with both GTPase and kinase activities. LRRK2 protein is itself phosphorylated and therefore is subject to regulation by cell signalling; however, the kinase(s) responsible for this event have not been definitively identified. Here using an unbiased siRNA kinome screen, we identify and validate casein kinase 1α (CK1α) as being responsible for LRRK2 phosphorylation, including in the adult mouse striatum. We further show that LRRK2 recruitment to TGN46-positive Golgi-derived vesicles is modulated by constitutive LRRK2 phosphorylation by CK1α. These effects are mediated by differential protein interactions of LRRK2 with a guanine nucleotide exchange factor, ARHGEF7. These pathways are therefore likely involved in the physiological maintenance of the Golgi in cells, which may play a role in the pathogenesis of Parkinson's disease.</td>\n",
       "      <td>Q5S007, a gene relevant to Parkinson's disease, encodes a scaffolding protein with both GTPase and kinase activities. Q5S007 protein is itself phosphorylated and therefore is subject to regulation by cell signalling; however, the kinase(s) responsible for this event have not been definitively identified. Here using an unbiased siRNA kinome screen, we identify and validate P48729 (P48729) as being responsible for Q5S007 phosphorylation, including in the adult mouse striatum. We further show that Q5S007 recruitment to O43493-positive Golgi-derived vesicles is modulated by constitutive Q5S007 phosphorylation by P48729. These effects are mediated by differential protein interactions of Q5S007 with a guanine nucleotide exchange factor, Q14155. These pathways are therefore likely involved in the physiological maintenance of the Golgi in cells, which may play a role in the pathogenesis of Parkinson's disease.</td>\n",
       "      <td>True</td>\n",
       "      <td>False</td>\n",
       "      <td>False</td>\n",
       "      <td>False</td>\n",
       "    </tr>\n",
       "    <tr>\n",
       "      <th>1652</th>\n",
       "      <td>1</td>\n",
       "      <td>True</td>\n",
       "      <td>572905</td>\n",
       "      <td>phosphorylation</td>\n",
       "      <td>True</td>\n",
       "      <td>True</td>\n",
       "      <td>[[kc1d_rat], [Casein kinase I isoform delta], [Csnk1d], [Hckid], [Tau-protein kinase CSNK1D]]</td>\n",
       "      <td>Q06486</td>\n",
       "      <td>[[p53_human], [Cellular tumor antigen p53], [TP53], [P53], [Tumor suppressor p53], [Phosphoprotein p53], [Antigen NY-CO-13]]</td>\n",
       "      <td>P04637</td>\n",
       "      <td>2</td>\n",
       "      <td>17101137</td>\n",
       "      <td>None</td>\n",
       "      <td>In this study we identified snapin as an interaction partner of the CK1 isoform delta (CK1delta) in the yeast two-hybrid system and localized the interacting domains of both proteins. The interaction of CK1delta with snapin was confirmed by co-immunoprecipitation. Snapin was phosphorylated by CK1delta in vitro. Both proteins localized in close proximity in the perinuclear region, wherein snapin was found to associate with membranes of the Golgi apparatus. The identification of snapin as a new substrate of CK1delta points towards a possible function for CK1delta in modulating snapin specific functions.</td>\n",
       "      <td>In this study we identified O95295 as an interaction partner of the CK1 isoform delta (CK1delta) in the yeast two-hybrid system and localized the interacting domains of both proteins. The interaction of CK1delta with O95295 was confirmed by co-immunoprecipitation. O95295 was phosphorylated by CK1delta in vitro. Both proteins localized in close proximity in the perinuclear region, wherein O95295 was found to associate with membranes of the Golgi apparatus. The identification of O95295 as a new substrate of CK1delta points towards a possible function for CK1delta in modulating O95295 specific functions.</td>\n",
       "      <td>False</td>\n",
       "      <td>False</td>\n",
       "      <td>False</td>\n",
       "      <td>True</td>\n",
       "    </tr>\n",
       "    <tr>\n",
       "      <th>1435</th>\n",
       "      <td>5</td>\n",
       "      <td>True</td>\n",
       "      <td>575395</td>\n",
       "      <td>phosphorylation</td>\n",
       "      <td>True</td>\n",
       "      <td>True</td>\n",
       "      <td>[[ndb25_parsc], [Parabutoporin], [Non-disulfide-bridged peptide 2.5], [Non-disulfide-bridged peptide 3.2]]</td>\n",
       "      <td>P83312</td>\n",
       "      <td>[[kpcl_human], [Protein kinase C eta type], [PRKCH], [PKCL], [PRKCL], [PKC-L], [nPKC-eta]]</td>\n",
       "      <td>P24723</td>\n",
       "      <td>2</td>\n",
       "      <td>17069809</td>\n",
       "      <td>None</td>\n",
       "      <td>We investigated parabutoporin (PP), an antimicrobial scorpion peptide, to understand its inhibition on NADPH oxidase in human PMN. We show that PP is a good substrate for all PKC-isotypes, implicated in the activation of NADPH oxidase, and acts as a potent competitive inhibitor of in vitro p47(phox)-phosphorylation by PKC-alpha, -betaI, -betaII and -delta, but not PKC-zeta. In PMN, PP also inhibits the PMA-stimulated phosphorylation of p47(phox) and its subsequent translocation. In contrast, PP affects the PKC-independent activation to a much lesser degree. This indicates that PP inhibits the activation of NADPH oxidase at submicromolar concentrations in a strongly PKC-dependent manner.</td>\n",
       "      <td>We investigated parabutoporin (PP), an antimicrobial scorpion peptide, to understand its inhibition on NADPH oxidase in human PMN. We show that PP is a good substrate for all PKC-isotypes, implicated in the activation of NADPH oxidase, and acts as a potent competitive inhibitor of in vitro P08567(phox)-phosphorylation by PKC-alpha, -betaI, -betaII and -delta, but not Q05513. In PMN, PP also inhibits the PMA-stimulated phosphorylation of P08567(phox) and its subsequent translocation. In contrast, PP affects the PKC-independent activation to a much lesser degree. This indicates that PP inhibits the activation of NADPH oxidase at submicromolar concentrations in a strongly PKC-dependent manner.</td>\n",
       "      <td>False</td>\n",
       "      <td>False</td>\n",
       "      <td>False</td>\n",
       "      <td>True</td>\n",
       "    </tr>\n",
       "  </tbody>\n",
       "</table>\n",
       "</div>"
      ],
      "text/plain": [
       "      entityMentionsCount  hasTriggerWord interactionId  interactionType  \\\n",
       "1806                    0           False       1342978  phosphorylation   \n",
       "1286                    2            True       1796167  phosphorylation   \n",
       "1652                    1            True        572905  phosphorylation   \n",
       "1435                    5            True        575395  phosphorylation   \n",
       "\n",
       "      isValid  lessThanThreshold  \\\n",
       "1806     True               True   \n",
       "1286     True               True   \n",
       "1652     True               True   \n",
       "1435     True               True   \n",
       "\n",
       "                                                                                                                                                                            participant1Alias  \\\n",
       "1806  [[stk4_human], [Serine/threonine-protein kinase 4], [STK4], [MST1], [STE20-like kinase MST1], [Mammalian STE20-like protein kinase 1], [Serine/threonine-protein kinase Krs-2], [KRS2]]   \n",
       "1286                                                                                   [[lrrk2_human], [Leucine-rich repeat serine/threonine-protein kinase 2], [LRRK2], [PARK8], [Dardarin]]   \n",
       "1652                                                                                            [[kc1d_rat], [Casein kinase I isoform delta], [Csnk1d], [Hckid], [Tau-protein kinase CSNK1D]]   \n",
       "1435                                                                               [[ndb25_parsc], [Parabutoporin], [Non-disulfide-bridged peptide 2.5], [Non-disulfide-bridged peptide 3.2]]   \n",
       "\n",
       "     participant1Id  \\\n",
       "1806         Q13043   \n",
       "1286         Q5S007   \n",
       "1652         Q06486   \n",
       "1435         P83312   \n",
       "\n",
       "                                                                                                                                                                            participant2Alias  \\\n",
       "1806  [[stk4_human], [Serine/threonine-protein kinase 4], [STK4], [MST1], [STE20-like kinase MST1], [Mammalian STE20-like protein kinase 1], [Serine/threonine-protein kinase Krs-2], [KRS2]]   \n",
       "1286                                                                                                                            [[kc1g3_human], [Casein kinase I isoform gamma-3], [CSNK1G3]]   \n",
       "1652                                                             [[p53_human], [Cellular tumor antigen p53], [TP53], [P53], [Tumor suppressor p53], [Phosphoprotein p53], [Antigen NY-CO-13]]   \n",
       "1435                                                                                               [[kpcl_human], [Protein kinase C eta type], [PRKCH], [PKCL], [PRKCL], [PKC-L], [nPKC-eta]]   \n",
       "\n",
       "     participant2Id  participants_count  pubmedId pubmedTitle  \\\n",
       "1806         Q13043                   1  22863277        None   \n",
       "1286         Q9Y6M4                   2  25500533        None   \n",
       "1652         P04637                   2  17101137        None   \n",
       "1435         P24723                   2  17069809        None   \n",
       "\n",
       "                                                                                                                                                                                                                                                                                                                                                                                                                                                                                                                                                                                                                                                                                                                                                                                                                                                                                                                                                                                                                                                                                                                    pubmedabstract  \\\n",
       "1806  The Hippo pathway is crucial in organ size control, and its dysregulation contributes to tumorigenesis. However, upstream signals that regulate the mammalian Hippo pathway have remained elusive. Here, we report that the Hippo pathway is regulated by G-protein-coupled receptor (GPCR) signaling. Serum-borne lysophosphatidic acid (LPA) and sphingosine 1-phosphophate (S1P) act through G12/13-coupled receptors to inhibit the Hippo pathway kinases Lats1/2, thereby activating YAP and TAZ transcription coactivators, which are oncoproteins repressed by Lats1/2. YAP and TAZ are involved in LPA-induced gene expression, cell migration, and proliferation. In contrast, stimulation of Gs-coupled receptors by glucagon or epinephrine activates Lats1/2 kinase activity, thereby inhibiting YAP function. Thus, GPCR signaling can either activate or inhibit the Hippo-YAP pathway depending on the coupled G protein. Our study identifies extracellular diffusible signals that modulate the Hippo pathway and also establishes the Hippo-YAP pathway as a critical signaling branch downstream of GPCR.   \n",
       "1286                                                                                                                                                                          LRRK2, a gene relevant to Parkinson's disease, encodes a scaffolding protein with both GTPase and kinase activities. LRRK2 protein is itself phosphorylated and therefore is subject to regulation by cell signalling; however, the kinase(s) responsible for this event have not been definitively identified. Here using an unbiased siRNA kinome screen, we identify and validate casein kinase 1α (CK1α) as being responsible for LRRK2 phosphorylation, including in the adult mouse striatum. We further show that LRRK2 recruitment to TGN46-positive Golgi-derived vesicles is modulated by constitutive LRRK2 phosphorylation by CK1α. These effects are mediated by differential protein interactions of LRRK2 with a guanine nucleotide exchange factor, ARHGEF7. These pathways are therefore likely involved in the physiological maintenance of the Golgi in cells, which may play a role in the pathogenesis of Parkinson's disease.    \n",
       "1652                                                                                                                                                                                                                                                                                                                                                                                                                                                                                              In this study we identified snapin as an interaction partner of the CK1 isoform delta (CK1delta) in the yeast two-hybrid system and localized the interacting domains of both proteins. The interaction of CK1delta with snapin was confirmed by co-immunoprecipitation. Snapin was phosphorylated by CK1delta in vitro. Both proteins localized in close proximity in the perinuclear region, wherein snapin was found to associate with membranes of the Golgi apparatus. The identification of snapin as a new substrate of CK1delta points towards a possible function for CK1delta in modulating snapin specific functions.   \n",
       "1435                                                                                                                                                                                                                                                                                                                                                                                                       We investigated parabutoporin (PP), an antimicrobial scorpion peptide, to understand its inhibition on NADPH oxidase in human PMN. We show that PP is a good substrate for all PKC-isotypes, implicated in the activation of NADPH oxidase, and acts as a potent competitive inhibitor of in vitro p47(phox)-phosphorylation by PKC-alpha, -betaI, -betaII and -delta, but not PKC-zeta. In PMN, PP also inhibits the PMA-stimulated phosphorylation of p47(phox) and its subsequent translocation. In contrast, PP affects the PKC-independent activation to a much lesser degree. This indicates that PP inhibits the activation of NADPH oxidase at submicromolar concentrations in a strongly PKC-dependent manner.   \n",
       "\n",
       "                                                                                                                                                                                                                                                                                                                                                                                                                                                                                                                                                                                                                                                                                                                                                                                                                                                                                                                                                                                                                                                                                                                        normalised_abstract  \\\n",
       "1806  The Hippo pathway is crucial in organ size control, and its dysregulation contributes to tumorigenesis. However, upstream signals that regulate the mammalian Hippo pathway have remained elusive. Here, we report that the Hippo pathway is regulated by G-protein-coupled receptor (GPCR) signaling. Serum-borne lysophosphatidic acid (LPA) and sphingosine 1-phosphophate (S1P) act through G12/13-coupled receptors to inhibit the Hippo pathway kinases 8140;7462, thereby activating YAP and Q16635 transcription coactivators, which are oncoproteins repressed by 8140;7462. YAP and Q16635 are involved in LPA-induced gene expression, cell migration, and proliferation. In contrast, stimulation of Gs-coupled receptors by glucagon or epinephrine activates Q9GZY6 kinase activity, thereby inhibiting YAP function. Thus, GPCR signaling can either activate or inhibit the Hippo-YAP pathway depending on the coupled G protein. Our study identifies extracellular diffusible signals that modulate the Hippo pathway and also establishes the Hippo-YAP pathway as a critical signaling branch downstream of GPCR.   \n",
       "1286                                                                                                                                                                                   Q5S007, a gene relevant to Parkinson's disease, encodes a scaffolding protein with both GTPase and kinase activities. Q5S007 protein is itself phosphorylated and therefore is subject to regulation by cell signalling; however, the kinase(s) responsible for this event have not been definitively identified. Here using an unbiased siRNA kinome screen, we identify and validate P48729 (P48729) as being responsible for Q5S007 phosphorylation, including in the adult mouse striatum. We further show that Q5S007 recruitment to O43493-positive Golgi-derived vesicles is modulated by constitutive Q5S007 phosphorylation by P48729. These effects are mediated by differential protein interactions of Q5S007 with a guanine nucleotide exchange factor, Q14155. These pathways are therefore likely involved in the physiological maintenance of the Golgi in cells, which may play a role in the pathogenesis of Parkinson's disease.    \n",
       "1652                                                                                                                                                                                                                                                                                                                                                                                                                                                                                                       In this study we identified O95295 as an interaction partner of the CK1 isoform delta (CK1delta) in the yeast two-hybrid system and localized the interacting domains of both proteins. The interaction of CK1delta with O95295 was confirmed by co-immunoprecipitation. O95295 was phosphorylated by CK1delta in vitro. Both proteins localized in close proximity in the perinuclear region, wherein O95295 was found to associate with membranes of the Golgi apparatus. The identification of O95295 as a new substrate of CK1delta points towards a possible function for CK1delta in modulating O95295 specific functions.   \n",
       "1435                                                                                                                                                                                                                                                                                                                                                                                                            We investigated parabutoporin (PP), an antimicrobial scorpion peptide, to understand its inhibition on NADPH oxidase in human PMN. We show that PP is a good substrate for all PKC-isotypes, implicated in the activation of NADPH oxidase, and acts as a potent competitive inhibitor of in vitro P08567(phox)-phosphorylation by PKC-alpha, -betaI, -betaII and -delta, but not Q05513. In PMN, PP also inhibits the PMA-stimulated phosphorylation of P08567(phox) and its subsequent translocation. In contrast, PP affects the PKC-independent activation to a much lesser degree. This indicates that PP inhibits the activation of NADPH oxidase at submicromolar concentrations in a strongly PKC-dependent manner.   \n",
       "\n",
       "      particpant1Exists  particpant2Exists  bothParticpantsExist  \\\n",
       "1806              False              False                 False   \n",
       "1286               True              False                 False   \n",
       "1652              False              False                 False   \n",
       "1435              False              False                 False   \n",
       "\n",
       "      noParticpantsExist  \n",
       "1806                True  \n",
       "1286               False  \n",
       "1652                True  \n",
       "1435                True  "
      ]
     },
     "execution_count": 48,
     "metadata": {},
     "output_type": "execute_result"
    }
   ],
   "source": [
    "data_filtered.query(\"particpant2Exists == False\").sample(4)"
   ]
  },
  {
   "cell_type": "markdown",
   "metadata": {},
   "source": [
    "### Remove abstracts where both participants do not exists"
   ]
  },
  {
   "cell_type": "code",
   "execution_count": 49,
   "metadata": {},
   "outputs": [
    {
     "data": {
      "text/plain": [
       "(1150, 19)"
      ]
     },
     "execution_count": 49,
     "metadata": {},
     "output_type": "execute_result"
    }
   ],
   "source": [
    "data_filtered =  data_filtered.query('particpant2Exists == True')\n",
    "data_filtered.shape"
   ]
  },
  {
   "cell_type": "code",
   "execution_count": 50,
   "metadata": {},
   "outputs": [
    {
     "data": {
      "image/png": "[encoded data removed]",
      "text/plain": [
       "<Figure size 288x360 with 1 Axes>"
      ]
     },
     "metadata": {
      "needs_background": "light"
     },
     "output_type": "display_data"
    }
   ],
   "source": [
    "fig, ax = plt.subplots( 1,1, figsize=(4,5))\n",
    "\n",
    "c_ax= ax\n",
    "c_ax.set_title('Overall distribution post filter {}'.format(data_filtered.shape[0]))\n",
    "c_ax.yaxis.set_major_formatter(mtick.PercentFormatter())\n",
    "c_ax.yaxis.set_major_locator(plt.FixedLocator(range(0,100, 10)))\n",
    "\n",
    "data_filtered.groupby(['interactionType']).size().apply(lambda x: 100 * x / float(len(data_filtered.interactionType))).plot.bar(ax=c_ax, color='gray')\n",
    "\n",
    "\n",
    "plt.savefig(\"Interactiontype_postfilter.eps\", bbox_inches='tight')\n",
    "plt.savefig(\"Interactiontype_postfilter.png\", bbox_inches='tight')\n",
    "\n",
    "\n",
    "plt.show()"
   ]
  },
  {
   "cell_type": "markdown",
   "metadata": {},
   "source": [
    "#### Check how many contain the trigger word"
   ]
  },
  {
   "cell_type": "code",
   "execution_count": 51,
   "metadata": {},
   "outputs": [
    {
     "data": {
      "text/html": [
       "<div>\n",
       "<style scoped>\n",
       "    .dataframe tbody tr th:only-of-type {\n",
       "        vertical-align: middle;\n",
       "    }\n",
       "\n",
       "    .dataframe tbody tr th {\n",
       "        vertical-align: top;\n",
       "    }\n",
       "\n",
       "    .dataframe thead th {\n",
       "        text-align: right;\n",
       "    }\n",
       "</style>\n",
       "<table border=\"1\" class=\"dataframe\">\n",
       "  <thead>\n",
       "    <tr style=\"text-align: right;\">\n",
       "      <th>hasTriggerWord</th>\n",
       "      <th>False</th>\n",
       "      <th>True</th>\n",
       "    </tr>\n",
       "    <tr>\n",
       "      <th>interactionType</th>\n",
       "      <th></th>\n",
       "      <th></th>\n",
       "    </tr>\n",
       "  </thead>\n",
       "  <tbody>\n",
       "    <tr>\n",
       "      <th>acetylation</th>\n",
       "      <td>4</td>\n",
       "      <td>36</td>\n",
       "    </tr>\n",
       "    <tr>\n",
       "      <th>demethylation</th>\n",
       "      <td>0</td>\n",
       "      <td>6</td>\n",
       "    </tr>\n",
       "    <tr>\n",
       "      <th>dephosphorylation</th>\n",
       "      <td>28</td>\n",
       "      <td>111</td>\n",
       "    </tr>\n",
       "    <tr>\n",
       "      <th>deubiquitination</th>\n",
       "      <td>2</td>\n",
       "      <td>13</td>\n",
       "    </tr>\n",
       "    <tr>\n",
       "      <th>methylation</th>\n",
       "      <td>0</td>\n",
       "      <td>64</td>\n",
       "    </tr>\n",
       "    <tr>\n",
       "      <th>phosphorylation</th>\n",
       "      <td>79</td>\n",
       "      <td>794</td>\n",
       "    </tr>\n",
       "    <tr>\n",
       "      <th>ubiquitination</th>\n",
       "      <td>0</td>\n",
       "      <td>13</td>\n",
       "    </tr>\n",
       "  </tbody>\n",
       "</table>\n",
       "</div>"
      ],
      "text/plain": [
       "hasTriggerWord     False  True \n",
       "interactionType                \n",
       "acetylation            4     36\n",
       "demethylation          0      6\n",
       "dephosphorylation     28    111\n",
       "deubiquitination       2     13\n",
       "methylation            0     64\n",
       "phosphorylation       79    794\n",
       "ubiquitination         0     13"
      ]
     },
     "execution_count": 51,
     "metadata": {},
     "output_type": "execute_result"
    }
   ],
   "source": [
    "data_filtered.groupby([ 'interactionType','hasTriggerWord']).size().unstack(fill_value = 0)"
   ]
  },
  {
   "cell_type": "code",
   "execution_count": 52,
   "metadata": {},
   "outputs": [
    {
     "data": {
      "text/html": [
       "<div>\n",
       "<style scoped>\n",
       "    .dataframe tbody tr th:only-of-type {\n",
       "        vertical-align: middle;\n",
       "    }\n",
       "\n",
       "    .dataframe tbody tr th {\n",
       "        vertical-align: top;\n",
       "    }\n",
       "\n",
       "    .dataframe thead th {\n",
       "        text-align: right;\n",
       "    }\n",
       "</style>\n",
       "<table border=\"1\" class=\"dataframe\">\n",
       "  <thead>\n",
       "    <tr style=\"text-align: right;\">\n",
       "      <th>hasTriggerWord</th>\n",
       "      <th>False</th>\n",
       "      <th>True</th>\n",
       "    </tr>\n",
       "    <tr>\n",
       "      <th>interactionType</th>\n",
       "      <th></th>\n",
       "      <th></th>\n",
       "    </tr>\n",
       "  </thead>\n",
       "  <tbody>\n",
       "    <tr>\n",
       "      <th>acetylation</th>\n",
       "      <td>10.0</td>\n",
       "      <td>90.0</td>\n",
       "    </tr>\n",
       "    <tr>\n",
       "      <th>demethylation</th>\n",
       "      <td>0.0</td>\n",
       "      <td>100.0</td>\n",
       "    </tr>\n",
       "    <tr>\n",
       "      <th>dephosphorylation</th>\n",
       "      <td>20.1</td>\n",
       "      <td>79.9</td>\n",
       "    </tr>\n",
       "    <tr>\n",
       "      <th>deubiquitination</th>\n",
       "      <td>13.3</td>\n",
       "      <td>86.7</td>\n",
       "    </tr>\n",
       "    <tr>\n",
       "      <th>methylation</th>\n",
       "      <td>0.0</td>\n",
       "      <td>100.0</td>\n",
       "    </tr>\n",
       "    <tr>\n",
       "      <th>phosphorylation</th>\n",
       "      <td>9.0</td>\n",
       "      <td>91.0</td>\n",
       "    </tr>\n",
       "    <tr>\n",
       "      <th>ubiquitination</th>\n",
       "      <td>0.0</td>\n",
       "      <td>100.0</td>\n",
       "    </tr>\n",
       "  </tbody>\n",
       "</table>\n",
       "</div>"
      ],
      "text/plain": [
       "hasTriggerWord     False  True \n",
       "interactionType                \n",
       "acetylation         10.0   90.0\n",
       "demethylation        0.0  100.0\n",
       "dephosphorylation   20.1   79.9\n",
       "deubiquitination    13.3   86.7\n",
       "methylation          0.0  100.0\n",
       "phosphorylation      9.0   91.0\n",
       "ubiquitination       0.0  100.0"
      ]
     },
     "execution_count": 52,
     "metadata": {},
     "output_type": "execute_result"
    }
   ],
   "source": [
    "data_filtered.groupby([ 'interactionType','hasTriggerWord']).size().unstack(fill_value = 0).apply(lambda x: round(x/sum(x),3)*100, axis=1)\n"
   ]
  },
  {
   "cell_type": "markdown",
   "metadata": {},
   "source": [
    "### Split Train/Test/validation"
   ]
  },
  {
   "cell_type": "code",
   "execution_count": 53,
   "metadata": {},
   "outputs": [],
   "source": [
    "from sklearn.model_selection import train_test_split\n",
    "from sklearn.model_selection import train_test_split\n",
    "\n",
    "unique_pubmed = data_filtered.pubmedId.unique()\n",
    "stratified =  [ data_filtered.query(\"pubmedId == '{}'\".format(p))['interactionType'].iloc[0] for p in unique_pubmed]\n",
    "trainpubmed, valpubmed  = train_test_split(unique_pubmed,  test_size=.1,\n",
    "                                                        random_state=777, stratify=stratified)\n",
    "\n",
    "\n",
    "stratified =  [data_filtered.query(\"pubmedId == '{}'\".format(p))['interactionType'].iloc[0] for p in trainpubmed]\n",
    "trainpubmed, testpubmed = train_test_split(trainpubmed,  test_size=.2,\n",
    "                                                        random_state=777, stratify=stratified)"
   ]
  },
  {
   "cell_type": "code",
   "execution_count": 54,
   "metadata": {},
   "outputs": [
    {
     "data": {
      "text/plain": [
       "array(['23219879', '17320160', '17805299', '17567753'], dtype=object)"
      ]
     },
     "execution_count": 54,
     "metadata": {},
     "output_type": "execute_result"
    }
   ],
   "source": [
    "data_filtered.query(\"interactionType == 'demethylation'\")['pubmedId'].unique()"
   ]
  },
  {
   "cell_type": "code",
   "execution_count": 55,
   "metadata": {},
   "outputs": [
    {
     "data": {
      "text/plain": [
       "array(['15103385', '16213503', '15678106', '15710384', '14603323',\n",
       "       '12878161', '12230472', '11588219', '11894096', '11882901',\n",
       "       '19656744', '16601676', '11027293'], dtype=object)"
      ]
     },
     "execution_count": 55,
     "metadata": {},
     "output_type": "execute_result"
    }
   ],
   "source": [
    "data_filtered.query(\"interactionType == 'ubiquitination'\")['pubmedId'].unique()"
   ]
  },
  {
   "cell_type": "code",
   "execution_count": 56,
   "metadata": {},
   "outputs": [],
   "source": [
    "train = data_filtered[data_filtered['pubmedId'].isin(trainpubmed)]\n",
    "test = data_filtered[data_filtered['pubmedId'].isin(testpubmed)]\n",
    "val = data_filtered[data_filtered['pubmedId'].isin(valpubmed)]\n",
    "\n",
    "\n"
   ]
  },
  {
   "cell_type": "code",
   "execution_count": 57,
   "metadata": {},
   "outputs": [
    {
     "data": {
      "text/plain": [
       "array(['15103385', '16213503', '15710384', '12878161', '12230472',\n",
       "       '11588219', '19656744', '16601676', '11027293'], dtype=object)"
      ]
     },
     "execution_count": 57,
     "metadata": {},
     "output_type": "execute_result"
    }
   ],
   "source": [
    "train.query(\"interactionType == 'ubiquitination'\")['pubmedId'].unique()"
   ]
  },
  {
   "cell_type": "code",
   "execution_count": 58,
   "metadata": {},
   "outputs": [
    {
     "data": {
      "text/html": [
       "<div>\n",
       "<style scoped>\n",
       "    .dataframe tbody tr th:only-of-type {\n",
       "        vertical-align: middle;\n",
       "    }\n",
       "\n",
       "    .dataframe tbody tr th {\n",
       "        vertical-align: top;\n",
       "    }\n",
       "\n",
       "    .dataframe thead th {\n",
       "        text-align: right;\n",
       "    }\n",
       "</style>\n",
       "<table border=\"1\" class=\"dataframe\">\n",
       "  <thead>\n",
       "    <tr style=\"text-align: right;\">\n",
       "      <th></th>\n",
       "      <th>entityMentionsCount</th>\n",
       "      <th>hasTriggerWord</th>\n",
       "      <th>interactionId</th>\n",
       "      <th>interactionType</th>\n",
       "      <th>isValid</th>\n",
       "      <th>lessThanThreshold</th>\n",
       "      <th>participant1Alias</th>\n",
       "      <th>participant1Id</th>\n",
       "      <th>participant2Alias</th>\n",
       "      <th>participant2Id</th>\n",
       "      <th>participants_count</th>\n",
       "      <th>pubmedId</th>\n",
       "      <th>pubmedTitle</th>\n",
       "      <th>pubmedabstract</th>\n",
       "      <th>normalised_abstract</th>\n",
       "      <th>particpant1Exists</th>\n",
       "      <th>particpant2Exists</th>\n",
       "      <th>bothParticpantsExist</th>\n",
       "      <th>noParticpantsExist</th>\n",
       "    </tr>\n",
       "  </thead>\n",
       "  <tbody>\n",
       "    <tr>\n",
       "      <th>1181</th>\n",
       "      <td>8</td>\n",
       "      <td>True</td>\n",
       "      <td>7618</td>\n",
       "      <td>ubiquitination</td>\n",
       "      <td>True</td>\n",
       "      <td>True</td>\n",
       "      <td>[[rnf12_human], [E3 ubiquitin-protein ligase RLIM], [RING-type E3 ubiquitin transferase RLIM], [RLIM], [RNF12], [RING finger protein 12], [LIM domain-interacting RING finger protein], [RING finger LIM domain-binding protein], [Renal carcinoma antigen NY-REN-43]]</td>\n",
       "      <td>Q9NVW2</td>\n",
       "      <td>[[ldb1_human], [LIM domain-binding protein 1], [Nuclear LIM interactor], [Carboxyl-terminal LIM domain-binding protein 2], [LIM domain-binding factor CLIM2], [LDB1], [CLIM2]]</td>\n",
       "      <td>Q86U70</td>\n",
       "      <td>2</td>\n",
       "      <td>11882901</td>\n",
       "      <td>None</td>\n",
       "      <td>The interactions of distinct cofactor complexes with transcription factors are decisive determinants for the regulation of gene expression. Depending on the bound cofactor, transcription factors can have either repressing or transactivating activities. To allow a switch between these different states, regulated cofactor exchange has been proposed; however, little is known about the molecular mechanisms that are involved in this process. LIM homeodomain (LIM-HD) transcription factors associate with RLIM (RING finger LIM domain-binding protein) and with CLIM (cofactor of LIM-HD proteins; also known as NLI, Ldb and Chip) cofactors. The co-repressor RLIM inhibits the function of LIM-HD transcription factors, whereas interaction with CLIM proteins is important for the exertion of the biological activity conferred by LIM-HD transcription-factors. Here we identify RLIM as a ubiquitin protein ligase that is able to target CLIM cofactors for degradation through the 26S proteasome pathway. Furthermore, we demonstrate a ubiquitination-dependent association of RLIM with LIM-HD proteins in the presence of CLIM cofactors. Our data provide a mechanistic basis for cofactor exchange on DNA-bound transcription factors, and probably represent a general mechanism of transcriptional regulation.</td>\n",
       "      <td>The interactions of distinct cofactor complexes with transcription factors are decisive determinants for the regulation of gene expression. Depending on the bound cofactor, transcription factors can have either repressing or transactivating activities. To allow a switch between these different states, regulated cofactor exchange has been proposed; however, little is known about the molecular mechanisms that are involved in this process. LIM homeodomain (LIM-HD) transcription factors associate with Q9NVW2 (Q9NVW2) and with CLIM (cofactor of LIM-HD proteins; also known as Q86U70, Ldb and Chip) cofactors. The co-repressor Q9NVW2 inhibits the function of LIM-HD transcription factors, whereas interaction with CLIM proteins is important for the exertion of the biological activity conferred by LIM-HD transcription-factors. Here we identify Q9NVW2 as a ubiquitin protein ligase that is able to target CLIM cofactors for degradation through the 26S proteasome pathway. Furthermore, we demonstrate a ubiquitination-dependent association of Q9NVW2 with LIM-HD proteins in the presence of CLIM cofactors. Our data provide a mechanistic basis for cofactor exchange on DNA-bound transcription factors, and probably represent a general mechanism of transcriptional regulation.</td>\n",
       "      <td>True</td>\n",
       "      <td>True</td>\n",
       "      <td>True</td>\n",
       "      <td>False</td>\n",
       "    </tr>\n",
       "  </tbody>\n",
       "</table>\n",
       "</div>"
      ],
      "text/plain": [
       "      entityMentionsCount  hasTriggerWord interactionId interactionType  \\\n",
       "1181                    8            True          7618  ubiquitination   \n",
       "\n",
       "      isValid  lessThanThreshold  \\\n",
       "1181     True               True   \n",
       "\n",
       "                                                                                                                                                                                                                                                           participant1Alias  \\\n",
       "1181  [[rnf12_human], [E3 ubiquitin-protein ligase RLIM], [RING-type E3 ubiquitin transferase RLIM], [RLIM], [RNF12], [RING finger protein 12], [LIM domain-interacting RING finger protein], [RING finger LIM domain-binding protein], [Renal carcinoma antigen NY-REN-43]]   \n",
       "\n",
       "     participant1Id  \\\n",
       "1181         Q9NVW2   \n",
       "\n",
       "                                                                                                                                                                   participant2Alias  \\\n",
       "1181  [[ldb1_human], [LIM domain-binding protein 1], [Nuclear LIM interactor], [Carboxyl-terminal LIM domain-binding protein 2], [LIM domain-binding factor CLIM2], [LDB1], [CLIM2]]   \n",
       "\n",
       "     participant2Id  participants_count  pubmedId pubmedTitle  \\\n",
       "1181         Q86U70                   2  11882901        None   \n",
       "\n",
       "                                                                                                                                                                                                                                                                                                                                                                                                                                                                                                                                                                                                                                                                                                                                                                                                                                                                                                                                                                                                                                                                                                                                                                                                                                                                                                                                      pubmedabstract  \\\n",
       "1181  The interactions of distinct cofactor complexes with transcription factors are decisive determinants for the regulation of gene expression. Depending on the bound cofactor, transcription factors can have either repressing or transactivating activities. To allow a switch between these different states, regulated cofactor exchange has been proposed; however, little is known about the molecular mechanisms that are involved in this process. LIM homeodomain (LIM-HD) transcription factors associate with RLIM (RING finger LIM domain-binding protein) and with CLIM (cofactor of LIM-HD proteins; also known as NLI, Ldb and Chip) cofactors. The co-repressor RLIM inhibits the function of LIM-HD transcription factors, whereas interaction with CLIM proteins is important for the exertion of the biological activity conferred by LIM-HD transcription-factors. Here we identify RLIM as a ubiquitin protein ligase that is able to target CLIM cofactors for degradation through the 26S proteasome pathway. Furthermore, we demonstrate a ubiquitination-dependent association of RLIM with LIM-HD proteins in the presence of CLIM cofactors. Our data provide a mechanistic basis for cofactor exchange on DNA-bound transcription factors, and probably represent a general mechanism of transcriptional regulation.   \n",
       "\n",
       "                                                                                                                                                                                                                                                                                                                                                                                                                                                                                                                                                                                                                                                                                                                                                                                                                                                                                                                                                                                                                                                                                                                                                                                                                                                                                                            normalised_abstract  \\\n",
       "1181  The interactions of distinct cofactor complexes with transcription factors are decisive determinants for the regulation of gene expression. Depending on the bound cofactor, transcription factors can have either repressing or transactivating activities. To allow a switch between these different states, regulated cofactor exchange has been proposed; however, little is known about the molecular mechanisms that are involved in this process. LIM homeodomain (LIM-HD) transcription factors associate with Q9NVW2 (Q9NVW2) and with CLIM (cofactor of LIM-HD proteins; also known as Q86U70, Ldb and Chip) cofactors. The co-repressor Q9NVW2 inhibits the function of LIM-HD transcription factors, whereas interaction with CLIM proteins is important for the exertion of the biological activity conferred by LIM-HD transcription-factors. Here we identify Q9NVW2 as a ubiquitin protein ligase that is able to target CLIM cofactors for degradation through the 26S proteasome pathway. Furthermore, we demonstrate a ubiquitination-dependent association of Q9NVW2 with LIM-HD proteins in the presence of CLIM cofactors. Our data provide a mechanistic basis for cofactor exchange on DNA-bound transcription factors, and probably represent a general mechanism of transcriptional regulation.   \n",
       "\n",
       "      particpant1Exists  particpant2Exists  bothParticpantsExist  \\\n",
       "1181               True               True                  True   \n",
       "\n",
       "      noParticpantsExist  \n",
       "1181               False  "
      ]
     },
     "execution_count": 58,
     "metadata": {},
     "output_type": "execute_result"
    }
   ],
   "source": [
    "val.query(\"interactionType == 'ubiquitination'\")\n"
   ]
  },
  {
   "cell_type": "code",
   "execution_count": 59,
   "metadata": {},
   "outputs": [
    {
     "data": {
      "image/png": "[encoded data removed]",
      "text/plain": [
       "<Figure size 864x360 with 3 Axes>"
      ]
     },
     "metadata": {
      "needs_background": "light"
     },
     "output_type": "display_data"
    }
   ],
   "source": [
    "import matplotlib.pyplot as plt\n",
    "import matplotlib\n",
    "import matplotlib.ticker as mtick\n",
    "\n",
    "\n",
    "fig, ax = plt.subplots( 1,3, figsize=(12,5))\n",
    "\n",
    "\n",
    "\n",
    "#fig, ax = plt.subplots( 7,1, figsize=(45,30))\n",
    "c_ax= ax[0]\n",
    "c_ax.set_title('Train set {}'.format(train.shape[0]))\n",
    "c_ax.yaxis.set_major_formatter(mtick.PercentFormatter())\n",
    "c_ax.yaxis.set_major_locator(plt.FixedLocator(range(0,100, 5)))\n",
    "train.groupby(['interactionType']).size().apply(lambda x: 100 * x / float(len(train.interactionType))).plot.bar(ax=c_ax, color='gray')\n",
    "\n",
    "\n",
    "\n",
    "\n",
    "c_ax = ax[1] \n",
    "c_ax.set_title('Validation set {}'.format(val.shape[0]))\n",
    "c_ax.yaxis.set_major_formatter(mtick.PercentFormatter())\n",
    "c_ax.yaxis.set_major_locator(plt.FixedLocator(range(0,100, 5)))\n",
    "val.groupby(['interactionType']).size().apply(lambda x: 100 * x / float(len(val.interactionType))).plot.bar(ax=c_ax, color='gray')\n",
    "\n",
    "\n",
    "\n",
    "c_ax = ax[2] \n",
    "c_ax.set_title('Test set {}'.format(test.shape[0]))\n",
    "c_ax.yaxis.set_major_formatter(mtick.PercentFormatter())\n",
    "c_ax.yaxis.set_major_locator(plt.FixedLocator(range(0,100, 5)))\n",
    "test.groupby(['interactionType']).size().apply(lambda x: 100 * x / float(len(test.interactionType))).plot.bar(ax=c_ax, color='gray')\n",
    "\n",
    "\n",
    "\n",
    "\n",
    "plt.savefig(\"split_dataset_postfilter.eps\", bbox_inches='tight')\n",
    "plt.savefig(\"split_dataset_postfilter.png\", bbox_inches='tight')\n",
    "\n",
    "plt.show()"
   ]
  },
  {
   "cell_type": "code",
   "execution_count": 60,
   "metadata": {},
   "outputs": [
    {
     "data": {
      "image/png": "[encoded data removed]",
      "text/plain": [
       "<Figure size 1080x360 with 3 Axes>"
      ]
     },
     "metadata": {
      "needs_background": "light"
     },
     "output_type": "display_data"
    }
   ],
   "source": [
    "import matplotlib.pyplot as plt\n",
    "import matplotlib\n",
    "import matplotlib.ticker as mtick\n",
    "\n",
    "\n",
    "fig, ax = plt.subplots( 1,3, figsize=(15,5))\n",
    "\n",
    "\n",
    "\n",
    "#fig, ax = plt.subplots( 7,1, figsize=(45,30))\n",
    "c_ax= ax[0]\n",
    "c_ax.set_title('Train set total positive class {}'.format(train.shape[0]))\n",
    "c_ax.yaxis.set_major_locator(plt.MaxNLocator( prune='both'))\n",
    "train.interactionType.value_counts().sort_index().plot.bar(ax=c_ax, color='gray')\n",
    "\n",
    "\n",
    "\n",
    "\n",
    "c_ax = ax[1] \n",
    "c_ax.set_title('Validation set total positive class {}'.format(val.shape[0]))\n",
    "c_ax.yaxis.set_major_locator(plt.MaxNLocator( prune='both'))\n",
    "val.interactionType.value_counts().sort_index().plot.bar(ax=c_ax, color='gray')\n",
    "\n",
    "c_ax = ax[2] \n",
    "c_ax.set_title('Test set total positive class {}'.format(test.shape[0]))\n",
    "c_ax.yaxis.set_major_locator(plt.MaxNLocator( prune='both'))\n",
    "test.interactionType.value_counts().sort_index().plot.bar(ax=c_ax,  color='gray')\n",
    "\n",
    "\n",
    "plt.savefig('TrainTestValidationInteractionDistribution.eps', bbox_inches='tight')\n",
    "plt.savefig('TrainTestValidationInteractionDistribution.png', bbox_inches='tight')\n",
    "\n",
    "\n",
    "plt.show()"
   ]
  },
  {
   "cell_type": "markdown",
   "metadata": {},
   "source": [
    "### Generate negative samples"
   ]
  },
  {
   "cell_type": "code",
   "execution_count": 61,
   "metadata": {},
   "outputs": [],
   "source": [
    "\n",
    "# def generate_negative_old(data):\n",
    "#     import uuid\n",
    "#     unique_pubmeds = data[\"pubmedId\"].unique()\n",
    "#     data_fake = pd.DataFrame(columns=data.columns)\n",
    "\n",
    "#     num_fake_records = int( .50 * len(data))\n",
    "#     #TODO: Randomise this, biased via\n",
    "#     for u in unique_pubmeds:\n",
    "#         fake_records = pd.DataFrame(data[ data.pubmedId != u]  ).sample(n=1) \n",
    "#         fake_records.loc[:, \"interactionId\"] =  fake_records.interactionId.astype(str) + \"_\" + str(uuid.uuid4() ) + \"_\" + \"fake\"\n",
    "#         fake_records.loc[:,\"isValid\"] = 'False' \n",
    "#         ## Copy of the pubmeid abtract and the title from a id\n",
    "#         fake_records.loc[:,\"pubmedId\"] = u\n",
    "#         fake_records.loc[:, \"pubmedTitle\"] =  data[ data.pubmedId == u].iloc[0][\"pubmedTitle\"]\n",
    "#         fake_records.loc[:, \"pubmedabstract\"] =  data[ data.pubmedId == u].iloc[0][\"pubmedabstract\"]\n",
    "\n",
    "\n",
    "#         data_fake = data_fake.append(fake_records, ignore_index=True)\n",
    "#         if len(data_fake) > num_fake_records:\n",
    "#             break\n",
    "            \n",
    "#     return data_fake\n",
    "  \n",
    "    "
   ]
  },
  {
   "cell_type": "code",
   "execution_count": 62,
   "metadata": {},
   "outputs": [],
   "source": [
    "\n",
    "def generate_negative_entity(data, enity_annotations_file):\n",
    "    from dataformatters.gnormplusPubtatorReader import GnormplusPubtatorReader\n",
    "    from datatransformer.gnormplusNegativeSamplesAugmentor import GnormplusNegativeSamplesAugmentor\n",
    "    from datatransformer.ncbiGeneUniprotLocalDbMapper import NcbiGeneUniprotLocalDbMapper\n",
    "\n",
    "    import os\n",
    "    \n",
    " \n",
    "    localdb = human_idmapping_dat\n",
    "    with open(localdb, \"r\") as dbhandle:\n",
    "        mapper = NcbiGeneUniprotLocalDbMapper(dbhandle, \"GeneID\") \n",
    "            \n",
    "        #Read gnormplus identified entities\n",
    "        reader = GnormplusPubtatorReader()\n",
    "        with open(enity_annotations_file,\"r\") as handle:\n",
    "            annotations_json = list(reader(handle))\n",
    "\n",
    "        negative_samples_generator = GnormplusNegativeSamplesAugmentor(annotations_json, mapper)\n",
    "        result = negative_samples_generator.transform(data)\n",
    "        \n",
    "        \n",
    "\n",
    "        return result"
   ]
  },
  {
   "cell_type": "code",
   "execution_count": 63,
   "metadata": {},
   "outputs": [],
   "source": [
    "\n",
    "def generate_negative_interaction(data):\n",
    "\n",
    "    from datatransformer.interactionTypeNegativeSamplesAugmentor import InteractionTypeNegativeSamplesAugmentor\n",
    "\n",
    "    import os\n",
    "    \n",
    "    negative_samples_generator = InteractionTypeNegativeSamplesAugmentor()\n",
    "    result = negative_samples_generator.transform(data)\n",
    "\n",
    "\n",
    "    return result"
   ]
  },
  {
   "cell_type": "code",
   "execution_count": 64,
   "metadata": {},
   "outputs": [],
   "source": [
    "def generate_negative_missing_participant(data):\n",
    "\n",
    "\n",
    "    import os\n",
    "    \n",
    "    data['isValid'] = data['isValid'].mask( (data['bothParticpantsExist'] == False) & (data['isValid'] == True) , False)\n",
    "\n",
    "\n",
    "    return data"
   ]
  },
  {
   "cell_type": "code",
   "execution_count": 65,
   "metadata": {
    "scrolled": true
   },
   "outputs": [],
   "source": [
    "def plot_negative_distribution(train,val, test, heading, fig, ax  ):\n",
    "    import matplotlib.pyplot as plt\n",
    "    import matplotlib.ticker as mtick\n",
    "    fig.suptitle(heading)\n",
    "    #fig, ax = plt.subplots( 7,1, figsize=(45,30))\n",
    "    c_ax= ax[0]\n",
    "    c_ax.set_facecolor('xkcd:white')\n",
    "    c_ax.yaxis.set_major_formatter(mtick.PercentFormatter())\n",
    "    c_ax.set_title( \"Training PPI {}\".format( train.shape[0]))\n",
    "    c_ax.yaxis.set_major_locator(plt.FixedLocator(range(0,100, 10)))\n",
    "    train.groupby(['interactionType', 'isValid']).size().groupby( level=0).apply(lambda x:\n",
    "                                                     100 * x / float(x.sum())).unstack().plot.bar(ax=c_ax, hatch = '/')\n",
    "\n",
    "\n",
    "\n",
    "    c_ax= ax[1]\n",
    "    c_ax.set_facecolor('xkcd:white')\n",
    "    c_ax.yaxis.set_major_formatter(mtick.PercentFormatter())\n",
    "    c_ax.set_title( \"Validation PPI {}\".format(val.shape[0]))\n",
    "    c_ax.yaxis.set_major_locator(plt.FixedLocator(range(0,100, 10)))\n",
    "    val.groupby(['interactionType', 'isValid']).size().groupby( level=0).apply(lambda x:\n",
    "                                                     100 * x / float(x.sum())).unstack().plot.bar(ax=c_ax, hatch = '/')\n",
    "\n",
    "\n",
    "\n",
    "    c_ax= ax[2]\n",
    "    c_ax.set_facecolor('xkcd:white')\n",
    "    c_ax.yaxis.set_major_formatter(mtick.PercentFormatter())\n",
    "    c_ax.set_title( \"Test PPI {}\".format(test.shape[0]))\n",
    "    c_ax.yaxis.set_major_locator(plt.FixedLocator(range(0,100, 10)))\n",
    "    test.groupby(['interactionType', 'isValid']).size().groupby( level=0).apply(lambda x:\n",
    "                                                     100 * x / float(x.sum())).unstack().plot.bar(ax=c_ax, hatch = '/')\n",
    "\n",
    "\n",
    "\n",
    "   "
   ]
  },
  {
   "cell_type": "markdown",
   "metadata": {},
   "source": [
    "#### Step1: Add negative entity pairs"
   ]
  },
  {
   "cell_type": "code",
   "execution_count": 66,
   "metadata": {
    "scrolled": true
   },
   "outputs": [],
   "source": [
    "\n",
    "train = generate_negative_entity(train, annotations_file)\n",
    "test = generate_negative_entity(test,  annotations_file)\n",
    "val = generate_negative_entity(val, annotations_file)\n",
    "\n"
   ]
  },
  {
   "cell_type": "code",
   "execution_count": 67,
   "metadata": {},
   "outputs": [
    {
     "data": {
      "image/png": "[encoded data removed]",
      "text/plain": [
       "<Figure size 1080x360 with 3 Axes>"
      ]
     },
     "metadata": {
      "needs_background": "light"
     },
     "output_type": "display_data"
    }
   ],
   "source": [
    "fig, ax = plt.subplots( 1,3, figsize=(15,5))\n",
    "\n",
    "plt.style.use('grayscale')\n",
    "\n",
    "plot_negative_distribution(train,  val, test, \"Distribution after adding negative entity pairs\",fig, ax)\n",
    "plt.savefig(\"EntityNegativeSample.eps\",bbox_inches = \"tight\")\n",
    "plt.savefig(\"EntityNegativeSample.svg\",bbox_inches = \"tight\")\n",
    "plt.show()"
   ]
  },
  {
   "cell_type": "code",
   "execution_count": 68,
   "metadata": {},
   "outputs": [
    {
     "data": {
      "image/png": "[encoded data removed]",
      "text/plain": [
       "<Figure size 1080x1440 with 3 Axes>"
      ]
     },
     "metadata": {},
     "output_type": "display_data"
    }
   ],
   "source": [
    "import matplotlib.pyplot as plt\n",
    "fig, ax = plt.subplots(1,3, figsize=(15,20))\n",
    "\n",
    "ax[0].set_title('Train class distribution: negative entities only')\n",
    "train.isValid.value_counts().plot.pie(autopct='%.2f',  ax=ax[0])\n",
    "\n",
    "ax[1].set_title('Validation class distribution: negative entities only')\n",
    "val.isValid.value_counts().plot.pie(autopct='%.2f',  ax=ax[1])\n",
    "\n",
    "\n",
    "ax[2].set_title('Test class distribution: negative entities only')\n",
    "test.isValid.value_counts().plot.pie(autopct='%.2f',  ax=ax[2])\n",
    "\n",
    "\n",
    "\n",
    "plt.savefig(\"PositiveVsNegative_EntityOnly.png\")"
   ]
  },
  {
   "cell_type": "code",
   "execution_count": 69,
   "metadata": {},
   "outputs": [],
   "source": [
    "train_file =\"train_unique_negative_entity_only.json\"\n",
    "train.to_json(train_file)\n",
    "\n",
    "test_file =\"test_unique_negative_entity_only.json\"\n",
    "test.to_json(test_file)\n",
    "\n",
    "val_file = \"val_unique_negative_entity_only.json\"\n",
    "val.to_json(val_file)\n",
    "\n"
   ]
  },
  {
   "cell_type": "code",
   "execution_count": 70,
   "metadata": {},
   "outputs": [
    {
     "name": "stdout",
     "output_type": "stream",
     "text": [
      "upload: ./train_unique_negative_entity_only.json to s3://aegovan-data/processed_dataset/train_unique_negative_entity_only.json\n",
      "upload: ./test_unique_negative_entity_only.json to s3://aegovan-data/processed_dataset/test_unique_negative_entity_only.json\n",
      "upload: ./val_unique_negative_entity_only.json to s3://aegovan-data/processed_dataset/val_unique_negative_entity_only.json\n"
     ]
    }
   ],
   "source": [
    "!aws s3 cp  $train_file $s3_results_prefix\n",
    "!aws s3 cp  $test_file $s3_results_prefix\n",
    "!aws s3 cp  $val_file $s3_results_prefix\n",
    "\n"
   ]
  },
  {
   "cell_type": "code",
   "execution_count": 71,
   "metadata": {},
   "outputs": [
    {
     "data": {
      "text/html": [
       "<div>\n",
       "<style scoped>\n",
       "    .dataframe tbody tr th:only-of-type {\n",
       "        vertical-align: middle;\n",
       "    }\n",
       "\n",
       "    .dataframe tbody tr th {\n",
       "        vertical-align: top;\n",
       "    }\n",
       "\n",
       "    .dataframe thead th {\n",
       "        text-align: right;\n",
       "    }\n",
       "</style>\n",
       "<table border=\"1\" class=\"dataframe\">\n",
       "  <thead>\n",
       "    <tr style=\"text-align: right;\">\n",
       "      <th>isValid</th>\n",
       "      <th>False</th>\n",
       "      <th>True</th>\n",
       "    </tr>\n",
       "    <tr>\n",
       "      <th>interactionType</th>\n",
       "      <th></th>\n",
       "      <th></th>\n",
       "    </tr>\n",
       "  </thead>\n",
       "  <tbody>\n",
       "    <tr>\n",
       "      <th>acetylation</th>\n",
       "      <td>79</td>\n",
       "      <td>29</td>\n",
       "    </tr>\n",
       "    <tr>\n",
       "      <th>demethylation</th>\n",
       "      <td>6</td>\n",
       "      <td>4</td>\n",
       "    </tr>\n",
       "    <tr>\n",
       "      <th>dephosphorylation</th>\n",
       "      <td>362</td>\n",
       "      <td>108</td>\n",
       "    </tr>\n",
       "    <tr>\n",
       "      <th>deubiquitination</th>\n",
       "      <td>17</td>\n",
       "      <td>12</td>\n",
       "    </tr>\n",
       "    <tr>\n",
       "      <th>methylation</th>\n",
       "      <td>72</td>\n",
       "      <td>48</td>\n",
       "    </tr>\n",
       "    <tr>\n",
       "      <th>phosphorylation</th>\n",
       "      <td>1814</td>\n",
       "      <td>629</td>\n",
       "    </tr>\n",
       "    <tr>\n",
       "      <th>ubiquitination</th>\n",
       "      <td>34</td>\n",
       "      <td>9</td>\n",
       "    </tr>\n",
       "  </tbody>\n",
       "</table>\n",
       "</div>"
      ],
      "text/plain": [
       "isValid            False  True \n",
       "interactionType                \n",
       "acetylation           79     29\n",
       "demethylation          6      4\n",
       "dephosphorylation    362    108\n",
       "deubiquitination      17     12\n",
       "methylation           72     48\n",
       "phosphorylation     1814    629\n",
       "ubiquitination        34      9"
      ]
     },
     "execution_count": 71,
     "metadata": {},
     "output_type": "execute_result"
    }
   ],
   "source": [
    "train.groupby(['interactionType', 'isValid']).size().unstack()"
   ]
  },
  {
   "cell_type": "code",
   "execution_count": 72,
   "metadata": {},
   "outputs": [
    {
     "data": {
      "text/html": [
       "<div>\n",
       "<style scoped>\n",
       "    .dataframe tbody tr th:only-of-type {\n",
       "        vertical-align: middle;\n",
       "    }\n",
       "\n",
       "    .dataframe tbody tr th {\n",
       "        vertical-align: top;\n",
       "    }\n",
       "\n",
       "    .dataframe thead th {\n",
       "        text-align: right;\n",
       "    }\n",
       "</style>\n",
       "<table border=\"1\" class=\"dataframe\">\n",
       "  <thead>\n",
       "    <tr style=\"text-align: right;\">\n",
       "      <th>isValid</th>\n",
       "      <th>False</th>\n",
       "      <th>True</th>\n",
       "    </tr>\n",
       "    <tr>\n",
       "      <th>interactionType</th>\n",
       "      <th></th>\n",
       "      <th></th>\n",
       "    </tr>\n",
       "  </thead>\n",
       "  <tbody>\n",
       "    <tr>\n",
       "      <th>acetylation</th>\n",
       "      <td>14.0</td>\n",
       "      <td>4.0</td>\n",
       "    </tr>\n",
       "    <tr>\n",
       "      <th>dephosphorylation</th>\n",
       "      <td>32.0</td>\n",
       "      <td>11.0</td>\n",
       "    </tr>\n",
       "    <tr>\n",
       "      <th>deubiquitination</th>\n",
       "      <td>10.0</td>\n",
       "      <td>1.0</td>\n",
       "    </tr>\n",
       "    <tr>\n",
       "      <th>methylation</th>\n",
       "      <td>3.0</td>\n",
       "      <td>9.0</td>\n",
       "    </tr>\n",
       "    <tr>\n",
       "      <th>phosphorylation</th>\n",
       "      <td>257.0</td>\n",
       "      <td>79.0</td>\n",
       "    </tr>\n",
       "    <tr>\n",
       "      <th>ubiquitination</th>\n",
       "      <td>NaN</td>\n",
       "      <td>1.0</td>\n",
       "    </tr>\n",
       "  </tbody>\n",
       "</table>\n",
       "</div>"
      ],
      "text/plain": [
       "isValid            False  True \n",
       "interactionType                \n",
       "acetylation         14.0    4.0\n",
       "dephosphorylation   32.0   11.0\n",
       "deubiquitination    10.0    1.0\n",
       "methylation          3.0    9.0\n",
       "phosphorylation    257.0   79.0\n",
       "ubiquitination       NaN    1.0"
      ]
     },
     "execution_count": 72,
     "metadata": {},
     "output_type": "execute_result"
    }
   ],
   "source": [
    "val.groupby(['interactionType', 'isValid']).size().unstack()"
   ]
  },
  {
   "cell_type": "code",
   "execution_count": 73,
   "metadata": {},
   "outputs": [
    {
     "data": {
      "text/html": [
       "<div>\n",
       "<style scoped>\n",
       "    .dataframe tbody tr th:only-of-type {\n",
       "        vertical-align: middle;\n",
       "    }\n",
       "\n",
       "    .dataframe tbody tr th {\n",
       "        vertical-align: top;\n",
       "    }\n",
       "\n",
       "    .dataframe thead th {\n",
       "        text-align: right;\n",
       "    }\n",
       "</style>\n",
       "<table border=\"1\" class=\"dataframe\">\n",
       "  <thead>\n",
       "    <tr style=\"text-align: right;\">\n",
       "      <th>isValid</th>\n",
       "      <th>False</th>\n",
       "      <th>True</th>\n",
       "    </tr>\n",
       "    <tr>\n",
       "      <th>interactionType</th>\n",
       "      <th></th>\n",
       "      <th></th>\n",
       "    </tr>\n",
       "  </thead>\n",
       "  <tbody>\n",
       "    <tr>\n",
       "      <th>acetylation</th>\n",
       "      <td>27</td>\n",
       "      <td>7</td>\n",
       "    </tr>\n",
       "    <tr>\n",
       "      <th>demethylation</th>\n",
       "      <td>10</td>\n",
       "      <td>2</td>\n",
       "    </tr>\n",
       "    <tr>\n",
       "      <th>dephosphorylation</th>\n",
       "      <td>101</td>\n",
       "      <td>20</td>\n",
       "    </tr>\n",
       "    <tr>\n",
       "      <th>deubiquitination</th>\n",
       "      <td>12</td>\n",
       "      <td>2</td>\n",
       "    </tr>\n",
       "    <tr>\n",
       "      <th>methylation</th>\n",
       "      <td>16</td>\n",
       "      <td>7</td>\n",
       "    </tr>\n",
       "    <tr>\n",
       "      <th>phosphorylation</th>\n",
       "      <td>497</td>\n",
       "      <td>165</td>\n",
       "    </tr>\n",
       "    <tr>\n",
       "      <th>ubiquitination</th>\n",
       "      <td>25</td>\n",
       "      <td>3</td>\n",
       "    </tr>\n",
       "  </tbody>\n",
       "</table>\n",
       "</div>"
      ],
      "text/plain": [
       "isValid            False  True \n",
       "interactionType                \n",
       "acetylation           27      7\n",
       "demethylation         10      2\n",
       "dephosphorylation    101     20\n",
       "deubiquitination      12      2\n",
       "methylation           16      7\n",
       "phosphorylation      497    165\n",
       "ubiquitination        25      3"
      ]
     },
     "execution_count": 73,
     "metadata": {},
     "output_type": "execute_result"
    }
   ],
   "source": [
    "test.groupby(['interactionType', 'isValid']).size().unstack()"
   ]
  },
  {
   "cell_type": "code",
   "execution_count": null,
   "metadata": {},
   "outputs": [],
   "source": []
  },
  {
   "cell_type": "code",
   "execution_count": 74,
   "metadata": {},
   "outputs": [],
   "source": [
    "feature_cols = [\"pubmedId\",\"pubmedabstract\", \"normalised_abstract\", \"participant1Id\", \"participant2Id\", \"interactionType\", \"isValid\"]\n",
    "derive_class_func = lambda r: r[\"interactionType\"] if r[\"isValid\"] else \"other\"\n"
   ]
  },
  {
   "cell_type": "code",
   "execution_count": 75,
   "metadata": {},
   "outputs": [
    {
     "name": "stderr",
     "output_type": "stream",
     "text": [
      "/Users/aeg/miniconda/envs/kegg_env/lib/python3.7/site-packages/ipykernel_launcher.py:2: SettingWithCopyWarning: \n",
      "A value is trying to be set on a copy of a slice from a DataFrame.\n",
      "Try using .loc[row_indexer,col_indexer] = value instead\n",
      "\n",
      "See the caveats in the documentation: http://pandas.pydata.org/pandas-docs/stable/indexing.html#indexing-view-versus-copy\n",
      "  \n",
      "/Users/aeg/miniconda/envs/kegg_env/lib/python3.7/site-packages/ipykernel_launcher.py:5: SettingWithCopyWarning: \n",
      "A value is trying to be set on a copy of a slice from a DataFrame.\n",
      "Try using .loc[row_indexer,col_indexer] = value instead\n",
      "\n",
      "See the caveats in the documentation: http://pandas.pydata.org/pandas-docs/stable/indexing.html#indexing-view-versus-copy\n",
      "  \"\"\"\n",
      "/Users/aeg/miniconda/envs/kegg_env/lib/python3.7/site-packages/ipykernel_launcher.py:8: SettingWithCopyWarning: \n",
      "A value is trying to be set on a copy of a slice from a DataFrame.\n",
      "Try using .loc[row_indexer,col_indexer] = value instead\n",
      "\n",
      "See the caveats in the documentation: http://pandas.pydata.org/pandas-docs/stable/indexing.html#indexing-view-versus-copy\n",
      "  \n"
     ]
    }
   ],
   "source": [
    "\n",
    "train_multiclass = train[ feature_cols]\n",
    "train_multiclass[\"class\"] = train.apply( derive_class_func, axis=1)\n",
    "\n",
    "test_multiclass =  test[ feature_cols]\n",
    "test_multiclass[\"class\"] = test.apply( derive_class_func, axis=1)\n",
    "\n",
    "val_multiclass =  val[ feature_cols]\n",
    "val_multiclass[\"class\"] = val.apply( derive_class_func, axis=1)"
   ]
  },
  {
   "cell_type": "code",
   "execution_count": 76,
   "metadata": {},
   "outputs": [],
   "source": [
    "feature_cols = [\"pubmedId\",\"pubmedabstract\", \"normalised_abstract\", \"participant1Id\", \"participant2Id\", \"class\"]\n",
    "\n",
    "\n",
    "train_multiclass = train_multiclass[ feature_cols]\n",
    "test_multiclass = test_multiclass[ feature_cols]\n",
    "val_multiclass = val_multiclass[ feature_cols]\n",
    "\n",
    "\n"
   ]
  },
  {
   "cell_type": "code",
   "execution_count": 77,
   "metadata": {},
   "outputs": [
    {
     "data": {
      "text/plain": [
       "other                2384\n",
       "phosphorylation       629\n",
       "dephosphorylation     108\n",
       "methylation            48\n",
       "acetylation            29\n",
       "deubiquitination       12\n",
       "ubiquitination          9\n",
       "demethylation           4\n",
       "Name: class, dtype: int64"
      ]
     },
     "execution_count": 77,
     "metadata": {},
     "output_type": "execute_result"
    }
   ],
   "source": [
    "train_multiclass[\"class\"].value_counts()"
   ]
  },
  {
   "cell_type": "code",
   "execution_count": 78,
   "metadata": {},
   "outputs": [
    {
     "data": {
      "text/plain": [
       "other                688\n",
       "phosphorylation      165\n",
       "dephosphorylation     20\n",
       "methylation            7\n",
       "acetylation            7\n",
       "ubiquitination         3\n",
       "demethylation          2\n",
       "deubiquitination       2\n",
       "Name: class, dtype: int64"
      ]
     },
     "execution_count": 78,
     "metadata": {},
     "output_type": "execute_result"
    }
   ],
   "source": [
    "test_multiclass[\"class\"].value_counts()"
   ]
  },
  {
   "cell_type": "code",
   "execution_count": 79,
   "metadata": {},
   "outputs": [
    {
     "data": {
      "text/plain": [
       "other                316\n",
       "phosphorylation       79\n",
       "dephosphorylation     11\n",
       "methylation            9\n",
       "acetylation            4\n",
       "ubiquitination         1\n",
       "deubiquitination       1\n",
       "Name: class, dtype: int64"
      ]
     },
     "execution_count": 79,
     "metadata": {},
     "output_type": "execute_result"
    }
   ],
   "source": [
    "val_multiclass[\"class\"].value_counts()"
   ]
  },
  {
   "cell_type": "code",
   "execution_count": 80,
   "metadata": {},
   "outputs": [],
   "source": [
    "train_multi_file=\"train_multiclass.json\"\n",
    "train_multiclass.to_json(train_multi_file)\n",
    "\n",
    "test_multi_file=\"test_multiclass.json\"\n",
    "test_multiclass.to_json(test_multi_file)\n",
    "\n",
    "val_multi_file=\"val_multiclass.json\"\n",
    "val_multiclass.to_json(val_multi_file)"
   ]
  },
  {
   "cell_type": "code",
   "execution_count": 81,
   "metadata": {},
   "outputs": [
    {
     "name": "stdout",
     "output_type": "stream",
     "text": [
      "upload: ./val_multiclass.json to s3://aegovan-data/processed_dataset/val_multiclass.json\n",
      "upload: ./test_multiclass.json to s3://aegovan-data/processed_dataset/test_multiclass.json\n",
      "upload: ./train_multiclass.json to s3://aegovan-data/processed_dataset/train_multiclass.json\n"
     ]
    }
   ],
   "source": [
    "!aws s3 cp  $val_multi_file $s3_results_prefix\n",
    "!aws s3 cp  $test_multi_file $s3_results_prefix\n",
    "!aws s3 cp  $train_multi_file $s3_results_prefix"
   ]
  },
  {
   "cell_type": "code",
   "execution_count": 82,
   "metadata": {},
   "outputs": [],
   "source": [
    "train_multiclass.sample(n=50).to_json(\"sample_train_multiclass.json\")"
   ]
  },
  {
   "cell_type": "markdown",
   "metadata": {},
   "source": [
    "#### Step 2: Add negative interaction types"
   ]
  },
  {
   "cell_type": "code",
   "execution_count": 83,
   "metadata": {},
   "outputs": [],
   "source": [
    "\n",
    "# train = generate_negative_interaction(train)\n",
    "# test = generate_negative_interaction(test)\n",
    "# val = generate_negative_interaction(val)\n"
   ]
  },
  {
   "cell_type": "code",
   "execution_count": 84,
   "metadata": {},
   "outputs": [
    {
     "data": {
      "image/png": "[encoded data removed]",
      "text/plain": [
       "<Figure size 1080x360 with 3 Axes>"
      ]
     },
     "metadata": {},
     "output_type": "display_data"
    }
   ],
   "source": [
    "\n",
    "fig, ax = plt.subplots( 1,3, figsize=(15,5))\n",
    "\n",
    "plot_negative_distribution(train,  val, test, \"Distribution after adding negative entities and interaction types\",fig, ax)\n",
    "plt.savefig(\"EntityInteractionNegativeSample.png\",bbox_inches = \"tight\")\n",
    "plt.savefig(\"EntityInteractionNegativeSample.svg\",bbox_inches = \"tight\")\n",
    "plt.show()"
   ]
  },
  {
   "cell_type": "code",
   "execution_count": 85,
   "metadata": {},
   "outputs": [
    {
     "data": {
      "image/png": "[encoded data removed]",
      "text/plain": [
       "<Figure size 1080x1440 with 3 Axes>"
      ]
     },
     "metadata": {},
     "output_type": "display_data"
    }
   ],
   "source": [
    "import matplotlib.pyplot as plt\n",
    "fig, ax = plt.subplots(1,3, figsize=(15,20))\n",
    "\n",
    "ax[0].set_title('Train class distribution')\n",
    "train.isValid.value_counts().plot.pie(autopct='%.2f',  ax=ax[0])\n",
    "\n",
    "ax[1].set_title('Validation class distribution')\n",
    "val.isValid.value_counts().plot.pie(autopct='%.2f',  ax=ax[1])\n",
    "\n",
    "\n",
    "ax[2].set_title('Test class distribution')\n",
    "test.isValid.value_counts().plot.pie(autopct='%.2f',  ax=ax[2])\n",
    "\n",
    "\n",
    "\n",
    "plt.savefig(\"Interaction.png\")"
   ]
  },
  {
   "cell_type": "code",
   "execution_count": 86,
   "metadata": {},
   "outputs": [
    {
     "data": {
      "text/html": [
       "<div>\n",
       "<style scoped>\n",
       "    .dataframe tbody tr th:only-of-type {\n",
       "        vertical-align: middle;\n",
       "    }\n",
       "\n",
       "    .dataframe tbody tr th {\n",
       "        vertical-align: top;\n",
       "    }\n",
       "\n",
       "    .dataframe thead th {\n",
       "        text-align: right;\n",
       "    }\n",
       "</style>\n",
       "<table border=\"1\" class=\"dataframe\">\n",
       "  <thead>\n",
       "    <tr style=\"text-align: right;\">\n",
       "      <th>isValid</th>\n",
       "      <th>False</th>\n",
       "      <th>True</th>\n",
       "    </tr>\n",
       "    <tr>\n",
       "      <th>interactionType</th>\n",
       "      <th></th>\n",
       "      <th></th>\n",
       "    </tr>\n",
       "  </thead>\n",
       "  <tbody>\n",
       "    <tr>\n",
       "      <th>acetylation</th>\n",
       "      <td>79</td>\n",
       "      <td>29</td>\n",
       "    </tr>\n",
       "    <tr>\n",
       "      <th>demethylation</th>\n",
       "      <td>6</td>\n",
       "      <td>4</td>\n",
       "    </tr>\n",
       "    <tr>\n",
       "      <th>dephosphorylation</th>\n",
       "      <td>362</td>\n",
       "      <td>108</td>\n",
       "    </tr>\n",
       "    <tr>\n",
       "      <th>deubiquitination</th>\n",
       "      <td>17</td>\n",
       "      <td>12</td>\n",
       "    </tr>\n",
       "    <tr>\n",
       "      <th>methylation</th>\n",
       "      <td>72</td>\n",
       "      <td>48</td>\n",
       "    </tr>\n",
       "    <tr>\n",
       "      <th>phosphorylation</th>\n",
       "      <td>1814</td>\n",
       "      <td>629</td>\n",
       "    </tr>\n",
       "    <tr>\n",
       "      <th>ubiquitination</th>\n",
       "      <td>34</td>\n",
       "      <td>9</td>\n",
       "    </tr>\n",
       "  </tbody>\n",
       "</table>\n",
       "</div>"
      ],
      "text/plain": [
       "isValid            False  True \n",
       "interactionType                \n",
       "acetylation           79     29\n",
       "demethylation          6      4\n",
       "dephosphorylation    362    108\n",
       "deubiquitination      17     12\n",
       "methylation           72     48\n",
       "phosphorylation     1814    629\n",
       "ubiquitination        34      9"
      ]
     },
     "execution_count": 86,
     "metadata": {},
     "output_type": "execute_result"
    }
   ],
   "source": [
    "train.groupby(['interactionType', 'isValid']).size().unstack()"
   ]
  },
  {
   "cell_type": "code",
   "execution_count": 87,
   "metadata": {},
   "outputs": [
    {
     "data": {
      "text/html": [
       "<div>\n",
       "<style scoped>\n",
       "    .dataframe tbody tr th:only-of-type {\n",
       "        vertical-align: middle;\n",
       "    }\n",
       "\n",
       "    .dataframe tbody tr th {\n",
       "        vertical-align: top;\n",
       "    }\n",
       "\n",
       "    .dataframe thead th {\n",
       "        text-align: right;\n",
       "    }\n",
       "</style>\n",
       "<table border=\"1\" class=\"dataframe\">\n",
       "  <thead>\n",
       "    <tr style=\"text-align: right;\">\n",
       "      <th>isValid</th>\n",
       "      <th>False</th>\n",
       "      <th>True</th>\n",
       "    </tr>\n",
       "    <tr>\n",
       "      <th>interactionType</th>\n",
       "      <th></th>\n",
       "      <th></th>\n",
       "    </tr>\n",
       "  </thead>\n",
       "  <tbody>\n",
       "    <tr>\n",
       "      <th>acetylation</th>\n",
       "      <td>27</td>\n",
       "      <td>7</td>\n",
       "    </tr>\n",
       "    <tr>\n",
       "      <th>demethylation</th>\n",
       "      <td>10</td>\n",
       "      <td>2</td>\n",
       "    </tr>\n",
       "    <tr>\n",
       "      <th>dephosphorylation</th>\n",
       "      <td>101</td>\n",
       "      <td>20</td>\n",
       "    </tr>\n",
       "    <tr>\n",
       "      <th>deubiquitination</th>\n",
       "      <td>12</td>\n",
       "      <td>2</td>\n",
       "    </tr>\n",
       "    <tr>\n",
       "      <th>methylation</th>\n",
       "      <td>16</td>\n",
       "      <td>7</td>\n",
       "    </tr>\n",
       "    <tr>\n",
       "      <th>phosphorylation</th>\n",
       "      <td>497</td>\n",
       "      <td>165</td>\n",
       "    </tr>\n",
       "    <tr>\n",
       "      <th>ubiquitination</th>\n",
       "      <td>25</td>\n",
       "      <td>3</td>\n",
       "    </tr>\n",
       "  </tbody>\n",
       "</table>\n",
       "</div>"
      ],
      "text/plain": [
       "isValid            False  True \n",
       "interactionType                \n",
       "acetylation           27      7\n",
       "demethylation         10      2\n",
       "dephosphorylation    101     20\n",
       "deubiquitination      12      2\n",
       "methylation           16      7\n",
       "phosphorylation      497    165\n",
       "ubiquitination        25      3"
      ]
     },
     "execution_count": 87,
     "metadata": {},
     "output_type": "execute_result"
    }
   ],
   "source": [
    "test.groupby(['interactionType', 'isValid']).size().unstack()"
   ]
  },
  {
   "cell_type": "code",
   "execution_count": 88,
   "metadata": {},
   "outputs": [
    {
     "data": {
      "text/html": [
       "<div>\n",
       "<style scoped>\n",
       "    .dataframe tbody tr th:only-of-type {\n",
       "        vertical-align: middle;\n",
       "    }\n",
       "\n",
       "    .dataframe tbody tr th {\n",
       "        vertical-align: top;\n",
       "    }\n",
       "\n",
       "    .dataframe thead th {\n",
       "        text-align: right;\n",
       "    }\n",
       "</style>\n",
       "<table border=\"1\" class=\"dataframe\">\n",
       "  <thead>\n",
       "    <tr style=\"text-align: right;\">\n",
       "      <th>isValid</th>\n",
       "      <th>False</th>\n",
       "      <th>True</th>\n",
       "    </tr>\n",
       "    <tr>\n",
       "      <th>interactionType</th>\n",
       "      <th></th>\n",
       "      <th></th>\n",
       "    </tr>\n",
       "  </thead>\n",
       "  <tbody>\n",
       "    <tr>\n",
       "      <th>acetylation</th>\n",
       "      <td>14.0</td>\n",
       "      <td>4.0</td>\n",
       "    </tr>\n",
       "    <tr>\n",
       "      <th>dephosphorylation</th>\n",
       "      <td>32.0</td>\n",
       "      <td>11.0</td>\n",
       "    </tr>\n",
       "    <tr>\n",
       "      <th>deubiquitination</th>\n",
       "      <td>10.0</td>\n",
       "      <td>1.0</td>\n",
       "    </tr>\n",
       "    <tr>\n",
       "      <th>methylation</th>\n",
       "      <td>3.0</td>\n",
       "      <td>9.0</td>\n",
       "    </tr>\n",
       "    <tr>\n",
       "      <th>phosphorylation</th>\n",
       "      <td>257.0</td>\n",
       "      <td>79.0</td>\n",
       "    </tr>\n",
       "    <tr>\n",
       "      <th>ubiquitination</th>\n",
       "      <td>NaN</td>\n",
       "      <td>1.0</td>\n",
       "    </tr>\n",
       "  </tbody>\n",
       "</table>\n",
       "</div>"
      ],
      "text/plain": [
       "isValid            False  True \n",
       "interactionType                \n",
       "acetylation         14.0    4.0\n",
       "dephosphorylation   32.0   11.0\n",
       "deubiquitination    10.0    1.0\n",
       "methylation          3.0    9.0\n",
       "phosphorylation    257.0   79.0\n",
       "ubiquitination       NaN    1.0"
      ]
     },
     "execution_count": 88,
     "metadata": {},
     "output_type": "execute_result"
    }
   ],
   "source": [
    "val.groupby(['interactionType', 'isValid']).size().unstack()"
   ]
  },
  {
   "cell_type": "code",
   "execution_count": 89,
   "metadata": {},
   "outputs": [
    {
     "data": {
      "text/html": [
       "<div>\n",
       "<style scoped>\n",
       "    .dataframe tbody tr th:only-of-type {\n",
       "        vertical-align: middle;\n",
       "    }\n",
       "\n",
       "    .dataframe tbody tr th {\n",
       "        vertical-align: top;\n",
       "    }\n",
       "\n",
       "    .dataframe thead th {\n",
       "        text-align: right;\n",
       "    }\n",
       "</style>\n",
       "<table border=\"1\" class=\"dataframe\">\n",
       "  <thead>\n",
       "    <tr style=\"text-align: right;\">\n",
       "      <th>isValid</th>\n",
       "      <th>False</th>\n",
       "      <th>True</th>\n",
       "    </tr>\n",
       "    <tr>\n",
       "      <th>interactionType</th>\n",
       "      <th></th>\n",
       "      <th></th>\n",
       "    </tr>\n",
       "  </thead>\n",
       "  <tbody>\n",
       "    <tr>\n",
       "      <th>acetylation</th>\n",
       "      <td>27</td>\n",
       "      <td>7</td>\n",
       "    </tr>\n",
       "    <tr>\n",
       "      <th>demethylation</th>\n",
       "      <td>10</td>\n",
       "      <td>2</td>\n",
       "    </tr>\n",
       "    <tr>\n",
       "      <th>dephosphorylation</th>\n",
       "      <td>101</td>\n",
       "      <td>20</td>\n",
       "    </tr>\n",
       "    <tr>\n",
       "      <th>deubiquitination</th>\n",
       "      <td>12</td>\n",
       "      <td>2</td>\n",
       "    </tr>\n",
       "    <tr>\n",
       "      <th>methylation</th>\n",
       "      <td>16</td>\n",
       "      <td>7</td>\n",
       "    </tr>\n",
       "    <tr>\n",
       "      <th>phosphorylation</th>\n",
       "      <td>497</td>\n",
       "      <td>165</td>\n",
       "    </tr>\n",
       "    <tr>\n",
       "      <th>ubiquitination</th>\n",
       "      <td>25</td>\n",
       "      <td>3</td>\n",
       "    </tr>\n",
       "  </tbody>\n",
       "</table>\n",
       "</div>"
      ],
      "text/plain": [
       "isValid            False  True \n",
       "interactionType                \n",
       "acetylation           27      7\n",
       "demethylation         10      2\n",
       "dephosphorylation    101     20\n",
       "deubiquitination      12      2\n",
       "methylation           16      7\n",
       "phosphorylation      497    165\n",
       "ubiquitination        25      3"
      ]
     },
     "execution_count": 89,
     "metadata": {},
     "output_type": "execute_result"
    }
   ],
   "source": [
    "test.groupby(['interactionType', 'isValid']).size().unstack()"
   ]
  },
  {
   "cell_type": "code",
   "execution_count": 90,
   "metadata": {},
   "outputs": [
    {
     "data": {
      "text/html": [
       "<div>\n",
       "<style scoped>\n",
       "    .dataframe tbody tr th:only-of-type {\n",
       "        vertical-align: middle;\n",
       "    }\n",
       "\n",
       "    .dataframe tbody tr th {\n",
       "        vertical-align: top;\n",
       "    }\n",
       "\n",
       "    .dataframe thead th {\n",
       "        text-align: right;\n",
       "    }\n",
       "</style>\n",
       "<table border=\"1\" class=\"dataframe\">\n",
       "  <thead>\n",
       "    <tr style=\"text-align: right;\">\n",
       "      <th>isValid</th>\n",
       "      <th>False</th>\n",
       "      <th>True</th>\n",
       "    </tr>\n",
       "    <tr>\n",
       "      <th>interactionType</th>\n",
       "      <th></th>\n",
       "      <th></th>\n",
       "    </tr>\n",
       "  </thead>\n",
       "  <tbody>\n",
       "    <tr>\n",
       "      <th>acetylation</th>\n",
       "      <td>14.0</td>\n",
       "      <td>4.0</td>\n",
       "    </tr>\n",
       "    <tr>\n",
       "      <th>dephosphorylation</th>\n",
       "      <td>32.0</td>\n",
       "      <td>11.0</td>\n",
       "    </tr>\n",
       "    <tr>\n",
       "      <th>deubiquitination</th>\n",
       "      <td>10.0</td>\n",
       "      <td>1.0</td>\n",
       "    </tr>\n",
       "    <tr>\n",
       "      <th>methylation</th>\n",
       "      <td>3.0</td>\n",
       "      <td>9.0</td>\n",
       "    </tr>\n",
       "    <tr>\n",
       "      <th>phosphorylation</th>\n",
       "      <td>257.0</td>\n",
       "      <td>79.0</td>\n",
       "    </tr>\n",
       "    <tr>\n",
       "      <th>ubiquitination</th>\n",
       "      <td>NaN</td>\n",
       "      <td>1.0</td>\n",
       "    </tr>\n",
       "  </tbody>\n",
       "</table>\n",
       "</div>"
      ],
      "text/plain": [
       "isValid            False  True \n",
       "interactionType                \n",
       "acetylation         14.0    4.0\n",
       "dephosphorylation   32.0   11.0\n",
       "deubiquitination    10.0    1.0\n",
       "methylation          3.0    9.0\n",
       "phosphorylation    257.0   79.0\n",
       "ubiquitination       NaN    1.0"
      ]
     },
     "execution_count": 90,
     "metadata": {},
     "output_type": "execute_result"
    }
   ],
   "source": [
    "val.groupby(['interactionType', 'isValid']).size().unstack()"
   ]
  },
  {
   "cell_type": "code",
   "execution_count": 91,
   "metadata": {},
   "outputs": [
    {
     "data": {
      "image/png": "[encoded data removed]",
      "text/plain": [
       "<Figure size 1080x360 with 3 Axes>"
      ]
     },
     "metadata": {},
     "output_type": "display_data"
    }
   ],
   "source": [
    "import matplotlib.pyplot as plt\n",
    "fig, ax = plt.subplots(1,3, figsize=(15,5))\n",
    "\n",
    "ax[0].set_title('Train class distribution')\n",
    "train.isValid.value_counts().plot.bar( ax=ax[0])\n",
    "\n",
    "ax[1].set_title('Validation class distribution')\n",
    "val.isValid.value_counts().plot.bar( ax=ax[1])\n",
    "\n",
    "\n",
    "ax[2].set_title('Test class distribution')\n",
    "test.isValid.value_counts().plot.bar( ax=ax[2])\n",
    "\n",
    "\n",
    "\n",
    "plt.savefig(\"Interaction.png\")"
   ]
  },
  {
   "cell_type": "code",
   "execution_count": 92,
   "metadata": {},
   "outputs": [],
   "source": [
    "train.to_json(\"train_unique_pub_v6_max_neg.json\")\n",
    "test.to_json(\"test_unique_pub_v6_max_neg.json\")\n",
    "val.to_json(\"val_unique_pub_v6_max_neg.json\")"
   ]
  },
  {
   "cell_type": "code",
   "execution_count": 93,
   "metadata": {},
   "outputs": [],
   "source": [
    "train.sample(n=20).to_json(\"sample_train.json\")"
   ]
  },
  {
   "cell_type": "code",
   "execution_count": 94,
   "metadata": {},
   "outputs": [
    {
     "data": {
      "text/html": [
       "<div>\n",
       "<style scoped>\n",
       "    .dataframe tbody tr th:only-of-type {\n",
       "        vertical-align: middle;\n",
       "    }\n",
       "\n",
       "    .dataframe tbody tr th {\n",
       "        vertical-align: top;\n",
       "    }\n",
       "\n",
       "    .dataframe thead th {\n",
       "        text-align: right;\n",
       "    }\n",
       "</style>\n",
       "<table border=\"1\" class=\"dataframe\">\n",
       "  <thead>\n",
       "    <tr style=\"text-align: right;\">\n",
       "      <th></th>\n",
       "      <th>entityMentionsCount</th>\n",
       "      <th>hasTriggerWord</th>\n",
       "      <th>interactionId</th>\n",
       "      <th>interactionType</th>\n",
       "      <th>isValid</th>\n",
       "      <th>lessThanThreshold</th>\n",
       "      <th>participant1Alias</th>\n",
       "      <th>participant1Id</th>\n",
       "      <th>participant2Alias</th>\n",
       "      <th>participant2Id</th>\n",
       "      <th>participants_count</th>\n",
       "      <th>pubmedId</th>\n",
       "      <th>pubmedTitle</th>\n",
       "      <th>pubmedabstract</th>\n",
       "      <th>normalised_abstract</th>\n",
       "      <th>particpant1Exists</th>\n",
       "      <th>particpant2Exists</th>\n",
       "      <th>bothParticpantsExist</th>\n",
       "      <th>noParticpantsExist</th>\n",
       "    </tr>\n",
       "  </thead>\n",
       "  <tbody>\n",
       "    <tr>\n",
       "      <th>3124</th>\n",
       "      <td>6</td>\n",
       "      <td>True</td>\n",
       "      <td>825990</td>\n",
       "      <td>phosphorylation</td>\n",
       "      <td>True</td>\n",
       "      <td>True</td>\n",
       "      <td>[[cd11b_human], [Cyclin-dependent kinase 11B], [CDK11B], [Cell division cycle 2-like protein kinase 1], [p58 CLK-1], [Galactosyltransferase-associated protein kinase p58/GTA], [CDK11], [CDC2L1], [Cell division protein kinase 11B], [PITSLRE serine/threonine-protein kinase CDC2L1], [PITSLREA], [PK58]]</td>\n",
       "      <td>P21127</td>\n",
       "      <td>[[eif3f_human], [Eukaryotic translation initiation factor 3 subunit F], [Eukaryotic translation initiation factor 3 subunit 5], [eIF-3-epsilon], [eIF3 p47], [EIF3F], [EIF3S5], [Deubiquitinating enzyme eIF3f]]</td>\n",
       "      <td>O00303</td>\n",
       "      <td>2</td>\n",
       "      <td>19245811</td>\n",
       "      <td>None</td>\n",
       "      <td>eIF3f is a subunit of eukaryotic initiation factor 3 (eIF3). We previously showed that eIF3f is phosphorylated by cyclin dependent kinase 11 (CDK11(p46)) which is an important effector in apoptosis. Here, we identified a second eIF3f phosphorylation site (Thr119) by CDK11(p46) during apoptosis. We demonstrated that eIF3f is directly phosphorylated by CDK11(p46) in vivo. Phosphorylation of eIF3f plays an important role in regulating its function in translation and apoptosis. Phosphorylation of eIF3f enhances the association of eIF3f with the core eIF3 subunits during apoptosis. Our data suggested that eIF3f may inhibit translation by increasing the binding to the eIF3 complex during apoptosis.</td>\n",
       "      <td>O00303 is a subunit of Q14152 (Q14152). We previously showed that O00303 is phosphorylated by P21127 (P21127(p46)) which is an important effector in apoptosis. Here, we identified a second O00303 phosphorylation site (Thr119) by P21127(p46) during apoptosis. We demonstrated that O00303 is directly phosphorylated by P21127(p46) in vivo. Phosphorylation of O00303 plays an important role in regulating its function in translation and apoptosis. Phosphorylation of O00303 enhances the association of O00303 with the core Q14152 subunits during apoptosis. Our data suggested that O00303 may inhibit translation by increasing the binding to the Q14152 complex during apoptosis.</td>\n",
       "      <td>True</td>\n",
       "      <td>True</td>\n",
       "      <td>True</td>\n",
       "      <td>False</td>\n",
       "    </tr>\n",
       "    <tr>\n",
       "      <th>2747</th>\n",
       "      <td>3</td>\n",
       "      <td>True</td>\n",
       "      <td>2668122</td>\n",
       "      <td>phosphorylation</td>\n",
       "      <td>True</td>\n",
       "      <td>True</td>\n",
       "      <td>[[plk1_human], [Serine/threonine-protein kinase PLK1], [Polo-like kinase 1], [Serine/threonine-protein kinase 13], [PLK1], [PLK]]</td>\n",
       "      <td>P53350</td>\n",
       "      <td>[[plk1_human], [Serine/threonine-protein kinase PLK1], [Polo-like kinase 1], [Serine/threonine-protein kinase 13], [PLK1], [PLK]]</td>\n",
       "      <td>P53350</td>\n",
       "      <td>1</td>\n",
       "      <td>21041660</td>\n",
       "      <td>Cell division cycle 6, a mitotic substrate of polo-like kinase 1, regulates chromosomal segregation mediated by cyclin-dependent kinase 1 and separase.</td>\n",
       "      <td>Defining the links between cell division and DNA replication is essential for understanding normal cell cycle progression and tumorigenesis. In this report we explore the effect of phosphorylation of cell division cycle 6 (Cdc6), a DNA replication initiation factor, by polo-like kinase 1 (Plk1) on the regulation of chromosomal segregation. In mitosis, the phosphorylation of Cdc6 was highly increased, in correlation with the level of Plk1, and conversely, Cdc6 is hypophosphorylated in Plk1-depleted cells, although cyclin A- and cyclin B1-dependent kinases are active. Binding between Cdc6 and Plk1 occurs through the polo-box domain of Plk1, and Cdc6 is phosphorylated by Plk1 on T37. Immunohistochemistry studies reveal that Cdc6 and Plk1 colocalize to the central spindle in anaphase. Expression of T37V mutant of Cdc6 (Cdc6-TV) induces binucleated cells and incompletely separated nuclei. Wild-type Cdc6 but not Cdc6-TV binds cyclin-dependent kinase 1 (Cdk1). Expression of wild-type Plk1 but not kinase-defective mutant promotes the binding of Cdc6 to Cdk1. Cells expressing wild-type Cdc6 display lower Cdk1 activity and higher separase activity than cells expressing Cdc6-TV. These results suggest that Plk1-mediated phosphorylation of Cdc6 promotes the interaction of Cdc6 and Cdk1, leading to the attenuation of Cdk1 activity, release of separase, and subsequent anaphase progression.</td>\n",
       "      <td>Defining the links between cell division and DNA replication is essential for understanding normal cell cycle progression and tumorigenesis. In this report we explore the effect of phosphorylation of cell division cycle 6 (Q99741), a DNA replication initiation factor, by P53350 (P53350) on the regulation of chromosomal segregation. In mitosis, the phosphorylation of Q99741 was highly increased, in correlation with the level of P53350, and conversely, Q99741 is hypophosphorylated in P53350-depleted cells, although P20248- and P14635-dependent kinases are active. Binding between Q99741 and P53350 occurs through the polo-box domain of P53350, and Q99741 is phosphorylated by P53350 on T37. Immunohistochemistry studies reveal that Q99741 and P53350 colocalize to the central spindle in anaphase. Expression of T37V mutant of Q99741 (Q99741) induces binucleated cells and incompletely separated nuclei. Wild-type Q99741 but not Q99741 binds P06493 (P06493). Expression of wild-type P53350 but not kinase-defective mutant promotes the binding of Q99741 to P06493. Cells expressing wild-type Q99741 display lower P06493 activity and higher Q14674 activity than cells expressing Q99741. These results suggest that P53350-mediated phosphorylation of Q99741 promotes the interaction of Q99741 and P06493, leading to the attenuation of P06493 activity, release of Q14674, and subsequent anaphase progression.</td>\n",
       "      <td>True</td>\n",
       "      <td>True</td>\n",
       "      <td>True</td>\n",
       "      <td>False</td>\n",
       "    </tr>\n",
       "    <tr>\n",
       "      <th>3166</th>\n",
       "      <td>3</td>\n",
       "      <td>True</td>\n",
       "      <td>1013524</td>\n",
       "      <td>phosphorylation</td>\n",
       "      <td>True</td>\n",
       "      <td>True</td>\n",
       "      <td>[[chk1_human], [Serine/threonine-protein kinase Chk1], [CHEK1], [CHK1], [CHK1 checkpoint homolog], [Checkpoint kinase-1], [Cell cycle checkpoint kinase]]</td>\n",
       "      <td>O14757</td>\n",
       "      <td>[[chk1_human], [Serine/threonine-protein kinase Chk1], [CHEK1], [CHK1], [CHK1 checkpoint homolog], [Checkpoint kinase-1], [Cell cycle checkpoint kinase]]</td>\n",
       "      <td>O14757</td>\n",
       "      <td>1</td>\n",
       "      <td>20639859</td>\n",
       "      <td>None</td>\n",
       "      <td>14-3-3 proteins control various cellular processes, including cell cycle progression and DNA damage checkpoint. At the DNA damage checkpoint, some subtypes of 14-3-3 (beta and zeta isoforms in mammalian cells and Rad24 in fission yeast) bind to Ser345-phosphorylated Chk1 and promote its nuclear retention. Here, we report that 14-3-3gamma forms a complex with Chk1 phosphorylated at Ser296, but not at ATR sites (Ser317 and Ser345). Ser296 phosphorylation is catalysed by Chk1 itself after Chk1 phosphorylation by ATR, and then ATR sites are rapidly dephosphorylated on Ser296-phosphorylated Chk1. Although Ser345 phosphorylation is observed at nuclear DNA damage foci, it occurs more diffusely in the nucleus. The replacement of endogenous Chk1 with Chk1 mutated at Ser296 to Ala induces premature mitotic entry after ultraviolet irradiation, suggesting the importance of Ser296 phosphorylation in the DNA damage response. Although Ser296 phosphorylation induces the only marginal change in Chk1 catalytic activity, 14-3-3gamma mediates the interaction between Chk1 and Cdc25A. This ternary complex formation has an essential function in Cdc25A phosphorylation and degradation to block premature mitotic entry after DNA damage.</td>\n",
       "      <td>14-3-3 proteins control various cellular processes, including cell cycle progression and DNA damage checkpoint. At the DNA damage checkpoint, some subtypes of P27348 and zeta isoforms in mammalian cells and O75943 in fission yeast) bind to Ser345-phosphorylated O14757 and promote its nuclear retention. Here, we report that P61981 forms a complex with O14757 phosphorylated at Ser296, but not at Q13535 sites (Ser317 and Ser345). Ser296 phosphorylation is catalysed by O14757 itself after O14757 phosphorylation by Q13535, and then Q13535 sites are rapidly dephosphorylated on Ser296-phosphorylated O14757. Although Ser345 phosphorylation is observed at nuclear DNA damage foci, it occurs more diffusely in the nucleus. The replacement of endogenous O14757 with O14757 mutated at Ser296 to Ala induces premature mitotic entry after ultraviolet irradiation, suggesting the importance of Ser296 phosphorylation in the DNA damage response. Although Ser296 phosphorylation induces the only marginal change in O14757 catalytic activity, P61981 mediates the interaction between O14757 and P30304. This ternary complex formation has an essential function in P30304 phosphorylation and degradation to block premature mitotic entry after DNA damage.</td>\n",
       "      <td>True</td>\n",
       "      <td>True</td>\n",
       "      <td>True</td>\n",
       "      <td>False</td>\n",
       "    </tr>\n",
       "  </tbody>\n",
       "</table>\n",
       "</div>"
      ],
      "text/plain": [
       "     entityMentionsCount hasTriggerWord interactionId  interactionType  \\\n",
       "3124                   6           True        825990  phosphorylation   \n",
       "2747                   3           True       2668122  phosphorylation   \n",
       "3166                   3           True       1013524  phosphorylation   \n",
       "\n",
       "     isValid lessThanThreshold  \\\n",
       "3124    True              True   \n",
       "2747    True              True   \n",
       "3166    True              True   \n",
       "\n",
       "                                                                                                                                                                                                                                                                                                 participant1Alias  \\\n",
       "3124  [[cd11b_human], [Cyclin-dependent kinase 11B], [CDK11B], [Cell division cycle 2-like protein kinase 1], [p58 CLK-1], [Galactosyltransferase-associated protein kinase p58/GTA], [CDK11], [CDC2L1], [Cell division protein kinase 11B], [PITSLRE serine/threonine-protein kinase CDC2L1], [PITSLREA], [PK58]]   \n",
       "2747                                                                                                                                                                             [[plk1_human], [Serine/threonine-protein kinase PLK1], [Polo-like kinase 1], [Serine/threonine-protein kinase 13], [PLK1], [PLK]]   \n",
       "3166                                                                                                                                                     [[chk1_human], [Serine/threonine-protein kinase Chk1], [CHEK1], [CHK1], [CHK1 checkpoint homolog], [Checkpoint kinase-1], [Cell cycle checkpoint kinase]]   \n",
       "\n",
       "     participant1Id  \\\n",
       "3124         P21127   \n",
       "2747         P53350   \n",
       "3166         O14757   \n",
       "\n",
       "                                                                                                                                                                                                     participant2Alias  \\\n",
       "3124  [[eif3f_human], [Eukaryotic translation initiation factor 3 subunit F], [Eukaryotic translation initiation factor 3 subunit 5], [eIF-3-epsilon], [eIF3 p47], [EIF3F], [EIF3S5], [Deubiquitinating enzyme eIF3f]]   \n",
       "2747                                                                                 [[plk1_human], [Serine/threonine-protein kinase PLK1], [Polo-like kinase 1], [Serine/threonine-protein kinase 13], [PLK1], [PLK]]   \n",
       "3166                                                         [[chk1_human], [Serine/threonine-protein kinase Chk1], [CHEK1], [CHK1], [CHK1 checkpoint homolog], [Checkpoint kinase-1], [Cell cycle checkpoint kinase]]   \n",
       "\n",
       "     participant2Id participants_count  pubmedId  \\\n",
       "3124         O00303                  2  19245811   \n",
       "2747         P53350                  1  21041660   \n",
       "3166         O14757                  1  20639859   \n",
       "\n",
       "                                                                                                                                                  pubmedTitle  \\\n",
       "3124                                                                                                                                                     None   \n",
       "2747  Cell division cycle 6, a mitotic substrate of polo-like kinase 1, regulates chromosomal segregation mediated by cyclin-dependent kinase 1 and separase.   \n",
       "3166                                                                                                                                                     None   \n",
       "\n",
       "                                                                                                                                                                                                                                                                                                                                                                                                                                                                                                                                                                                                                                                                                                                                                                                                                                                                                                                                                                                                                                                                                                                                                                                                                                                                                                                                                                                                                                             pubmedabstract  \\\n",
       "3124                                                                                                                                                                                                                                                                                                                                                                                                                                                                                                                                                                                                                                                                                                                          eIF3f is a subunit of eukaryotic initiation factor 3 (eIF3). We previously showed that eIF3f is phosphorylated by cyclin dependent kinase 11 (CDK11(p46)) which is an important effector in apoptosis. Here, we identified a second eIF3f phosphorylation site (Thr119) by CDK11(p46) during apoptosis. We demonstrated that eIF3f is directly phosphorylated by CDK11(p46) in vivo. Phosphorylation of eIF3f plays an important role in regulating its function in translation and apoptosis. Phosphorylation of eIF3f enhances the association of eIF3f with the core eIF3 subunits during apoptosis. Our data suggested that eIF3f may inhibit translation by increasing the binding to the eIF3 complex during apoptosis.   \n",
       "2747  Defining the links between cell division and DNA replication is essential for understanding normal cell cycle progression and tumorigenesis. In this report we explore the effect of phosphorylation of cell division cycle 6 (Cdc6), a DNA replication initiation factor, by polo-like kinase 1 (Plk1) on the regulation of chromosomal segregation. In mitosis, the phosphorylation of Cdc6 was highly increased, in correlation with the level of Plk1, and conversely, Cdc6 is hypophosphorylated in Plk1-depleted cells, although cyclin A- and cyclin B1-dependent kinases are active. Binding between Cdc6 and Plk1 occurs through the polo-box domain of Plk1, and Cdc6 is phosphorylated by Plk1 on T37. Immunohistochemistry studies reveal that Cdc6 and Plk1 colocalize to the central spindle in anaphase. Expression of T37V mutant of Cdc6 (Cdc6-TV) induces binucleated cells and incompletely separated nuclei. Wild-type Cdc6 but not Cdc6-TV binds cyclin-dependent kinase 1 (Cdk1). Expression of wild-type Plk1 but not kinase-defective mutant promotes the binding of Cdc6 to Cdk1. Cells expressing wild-type Cdc6 display lower Cdk1 activity and higher separase activity than cells expressing Cdc6-TV. These results suggest that Plk1-mediated phosphorylation of Cdc6 promotes the interaction of Cdc6 and Cdk1, leading to the attenuation of Cdk1 activity, release of separase, and subsequent anaphase progression.   \n",
       "3166                                                                                                                                                                          14-3-3 proteins control various cellular processes, including cell cycle progression and DNA damage checkpoint. At the DNA damage checkpoint, some subtypes of 14-3-3 (beta and zeta isoforms in mammalian cells and Rad24 in fission yeast) bind to Ser345-phosphorylated Chk1 and promote its nuclear retention. Here, we report that 14-3-3gamma forms a complex with Chk1 phosphorylated at Ser296, but not at ATR sites (Ser317 and Ser345). Ser296 phosphorylation is catalysed by Chk1 itself after Chk1 phosphorylation by ATR, and then ATR sites are rapidly dephosphorylated on Ser296-phosphorylated Chk1. Although Ser345 phosphorylation is observed at nuclear DNA damage foci, it occurs more diffusely in the nucleus. The replacement of endogenous Chk1 with Chk1 mutated at Ser296 to Ala induces premature mitotic entry after ultraviolet irradiation, suggesting the importance of Ser296 phosphorylation in the DNA damage response. Although Ser296 phosphorylation induces the only marginal change in Chk1 catalytic activity, 14-3-3gamma mediates the interaction between Chk1 and Cdc25A. This ternary complex formation has an essential function in Cdc25A phosphorylation and degradation to block premature mitotic entry after DNA damage.   \n",
       "\n",
       "                                                                                                                                                                                                                                                                                                                                                                                                                                                                                                                                                                                                                                                                                                                                                                                                                                                                                                                                                                                                                                                                                                                                                                                                                                                                                                                                                                                                                                                 normalised_abstract  \\\n",
       "3124                                                                                                                                                                                                                                                                                                                                                                                                                                                                                                                                                                                                                                                                                                                                                              O00303 is a subunit of Q14152 (Q14152). We previously showed that O00303 is phosphorylated by P21127 (P21127(p46)) which is an important effector in apoptosis. Here, we identified a second O00303 phosphorylation site (Thr119) by P21127(p46) during apoptosis. We demonstrated that O00303 is directly phosphorylated by P21127(p46) in vivo. Phosphorylation of O00303 plays an important role in regulating its function in translation and apoptosis. Phosphorylation of O00303 enhances the association of O00303 with the core Q14152 subunits during apoptosis. Our data suggested that O00303 may inhibit translation by increasing the binding to the Q14152 complex during apoptosis.   \n",
       "2747  Defining the links between cell division and DNA replication is essential for understanding normal cell cycle progression and tumorigenesis. In this report we explore the effect of phosphorylation of cell division cycle 6 (Q99741), a DNA replication initiation factor, by P53350 (P53350) on the regulation of chromosomal segregation. In mitosis, the phosphorylation of Q99741 was highly increased, in correlation with the level of P53350, and conversely, Q99741 is hypophosphorylated in P53350-depleted cells, although P20248- and P14635-dependent kinases are active. Binding between Q99741 and P53350 occurs through the polo-box domain of P53350, and Q99741 is phosphorylated by P53350 on T37. Immunohistochemistry studies reveal that Q99741 and P53350 colocalize to the central spindle in anaphase. Expression of T37V mutant of Q99741 (Q99741) induces binucleated cells and incompletely separated nuclei. Wild-type Q99741 but not Q99741 binds P06493 (P06493). Expression of wild-type P53350 but not kinase-defective mutant promotes the binding of Q99741 to P06493. Cells expressing wild-type Q99741 display lower P06493 activity and higher Q14674 activity than cells expressing Q99741. These results suggest that P53350-mediated phosphorylation of Q99741 promotes the interaction of Q99741 and P06493, leading to the attenuation of P06493 activity, release of Q14674, and subsequent anaphase progression.   \n",
       "3166                                                                                                                                                                       14-3-3 proteins control various cellular processes, including cell cycle progression and DNA damage checkpoint. At the DNA damage checkpoint, some subtypes of P27348 and zeta isoforms in mammalian cells and O75943 in fission yeast) bind to Ser345-phosphorylated O14757 and promote its nuclear retention. Here, we report that P61981 forms a complex with O14757 phosphorylated at Ser296, but not at Q13535 sites (Ser317 and Ser345). Ser296 phosphorylation is catalysed by O14757 itself after O14757 phosphorylation by Q13535, and then Q13535 sites are rapidly dephosphorylated on Ser296-phosphorylated O14757. Although Ser345 phosphorylation is observed at nuclear DNA damage foci, it occurs more diffusely in the nucleus. The replacement of endogenous O14757 with O14757 mutated at Ser296 to Ala induces premature mitotic entry after ultraviolet irradiation, suggesting the importance of Ser296 phosphorylation in the DNA damage response. Although Ser296 phosphorylation induces the only marginal change in O14757 catalytic activity, P61981 mediates the interaction between O14757 and P30304. This ternary complex formation has an essential function in P30304 phosphorylation and degradation to block premature mitotic entry after DNA damage.   \n",
       "\n",
       "     particpant1Exists particpant2Exists bothParticpantsExist  \\\n",
       "3124              True              True                 True   \n",
       "2747              True              True                 True   \n",
       "3166              True              True                 True   \n",
       "\n",
       "     noParticpantsExist  \n",
       "3124              False  \n",
       "2747              False  \n",
       "3166              False  "
      ]
     },
     "execution_count": 94,
     "metadata": {},
     "output_type": "execute_result"
    }
   ],
   "source": [
    "train.query('isValid == True').sample(n=3)"
   ]
  }
 ],
 "metadata": {
  "kernelspec": {
   "display_name": "Python 3",
   "language": "python",
   "name": "python3"
  },
  "language_info": {
   "codemirror_mode": {
    "name": "ipython",
    "version": 3
   },
   "file_extension": ".py",
   "mimetype": "text/x-python",
   "name": "python",
   "nbconvert_exporter": "python",
   "pygments_lexer": "ipython3",
   "version": "3.7.4"
  }
 },
 "nbformat": 4,
 "nbformat_minor": 1
}
