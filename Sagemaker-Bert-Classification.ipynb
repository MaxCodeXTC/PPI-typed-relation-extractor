{
 "cells": [
  {
   "cell_type": "markdown",
   "metadata": {},
   "source": [
    "### Set up"
   ]
  },
  {
   "cell_type": "markdown",
   "metadata": {},
   "source": [
    "#### 1. Set  up  accounts and role"
   ]
  },
  {
   "cell_type": "code",
   "execution_count": 1,
   "metadata": {},
   "outputs": [],
   "source": [
    "## !pip install sagemaker --upgrade"
   ]
  },
  {
   "cell_type": "code",
   "execution_count": 2,
   "metadata": {},
   "outputs": [],
   "source": [
    "import sagemaker\n",
    "import boto3\n",
    "import copy\n",
    "\n",
    "sagemaker_session = sagemaker.Session()\n",
    "account_id =  boto3.client('sts').get_caller_identity().get('Account')\n",
    "region = boto3.session.Session().region_name\n",
    "\n",
    "\n",
    "#role = sagemaker.get_execution_role()\n",
    "role=\"arn:aws:iam::{}:role/service-role/AmazonSageMaker-ExecutionRole-20190118T115449\".format(account_id)\n"
   ]
  },
  {
   "cell_type": "markdown",
   "metadata": {},
   "source": [
    "#### 2. Setup image and instance type"
   ]
  },
  {
   "cell_type": "code",
   "execution_count": 3,
   "metadata": {},
   "outputs": [],
   "source": [
    "pytorch_custom_image_name=\"ppi-extractor:gpu-1.0.0-201910130520\"\n",
    "instance_type = \"ml.p3.2xlarge\" "
   ]
  },
  {
   "cell_type": "code",
   "execution_count": 4,
   "metadata": {},
   "outputs": [],
   "source": [
    "docker_repo = \"{}.dkr.ecr.{}.amazonaws.com/{}\".format(account_id, region, pytorch_custom_image_name)"
   ]
  },
  {
   "cell_type": "markdown",
   "metadata": {},
   "source": [
    "#### 3. Configure train/ test and validation datasets"
   ]
  },
  {
   "cell_type": "code",
   "execution_count": 5,
   "metadata": {},
   "outputs": [],
   "source": [
    "commit_id= '47734237f065dd5f5f694e7084dff5e2a48de87d'"
   ]
  },
  {
   "cell_type": "code",
   "execution_count": 6,
   "metadata": {},
   "outputs": [],
   "source": [
    "bucket = \"aegovan-data\""
   ]
  },
  {
   "cell_type": "code",
   "execution_count": 7,
   "metadata": {},
   "outputs": [],
   "source": [
    "\n",
    "\n",
    "\n",
    "trainfile = \"s3://{}/processed_dataset/train_classification.json\".format(bucket)\n",
    "testfile= \"s3://{}/processed_dataset/test_classification.json\".format(bucket)\n",
    "valfile=\"s3://{}/processed_dataset/val_classification.json\".format(bucket)\n",
    "\n",
    "\n",
    "\n",
    "\n",
    "\n",
    "binary_trainfile = \"s3://{}/processed_dataset/train_binary_classification.json\".format(bucket)\n",
    "binary_testfile= \"s3://{}/processed_dataset/test_binary_classification.json\".format(bucket)\n",
    "binary_valfile=\"s3://{}/processed_dataset/val_binary_classification.json\".format(bucket)\n",
    "\n",
    "\n",
    "\n",
    "pretrained_bert=\"s3://{}/embeddings/bert/\".format(bucket)\n",
    "\n",
    "\n",
    "s3_output_path= \"s3://{}/results/\".format(bucket)\n",
    "s3_code_path= \"s3://{}/aimed_bert_code\".format(bucket)"
   ]
  },
  {
   "cell_type": "markdown",
   "metadata": {},
   "source": [
    "### Start training"
   ]
  },
  {
   "cell_type": "code",
   "execution_count": 8,
   "metadata": {},
   "outputs": [],
   "source": [
    "max_runs = 1"
   ]
  },
  {
   "cell_type": "code",
   "execution_count": 9,
   "metadata": {},
   "outputs": [],
   "source": [
    "BertNetworkFactoryhyperparameters = {\n",
    "    \"dataset\":\"InteractionDatasetFactory\",\n",
    "    \"network\" :\"RelationExtractorBioBertFactory\",\n",
    "    \"trainfile\":trainfile.split(\"/\")[-1],\n",
    "    \"valfile\":valfile.split(\"/\")[-1],\n",
    "    \"testfile\":testfile.split(\"/\")[-1],\n",
    "    \"batchsize\": \"8\",\n",
    "    \"accumulation_steps\": 8,\n",
    "    \"epochs\" : \"1000\",   \n",
    "    \"log-level\" : \"INFO\",\n",
    "    \"learningrate\":.00001,\n",
    "    \"git_commit_id\" : commit_id,\n",
    "    \"earlystoppingpatience\":20,\n",
    "\n",
    "\n",
    "}\n",
    "\n",
    "simple_inputs = {\n",
    "    \"train\" : trainfile,\n",
    "    \"val\" :valfile,\n",
    "    \"test\" : testfile,\n",
    "    \"PRETRAINED_BIOBERT\" : pretrained_bert\n",
    "}\n",
    "\n",
    "inputs_simple_hp ={\n",
    "    \"inputs\":simple_inputs,\n",
    "    \"hp\":BertNetworkFactoryhyperparameters\n",
    "}"
   ]
  },
  {
   "cell_type": "code",
   "execution_count": 10,
   "metadata": {},
   "outputs": [],
   "source": [
    "mini_BertNetworkFactoryhyperparameters = copy.deepcopy(BertNetworkFactoryhyperparameters)\n",
    "\n",
    "mini_BertNetworkFactoryhyperparameters[\"network\"] =\"RelationExtractorMiniBioBertFactory\"\n",
    "mini_BertNetworkFactoryhyperparameters[\"num_layers\"] = \"5\"\n",
    "\n",
    "inputs_mini_simple_hp ={\n",
    "    \"inputs\":simple_inputs,\n",
    "    \"hp\":mini_BertNetworkFactoryhyperparameters\n",
    "}"
   ]
  },
  {
   "cell_type": "code",
   "execution_count": 11,
   "metadata": {},
   "outputs": [],
   "source": [
    "binary_BertNetworkFactoryhyperparameters = copy.deepcopy(BertNetworkFactoryhyperparameters)\n",
    "\n",
    "binary_BertNetworkFactoryhyperparameters[\"trainfile\"] = binary_trainfile.split(\"/\")[-1]\n",
    "binary_BertNetworkFactoryhyperparameters[\"valfile\"] = binary_valfile.split(\"/\")[-1]\n",
    "binary_BertNetworkFactoryhyperparameters[\"testfile\"] = binary_testfile.split(\"/\")[-1]\n",
    "binary_BertNetworkFactoryhyperparameters[\"dataset\"] = \"InteractionBinaryDatasetFactory\"\n",
    "\n",
    "binary_inputs = {\n",
    "    \"train\" : binary_trainfile,\n",
    "    \"val\" :binary_valfile,\n",
    "    \"test\" : binary_testfile,\n",
    "    \"PRETRAINED_BIOBERT\" : pretrained_bert\n",
    "}\n",
    "\n",
    "inputs_binary_hp ={\n",
    "    \"inputs\":binary_inputs,\n",
    "    \"hp\":binary_BertNetworkFactoryhyperparameters\n",
    "}\n"
   ]
  },
  {
   "cell_type": "code",
   "execution_count": 12,
   "metadata": {},
   "outputs": [],
   "source": [
    "mini_binary_BertNetworkFactoryhyperparameters = copy.deepcopy(binary_BertNetworkFactoryhyperparameters)\n",
    "\n",
    "mini_binary_BertNetworkFactoryhyperparameters[\"network\"] =\"RelationExtractorMiniBioBertFactory\"\n",
    "mini_binary_BertNetworkFactoryhyperparameters[\"num_layers\"] = \"5\"\n",
    "\n",
    "inputs_mini_binary_hp ={\n",
    "    \"inputs\":binary_inputs,\n",
    "    \"hp\":mini_binary_BertNetworkFactoryhyperparameters\n",
    "}\n",
    "\n"
   ]
  },
  {
   "cell_type": "code",
   "execution_count": 13,
   "metadata": {},
   "outputs": [],
   "source": [
    "all_inputs_hp = {\n",
    "    \"simple\" :inputs_simple_hp,\n",
    "    \"minisimple\" : inputs_mini_simple_hp,\n",
    "    \"binary\" : inputs_binary_hp,\n",
    "    \"minibinary\" : inputs_mini_binary_hp\n",
    "    \n",
    "}"
   ]
  },
  {
   "cell_type": "code",
   "execution_count": 14,
   "metadata": {},
   "outputs": [],
   "source": [
    "metric_definitions = [{\"Name\": \"TrainLoss\",\n",
    "                     \"Regex\": \"###score: train_loss### (\\d*[.]?\\d*)\"}\n",
    "                    ,{\"Name\": \"ValidationLoss\",\n",
    "                     \"Regex\": \"###score: val_loss### (\\d*[.]?\\d*)\"}\n",
    "                    ,{\"Name\": \"TrainFScore\",\n",
    "                     \"Regex\": \"###score: train_fscore### (\\d*[.]?\\d*)\"}\n",
    "                   ,{\"Name\": \"ValidationFScore\",\n",
    "                     \"Regex\": \"###score: val_fscore### (\\d*[.]?\\d*)\"}\n",
    "                    ]"
   ]
  },
  {
   "cell_type": "code",
   "execution_count": 15,
   "metadata": {},
   "outputs": [
    {
     "name": "stdout",
     "output_type": "stream",
     "text": [
      "commit 47734237f065dd5f5f694e7084dff5e2a48de87d\n",
      "    Fix class name\n"
     ]
    }
   ],
   "source": [
    "!git log -1 | head -1\n",
    "!git log -1 | head -5 | tail -1"
   ]
  },
  {
   "cell_type": "code",
   "execution_count": 16,
   "metadata": {},
   "outputs": [],
   "source": [
    "job_type = \"minibinary\"\n",
    "base_name = \"i-class-bert-{}\".format(job_type)\n",
    "hyperparameters = all_inputs_hp[job_type][\"hp\"]  \n",
    "inputs = all_inputs_hp[job_type][\"inputs\"]\n"
   ]
  },
  {
   "cell_type": "code",
   "execution_count": 17,
   "metadata": {},
   "outputs": [],
   "source": [
    "git_config = {'repo': 'https://github.com/elangovana/PPI-typed-relation-extractor.git',\n",
    "              'branch': 'master',\n",
    "             'commit': hyperparameters['git_commit_id']\n",
    "             }"
   ]
  },
  {
   "cell_type": "code",
   "execution_count": 18,
   "metadata": {},
   "outputs": [
    {
     "data": {
      "text/plain": [
       "{'dataset': 'InteractionBinaryDatasetFactory',\n",
       " 'network': 'RelationExtractorMiniBioBertFactory',\n",
       " 'trainfile': 'train_binary_classification.json',\n",
       " 'valfile': 'val_binary_classification.json',\n",
       " 'testfile': 'test_binary_classification.json',\n",
       " 'batchsize': '8',\n",
       " 'accumulation_steps': 8,\n",
       " 'epochs': '1000',\n",
       " 'log-level': 'INFO',\n",
       " 'learningrate': 1e-05,\n",
       " 'git_commit_id': '47734237f065dd5f5f694e7084dff5e2a48de87d',\n",
       " 'earlystoppingpatience': 20,\n",
       " 'num_layers': '5'}"
      ]
     },
     "execution_count": 18,
     "metadata": {},
     "output_type": "execute_result"
    }
   ],
   "source": [
    "hyperparameters"
   ]
  },
  {
   "cell_type": "code",
   "execution_count": 19,
   "metadata": {},
   "outputs": [
    {
     "data": {
      "text/plain": [
       "{'train': 's3://aegovan-data/processed_dataset/train_binary_classification.json',\n",
       " 'val': 's3://aegovan-data/processed_dataset/val_binary_classification.json',\n",
       " 'test': 's3://aegovan-data/processed_dataset/test_binary_classification.json',\n",
       " 'PRETRAINED_BIOBERT': 's3://aegovan-data/embeddings/bert/'}"
      ]
     },
     "execution_count": 19,
     "metadata": {},
     "output_type": "execute_result"
    }
   ],
   "source": [
    "inputs"
   ]
  },
  {
   "cell_type": "code",
   "execution_count": 20,
   "metadata": {},
   "outputs": [],
   "source": [
    "from sagemaker.pytorch import PyTorch\n",
    "\n",
    "estimator = PyTorch(\n",
    "     #entry_point='main_train_k_fold.py',\n",
    "    entry_point='main_train_bert.py',\n",
    "                    source_dir = 'source/algorithms',\n",
    "                    dependencies =['source/algorithms', 'source/datasets', 'source/preprocessor', 'source/modelnetworks','source/trainpipelinesbuilders', 'source/metrics'],\n",
    "                    role=role,\n",
    "                    framework_version =\"1.0.0\",\n",
    "                    py_version='py3',\n",
    "                    git_config= git_config,\n",
    "                    image_name= docker_repo,\n",
    "                    train_instance_count=1,\n",
    "                    train_instance_type=instance_type,\n",
    "                    hyperparameters =hyperparameters,\n",
    "                    output_path=s3_output_path,\n",
    "                    metric_definitions=metric_definitions,\n",
    "                    #train_use_spot_instances = True\n",
    "                    train_volume_size=30,\n",
    "                    code_location=s3_code_path,\n",
    "                    base_job_name =base_name)"
   ]
  },
  {
   "cell_type": "code",
   "execution_count": null,
   "metadata": {},
   "outputs": [],
   "source": [
    "estimator.fit(inputs, wait=False)"
   ]
  },
  {
   "cell_type": "markdown",
   "metadata": {},
   "source": [
    "# Results"
   ]
  },
  {
   "cell_type": "markdown",
   "metadata": {},
   "source": [
    "\n"
   ]
  }
 ],
 "metadata": {
  "kernelspec": {
   "display_name": "Python 3",
   "language": "python",
   "name": "python3"
  },
  "language_info": {
   "codemirror_mode": {
    "name": "ipython",
    "version": 3
   },
   "file_extension": ".py",
   "mimetype": "text/x-python",
   "name": "python",
   "nbconvert_exporter": "python",
   "pygments_lexer": "ipython3",
   "version": "3.7.4"
  }
 },
 "nbformat": 4,
 "nbformat_minor": 1
}
