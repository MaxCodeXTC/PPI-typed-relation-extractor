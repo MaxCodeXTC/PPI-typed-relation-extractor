{
 "cells": [
  {
   "cell_type": "code",
   "execution_count": 3,
   "metadata": {},
   "outputs": [],
   "source": [
    "input_file=\"datasets/biocreativemutation_train.json\""
   ]
  },
  {
   "cell_type": "code",
   "execution_count": 4,
   "metadata": {},
   "outputs": [],
   "source": [
    "train_file=\"biocreativemutation_train.json\"\n",
    "val_file=\"biocreativemutation_val.json\"\n",
    "embedding_file = \"tests/test_algorithms/sample_PubMed-and-PMC-w2v.bin.txt\"\n",
    "embedding_dim = 200"
   ]
  },
  {
   "cell_type": "code",
   "execution_count": 5,
   "metadata": {},
   "outputs": [],
   "source": [
    "import pandas as pd\n",
    "import matplotlib.pyplot as plt\n",
    "import logging"
   ]
  },
  {
   "cell_type": "code",
   "execution_count": 6,
   "metadata": {},
   "outputs": [],
   "source": [
    "logging.basicConfig(level=logging.INFO)"
   ]
  },
  {
   "cell_type": "code",
   "execution_count": 7,
   "metadata": {},
   "outputs": [],
   "source": [
    "pd.set_option('display.max_columns', None)\n",
    "pd.set_option('display.max_colwidth', 10000)\n",
    "pd.set_option('display.max_rows', 100)"
   ]
  },
  {
   "cell_type": "code",
   "execution_count": 8,
   "metadata": {},
   "outputs": [],
   "source": [
    "data = pd.read_json(input_file)"
   ]
  },
  {
   "cell_type": "code",
   "execution_count": 9,
   "metadata": {},
   "outputs": [
    {
     "data": {
      "text/html": [
       "<div>\n",
       "<style scoped>\n",
       "    .dataframe tbody tr th:only-of-type {\n",
       "        vertical-align: middle;\n",
       "    }\n",
       "\n",
       "    .dataframe tbody tr th {\n",
       "        vertical-align: top;\n",
       "    }\n",
       "\n",
       "    .dataframe thead th {\n",
       "        text-align: right;\n",
       "    }\n",
       "</style>\n",
       "<table border=\"1\" class=\"dataframe\">\n",
       "  <thead>\n",
       "    <tr style=\"text-align: right;\">\n",
       "      <th></th>\n",
       "      <th>id</th>\n",
       "      <th>docid</th>\n",
       "      <th>participant1</th>\n",
       "      <th>participant2</th>\n",
       "      <th>abstract</th>\n",
       "      <th>isValid</th>\n",
       "    </tr>\n",
       "  </thead>\n",
       "  <tbody>\n",
       "    <tr>\n",
       "      <th>0</th>\n",
       "      <td>20638386#817592#817592</td>\n",
       "      <td>20638386</td>\n",
       "      <td>817592</td>\n",
       "      <td>817592</td>\n",
       "      <td>Crystal structure of tubulin folding cofactor A from Arabidopsis thaliana and its beta-tubulin binding characterization.. Microtubules are composed of polymerized alpha/beta-tubulin heterodimers. . Biogenesis of assembly-competent tubulin dimers is a complex multistep process that requires sequential actions of distinct molecular chaperones and cofactors. . Tubulin folding cofactor A (TFCA), which captures beta-tubulin during the folding pathway, has been identified in many organisms. . Here, we report the crystal structure of Arabidopsis thaliana 817592 (KIESEL, 817592), which forms a monomeric three-helix bundle. . The functional binding analysis demonstrated that 817592 interacts with beta-tubulin in plant. . Furthermore, mutagenesis studies indicated that the alpha-helical regions of 817592 participate in beta-tubulin binding. . Unlike the budding yeast 817592, the two loop regions of 817592 are not required for this interaction suggesting a distinct binding mechanism of 817592 to beta-tubulin in plants.</td>\n",
       "      <td>False</td>\n",
       "    </tr>\n",
       "    <tr>\n",
       "      <th>1</th>\n",
       "      <td>21775823#9821#9821</td>\n",
       "      <td>21775823</td>\n",
       "      <td>9821</td>\n",
       "      <td>9821</td>\n",
       "      <td>7157 inhibits autophagy by interacting with the human ortholog of yeast 851142, 9821/9821.. The tumor suppressor protein 7157 tonically suppresses autophagy when it is present in the cytoplasm. . This effect is phylogenetically conserved from mammals to nematodes, and human 7157 can inhibit autophagy in yeast, as we show here. . Bioinformatic investigations of the 7157 interactome in relationship to the autophagy-relevant protein network underscored the possible relevance of a direct molecular interaction between 7157 and the mammalian ortholog of the essential yeast autophagy protein 851142, namely RB1-inducible coiled-coil protein 1 (9821), also called FAK family kinase-interacting protein of 200 KDa (9821). . Mutational analyses revealed that a single point mutation in 7157 (K382R) abolished its capacity to inhibit autophagy upon transfection into 7157-deficient human colon cancer or yeast cells. . In conditions in which wild-type 7157 co-immunoprecipitated with 9821/9821, 7157 (K382R) failed to do so, underscoring the importance of the physical interaction between these proteins for the control of autophagy. . In conclusion, 7157 regulates autophagy through a direct molecular interaction with 9821/9821, a protein that is essential for the very apical step of autophagy initiation.</td>\n",
       "      <td>False</td>\n",
       "    </tr>\n",
       "    <tr>\n",
       "      <th>10</th>\n",
       "      <td>18725399#51096#51096</td>\n",
       "      <td>18725399</td>\n",
       "      <td>51096</td>\n",
       "      <td>51096</td>\n",
       "      <td>A direct interaction between the 55813 half-a-tetratricopeptide repeat domain and a specific peptide in 134430 is essential for efficient pre-rRNA processing.. The small subunit (SSU) processome is a ribosome biogenesis intermediate that assembles from its subcomplexes onto the pre-18S rRNA with yet unknown order and structure. . Here, we investigate the architecture of the UtpB subcomplex of the SSU processome, focusing on the interaction between the half-a-tetratricopeptide repeat (HAT) domain of 55813 and a specific peptide in 134430. . We present a comprehensive map of the interactions within the UtpB subcomplex and further show that the N-terminal domain of 55813 interacts with 51096 while the HAT domain interacts with 134430. . Using a panel of point and deletion mutants of 55813, we show that an intact HAT domain is essential for efficient pre-rRNA processing and cell growth. . Further investigation of the 55813-134430 interaction using both genetic and biophysical methods shows that the HAT domain binds a specific peptide ligand in 134430, the first example of a HAT domain peptide ligand, with a dissociation constant of 10 muM.</td>\n",
       "      <td>False</td>\n",
       "    </tr>\n",
       "    <tr>\n",
       "      <th>100</th>\n",
       "      <td>19372599#7439#7439</td>\n",
       "      <td>19372599</td>\n",
       "      <td>7439</td>\n",
       "      <td>7439</td>\n",
       "      <td>Human disease-causing mutations disrupt an N-C-terminal interaction and channel function of 7439.. Mutations in the human 7439 (7439) chloride channel cause Best vitelliform macular dystrophy. . Although mutations in its transmembrane domains were found to alter biophysical properties of the channel, the mechanism for disease-causing mutations in its N and C termini remains elusive. . We hypothesized that these mutations lead to channel dysfunction through disruption of an N-C-terminal interaction. . Here, we present data demonstrating that 7439 N and C termini indeed interact both in vivo and in vitro. . In addition, using a spectrum-based fluorescence resonance energy transfer method, we showed that functional 7439 channels in the plasma membrane were multimers. . Disease-causing mutations in the N terminus (R19C, R25C, and K30C) and the C terminus (G299E, D301N, and D312N) caused channel dysfunction and disruption of the N-C interaction. . Consistent with the functional and biochemical results, mutants D301N and D312N clearly reduced fluorescence resonance energy transfer signal, indicating that the N-C interaction was indeed perturbed. . These results suggest that 7439 functions as a multimer in the plasma membrane, and disruption of the N-C interaction by mutations leads to 7439 channel dysfunction.</td>\n",
       "      <td>True</td>\n",
       "    </tr>\n",
       "    <tr>\n",
       "      <th>1000</th>\n",
       "      <td>17666011#828668#828668</td>\n",
       "      <td>17666011</td>\n",
       "      <td>828668</td>\n",
       "      <td>828668</td>\n",
       "      <td>Identification and characterization of two closely related histone H4 arginine 3 methyltransferases in Arabidopsis thaliana.. Arginine methylation of histone H3 and H4 plays important roles in transcriptional regulation in eukaryotes such as yeasts, fruitflies, nematode worms, fish and mammals; however, less is known in plants. . In the present paper, we report the identification and characterization of two Arabidopsis thaliana protein arginine N-methyltransferases, At3276a and 829072, which exhibit high homology with human 3276. . Both At3276a and 829072 methylated histone H4, H2A, and myelin basic protein in vitro. . Site-directed mutagenesis of the third arginine (R3) on the N-terminus of histone H4 to lysine (H4R3N) completely abolished the methylation of histone H4. . When fused to GFP (green fluorescent protein), both methyltransferases localized to the cytoplasm as well as to the nucleus. . Consistent with their subcellular distribution, GST (glutathione transferase) pull-down assays revealed an interaction between the two methyltransferases, suggesting that both proteins may act together in a functional unit. . In addition, we demonstrated that 828668 (Arabidopsis thaliana fibrillarin 2), an RNA methyltransferase, is a potential substrate for At3276a and 829072, and, furthermore, uncovered a direct interaction between the protein methyltransferase and the RNA methyltransferase. . Taken together, our findings implicate At3276a and 829072 as H4-R3 protein arginine N-methyltransferases in Arabidopsis and may be involved in diverse biological processes inside and outside the nucleus.</td>\n",
       "      <td>False</td>\n",
       "    </tr>\n",
       "    <tr>\n",
       "      <th>1001</th>\n",
       "      <td>17666011#828668#816486</td>\n",
       "      <td>17666011</td>\n",
       "      <td>828668</td>\n",
       "      <td>816486</td>\n",
       "      <td>Identification and characterization of two closely related histone H4 arginine 3 methyltransferases in Arabidopsis thaliana.. Arginine methylation of histone H3 and H4 plays important roles in transcriptional regulation in eukaryotes such as yeasts, fruitflies, nematode worms, fish and mammals; however, less is known in plants. . In the present paper, we report the identification and characterization of two Arabidopsis thaliana protein arginine N-methyltransferases, At3276a and 829072, which exhibit high homology with human 3276. . Both At3276a and 829072 methylated histone H4, H2A, and myelin basic protein in vitro. . Site-directed mutagenesis of the third arginine (R3) on the N-terminus of histone H4 to lysine (H4R3N) completely abolished the methylation of histone H4. . When fused to GFP (green fluorescent protein), both methyltransferases localized to the cytoplasm as well as to the nucleus. . Consistent with their subcellular distribution, GST (glutathione transferase) pull-down assays revealed an interaction between the two methyltransferases, suggesting that both proteins may act together in a functional unit. . In addition, we demonstrated that 828668 (Arabidopsis thaliana fibrillarin 2), an RNA methyltransferase, is a potential substrate for At3276a and 829072, and, furthermore, uncovered a direct interaction between the protein methyltransferase and the RNA methyltransferase. . Taken together, our findings implicate At3276a and 829072 as H4-R3 protein arginine N-methyltransferases in Arabidopsis and may be involved in diverse biological processes inside and outside the nucleus.</td>\n",
       "      <td>False</td>\n",
       "    </tr>\n",
       "    <tr>\n",
       "      <th>1002</th>\n",
       "      <td>17666011#816486#816486</td>\n",
       "      <td>17666011</td>\n",
       "      <td>816486</td>\n",
       "      <td>816486</td>\n",
       "      <td>Identification and characterization of two closely related histone H4 arginine 3 methyltransferases in Arabidopsis thaliana.. Arginine methylation of histone H3 and H4 plays important roles in transcriptional regulation in eukaryotes such as yeasts, fruitflies, nematode worms, fish and mammals; however, less is known in plants. . In the present paper, we report the identification and characterization of two Arabidopsis thaliana protein arginine N-methyltransferases, At3276a and 829072, which exhibit high homology with human 3276. . Both At3276a and 829072 methylated histone H4, H2A, and myelin basic protein in vitro. . Site-directed mutagenesis of the third arginine (R3) on the N-terminus of histone H4 to lysine (H4R3N) completely abolished the methylation of histone H4. . When fused to GFP (green fluorescent protein), both methyltransferases localized to the cytoplasm as well as to the nucleus. . Consistent with their subcellular distribution, GST (glutathione transferase) pull-down assays revealed an interaction between the two methyltransferases, suggesting that both proteins may act together in a functional unit. . In addition, we demonstrated that 828668 (Arabidopsis thaliana fibrillarin 2), an RNA methyltransferase, is a potential substrate for At3276a and 829072, and, furthermore, uncovered a direct interaction between the protein methyltransferase and the RNA methyltransferase. . Taken together, our findings implicate At3276a and 829072 as H4-R3 protein arginine N-methyltransferases in Arabidopsis and may be involved in diverse biological processes inside and outside the nucleus.</td>\n",
       "      <td>False</td>\n",
       "    </tr>\n",
       "    <tr>\n",
       "      <th>1003</th>\n",
       "      <td>17641689#5914#5914</td>\n",
       "      <td>17641689</td>\n",
       "      <td>5914</td>\n",
       "      <td>5914</td>\n",
       "      <td>81857 is distinct from 5469/5469 in cooperating with 1387 for retinoid receptor activation.. We isolated 81857, which associates with retinoic acid (RA)-bound 5914 (5914) through the C-terminal nuclear hormone receptor (NR) box/LxxLL motif, and increases 5914/6256-mediated transcription. . When tethered to a promoter, 81857 showed intrinsic transcriptional activity in its PTOV domain, which is likely accomplished by direct association with 1387. . Reporter assays using dominant negatives of 81857 demonstrated the importance of the N-terminal Mediator-binding and C-terminal domains in 1387 and 5914/6256 binding, which affect 81857 activity. . Downregulation of 81857 specifically reduced 5914 but not thyroid hormone receptor (TR) activity. . Stimulation of 5914 by 81857 was correlated with enhanced RA cytotoxicity in vivo. . Chromatin immunoprecipitation (ChIP) assays revealed the RA-dependent recruitment of 81857 to the 5914beta2 promoter. . Recruitment of 1387 and 5469 was diminished by the overexpression of a 81857 NR box deletion mutant, and by treatment with 81857 siRNA. . Time-course ChIP assays indicated that 1387, together with 5914 and 81857, is recruited early, whereas 5469 is recruited later to the promoter. . Our data suggest that 81857, in cooperation with 1387 and Mediators through its distinct domains, imposes a selective advantage on 5914/6256 activation.</td>\n",
       "      <td>False</td>\n",
       "    </tr>\n",
       "    <tr>\n",
       "      <th>1004</th>\n",
       "      <td>17641689#5914#6256</td>\n",
       "      <td>17641689</td>\n",
       "      <td>5914</td>\n",
       "      <td>6256</td>\n",
       "      <td>81857 is distinct from 5469/5469 in cooperating with 1387 for retinoid receptor activation.. We isolated 81857, which associates with retinoic acid (RA)-bound 5914 (5914) through the C-terminal nuclear hormone receptor (NR) box/LxxLL motif, and increases 5914/6256-mediated transcription. . When tethered to a promoter, 81857 showed intrinsic transcriptional activity in its PTOV domain, which is likely accomplished by direct association with 1387. . Reporter assays using dominant negatives of 81857 demonstrated the importance of the N-terminal Mediator-binding and C-terminal domains in 1387 and 5914/6256 binding, which affect 81857 activity. . Downregulation of 81857 specifically reduced 5914 but not thyroid hormone receptor (TR) activity. . Stimulation of 5914 by 81857 was correlated with enhanced RA cytotoxicity in vivo. . Chromatin immunoprecipitation (ChIP) assays revealed the RA-dependent recruitment of 81857 to the 5914beta2 promoter. . Recruitment of 1387 and 5469 was diminished by the overexpression of a 81857 NR box deletion mutant, and by treatment with 81857 siRNA. . Time-course ChIP assays indicated that 1387, together with 5914 and 81857, is recruited early, whereas 5469 is recruited later to the promoter. . Our data suggest that 81857, in cooperation with 1387 and Mediators through its distinct domains, imposes a selective advantage on 5914/6256 activation.</td>\n",
       "      <td>False</td>\n",
       "    </tr>\n",
       "    <tr>\n",
       "      <th>1005</th>\n",
       "      <td>17641689#5914#1387</td>\n",
       "      <td>17641689</td>\n",
       "      <td>5914</td>\n",
       "      <td>1387</td>\n",
       "      <td>81857 is distinct from 5469/5469 in cooperating with 1387 for retinoid receptor activation.. We isolated 81857, which associates with retinoic acid (RA)-bound 5914 (5914) through the C-terminal nuclear hormone receptor (NR) box/LxxLL motif, and increases 5914/6256-mediated transcription. . When tethered to a promoter, 81857 showed intrinsic transcriptional activity in its PTOV domain, which is likely accomplished by direct association with 1387. . Reporter assays using dominant negatives of 81857 demonstrated the importance of the N-terminal Mediator-binding and C-terminal domains in 1387 and 5914/6256 binding, which affect 81857 activity. . Downregulation of 81857 specifically reduced 5914 but not thyroid hormone receptor (TR) activity. . Stimulation of 5914 by 81857 was correlated with enhanced RA cytotoxicity in vivo. . Chromatin immunoprecipitation (ChIP) assays revealed the RA-dependent recruitment of 81857 to the 5914beta2 promoter. . Recruitment of 1387 and 5469 was diminished by the overexpression of a 81857 NR box deletion mutant, and by treatment with 81857 siRNA. . Time-course ChIP assays indicated that 1387, together with 5914 and 81857, is recruited early, whereas 5469 is recruited later to the promoter. . Our data suggest that 81857, in cooperation with 1387 and Mediators through its distinct domains, imposes a selective advantage on 5914/6256 activation.</td>\n",
       "      <td>False</td>\n",
       "    </tr>\n",
       "  </tbody>\n",
       "</table>\n",
       "</div>"
      ],
      "text/plain": [
       "                          id     docid participant1 participant2  \\\n",
       "0     20638386#817592#817592  20638386       817592       817592   \n",
       "1         21775823#9821#9821  21775823         9821         9821   \n",
       "10      18725399#51096#51096  18725399        51096        51096   \n",
       "100       19372599#7439#7439  19372599         7439         7439   \n",
       "1000  17666011#828668#828668  17666011       828668       828668   \n",
       "1001  17666011#828668#816486  17666011       828668       816486   \n",
       "1002  17666011#816486#816486  17666011       816486       816486   \n",
       "1003      17641689#5914#5914  17641689         5914         5914   \n",
       "1004      17641689#5914#6256  17641689         5914         6256   \n",
       "1005      17641689#5914#1387  17641689         5914         1387   \n",
       "\n",
       "                                                                                                                                                                                                                                                                                                                                                                                                                                                                                                                                                                                                                                                                                                                                                                                                                                                                                                                                                                                                                                                                                                                                                                                                                                                                                                                                                                                                                                                                                                                                                                                                                                                                            abstract  \\\n",
       "0                                                                                                                                                                                                                                                                                                                                                                                                                                                                                                                                                                                                                    Crystal structure of tubulin folding cofactor A from Arabidopsis thaliana and its beta-tubulin binding characterization.. Microtubules are composed of polymerized alpha/beta-tubulin heterodimers. . Biogenesis of assembly-competent tubulin dimers is a complex multistep process that requires sequential actions of distinct molecular chaperones and cofactors. . Tubulin folding cofactor A (TFCA), which captures beta-tubulin during the folding pathway, has been identified in many organisms. . Here, we report the crystal structure of Arabidopsis thaliana 817592 (KIESEL, 817592), which forms a monomeric three-helix bundle. . The functional binding analysis demonstrated that 817592 interacts with beta-tubulin in plant. . Furthermore, mutagenesis studies indicated that the alpha-helical regions of 817592 participate in beta-tubulin binding. . Unlike the budding yeast 817592, the two loop regions of 817592 are not required for this interaction suggesting a distinct binding mechanism of 817592 to beta-tubulin in plants.   \n",
       "1                                                                                                                                                                                                                                                                                                                           7157 inhibits autophagy by interacting with the human ortholog of yeast 851142, 9821/9821.. The tumor suppressor protein 7157 tonically suppresses autophagy when it is present in the cytoplasm. . This effect is phylogenetically conserved from mammals to nematodes, and human 7157 can inhibit autophagy in yeast, as we show here. . Bioinformatic investigations of the 7157 interactome in relationship to the autophagy-relevant protein network underscored the possible relevance of a direct molecular interaction between 7157 and the mammalian ortholog of the essential yeast autophagy protein 851142, namely RB1-inducible coiled-coil protein 1 (9821), also called FAK family kinase-interacting protein of 200 KDa (9821). . Mutational analyses revealed that a single point mutation in 7157 (K382R) abolished its capacity to inhibit autophagy upon transfection into 7157-deficient human colon cancer or yeast cells. . In conditions in which wild-type 7157 co-immunoprecipitated with 9821/9821, 7157 (K382R) failed to do so, underscoring the importance of the physical interaction between these proteins for the control of autophagy. . In conclusion, 7157 regulates autophagy through a direct molecular interaction with 9821/9821, a protein that is essential for the very apical step of autophagy initiation.   \n",
       "10                                                                                                                                                                                                                                                                                                                                                                                                                                                                                 A direct interaction between the 55813 half-a-tetratricopeptide repeat domain and a specific peptide in 134430 is essential for efficient pre-rRNA processing.. The small subunit (SSU) processome is a ribosome biogenesis intermediate that assembles from its subcomplexes onto the pre-18S rRNA with yet unknown order and structure. . Here, we investigate the architecture of the UtpB subcomplex of the SSU processome, focusing on the interaction between the half-a-tetratricopeptide repeat (HAT) domain of 55813 and a specific peptide in 134430. . We present a comprehensive map of the interactions within the UtpB subcomplex and further show that the N-terminal domain of 55813 interacts with 51096 while the HAT domain interacts with 134430. . Using a panel of point and deletion mutants of 55813, we show that an intact HAT domain is essential for efficient pre-rRNA processing and cell growth. . Further investigation of the 55813-134430 interaction using both genetic and biophysical methods shows that the HAT domain binds a specific peptide ligand in 134430, the first example of a HAT domain peptide ligand, with a dissociation constant of 10 muM.   \n",
       "100                                                                                                                                                                                                                                                                                                    Human disease-causing mutations disrupt an N-C-terminal interaction and channel function of 7439.. Mutations in the human 7439 (7439) chloride channel cause Best vitelliform macular dystrophy. . Although mutations in its transmembrane domains were found to alter biophysical properties of the channel, the mechanism for disease-causing mutations in its N and C termini remains elusive. . We hypothesized that these mutations lead to channel dysfunction through disruption of an N-C-terminal interaction. . Here, we present data demonstrating that 7439 N and C termini indeed interact both in vivo and in vitro. . In addition, using a spectrum-based fluorescence resonance energy transfer method, we showed that functional 7439 channels in the plasma membrane were multimers. . Disease-causing mutations in the N terminus (R19C, R25C, and K30C) and the C terminus (G299E, D301N, and D312N) caused channel dysfunction and disruption of the N-C interaction. . Consistent with the functional and biochemical results, mutants D301N and D312N clearly reduced fluorescence resonance energy transfer signal, indicating that the N-C interaction was indeed perturbed. . These results suggest that 7439 functions as a multimer in the plasma membrane, and disruption of the N-C interaction by mutations leads to 7439 channel dysfunction.   \n",
       "1000  Identification and characterization of two closely related histone H4 arginine 3 methyltransferases in Arabidopsis thaliana.. Arginine methylation of histone H3 and H4 plays important roles in transcriptional regulation in eukaryotes such as yeasts, fruitflies, nematode worms, fish and mammals; however, less is known in plants. . In the present paper, we report the identification and characterization of two Arabidopsis thaliana protein arginine N-methyltransferases, At3276a and 829072, which exhibit high homology with human 3276. . Both At3276a and 829072 methylated histone H4, H2A, and myelin basic protein in vitro. . Site-directed mutagenesis of the third arginine (R3) on the N-terminus of histone H4 to lysine (H4R3N) completely abolished the methylation of histone H4. . When fused to GFP (green fluorescent protein), both methyltransferases localized to the cytoplasm as well as to the nucleus. . Consistent with their subcellular distribution, GST (glutathione transferase) pull-down assays revealed an interaction between the two methyltransferases, suggesting that both proteins may act together in a functional unit. . In addition, we demonstrated that 828668 (Arabidopsis thaliana fibrillarin 2), an RNA methyltransferase, is a potential substrate for At3276a and 829072, and, furthermore, uncovered a direct interaction between the protein methyltransferase and the RNA methyltransferase. . Taken together, our findings implicate At3276a and 829072 as H4-R3 protein arginine N-methyltransferases in Arabidopsis and may be involved in diverse biological processes inside and outside the nucleus.   \n",
       "1001  Identification and characterization of two closely related histone H4 arginine 3 methyltransferases in Arabidopsis thaliana.. Arginine methylation of histone H3 and H4 plays important roles in transcriptional regulation in eukaryotes such as yeasts, fruitflies, nematode worms, fish and mammals; however, less is known in plants. . In the present paper, we report the identification and characterization of two Arabidopsis thaliana protein arginine N-methyltransferases, At3276a and 829072, which exhibit high homology with human 3276. . Both At3276a and 829072 methylated histone H4, H2A, and myelin basic protein in vitro. . Site-directed mutagenesis of the third arginine (R3) on the N-terminus of histone H4 to lysine (H4R3N) completely abolished the methylation of histone H4. . When fused to GFP (green fluorescent protein), both methyltransferases localized to the cytoplasm as well as to the nucleus. . Consistent with their subcellular distribution, GST (glutathione transferase) pull-down assays revealed an interaction between the two methyltransferases, suggesting that both proteins may act together in a functional unit. . In addition, we demonstrated that 828668 (Arabidopsis thaliana fibrillarin 2), an RNA methyltransferase, is a potential substrate for At3276a and 829072, and, furthermore, uncovered a direct interaction between the protein methyltransferase and the RNA methyltransferase. . Taken together, our findings implicate At3276a and 829072 as H4-R3 protein arginine N-methyltransferases in Arabidopsis and may be involved in diverse biological processes inside and outside the nucleus.   \n",
       "1002  Identification and characterization of two closely related histone H4 arginine 3 methyltransferases in Arabidopsis thaliana.. Arginine methylation of histone H3 and H4 plays important roles in transcriptional regulation in eukaryotes such as yeasts, fruitflies, nematode worms, fish and mammals; however, less is known in plants. . In the present paper, we report the identification and characterization of two Arabidopsis thaliana protein arginine N-methyltransferases, At3276a and 829072, which exhibit high homology with human 3276. . Both At3276a and 829072 methylated histone H4, H2A, and myelin basic protein in vitro. . Site-directed mutagenesis of the third arginine (R3) on the N-terminus of histone H4 to lysine (H4R3N) completely abolished the methylation of histone H4. . When fused to GFP (green fluorescent protein), both methyltransferases localized to the cytoplasm as well as to the nucleus. . Consistent with their subcellular distribution, GST (glutathione transferase) pull-down assays revealed an interaction between the two methyltransferases, suggesting that both proteins may act together in a functional unit. . In addition, we demonstrated that 828668 (Arabidopsis thaliana fibrillarin 2), an RNA methyltransferase, is a potential substrate for At3276a and 829072, and, furthermore, uncovered a direct interaction between the protein methyltransferase and the RNA methyltransferase. . Taken together, our findings implicate At3276a and 829072 as H4-R3 protein arginine N-methyltransferases in Arabidopsis and may be involved in diverse biological processes inside and outside the nucleus.   \n",
       "1003                                                                                                                                                                                                                                 81857 is distinct from 5469/5469 in cooperating with 1387 for retinoid receptor activation.. We isolated 81857, which associates with retinoic acid (RA)-bound 5914 (5914) through the C-terminal nuclear hormone receptor (NR) box/LxxLL motif, and increases 5914/6256-mediated transcription. . When tethered to a promoter, 81857 showed intrinsic transcriptional activity in its PTOV domain, which is likely accomplished by direct association with 1387. . Reporter assays using dominant negatives of 81857 demonstrated the importance of the N-terminal Mediator-binding and C-terminal domains in 1387 and 5914/6256 binding, which affect 81857 activity. . Downregulation of 81857 specifically reduced 5914 but not thyroid hormone receptor (TR) activity. . Stimulation of 5914 by 81857 was correlated with enhanced RA cytotoxicity in vivo. . Chromatin immunoprecipitation (ChIP) assays revealed the RA-dependent recruitment of 81857 to the 5914beta2 promoter. . Recruitment of 1387 and 5469 was diminished by the overexpression of a 81857 NR box deletion mutant, and by treatment with 81857 siRNA. . Time-course ChIP assays indicated that 1387, together with 5914 and 81857, is recruited early, whereas 5469 is recruited later to the promoter. . Our data suggest that 81857, in cooperation with 1387 and Mediators through its distinct domains, imposes a selective advantage on 5914/6256 activation.   \n",
       "1004                                                                                                                                                                                                                                 81857 is distinct from 5469/5469 in cooperating with 1387 for retinoid receptor activation.. We isolated 81857, which associates with retinoic acid (RA)-bound 5914 (5914) through the C-terminal nuclear hormone receptor (NR) box/LxxLL motif, and increases 5914/6256-mediated transcription. . When tethered to a promoter, 81857 showed intrinsic transcriptional activity in its PTOV domain, which is likely accomplished by direct association with 1387. . Reporter assays using dominant negatives of 81857 demonstrated the importance of the N-terminal Mediator-binding and C-terminal domains in 1387 and 5914/6256 binding, which affect 81857 activity. . Downregulation of 81857 specifically reduced 5914 but not thyroid hormone receptor (TR) activity. . Stimulation of 5914 by 81857 was correlated with enhanced RA cytotoxicity in vivo. . Chromatin immunoprecipitation (ChIP) assays revealed the RA-dependent recruitment of 81857 to the 5914beta2 promoter. . Recruitment of 1387 and 5469 was diminished by the overexpression of a 81857 NR box deletion mutant, and by treatment with 81857 siRNA. . Time-course ChIP assays indicated that 1387, together with 5914 and 81857, is recruited early, whereas 5469 is recruited later to the promoter. . Our data suggest that 81857, in cooperation with 1387 and Mediators through its distinct domains, imposes a selective advantage on 5914/6256 activation.   \n",
       "1005                                                                                                                                                                                                                                 81857 is distinct from 5469/5469 in cooperating with 1387 for retinoid receptor activation.. We isolated 81857, which associates with retinoic acid (RA)-bound 5914 (5914) through the C-terminal nuclear hormone receptor (NR) box/LxxLL motif, and increases 5914/6256-mediated transcription. . When tethered to a promoter, 81857 showed intrinsic transcriptional activity in its PTOV domain, which is likely accomplished by direct association with 1387. . Reporter assays using dominant negatives of 81857 demonstrated the importance of the N-terminal Mediator-binding and C-terminal domains in 1387 and 5914/6256 binding, which affect 81857 activity. . Downregulation of 81857 specifically reduced 5914 but not thyroid hormone receptor (TR) activity. . Stimulation of 5914 by 81857 was correlated with enhanced RA cytotoxicity in vivo. . Chromatin immunoprecipitation (ChIP) assays revealed the RA-dependent recruitment of 81857 to the 5914beta2 promoter. . Recruitment of 1387 and 5469 was diminished by the overexpression of a 81857 NR box deletion mutant, and by treatment with 81857 siRNA. . Time-course ChIP assays indicated that 1387, together with 5914 and 81857, is recruited early, whereas 5469 is recruited later to the promoter. . Our data suggest that 81857, in cooperation with 1387 and Mediators through its distinct domains, imposes a selective advantage on 5914/6256 activation.   \n",
       "\n",
       "      isValid  \n",
       "0       False  \n",
       "1       False  \n",
       "10      False  \n",
       "100      True  \n",
       "1000    False  \n",
       "1001    False  \n",
       "1002    False  \n",
       "1003    False  \n",
       "1004    False  \n",
       "1005    False  "
      ]
     },
     "execution_count": 9,
     "metadata": {},
     "output_type": "execute_result"
    }
   ],
   "source": [
    "data.head(n=10)"
   ]
  },
  {
   "cell_type": "markdown",
   "metadata": {},
   "source": [
    "## Data Exploration"
   ]
  },
  {
   "cell_type": "code",
   "execution_count": null,
   "metadata": {},
   "outputs": [],
   "source": [
    "data.shape"
   ]
  },
  {
   "cell_type": "code",
   "execution_count": null,
   "metadata": {},
   "outputs": [],
   "source": [
    "data[\"isValid\"].value_counts().plot.pie(autopct='%.2f')\n",
    "plt.title('Class Distribution')\n",
    "plt.show()\n"
   ]
  },
  {
   "cell_type": "code",
   "execution_count": null,
   "metadata": {},
   "outputs": [],
   "source": [
    "((data['participant1'] == data['participant2'])).value_counts().plot.pie(autopct='%.2f')\n",
    "plt.title('Self relation distribution ')\n",
    "plt.show()"
   ]
  },
  {
   "cell_type": "code",
   "execution_count": null,
   "metadata": {},
   "outputs": [],
   "source": [
    "((data['participant1'] == data['participant2']) &  data['isValid']).value_counts().plot.pie(autopct='%.2f')\n",
    "plt.title('Self relation - with  true labels ')\n",
    "plt.show()"
   ]
  },
  {
   "cell_type": "code",
   "execution_count": null,
   "metadata": {},
   "outputs": [],
   "source": [
    "((data['participant1'] != data['participant2']) &  data['isValid']).value_counts().plot.pie(autopct='%.2f')\n",
    "plt.title('Non Self relation - with  true labels ')\n",
    "plt.show()"
   ]
  },
  {
   "cell_type": "code",
   "execution_count": null,
   "metadata": {},
   "outputs": [],
   "source": [
    "data.query('isValid == True')[\"docid\"].value_counts().plot.hist(bins=100)\n",
    "plt.title('Number of true labels per docId')\n",
    "plt.show()"
   ]
  },
  {
   "cell_type": "code",
   "execution_count": null,
   "metadata": {},
   "outputs": [],
   "source": [
    "data.query('participant1 != participant2')[\"docid\"].value_counts().plot.hist(bins=100)\n",
    "plt.title('Number non-self-related interactions per docid')\n",
    "plt.show()"
   ]
  },
  {
   "cell_type": "code",
   "execution_count": null,
   "metadata": {},
   "outputs": [],
   "source": [
    "data[\"docid\"].value_counts().plot.hist(bins=50)\n",
    "plt.title('Number interactions per docid')\n",
    "plt.show()"
   ]
  },
  {
   "cell_type": "markdown",
   "metadata": {},
   "source": [
    "## Prepare for training"
   ]
  },
  {
   "cell_type": "code",
   "execution_count": null,
   "metadata": {},
   "outputs": [],
   "source": [
    "from sklearn.model_selection import train_test_split\n",
    "trainpubmed, valpubmed = train_test_split(data.docid.unique(), test_size=.2,\n",
    "                                                        random_state=777)\n",
    "\n",
    "\n",
    "\n",
    "train = data[data['docid'].isin(trainpubmed)]\n",
    "val = data[data['docid'].isin(valpubmed)]\n"
   ]
  },
  {
   "cell_type": "code",
   "execution_count": null,
   "metadata": {},
   "outputs": [],
   "source": [
    "train.to_json(train_file)\n",
    "val.to_json(val_file)"
   ]
  },
  {
   "cell_type": "markdown",
   "metadata": {},
   "source": [
    "## Train"
   ]
  },
  {
   "cell_type": "code",
   "execution_count": null,
   "metadata": {},
   "outputs": [],
   "source": [
    "from algorithms.main_train_biocreative import run"
   ]
  },
  {
   "cell_type": "code",
   "execution_count": null,
   "metadata": {},
   "outputs": [],
   "source": [
    "model = run('Linear', train_file, val_file, embedding_file, embedding_dim, \".\",epochs=20 )"
   ]
  }
 ],
 "metadata": {
  "kernelspec": {
   "display_name": "Python 3",
   "language": "python",
   "name": "python3"
  },
  "language_info": {
   "codemirror_mode": {
    "name": "ipython",
    "version": 3
   },
   "file_extension": ".py",
   "mimetype": "text/x-python",
   "name": "python",
   "nbconvert_exporter": "python",
   "pygments_lexer": "ipython3",
   "version": "3.6.4"
  }
 },
 "nbformat": 4,
 "nbformat_minor": 1
}
