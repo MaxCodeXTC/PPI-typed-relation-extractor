{
 "cells": [
  {
   "cell_type": "code",
   "execution_count": 2,
   "metadata": {},
   "outputs": [],
   "source": [
    "s3_file=\"s3://aegovan-data/human_output/interactions_except_phys_associ.json\"\n",
    "\n",
    "s3_dest=\"s3://aegovan-data/processed_dataset/\"\n",
    "interesting_interactions = [\"dephosphorylation\",\"ubiquitination\", \"phosphorylation\", \"acetylation\", \"deubiquitination\", \"demethylation\",\"deacetylation\"]"
   ]
  },
  {
   "cell_type": "code",
   "execution_count": 2,
   "metadata": {},
   "outputs": [],
   "source": [
    "import boto3\n",
    "\n",
    "def download_single_file(bucket_name_path, local_path):\n",
    "    index = bucket_name_path.find(\"://\")\n",
    "\n",
    "    # remove the s3:// if present\n",
    "    if index > -1:\n",
    "        bucket_name_path = bucket_name_path[index + 3:]\n",
    "\n",
    "    key_start_index = bucket_name_path.find(\"/\")\n",
    "    bucket_name = bucket_name_path\n",
    "    key = \"/\"\n",
    "    if key_start_index > -1:\n",
    "        bucket_name = bucket_name_path[0:key_start_index]\n",
    "        key = bucket_name_path[key_start_index + 1:]\n",
    "        \n",
    "    client = boto3.resource('s3')\n",
    "    client.Bucket(bucket_name).download_file(key, local_path)\n",
    "\n"
   ]
  },
  {
   "cell_type": "code",
   "execution_count": 4,
   "metadata": {},
   "outputs": [],
   "source": [
    "data_file=\"classification_raw_data.json\"\n"
   ]
  },
  {
   "cell_type": "code",
   "execution_count": 4,
   "metadata": {},
   "outputs": [],
   "source": [
    "%%time\n",
    "\n",
    "download_single_file(s3_file, data_file)"
   ]
  },
  {
   "cell_type": "code",
   "execution_count": 5,
   "metadata": {},
   "outputs": [],
   "source": [
    "import pandas as pd\n",
    "\n",
    "df=pd.read_json(data_file)"
   ]
  },
  {
   "cell_type": "code",
   "execution_count": 6,
   "metadata": {},
   "outputs": [
    {
     "data": {
      "text/html": [
       "<div>\n",
       "<style scoped>\n",
       "    .dataframe tbody tr th:only-of-type {\n",
       "        vertical-align: middle;\n",
       "    }\n",
       "\n",
       "    .dataframe tbody tr th {\n",
       "        vertical-align: top;\n",
       "    }\n",
       "\n",
       "    .dataframe thead th {\n",
       "        text-align: right;\n",
       "    }\n",
       "</style>\n",
       "<table border=\"1\" class=\"dataframe\">\n",
       "  <thead>\n",
       "    <tr style=\"text-align: right;\">\n",
       "      <th></th>\n",
       "      <th>interactionId</th>\n",
       "      <th>interactionType</th>\n",
       "      <th>isNegative</th>\n",
       "      <th>participants</th>\n",
       "      <th>pubmedId</th>\n",
       "      <th>pubmedTitle</th>\n",
       "      <th>pubmedabstract</th>\n",
       "    </tr>\n",
       "  </thead>\n",
       "  <tbody>\n",
       "    <tr>\n",
       "      <th>0</th>\n",
       "      <td>1459695</td>\n",
       "      <td>colocalization</td>\n",
       "      <td>true</td>\n",
       "      <td>[{'uniprotid': 'P29590-8', 'alias': [['p29590-...</td>\n",
       "      <td>19567472</td>\n",
       "      <td>None</td>\n",
       "      <td>Maintaining proper telomere length requires th...</td>\n",
       "    </tr>\n",
       "    <tr>\n",
       "      <th>1</th>\n",
       "      <td>1459700</td>\n",
       "      <td>colocalization</td>\n",
       "      <td>true</td>\n",
       "      <td>[{'uniprotid': 'P29590-1', 'alias': [['p29590-...</td>\n",
       "      <td>19567472</td>\n",
       "      <td>None</td>\n",
       "      <td>Maintaining proper telomere length requires th...</td>\n",
       "    </tr>\n",
       "    <tr>\n",
       "      <th>10</th>\n",
       "      <td>1197912</td>\n",
       "      <td>direct interaction</td>\n",
       "      <td>false</td>\n",
       "      <td>[{'uniprotid': 'P51617', 'alias': [['irak1_hum...</td>\n",
       "      <td>21743479</td>\n",
       "      <td>None</td>\n",
       "      <td>Toll-like receptors (TLRs) shape innate and ad...</td>\n",
       "    </tr>\n",
       "  </tbody>\n",
       "</table>\n",
       "</div>"
      ],
      "text/plain": [
       "    interactionId     interactionType isNegative  \\\n",
       "0         1459695      colocalization       true   \n",
       "1         1459700      colocalization       true   \n",
       "10        1197912  direct interaction      false   \n",
       "\n",
       "                                         participants  pubmedId pubmedTitle  \\\n",
       "0   [{'uniprotid': 'P29590-8', 'alias': [['p29590-...  19567472        None   \n",
       "1   [{'uniprotid': 'P29590-1', 'alias': [['p29590-...  19567472        None   \n",
       "10  [{'uniprotid': 'P51617', 'alias': [['irak1_hum...  21743479        None   \n",
       "\n",
       "                                       pubmedabstract  \n",
       "0   Maintaining proper telomere length requires th...  \n",
       "1   Maintaining proper telomere length requires th...  \n",
       "10  Toll-like receptors (TLRs) shape innate and ad...  "
      ]
     },
     "execution_count": 6,
     "metadata": {},
     "output_type": "execute_result"
    }
   ],
   "source": [
    "df.head(n=3)"
   ]
  },
  {
   "cell_type": "code",
   "execution_count": 7,
   "metadata": {},
   "outputs": [
    {
     "data": {
      "text/plain": [
       "(23151, 7)"
      ]
     },
     "execution_count": 7,
     "metadata": {},
     "output_type": "execute_result"
    }
   ],
   "source": [
    "df.shape"
   ]
  },
  {
   "cell_type": "code",
   "execution_count": 8,
   "metadata": {},
   "outputs": [
    {
     "data": {
      "text/plain": [
       "(5766,)"
      ]
     },
     "execution_count": 8,
     "metadata": {},
     "output_type": "execute_result"
    }
   ],
   "source": [
    "df.pubmedId.unique().shape"
   ]
  },
  {
   "cell_type": "code",
   "execution_count": 9,
   "metadata": {},
   "outputs": [
    {
     "data": {
      "text/plain": [
       "direct interaction                 17799\n",
       "colocalization                      3790\n",
       "dephosphorylation                    437\n",
       "ubiquitination                       226\n",
       "enzymatic reaction                   141\n",
       "methylation                          134\n",
       "adp ribosylation                      84\n",
       "gtpase reaction                       75\n",
       "acetylation                           70\n",
       "deacetylation                         45\n",
       "demethylation                         37\n",
       "redox reaction                        33\n",
       "disulfide bond                        33\n",
       "deubiquitination                      31\n",
       "hydroxylation                         30\n",
       "atpase reaction                       29\n",
       "physical interaction                  27\n",
       "glycosylation                         22\n",
       "putative self interaction             14\n",
       "sumoylation                           13\n",
       "rna cleavage                          11\n",
       "genetic interaction                    9\n",
       "self interaction                       9\n",
       "lipid cleavage                         7\n",
       "phosphotransfer                        7\n",
       "palmitoylation                         6\n",
       "neddylation                            6\n",
       "ampylation                             4\n",
       "deamination                            4\n",
       "transglutamination                     3\n",
       "demyristoylation                       3\n",
       "dna cleavage                           3\n",
       "phospholipase reaction                 2\n",
       "deamidation                            2\n",
       "depalmitoylation                       1\n",
       "isomerase reaction                     1\n",
       "deneddylation                          1\n",
       "dna elongation                         1\n",
       "proline isomerization  reaction        1\n",
       "Name: interactionType, dtype: int64"
      ]
     },
     "execution_count": 9,
     "metadata": {},
     "output_type": "execute_result"
    }
   ],
   "source": [
    "df.interactionType.value_counts()"
   ]
  },
  {
   "cell_type": "code",
   "execution_count": 10,
   "metadata": {},
   "outputs": [],
   "source": [
    "def normalise_interaction_type(interaction_type):\n",
    "    if interaction_type in interesting_interactions:\n",
    "        return interaction_type\n",
    "    else:\n",
    "        return \"other\""
   ]
  },
  {
   "cell_type": "markdown",
   "metadata": {},
   "source": [
    "### Clean up interactions"
   ]
  },
  {
   "cell_type": "markdown",
   "metadata": {},
   "source": [
    "#### Replace all except the key interactions with \"other\""
   ]
  },
  {
   "cell_type": "code",
   "execution_count": 11,
   "metadata": {},
   "outputs": [],
   "source": [
    "df[\"interactionType\"] = df.apply( lambda r: normalise_interaction_type(r[\"interactionType\"] ) , axis = 1)"
   ]
  },
  {
   "cell_type": "code",
   "execution_count": 12,
   "metadata": {},
   "outputs": [
    {
     "data": {
      "text/plain": [
       "other                22305\n",
       "dephosphorylation      437\n",
       "ubiquitination         226\n",
       "acetylation             70\n",
       "deacetylation           45\n",
       "demethylation           37\n",
       "deubiquitination        31\n",
       "Name: interactionType, dtype: int64"
      ]
     },
     "execution_count": 12,
     "metadata": {},
     "output_type": "execute_result"
    }
   ],
   "source": [
    "df[\"interactionType\"].value_counts()"
   ]
  },
  {
   "cell_type": "markdown",
   "metadata": {},
   "source": [
    "### Make Unique as per pubmedids"
   ]
  },
  {
   "cell_type": "code",
   "execution_count": 13,
   "metadata": {},
   "outputs": [
    {
     "data": {
      "text/plain": [
       "(5766, 7)"
      ]
     },
     "execution_count": 13,
     "metadata": {},
     "output_type": "execute_result"
    }
   ],
   "source": [
    "df_clean = df.drop_duplicates(subset=['pubmedId'])\n",
    "df_clean.shape"
   ]
  },
  {
   "cell_type": "markdown",
   "metadata": {},
   "source": [
    "### Remove if abstract cannot be found"
   ]
  },
  {
   "cell_type": "code",
   "execution_count": 21,
   "metadata": {},
   "outputs": [],
   "source": [
    "df_clean = df_clean[ df_clean.apply(lambda x: x['pubmedabstract'] is not None, axis=1) ]"
   ]
  },
  {
   "cell_type": "markdown",
   "metadata": {},
   "source": [
    "### Split Train / Test / Val "
   ]
  },
  {
   "cell_type": "code",
   "execution_count": 23,
   "metadata": {},
   "outputs": [],
   "source": [
    "from sklearn.model_selection import train_test_split\n",
    "from sklearn.model_selection import train_test_split\n",
    "\n",
    "train, val  = train_test_split(df_clean, test_size=.1, random_state=777, stratify=df_clean[\"interactionType\"])\n",
    "\n",
    "\n",
    "train, test = train_test_split(df_clean,  test_size=.2,\n",
    "                                                        random_state=777, stratify=df_clean[\"interactionType\"])"
   ]
  },
  {
   "cell_type": "code",
   "execution_count": 24,
   "metadata": {},
   "outputs": [
    {
     "data": {
      "text/plain": [
       "<Figure size 1500x500 with 3 Axes>"
      ]
     },
     "metadata": {},
     "output_type": "display_data"
    }
   ],
   "source": [
    "import matplotlib.pyplot as plt\n",
    "fix, axs = plt.subplots(1,3, figsize=(15,5))\n",
    "\n",
    "\n",
    "ax=axs[0]\n",
    "ax.set_title(\"Train\")\n",
    "ax.set_yscale('log')\n",
    "ax.xaxis.set_major_locator(plt.MaxNLocator(10, prune='lower'))\n",
    "train.interactionType.value_counts().plot.bar(ax=ax)\n",
    "\n",
    "\n",
    "\n",
    "ax=axs[1]\n",
    "ax.set_title(\"Val\")\n",
    "ax.set_yscale('log')\n",
    "ax.xaxis.set_major_locator(plt.MaxNLocator(10, prune='lower'))\n",
    "val.interactionType.value_counts().plot.bar(ax=ax)\n",
    "\n",
    "\n",
    "ax=axs[2]\n",
    "ax.set_title(\"Test\")\n",
    "ax.set_yscale('log')\n",
    "ax.xaxis.set_major_locator(plt.MaxNLocator(10, prune='lower'))\n",
    "test.interactionType.value_counts().plot.bar(ax=ax)\n",
    "\n",
    "\n",
    "\n",
    "plt.show()"
   ]
  },
  {
   "cell_type": "code",
   "execution_count": 25,
   "metadata": {},
   "outputs": [
    {
     "data": {
      "text/html": [
       "<div>\n",
       "<style scoped>\n",
       "    .dataframe tbody tr th:only-of-type {\n",
       "        vertical-align: middle;\n",
       "    }\n",
       "\n",
       "    .dataframe tbody tr th {\n",
       "        vertical-align: top;\n",
       "    }\n",
       "\n",
       "    .dataframe thead th {\n",
       "        text-align: right;\n",
       "    }\n",
       "</style>\n",
       "<table border=\"1\" class=\"dataframe\">\n",
       "  <thead>\n",
       "    <tr style=\"text-align: right;\">\n",
       "      <th></th>\n",
       "      <th>interactionId</th>\n",
       "      <th>interactionType</th>\n",
       "      <th>isNegative</th>\n",
       "      <th>participants</th>\n",
       "      <th>pubmedId</th>\n",
       "      <th>pubmedTitle</th>\n",
       "      <th>pubmedabstract</th>\n",
       "    </tr>\n",
       "  </thead>\n",
       "  <tbody>\n",
       "    <tr>\n",
       "      <th>18300</th>\n",
       "      <td>541700</td>\n",
       "      <td>other</td>\n",
       "      <td>false</td>\n",
       "      <td>[{'uniprotid': 'P46937', 'alias': [['yap1_huma...</td>\n",
       "      <td>11278422</td>\n",
       "      <td>None</td>\n",
       "      <td>To understand the role of the Yes-associated p...</td>\n",
       "    </tr>\n",
       "    <tr>\n",
       "      <th>10806</th>\n",
       "      <td>255999</td>\n",
       "      <td>other</td>\n",
       "      <td>false</td>\n",
       "      <td>[{'uniprotid': 'P03122', 'alias': [['ve2_bpv1'...</td>\n",
       "      <td>14966293</td>\n",
       "      <td>None</td>\n",
       "      <td>Using a yeast two-hybrid screen, we identified...</td>\n",
       "    </tr>\n",
       "  </tbody>\n",
       "</table>\n",
       "</div>"
      ],
      "text/plain": [
       "       interactionId interactionType isNegative  \\\n",
       "18300         541700           other      false   \n",
       "10806         255999           other      false   \n",
       "\n",
       "                                            participants  pubmedId  \\\n",
       "18300  [{'uniprotid': 'P46937', 'alias': [['yap1_huma...  11278422   \n",
       "10806  [{'uniprotid': 'P03122', 'alias': [['ve2_bpv1'...  14966293   \n",
       "\n",
       "      pubmedTitle                                     pubmedabstract  \n",
       "18300        None  To understand the role of the Yes-associated p...  \n",
       "10806        None  Using a yeast two-hybrid screen, we identified...  "
      ]
     },
     "execution_count": 25,
     "metadata": {},
     "output_type": "execute_result"
    }
   ],
   "source": [
    "train.head(n=2)"
   ]
  },
  {
   "cell_type": "code",
   "execution_count": 26,
   "metadata": {},
   "outputs": [],
   "source": [
    "train_file = \"train_classification.json\"\n",
    "train.to_json(train_file)\n",
    "\n",
    "test_file = \"test_classification.json\"\n",
    "test.to_json(test_file)\n",
    "\n",
    "val_file = \"val_classification.json\"\n",
    "val.to_json(val_file)"
   ]
  },
  {
   "cell_type": "code",
   "execution_count": 27,
   "metadata": {},
   "outputs": [],
   "source": [
    "train.sample(n=50).to_json(\"sample_classification.json\")"
   ]
  },
  {
   "cell_type": "code",
   "execution_count": null,
   "metadata": {},
   "outputs": [],
   "source": [
    "!aws s3 cp $train_file $s3_dest\n",
    "!aws s3 cp $val_file $s3_dest\n",
    "!aws s3 cp $test_file $s3_dest"
   ]
  }
 ],
 "metadata": {
  "kernelspec": {
   "display_name": "Python 3",
   "language": "python",
   "name": "python3"
  },
  "language_info": {
   "codemirror_mode": {
    "name": "ipython",
    "version": 3
   },
   "file_extension": ".py",
   "mimetype": "text/x-python",
   "name": "python",
   "nbconvert_exporter": "python",
   "pygments_lexer": "ipython3",
   "version": "3.7.4"
  }
 },
 "nbformat": 4,
 "nbformat_minor": 1
}
