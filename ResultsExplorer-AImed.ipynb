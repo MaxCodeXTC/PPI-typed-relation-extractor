{
 "cells": [
  {
   "cell_type": "code",
   "execution_count": 48,
   "metadata": {},
   "outputs": [],
   "source": [
    "#s3_data =\"s3://aegovan-data/test_unique_pub_v3_lessnegatve_predicted_linear.json\"\n",
    "data_dir = \"temp\""
   ]
  },
  {
   "cell_type": "code",
   "execution_count": 49,
   "metadata": {},
   "outputs": [
    {
     "name": "stdout",
     "output_type": "stream",
     "text": [
      "download: s3://aegovan-data/results/model_PpiAimedDataset_CnnPos_190905_2210/training_scores_epoch_Objectdump_20190906_075654_6a9ddeeb-bb15-41d3-946c-d2603bbeb04b.json to temp/training_scores_epoch_Objectdump_20190906_075654_6a9ddeeb-bb15-41d3-946c-d2603bbeb04b.json\n",
      "download: s3://aegovan-data/results/model_PpiAimedDataset_CnnPos_190905_2210/validation_scores_epoch_Objectdump_20190906_075654_3721e28f-191d-455f-86a7-d61a70174bee.json to temp/validation_scores_epoch_Objectdump_20190906_075654_3721e28f-191d-455f-86a7-d61a70174bee.json\n",
      "download: s3://aegovan-data/results/model_PpiAimedDataset_CnnPos_190905_2210/run.log to temp/run.log\n",
      "download: s3://aegovan-data/results/model_PpiAimedDataset_CnnPos_190905_2210/predicted_AIMedval.json to temp/predicted_AIMedval.json\n",
      "download: s3://aegovan-data/results/model_PpiAimedDataset_CnnPos_190905_2210/predicted_AIMedtest.json to temp/predicted_AIMedtest.json\n"
     ]
    }
   ],
   "source": [
    "!rm -rf $data_dir\n",
    "!mkdir $data_dir\n",
    "!aws s3 cp s3://aegovan-data/results/model_PpiAimedDataset_CnnPos_190905_2210 $data_dir --recursive --exclude \"*\"  --include \"*.json\" --exclude \"*vocab.json\" --include \"*.log\""
   ]
  },
  {
   "cell_type": "code",
   "execution_count": 50,
   "metadata": {},
   "outputs": [
    {
     "name": "stdout",
     "output_type": "stream",
     "text": [
      "predicted_AIMedtest.json\r\n",
      "predicted_AIMedval.json\r\n",
      "run.log\r\n",
      "training_scores_epoch_Objectdump_20190906_075654_6a9ddeeb-bb15-41d3-946c-d2603bbeb04b.json\r\n",
      "validation_scores_epoch_Objectdump_20190906_075654_3721e28f-191d-455f-86a7-d61a70174bee.json\r\n"
     ]
    }
   ],
   "source": [
    "!ls  $data_dir"
   ]
  },
  {
   "cell_type": "code",
   "execution_count": 51,
   "metadata": {},
   "outputs": [
    {
     "name": "stdout",
     "output_type": "stream",
     "text": [
      "commit fd7b7c686e1478aa9466006e9dd343df243a1421\r\n"
     ]
    }
   ],
   "source": [
    "!head -1 $data_dir/run.log "
   ]
  },
  {
   "cell_type": "code",
   "execution_count": 52,
   "metadata": {},
   "outputs": [
    {
     "name": "stdout",
     "output_type": "stream",
     "text": [
      "Date:   Fri Sep 6 08:06:51 2019 +1000\r\n",
      "\r\n",
      "    Fix typo\r\n",
      "{'dataset': 'PpiAimedDataset', 'trainjson': '/data/AIMedtrain.json', 'valjson': '/data/AIMedval.json', 'embedding': '/data/wikipedia-pubmed-and-PMC-w2v.bin.txt', 'embeddim': 200, 'outdir': '/data/model_PpiAimedDataset_CnnPos_190905_2210', 'epochs': 200, 'interaction_type': None, 'log_level': 'INFO'}\r\n",
      "2019-09-05 22:10:24,678 - __main__ - INFO - The embedding header is 5443656 200\r\n",
      "\r\n",
      "2019-09-05 22:10:24,679 - algorithms.RelationExtractorBiLstmNetwork - INFO - The text feature is index 0, the feature lengths are [250   1   1]\r\n",
      "2019-09-05 22:10:24,680 - algorithms.RelationExtractorBiLstmNetwork - INFO - Word embedding size is 200, pos embedding size is 6, totaldim is 206, hidden_size  150\r\n"
     ]
    }
   ],
   "source": [
    "!head -10 $data_dir/run.log | tail -8"
   ]
  },
  {
   "cell_type": "code",
   "execution_count": 53,
   "metadata": {},
   "outputs": [],
   "source": [
    "import pandas as pd\n",
    "pd.set_option('display.max_columns', None)\n",
    "pd.set_option('display.max_colwidth', 10000)\n",
    "pd.set_option('display.max_rows', 100)"
   ]
  },
  {
   "cell_type": "code",
   "execution_count": 54,
   "metadata": {},
   "outputs": [],
   "source": [
    "import boto3\n",
    "\n",
    "def download_single_file(bucket_name_path, local_path):\n",
    "    index = bucket_name_path.find(\"://\")\n",
    "\n",
    "    # remove the s3:// if present\n",
    "    if index > -1:\n",
    "        bucket_name_path = bucket_name_path[index + 3:]\n",
    "\n",
    "    key_start_index = bucket_name_path.find(\"/\")\n",
    "    bucket_name = bucket_name_path\n",
    "    key = \"/\"\n",
    "    if key_start_index > -1:\n",
    "        bucket_name = bucket_name_path[0:key_start_index]\n",
    "        key = bucket_name_path[key_start_index + 1:]\n",
    "        \n",
    "    client = boto3.resource('s3')\n",
    "    client.Bucket(bucket_name).download_file(key, local_path)\n",
    "\n"
   ]
  },
  {
   "cell_type": "code",
   "execution_count": 55,
   "metadata": {},
   "outputs": [],
   "source": [
    "import glob\n",
    "\n",
    "results_file = \"./{}/predicted_AIMedval.json\".format(data_dir)\n",
    "validation_fit_file = glob.glob(\"{}/validation_scores_epoch_Objectdump*.json\".format(data_dir))[0]\n",
    "train_fit_file = glob.glob(\"{}/training_scores_epoch_Objectdump*.json\".format(data_dir))[0]\n",
    "\n",
    "\n",
    "pos_label = True"
   ]
  },
  {
   "cell_type": "code",
   "execution_count": 56,
   "metadata": {},
   "outputs": [],
   "source": [
    "#download_single_file(s3_data, results_file)"
   ]
  },
  {
   "cell_type": "code",
   "execution_count": 57,
   "metadata": {},
   "outputs": [],
   "source": [
    "import pandas as pd"
   ]
  },
  {
   "cell_type": "code",
   "execution_count": 58,
   "metadata": {},
   "outputs": [],
   "source": [
    "df_results = pd.read_json(results_file)\n",
    "df_results[\"actual\"] = df_results[\"isValid\"]"
   ]
  },
  {
   "cell_type": "code",
   "execution_count": 59,
   "metadata": {},
   "outputs": [
    {
     "data": {
      "text/html": [
       "<div>\n",
       "<style scoped>\n",
       "    .dataframe tbody tr th:only-of-type {\n",
       "        vertical-align: middle;\n",
       "    }\n",
       "\n",
       "    .dataframe tbody tr th {\n",
       "        vertical-align: top;\n",
       "    }\n",
       "\n",
       "    .dataframe thead th {\n",
       "        text-align: right;\n",
       "    }\n",
       "</style>\n",
       "<table border=\"1\" class=\"dataframe\">\n",
       "  <thead>\n",
       "    <tr style=\"text-align: right;\">\n",
       "      <th></th>\n",
       "      <th>docid</th>\n",
       "      <th>isValid</th>\n",
       "      <th>line_no</th>\n",
       "      <th>participant1</th>\n",
       "      <th>participant2</th>\n",
       "      <th>passage</th>\n",
       "      <th>predicted</th>\n",
       "      <th>confidence_scores</th>\n",
       "      <th>confidence_true</th>\n",
       "      <th>confidence_false</th>\n",
       "      <th>actual</th>\n",
       "    </tr>\n",
       "  </thead>\n",
       "  <tbody>\n",
       "    <tr>\n",
       "      <th>1168</th>\n",
       "      <td>abstract_for_7538672</td>\n",
       "      <td>False</td>\n",
       "      <td>1</td>\n",
       "      <td>E1A</td>\n",
       "      <td>RIZ</td>\n",
       "      <td>TI - The retinoblastoma protein binds to RIZ , a zinc - finger protein that shares an epitope with the adenovirus E1A protein .</td>\n",
       "      <td>False</td>\n",
       "      <td>{'False': 0.8552233577, 'True': -1.1089017391}</td>\n",
       "      <td>0.329921</td>\n",
       "      <td>2.351900</td>\n",
       "      <td>False</td>\n",
       "    </tr>\n",
       "    <tr>\n",
       "      <th>1169</th>\n",
       "      <td>abstract_for_7538672</td>\n",
       "      <td>False</td>\n",
       "      <td>1</td>\n",
       "      <td>E1A</td>\n",
       "      <td>retinoblastoma</td>\n",
       "      <td>TI - The retinoblastoma protein binds to RIZ , a zinc - finger protein that shares an epitope with the adenovirus E1A protein .</td>\n",
       "      <td>False</td>\n",
       "      <td>{'False': 1.1865767241, 'True': -0.6735176444000001}</td>\n",
       "      <td>0.509912</td>\n",
       "      <td>3.275848</td>\n",
       "      <td>False</td>\n",
       "    </tr>\n",
       "    <tr>\n",
       "      <th>1170</th>\n",
       "      <td>abstract_for_7538672</td>\n",
       "      <td>True</td>\n",
       "      <td>1</td>\n",
       "      <td>RIZ</td>\n",
       "      <td>retinoblastoma</td>\n",
       "      <td>TI - The retinoblastoma protein binds to RIZ , a zinc - finger protein that shares an epitope with the adenovirus E1A protein .</td>\n",
       "      <td>False</td>\n",
       "      <td>{'False': 0.2690837681, 'True': -0.20877753200000002}</td>\n",
       "      <td>0.811576</td>\n",
       "      <td>1.308765</td>\n",
       "      <td>True</td>\n",
       "    </tr>\n",
       "  </tbody>\n",
       "</table>\n",
       "</div>"
      ],
      "text/plain": [
       "                     docid  isValid  line_no participant1    participant2  \\\n",
       "1168  abstract_for_7538672    False        1          E1A             RIZ   \n",
       "1169  abstract_for_7538672    False        1          E1A  retinoblastoma   \n",
       "1170  abstract_for_7538672     True        1          RIZ  retinoblastoma   \n",
       "\n",
       "                                                                                                                               passage  \\\n",
       "1168  TI - The retinoblastoma protein binds to RIZ , a zinc - finger protein that shares an epitope with the adenovirus E1A protein .    \n",
       "1169  TI - The retinoblastoma protein binds to RIZ , a zinc - finger protein that shares an epitope with the adenovirus E1A protein .    \n",
       "1170  TI - The retinoblastoma protein binds to RIZ , a zinc - finger protein that shares an epitope with the adenovirus E1A protein .    \n",
       "\n",
       "      predicted                                      confidence_scores  \\\n",
       "1168      False         {'False': 0.8552233577, 'True': -1.1089017391}   \n",
       "1169      False   {'False': 1.1865767241, 'True': -0.6735176444000001}   \n",
       "1170      False  {'False': 0.2690837681, 'True': -0.20877753200000002}   \n",
       "\n",
       "      confidence_true  confidence_false  actual  \n",
       "1168         0.329921          2.351900   False  \n",
       "1169         0.509912          3.275848   False  \n",
       "1170         0.811576          1.308765    True  "
      ]
     },
     "execution_count": 59,
     "metadata": {},
     "output_type": "execute_result"
    }
   ],
   "source": [
    "df_results.head(n=3)"
   ]
  },
  {
   "cell_type": "code",
   "execution_count": 60,
   "metadata": {},
   "outputs": [
    {
     "data": {
      "text/plain": [
       "Index(['docid', 'isValid', 'line_no', 'participant1', 'participant2',\n",
       "       'passage', 'predicted', 'confidence_scores', 'confidence_true',\n",
       "       'confidence_false', 'actual'],\n",
       "      dtype='object')"
      ]
     },
     "execution_count": 60,
     "metadata": {},
     "output_type": "execute_result"
    }
   ],
   "source": [
    "df_results.columns\n"
   ]
  },
  {
   "cell_type": "markdown",
   "metadata": {},
   "source": [
    "## Analyse Results"
   ]
  },
  {
   "cell_type": "code",
   "execution_count": 61,
   "metadata": {},
   "outputs": [],
   "source": [
    "import matplotlib.pyplot as plt\n",
    "plt.rcParams.update({'font.size': 14})"
   ]
  },
  {
   "cell_type": "code",
   "execution_count": 62,
   "metadata": {},
   "outputs": [],
   "source": [
    "df = df_results"
   ]
  },
  {
   "cell_type": "code",
   "execution_count": 63,
   "metadata": {},
   "outputs": [
    {
     "data": {
      "text/plain": [
       "(326, 11)"
      ]
     },
     "execution_count": 63,
     "metadata": {},
     "output_type": "execute_result"
    }
   ],
   "source": [
    "df_results.shape"
   ]
  },
  {
   "cell_type": "code",
   "execution_count": 64,
   "metadata": {},
   "outputs": [
    {
     "data": {
      "text/html": [
       "<div>\n",
       "<style scoped>\n",
       "    .dataframe tbody tr th:only-of-type {\n",
       "        vertical-align: middle;\n",
       "    }\n",
       "\n",
       "    .dataframe tbody tr th {\n",
       "        vertical-align: top;\n",
       "    }\n",
       "\n",
       "    .dataframe thead th {\n",
       "        text-align: right;\n",
       "    }\n",
       "</style>\n",
       "<table border=\"1\" class=\"dataframe\">\n",
       "  <thead>\n",
       "    <tr style=\"text-align: right;\">\n",
       "      <th></th>\n",
       "      <th>true</th>\n",
       "      <th>false</th>\n",
       "      <th>actual</th>\n",
       "      <th>predicted</th>\n",
       "      <th>confidence_scores</th>\n",
       "    </tr>\n",
       "  </thead>\n",
       "  <tbody>\n",
       "    <tr>\n",
       "      <th>1336</th>\n",
       "      <td>67.545791</td>\n",
       "      <td>0.868204</td>\n",
       "      <td>True</td>\n",
       "      <td>True</td>\n",
       "      <td>{'False': -0.1413284242, 'True': 4.212805748}</td>\n",
       "    </tr>\n",
       "    <tr>\n",
       "      <th>1994</th>\n",
       "      <td>24.153981</td>\n",
       "      <td>1.065774</td>\n",
       "      <td>True</td>\n",
       "      <td>True</td>\n",
       "      <td>{'False': 0.0637012646, 'True': 3.1844491959}</td>\n",
       "    </tr>\n",
       "    <tr>\n",
       "      <th>3221</th>\n",
       "      <td>18.730842</td>\n",
       "      <td>1.718653</td>\n",
       "      <td>False</td>\n",
       "      <td>True</td>\n",
       "      <td>{'False': 0.5415406227, 'True': 2.9301714897}</td>\n",
       "    </tr>\n",
       "  </tbody>\n",
       "</table>\n",
       "</div>"
      ],
      "text/plain": [
       "           true     false  actual  predicted  \\\n",
       "1336  67.545791  0.868204    True       True   \n",
       "1994  24.153981  1.065774    True       True   \n",
       "3221  18.730842  1.718653   False       True   \n",
       "\n",
       "                                  confidence_scores  \n",
       "1336  {'False': -0.1413284242, 'True': 4.212805748}  \n",
       "1994  {'False': 0.0637012646, 'True': 3.1844491959}  \n",
       "3221  {'False': 0.5415406227, 'True': 2.9301714897}  "
      ]
     },
     "execution_count": 64,
     "metadata": {},
     "output_type": "execute_result"
    }
   ],
   "source": [
    "import math\n",
    "\n",
    "# This is log softmax, convert to softmax prob\n",
    "df[\"true\"]  =df[\"confidence_scores\"].apply(lambda x: math.exp(x[\"True\"]))\n",
    "df[\"false\"]  =df[\"confidence_scores\"].apply(lambda x: math.exp(x[\"False\"]))\n",
    "\n",
    "df[ [\"true\", \"false\", \"actual\", \"predicted\", \"confidence_scores\"]].sort_values([\"true\"], ascending=False).head(n=3)"
   ]
  },
  {
   "cell_type": "code",
   "execution_count": 65,
   "metadata": {},
   "outputs": [
    {
     "name": "stdout",
     "output_type": "stream",
     "text": [
      "The F1 score is 0.5866666666666668 and the accuracy is 0.9049079754601227\n"
     ]
    }
   ],
   "source": [
    "from sklearn.metrics import f1_score, accuracy_score\n",
    "\n",
    "f1 = f1_score(df[\"actual\"], df[\"predicted\"], sample_weight=None)  \n",
    "accuracy = accuracy_score(df[\"actual\"], df[\"predicted\"], sample_weight=None)\n",
    "print(\"The F1 score is {} and the accuracy is {}\".format(f1, accuracy))\n",
    "\n"
   ]
  },
  {
   "cell_type": "code",
   "execution_count": 66,
   "metadata": {},
   "outputs": [
    {
     "name": "stdout",
     "output_type": "stream",
     "text": [
      "Requirement already satisfied: scikit-plot==0.3.7 in /Users/aeg/miniconda/envs/untitled2/lib/python3.6/site-packages (0.3.7)\n",
      "Requirement already satisfied: joblib>=0.10 in /Users/aeg/miniconda/envs/untitled2/lib/python3.6/site-packages (from scikit-plot==0.3.7) (0.13.2)\n",
      "Requirement already satisfied: matplotlib>=1.4.0 in /Users/aeg/miniconda/envs/untitled2/lib/python3.6/site-packages (from scikit-plot==0.3.7) (3.0.0)\n",
      "Requirement already satisfied: scipy>=0.9 in /Users/aeg/miniconda/envs/untitled2/lib/python3.6/site-packages (from scikit-plot==0.3.7) (1.1.0)\n",
      "Requirement already satisfied: scikit-learn>=0.18 in /Users/aeg/miniconda/envs/untitled2/lib/python3.6/site-packages (from scikit-plot==0.3.7) (0.21.2)\n",
      "Requirement already satisfied: python-dateutil>=2.1 in /Users/aeg/miniconda/envs/untitled2/lib/python3.6/site-packages (from matplotlib>=1.4.0->scikit-plot==0.3.7) (2.7.0)\n",
      "Requirement already satisfied: kiwisolver>=1.0.1 in /Users/aeg/miniconda/envs/untitled2/lib/python3.6/site-packages (from matplotlib>=1.4.0->scikit-plot==0.3.7) (1.0.1)\n",
      "Requirement already satisfied: pyparsing!=2.0.4,!=2.1.2,!=2.1.6,>=2.0.1 in /Users/aeg/miniconda/envs/untitled2/lib/python3.6/site-packages (from matplotlib>=1.4.0->scikit-plot==0.3.7) (2.2.0)\n",
      "Requirement already satisfied: cycler>=0.10 in /Users/aeg/miniconda/envs/untitled2/lib/python3.6/site-packages (from matplotlib>=1.4.0->scikit-plot==0.3.7) (0.10.0)\n",
      "Requirement already satisfied: numpy>=1.10.0 in /Users/aeg/miniconda/envs/untitled2/lib/python3.6/site-packages (from matplotlib>=1.4.0->scikit-plot==0.3.7) (1.14.1)\n",
      "Requirement already satisfied: six>=1.5 in /Users/aeg/miniconda/envs/untitled2/lib/python3.6/site-packages (from python-dateutil>=2.1->matplotlib>=1.4.0->scikit-plot==0.3.7) (1.11.0)\n",
      "Requirement already satisfied: setuptools in /Users/aeg/.local/lib/python3.6/site-packages (from kiwisolver>=1.0.1->matplotlib>=1.4.0->scikit-plot==0.3.7) (39.1.0)\n",
      "\u001b[31mawsebcli 3.12.4 has requirement requests<=2.9.1,>=2.6.1, but you'll have requests 2.18.4 which is incompatible.\u001b[0m\n",
      "\u001b[33mYou are using pip version 10.0.1, however version 19.2.3 is available.\n",
      "You should consider upgrading via the 'pip install --upgrade pip' command.\u001b[0m\n"
     ]
    }
   ],
   "source": [
    "!pip install scikit-plot==0.3.7"
   ]
  },
  {
   "cell_type": "code",
   "execution_count": 67,
   "metadata": {},
   "outputs": [
    {
     "data": {
      "image/png": "[encoded data removed]",
      "text/plain": [
       "<Figure size 432x288 with 2 Axes>"
      ]
     },
     "metadata": {},
     "output_type": "display_data"
    }
   ],
   "source": [
    "import matplotlib.pyplot as plt\n",
    "import scikitplot as skplt\n",
    "\n",
    "skplt.metrics.plot_confusion_matrix(df[\"actual\"], df[\"predicted\"], normalize=True )\n",
    "plt.show()"
   ]
  },
  {
   "cell_type": "code",
   "execution_count": 68,
   "metadata": {},
   "outputs": [
    {
     "data": {
      "image/png": "[encoded data removed]",
      "text/plain": [
       "<Figure size 432x288 with 2 Axes>"
      ]
     },
     "metadata": {},
     "output_type": "display_data"
    }
   ],
   "source": [
    "import matplotlib.pyplot as plt\n",
    "import scikitplot as skplt\n",
    "\n",
    "skplt.metrics.plot_confusion_matrix(df[\"actual\"], df[\"predicted\"], normalize=False )\n",
    "plt.show()"
   ]
  },
  {
   "cell_type": "code",
   "execution_count": 69,
   "metadata": {},
   "outputs": [
    {
     "data": {
      "text/plain": [
       "<matplotlib.axes._subplots.AxesSubplot at 0x1a12e89588>"
      ]
     },
     "execution_count": 69,
     "metadata": {},
     "output_type": "execute_result"
    },
    {
     "data": {
      "image/png": "[encoded data removed]",
      "text/plain": [
       "<Figure size 432x288 with 1 Axes>"
      ]
     },
     "metadata": {},
     "output_type": "display_data"
    }
   ],
   "source": [
    "import matplotlib.pyplot as plt\n",
    "import scikitplot as skplt\n",
    "\n",
    "skplt.metrics.plot_precision_recall(df[\"actual\"], df[[\"false\", \"true\"]])"
   ]
  },
  {
   "cell_type": "markdown",
   "metadata": {},
   "source": [
    "## Training / Validation epoch fit"
   ]
  },
  {
   "cell_type": "code",
   "execution_count": 70,
   "metadata": {},
   "outputs": [],
   "source": [
    "import json\n",
    "import pandas as pd\n",
    "from pandas.io.json import json_normalize\n",
    "\n",
    "def load_as_df (file):\n",
    "    with open(file, \"r\") as i:\n",
    "        data = json.loads(i.read())\n",
    "        \n",
    "    return json_normalize(data)\n",
    "    "
   ]
  },
  {
   "cell_type": "code",
   "execution_count": 71,
   "metadata": {},
   "outputs": [
    {
     "data": {
      "text/html": [
       "<div>\n",
       "<style scoped>\n",
       "    .dataframe tbody tr th:only-of-type {\n",
       "        vertical-align: middle;\n",
       "    }\n",
       "\n",
       "    .dataframe tbody tr th {\n",
       "        vertical-align: top;\n",
       "    }\n",
       "\n",
       "    .dataframe thead th {\n",
       "        text-align: right;\n",
       "    }\n",
       "</style>\n",
       "<table border=\"1\" class=\"dataframe\">\n",
       "  <thead>\n",
       "    <tr style=\"text-align: right;\">\n",
       "      <th></th>\n",
       "      <th>epoch</th>\n",
       "      <th>loss</th>\n",
       "      <th>score</th>\n",
       "    </tr>\n",
       "  </thead>\n",
       "  <tbody>\n",
       "    <tr>\n",
       "      <th>56</th>\n",
       "      <td>56</td>\n",
       "      <td>0.401755</td>\n",
       "      <td>99.433428</td>\n",
       "    </tr>\n",
       "    <tr>\n",
       "      <th>51</th>\n",
       "      <td>51</td>\n",
       "      <td>0.425493</td>\n",
       "      <td>99.294781</td>\n",
       "    </tr>\n",
       "    <tr>\n",
       "      <th>65</th>\n",
       "      <td>65</td>\n",
       "      <td>0.319586</td>\n",
       "      <td>99.292786</td>\n",
       "    </tr>\n",
       "    <tr>\n",
       "      <th>52</th>\n",
       "      <td>52</td>\n",
       "      <td>0.534617</td>\n",
       "      <td>99.152542</td>\n",
       "    </tr>\n",
       "    <tr>\n",
       "      <th>64</th>\n",
       "      <td>64</td>\n",
       "      <td>0.564860</td>\n",
       "      <td>99.147727</td>\n",
       "    </tr>\n",
       "    <tr>\n",
       "      <th>47</th>\n",
       "      <td>47</td>\n",
       "      <td>0.439392</td>\n",
       "      <td>99.007092</td>\n",
       "    </tr>\n",
       "    <tr>\n",
       "      <th>46</th>\n",
       "      <td>46</td>\n",
       "      <td>0.594035</td>\n",
       "      <td>98.873239</td>\n",
       "    </tr>\n",
       "    <tr>\n",
       "      <th>49</th>\n",
       "      <td>49</td>\n",
       "      <td>0.746616</td>\n",
       "      <td>98.873239</td>\n",
       "    </tr>\n",
       "    <tr>\n",
       "      <th>59</th>\n",
       "      <td>59</td>\n",
       "      <td>0.644990</td>\n",
       "      <td>98.870056</td>\n",
       "    </tr>\n",
       "    <tr>\n",
       "      <th>50</th>\n",
       "      <td>50</td>\n",
       "      <td>1.005861</td>\n",
       "      <td>98.727016</td>\n",
       "    </tr>\n",
       "  </tbody>\n",
       "</table>\n",
       "</div>"
      ],
      "text/plain": [
       "    epoch      loss      score\n",
       "56     56  0.401755  99.433428\n",
       "51     51  0.425493  99.294781\n",
       "65     65  0.319586  99.292786\n",
       "52     52  0.534617  99.152542\n",
       "64     64  0.564860  99.147727\n",
       "47     47  0.439392  99.007092\n",
       "46     46  0.594035  98.873239\n",
       "49     49  0.746616  98.873239\n",
       "59     59  0.644990  98.870056\n",
       "50     50  1.005861  98.727016"
      ]
     },
     "execution_count": 71,
     "metadata": {},
     "output_type": "execute_result"
    }
   ],
   "source": [
    "df_train_fit = load_as_df(train_fit_file)\n",
    "df_train_fit[\"score\"] = df_train_fit[\"score\"] * 100\n",
    "df_train_fit.sort_values([\"score\"], ascending=False).head(n=10)\n"
   ]
  },
  {
   "cell_type": "code",
   "execution_count": 72,
   "metadata": {},
   "outputs": [
    {
     "data": {
      "text/html": [
       "<div>\n",
       "<style scoped>\n",
       "    .dataframe tbody tr th:only-of-type {\n",
       "        vertical-align: middle;\n",
       "    }\n",
       "\n",
       "    .dataframe tbody tr th {\n",
       "        vertical-align: top;\n",
       "    }\n",
       "\n",
       "    .dataframe thead th {\n",
       "        text-align: right;\n",
       "    }\n",
       "</style>\n",
       "<table border=\"1\" class=\"dataframe\">\n",
       "  <thead>\n",
       "    <tr style=\"text-align: right;\">\n",
       "      <th></th>\n",
       "      <th>epoch</th>\n",
       "      <th>loss</th>\n",
       "      <th>score</th>\n",
       "    </tr>\n",
       "  </thead>\n",
       "  <tbody>\n",
       "    <tr>\n",
       "      <th>14</th>\n",
       "      <td>14</td>\n",
       "      <td>2.569562</td>\n",
       "      <td>58.666667</td>\n",
       "    </tr>\n",
       "    <tr>\n",
       "      <th>31</th>\n",
       "      <td>31</td>\n",
       "      <td>5.717659</td>\n",
       "      <td>56.470588</td>\n",
       "    </tr>\n",
       "    <tr>\n",
       "      <th>12</th>\n",
       "      <td>12</td>\n",
       "      <td>3.349443</td>\n",
       "      <td>53.658537</td>\n",
       "    </tr>\n",
       "    <tr>\n",
       "      <th>7</th>\n",
       "      <td>7</td>\n",
       "      <td>2.915013</td>\n",
       "      <td>53.012048</td>\n",
       "    </tr>\n",
       "    <tr>\n",
       "      <th>25</th>\n",
       "      <td>25</td>\n",
       "      <td>4.352235</td>\n",
       "      <td>52.873563</td>\n",
       "    </tr>\n",
       "    <tr>\n",
       "      <th>8</th>\n",
       "      <td>8</td>\n",
       "      <td>3.420259</td>\n",
       "      <td>52.747253</td>\n",
       "    </tr>\n",
       "    <tr>\n",
       "      <th>33</th>\n",
       "      <td>33</td>\n",
       "      <td>5.831715</td>\n",
       "      <td>52.380952</td>\n",
       "    </tr>\n",
       "    <tr>\n",
       "      <th>32</th>\n",
       "      <td>32</td>\n",
       "      <td>6.831344</td>\n",
       "      <td>52.054795</td>\n",
       "    </tr>\n",
       "    <tr>\n",
       "      <th>18</th>\n",
       "      <td>18</td>\n",
       "      <td>3.640208</td>\n",
       "      <td>51.948052</td>\n",
       "    </tr>\n",
       "    <tr>\n",
       "      <th>9</th>\n",
       "      <td>9</td>\n",
       "      <td>3.285865</td>\n",
       "      <td>51.546392</td>\n",
       "    </tr>\n",
       "  </tbody>\n",
       "</table>\n",
       "</div>"
      ],
      "text/plain": [
       "    epoch      loss      score\n",
       "14     14  2.569562  58.666667\n",
       "31     31  5.717659  56.470588\n",
       "12     12  3.349443  53.658537\n",
       "7       7  2.915013  53.012048\n",
       "25     25  4.352235  52.873563\n",
       "8       8  3.420259  52.747253\n",
       "33     33  5.831715  52.380952\n",
       "32     32  6.831344  52.054795\n",
       "18     18  3.640208  51.948052\n",
       "9       9  3.285865  51.546392"
      ]
     },
     "execution_count": 72,
     "metadata": {},
     "output_type": "execute_result"
    }
   ],
   "source": [
    "df_val_fit = load_as_df(validation_fit_file)\n",
    "df_val_fit[\"score\"] = df_val_fit[\"score\"] * 100\n",
    "df_val_fit.sort_values([\"score\"], ascending=False).head(n=10)"
   ]
  },
  {
   "cell_type": "code",
   "execution_count": 86,
   "metadata": {
    "scrolled": true
   },
   "outputs": [
    {
     "data": {
      "image/png": "[encoded data removed]",
      "text/plain": [
       "<Figure size 720x360 with 2 Axes>"
      ]
     },
     "metadata": {},
     "output_type": "display_data"
    }
   ],
   "source": [
    "fig, ax = plt.subplots(1,2, figsize=(10,5))\n",
    "\n",
    "df_train_fit.plot.line(x=\"epoch\", y=\"score\", ax = ax[0], color =\"blue\")\n",
    "df_train_fit.plot.line(x=\"epoch\", y=\"loss\", ax = ax[0], color=\"orange\")\n",
    "ax[0].set_title(\"Training set\")\n",
    "ax[0].yaxis.set_major_locator(plt.FixedLocator( range(0, 100, 10)))\n",
    "\n",
    "df_val_fit.plot.line(x=\"epoch\", y=\"score\", ax = ax[1], color=\"blue\")\n",
    "df_val_fit.plot.line(x=\"epoch\", y=\"loss\", ax = ax[1], color =\"orange\")\n",
    "\n",
    "ax[1].set_title(\"Validation set\")\n",
    "ax[1].yaxis.set_major_locator(plt.FixedLocator(range(0, 100,10)))\n",
    "\n",
    "\n",
    "\n",
    "plt.show()"
   ]
  },
  {
   "cell_type": "markdown",
   "metadata": {},
   "source": [
    "### Threshold "
   ]
  },
  {
   "cell_type": "code",
   "execution_count": 82,
   "metadata": {},
   "outputs": [
    {
     "data": {
      "text/plain": [
       "(49, 13)"
      ]
     },
     "execution_count": 82,
     "metadata": {},
     "output_type": "execute_result"
    }
   ],
   "source": [
    "threshold = .95\n",
    "df_trues = df.query(\"true > {}\".format(threshold))\n",
    "df_trues.shape"
   ]
  },
  {
   "cell_type": "code",
   "execution_count": 83,
   "metadata": {},
   "outputs": [
    {
     "name": "stdout",
     "output_type": "stream",
     "text": [
      "The F1 score is 0.7096774193548386 and the accuracy is 0.6326530612244898, precision 0.6470588235294118\n"
     ]
    }
   ],
   "source": [
    "from sklearn.metrics import f1_score, accuracy_score, precision_score\n",
    "\n",
    "f1 = f1_score(df_trues[\"actual\"], df_trues[\"predicted\"])  \n",
    "accuracy = accuracy_score(df_trues[\"actual\"], df_trues[\"predicted\"], sample_weight=None)\n",
    "precision = precision_score(df_trues[\"actual\"], df_trues[\"predicted\"], sample_weight=None)\n",
    "\n",
    "\n",
    "print(\"The F1 score is {} and the accuracy is {}, precision {}\".format(f1, accuracy, precision))"
   ]
  }
 ],
 "metadata": {
  "kernelspec": {
   "display_name": "Python 3",
   "language": "python",
   "name": "python3"
  },
  "language_info": {
   "codemirror_mode": {
    "name": "ipython",
    "version": 3
   },
   "file_extension": ".py",
   "mimetype": "text/x-python",
   "name": "python",
   "nbconvert_exporter": "python",
   "pygments_lexer": "ipython3",
   "version": "3.6.4"
  }
 },
 "nbformat": 4,
 "nbformat_minor": 2
}
