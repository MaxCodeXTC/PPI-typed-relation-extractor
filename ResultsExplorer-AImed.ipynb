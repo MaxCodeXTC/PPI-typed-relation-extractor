{
 "cells": [
  {
   "cell_type": "code",
   "execution_count": 1,
   "metadata": {},
   "outputs": [],
   "source": [
    "#s3_data =\"s3://aegovan-data/test_unique_pub_v3_lessnegatve_predicted_linear.json\"\n",
    "data_dir = \"temp\""
   ]
  },
  {
   "cell_type": "code",
   "execution_count": 2,
   "metadata": {},
   "outputs": [
    {
     "name": "stdout",
     "output_type": "stream",
     "text": [
      "download: s3://aegovan-data/results/model_PpiAimedDataset_CnnPos_190909_1008/validation_scores_epoch_Objectdump_20190909_131343_5980a68d-3c92-48cb-af94-7cd2c807f9ae.json to temp/validation_scores_epoch_Objectdump_20190909_131343_5980a68d-3c92-48cb-af94-7cd2c807f9ae.json\n",
      "download: s3://aegovan-data/results/model_PpiAimedDataset_CnnPos_190909_1008/training_scores_epoch_Objectdump_20190909_131343_445f2544-789e-4c08-9f72-5a85c53d4f1b.json to temp/training_scores_epoch_Objectdump_20190909_131343_445f2544-789e-4c08-9f72-5a85c53d4f1b.json\n",
      "download: s3://aegovan-data/results/model_PpiAimedDataset_CnnPos_190909_1008/run.log to temp/run.log\n",
      "download: s3://aegovan-data/results/model_PpiAimedDataset_CnnPos_190909_1008/predicted_AIMedval.json to temp/predicted_AIMedval.json\n",
      "download: s3://aegovan-data/results/model_PpiAimedDataset_CnnPos_190909_1008/predicted_AIMedtest.json to temp/predicted_AIMedtest.json\n"
     ]
    }
   ],
   "source": [
    "!rm -rf $data_dir\n",
    "!mkdir $data_dir\n",
    "!aws s3 cp s3://aegovan-data/results/model_PpiAimedDataset_CnnPos_190909_1008 $data_dir --recursive --exclude \"*\"  --include \"*.json\" --exclude \"*vocab.json\" --include \"*.log\""
   ]
  },
  {
   "cell_type": "code",
   "execution_count": 3,
   "metadata": {},
   "outputs": [],
   "source": [
    "import pandas\n",
    "import matplotlib.pyplot as plt"
   ]
  },
  {
   "cell_type": "code",
   "execution_count": 4,
   "metadata": {},
   "outputs": [
    {
     "name": "stdout",
     "output_type": "stream",
     "text": [
      "predicted_AIMedtest.json\r\n",
      "predicted_AIMedval.json\r\n",
      "run.log\r\n",
      "training_scores_epoch_Objectdump_20190909_131343_445f2544-789e-4c08-9f72-5a85c53d4f1b.json\r\n",
      "validation_scores_epoch_Objectdump_20190909_131343_5980a68d-3c92-48cb-af94-7cd2c807f9ae.json\r\n"
     ]
    }
   ],
   "source": [
    "!ls  $data_dir"
   ]
  },
  {
   "cell_type": "code",
   "execution_count": 5,
   "metadata": {},
   "outputs": [
    {
     "name": "stdout",
     "output_type": "stream",
     "text": [
      "commit 075193db228696f558bbbcf127413bb27467a342\r\n"
     ]
    }
   ],
   "source": [
    "!head -1 $data_dir/run.log "
   ]
  },
  {
   "cell_type": "code",
   "execution_count": 6,
   "metadata": {},
   "outputs": [
    {
     "name": "stdout",
     "output_type": "stream",
     "text": [
      "Date:   Mon Sep 9 19:55:47 2019 +1000\r\n",
      "\r\n",
      "    Use pad zero tokens\r\n",
      "{'dataset': 'PpiAimedDataset', 'trainjson': '/data/AIMedtrain.json', 'valjson': '/data/AIMedval.json', 'embedding': '/data/wikipedia-pubmed-and-PMC-w2v.bin.txt', 'embeddim': 200, 'outdir': '/data/model_PpiAimedDataset_CnnPos_190909_1008', 'epochs': 200, 'interaction_type': None, 'log_level': 'INFO'}\r\n",
      "2019-09-09 10:08:03,570 - __main__ - INFO - The embedding header is 5443656 200\r\n",
      "\r\n",
      "2019-09-09 10:08:03,571 - algorithms.RelationExtractorBiLstmNetwork - INFO - The text feature is index 0, the feature lengths are [150   1   1]\r\n",
      "2019-09-09 10:08:03,572 - algorithms.RelationExtractorBiLstmNetwork - INFO - Word embedding size is 200, pos embedding size is 6, totaldim is 206, hidden_size  150\r\n"
     ]
    }
   ],
   "source": [
    "!head -10 $data_dir/run.log | tail -8"
   ]
  },
  {
   "cell_type": "code",
   "execution_count": 7,
   "metadata": {},
   "outputs": [],
   "source": [
    "import pandas as pd\n",
    "pd.set_option('display.max_columns', None)\n",
    "pd.set_option('display.max_colwidth', 10000)\n",
    "pd.set_option('display.max_rows', 100)"
   ]
  },
  {
   "cell_type": "code",
   "execution_count": 8,
   "metadata": {},
   "outputs": [],
   "source": [
    "import boto3\n",
    "\n",
    "def download_single_file(bucket_name_path, local_path):\n",
    "    index = bucket_name_path.find(\"://\")\n",
    "\n",
    "    # remove the s3:// if present\n",
    "    if index > -1:\n",
    "        bucket_name_path = bucket_name_path[index + 3:]\n",
    "\n",
    "    key_start_index = bucket_name_path.find(\"/\")\n",
    "    bucket_name = bucket_name_path\n",
    "    key = \"/\"\n",
    "    if key_start_index > -1:\n",
    "        bucket_name = bucket_name_path[0:key_start_index]\n",
    "        key = bucket_name_path[key_start_index + 1:]\n",
    "        \n",
    "    client = boto3.resource('s3')\n",
    "    client.Bucket(bucket_name).download_file(key, local_path)\n",
    "\n"
   ]
  },
  {
   "cell_type": "code",
   "execution_count": 9,
   "metadata": {},
   "outputs": [],
   "source": [
    "import glob\n",
    "\n",
    "results_file = \"./{}/predicted_AIMedtest.json\".format(data_dir)\n",
    "validation_fit_file = glob.glob(\"{}/validation_scores_epoch_Objectdump*.json\".format(data_dir))[0]\n",
    "train_fit_file = glob.glob(\"{}/training_scores_epoch_Objectdump*.json\".format(data_dir))[0]\n",
    "\n",
    "\n",
    "pos_label = True"
   ]
  },
  {
   "cell_type": "code",
   "execution_count": 10,
   "metadata": {},
   "outputs": [],
   "source": [
    "#download_single_file(s3_data, results_file)"
   ]
  },
  {
   "cell_type": "code",
   "execution_count": 11,
   "metadata": {},
   "outputs": [],
   "source": [
    "import pandas as pd"
   ]
  },
  {
   "cell_type": "code",
   "execution_count": 12,
   "metadata": {},
   "outputs": [],
   "source": [
    "df_results = pd.read_json(results_file)\n",
    "df_results[\"actual\"] = df_results[\"isValid\"]"
   ]
  },
  {
   "cell_type": "code",
   "execution_count": 13,
   "metadata": {},
   "outputs": [
    {
     "data": {
      "text/html": [
       "<div>\n",
       "<style scoped>\n",
       "    .dataframe tbody tr th:only-of-type {\n",
       "        vertical-align: middle;\n",
       "    }\n",
       "\n",
       "    .dataframe tbody tr th {\n",
       "        vertical-align: top;\n",
       "    }\n",
       "\n",
       "    .dataframe thead th {\n",
       "        text-align: right;\n",
       "    }\n",
       "</style>\n",
       "<table border=\"1\" class=\"dataframe\">\n",
       "  <thead>\n",
       "    <tr style=\"text-align: right;\">\n",
       "      <th></th>\n",
       "      <th>docid</th>\n",
       "      <th>isValid</th>\n",
       "      <th>line_no</th>\n",
       "      <th>participant1</th>\n",
       "      <th>participant2</th>\n",
       "      <th>passage</th>\n",
       "      <th>predicted</th>\n",
       "      <th>confidence_scores</th>\n",
       "      <th>confidence_true</th>\n",
       "      <th>confidence_false</th>\n",
       "      <th>actual</th>\n",
       "    </tr>\n",
       "  </thead>\n",
       "  <tbody>\n",
       "    <tr>\n",
       "      <th>0</th>\n",
       "      <td>abstract_11780382</td>\n",
       "      <td>False</td>\n",
       "      <td>6</td>\n",
       "      <td>IFN - alpha</td>\n",
       "      <td>IL - 4</td>\n",
       "      <td>Cytokines measurements during IFN - alpha treatment showed a trend to decreasing levels of IL - 4 at 4 , 12 , and 24 weeks .</td>\n",
       "      <td>False</td>\n",
       "      <td>{'False': 13.0466365814, 'True': -5.5720143318}</td>\n",
       "      <td>0.003803</td>\n",
       "      <td>463534.725531</td>\n",
       "      <td>False</td>\n",
       "    </tr>\n",
       "    <tr>\n",
       "      <th>1</th>\n",
       "      <td>abstract_11780382</td>\n",
       "      <td>False</td>\n",
       "      <td>7</td>\n",
       "      <td>IFN - alpha</td>\n",
       "      <td>IFN - gamma</td>\n",
       "      <td>Levels of IFN - gamma were slightly increased following IFN - alpha treatment ( P = 0.09 ) .</td>\n",
       "      <td>False</td>\n",
       "      <td>{'False': 11.8266267776, 'True': -5.3124694824}</td>\n",
       "      <td>0.004930</td>\n",
       "      <td>136848.092759</td>\n",
       "      <td>False</td>\n",
       "    </tr>\n",
       "    <tr>\n",
       "      <th>1020</th>\n",
       "      <td>abstract_for_1833068</td>\n",
       "      <td>False</td>\n",
       "      <td>1</td>\n",
       "      <td>CDC2</td>\n",
       "      <td>cyclin E</td>\n",
       "      <td>TI - Human cyclin E , a new cyclin that interacts with two members of the CDC2 gene family .</td>\n",
       "      <td>False</td>\n",
       "      <td>{'False': 7.8738045692, 'True': -4.1671004295}</td>\n",
       "      <td>0.015497</td>\n",
       "      <td>2627.543266</td>\n",
       "      <td>False</td>\n",
       "    </tr>\n",
       "  </tbody>\n",
       "</table>\n",
       "</div>"
      ],
      "text/plain": [
       "                     docid  isValid  line_no participant1 participant2  \\\n",
       "0        abstract_11780382    False        6  IFN - alpha       IL - 4   \n",
       "1        abstract_11780382    False        7  IFN - alpha  IFN - gamma   \n",
       "1020  abstract_for_1833068    False        1         CDC2     cyclin E   \n",
       "\n",
       "                                                                                                                            passage  \\\n",
       "0     Cytokines measurements during IFN - alpha treatment showed a trend to decreasing levels of IL - 4 at 4 , 12 , and 24 weeks .    \n",
       "1                                     Levels of IFN - gamma were slightly increased following IFN - alpha treatment ( P = 0.09 ) .    \n",
       "1020                                  TI - Human cyclin E , a new cyclin that interacts with two members of the CDC2 gene family .    \n",
       "\n",
       "      predicted                                confidence_scores  \\\n",
       "0         False  {'False': 13.0466365814, 'True': -5.5720143318}   \n",
       "1         False  {'False': 11.8266267776, 'True': -5.3124694824}   \n",
       "1020      False   {'False': 7.8738045692, 'True': -4.1671004295}   \n",
       "\n",
       "      confidence_true  confidence_false  actual  \n",
       "0            0.003803     463534.725531   False  \n",
       "1            0.004930     136848.092759   False  \n",
       "1020         0.015497       2627.543266   False  "
      ]
     },
     "execution_count": 13,
     "metadata": {},
     "output_type": "execute_result"
    }
   ],
   "source": [
    "df_results.head(n=3)"
   ]
  },
  {
   "cell_type": "code",
   "execution_count": 14,
   "metadata": {},
   "outputs": [
    {
     "data": {
      "text/plain": [
       "Index(['docid', 'isValid', 'line_no', 'participant1', 'participant2',\n",
       "       'passage', 'predicted', 'confidence_scores', 'confidence_true',\n",
       "       'confidence_false', 'actual'],\n",
       "      dtype='object')"
      ]
     },
     "execution_count": 14,
     "metadata": {},
     "output_type": "execute_result"
    }
   ],
   "source": [
    "df_results.columns\n"
   ]
  },
  {
   "cell_type": "code",
   "execution_count": 15,
   "metadata": {},
   "outputs": [
    {
     "data": {
      "text/plain": [
       "(590, 11)"
      ]
     },
     "execution_count": 15,
     "metadata": {},
     "output_type": "execute_result"
    }
   ],
   "source": [
    "df_results.shape"
   ]
  },
  {
   "cell_type": "markdown",
   "metadata": {},
   "source": [
    "## Analyse Results"
   ]
  },
  {
   "cell_type": "code",
   "execution_count": 16,
   "metadata": {},
   "outputs": [],
   "source": [
    "import matplotlib.pyplot as plt\n",
    "plt.rcParams.update({'font.size': 14})"
   ]
  },
  {
   "cell_type": "code",
   "execution_count": 17,
   "metadata": {},
   "outputs": [],
   "source": [
    "df = df_results"
   ]
  },
  {
   "cell_type": "code",
   "execution_count": 18,
   "metadata": {},
   "outputs": [
    {
     "data": {
      "text/plain": [
       "(590, 11)"
      ]
     },
     "execution_count": 18,
     "metadata": {},
     "output_type": "execute_result"
    }
   ],
   "source": [
    "df_results.shape"
   ]
  },
  {
   "cell_type": "code",
   "execution_count": 19,
   "metadata": {},
   "outputs": [
    {
     "data": {
      "text/html": [
       "<div>\n",
       "<style scoped>\n",
       "    .dataframe tbody tr th:only-of-type {\n",
       "        vertical-align: middle;\n",
       "    }\n",
       "\n",
       "    .dataframe tbody tr th {\n",
       "        vertical-align: top;\n",
       "    }\n",
       "\n",
       "    .dataframe thead th {\n",
       "        text-align: right;\n",
       "    }\n",
       "</style>\n",
       "<table border=\"1\" class=\"dataframe\">\n",
       "  <thead>\n",
       "    <tr style=\"text-align: right;\">\n",
       "      <th></th>\n",
       "      <th>true</th>\n",
       "      <th>false</th>\n",
       "      <th>actual</th>\n",
       "      <th>predicted</th>\n",
       "      <th>confidence_scores</th>\n",
       "    </tr>\n",
       "  </thead>\n",
       "  <tbody>\n",
       "    <tr>\n",
       "      <th>1665</th>\n",
       "      <td>73.278145</td>\n",
       "      <td>0.117768</td>\n",
       "      <td>True</td>\n",
       "      <td>True</td>\n",
       "      <td>{'False': -2.1390388012, 'True': 4.2942624092}</td>\n",
       "    </tr>\n",
       "    <tr>\n",
       "      <th>1881</th>\n",
       "      <td>54.141435</td>\n",
       "      <td>0.067151</td>\n",
       "      <td>True</td>\n",
       "      <td>True</td>\n",
       "      <td>{'False': -2.7008144855, 'True': 3.9915997982}</td>\n",
       "    </tr>\n",
       "    <tr>\n",
       "      <th>2924</th>\n",
       "      <td>22.998443</td>\n",
       "      <td>0.209310</td>\n",
       "      <td>True</td>\n",
       "      <td>True</td>\n",
       "      <td>{'False': -1.5639388561, 'True': 3.1354265213}</td>\n",
       "    </tr>\n",
       "  </tbody>\n",
       "</table>\n",
       "</div>"
      ],
      "text/plain": [
       "           true     false  actual  predicted  \\\n",
       "1665  73.278145  0.117768    True       True   \n",
       "1881  54.141435  0.067151    True       True   \n",
       "2924  22.998443  0.209310    True       True   \n",
       "\n",
       "                                   confidence_scores  \n",
       "1665  {'False': -2.1390388012, 'True': 4.2942624092}  \n",
       "1881  {'False': -2.7008144855, 'True': 3.9915997982}  \n",
       "2924  {'False': -1.5639388561, 'True': 3.1354265213}  "
      ]
     },
     "execution_count": 19,
     "metadata": {},
     "output_type": "execute_result"
    }
   ],
   "source": [
    "import math\n",
    "\n",
    "# This is log softmax, convert to softmax prob\n",
    "df[\"true\"]  =df[\"confidence_scores\"].apply(lambda x: math.exp(x[\"True\"]))\n",
    "df[\"false\"]  =df[\"confidence_scores\"].apply(lambda x: math.exp(x[\"False\"]))\n",
    "\n",
    "df[ [\"true\", \"false\", \"actual\", \"predicted\", \"confidence_scores\"]].sort_values([\"true\"], ascending=False).head(n=3)"
   ]
  },
  {
   "cell_type": "code",
   "execution_count": 20,
   "metadata": {},
   "outputs": [
    {
     "name": "stdout",
     "output_type": "stream",
     "text": [
      "The F1 score is 0.41237113402061853 and the accuracy is 0.8067796610169492\n"
     ]
    }
   ],
   "source": [
    "from sklearn.metrics import f1_score, accuracy_score\n",
    "\n",
    "f1 = f1_score(df[\"actual\"], df[\"predicted\"], sample_weight=None)  \n",
    "accuracy = accuracy_score(df[\"actual\"], df[\"predicted\"], sample_weight=None)\n",
    "print(\"The F1 score is {} and the accuracy is {}\".format(f1, accuracy))\n",
    "\n"
   ]
  },
  {
   "cell_type": "code",
   "execution_count": 21,
   "metadata": {},
   "outputs": [
    {
     "name": "stdout",
     "output_type": "stream",
     "text": [
      "Requirement already satisfied: scikit-plot==0.3.7 in /Users/aeg/miniconda/envs/kegg_env/lib/python3.7/site-packages (0.3.7)\n",
      "Requirement already satisfied: scipy>=0.9 in /Users/aeg/miniconda/envs/kegg_env/lib/python3.7/site-packages (from scikit-plot==0.3.7) (1.3.2)\n",
      "Requirement already satisfied: matplotlib>=1.4.0 in /Users/aeg/miniconda/envs/kegg_env/lib/python3.7/site-packages (from scikit-plot==0.3.7) (3.0.0)\n",
      "Requirement already satisfied: joblib>=0.10 in /Users/aeg/miniconda/envs/kegg_env/lib/python3.7/site-packages (from scikit-plot==0.3.7) (0.14.0)\n",
      "Requirement already satisfied: scikit-learn>=0.18 in /Users/aeg/miniconda/envs/kegg_env/lib/python3.7/site-packages (from scikit-plot==0.3.7) (0.21.2)\n",
      "Requirement already satisfied: numpy>=1.13.3 in /Users/aeg/miniconda/envs/kegg_env/lib/python3.7/site-packages (from scipy>=0.9->scikit-plot==0.3.7) (1.17.4)\n",
      "Requirement already satisfied: pyparsing!=2.0.4,!=2.1.2,!=2.1.6,>=2.0.1 in /Users/aeg/miniconda/envs/kegg_env/lib/python3.7/site-packages (from matplotlib>=1.4.0->scikit-plot==0.3.7) (2.4.5)\n",
      "Requirement already satisfied: cycler>=0.10 in /Users/aeg/miniconda/envs/kegg_env/lib/python3.7/site-packages (from matplotlib>=1.4.0->scikit-plot==0.3.7) (0.10.0)\n",
      "Requirement already satisfied: kiwisolver>=1.0.1 in /Users/aeg/miniconda/envs/kegg_env/lib/python3.7/site-packages (from matplotlib>=1.4.0->scikit-plot==0.3.7) (1.1.0)\n",
      "Requirement already satisfied: python-dateutil>=2.1 in /Users/aeg/miniconda/envs/kegg_env/lib/python3.7/site-packages (from matplotlib>=1.4.0->scikit-plot==0.3.7) (2.8.0)\n",
      "Requirement already satisfied: six in /Users/aeg/miniconda/envs/kegg_env/lib/python3.7/site-packages (from cycler>=0.10->matplotlib>=1.4.0->scikit-plot==0.3.7) (1.13.0)\n",
      "Requirement already satisfied: setuptools in /Users/aeg/miniconda/envs/kegg_env/lib/python3.7/site-packages (from kiwisolver>=1.0.1->matplotlib>=1.4.0->scikit-plot==0.3.7) (41.6.0)\n"
     ]
    }
   ],
   "source": [
    "!pip install scikit-plot==0.3.7"
   ]
  },
  {
   "cell_type": "code",
   "execution_count": 22,
   "metadata": {},
   "outputs": [
    {
     "data": {
      "image/png": "[encoded data removed]",
      "text/plain": [
       "<Figure size 432x288 with 2 Axes>"
      ]
     },
     "metadata": {
      "needs_background": "light"
     },
     "output_type": "display_data"
    }
   ],
   "source": [
    "import matplotlib.pyplot as plt\n",
    "import scikitplot as skplt\n",
    "\n",
    "skplt.metrics.plot_confusion_matrix(df[\"actual\"], df[\"predicted\"], normalize=True )\n",
    "plt.show()"
   ]
  },
  {
   "cell_type": "code",
   "execution_count": 23,
   "metadata": {},
   "outputs": [
    {
     "data": {
      "image/png": "[encoded data removed]",
      "text/plain": [
       "<Figure size 432x288 with 2 Axes>"
      ]
     },
     "metadata": {
      "needs_background": "light"
     },
     "output_type": "display_data"
    }
   ],
   "source": [
    "import matplotlib.pyplot as plt\n",
    "import scikitplot as skplt\n",
    "\n",
    "skplt.metrics.plot_confusion_matrix(df[\"actual\"], df[\"predicted\"], normalize=False )\n",
    "plt.show()"
   ]
  },
  {
   "cell_type": "code",
   "execution_count": 24,
   "metadata": {},
   "outputs": [
    {
     "data": {
      "text/plain": [
       "<matplotlib.axes._subplots.AxesSubplot at 0x124176a10>"
      ]
     },
     "execution_count": 24,
     "metadata": {},
     "output_type": "execute_result"
    },
    {
     "data": {
      "image/png": "[encoded data removed]",
      "text/plain": [
       "<Figure size 432x288 with 1 Axes>"
      ]
     },
     "metadata": {
      "needs_background": "light"
     },
     "output_type": "display_data"
    }
   ],
   "source": [
    "import matplotlib.pyplot as plt\n",
    "import scikitplot as skplt\n",
    "\n",
    "skplt.metrics.plot_precision_recall(df[\"actual\"], df[[\"false\", \"true\"]])"
   ]
  },
  {
   "cell_type": "code",
   "execution_count": 25,
   "metadata": {},
   "outputs": [
    {
     "data": {
      "text/plain": [
       "<matplotlib.axes._subplots.AxesSubplot at 0x124266250>"
      ]
     },
     "execution_count": 25,
     "metadata": {},
     "output_type": "execute_result"
    },
    {
     "data": {
      "image/png": "[encoded data removed]",
      "text/plain": [
       "<Figure size 432x288 with 1 Axes>"
      ]
     },
     "metadata": {
      "needs_background": "light"
     },
     "output_type": "display_data"
    }
   ],
   "source": [
    "import matplotlib.pyplot as plt\n",
    "import scikitplot as skplt\n",
    "\n",
    "skplt.metrics.plot_roc(df[\"actual\"], df[[\"false\", \"true\"]])"
   ]
  },
  {
   "cell_type": "markdown",
   "metadata": {},
   "source": [
    "## Training / Validation epoch fit"
   ]
  },
  {
   "cell_type": "code",
   "execution_count": 26,
   "metadata": {},
   "outputs": [],
   "source": [
    "import json\n",
    "import pandas as pd\n",
    "from pandas.io.json import json_normalize\n",
    "\n",
    "def load_as_df (file):\n",
    "    with open(file, \"r\") as i:\n",
    "        data = json.loads(i.read())\n",
    "        \n",
    "    return json_normalize(data)\n",
    "    "
   ]
  },
  {
   "cell_type": "code",
   "execution_count": 27,
   "metadata": {},
   "outputs": [
    {
     "data": {
      "text/html": [
       "<div>\n",
       "<style scoped>\n",
       "    .dataframe tbody tr th:only-of-type {\n",
       "        vertical-align: middle;\n",
       "    }\n",
       "\n",
       "    .dataframe tbody tr th {\n",
       "        vertical-align: top;\n",
       "    }\n",
       "\n",
       "    .dataframe thead th {\n",
       "        text-align: right;\n",
       "    }\n",
       "</style>\n",
       "<table border=\"1\" class=\"dataframe\">\n",
       "  <thead>\n",
       "    <tr style=\"text-align: right;\">\n",
       "      <th></th>\n",
       "      <th>epoch</th>\n",
       "      <th>loss</th>\n",
       "      <th>score</th>\n",
       "    </tr>\n",
       "  </thead>\n",
       "  <tbody>\n",
       "    <tr>\n",
       "      <th>39</th>\n",
       "      <td>39</td>\n",
       "      <td>1.238613</td>\n",
       "      <td>98.166432</td>\n",
       "    </tr>\n",
       "    <tr>\n",
       "      <th>42</th>\n",
       "      <td>42</td>\n",
       "      <td>2.225085</td>\n",
       "      <td>97.602257</td>\n",
       "    </tr>\n",
       "    <tr>\n",
       "      <th>38</th>\n",
       "      <td>38</td>\n",
       "      <td>2.165141</td>\n",
       "      <td>97.464789</td>\n",
       "    </tr>\n",
       "    <tr>\n",
       "      <th>40</th>\n",
       "      <td>40</td>\n",
       "      <td>1.653239</td>\n",
       "      <td>97.297297</td>\n",
       "    </tr>\n",
       "    <tr>\n",
       "      <th>37</th>\n",
       "      <td>37</td>\n",
       "      <td>1.858943</td>\n",
       "      <td>96.737589</td>\n",
       "    </tr>\n",
       "    <tr>\n",
       "      <th>34</th>\n",
       "      <td>34</td>\n",
       "      <td>2.861336</td>\n",
       "      <td>96.348315</td>\n",
       "    </tr>\n",
       "    <tr>\n",
       "      <th>35</th>\n",
       "      <td>35</td>\n",
       "      <td>3.234205</td>\n",
       "      <td>95.590327</td>\n",
       "    </tr>\n",
       "    <tr>\n",
       "      <th>32</th>\n",
       "      <td>32</td>\n",
       "      <td>3.138373</td>\n",
       "      <td>95.319149</td>\n",
       "    </tr>\n",
       "    <tr>\n",
       "      <th>41</th>\n",
       "      <td>41</td>\n",
       "      <td>2.734490</td>\n",
       "      <td>94.452347</td>\n",
       "    </tr>\n",
       "    <tr>\n",
       "      <th>31</th>\n",
       "      <td>31</td>\n",
       "      <td>3.808084</td>\n",
       "      <td>93.714286</td>\n",
       "    </tr>\n",
       "  </tbody>\n",
       "</table>\n",
       "</div>"
      ],
      "text/plain": [
       "    epoch      loss      score\n",
       "39     39  1.238613  98.166432\n",
       "42     42  2.225085  97.602257\n",
       "38     38  2.165141  97.464789\n",
       "40     40  1.653239  97.297297\n",
       "37     37  1.858943  96.737589\n",
       "34     34  2.861336  96.348315\n",
       "35     35  3.234205  95.590327\n",
       "32     32  3.138373  95.319149\n",
       "41     41  2.734490  94.452347\n",
       "31     31  3.808084  93.714286"
      ]
     },
     "execution_count": 27,
     "metadata": {},
     "output_type": "execute_result"
    }
   ],
   "source": [
    "df_train_fit = load_as_df(train_fit_file)\n",
    "df_train_fit[\"score\"] = df_train_fit[\"score\"] * 100\n",
    "df_train_fit.sort_values([\"score\"], ascending=False).head(n=10)\n"
   ]
  },
  {
   "cell_type": "code",
   "execution_count": 28,
   "metadata": {},
   "outputs": [
    {
     "data": {
      "text/html": [
       "<div>\n",
       "<style scoped>\n",
       "    .dataframe tbody tr th:only-of-type {\n",
       "        vertical-align: middle;\n",
       "    }\n",
       "\n",
       "    .dataframe tbody tr th {\n",
       "        vertical-align: top;\n",
       "    }\n",
       "\n",
       "    .dataframe thead th {\n",
       "        text-align: right;\n",
       "    }\n",
       "</style>\n",
       "<table border=\"1\" class=\"dataframe\">\n",
       "  <thead>\n",
       "    <tr style=\"text-align: right;\">\n",
       "      <th></th>\n",
       "      <th>epoch</th>\n",
       "      <th>loss</th>\n",
       "      <th>score</th>\n",
       "    </tr>\n",
       "  </thead>\n",
       "  <tbody>\n",
       "    <tr>\n",
       "      <th>10</th>\n",
       "      <td>10</td>\n",
       "      <td>3.212561</td>\n",
       "      <td>42.424242</td>\n",
       "    </tr>\n",
       "    <tr>\n",
       "      <th>7</th>\n",
       "      <td>7</td>\n",
       "      <td>3.261491</td>\n",
       "      <td>31.578947</td>\n",
       "    </tr>\n",
       "    <tr>\n",
       "      <th>8</th>\n",
       "      <td>8</td>\n",
       "      <td>3.274903</td>\n",
       "      <td>43.076923</td>\n",
       "    </tr>\n",
       "    <tr>\n",
       "      <th>11</th>\n",
       "      <td>11</td>\n",
       "      <td>3.474388</td>\n",
       "      <td>52.380952</td>\n",
       "    </tr>\n",
       "    <tr>\n",
       "      <th>5</th>\n",
       "      <td>5</td>\n",
       "      <td>3.638801</td>\n",
       "      <td>9.302326</td>\n",
       "    </tr>\n",
       "    <tr>\n",
       "      <th>4</th>\n",
       "      <td>4</td>\n",
       "      <td>3.674910</td>\n",
       "      <td>0.000000</td>\n",
       "    </tr>\n",
       "    <tr>\n",
       "      <th>2</th>\n",
       "      <td>2</td>\n",
       "      <td>3.771210</td>\n",
       "      <td>0.000000</td>\n",
       "    </tr>\n",
       "    <tr>\n",
       "      <th>6</th>\n",
       "      <td>6</td>\n",
       "      <td>3.773231</td>\n",
       "      <td>36.065574</td>\n",
       "    </tr>\n",
       "    <tr>\n",
       "      <th>12</th>\n",
       "      <td>12</td>\n",
       "      <td>3.845643</td>\n",
       "      <td>54.347826</td>\n",
       "    </tr>\n",
       "    <tr>\n",
       "      <th>3</th>\n",
       "      <td>3</td>\n",
       "      <td>4.008905</td>\n",
       "      <td>33.333333</td>\n",
       "    </tr>\n",
       "  </tbody>\n",
       "</table>\n",
       "</div>"
      ],
      "text/plain": [
       "    epoch      loss      score\n",
       "10     10  3.212561  42.424242\n",
       "7       7  3.261491  31.578947\n",
       "8       8  3.274903  43.076923\n",
       "11     11  3.474388  52.380952\n",
       "5       5  3.638801   9.302326\n",
       "4       4  3.674910   0.000000\n",
       "2       2  3.771210   0.000000\n",
       "6       6  3.773231  36.065574\n",
       "12     12  3.845643  54.347826\n",
       "3       3  4.008905  33.333333"
      ]
     },
     "execution_count": 28,
     "metadata": {},
     "output_type": "execute_result"
    }
   ],
   "source": [
    "df_val_fit = load_as_df(validation_fit_file)\n",
    "df_val_fit[\"score\"] = df_val_fit[\"score\"] * 100\n",
    "df_val_fit.sort_values([\"loss\"], ascending=True).head(n=10)"
   ]
  },
  {
   "cell_type": "code",
   "execution_count": 29,
   "metadata": {
    "scrolled": true
   },
   "outputs": [
    {
     "data": {
      "image/png": "[encoded data removed]",
      "text/plain": [
       "<Figure size 720x360 with 2 Axes>"
      ]
     },
     "metadata": {
      "needs_background": "light"
     },
     "output_type": "display_data"
    }
   ],
   "source": [
    "fig, ax = plt.subplots(1,2, figsize=(10,5))\n",
    "\n",
    "df_train_fit.plot.line(x=\"epoch\", y=\"score\", ax = ax[0], color =\"blue\")\n",
    "df_train_fit.plot.line(x=\"epoch\", y=\"loss\", ax = ax[0], color=\"orange\")\n",
    "ax[0].set_title(\"Training set\")\n",
    "ax[0].yaxis.set_major_locator(plt.FixedLocator( range(0, 100, 10)))\n",
    "\n",
    "df_val_fit.plot.line(x=\"epoch\", y=\"score\", ax = ax[1], color=\"blue\")\n",
    "df_val_fit.plot.line(x=\"epoch\", y=\"loss\", ax = ax[1], color =\"orange\")\n",
    "\n",
    "ax[1].set_title(\"Validation set\")\n",
    "ax[1].yaxis.set_major_locator(plt.FixedLocator(range(0, 100,10)))\n",
    "\n",
    "\n",
    "\n",
    "plt.show()"
   ]
  },
  {
   "cell_type": "markdown",
   "metadata": {},
   "source": [
    "### Threshold "
   ]
  },
  {
   "cell_type": "code",
   "execution_count": 30,
   "metadata": {},
   "outputs": [
    {
     "data": {
      "text/plain": [
       "(141, 13)"
      ]
     },
     "execution_count": 30,
     "metadata": {},
     "output_type": "execute_result"
    }
   ],
   "source": [
    "threshold = .95\n",
    "df_trues = df.query(\"true > {}\".format(threshold))\n",
    "df_trues.shape"
   ]
  },
  {
   "cell_type": "code",
   "execution_count": 31,
   "metadata": {},
   "outputs": [
    {
     "name": "stdout",
     "output_type": "stream",
     "text": [
      "The F1 score is 0.5405405405405406 and the accuracy is 0.5177304964539007, precision 0.40404040404040403\n"
     ]
    }
   ],
   "source": [
    "from sklearn.metrics import f1_score, accuracy_score, precision_score\n",
    "\n",
    "f1 = f1_score(df_trues[\"actual\"], df_trues[\"predicted\"])  \n",
    "accuracy = accuracy_score(df_trues[\"actual\"], df_trues[\"predicted\"], sample_weight=None)\n",
    "precision = precision_score(df_trues[\"actual\"], df_trues[\"predicted\"], sample_weight=None)\n",
    "\n",
    "\n",
    "print(\"The F1 score is {} and the accuracy is {}, precision {}\".format(f1, accuracy, precision))"
   ]
  },
  {
   "cell_type": "markdown",
   "metadata": {},
   "source": [
    "### BERT Variance"
   ]
  },
  {
   "cell_type": "code",
   "execution_count": 32,
   "metadata": {},
   "outputs": [],
   "source": [
    "import boto3\n",
    "import re\n",
    "\n",
    "def search_log(stream_names, filter_pattern, regex_pattern):\n",
    "    client = boto3.client('logs')\n",
    "\n",
    "    log_group_name= \"/aws/sagemaker/TrainingJobs\"\n",
    "\n",
    "    response = client.filter_log_events(\n",
    "        logGroupName=log_group_name,\n",
    "        logStreamNames=stream_names,\n",
    "        filterPattern= filter_pattern,\n",
    "        limit=10,\n",
    "        interleaved=False\n",
    "    )\n",
    "    assert len(response[\"events\"]) == 1\n",
    "    log_message = response[\"events\"][0][\"message\"]\n",
    "    \n",
    "    # extract the cm from string\n",
    "    prog = re.compile(regex_pattern)\n",
    "    result = prog.match(log_message)\n",
    "    \n",
    "    return result\n",
    "\n",
    "\n",
    "\n",
    "def get_prf(stream_names, filterPattern):\n",
    "    regex_pattern = \".*precision, recall, fscore, support\\s+\\((0\\.\\d+,\\s+0\\.\\d+,\\s+0\\.\\d+).*\"\n",
    "    \n",
    "    result = search_log(stream_names, filterPattern, regex_pattern).group(1)\n",
    "\n",
    "    # normalise string to remove extra space\n",
    "    result = re.sub(\"\\s+\", \"\", result) \n",
    "    \n",
    "    # split the string, sep by comma..514 62 41 75\n",
    "    precision, recall, fscore = result.split(\",\")\n",
    "    \n",
    "    return float(precision), float(recall), float(fscore)\n",
    "\n",
    "\n",
    "    \n",
    "def get_prf_bert(stream_names):\n",
    "    filterPattern =  '\"__main__ - INFO - binary average scores\"'\n",
    "    return get_prf(stream_names, filterPattern)\n",
    "\n",
    "\n",
    "def get_prf_bilstm(stream_names):\n",
    "    filter_pattern =  '\"algorithms.TrainWorkflow - INFO - binary average scores\"'\n",
    "\n",
    "    return get_prf(stream_names, filter_pattern)\n",
    "\n",
    "\n",
    "\n",
    "\n",
    "def get_confusion_matrix(stream_names,filter_pattern):\n",
    "    regex_pattern = \".*tn, fp, fn, tp  is \\[(\\d+\\s+\\d+\\s+\\d+\\s+\\d+\\s*)\\]\"\n",
    "    \n",
    "   \n",
    "    result = search_log(stream_names, filter_pattern, regex_pattern).group(1)\n",
    "\n",
    "\n",
    "    # normalise string to remove extra space\n",
    "    result = re.sub(\"\\s+\", \" \", result) \n",
    "    \n",
    "    # split the string, sep by space..514 62 41 75\n",
    "    tn, fp, fn, tp = result.split(\" \")\n",
    "    return {\"tn\":int(tn), \"fp\":int(fp), \"fn\":int(fn), \"tp\":int(tp)}\n",
    "\n",
    "    \n",
    "def get_confusion_matrix_bilstm(stream_names):\n",
    "   \n",
    "    filterPattern =  '\"algorithms.TrainWorkflow - INFO - Confusion matrix\"'\n",
    "    return get_confusion_matrix(stream_names, filterPattern)\n",
    "   \n",
    "\n",
    "\n",
    "\n",
    "def get_confusion_matrix_bert(stream_names):\n",
    "    filter_pattern = '\"__main__ - INFO - Confusion matrix\"'\n",
    "    return get_confusion_matrix(stream_names, filter_pattern)\n",
    "   \n",
    "\n",
    "\n",
    "def get_log_name(sagemaker_job_name):\n",
    "    client = boto3.client('logs')\n",
    "    log_group_name= \"/aws/sagemaker/TrainingJobs\"\n",
    "    \n",
    "    response = client.describe_log_streams(\n",
    "    logGroupName=log_group_name,\n",
    "    logStreamNamePrefix=sagemaker_job_name,\n",
    "    orderBy='LogStreamName',\n",
    "    descending=False,\n",
    "    limit=5\n",
    ")\n",
    "    assert len(response[\"logStreams\"]) == 1\n",
    "    \n",
    "    return  response[\"logStreams\"][0][\"logStreamName\"]"
   ]
  },
  {
   "cell_type": "code",
   "execution_count": 33,
   "metadata": {},
   "outputs": [],
   "source": [
    "# #precision, recall, fscore\n",
    "# val_scores_bert = {\n",
    "# \"aimed-bert-plain-split-2019-11-26-17-06-43-047/algo-1-1574788218\" : [0.6612903225806451, 0.6721311475409836, 0.6666666666666666],\n",
    "# \"aimed-bert-plain-split-2019-11-26-17-05-51-125/algo-1-1574788124\":   [0.6617647058823529, 0.7377049180327869, 0.6976744186046512],\n",
    "# \"aimed-bert-plain-split-2019-11-26-17-05-15-304/algo-1-1574788082\": [0.8333333333333334, 0.7377049180327869, 0.782608695652174],\n",
    "# \"aimed-bert-plain-split-2019-11-26-17-04-37-299/algo-1-1574788037\":   [0.6268656716417911, 0.6885245901639344, 0.6562500000000001],\n",
    "# \"aimed-bert-plain-split-2019-11-26-17-04-01-076/algo-1-1574788008\":  [0.6557377049180327, 0.6557377049180327, 0.6557377049180327],\n",
    "# \"aimed-bert-plain-split-2019-11-26-09-34-15-420/algo-1-1574761423\":[0.8301886792452831, 0.7213114754098361, 0.7719298245614035] ,\n",
    "# \"aimed-bert-plain-split-2019-11-26-08-50-05-531/algo-1-1574758989\":   [0.6133333333333333, 0.7540983606557377, 0.676470588235294],\n",
    "# \"aimed-bert-plain-split-2019-11-26-08-30-38-244/algo-1-1574757524\"  : [0.7727272727272727, 0.8360655737704918, 0.8031496062992125],\n",
    "# \"aimed-bert-plain-split-2019-11-26-08-20-05-323/algo-1-1574757170\"  :  [0.7068965517241379, 0.6721311475409836, 0.6890756302521007],\n",
    "# \"aimed-bert-plain-split-2019-11-26-08-02-54-028/algo-1-1574756055\":[0.6964285714285714, 0.639344262295082, 0.6666666666666667]\n",
    "    \n",
    "# }"
   ]
  },
  {
   "cell_type": "code",
   "execution_count": 34,
   "metadata": {},
   "outputs": [],
   "source": [
    "bert_jobs = [\"aimed-bert-plain-split-2019-12-27-02-26-02-690\",\n",
    "\"aimed-bert-plain-split-2019-12-27-02-25-43-027\",\n",
    "\"aimed-bert-plain-split-2019-12-27-02-25-28-691\",\n",
    "\"aimed-bert-plain-split-2019-12-27-02-25-09-463\",\n",
    "\"aimed-bert-plain-split-2019-12-27-02-24-48-346\",\n",
    "\"aimed-bert-plain-split-2019-12-27-02-24-16-129\",\n",
    "\"aimed-bert-plain-split-2019-12-27-02-23-47-725\",\n",
    "\"aimed-bert-plain-split-2019-12-27-02-23-27-656\",\n",
    "\"aimed-bert-plain-split-2019-12-27-02-23-02-670\",\n",
    "\"aimed-bert-plain-split-2019-12-27-02-22-35-468\",]"
   ]
  },
  {
   "cell_type": "code",
   "execution_count": 35,
   "metadata": {},
   "outputs": [],
   "source": [
    "scores_bert = {}\n",
    "for k in bert_jobs:\n",
    "    l = get_log_name(k)\n",
    "    (p,r,f) = get_prf_bert([l])\n",
    "    cm  = get_confusion_matrix_bert([l]) \n",
    "    scores_bert[k] = {\"fpr\":(p,r,f) , \"cm\" : cm }\n",
    "\n",
    "\n"
   ]
  },
  {
   "cell_type": "code",
   "execution_count": 36,
   "metadata": {},
   "outputs": [],
   "source": [
    "import pandas as pd \n",
    "\n",
    "def create_variation_df(scores_map):\n",
    "    result = []\n",
    "    for k in scores_map:\n",
    "        p,r,f=scores_map[k][\"fpr\"]\n",
    "        cm = scores_map[k][\"cm\"]\n",
    "       \n",
    "        accuracy = float(cm[\"tp\"] + cm[\"tn\"])/float(cm[\"tp\"] + cm[\"tn\"] + cm[\"fp\"] + cm[\"fn\"])\n",
    "        b= float( cm[\"tn\"] +  cm[\"fp\"]  )/float(cm[\"tp\"] + cm[\"tn\"] + cm[\"fp\"] + cm[\"fn\"])\n",
    "        result.append({\"Precision\": p *100, \"Recall\": r*100, \"F1-score\": f * 100, \"Accuracy\": accuracy*100, \"BaselineAcc\":b*100})\n",
    "\n",
    "    df =  pd.DataFrame(result)\n",
    "    return df"
   ]
  },
  {
   "cell_type": "code",
   "execution_count": 37,
   "metadata": {},
   "outputs": [
    {
     "data": {
      "text/html": [
       "<div>\n",
       "<style scoped>\n",
       "    .dataframe tbody tr th:only-of-type {\n",
       "        vertical-align: middle;\n",
       "    }\n",
       "\n",
       "    .dataframe tbody tr th {\n",
       "        vertical-align: top;\n",
       "    }\n",
       "\n",
       "    .dataframe thead th {\n",
       "        text-align: right;\n",
       "    }\n",
       "</style>\n",
       "<table border=\"1\" class=\"dataframe\">\n",
       "  <thead>\n",
       "    <tr style=\"text-align: right;\">\n",
       "      <th></th>\n",
       "      <th>Accuracy</th>\n",
       "      <th>BaselineAcc</th>\n",
       "      <th>F1-score</th>\n",
       "      <th>Precision</th>\n",
       "      <th>Recall</th>\n",
       "    </tr>\n",
       "  </thead>\n",
       "  <tbody>\n",
       "    <tr>\n",
       "      <th>count</th>\n",
       "      <td>10.000000</td>\n",
       "      <td>10.000000</td>\n",
       "      <td>10.000000</td>\n",
       "      <td>10.000000</td>\n",
       "      <td>10.000000</td>\n",
       "    </tr>\n",
       "    <tr>\n",
       "      <th>mean</th>\n",
       "      <td>89.034335</td>\n",
       "      <td>81.974249</td>\n",
       "      <td>68.407107</td>\n",
       "      <td>71.444574</td>\n",
       "      <td>66.071429</td>\n",
       "    </tr>\n",
       "    <tr>\n",
       "      <th>std</th>\n",
       "      <td>1.249026</td>\n",
       "      <td>0.000000</td>\n",
       "      <td>3.668703</td>\n",
       "      <td>5.028211</td>\n",
       "      <td>6.204959</td>\n",
       "    </tr>\n",
       "    <tr>\n",
       "      <th>min</th>\n",
       "      <td>87.339056</td>\n",
       "      <td>81.974249</td>\n",
       "      <td>64.242424</td>\n",
       "      <td>64.835165</td>\n",
       "      <td>58.333333</td>\n",
       "    </tr>\n",
       "    <tr>\n",
       "      <th>25%</th>\n",
       "      <td>88.251073</td>\n",
       "      <td>81.974249</td>\n",
       "      <td>66.021505</td>\n",
       "      <td>68.187831</td>\n",
       "      <td>61.309524</td>\n",
       "    </tr>\n",
       "    <tr>\n",
       "      <th>50%</th>\n",
       "      <td>88.733906</td>\n",
       "      <td>81.974249</td>\n",
       "      <td>67.275930</td>\n",
       "      <td>71.130952</td>\n",
       "      <td>64.285714</td>\n",
       "    </tr>\n",
       "    <tr>\n",
       "      <th>75%</th>\n",
       "      <td>89.699571</td>\n",
       "      <td>81.974249</td>\n",
       "      <td>69.910911</td>\n",
       "      <td>74.207746</td>\n",
       "      <td>69.940476</td>\n",
       "    </tr>\n",
       "    <tr>\n",
       "      <th>max</th>\n",
       "      <td>91.416309</td>\n",
       "      <td>81.974249</td>\n",
       "      <td>76.744186</td>\n",
       "      <td>79.104478</td>\n",
       "      <td>78.571429</td>\n",
       "    </tr>\n",
       "  </tbody>\n",
       "</table>\n",
       "</div>"
      ],
      "text/plain": [
       "        Accuracy  BaselineAcc   F1-score  Precision     Recall\n",
       "count  10.000000    10.000000  10.000000  10.000000  10.000000\n",
       "mean   89.034335    81.974249  68.407107  71.444574  66.071429\n",
       "std     1.249026     0.000000   3.668703   5.028211   6.204959\n",
       "min    87.339056    81.974249  64.242424  64.835165  58.333333\n",
       "25%    88.251073    81.974249  66.021505  68.187831  61.309524\n",
       "50%    88.733906    81.974249  67.275930  71.130952  64.285714\n",
       "75%    89.699571    81.974249  69.910911  74.207746  69.940476\n",
       "max    91.416309    81.974249  76.744186  79.104478  78.571429"
      ]
     },
     "execution_count": 37,
     "metadata": {},
     "output_type": "execute_result"
    }
   ],
   "source": [
    "df_val_scores_bert = create_variation_df(scores_bert)\n",
    "df_val_scores_bert.describe()"
   ]
  },
  {
   "cell_type": "code",
   "execution_count": 55,
   "metadata": {},
   "outputs": [
    {
     "data": {
      "image/png": "[encoded data removed]",
      "text/plain": [
       "<Figure size 720x360 with 2 Axes>"
      ]
     },
     "metadata": {
      "needs_background": "light"
     },
     "output_type": "display_data"
    }
   ],
   "source": [
    "import matplotlib.pyplot as plt\n",
    "\n",
    "fig, ax = plt.subplots(1,2, figsize=(10, 5))\n",
    "\n",
    "df_val_scores_bert[[\"Precision\", \"Recall\", \"F1-score\", \"Accuracy\"]].boxplot(ax=ax[0])\n",
    "df_val_scores_bert[[\"Precision\", \"Recall\", \"F1-score\",\"Accuracy\", \"BaselineAcc\"]].plot(ax = ax[1]).legend(bbox_to_anchor=(1, -0.))\n",
    "\n",
    "plt.savefig(\"score_variation_aimed_bert.png\", bbox_inches='tight')\n",
    "\n",
    "\n"
   ]
  },
  {
   "cell_type": "code",
   "execution_count": 39,
   "metadata": {},
   "outputs": [
    {
     "data": {
      "text/html": [
       "<div>\n",
       "<style scoped>\n",
       "    .dataframe tbody tr th:only-of-type {\n",
       "        vertical-align: middle;\n",
       "    }\n",
       "\n",
       "    .dataframe tbody tr th {\n",
       "        vertical-align: top;\n",
       "    }\n",
       "\n",
       "    .dataframe thead th {\n",
       "        text-align: right;\n",
       "    }\n",
       "</style>\n",
       "<table border=\"1\" class=\"dataframe\">\n",
       "  <thead>\n",
       "    <tr style=\"text-align: right;\">\n",
       "      <th></th>\n",
       "      <th>Accuracy</th>\n",
       "      <th>BaselineAcc</th>\n",
       "      <th>F1-score</th>\n",
       "      <th>Precision</th>\n",
       "      <th>Recall</th>\n",
       "    </tr>\n",
       "  </thead>\n",
       "  <tbody>\n",
       "    <tr>\n",
       "      <th>count</th>\n",
       "      <td>10.000000</td>\n",
       "      <td>10.000000</td>\n",
       "      <td>10.000000</td>\n",
       "      <td>10.000000</td>\n",
       "      <td>10.000000</td>\n",
       "    </tr>\n",
       "    <tr>\n",
       "      <th>mean</th>\n",
       "      <td>89.034335</td>\n",
       "      <td>81.974249</td>\n",
       "      <td>68.407107</td>\n",
       "      <td>71.444574</td>\n",
       "      <td>66.071429</td>\n",
       "    </tr>\n",
       "    <tr>\n",
       "      <th>std</th>\n",
       "      <td>1.249026</td>\n",
       "      <td>0.000000</td>\n",
       "      <td>3.668703</td>\n",
       "      <td>5.028211</td>\n",
       "      <td>6.204959</td>\n",
       "    </tr>\n",
       "    <tr>\n",
       "      <th>min</th>\n",
       "      <td>87.339056</td>\n",
       "      <td>81.974249</td>\n",
       "      <td>64.242424</td>\n",
       "      <td>64.835165</td>\n",
       "      <td>58.333333</td>\n",
       "    </tr>\n",
       "    <tr>\n",
       "      <th>25%</th>\n",
       "      <td>88.251073</td>\n",
       "      <td>81.974249</td>\n",
       "      <td>66.021505</td>\n",
       "      <td>68.187831</td>\n",
       "      <td>61.309524</td>\n",
       "    </tr>\n",
       "    <tr>\n",
       "      <th>50%</th>\n",
       "      <td>88.733906</td>\n",
       "      <td>81.974249</td>\n",
       "      <td>67.275930</td>\n",
       "      <td>71.130952</td>\n",
       "      <td>64.285714</td>\n",
       "    </tr>\n",
       "    <tr>\n",
       "      <th>75%</th>\n",
       "      <td>89.699571</td>\n",
       "      <td>81.974249</td>\n",
       "      <td>69.910911</td>\n",
       "      <td>74.207746</td>\n",
       "      <td>69.940476</td>\n",
       "    </tr>\n",
       "    <tr>\n",
       "      <th>max</th>\n",
       "      <td>91.416309</td>\n",
       "      <td>81.974249</td>\n",
       "      <td>76.744186</td>\n",
       "      <td>79.104478</td>\n",
       "      <td>78.571429</td>\n",
       "    </tr>\n",
       "  </tbody>\n",
       "</table>\n",
       "</div>"
      ],
      "text/plain": [
       "        Accuracy  BaselineAcc   F1-score  Precision     Recall\n",
       "count  10.000000    10.000000  10.000000  10.000000  10.000000\n",
       "mean   89.034335    81.974249  68.407107  71.444574  66.071429\n",
       "std     1.249026     0.000000   3.668703   5.028211   6.204959\n",
       "min    87.339056    81.974249  64.242424  64.835165  58.333333\n",
       "25%    88.251073    81.974249  66.021505  68.187831  61.309524\n",
       "50%    88.733906    81.974249  67.275930  71.130952  64.285714\n",
       "75%    89.699571    81.974249  69.910911  74.207746  69.940476\n",
       "max    91.416309    81.974249  76.744186  79.104478  78.571429"
      ]
     },
     "execution_count": 39,
     "metadata": {},
     "output_type": "execute_result"
    }
   ],
   "source": [
    "df_val_scores_bert.describe()"
   ]
  },
  {
   "cell_type": "markdown",
   "metadata": {},
   "source": [
    "### LSTM Variance no overlap"
   ]
  },
  {
   "cell_type": "code",
   "execution_count": 40,
   "metadata": {},
   "outputs": [],
   "source": [
    "#cm format Confusion matrix: tn, fp, fn, tp\n",
    "\n",
    "# val_scores_bilstm = {\"aimed-bilstm-split-2019-11-27-06-39-08-788/algo-1-1574836892\":  [0.5474452554744526, 0.646551724137931, 0.5928853754940712] \n",
    "#              ,\"aimed-bilstm-split-2019-11-27-06-38-40-798/algo-1-1574836867\":[0.5483870967741935, 0.5862068965517241, 0.5666666666666665]\n",
    "#             ,\"aimed-bilstm-split-2019-11-27-06-38-11-353/algo-1-1574836842\":[0.6018518518518519, 0.5603448275862069, 0.5803571428571428]\n",
    "#              ,\"aimed-bilstm-split-2019-11-27-06-37-44-821/algo-1-1574836805\":[0.6017699115044248, 0.5862068965517241, 0.593886462882096]\n",
    "#               ,\"aimed-bilstm-split-2019-11-27-06-37-15-734/algo-1-1574836784\":[0.63, 0.5431034482758621, 0.5833333333333334]\n",
    "#               ,\"aimed-bilstm-split-2019-11-27-06-36-08-149/algo-1-1574836753\":[0.5433070866141733, 0.5948275862068966, 0.567901234567901]\n",
    "#               ,\"aimed-bilstm-split-2019-11-27-06-35-12-977/algo-1-1574836710\":[0.6057692307692307, 0.5431034482758621, 0.5727272727272726]\n",
    "#               ,\"aimed-bilstm-split-2019-11-27-06-34-33-811/algo-1-1574836631\":[0.5887850467289719, 0.5431034482758621, 0.5650224215246636]\n",
    "#               ,\"aimed-bilstm-split-2019-11-27-06-33-56-153/algo-1-1574836619\":[0.5692307692307692, 0.6379310344827587, 0.6016260162601627]\n",
    "#               ,\"aimed-bilstm-split-2019-11-27-06-33-07-585/algo-1-1574836554\":[0.5588235294117647, 0.6551724137931034, 0.6031746031746031]\n",
    "#              }\n",
    "\n"
   ]
  },
  {
   "cell_type": "code",
   "execution_count": 41,
   "metadata": {},
   "outputs": [],
   "source": [
    "bilstm_job_name = [\"aimed-bilstm-split-2019-12-27-07-28-15-601\",\n",
    "\"aimed-bilstm-split-2019-12-27-07-28-02-071\",\n",
    "\"aimed-bilstm-split-2019-12-27-07-27-54-082\",\n",
    "\"aimed-bilstm-split-2019-12-27-07-27-37-532\",\n",
    "\"aimed-bilstm-split-2019-12-27-07-27-22-429\",\n",
    "\"aimed-bilstm-split-2019-12-27-07-27-09-765\",\n",
    "\"aimed-bilstm-split-2019-12-27-07-26-58-798\",\n",
    "\"aimed-bilstm-split-2019-12-27-07-26-40-188\",\n",
    "\"aimed-bilstm-split-2019-12-27-07-26-29-719\",\n",
    "\"aimed-bilstm-split-2019-12-27-07-26-13-355\"]"
   ]
  },
  {
   "cell_type": "code",
   "execution_count": 46,
   "metadata": {},
   "outputs": [],
   "source": [
    "scores_bilstm = {}\n",
    "for j in bilstm_job_name:\n",
    "    l = get_log_name(j)\n",
    "    (p,r,f) = get_prf_bilstm([l])\n",
    "    cm  = get_confusion_matrix_bilstm([l]) \n",
    "    scores_bilstm[j] = {\"fpr\":(p,r,f) , \"cm\" : cm }\n",
    "\n"
   ]
  },
  {
   "cell_type": "code",
   "execution_count": 47,
   "metadata": {},
   "outputs": [
    {
     "data": {
      "text/plain": [
       "466"
      ]
     },
     "execution_count": 47,
     "metadata": {},
     "output_type": "execute_result"
    }
   ],
   "source": [
    "sum(list(scores_bilstm[\"aimed-bilstm-split-2019-12-27-07-26-13-355\"][\"cm\"].values()))"
   ]
  },
  {
   "cell_type": "code",
   "execution_count": 48,
   "metadata": {},
   "outputs": [
    {
     "data": {
      "text/html": [
       "<div>\n",
       "<style scoped>\n",
       "    .dataframe tbody tr th:only-of-type {\n",
       "        vertical-align: middle;\n",
       "    }\n",
       "\n",
       "    .dataframe tbody tr th {\n",
       "        vertical-align: top;\n",
       "    }\n",
       "\n",
       "    .dataframe thead th {\n",
       "        text-align: right;\n",
       "    }\n",
       "</style>\n",
       "<table border=\"1\" class=\"dataframe\">\n",
       "  <thead>\n",
       "    <tr style=\"text-align: right;\">\n",
       "      <th></th>\n",
       "      <th>Accuracy</th>\n",
       "      <th>BaselineAcc</th>\n",
       "      <th>F1-score</th>\n",
       "      <th>Precision</th>\n",
       "      <th>Recall</th>\n",
       "    </tr>\n",
       "  </thead>\n",
       "  <tbody>\n",
       "    <tr>\n",
       "      <th>count</th>\n",
       "      <td>10.000000</td>\n",
       "      <td>10.000000</td>\n",
       "      <td>10.000000</td>\n",
       "      <td>10.000000</td>\n",
       "      <td>10.000000</td>\n",
       "    </tr>\n",
       "    <tr>\n",
       "      <th>mean</th>\n",
       "      <td>85.686695</td>\n",
       "      <td>81.974249</td>\n",
       "      <td>62.116127</td>\n",
       "      <td>59.938676</td>\n",
       "      <td>65.238095</td>\n",
       "    </tr>\n",
       "    <tr>\n",
       "      <th>std</th>\n",
       "      <td>1.346033</td>\n",
       "      <td>0.000000</td>\n",
       "      <td>2.452981</td>\n",
       "      <td>4.464460</td>\n",
       "      <td>6.659104</td>\n",
       "    </tr>\n",
       "    <tr>\n",
       "      <th>min</th>\n",
       "      <td>82.832618</td>\n",
       "      <td>81.974249</td>\n",
       "      <td>59.016393</td>\n",
       "      <td>51.694915</td>\n",
       "      <td>54.761905</td>\n",
       "    </tr>\n",
       "    <tr>\n",
       "      <th>25%</th>\n",
       "      <td>85.515021</td>\n",
       "      <td>81.974249</td>\n",
       "      <td>60.566491</td>\n",
       "      <td>58.608491</td>\n",
       "      <td>61.011905</td>\n",
       "    </tr>\n",
       "    <tr>\n",
       "      <th>50%</th>\n",
       "      <td>86.158798</td>\n",
       "      <td>81.974249</td>\n",
       "      <td>61.540616</td>\n",
       "      <td>60.040250</td>\n",
       "      <td>63.095238</td>\n",
       "    </tr>\n",
       "    <tr>\n",
       "      <th>75%</th>\n",
       "      <td>86.266094</td>\n",
       "      <td>81.974249</td>\n",
       "      <td>63.071084</td>\n",
       "      <td>61.790017</td>\n",
       "      <td>71.130952</td>\n",
       "    </tr>\n",
       "    <tr>\n",
       "      <th>max</th>\n",
       "      <td>87.339056</td>\n",
       "      <td>81.974249</td>\n",
       "      <td>66.315789</td>\n",
       "      <td>66.233766</td>\n",
       "      <td>75.000000</td>\n",
       "    </tr>\n",
       "  </tbody>\n",
       "</table>\n",
       "</div>"
      ],
      "text/plain": [
       "        Accuracy  BaselineAcc   F1-score  Precision     Recall\n",
       "count  10.000000    10.000000  10.000000  10.000000  10.000000\n",
       "mean   85.686695    81.974249  62.116127  59.938676  65.238095\n",
       "std     1.346033     0.000000   2.452981   4.464460   6.659104\n",
       "min    82.832618    81.974249  59.016393  51.694915  54.761905\n",
       "25%    85.515021    81.974249  60.566491  58.608491  61.011905\n",
       "50%    86.158798    81.974249  61.540616  60.040250  63.095238\n",
       "75%    86.266094    81.974249  63.071084  61.790017  71.130952\n",
       "max    87.339056    81.974249  66.315789  66.233766  75.000000"
      ]
     },
     "execution_count": 48,
     "metadata": {},
     "output_type": "execute_result"
    }
   ],
   "source": [
    "df_val_scores_bilstm = create_variation_df(scores_bilstm)\n",
    "\n",
    "df_val_scores_bilstm.describe()"
   ]
  },
  {
   "cell_type": "code",
   "execution_count": 57,
   "metadata": {},
   "outputs": [
    {
     "data": {
      "image/png": "[encoded data removed]",
      "text/plain": [
       "<Figure size 720x360 with 2 Axes>"
      ]
     },
     "metadata": {
      "needs_background": "light"
     },
     "output_type": "display_data"
    }
   ],
   "source": [
    "\n",
    "fig, ax = plt.subplots(1,2, figsize=(10, 5))\n",
    "df_val_scores_bilstm[[\"Precision\", \"Recall\", \"F1-score\", \"Accuracy\"]].boxplot(ax=ax[0])\n",
    "df_val_scores_bilstm[[\"Precision\", \"Recall\", \"F1-score\", \"Accuracy\", \"BaselineAcc\"]].plot(ax = ax[1]).legend(bbox_to_anchor=(1, -0.1))\n",
    "\n",
    "plt.savefig(\"score_variation_aimed_bilstm.png\", bbox_inches='tight')\n",
    "\n",
    "\n",
    "\n",
    "\n",
    "\n"
   ]
  },
  {
   "cell_type": "code",
   "execution_count": 50,
   "metadata": {},
   "outputs": [],
   "source": [
    "\n",
    "\n",
    "def normalize(dataset):\n",
    "    dataNorm=((dataset-dataset.min())/(dataset.max()-dataset.min()))\n",
    "    return dataNorm\n",
    "\n",
    "\n",
    "def standardize( df):\n",
    "\n",
    "    avg = df.mean()\n",
    "    stdv = df.std()\n",
    "    series_standardized = (df - avg)/ stdv\n",
    "    return series_standardized\n"
   ]
  },
  {
   "cell_type": "code",
   "execution_count": 51,
   "metadata": {},
   "outputs": [
    {
     "data": {
      "text/html": [
       "<div>\n",
       "<style scoped>\n",
       "    .dataframe tbody tr th:only-of-type {\n",
       "        vertical-align: middle;\n",
       "    }\n",
       "\n",
       "    .dataframe tbody tr th {\n",
       "        vertical-align: top;\n",
       "    }\n",
       "\n",
       "    .dataframe thead th {\n",
       "        text-align: right;\n",
       "    }\n",
       "</style>\n",
       "<table border=\"1\" class=\"dataframe\">\n",
       "  <thead>\n",
       "    <tr style=\"text-align: right;\">\n",
       "      <th></th>\n",
       "      <th>Accuracy</th>\n",
       "      <th>BaselineAcc</th>\n",
       "      <th>F1-score</th>\n",
       "      <th>Precision</th>\n",
       "      <th>Recall</th>\n",
       "    </tr>\n",
       "  </thead>\n",
       "  <tbody>\n",
       "    <tr>\n",
       "      <th>count</th>\n",
       "      <td>1.000000e+01</td>\n",
       "      <td>0.0</td>\n",
       "      <td>1.000000e+01</td>\n",
       "      <td>1.000000e+01</td>\n",
       "      <td>1.000000e+01</td>\n",
       "    </tr>\n",
       "    <tr>\n",
       "      <th>mean</th>\n",
       "      <td>7.371881e-15</td>\n",
       "      <td>NaN</td>\n",
       "      <td>1.443290e-15</td>\n",
       "      <td>1.998401e-16</td>\n",
       "      <td>-5.329071e-16</td>\n",
       "    </tr>\n",
       "    <tr>\n",
       "      <th>std</th>\n",
       "      <td>1.000000e+00</td>\n",
       "      <td>NaN</td>\n",
       "      <td>1.000000e+00</td>\n",
       "      <td>1.000000e+00</td>\n",
       "      <td>1.000000e+00</td>\n",
       "    </tr>\n",
       "    <tr>\n",
       "      <th>min</th>\n",
       "      <td>-2.120362e+00</td>\n",
       "      <td>NaN</td>\n",
       "      <td>-1.263660e+00</td>\n",
       "      <td>-1.846530e+00</td>\n",
       "      <td>-1.573213e+00</td>\n",
       "    </tr>\n",
       "    <tr>\n",
       "      <th>25%</th>\n",
       "      <td>-1.275405e-01</td>\n",
       "      <td>NaN</td>\n",
       "      <td>-6.317358e-01</td>\n",
       "      <td>-2.979500e-01</td>\n",
       "      <td>-6.346485e-01</td>\n",
       "    </tr>\n",
       "    <tr>\n",
       "      <th>50%</th>\n",
       "      <td>3.507365e-01</td>\n",
       "      <td>NaN</td>\n",
       "      <td>-2.346167e-01</td>\n",
       "      <td>2.275171e-02</td>\n",
       "      <td>-3.217936e-01</td>\n",
       "    </tr>\n",
       "    <tr>\n",
       "      <th>75%</th>\n",
       "      <td>4.304493e-01</td>\n",
       "      <td>NaN</td>\n",
       "      <td>3.893047e-01</td>\n",
       "      <td>4.146842e-01</td>\n",
       "      <td>8.849325e-01</td>\n",
       "    </tr>\n",
       "    <tr>\n",
       "      <th>max</th>\n",
       "      <td>1.227578e+00</td>\n",
       "      <td>NaN</td>\n",
       "      <td>1.712065e+00</td>\n",
       "      <td>1.410045e+00</td>\n",
       "      <td>1.465949e+00</td>\n",
       "    </tr>\n",
       "  </tbody>\n",
       "</table>\n",
       "</div>"
      ],
      "text/plain": [
       "           Accuracy  BaselineAcc      F1-score     Precision        Recall\n",
       "count  1.000000e+01          0.0  1.000000e+01  1.000000e+01  1.000000e+01\n",
       "mean   7.371881e-15          NaN  1.443290e-15  1.998401e-16 -5.329071e-16\n",
       "std    1.000000e+00          NaN  1.000000e+00  1.000000e+00  1.000000e+00\n",
       "min   -2.120362e+00          NaN -1.263660e+00 -1.846530e+00 -1.573213e+00\n",
       "25%   -1.275405e-01          NaN -6.317358e-01 -2.979500e-01 -6.346485e-01\n",
       "50%    3.507365e-01          NaN -2.346167e-01  2.275171e-02 -3.217936e-01\n",
       "75%    4.304493e-01          NaN  3.893047e-01  4.146842e-01  8.849325e-01\n",
       "max    1.227578e+00          NaN  1.712065e+00  1.410045e+00  1.465949e+00"
      ]
     },
     "execution_count": 51,
     "metadata": {},
     "output_type": "execute_result"
    }
   ],
   "source": [
    "\n",
    "\n",
    "df_val_scores_bilstm_norm =standardize(df_val_scores_bilstm)\n",
    "\n",
    "df_val_scores_bilstm_norm.describe()"
   ]
  },
  {
   "cell_type": "code",
   "execution_count": null,
   "metadata": {},
   "outputs": [],
   "source": [
    "sum([441   , 59 ,   39,    69])"
   ]
  },
  {
   "cell_type": "code",
   "execution_count": null,
   "metadata": {},
   "outputs": [],
   "source": [
    "#bert\n",
    "sum([471 ,   39  ,  41  ,  66])\n",
    "#sum([473, 22, 22, 67])"
   ]
  }
 ],
 "metadata": {
  "kernelspec": {
   "display_name": "Python 3",
   "language": "python",
   "name": "python3"
  },
  "language_info": {
   "codemirror_mode": {
    "name": "ipython",
    "version": 3
   },
   "file_extension": ".py",
   "mimetype": "text/x-python",
   "name": "python",
   "nbconvert_exporter": "python",
   "pygments_lexer": "ipython3",
   "version": "3.7.4"
  }
 },
 "nbformat": 4,
 "nbformat_minor": 2
}
