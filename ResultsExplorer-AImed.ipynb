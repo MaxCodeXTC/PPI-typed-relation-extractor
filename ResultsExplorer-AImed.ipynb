{
 "cells": [
  {
   "cell_type": "code",
   "execution_count": 29,
   "metadata": {},
   "outputs": [],
   "source": [
    "#s3_data =\"s3://aegovan-data/test_unique_pub_v3_lessnegatve_predicted_linear.json\"\n",
    "data_dir = \"temp\""
   ]
  },
  {
   "cell_type": "code",
   "execution_count": 30,
   "metadata": {},
   "outputs": [
    {
     "name": "stdout",
     "output_type": "stream",
     "text": [
      "download: s3://aegovan-data/results/model_PpiAimedDataset_CnnPos_190911_0942/training_scores_epoch_Objectdump_20190912_075853_3a1a9b94-edce-4556-a503-6c57ed1168c3.json to temp/training_scores_epoch_Objectdump_20190912_075853_3a1a9b94-edce-4556-a503-6c57ed1168c3.json\n",
      "download: s3://aegovan-data/results/model_PpiAimedDataset_CnnPos_190911_0942/validation_scores_epoch_Objectdump_20190912_075853_8946a305-64af-4e66-8754-1ed975a31166.json to temp/validation_scores_epoch_Objectdump_20190912_075853_8946a305-64af-4e66-8754-1ed975a31166.json\n",
      "download: s3://aegovan-data/results/model_PpiAimedDataset_CnnPos_190911_0942/run.log to temp/run.log\n",
      "download: s3://aegovan-data/results/model_PpiAimedDataset_CnnPos_190911_0942/predicted_AIMedval.json to temp/predicted_AIMedval.json\n",
      "download: s3://aegovan-data/results/model_PpiAimedDataset_CnnPos_190911_0942/predicted_AIMedtest.json to temp/predicted_AIMedtest.json\n"
     ]
    }
   ],
   "source": [
    "!rm -rf $data_dir\n",
    "!mkdir $data_dir\n",
    "!aws s3 cp s3://aegovan-data/results/model_PpiAimedDataset_CnnPos_190911_0942 $data_dir --recursive --exclude \"*\"  --include \"*.json\" --exclude \"*vocab.json\" --include \"*.log\""
   ]
  },
  {
   "cell_type": "code",
   "execution_count": 31,
   "metadata": {},
   "outputs": [
    {
     "name": "stdout",
     "output_type": "stream",
     "text": [
      "predicted_AIMedtest.json\r\n",
      "predicted_AIMedval.json\r\n",
      "run.log\r\n",
      "training_scores_epoch_Objectdump_20190912_075853_3a1a9b94-edce-4556-a503-6c57ed1168c3.json\r\n",
      "validation_scores_epoch_Objectdump_20190912_075853_8946a305-64af-4e66-8754-1ed975a31166.json\r\n"
     ]
    }
   ],
   "source": [
    "!ls  $data_dir"
   ]
  },
  {
   "cell_type": "code",
   "execution_count": 32,
   "metadata": {},
   "outputs": [
    {
     "name": "stdout",
     "output_type": "stream",
     "text": [
      "commit 7e3d8a5502c029e5c63985d066c3dc21f250d678\r\n"
     ]
    }
   ],
   "source": [
    "!head -1 $data_dir/run.log "
   ]
  },
  {
   "cell_type": "code",
   "execution_count": 33,
   "metadata": {},
   "outputs": [
    {
     "name": "stdout",
     "output_type": "stream",
     "text": [
      "Date:   Wed Sep 11 19:32:29 2019 +1000\r\n",
      "\r\n",
      "    Decrease lstm hidden layer size\r\n",
      "{'dataset': 'PpiAimedDataset', 'trainjson': '/data/AIMedtrain.json', 'valjson': '/data/AIMedval.json', 'embedding': '/data/wikipedia-pubmed-and-PMC-w2v.bin.txt', 'embeddim': 200, 'outdir': '/data/model_PpiAimedDataset_CnnPos_190911_0942', 'epochs': 200, 'interaction_type': None, 'log_level': 'INFO'}\r\n",
      "2019-09-11 09:42:28,462 - __main__ - INFO - The embedding header is 5443656 200\r\n",
      "\r\n",
      "2019-09-11 09:42:28,462 - algorithms.RelationExtractorBiLstmNetwork - INFO - The text feature is index 0, the feature lengths are [150   1   1]\r\n",
      "2019-09-11 09:42:28,463 - algorithms.RelationExtractorBiLstmNetwork - INFO - Word embedding size is 200, pos embedding size is 6, totaldim is 206, hidden_size  100\r\n"
     ]
    }
   ],
   "source": [
    "!head -10 $data_dir/run.log | tail -8"
   ]
  },
  {
   "cell_type": "code",
   "execution_count": 34,
   "metadata": {},
   "outputs": [],
   "source": [
    "import pandas as pd\n",
    "pd.set_option('display.max_columns', None)\n",
    "pd.set_option('display.max_colwidth', 10000)\n",
    "pd.set_option('display.max_rows', 100)"
   ]
  },
  {
   "cell_type": "code",
   "execution_count": 35,
   "metadata": {},
   "outputs": [],
   "source": [
    "import boto3\n",
    "\n",
    "def download_single_file(bucket_name_path, local_path):\n",
    "    index = bucket_name_path.find(\"://\")\n",
    "\n",
    "    # remove the s3:// if present\n",
    "    if index > -1:\n",
    "        bucket_name_path = bucket_name_path[index + 3:]\n",
    "\n",
    "    key_start_index = bucket_name_path.find(\"/\")\n",
    "    bucket_name = bucket_name_path\n",
    "    key = \"/\"\n",
    "    if key_start_index > -1:\n",
    "        bucket_name = bucket_name_path[0:key_start_index]\n",
    "        key = bucket_name_path[key_start_index + 1:]\n",
    "        \n",
    "    client = boto3.resource('s3')\n",
    "    client.Bucket(bucket_name).download_file(key, local_path)\n",
    "\n"
   ]
  },
  {
   "cell_type": "code",
   "execution_count": 36,
   "metadata": {},
   "outputs": [],
   "source": [
    "import glob\n",
    "\n",
    "results_file = \"./{}/predicted_AIMedtest.json\".format(data_dir)\n",
    "validation_fit_file = glob.glob(\"{}/validation_scores_epoch_Objectdump*.json\".format(data_dir))[0]\n",
    "train_fit_file = glob.glob(\"{}/training_scores_epoch_Objectdump*.json\".format(data_dir))[0]\n",
    "\n",
    "\n",
    "pos_label = True"
   ]
  },
  {
   "cell_type": "code",
   "execution_count": 37,
   "metadata": {},
   "outputs": [],
   "source": [
    "#download_single_file(s3_data, results_file)"
   ]
  },
  {
   "cell_type": "code",
   "execution_count": 38,
   "metadata": {},
   "outputs": [],
   "source": [
    "import pandas as pd"
   ]
  },
  {
   "cell_type": "code",
   "execution_count": 39,
   "metadata": {},
   "outputs": [],
   "source": [
    "df_results = pd.read_json(results_file)\n",
    "df_results[\"actual\"] = df_results[\"isValid\"]"
   ]
  },
  {
   "cell_type": "code",
   "execution_count": 40,
   "metadata": {},
   "outputs": [
    {
     "data": {
      "text/html": [
       "<div>\n",
       "<style scoped>\n",
       "    .dataframe tbody tr th:only-of-type {\n",
       "        vertical-align: middle;\n",
       "    }\n",
       "\n",
       "    .dataframe tbody tr th {\n",
       "        vertical-align: top;\n",
       "    }\n",
       "\n",
       "    .dataframe thead th {\n",
       "        text-align: right;\n",
       "    }\n",
       "</style>\n",
       "<table border=\"1\" class=\"dataframe\">\n",
       "  <thead>\n",
       "    <tr style=\"text-align: right;\">\n",
       "      <th></th>\n",
       "      <th>docid</th>\n",
       "      <th>isValid</th>\n",
       "      <th>line_no</th>\n",
       "      <th>participant1</th>\n",
       "      <th>participant2</th>\n",
       "      <th>passage</th>\n",
       "      <th>predicted</th>\n",
       "      <th>confidence_scores</th>\n",
       "      <th>confidence_true</th>\n",
       "      <th>confidence_false</th>\n",
       "      <th>actual</th>\n",
       "    </tr>\n",
       "  </thead>\n",
       "  <tbody>\n",
       "    <tr>\n",
       "      <th>0</th>\n",
       "      <td>abstract_11780382</td>\n",
       "      <td>False</td>\n",
       "      <td>6</td>\n",
       "      <td>IFN - alpha</td>\n",
       "      <td>IL - 4</td>\n",
       "      <td>Cytokines measurements during IFN - alpha treatment showed a trend to decreasing levels of IL - 4 at 4 , 12 , and 24 weeks .</td>\n",
       "      <td>False</td>\n",
       "      <td>{'False': 10.2667818069, 'True': -8.8057451248}</td>\n",
       "      <td>0.000150</td>\n",
       "      <td>28761.179044</td>\n",
       "      <td>False</td>\n",
       "    </tr>\n",
       "    <tr>\n",
       "      <th>1</th>\n",
       "      <td>abstract_11780382</td>\n",
       "      <td>False</td>\n",
       "      <td>7</td>\n",
       "      <td>IFN - alpha</td>\n",
       "      <td>IFN - gamma</td>\n",
       "      <td>Levels of IFN - gamma were slightly increased following IFN - alpha treatment ( P = 0.09 ) .</td>\n",
       "      <td>False</td>\n",
       "      <td>{'False': 9.5338916779, 'True': -8.166425705}</td>\n",
       "      <td>0.000284</td>\n",
       "      <td>13820.270606</td>\n",
       "      <td>False</td>\n",
       "    </tr>\n",
       "    <tr>\n",
       "      <th>1020</th>\n",
       "      <td>abstract_for_1833068</td>\n",
       "      <td>False</td>\n",
       "      <td>1</td>\n",
       "      <td>CDC2</td>\n",
       "      <td>cyclin E</td>\n",
       "      <td>TI - Human cyclin E , a new cyclin that interacts with two members of the CDC2 gene family .</td>\n",
       "      <td>False</td>\n",
       "      <td>{'False': 13.3414592743, 'True': -9.973110199}</td>\n",
       "      <td>0.000047</td>\n",
       "      <td>622475.328928</td>\n",
       "      <td>False</td>\n",
       "    </tr>\n",
       "  </tbody>\n",
       "</table>\n",
       "</div>"
      ],
      "text/plain": [
       "                     docid  isValid  line_no participant1 participant2  \\\n",
       "0        abstract_11780382    False        6  IFN - alpha       IL - 4   \n",
       "1        abstract_11780382    False        7  IFN - alpha  IFN - gamma   \n",
       "1020  abstract_for_1833068    False        1         CDC2     cyclin E   \n",
       "\n",
       "                                                                                                                            passage  \\\n",
       "0     Cytokines measurements during IFN - alpha treatment showed a trend to decreasing levels of IL - 4 at 4 , 12 , and 24 weeks .    \n",
       "1                                     Levels of IFN - gamma were slightly increased following IFN - alpha treatment ( P = 0.09 ) .    \n",
       "1020                                  TI - Human cyclin E , a new cyclin that interacts with two members of the CDC2 gene family .    \n",
       "\n",
       "      predicted                                confidence_scores  \\\n",
       "0         False  {'False': 10.2667818069, 'True': -8.8057451248}   \n",
       "1         False    {'False': 9.5338916779, 'True': -8.166425705}   \n",
       "1020      False   {'False': 13.3414592743, 'True': -9.973110199}   \n",
       "\n",
       "      confidence_true  confidence_false  actual  \n",
       "0            0.000150      28761.179044   False  \n",
       "1            0.000284      13820.270606   False  \n",
       "1020         0.000047     622475.328928   False  "
      ]
     },
     "execution_count": 40,
     "metadata": {},
     "output_type": "execute_result"
    }
   ],
   "source": [
    "df_results.head(n=3)"
   ]
  },
  {
   "cell_type": "code",
   "execution_count": 41,
   "metadata": {},
   "outputs": [
    {
     "data": {
      "text/plain": [
       "Index(['docid', 'isValid', 'line_no', 'participant1', 'participant2',\n",
       "       'passage', 'predicted', 'confidence_scores', 'confidence_true',\n",
       "       'confidence_false', 'actual'],\n",
       "      dtype='object')"
      ]
     },
     "execution_count": 41,
     "metadata": {},
     "output_type": "execute_result"
    }
   ],
   "source": [
    "df_results.columns\n"
   ]
  },
  {
   "cell_type": "markdown",
   "metadata": {},
   "source": [
    "## Analyse Results"
   ]
  },
  {
   "cell_type": "code",
   "execution_count": 42,
   "metadata": {},
   "outputs": [],
   "source": [
    "import matplotlib.pyplot as plt\n",
    "plt.rcParams.update({'font.size': 14})"
   ]
  },
  {
   "cell_type": "code",
   "execution_count": 43,
   "metadata": {},
   "outputs": [],
   "source": [
    "df = df_results"
   ]
  },
  {
   "cell_type": "code",
   "execution_count": 44,
   "metadata": {},
   "outputs": [
    {
     "data": {
      "text/plain": [
       "(590, 11)"
      ]
     },
     "execution_count": 44,
     "metadata": {},
     "output_type": "execute_result"
    }
   ],
   "source": [
    "df_results.shape"
   ]
  },
  {
   "cell_type": "code",
   "execution_count": 45,
   "metadata": {},
   "outputs": [
    {
     "data": {
      "text/html": [
       "<div>\n",
       "<style scoped>\n",
       "    .dataframe tbody tr th:only-of-type {\n",
       "        vertical-align: middle;\n",
       "    }\n",
       "\n",
       "    .dataframe tbody tr th {\n",
       "        vertical-align: top;\n",
       "    }\n",
       "\n",
       "    .dataframe thead th {\n",
       "        text-align: right;\n",
       "    }\n",
       "</style>\n",
       "<table border=\"1\" class=\"dataframe\">\n",
       "  <thead>\n",
       "    <tr style=\"text-align: right;\">\n",
       "      <th></th>\n",
       "      <th>true</th>\n",
       "      <th>false</th>\n",
       "      <th>actual</th>\n",
       "      <th>predicted</th>\n",
       "      <th>confidence_scores</th>\n",
       "    </tr>\n",
       "  </thead>\n",
       "  <tbody>\n",
       "    <tr>\n",
       "      <th>1881</th>\n",
       "      <td>296.950049</td>\n",
       "      <td>0.000003</td>\n",
       "      <td>True</td>\n",
       "      <td>True</td>\n",
       "      <td>{'False': -12.805332183800001, 'True': 5.6935639381000005}</td>\n",
       "    </tr>\n",
       "    <tr>\n",
       "      <th>2237</th>\n",
       "      <td>197.879774</td>\n",
       "      <td>0.000009</td>\n",
       "      <td>True</td>\n",
       "      <td>True</td>\n",
       "      <td>{'False': -11.594827652, 'True': 5.2876596451}</td>\n",
       "    </tr>\n",
       "    <tr>\n",
       "      <th>1858</th>\n",
       "      <td>97.059904</td>\n",
       "      <td>0.000009</td>\n",
       "      <td>True</td>\n",
       "      <td>True</td>\n",
       "      <td>{'False': -11.6139221191, 'True': 4.5753283501}</td>\n",
       "    </tr>\n",
       "  </tbody>\n",
       "</table>\n",
       "</div>"
      ],
      "text/plain": [
       "            true     false  actual  predicted  \\\n",
       "1881  296.950049  0.000003    True       True   \n",
       "2237  197.879774  0.000009    True       True   \n",
       "1858   97.059904  0.000009    True       True   \n",
       "\n",
       "                                               confidence_scores  \n",
       "1881  {'False': -12.805332183800001, 'True': 5.6935639381000005}  \n",
       "2237              {'False': -11.594827652, 'True': 5.2876596451}  \n",
       "1858             {'False': -11.6139221191, 'True': 4.5753283501}  "
      ]
     },
     "execution_count": 45,
     "metadata": {},
     "output_type": "execute_result"
    }
   ],
   "source": [
    "import math\n",
    "\n",
    "# This is log softmax, convert to softmax prob\n",
    "df[\"true\"]  =df[\"confidence_scores\"].apply(lambda x: math.exp(x[\"True\"]))\n",
    "df[\"false\"]  =df[\"confidence_scores\"].apply(lambda x: math.exp(x[\"False\"]))\n",
    "\n",
    "df[ [\"true\", \"false\", \"actual\", \"predicted\", \"confidence_scores\"]].sort_values([\"true\"], ascending=False).head(n=3)"
   ]
  },
  {
   "cell_type": "code",
   "execution_count": 46,
   "metadata": {},
   "outputs": [
    {
     "name": "stdout",
     "output_type": "stream",
     "text": [
      "The F1 score is 0.5 and the accuracy is 0.8338983050847457\n"
     ]
    }
   ],
   "source": [
    "from sklearn.metrics import f1_score, accuracy_score\n",
    "\n",
    "f1 = f1_score(df[\"actual\"], df[\"predicted\"], sample_weight=None)  \n",
    "accuracy = accuracy_score(df[\"actual\"], df[\"predicted\"], sample_weight=None)\n",
    "print(\"The F1 score is {} and the accuracy is {}\".format(f1, accuracy))\n",
    "\n"
   ]
  },
  {
   "cell_type": "code",
   "execution_count": 47,
   "metadata": {},
   "outputs": [
    {
     "name": "stdout",
     "output_type": "stream",
     "text": [
      "Requirement already satisfied: scikit-plot==0.3.7 in /Users/aeg/miniconda/envs/untitled2/lib/python3.6/site-packages (0.3.7)\n",
      "Requirement already satisfied: scipy>=0.9 in /Users/aeg/miniconda/envs/untitled2/lib/python3.6/site-packages (from scikit-plot==0.3.7) (1.1.0)\n",
      "Requirement already satisfied: matplotlib>=1.4.0 in /Users/aeg/miniconda/envs/untitled2/lib/python3.6/site-packages (from scikit-plot==0.3.7) (3.0.0)\n",
      "Requirement already satisfied: scikit-learn>=0.18 in /Users/aeg/miniconda/envs/untitled2/lib/python3.6/site-packages (from scikit-plot==0.3.7) (0.21.2)\n",
      "Requirement already satisfied: joblib>=0.10 in /Users/aeg/miniconda/envs/untitled2/lib/python3.6/site-packages (from scikit-plot==0.3.7) (0.13.2)\n",
      "Requirement already satisfied: pyparsing!=2.0.4,!=2.1.2,!=2.1.6,>=2.0.1 in /Users/aeg/miniconda/envs/untitled2/lib/python3.6/site-packages (from matplotlib>=1.4.0->scikit-plot==0.3.7) (2.2.0)\n",
      "Requirement already satisfied: numpy>=1.10.0 in /Users/aeg/miniconda/envs/untitled2/lib/python3.6/site-packages (from matplotlib>=1.4.0->scikit-plot==0.3.7) (1.14.1)\n",
      "Requirement already satisfied: python-dateutil>=2.1 in /Users/aeg/miniconda/envs/untitled2/lib/python3.6/site-packages (from matplotlib>=1.4.0->scikit-plot==0.3.7) (2.7.0)\n",
      "Requirement already satisfied: kiwisolver>=1.0.1 in /Users/aeg/miniconda/envs/untitled2/lib/python3.6/site-packages (from matplotlib>=1.4.0->scikit-plot==0.3.7) (1.0.1)\n",
      "Requirement already satisfied: cycler>=0.10 in /Users/aeg/miniconda/envs/untitled2/lib/python3.6/site-packages (from matplotlib>=1.4.0->scikit-plot==0.3.7) (0.10.0)\n",
      "Requirement already satisfied: six>=1.5 in /Users/aeg/miniconda/envs/untitled2/lib/python3.6/site-packages (from python-dateutil>=2.1->matplotlib>=1.4.0->scikit-plot==0.3.7) (1.11.0)\n",
      "Requirement already satisfied: setuptools in /Users/aeg/.local/lib/python3.6/site-packages (from kiwisolver>=1.0.1->matplotlib>=1.4.0->scikit-plot==0.3.7) (39.1.0)\n",
      "\u001b[31mawsebcli 3.12.4 has requirement requests<=2.9.1,>=2.6.1, but you'll have requests 2.18.4 which is incompatible.\u001b[0m\n",
      "\u001b[31mspacy 2.1.8 has requirement numpy>=1.15.0, but you'll have numpy 1.14.1 which is incompatible.\u001b[0m\n",
      "\u001b[31mblis 0.2.4 has requirement numpy>=1.15.0, but you'll have numpy 1.14.1 which is incompatible.\u001b[0m\n",
      "\u001b[33mYou are using pip version 10.0.1, however version 19.2.3 is available.\n",
      "You should consider upgrading via the 'pip install --upgrade pip' command.\u001b[0m\n"
     ]
    }
   ],
   "source": [
    "!pip install scikit-plot==0.3.7"
   ]
  },
  {
   "cell_type": "code",
   "execution_count": 48,
   "metadata": {},
   "outputs": [
    {
     "data": {
      "image/png": "[encoded data removed]",
      "text/plain": [
       "<Figure size 432x288 with 2 Axes>"
      ]
     },
     "metadata": {},
     "output_type": "display_data"
    }
   ],
   "source": [
    "import matplotlib.pyplot as plt\n",
    "import scikitplot as skplt\n",
    "\n",
    "skplt.metrics.plot_confusion_matrix(df[\"actual\"], df[\"predicted\"], normalize=True )\n",
    "plt.show()"
   ]
  },
  {
   "cell_type": "code",
   "execution_count": 49,
   "metadata": {},
   "outputs": [
    {
     "data": {
      "image/png": "[encoded data removed]",
      "text/plain": [
       "<Figure size 432x288 with 2 Axes>"
      ]
     },
     "metadata": {},
     "output_type": "display_data"
    }
   ],
   "source": [
    "import matplotlib.pyplot as plt\n",
    "import scikitplot as skplt\n",
    "\n",
    "skplt.metrics.plot_confusion_matrix(df[\"actual\"], df[\"predicted\"], normalize=False )\n",
    "plt.show()"
   ]
  },
  {
   "cell_type": "code",
   "execution_count": 50,
   "metadata": {},
   "outputs": [
    {
     "data": {
      "text/plain": [
       "<matplotlib.axes._subplots.AxesSubplot at 0x10dfb0780>"
      ]
     },
     "execution_count": 50,
     "metadata": {},
     "output_type": "execute_result"
    },
    {
     "data": {
      "image/png": "[encoded data removed]",
      "text/plain": [
       "<Figure size 432x288 with 1 Axes>"
      ]
     },
     "metadata": {},
     "output_type": "display_data"
    }
   ],
   "source": [
    "import matplotlib.pyplot as plt\n",
    "import scikitplot as skplt\n",
    "\n",
    "skplt.metrics.plot_precision_recall(df[\"actual\"], df[[\"false\", \"true\"]])"
   ]
  },
  {
   "cell_type": "markdown",
   "metadata": {},
   "source": [
    "## Training / Validation epoch fit"
   ]
  },
  {
   "cell_type": "code",
   "execution_count": 51,
   "metadata": {},
   "outputs": [],
   "source": [
    "import json\n",
    "import pandas as pd\n",
    "from pandas.io.json import json_normalize\n",
    "\n",
    "def load_as_df (file):\n",
    "    with open(file, \"r\") as i:\n",
    "        data = json.loads(i.read())\n",
    "        \n",
    "    return json_normalize(data)\n",
    "    "
   ]
  },
  {
   "cell_type": "code",
   "execution_count": 52,
   "metadata": {},
   "outputs": [
    {
     "data": {
      "text/html": [
       "<div>\n",
       "<style scoped>\n",
       "    .dataframe tbody tr th:only-of-type {\n",
       "        vertical-align: middle;\n",
       "    }\n",
       "\n",
       "    .dataframe tbody tr th {\n",
       "        vertical-align: top;\n",
       "    }\n",
       "\n",
       "    .dataframe thead th {\n",
       "        text-align: right;\n",
       "    }\n",
       "</style>\n",
       "<table border=\"1\" class=\"dataframe\">\n",
       "  <thead>\n",
       "    <tr style=\"text-align: right;\">\n",
       "      <th></th>\n",
       "      <th>epoch</th>\n",
       "      <th>loss</th>\n",
       "      <th>score</th>\n",
       "    </tr>\n",
       "  </thead>\n",
       "  <tbody>\n",
       "    <tr>\n",
       "      <th>53</th>\n",
       "      <td>53</td>\n",
       "      <td>0.571729</td>\n",
       "      <td>99.574468</td>\n",
       "    </tr>\n",
       "    <tr>\n",
       "      <th>50</th>\n",
       "      <td>50</td>\n",
       "      <td>0.345922</td>\n",
       "      <td>99.433428</td>\n",
       "    </tr>\n",
       "    <tr>\n",
       "      <th>49</th>\n",
       "      <td>49</td>\n",
       "      <td>0.478285</td>\n",
       "      <td>99.288762</td>\n",
       "    </tr>\n",
       "    <tr>\n",
       "      <th>48</th>\n",
       "      <td>48</td>\n",
       "      <td>0.601827</td>\n",
       "      <td>99.150142</td>\n",
       "    </tr>\n",
       "    <tr>\n",
       "      <th>51</th>\n",
       "      <td>51</td>\n",
       "      <td>1.174974</td>\n",
       "      <td>98.734177</td>\n",
       "    </tr>\n",
       "    <tr>\n",
       "      <th>47</th>\n",
       "      <td>47</td>\n",
       "      <td>1.023985</td>\n",
       "      <td>98.571429</td>\n",
       "    </tr>\n",
       "    <tr>\n",
       "      <th>38</th>\n",
       "      <td>38</td>\n",
       "      <td>1.308520</td>\n",
       "      <td>98.016997</td>\n",
       "    </tr>\n",
       "    <tr>\n",
       "      <th>41</th>\n",
       "      <td>41</td>\n",
       "      <td>1.229629</td>\n",
       "      <td>98.011364</td>\n",
       "    </tr>\n",
       "    <tr>\n",
       "      <th>46</th>\n",
       "      <td>46</td>\n",
       "      <td>1.625579</td>\n",
       "      <td>97.727273</td>\n",
       "    </tr>\n",
       "    <tr>\n",
       "      <th>37</th>\n",
       "      <td>37</td>\n",
       "      <td>1.351546</td>\n",
       "      <td>97.720798</td>\n",
       "    </tr>\n",
       "  </tbody>\n",
       "</table>\n",
       "</div>"
      ],
      "text/plain": [
       "    epoch      loss      score\n",
       "53     53  0.571729  99.574468\n",
       "50     50  0.345922  99.433428\n",
       "49     49  0.478285  99.288762\n",
       "48     48  0.601827  99.150142\n",
       "51     51  1.174974  98.734177\n",
       "47     47  1.023985  98.571429\n",
       "38     38  1.308520  98.016997\n",
       "41     41  1.229629  98.011364\n",
       "46     46  1.625579  97.727273\n",
       "37     37  1.351546  97.720798"
      ]
     },
     "execution_count": 52,
     "metadata": {},
     "output_type": "execute_result"
    }
   ],
   "source": [
    "df_train_fit = load_as_df(train_fit_file)\n",
    "df_train_fit[\"score\"] = df_train_fit[\"score\"] * 100\n",
    "df_train_fit.sort_values([\"score\"], ascending=False).head(n=10)\n"
   ]
  },
  {
   "cell_type": "code",
   "execution_count": 58,
   "metadata": {},
   "outputs": [
    {
     "data": {
      "text/html": [
       "<div>\n",
       "<style scoped>\n",
       "    .dataframe tbody tr th:only-of-type {\n",
       "        vertical-align: middle;\n",
       "    }\n",
       "\n",
       "    .dataframe tbody tr th {\n",
       "        vertical-align: top;\n",
       "    }\n",
       "\n",
       "    .dataframe thead th {\n",
       "        text-align: right;\n",
       "    }\n",
       "</style>\n",
       "<table border=\"1\" class=\"dataframe\">\n",
       "  <thead>\n",
       "    <tr style=\"text-align: right;\">\n",
       "      <th></th>\n",
       "      <th>epoch</th>\n",
       "      <th>loss</th>\n",
       "      <th>score</th>\n",
       "    </tr>\n",
       "  </thead>\n",
       "  <tbody>\n",
       "    <tr>\n",
       "      <th>32</th>\n",
       "      <td>32</td>\n",
       "      <td>9.440964</td>\n",
       "      <td>54.000000</td>\n",
       "    </tr>\n",
       "    <tr>\n",
       "      <th>30</th>\n",
       "      <td>30</td>\n",
       "      <td>7.699352</td>\n",
       "      <td>51.485149</td>\n",
       "    </tr>\n",
       "    <tr>\n",
       "      <th>43</th>\n",
       "      <td>43</td>\n",
       "      <td>11.461142</td>\n",
       "      <td>49.122807</td>\n",
       "    </tr>\n",
       "    <tr>\n",
       "      <th>52</th>\n",
       "      <td>52</td>\n",
       "      <td>11.129231</td>\n",
       "      <td>49.056604</td>\n",
       "    </tr>\n",
       "    <tr>\n",
       "      <th>33</th>\n",
       "      <td>33</td>\n",
       "      <td>9.423465</td>\n",
       "      <td>48.888889</td>\n",
       "    </tr>\n",
       "    <tr>\n",
       "      <th>41</th>\n",
       "      <td>41</td>\n",
       "      <td>10.252062</td>\n",
       "      <td>48.837209</td>\n",
       "    </tr>\n",
       "    <tr>\n",
       "      <th>27</th>\n",
       "      <td>27</td>\n",
       "      <td>8.893841</td>\n",
       "      <td>48.192771</td>\n",
       "    </tr>\n",
       "    <tr>\n",
       "      <th>28</th>\n",
       "      <td>28</td>\n",
       "      <td>7.912841</td>\n",
       "      <td>47.619048</td>\n",
       "    </tr>\n",
       "    <tr>\n",
       "      <th>46</th>\n",
       "      <td>46</td>\n",
       "      <td>9.901287</td>\n",
       "      <td>47.619048</td>\n",
       "    </tr>\n",
       "    <tr>\n",
       "      <th>21</th>\n",
       "      <td>21</td>\n",
       "      <td>7.287663</td>\n",
       "      <td>47.482014</td>\n",
       "    </tr>\n",
       "  </tbody>\n",
       "</table>\n",
       "</div>"
      ],
      "text/plain": [
       "    epoch       loss      score\n",
       "32     32   9.440964  54.000000\n",
       "30     30   7.699352  51.485149\n",
       "43     43  11.461142  49.122807\n",
       "52     52  11.129231  49.056604\n",
       "33     33   9.423465  48.888889\n",
       "41     41  10.252062  48.837209\n",
       "27     27   8.893841  48.192771\n",
       "28     28   7.912841  47.619048\n",
       "46     46   9.901287  47.619048\n",
       "21     21   7.287663  47.482014"
      ]
     },
     "execution_count": 58,
     "metadata": {},
     "output_type": "execute_result"
    }
   ],
   "source": [
    "df_val_fit = load_as_df(validation_fit_file)\n",
    "df_val_fit[\"score\"] = df_val_fit[\"score\"] * 100\n",
    "df_val_fit.sort_values([\"score\"], ascending=False).head(n=10)"
   ]
  },
  {
   "cell_type": "code",
   "execution_count": 54,
   "metadata": {
    "scrolled": true
   },
   "outputs": [
    {
     "data": {
      "image/png": "[encoded data removed]",
      "text/plain": [
       "<Figure size 720x360 with 2 Axes>"
      ]
     },
     "metadata": {},
     "output_type": "display_data"
    }
   ],
   "source": [
    "fig, ax = plt.subplots(1,2, figsize=(10,5))\n",
    "\n",
    "df_train_fit.plot.line(x=\"epoch\", y=\"score\", ax = ax[0], color =\"blue\")\n",
    "df_train_fit.plot.line(x=\"epoch\", y=\"loss\", ax = ax[0], color=\"orange\")\n",
    "ax[0].set_title(\"Training set\")\n",
    "ax[0].yaxis.set_major_locator(plt.FixedLocator( range(0, 100, 10)))\n",
    "\n",
    "df_val_fit.plot.line(x=\"epoch\", y=\"score\", ax = ax[1], color=\"blue\")\n",
    "df_val_fit.plot.line(x=\"epoch\", y=\"loss\", ax = ax[1], color =\"orange\")\n",
    "\n",
    "ax[1].set_title(\"Validation set\")\n",
    "ax[1].yaxis.set_major_locator(plt.FixedLocator(range(0, 100,10)))\n",
    "\n",
    "\n",
    "\n",
    "plt.show()"
   ]
  },
  {
   "cell_type": "markdown",
   "metadata": {},
   "source": [
    "### Threshold "
   ]
  },
  {
   "cell_type": "code",
   "execution_count": 55,
   "metadata": {},
   "outputs": [
    {
     "data": {
      "text/plain": [
       "(99, 13)"
      ]
     },
     "execution_count": 55,
     "metadata": {},
     "output_type": "execute_result"
    }
   ],
   "source": [
    "threshold = .95\n",
    "df_trues = df.query(\"true > {}\".format(threshold))\n",
    "df_trues.shape"
   ]
  },
  {
   "cell_type": "code",
   "execution_count": 56,
   "metadata": {},
   "outputs": [
    {
     "name": "stdout",
     "output_type": "stream",
     "text": [
      "The F1 score is 0.6620689655172414 and the accuracy is 0.5050505050505051, precision 0.5\n"
     ]
    }
   ],
   "source": [
    "from sklearn.metrics import f1_score, accuracy_score, precision_score\n",
    "\n",
    "f1 = f1_score(df_trues[\"actual\"], df_trues[\"predicted\"])  \n",
    "accuracy = accuracy_score(df_trues[\"actual\"], df_trues[\"predicted\"], sample_weight=None)\n",
    "precision = precision_score(df_trues[\"actual\"], df_trues[\"predicted\"], sample_weight=None)\n",
    "\n",
    "\n",
    "print(\"The F1 score is {} and the accuracy is {}, precision {}\".format(f1, accuracy, precision))"
   ]
  }
 ],
 "metadata": {
  "kernelspec": {
   "display_name": "Python 3",
   "language": "python",
   "name": "python3"
  },
  "language_info": {
   "codemirror_mode": {
    "name": "ipython",
    "version": 3
   },
   "file_extension": ".py",
   "mimetype": "text/x-python",
   "name": "python",
   "nbconvert_exporter": "python",
   "pygments_lexer": "ipython3",
   "version": "3.6.4"
  }
 },
 "nbformat": 4,
 "nbformat_minor": 2
}
