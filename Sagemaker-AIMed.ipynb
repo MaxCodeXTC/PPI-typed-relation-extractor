{
 "cells": [
  {
   "cell_type": "markdown",
   "metadata": {},
   "source": [
    "### Set up"
   ]
  },
  {
   "cell_type": "markdown",
   "metadata": {},
   "source": [
    "#### 1. Set  up  accounts and role"
   ]
  },
  {
   "cell_type": "code",
   "execution_count": 1,
   "metadata": {},
   "outputs": [
    {
     "name": "stdout",
     "output_type": "stream",
     "text": [
      "Requirement already satisfied: sagemaker==1.39.0 in /Users/aeg/miniconda/envs/untitled2/lib/python3.6/site-packages (1.39.0)\n",
      "Requirement already satisfied: scipy>=0.19.0 in /Users/aeg/miniconda/envs/untitled2/lib/python3.6/site-packages (from sagemaker==1.39.0) (1.1.0)\n",
      "Requirement already satisfied: numpy>=1.9.0 in /Users/aeg/miniconda/envs/untitled2/lib/python3.6/site-packages (from sagemaker==1.39.0) (1.14.1)\n",
      "Requirement already satisfied: requests<2.21,>=2.20.0 in /Users/aeg/miniconda/envs/untitled2/lib/python3.6/site-packages (from sagemaker==1.39.0) (2.20.1)\n",
      "Requirement already satisfied: urllib3<1.25,>=1.21 in /Users/aeg/miniconda/envs/untitled2/lib/python3.6/site-packages (from sagemaker==1.39.0) (1.22)\n",
      "Requirement already satisfied: protobuf3-to-dict>=0.1.5 in /Users/aeg/miniconda/envs/untitled2/lib/python3.6/site-packages (from sagemaker==1.39.0) (0.1.5)\n",
      "Requirement already satisfied: docker-compose>=1.23.0 in /Users/aeg/miniconda/envs/untitled2/lib/python3.6/site-packages (from sagemaker==1.39.0) (1.24.1)\n",
      "Requirement already satisfied: fabric>=2.0 in /Users/aeg/miniconda/envs/untitled2/lib/python3.6/site-packages (from sagemaker==1.39.0) (2.5.0)\n",
      "Requirement already satisfied: boto3>=1.9.213 in /Users/aeg/miniconda/envs/untitled2/lib/python3.6/site-packages (from sagemaker==1.39.0) (1.9.228)\n",
      "Requirement already satisfied: protobuf>=3.1 in /Users/aeg/miniconda/envs/untitled2/lib/python3.6/site-packages (from sagemaker==1.39.0) (3.6.1)\n",
      "Requirement already satisfied: certifi>=2017.4.17 in /Users/aeg/miniconda/envs/untitled2/lib/python3.6/site-packages (from requests<2.21,>=2.20.0->sagemaker==1.39.0) (2018.1.18)\n",
      "Requirement already satisfied: chardet<3.1.0,>=3.0.2 in /Users/aeg/miniconda/envs/untitled2/lib/python3.6/site-packages (from requests<2.21,>=2.20.0->sagemaker==1.39.0) (3.0.4)\n",
      "Requirement already satisfied: idna<2.8,>=2.5 in /Users/aeg/miniconda/envs/untitled2/lib/python3.6/site-packages (from requests<2.21,>=2.20.0->sagemaker==1.39.0) (2.6)\n",
      "Requirement already satisfied: six in /Users/aeg/miniconda/envs/untitled2/lib/python3.6/site-packages (from protobuf3-to-dict>=0.1.5->sagemaker==1.39.0) (1.11.0)\n",
      "Requirement already satisfied: cached-property<2,>=1.2.0 in /Users/aeg/miniconda/envs/untitled2/lib/python3.6/site-packages (from docker-compose>=1.23.0->sagemaker==1.39.0) (1.5.1)\n",
      "Requirement already satisfied: PyYAML<4.3,>=3.10 in /Users/aeg/.local/lib/python3.6/site-packages (from docker-compose>=1.23.0->sagemaker==1.39.0) (3.12)\n",
      "Requirement already satisfied: websocket-client<1.0,>=0.32.0 in /Users/aeg/.local/lib/python3.6/site-packages (from docker-compose>=1.23.0->sagemaker==1.39.0) (0.47.0)\n",
      "Requirement already satisfied: docopt<0.7,>=0.6.1 in /Users/aeg/.local/lib/python3.6/site-packages (from docker-compose>=1.23.0->sagemaker==1.39.0) (0.6.2)\n",
      "Requirement already satisfied: docker[ssh]<4.0,>=3.7.0 in /Users/aeg/miniconda/envs/untitled2/lib/python3.6/site-packages (from docker-compose>=1.23.0->sagemaker==1.39.0) (3.7.3)\n",
      "Requirement already satisfied: dockerpty<0.5,>=0.4.1 in /Users/aeg/.local/lib/python3.6/site-packages (from docker-compose>=1.23.0->sagemaker==1.39.0) (0.4.1)\n",
      "Requirement already satisfied: texttable<0.10,>=0.9.0 in /Users/aeg/miniconda/envs/untitled2/lib/python3.6/site-packages (from docker-compose>=1.23.0->sagemaker==1.39.0) (0.9.1)\n",
      "Requirement already satisfied: jsonschema<3,>=2.5.1 in /Users/aeg/miniconda/envs/untitled2/lib/python3.6/site-packages (from docker-compose>=1.23.0->sagemaker==1.39.0) (2.6.0)\n",
      "Requirement already satisfied: paramiko>=2.4 in /Users/aeg/miniconda/envs/untitled2/lib/python3.6/site-packages (from fabric>=2.0->sagemaker==1.39.0) (2.6.0)\n",
      "Requirement already satisfied: invoke<2.0,>=1.3 in /Users/aeg/miniconda/envs/untitled2/lib/python3.6/site-packages (from fabric>=2.0->sagemaker==1.39.0) (1.3.0)\n",
      "Requirement already satisfied: botocore<1.13.0,>=1.12.228 in /Users/aeg/miniconda/envs/untitled2/lib/python3.6/site-packages (from boto3>=1.9.213->sagemaker==1.39.0) (1.12.228)\n",
      "Requirement already satisfied: jmespath<1.0.0,>=0.7.1 in /Users/aeg/miniconda/envs/untitled2/lib/python3.6/site-packages (from boto3>=1.9.213->sagemaker==1.39.0) (0.9.3)\n",
      "Requirement already satisfied: s3transfer<0.3.0,>=0.2.0 in /Users/aeg/miniconda/envs/untitled2/lib/python3.6/site-packages (from boto3>=1.9.213->sagemaker==1.39.0) (0.2.1)\n",
      "Requirement already satisfied: setuptools in /Users/aeg/.local/lib/python3.6/site-packages (from protobuf>=3.1->sagemaker==1.39.0) (39.1.0)\n",
      "Requirement already satisfied: docker-pycreds>=0.4.0 in /Users/aeg/miniconda/envs/untitled2/lib/python3.6/site-packages (from docker[ssh]<4.0,>=3.7.0->docker-compose>=1.23.0->sagemaker==1.39.0) (0.4.0)\n",
      "Requirement already satisfied: bcrypt>=3.1.3 in /Users/aeg/miniconda/envs/untitled2/lib/python3.6/site-packages (from paramiko>=2.4->fabric>=2.0->sagemaker==1.39.0) (3.1.7)\n",
      "Requirement already satisfied: pynacl>=1.0.1 in /Users/aeg/miniconda/envs/untitled2/lib/python3.6/site-packages (from paramiko>=2.4->fabric>=2.0->sagemaker==1.39.0) (1.3.0)\n",
      "Requirement already satisfied: cryptography>=2.5 in /Users/aeg/miniconda/envs/untitled2/lib/python3.6/site-packages (from paramiko>=2.4->fabric>=2.0->sagemaker==1.39.0) (2.7)\n",
      "Requirement already satisfied: python-dateutil<3.0.0,>=2.1; python_version >= \"2.7\" in /Users/aeg/miniconda/envs/untitled2/lib/python3.6/site-packages (from botocore<1.13.0,>=1.12.228->boto3>=1.9.213->sagemaker==1.39.0) (2.7.0)\n",
      "Requirement already satisfied: docutils<0.16,>=0.10 in /Users/aeg/miniconda/envs/untitled2/lib/python3.6/site-packages (from botocore<1.13.0,>=1.12.228->boto3>=1.9.213->sagemaker==1.39.0) (0.14)\n",
      "Requirement already satisfied: cffi>=1.1 in /Users/aeg/miniconda/envs/untitled2/lib/python3.6/site-packages (from bcrypt>=3.1.3->paramiko>=2.4->fabric>=2.0->sagemaker==1.39.0) (1.11.5)\n",
      "Requirement already satisfied: asn1crypto>=0.21.0 in /Users/aeg/miniconda/envs/untitled2/lib/python3.6/site-packages (from cryptography>=2.5->paramiko>=2.4->fabric>=2.0->sagemaker==1.39.0) (0.24.0)\n",
      "Requirement already satisfied: pycparser in /Users/aeg/miniconda/envs/untitled2/lib/python3.6/site-packages (from cffi>=1.1->bcrypt>=3.1.3->paramiko>=2.4->fabric>=2.0->sagemaker==1.39.0) (2.18)\n",
      "\u001b[31mawsebcli 3.12.4 has requirement requests<=2.9.1,>=2.6.1, but you'll have requests 2.20.1 which is incompatible.\u001b[0m\n",
      "\u001b[31mspacy 2.1.8 has requirement numpy>=1.15.0, but you'll have numpy 1.14.1 which is incompatible.\u001b[0m\n",
      "\u001b[31mblis 0.2.4 has requirement numpy>=1.15.0, but you'll have numpy 1.14.1 which is incompatible.\u001b[0m\n",
      "\u001b[33mYou are using pip version 10.0.1, however version 19.2.3 is available.\n",
      "You should consider upgrading via the 'pip install --upgrade pip' command.\u001b[0m\n"
     ]
    }
   ],
   "source": [
    "!pip install sagemaker==1.39.0"
   ]
  },
  {
   "cell_type": "code",
   "execution_count": 2,
   "metadata": {},
   "outputs": [],
   "source": [
    "import sagemaker\n",
    "import boto3\n",
    "\n",
    "sagemaker_session = sagemaker.Session()\n",
    "account_id =  boto3.client('sts').get_caller_identity().get('Account')\n",
    "region = boto3.session.Session().region_name\n",
    "\n",
    "\n",
    "#role = sagemaker.get_execution_role()\n",
    "role=\"arn:aws:iam::{}:role/service-role/AmazonSageMaker-ExecutionRole-20190118T115449\".format(account_id)\n"
   ]
  },
  {
   "cell_type": "markdown",
   "metadata": {},
   "source": [
    "#### 2. Setup image and instance type"
   ]
  },
  {
   "cell_type": "code",
   "execution_count": 33,
   "metadata": {},
   "outputs": [],
   "source": [
    "pytorch_custom_image_name=\"ppi-extractor:gpu-1.0.0-201909140804\"\n",
    "instance_type = \"ml.p3.16xlarge\" "
   ]
  },
  {
   "cell_type": "code",
   "execution_count": 15,
   "metadata": {},
   "outputs": [],
   "source": [
    "docker_repo = \"{}.dkr.ecr.{}.amazonaws.com/{}\".format(account_id, region, pytorch_custom_image_name)"
   ]
  },
  {
   "cell_type": "markdown",
   "metadata": {},
   "source": [
    "#### 3. Configure train/ test and validation datasets"
   ]
  },
  {
   "cell_type": "code",
   "execution_count": 4,
   "metadata": {},
   "outputs": [],
   "source": [
    "bucket = \"aegovan-data\""
   ]
  },
  {
   "cell_type": "code",
   "execution_count": 5,
   "metadata": {},
   "outputs": [],
   "source": [
    "trainfile = \"s3://{}/aimed/AIMedtrain.json\".format(bucket)\n",
    "testfile= \"s3://{}/aimed/AIMedval.json\".format(bucket)\n",
    "valfile=\"s3://{}/aimed/AIMedtest.json\".format(bucket)\n",
    "embeddingfile=\"s3://{}/embeddings/wikipedia-pubmed-and-PMC-w2v.bin.txt\".format(bucket)\n",
    "s3_output_path= \"s3://{}/results/\".format(bucket)"
   ]
  },
  {
   "cell_type": "markdown",
   "metadata": {},
   "source": [
    "### Start training"
   ]
  },
  {
   "cell_type": "code",
   "execution_count": 6,
   "metadata": {},
   "outputs": [],
   "source": [
    "inputs = {\n",
    "    \"train\" : trainfile,\n",
    "    \"val\" :valfile,\n",
    "    \"embedding\" : embeddingfile\n",
    "}"
   ]
  },
  {
   "cell_type": "code",
   "execution_count": 23,
   "metadata": {},
   "outputs": [],
   "source": [
    "hyperparameters = {\n",
    "    \"dataset\":\"PpiAimedDataset\",\n",
    "    \"trainfile\":trainfile.split(\"/\")[-1],\n",
    "    \"valfile\":valfile.split(\"/\")[-1],\n",
    "    \"embeddingfile\":embeddingfile.split(\"/\")[-1],\n",
    "    \"embeddim\":200,\n",
    "    \"batchsize\": \"32\",\n",
    "    \"epochs\" : \"1000\",   \n",
    "    \"log-level\" : \"INFO\",\n",
    "    \"lstmhiddensize\": 10,\n",
    "    \"fclayersize\": 5,\n",
    "    \"numlayers\":2,\n",
    "    \"poolingkernelsize\":3\n",
    "   \n",
    "}"
   ]
  },
  {
   "cell_type": "code",
   "execution_count": 19,
   "metadata": {},
   "outputs": [],
   "source": [
    "metric_definitions = [{\"Name\": \"TrainLoss\",\n",
    "                     \"Regex\": \"###score: train_loss### (\\d*[.]?\\d*)\"}\n",
    "                    ,{\"Name\": \"ValidationLoss\",\n",
    "                     \"Regex\": \"###score: val_loss### (\\d*[.]?\\d*)\"}\n",
    "                    ,{\"Name\": \"TrainFScore\",\n",
    "                     \"Regex\": \"###score: train_fscore### (\\d*[.]?\\d*)\"}\n",
    "                   ,{\"Name\": \"ValidationFScore\",\n",
    "                     \"Regex\": \"###score: val_fscore### (\\d*[.]?\\d*)\"}\n",
    "                    ]"
   ]
  },
  {
   "cell_type": "code",
   "execution_count": 20,
   "metadata": {},
   "outputs": [],
   "source": [
    "git_config = {'repo': 'https://github.com/elangovana/PPI-typed-relation-extractor.git',\n",
    "              'branch': 'master',\n",
    "              'commit': 'c050a2818efd6dc6d2adb3dac07c102b94c92eab'}"
   ]
  },
  {
   "cell_type": "code",
   "execution_count": 24,
   "metadata": {},
   "outputs": [],
   "source": [
    "from sagemaker.pytorch import PyTorch\n",
    "\n",
    "estimator = PyTorch(\n",
    "     entry_point='main_train.py',\n",
    "                    source_dir = 'source/algorithms',\n",
    "                    dependencies =['source/algorithms', 'source/datasets'],\n",
    "                    role=role,\n",
    "                    framework_version =\"1.0.0\",\n",
    "                    py_version='py3',\n",
    "                   # git_config= git_config,\n",
    "                    image_name= docker_repo,\n",
    "                    train_instance_count=1,\n",
    "                    train_instance_type=instance_type,\n",
    "                    hyperparameters =hyperparameters,\n",
    "                    output_path=s3_output_path,\n",
    "                    metric_definitions=metric_definitions,\n",
    "                    #train_use_spot_instances = True\n",
    "                    train_volume_size=30,\n",
    "                    base_job_name =\"aimed-ppi-extractor\")"
   ]
  },
  {
   "cell_type": "code",
   "execution_count": 25,
   "metadata": {},
   "outputs": [
    {
     "name": "stdout",
     "output_type": "stream",
     "text": [
      "2019-09-19 08:35:40 Starting - Starting the training job...\n",
      "2019-09-19 08:35:41 Starting - Launching requested ML instances...\n",
      "2019-09-19 08:36:37 Starting - Preparing the instances for training......\n",
      "2019-09-19 08:37:34 Downloading - Downloading input data..................\n",
      "2019-09-19 08:41:46 Training - Downloading the training image...........\u001b[31mbash: cannot set terminal process group (-1): Inappropriate ioctl for device\u001b[0m\n",
      "\u001b[31mbash: no job control in this shell\u001b[0m\n",
      "\u001b[31m2019-09-19 08:43:50,138 sagemaker-containers INFO     Imported framework sagemaker_pytorch_container.training\u001b[0m\n",
      "\u001b[31m2019-09-19 08:43:50,182 sagemaker_pytorch_container.training INFO     Block until all host DNS lookups succeed.\u001b[0m\n",
      "\u001b[31m2019-09-19 08:43:50,793 sagemaker_pytorch_container.training INFO     Invoking user training script.\u001b[0m\n",
      "\u001b[31m2019-09-19 08:43:51,098 sagemaker-containers INFO     Module main_train does not provide a setup.py. \u001b[0m\n",
      "\u001b[31mGenerating setup.py\u001b[0m\n",
      "\u001b[31m2019-09-19 08:43:51,098 sagemaker-containers INFO     Generating setup.cfg\u001b[0m\n",
      "\u001b[31m2019-09-19 08:43:51,098 sagemaker-containers INFO     Generating MANIFEST.in\u001b[0m\n",
      "\u001b[31m2019-09-19 08:43:51,098 sagemaker-containers INFO     Installing module with the following command:\u001b[0m\n",
      "\u001b[31m/usr/bin/python -m pip install -U . \u001b[0m\n",
      "\u001b[31mProcessing /opt/ml/code\u001b[0m\n",
      "\u001b[31mBuilding wheels for collected packages: main-train\n",
      "  Running setup.py bdist_wheel for main-train: started\n",
      "  Running setup.py bdist_wheel for main-train: finished with status 'done'\n",
      "  Stored in directory: /tmp/pip-ephem-wheel-cache-qo1o9vbh/wheels/35/24/16/37574d11bf9bde50616c67372a334f94fa8356bc7164af8ca3\u001b[0m\n",
      "\u001b[31mSuccessfully built main-train\u001b[0m\n",
      "\u001b[31mInstalling collected packages: main-train\u001b[0m\n",
      "\u001b[31mSuccessfully installed main-train-1.0.0\u001b[0m\n",
      "\u001b[31mYou are using pip version 18.1, however version 19.2.3 is available.\u001b[0m\n",
      "\u001b[31mYou should consider upgrading via the 'pip install --upgrade pip' command.\u001b[0m\n",
      "\u001b[31m2019-09-19 08:43:53,298 sagemaker-containers INFO     Invoking user script\n",
      "\u001b[0m\n",
      "\u001b[31mTraining Env:\n",
      "\u001b[0m\n",
      "\u001b[31m{\n",
      "    \"additional_framework_parameters\": {},\n",
      "    \"channel_input_dirs\": {\n",
      "        \"val\": \"/opt/ml/input/data/val\",\n",
      "        \"embedding\": \"/opt/ml/input/data/embedding\",\n",
      "        \"train\": \"/opt/ml/input/data/train\"\n",
      "    },\n",
      "    \"current_host\": \"algo-1\",\n",
      "    \"framework_module\": \"sagemaker_pytorch_container.training:main\",\n",
      "    \"hosts\": [\n",
      "        \"algo-1\"\n",
      "    ],\n",
      "    \"hyperparameters\": {\n",
      "        \"poolingkernelsize\": 3,\n",
      "        \"fclayersize\": 5,\n",
      "        \"trainfile\": \"AIMedtrain.json\",\n",
      "        \"batchsize\": \"32\",\n",
      "        \"log-level\": \"INFO\",\n",
      "        \"embeddim\": 200,\n",
      "        \"embeddingfile\": \"wikipedia-pubmed-and-PMC-w2v.bin.txt\",\n",
      "        \"valfile\": \"AIMedtest.json\",\n",
      "        \"numlayers\": 2,\n",
      "        \"dataset\": \"PpiAimedDataset\",\n",
      "        \"epochs\": \"1000\",\n",
      "        \"lstmhiddensize\": 10\n",
      "    },\n",
      "    \"input_config_dir\": \"/opt/ml/input/config\",\n",
      "    \"input_data_config\": {\n",
      "        \"val\": {\n",
      "            \"TrainingInputMode\": \"File\",\n",
      "            \"S3DistributionType\": \"FullyReplicated\",\n",
      "            \"RecordWrapperType\": \"None\"\n",
      "        },\n",
      "        \"embedding\": {\n",
      "            \"TrainingInputMode\": \"File\",\n",
      "            \"S3DistributionType\": \"FullyReplicated\",\n",
      "            \"RecordWrapperType\": \"None\"\n",
      "        },\n",
      "        \"train\": {\n",
      "            \"TrainingInputMode\": \"File\",\n",
      "            \"S3DistributionType\": \"FullyReplicated\",\n",
      "            \"RecordWrapperType\": \"None\"\n",
      "        }\n",
      "    },\n",
      "    \"input_dir\": \"/opt/ml/input\",\n",
      "    \"is_master\": true,\n",
      "    \"job_name\": \"aimed-ppi-extractor-2019-09-19-08-35-31-840\",\n",
      "    \"log_level\": 20,\n",
      "    \"master_hostname\": \"algo-1\",\n",
      "    \"model_dir\": \"/opt/ml/model\",\n",
      "    \"module_dir\": \"s3://aegovan-data/aimed-ppi-extractor-2019-09-19-08-35-31-840/source/sourcedir.tar.gz\",\n",
      "    \"module_name\": \"main_train\",\n",
      "    \"network_interface_name\": \"eth0\",\n",
      "    \"num_cpus\": 32,\n",
      "    \"num_gpus\": 4,\n",
      "    \"output_data_dir\": \"/opt/ml/output/data\",\n",
      "    \"output_dir\": \"/opt/ml/output\",\n",
      "    \"output_intermediate_dir\": \"/opt/ml/output/intermediate\",\n",
      "    \"resource_config\": {\n",
      "        \"current_host\": \"algo-1\",\n",
      "        \"hosts\": [\n",
      "            \"algo-1\"\n",
      "        ],\n",
      "        \"network_interface_name\": \"eth0\"\n",
      "    },\n",
      "    \"user_entry_point\": \"main_train.py\"\u001b[0m\n",
      "\u001b[31m}\n",
      "\u001b[0m\n",
      "\u001b[31mEnvironment variables:\n",
      "\u001b[0m\n",
      "\u001b[31mSM_HOSTS=[\"algo-1\"]\u001b[0m\n",
      "\u001b[31mSM_NETWORK_INTERFACE_NAME=eth0\u001b[0m\n",
      "\u001b[31mSM_HPS={\"batchsize\":\"32\",\"dataset\":\"PpiAimedDataset\",\"embeddim\":200,\"embeddingfile\":\"wikipedia-pubmed-and-PMC-w2v.bin.txt\",\"epochs\":\"1000\",\"fclayersize\":5,\"log-level\":\"INFO\",\"lstmhiddensize\":10,\"numlayers\":2,\"poolingkernelsize\":3,\"trainfile\":\"AIMedtrain.json\",\"valfile\":\"AIMedtest.json\"}\u001b[0m\n",
      "\u001b[31mSM_USER_ENTRY_POINT=main_train.py\u001b[0m\n",
      "\u001b[31mSM_FRAMEWORK_PARAMS={}\u001b[0m\n",
      "\u001b[31mSM_RESOURCE_CONFIG={\"current_host\":\"algo-1\",\"hosts\":[\"algo-1\"],\"network_interface_name\":\"eth0\"}\u001b[0m\n",
      "\u001b[31mSM_INPUT_DATA_CONFIG={\"embedding\":{\"RecordWrapperType\":\"None\",\"S3DistributionType\":\"FullyReplicated\",\"TrainingInputMode\":\"File\"},\"train\":{\"RecordWrapperType\":\"None\",\"S3DistributionType\":\"FullyReplicated\",\"TrainingInputMode\":\"File\"},\"val\":{\"RecordWrapperType\":\"None\",\"S3DistributionType\":\"FullyReplicated\",\"TrainingInputMode\":\"File\"}}\u001b[0m\n",
      "\u001b[31mSM_OUTPUT_DATA_DIR=/opt/ml/output/data\u001b[0m\n",
      "\u001b[31mSM_CHANNELS=[\"embedding\",\"train\",\"val\"]\u001b[0m\n",
      "\u001b[31mSM_CURRENT_HOST=algo-1\u001b[0m\n",
      "\u001b[31mSM_MODULE_NAME=main_train\u001b[0m\n",
      "\u001b[31mSM_LOG_LEVEL=20\u001b[0m\n",
      "\u001b[31mSM_FRAMEWORK_MODULE=sagemaker_pytorch_container.training:main\u001b[0m\n",
      "\u001b[31mSM_INPUT_DIR=/opt/ml/input\u001b[0m\n",
      "\u001b[31mSM_INPUT_CONFIG_DIR=/opt/ml/input/config\u001b[0m\n",
      "\u001b[31mSM_OUTPUT_DIR=/opt/ml/output\u001b[0m\n",
      "\u001b[31mSM_NUM_CPUS=32\u001b[0m\n",
      "\u001b[31mSM_NUM_GPUS=4\u001b[0m\n",
      "\u001b[31mSM_MODEL_DIR=/opt/ml/model\u001b[0m\n",
      "\u001b[31mSM_MODULE_DIR=s3://aegovan-data/aimed-ppi-extractor-2019-09-19-08-35-31-840/source/sourcedir.tar.gz\u001b[0m\n",
      "\u001b[31mSM_TRAINING_ENV={\"additional_framework_parameters\":{},\"channel_input_dirs\":{\"embedding\":\"/opt/ml/input/data/embedding\",\"train\":\"/opt/ml/input/data/train\",\"val\":\"/opt/ml/input/data/val\"},\"current_host\":\"algo-1\",\"framework_module\":\"sagemaker_pytorch_container.training:main\",\"hosts\":[\"algo-1\"],\"hyperparameters\":{\"batchsize\":\"32\",\"dataset\":\"PpiAimedDataset\",\"embeddim\":200,\"embeddingfile\":\"wikipedia-pubmed-and-PMC-w2v.bin.txt\",\"epochs\":\"1000\",\"fclayersize\":5,\"log-level\":\"INFO\",\"lstmhiddensize\":10,\"numlayers\":2,\"poolingkernelsize\":3,\"trainfile\":\"AIMedtrain.json\",\"valfile\":\"AIMedtest.json\"},\"input_config_dir\":\"/opt/ml/input/config\",\"input_data_config\":{\"embedding\":{\"RecordWrapperType\":\"None\",\"S3DistributionType\":\"FullyReplicated\",\"TrainingInputMode\":\"File\"},\"train\":{\"RecordWrapperType\":\"None\",\"S3DistributionType\":\"FullyReplicated\",\"TrainingInputMode\":\"File\"},\"val\":{\"RecordWrapperType\":\"None\",\"S3DistributionType\":\"FullyReplicated\",\"TrainingInputMode\":\"File\"}},\"input_dir\":\"/opt/ml/input\",\"is_master\":true,\"job_name\":\"aimed-ppi-extractor-2019-09-19-08-35-31-840\",\"log_level\":20,\"master_hostname\":\"algo-1\",\"model_dir\":\"/opt/ml/model\",\"module_dir\":\"s3://aegovan-data/aimed-ppi-extractor-2019-09-19-08-35-31-840/source/sourcedir.tar.gz\",\"module_name\":\"main_train\",\"network_interface_name\":\"eth0\",\"num_cpus\":32,\"num_gpus\":4,\"output_data_dir\":\"/opt/ml/output/data\",\"output_dir\":\"/opt/ml/output\",\"output_intermediate_dir\":\"/opt/ml/output/intermediate\",\"resource_config\":{\"current_host\":\"algo-1\",\"hosts\":[\"algo-1\"],\"network_interface_name\":\"eth0\"},\"user_entry_point\":\"main_train.py\"}\u001b[0m\n",
      "\u001b[31mSM_USER_ARGS=[\"--batchsize\",\"32\",\"--dataset\",\"PpiAimedDataset\",\"--embeddim\",\"200\",\"--embeddingfile\",\"wikipedia-pubmed-and-PMC-w2v.bin.txt\",\"--epochs\",\"1000\",\"--fclayersize\",\"5\",\"--log-level\",\"INFO\",\"--lstmhiddensize\",\"10\",\"--numlayers\",\"2\",\"--poolingkernelsize\",\"3\",\"--trainfile\",\"AIMedtrain.json\",\"--valfile\",\"AIMedtest.json\"]\u001b[0m\n",
      "\u001b[31mSM_OUTPUT_INTERMEDIATE_DIR=/opt/ml/output/intermediate\u001b[0m\n",
      "\u001b[31mSM_CHANNEL_VAL=/opt/ml/input/data/val\u001b[0m\n",
      "\u001b[31mSM_CHANNEL_EMBEDDING=/opt/ml/input/data/embedding\u001b[0m\n",
      "\u001b[31mSM_CHANNEL_TRAIN=/opt/ml/input/data/train\u001b[0m\n",
      "\u001b[31mSM_HP_POOLINGKERNELSIZE=3\u001b[0m\n",
      "\u001b[31mSM_HP_FCLAYERSIZE=5\u001b[0m\n",
      "\u001b[31mSM_HP_TRAINFILE=AIMedtrain.json\u001b[0m\n",
      "\u001b[31mSM_HP_BATCHSIZE=32\u001b[0m\n",
      "\u001b[31mSM_HP_LOG-LEVEL=INFO\u001b[0m\n",
      "\u001b[31mSM_HP_EMBEDDIM=200\u001b[0m\n",
      "\u001b[31mSM_HP_EMBEDDINGFILE=wikipedia-pubmed-and-PMC-w2v.bin.txt\u001b[0m\n",
      "\u001b[31mSM_HP_VALFILE=AIMedtest.json\u001b[0m\n",
      "\u001b[31mSM_HP_NUMLAYERS=2\u001b[0m\n",
      "\u001b[31mSM_HP_DATASET=PpiAimedDataset\u001b[0m\n",
      "\u001b[31mSM_HP_EPOCHS=1000\u001b[0m\n",
      "\u001b[31mSM_HP_LSTMHIDDENSIZE=10\u001b[0m\n",
      "\u001b[31mPYTHONPATH=/usr/local/bin:/usr/lib/python36.zip:/usr/lib/python3.6:/usr/lib/python3.6/lib-dynload:/usr/local/lib/python3.6/dist-packages:/usr/lib/python3/dist-packages\n",
      "\u001b[0m\n",
      "\u001b[31mInvoking script with the following command:\n",
      "\u001b[0m\n",
      "\u001b[31m/usr/bin/python -m main_train --batchsize 32 --dataset PpiAimedDataset --embeddim 200 --embeddingfile wikipedia-pubmed-and-PMC-w2v.bin.txt --epochs 1000 --fclayersize 5 --log-level INFO --lstmhiddensize 10 --numlayers 2 --poolingkernelsize 3 --trainfile AIMedtrain.json --valfile AIMedtest.json\n",
      "\n",
      "\u001b[0m\n",
      "\u001b[31m['--batchsize', '32', '--fclayersize', '5', '--lstmhiddensize', '10', '--numlayers', '2', '--poolingkernelsize', '3']\u001b[0m\n",
      "\u001b[31m{'dataset': 'PpiAimedDataset', 'trainfile': 'AIMedtrain.json', 'traindir': '/opt/ml/input/data/train', 'valfile': 'AIMedtest.json', 'valdir': '/opt/ml/input/data/val', 'embeddingfile': 'wikipedia-pubmed-and-PMC-w2v.bin.txt', 'embeddingdir': '/opt/ml/input/data/embedding', 'outdir': '/opt/ml/output/data', 'modeldir': '/opt/ml/model', 'embeddim': 200, 'epochs': 1000, 'earlystoppingpatience': 10, 'interaction_type': None, 'log_level': 'INFO'}\u001b[0m\n",
      "\u001b[31m{'batchsize': '32', 'fclayersize': '5', 'lstmhiddensize': '10', 'numlayers': '2', 'poolingkernelsize': '3'}\u001b[0m\n",
      "\u001b[31m2019-09-19 08:43:55,840 - __main__ - INFO - The embedding header is 5443656 200\n",
      "\u001b[0m\n",
      "\u001b[31m2019-09-19 08:43:55,840 - algorithms.TrainInferenceBuilder - INFO - Retrieving key batchsize with default 32, found 32\u001b[0m\n",
      "\u001b[31m2019-09-19 08:43:55,840 - algorithms.TrainInferenceBuilder - INFO - Retrieving key lstmhiddensize with default 100, found 10\u001b[0m\n",
      "\u001b[31m2019-09-19 08:43:55,840 - algorithms.TrainInferenceBuilder - INFO - Retrieving key dropout_rate_fc with default .5, found .5\u001b[0m\n",
      "\u001b[31m2019-09-19 08:43:55,840 - algorithms.TrainInferenceBuilder - INFO - Retrieving key poolingkernelsize with default 4, found 3\u001b[0m\n",
      "\u001b[31m2019-09-19 08:43:55,840 - algorithms.TrainInferenceBuilder - INFO - Retrieving key fclayersize with default 25, found 5\u001b[0m\n",
      "\u001b[31m2019-09-19 08:43:55,840 - algorithms.TrainInferenceBuilder - INFO - Retrieving key numlayers with default 2, found 2\u001b[0m\n",
      "\u001b[31m2019-09-19 08:43:55,841 - algorithms.RelationExtractorBiLstmNetwork - INFO - The text feature is index 0, the feature lengths are [150   1   1]\u001b[0m\n",
      "\u001b[31m2019-09-19 08:43:55,851 - algorithms.RelationExtractorBiLstmNetwork - INFO - Word embedding size is 200, pos embedding size is 6, totaldim is 206, hidden_size  10\u001b[0m\n",
      "\u001b[31m2019-09-19 08:43:55,856 - algorithms.TrainInferenceBuilder - INFO - Using model <class 'algorithms.RelationExtractorBiLstmNetwork.RelationExtractorBiLstmNetwork'>\u001b[0m\n",
      "\u001b[31m2019-09-19 08:43:55,856 - algorithms.TrainInferenceBuilder - INFO - Using optimiser <class 'torch.optim.adam.Adam'>\u001b[0m\n",
      "\u001b[31m2019-09-19 08:43:55,856 - algorithms.TrainInferenceBuilder - INFO - Using loss function <class 'torch.nn.modules.loss.CrossEntropyLoss'>\u001b[0m\n"
     ]
    },
    {
     "name": "stdout",
     "output_type": "stream",
     "text": [
      "\n",
      "2019-09-19 08:43:48 Training - Training image download completed. Training in progress."
     ]
    },
    {
     "ename": "KeyboardInterrupt",
     "evalue": "",
     "output_type": "error",
     "traceback": [
      "\u001b[0;31m---------------------------------------------------------------------------\u001b[0m",
      "\u001b[0;31mKeyboardInterrupt\u001b[0m                         Traceback (most recent call last)",
      "\u001b[0;32m<ipython-input-25-0731e612c7b1>\u001b[0m in \u001b[0;36m<module>\u001b[0;34m()\u001b[0m\n\u001b[0;32m----> 1\u001b[0;31m \u001b[0mestimator\u001b[0m\u001b[0;34m.\u001b[0m\u001b[0mfit\u001b[0m\u001b[0;34m(\u001b[0m\u001b[0minputs\u001b[0m\u001b[0;34m)\u001b[0m\u001b[0;34m\u001b[0m\u001b[0m\n\u001b[0m",
      "\u001b[0;32m~/miniconda/envs/untitled2/lib/python3.6/site-packages/sagemaker/estimator.py\u001b[0m in \u001b[0;36mfit\u001b[0;34m(self, inputs, wait, logs, job_name)\u001b[0m\n\u001b[1;32m    329\u001b[0m         \u001b[0mself\u001b[0m\u001b[0;34m.\u001b[0m\u001b[0mlatest_training_job\u001b[0m \u001b[0;34m=\u001b[0m \u001b[0m_TrainingJob\u001b[0m\u001b[0;34m.\u001b[0m\u001b[0mstart_new\u001b[0m\u001b[0;34m(\u001b[0m\u001b[0mself\u001b[0m\u001b[0;34m,\u001b[0m \u001b[0minputs\u001b[0m\u001b[0;34m)\u001b[0m\u001b[0;34m\u001b[0m\u001b[0m\n\u001b[1;32m    330\u001b[0m         \u001b[0;32mif\u001b[0m \u001b[0mwait\u001b[0m\u001b[0;34m:\u001b[0m\u001b[0;34m\u001b[0m\u001b[0m\n\u001b[0;32m--> 331\u001b[0;31m             \u001b[0mself\u001b[0m\u001b[0;34m.\u001b[0m\u001b[0mlatest_training_job\u001b[0m\u001b[0;34m.\u001b[0m\u001b[0mwait\u001b[0m\u001b[0;34m(\u001b[0m\u001b[0mlogs\u001b[0m\u001b[0;34m=\u001b[0m\u001b[0mlogs\u001b[0m\u001b[0;34m)\u001b[0m\u001b[0;34m\u001b[0m\u001b[0m\n\u001b[0m\u001b[1;32m    332\u001b[0m \u001b[0;34m\u001b[0m\u001b[0m\n\u001b[1;32m    333\u001b[0m     \u001b[0;32mdef\u001b[0m \u001b[0m_compilation_job_name\u001b[0m\u001b[0;34m(\u001b[0m\u001b[0mself\u001b[0m\u001b[0;34m)\u001b[0m\u001b[0;34m:\u001b[0m\u001b[0;34m\u001b[0m\u001b[0m\n",
      "\u001b[0;32m~/miniconda/envs/untitled2/lib/python3.6/site-packages/sagemaker/estimator.py\u001b[0m in \u001b[0;36mwait\u001b[0;34m(self, logs)\u001b[0m\n\u001b[1;32m    870\u001b[0m         \"\"\"\n\u001b[1;32m    871\u001b[0m         \u001b[0;32mif\u001b[0m \u001b[0mlogs\u001b[0m\u001b[0;34m:\u001b[0m\u001b[0;34m\u001b[0m\u001b[0m\n\u001b[0;32m--> 872\u001b[0;31m             \u001b[0mself\u001b[0m\u001b[0;34m.\u001b[0m\u001b[0msagemaker_session\u001b[0m\u001b[0;34m.\u001b[0m\u001b[0mlogs_for_job\u001b[0m\u001b[0;34m(\u001b[0m\u001b[0mself\u001b[0m\u001b[0;34m.\u001b[0m\u001b[0mjob_name\u001b[0m\u001b[0;34m,\u001b[0m \u001b[0mwait\u001b[0m\u001b[0;34m=\u001b[0m\u001b[0;32mTrue\u001b[0m\u001b[0;34m)\u001b[0m\u001b[0;34m\u001b[0m\u001b[0m\n\u001b[0m\u001b[1;32m    873\u001b[0m         \u001b[0;32melse\u001b[0m\u001b[0;34m:\u001b[0m\u001b[0;34m\u001b[0m\u001b[0m\n\u001b[1;32m    874\u001b[0m             \u001b[0mself\u001b[0m\u001b[0;34m.\u001b[0m\u001b[0msagemaker_session\u001b[0m\u001b[0;34m.\u001b[0m\u001b[0mwait_for_job\u001b[0m\u001b[0;34m(\u001b[0m\u001b[0mself\u001b[0m\u001b[0;34m.\u001b[0m\u001b[0mjob_name\u001b[0m\u001b[0;34m)\u001b[0m\u001b[0;34m\u001b[0m\u001b[0m\n",
      "\u001b[0;32m~/miniconda/envs/untitled2/lib/python3.6/site-packages/sagemaker/session.py\u001b[0m in \u001b[0;36mlogs_for_job\u001b[0;34m(self, job_name, wait, poll)\u001b[0m\n\u001b[1;32m   1472\u001b[0m                 \u001b[0;32mbreak\u001b[0m\u001b[0;34m\u001b[0m\u001b[0m\n\u001b[1;32m   1473\u001b[0m \u001b[0;34m\u001b[0m\u001b[0m\n\u001b[0;32m-> 1474\u001b[0;31m             \u001b[0mtime\u001b[0m\u001b[0;34m.\u001b[0m\u001b[0msleep\u001b[0m\u001b[0;34m(\u001b[0m\u001b[0mpoll\u001b[0m\u001b[0;34m)\u001b[0m\u001b[0;34m\u001b[0m\u001b[0m\n\u001b[0m\u001b[1;32m   1475\u001b[0m \u001b[0;34m\u001b[0m\u001b[0m\n\u001b[1;32m   1476\u001b[0m             \u001b[0;32mif\u001b[0m \u001b[0mstate\u001b[0m \u001b[0;34m==\u001b[0m \u001b[0mLogState\u001b[0m\u001b[0;34m.\u001b[0m\u001b[0mJOB_COMPLETE\u001b[0m\u001b[0;34m:\u001b[0m\u001b[0;34m\u001b[0m\u001b[0m\n",
      "\u001b[0;31mKeyboardInterrupt\u001b[0m: "
     ]
    }
   ],
   "source": [
    "estimator.fit(inputs)"
   ]
  },
  {
   "cell_type": "markdown",
   "metadata": {},
   "source": [
    "### HPO"
   ]
  },
  {
   "cell_type": "code",
   "execution_count": 26,
   "metadata": {},
   "outputs": [],
   "source": [
    "objective_metric_name =\"ValidationFScore\""
   ]
  },
  {
   "cell_type": "code",
   "execution_count": 27,
   "metadata": {},
   "outputs": [],
   "source": [
    "from sagemaker.tuner import HyperparameterTuner, IntegerParameter, CategoricalParameter, ContinuousParameter\n",
    "hyperparameter_ranges = {'lstmhiddensize': IntegerParameter(40,200), #ContinuousParameter(0.01, 0.2),\n",
    "                          \"fclayersize\": IntegerParameter(10,50),\n",
    "                            \"numlayers\":IntegerParameter(1,10),\n",
    "                        \"poolingkernelsize\":IntegerParameter(2,10)}"
   ]
  },
  {
   "cell_type": "code",
   "execution_count": 29,
   "metadata": {},
   "outputs": [],
   "source": [
    "hyperparameters={ \"trainfile\":trainfile.split(\"/\")[-1],\n",
    "    \"valfile\":valfile.split(\"/\")[-1],\n",
    "    \"embeddingfile\":embeddingfile.split(\"/\")[-1],\n",
    "                        \"embeddim\":\"200\",\n",
    "                 \"epochs\": 100,\n",
    "                 \"earlystoppingpatience\": 20,\n",
    "                        \"dataset\":\"PpiAimedDataset\"}"
   ]
  },
  {
   "cell_type": "code",
   "execution_count": 34,
   "metadata": {},
   "outputs": [],
   "source": [
    "\n",
    "estimator = PyTorch(\n",
    "     entry_point='main_train.py',\n",
    "                    source_dir = 'source/algorithms',\n",
    "                    dependencies =['source/algorithms', 'source/datasets'],\n",
    "                    role=role,\n",
    "                    framework_version =\"1.0.0\",\n",
    "                    py_version='py3',\n",
    "                   # git_config= git_config,\n",
    "                    image_name= docker_repo,\n",
    "                    train_instance_count=1,\n",
    "                    train_instance_type=instance_type,\n",
    "                    hyperparameters =hyperparameters,\n",
    "                    output_path=s3_output_path,\n",
    "                    metric_definitions=metric_definitions,\n",
    "                    #train_use_spot_instances = True\n",
    "                    train_volume_size=30,\n",
    "                    base_job_name =\"aimed-ppi-extractor\")"
   ]
  },
  {
   "cell_type": "code",
   "execution_count": 35,
   "metadata": {},
   "outputs": [],
   "source": [
    "tuner = HyperparameterTuner(estimator,\n",
    "                            objective_metric_name,\n",
    "                            hyperparameter_ranges,\n",
    "                            metric_definitions,\n",
    "                            max_jobs=50,\n",
    "                            max_parallel_jobs=7,\n",
    "                            strategy=\"Random\",\n",
    "                            base_tuning_job_name=\"hpo-aimed-ppi-extractor\")\n",
    "tuner.fit(inputs)"
   ]
  }
 ],
 "metadata": {
  "kernelspec": {
   "display_name": "Python 3",
   "language": "python",
   "name": "python3"
  },
  "language_info": {
   "codemirror_mode": {
    "name": "ipython",
    "version": 3
   },
   "file_extension": ".py",
   "mimetype": "text/x-python",
   "name": "python",
   "nbconvert_exporter": "python",
   "pygments_lexer": "ipython3",
   "version": "3.6.4"
  }
 },
 "nbformat": 4,
 "nbformat_minor": 1
}
