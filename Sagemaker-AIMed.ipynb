{
 "cells": [
  {
   "cell_type": "markdown",
   "metadata": {},
   "source": [
    "### Set up"
   ]
  },
  {
   "cell_type": "markdown",
   "metadata": {},
   "source": [
    "#### 1. Set  up  accounts and role"
   ]
  },
  {
   "cell_type": "code",
   "execution_count": 1,
   "metadata": {},
   "outputs": [],
   "source": [
    "#!pip install sagemaker==1.39.0"
   ]
  },
  {
   "cell_type": "code",
   "execution_count": 2,
   "metadata": {},
   "outputs": [],
   "source": [
    "import sagemaker\n",
    "import boto3\n",
    "\n",
    "sagemaker_session = sagemaker.Session()\n",
    "account_id =  boto3.client('sts').get_caller_identity().get('Account')\n",
    "region = boto3.session.Session().region_name\n",
    "\n",
    "\n",
    "#role = sagemaker.get_execution_role()\n",
    "role=\"arn:aws:iam::{}:role/service-role/AmazonSageMaker-ExecutionRole-20190118T115449\".format(account_id)\n"
   ]
  },
  {
   "cell_type": "markdown",
   "metadata": {},
   "source": [
    "#### 2. Setup image and instance type"
   ]
  },
  {
   "cell_type": "code",
   "execution_count": 3,
   "metadata": {},
   "outputs": [],
   "source": [
    "pytorch_custom_image_name=\"ppi-extractor:gpu-1.0.0-201910130520\"\n",
    "instance_type = \"ml.p3.8xlarge\" "
   ]
  },
  {
   "cell_type": "code",
   "execution_count": 4,
   "metadata": {},
   "outputs": [],
   "source": [
    "docker_repo = \"{}.dkr.ecr.{}.amazonaws.com/{}\".format(account_id, region, pytorch_custom_image_name)"
   ]
  },
  {
   "cell_type": "markdown",
   "metadata": {},
   "source": [
    "#### 3. Configure train/ test and validation datasets"
   ]
  },
  {
   "cell_type": "code",
   "execution_count": 5,
   "metadata": {},
   "outputs": [],
   "source": [
    "bucket = \"aegovan-data\""
   ]
  },
  {
   "cell_type": "code",
   "execution_count": 6,
   "metadata": {},
   "outputs": [],
   "source": [
    "plain_trainfile = \"s3://{}/aimed/AIMedFull.json\".format(bucket)\n",
    "trainfile = \"s3://{}/aimed/AIMedFull_preprocessed.json\".format(bucket)\n",
    "\n",
    "#trainfile=\"s3://{}/aimed/AIMedFull_Ylhsieh.json\".format(bucket)\n",
    "    \n",
    "valfile=\"s3://{}/aimed/AIMedval_preprocessed.json\".format(bucket)\n",
    "#trainfile = \"s3://{}/aimed/AIMedtrain_pubmedoverlap.json\".format(bucket)\n",
    "#valfile=\"s3://{}/aimed/AIMedval_pubmedoverlap.json\".format(bucket)\n",
    "#embeddingfile=\"s3://{}/embeddings/PubMed-and-PMC-w2v.bin.txt\".format(bucket)\n",
    "#embeddingfile=\"s3://{}/embeddings/bio_nlp_vec/PubMed-shuffle-win-30.bin.txt\".format(bucket)\n",
    "embeddingfile=\"s3://{}/embeddings/bio_nlp_vec/PubMed-shuffle-win-2.bin.txt\".format(bucket)\n",
    "embed_dim=200\n",
    "\n",
    "#Collobert embedding\n",
    "coll_embeddingfile=\"s3://{}/embeddings/collobert/words_vocab_collabert.txt\".format(bucket)\n",
    "coll_embed_dim=50\n",
    "s3_output_path= \"s3://{}/results/\".format(bucket)\n",
    "s3_code_path= \"s3://{}/aimed_code\".format(bucket)"
   ]
  },
  {
   "cell_type": "markdown",
   "metadata": {},
   "source": [
    "### Start training"
   ]
  },
  {
   "cell_type": "code",
   "execution_count": 7,
   "metadata": {},
   "outputs": [],
   "source": [
    "pub_inputs = {\n",
    "    \"train\" : trainfile,\n",
    " #   \"val\" :valfile,\n",
    "    \"embedding\" : embeddingfile\n",
    "}"
   ]
  },
  {
   "cell_type": "code",
   "execution_count": 8,
   "metadata": {},
   "outputs": [],
   "source": [
    "plain_pub_inputs = {\n",
    "    \"train\" : plain_trainfile,\n",
    " #   \"val\" :valfile,\n",
    "    \"embedding\" : embeddingfile\n",
    "}"
   ]
  },
  {
   "cell_type": "code",
   "execution_count": 9,
   "metadata": {},
   "outputs": [],
   "source": [
    "coll_inputs = {\n",
    "    \"train\" : trainfile,\n",
    "   # \"val\" :valfile,\n",
    "    \"embedding\" : coll_embeddingfile\n",
    "}"
   ]
  },
  {
   "cell_type": "code",
   "execution_count": 10,
   "metadata": {},
   "outputs": [],
   "source": [
    "# hyperparameters = {\n",
    "#     \"dataset\":\"PpiAimedDatasetFactory\",\n",
    "#     \"trainfile\":trainfile.split(\"/\")[-1],\n",
    "#     \"valfile\":valfile.split(\"/\")[-1],\n",
    "#     \"embeddingfile\":embeddingfile.split(\"/\")[-1],\n",
    "#     \"embeddim\":embed_dim,\n",
    "#     \"batchsize\": \"32\",\n",
    "#     \"epochs\" : \"1000\",   \n",
    "#     \"log-level\" : \"INFO\",\n",
    "#     \"lstmhiddensize\": 100,\n",
    "#     \"fclayersize\": 15,\n",
    "#     \"numlayers\":7,\n",
    "#     \"poolingkernelsize\":10,\n",
    "#     \"learningrate\":.001,\n",
    "#     \"cnn_output\":100,\n",
    "#     \"earlystoppingpatience\":20\n",
    "# }"
   ]
  },
  {
   "cell_type": "code",
   "execution_count": 11,
   "metadata": {},
   "outputs": [],
   "source": [
    "choi_CnnNetworkNoPosFactoryhyperparameters = {\n",
    "    \"dataset\":\"PpiAimedDatasetPreprocessedFactory\",\n",
    "    \"network\" :\"RelationExtractorCnnNetworkNoPosFactory\",\n",
    "    \"trainfile\":trainfile.split(\"/\")[-1],\n",
    "    \"embeddingfile\":coll_embeddingfile.split(\"/\")[-1],\n",
    "    \"embeddim\":coll_embed_dim,\n",
    "    \"batchsize\": \"32\",\n",
    "    \"epochs\" : \"1000\",   \n",
    "    \"log-level\" : \"INFO\",\n",
    "    \"learningrate\":.001,\n",
    "    \"cnn_output\":100,\n",
    "    \"earlystoppingpatience\":20,\n",
    "    \"dropout_rate_cnn\":.2,\n",
    "    \"fc_drop_out_rate\":0.5,\n",
    "    \"train_val_vocab_merge\":1\n",
    "}"
   ]
  },
  {
   "cell_type": "code",
   "execution_count": 12,
   "metadata": {},
   "outputs": [],
   "source": [
    "choi_CnnPosNetworkFactory = {\n",
    "    \"dataset\":\"PpiAimedDatasetPreprocessedFactory\",\n",
    "    \"network\" :\"RelationExtractorCnnPosNetworkFactory\",\n",
    "    \"trainfile\":trainfile.split(\"/\")[-1],\n",
    "    \"embeddingfile\":coll_embeddingfile.split(\"/\")[-1],\n",
    "    \"embeddim\":coll_embed_dim,\n",
    "    \"batchsize\": \"32\",\n",
    "    \"epochs\" : \"1000\",   \n",
    "    \"log-level\" : \"INFO\",\n",
    "    \"learningrate\":.001,\n",
    "    \"cnn_output\":100,\n",
    "    \"earlystoppingpatience\":20,\n",
    "    \"dropout_rate_cnn\":.2,\n",
    "    \"fc_drop_out_rate\":0.5,\n",
    "      \"train_val_vocab_merge\":1\n",
    "}"
   ]
  },
  {
   "cell_type": "code",
   "execution_count": 13,
   "metadata": {},
   "outputs": [],
   "source": [
    "BilstmNetworkFactoryhyperparameters = {\n",
    "    \"dataset\":\"PpiAimedDatasetPreprocessedFactory\",\n",
    "    \"network\" :\"RelationExtractorBiLstmNetworkFactory\",\n",
    "    \"trainfile\":trainfile.split(\"/\")[-1],\n",
    "    \"valfile\":valfile.split(\"/\")[-1],\n",
    "    \"embeddingfile\":embeddingfile.split(\"/\")[-1],\n",
    "    \"embeddim\":embed_dim,\n",
    "    \"batchsize\": \"50\",\n",
    "    \"epochs\" : \"1000\",  \n",
    "    \"earlystoppingpatience\":20,\n",
    "    \"log-level\" : \"INFO\",\n",
    "    \"learningrate\":.001,\n",
    "    \"lstm_dropout\":0.5,\n",
    "    \"pooling_kernel_size\":3,\n",
    "    \"lstm_num_layers\" :3,\n",
    "    \"lstm_hidden_size\":64,\n",
    "    \"fc_layer_size\":64,\n",
    "    \"fc_drop_out_rate\":0.5,\n",
    "}"
   ]
  },
  {
   "cell_type": "code",
   "execution_count": 14,
   "metadata": {},
   "outputs": [],
   "source": [
    "base_experiment_bilstm_pos =  {\n",
    "    \"dataset\":\"PpiAimedDatasetFactory\",\n",
    "    \"network\" :\"RelationExtractorDynamicEntityBiLstmNetworkFactory\",\n",
    "    \"trainfile\":plain_trainfile.split(\"/\")[-1],\n",
    "    \"embeddingfile\":embeddingfile.split(\"/\")[-1],\n",
    "    \"embeddim\":embed_dim,\n",
    "    \"batchsize\": \"50\",\n",
    "    \"epochs\" : \"1000\",  \n",
    "    \"earlystoppingpatience\":20,\n",
    "    \"log-level\" : \"INFO\",\n",
    "    \"learningrate\":.001,\n",
    "    \"lstm_dropout\":0.5,\n",
    "    \"pooling_kernel_size\":3,\n",
    "    \"lstm_num_layers\" :3,\n",
    "    \"lstm_hidden_size\":64,\n",
    "    \"fc_layer_size\":64,\n",
    "    \"fc_drop_out_rate\":0.5,\n",
    "    \"train_val_vocab_merge\":0,\n",
    "    \"use_min_dict\":0,\n",
    "    \"fine_tune_embeddings\":0\n",
    "    \n",
    "}"
   ]
  },
  {
   "cell_type": "markdown",
   "metadata": {},
   "source": [
    "#### For BiLSTM network f - score using the following HP\n",
    "\n",
    "```bash\n",
    "/usr/bin/python -m main_train_k_fold --batchsize 64 --dataset PpiAimedDatasetPreprocessedFactory --earlystoppingpatience 20 --embeddim 200 --embeddingfile PubMed-shuffle-win-2.bin.txt --epochs 1000 --fc_drop_out_rate 0.5 --learningrate 0.001 --log-level INFO --lstm_dropout 0.5 --lstm_hidden_size 400 --lstm_num_layers 1 --network RelationExtractorBiLstmNetworkFactoryNoPos --train_val_vocab_merge 1 --trainfile AIMedFull_preprocessed.json\n",
    "```\n",
    "\n",
    "**precision, recall, fscore, support** for 10 folds\n",
    "\n",
    "```json\n",
    "[(0.7528089887640449, 0.7528089887640449, 0.752808988764045, None),\n",
    " (0.6915887850467289, 0.7628865979381443, 0.7254901960784315, None),\n",
    " (0.7586206896551724, 0.6226415094339622, 0.6839378238341969, None),\n",
    " (0.7727272727272727, 0.6296296296296297, 0.6938775510204083, None),\n",
    " (0.75, 0.6990291262135923, 0.7236180904522612, None),\n",
    " (0.7525773195876289, 0.7525773195876289, 0.752577319587629, None),\n",
    " (0.6851851851851852, 0.74, 0.7115384615384615, None),\n",
    " (0.7142857142857143, 0.7476635514018691, 0.730593607305936, None),\n",
    " (0.7560975609756098, 0.6326530612244898, 0.6888888888888889, None),\n",
    " (0.6788990825688074, 0.7789473684210526, 0.7254901960784315, None)]\n",
    "```\n",
    "\n",
    "**tn, fp, fn, tp** for 10 folds\n",
    "\n",
    "\n",
    "```json\n",
    "[(473, 22, 22, 67), \n",
    " (454, 33, 23, 74), \n",
    " (457, 21, 40, 66), \n",
    " (456, 20, 40, 68), \n",
    " (456, 24, 31, 72), \n",
    " (462, 24, 24, 73),\n",
    " (449, 34, 26, 74), \n",
    " (444, 32, 27, 80), \n",
    " (465, 20, 36, 62),\n",
    " (453, 35, 21, 74)]\n",
    "```\n"
   ]
  },
  {
   "cell_type": "code",
   "execution_count": 15,
   "metadata": {},
   "outputs": [],
   "source": [
    "BilstmNetworkFactoryhyperparametersNoPos = {\n",
    "    \"dataset\":\"PpiAimedDatasetPreprocessedFactory\",\n",
    "    \"network\" :\"RelationExtractorBiLstmNetworkFactoryNoPos\",\n",
    "    \"trainfile\":trainfile.split(\"/\")[-1],\n",
    "   # \"valfile\":valfile.split(\"/\")[-1],\n",
    "    \"embeddingfile\":embeddingfile.split(\"/\")[-1],\n",
    "    \"embeddim\":embed_dim,\n",
    "    \"batchsize\": \"64\",\n",
    "    \"epochs\" : \"1000\",  \n",
    "    \"earlystoppingpatience\":20,\n",
    "    \"log-level\" : \"INFO\",\n",
    "    \"learningrate\":.001,\n",
    "    \"lstm_dropout\":0.5,\n",
    "    \"lstm_num_layers\" :1,\n",
    "    \"lstm_hidden_size\":400,\n",
    "    \"fc_drop_out_rate\":0.5,\n",
    "      \"train_val_vocab_merge\":1\n",
    "}"
   ]
  },
  {
   "cell_type": "code",
   "execution_count": 16,
   "metadata": {},
   "outputs": [],
   "source": [
    "\n",
    "\n",
    "PpiAimedDatasetFactoryYlhsiehBiLstmNetwork = {\n",
    "    \"dataset\":\"PpiAimedDatasetFactoryYlhsieh\",\n",
    "    \"network\" :\"RelationExtractorBiLstmNetworkFactoryNoPos\",\n",
    "    \"trainfile\":trainfile.split(\"/\")[-1],\n",
    "   # \"valfile\":valfile.split(\"/\")[-1],\n",
    "    \"embeddingfile\":embeddingfile.split(\"/\")[-1],\n",
    "    \"embeddim\":embed_dim,\n",
    "    \"batchsize\": \"16\",\n",
    "    \"epochs\" : \"1000\",  \n",
    "    \"earlystoppingpatience\":20,\n",
    "    \"log-level\" : \"INFO\",\n",
    "    \"learningrate\":.001,\n",
    "    \"lstm_dropout\":0.5,\n",
    "    \"lstm_num_layers\" :1,\n",
    "    \"lstm_hidden_size\":400,\n",
    "    \"fc_drop_out_rate\":0.5,\n",
    "  \"train_val_vocab_merge\":1\n",
    "}"
   ]
  },
  {
   "cell_type": "code",
   "execution_count": 17,
   "metadata": {},
   "outputs": [],
   "source": [
    "ResnetCnnPosNetworkFactoryhyperparameters = {\n",
    "    \"dataset\":\"PpiAimedDatasetPreprocessedFactory\",\n",
    "    \"network\" :\"RelationExtractorResnetCnnPosNetworkFactory\",\n",
    "    \"earlystoppingpatience\" : 20,\n",
    "    \"trainfile\":trainfile.split(\"/\")[-1],\n",
    "   # \"valfile\":valfile.split(\"/\")[-1],\n",
    "    \"embeddingfile\":embeddingfile.split(\"/\")[-1],\n",
    "    \"embeddim\":embed_dim,\n",
    "    \"batchsize\": \"8\",\n",
    "    \"epochs\" : \"1000\",   \n",
    "    \"log-level\" : \"INFO\",\n",
    "    \"dropout_rate_cnn\": 0.5,\n",
    "    \"pooling_kernel_size\": 3,\n",
    "    \"pool_stride\":2,\n",
    "    \"cnn_kernel_size\":3,\n",
    "    \"cnn_num_layers\":3,\n",
    "    \"cnn_output\":64,\n",
    "    \"learningrate\":.00001,\n",
    "    \"weight_decay\":.00001,\n",
    "    \"fc_layer_size\": 256,\n",
    "    \"fc_drop_out_rate\": 0.5,\n",
    "    \"input_drop_out_rate\" : 0.2\n",
    "   \n",
    "}"
   ]
  },
  {
   "cell_type": "code",
   "execution_count": 18,
   "metadata": {},
   "outputs": [],
   "source": [
    "SimpleResnetCnnPosNetworkFactoryhyperparameters = {\n",
    "    \"dataset\":\"PpiAimedDatasetFactory\",\n",
    "    \"network\" :\"RelationExtractorSimpleResnetCnnPosNetworkFactory\",\n",
    "    \"earlystoppingpatience\" : 50,\n",
    "    \"trainfile\":trainfile.split(\"/\")[-1],\n",
    "  #  \"valfile\":valfile.split(\"/\")[-1],\n",
    "    \"embeddingfile\":embeddingfile.split(\"/\")[-1],\n",
    "    \"embeddim\":embed_dim,\n",
    "    \"batchsize\": \"32\",\n",
    "    \"epochs\" : \"1000\",   \n",
    "    \"log-level\" : \"INFO\",\n",
    "    \"dropout_rate_cnn\": 0.5,\n",
    "    \"pooling_kernel_size\": 3,\n",
    "    \"pool_stride\":2,\n",
    "    \"cnn_kernel_size\":3,\n",
    "    \"cnn_num_layers\":2,\n",
    "    \"cnn_output\":64,\n",
    "    \"learningrate\":.001,\n",
    "    \"weight_decay\":.00001,\n",
    "    \"fc_layer_size\": 256,\n",
    "    \"fc_drop_out_rate\": 0.5,\n",
    "    \"input_drop_out_rate\" : 0.2,\n",
    "   \n",
    "    \"train_val_vocab_merge\":1\n",
    "}"
   ]
  },
  {
   "cell_type": "code",
   "execution_count": 19,
   "metadata": {},
   "outputs": [],
   "source": [
    "SimpleResnetCnnPosNetworkFactoryhyperparameters_coll = {\n",
    "    \"dataset\":\"PpiAimedDatasetFactory\",\n",
    "    \"network\" :\"RelationExtractorSimpleResnetCnnPosNetworkFactory\",\n",
    "    \"earlystoppingpatience\" : 50,\n",
    "    \"trainfile\":trainfile.split(\"/\")[-1],\n",
    "  #  \"valfile\":valfile.split(\"/\")[-1],\n",
    "    \"embeddingfile\":coll_embeddingfile.split(\"/\")[-1],\n",
    "    \"embeddim\":50,\n",
    "    \"batchsize\": \"32\",\n",
    "    \"epochs\" : \"1000\",   \n",
    "    \"log-level\" : \"INFO\",\n",
    "    \"dropout_rate_cnn\": 0.5,\n",
    "    \"pooling_kernel_size\": 3,\n",
    "    \"pool_stride\":2,\n",
    "    \"cnn_kernel_size\":3,\n",
    "    \"cnn_num_layers\":2,\n",
    "    \"cnn_output\":64,\n",
    "    \"learningrate\":.001,\n",
    "    \"weight_decay\":.00001,\n",
    "    \"fc_layer_size\": 256,\n",
    "    \"fc_drop_out_rate\": 0.5,\n",
    "    \"input_drop_out_rate\" : 0.2,\n",
    "   \n",
    "    \"train_val_vocab_merge\":1\n",
    "}"
   ]
  },
  {
   "cell_type": "code",
   "execution_count": 20,
   "metadata": {},
   "outputs": [],
   "source": [
    "SimpleResnetCnnPosNetworkFactoryhyperparametersv2 = {\n",
    "    \"dataset\":\"PpiAimedDatasetFactory\",\n",
    "    \"network\" :\"RelationExtractorSimpleResnetCnnPosNetworkFactory\",\n",
    "    \"earlystoppingpatience\" : 50,\n",
    "    \"trainfile\":trainfile.split(\"/\")[-1],\n",
    "    \"valfile\":valfile.split(\"/\")[-1],\n",
    "    \"embeddingfile\":embeddingfile.split(\"/\")[-1],\n",
    "    \"embeddim\":embed_dim,\n",
    "    \"batchsize\": \"8\",\n",
    "    \"epochs\" : \"1000\",   \n",
    "    \"log-level\" : \"INFO\",\n",
    "    \"dropout_rate_cnn\": 0.5,\n",
    "    \"pooling_kernel_size\": 3,\n",
    "    \"pool_stride\":2,\n",
    "    \"cnn_kernel_size\":3,\n",
    "    \"cnn_num_layers\":3,\n",
    "    \"cnn_output\":32,\n",
    "    \"learningrate\":.001,\n",
    "    \"weight_decay\":.00001,\n",
    "    \"fc_layer_size\": 128,\n",
    "    \"fc_drop_out_rate\": 0.5,\n",
    "    \"input_drop_out_rate\" : 0.2,\n",
    "    \"train_val_vocab_merge\":1\n",
    "   \n",
    "}"
   ]
  },
  {
   "cell_type": "code",
   "execution_count": 21,
   "metadata": {},
   "outputs": [],
   "source": [
    "metric_definitions = [{\"Name\": \"TrainLoss\",\n",
    "                     \"Regex\": \"###score: train_loss### (\\d*[.]?\\d*)\"}\n",
    "                    ,{\"Name\": \"ValidationLoss\",\n",
    "                     \"Regex\": \"###score: val_loss### (\\d*[.]?\\d*)\"}\n",
    "                    ,{\"Name\": \"TrainFScore\",\n",
    "                     \"Regex\": \"###score: train_fscore### (\\d*[.]?\\d*)\"}\n",
    "                   ,{\"Name\": \"ValidationFScore\",\n",
    "                     \"Regex\": \"###score: val_fscore### (\\d*[.]?\\d*)\"}\n",
    "                    ]"
   ]
  },
  {
   "cell_type": "code",
   "execution_count": 22,
   "metadata": {},
   "outputs": [
    {
     "name": "stdout",
     "output_type": "stream",
     "text": [
      "commit 08cc232d34fd2b7a68bae0387f4fc1f61c87cd15\n",
      "    Add sample dataset\n"
     ]
    }
   ],
   "source": [
    "!git log -1 | head -1\n",
    "!git log -1 | head -5 | tail -1"
   ]
  },
  {
   "cell_type": "code",
   "execution_count": 23,
   "metadata": {},
   "outputs": [],
   "source": [
    "git_config = {'repo': 'https://github.com/elangovana/PPI-typed-relation-extractor.git',\n",
    "              'branch': 'master',\n",
    "            #  'commit': '58a09e154935248667062a36fdae7d86b86b477c'\n",
    "             }"
   ]
  },
  {
   "cell_type": "code",
   "execution_count": 24,
   "metadata": {},
   "outputs": [],
   "source": [
    "base_job_name=\"aimed-base-bilstm-pos\"\n",
    "hyperparameters = base_experiment_bilstm_pos #BilstmNetworkFactoryhyperparametersNoPos #PpiAimedDatasetFactoryYlhsiehBiLstmNetwork #SimpleResnetCnnPosNetworkFactoryhyperparameters\n",
    "inputs = plain_pub_inputs \n"
   ]
  },
  {
   "cell_type": "code",
   "execution_count": 25,
   "metadata": {},
   "outputs": [
    {
     "data": {
      "text/plain": [
       "{'batchsize': '50',\n",
       " 'dataset': 'PpiAimedDatasetFactory',\n",
       " 'earlystoppingpatience': 20,\n",
       " 'embeddim': 200,\n",
       " 'embeddingfile': 'PubMed-shuffle-win-2.bin.txt',\n",
       " 'epochs': '1000',\n",
       " 'fc_drop_out_rate': 0.5,\n",
       " 'fc_layer_size': 64,\n",
       " 'fine_tune_embeddings': 0,\n",
       " 'learningrate': 0.001,\n",
       " 'log-level': 'INFO',\n",
       " 'lstm_dropout': 0.5,\n",
       " 'lstm_hidden_size': 64,\n",
       " 'lstm_num_layers': 3,\n",
       " 'network': 'RelationExtractorDynamicEntityBiLstmNetworkFactory',\n",
       " 'pooling_kernel_size': 3,\n",
       " 'train_val_vocab_merge': 0,\n",
       " 'trainfile': 'AIMedFull.json',\n",
       " 'use_min_dict': 0}"
      ]
     },
     "execution_count": 25,
     "metadata": {},
     "output_type": "execute_result"
    }
   ],
   "source": [
    "hyperparameters"
   ]
  },
  {
   "cell_type": "code",
   "execution_count": 26,
   "metadata": {},
   "outputs": [
    {
     "data": {
      "text/plain": [
       "{'embedding': 's3://aegovan-data/embeddings/bio_nlp_vec/PubMed-shuffle-win-2.bin.txt',\n",
       " 'train': 's3://aegovan-data/aimed/AIMedFull.json'}"
      ]
     },
     "execution_count": 26,
     "metadata": {},
     "output_type": "execute_result"
    }
   ],
   "source": [
    "inputs"
   ]
  },
  {
   "cell_type": "code",
   "execution_count": 27,
   "metadata": {},
   "outputs": [],
   "source": [
    "from sagemaker.pytorch import PyTorch\n",
    "\n",
    "estimator = PyTorch(\n",
    "     entry_point='main_train_k_fold.py',\n",
    "   # entry_point='main_train.py',\n",
    "                    source_dir = 'source/algorithms',\n",
    "                    dependencies =['source/algorithms', 'source/datasets', 'source/preprocessor', 'source/modelnetworks'],\n",
    "                    role=role,\n",
    "                    framework_version =\"1.0.0\",\n",
    "                    py_version='py3',\n",
    "                    git_config= git_config,\n",
    "                    image_name= docker_repo,\n",
    "                    train_instance_count=1,\n",
    "                    train_instance_type=instance_type,\n",
    "                    hyperparameters =hyperparameters,\n",
    "                    output_path=s3_output_path,\n",
    "                    metric_definitions=metric_definitions,\n",
    "                    #train_use_spot_instances = True\n",
    "                    train_volume_size=30,\n",
    "                    code_location=s3_code_path,\n",
    "                    train_max_run = 60 * 60 * 24 * 4,\n",
    "                    base_job_name = base_job_name)"
   ]
  },
  {
   "cell_type": "code",
   "execution_count": null,
   "metadata": {},
   "outputs": [
    {
     "name": "stdout",
     "output_type": "stream",
     "text": [
      "2019-11-02 06:47:01 Starting - Starting the training job...\n",
      "2019-11-02 06:47:02 Starting - Launching requested ML instances...\n",
      "2019-11-02 06:47:59 Starting - Preparing the instances for training.."
     ]
    }
   ],
   "source": [
    "estimator.fit(inputs)"
   ]
  },
  {
   "cell_type": "markdown",
   "metadata": {},
   "source": [
    "### HPO"
   ]
  },
  {
   "cell_type": "code",
   "execution_count": null,
   "metadata": {},
   "outputs": [],
   "source": [
    "objective_metric_name =\"ValidationFScore\""
   ]
  },
  {
   "cell_type": "code",
   "execution_count": null,
   "metadata": {},
   "outputs": [],
   "source": [
    "from sagemaker.tuner import HyperparameterTuner, IntegerParameter, CategoricalParameter, ContinuousParameter\n",
    "hyperparameter_ranges = {'lstmhiddensize': IntegerParameter(40,200), #ContinuousParameter(0.01, 0.2),\n",
    "                          \"fclayersize\": IntegerParameter(10,50),\n",
    "                            \"numlayers\":IntegerParameter(1,10),\n",
    "                        \"poolingkernelsize\":IntegerParameter(2,10)}"
   ]
  },
  {
   "cell_type": "code",
   "execution_count": null,
   "metadata": {},
   "outputs": [],
   "source": [
    "hyperparameters={ \"trainfile\":trainfile.split(\"/\")[-1],\n",
    "    \"valfile\":valfile.split(\"/\")[-1],\n",
    "    \"embeddingfile\":embeddingfile.split(\"/\")[-1],\n",
    "     \"embeddim\":\"200\",\n",
    "    \"epochs\": 100,\n",
    "                 \"earlystoppingpatience\": 20,\n",
    "                        \"dataset\":\"PpiAimedDatasetFactory\"}"
   ]
  },
  {
   "cell_type": "code",
   "execution_count": null,
   "metadata": {},
   "outputs": [],
   "source": [
    "\n",
    "estimator = PyTorch(\n",
    "     entry_point='main_train.py',\n",
    "                    source_dir = 'source/algorithms',\n",
    "                    dependencies =['source/algorithms', 'source/datasets','source/preprocessor'],\n",
    "                    role=role,\n",
    "                    framework_version =\"1.0.0\",\n",
    "                    py_version='py3',\n",
    "                   # git_config= git_config,\n",
    "                    image_name= docker_repo,\n",
    "                    train_instance_count=1,\n",
    "                    train_instance_type=instance_type,\n",
    "                    hyperparameters =hyperparameters,\n",
    "                    output_path=s3_output_path,\n",
    "                    metric_definitions=metric_definitions,\n",
    "                    code_location=s3_code_path,\n",
    "                    #train_use_spot_instances = True\n",
    "                    train_volume_size=30,\n",
    "                    base_job_name =\"aimed-ppi-extractor\")"
   ]
  },
  {
   "cell_type": "code",
   "execution_count": null,
   "metadata": {},
   "outputs": [],
   "source": [
    "tuner = HyperparameterTuner(estimator,\n",
    "                            objective_metric_name,\n",
    "                            hyperparameter_ranges,\n",
    "                            metric_definitions,\n",
    "                            max_jobs=50,\n",
    "                            max_parallel_jobs=7,\n",
    "                            strategy=\"Random\",\n",
    "                            base_tuning_job_name=\"hpo-aimed-ppi-extractor\")\n",
    "tuner.fit(inputs)"
   ]
  }
 ],
 "metadata": {
  "kernelspec": {
   "display_name": "Python 3",
   "language": "python",
   "name": "python3"
  },
  "language_info": {
   "codemirror_mode": {
    "name": "ipython",
    "version": 3
   },
   "file_extension": ".py",
   "mimetype": "text/x-python",
   "name": "python",
   "nbconvert_exporter": "python",
   "pygments_lexer": "ipython3",
   "version": "3.6.4"
  }
 },
 "nbformat": 4,
 "nbformat_minor": 1
}
