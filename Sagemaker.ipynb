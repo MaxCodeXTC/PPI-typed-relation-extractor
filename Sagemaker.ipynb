{
 "cells": [
  {
   "cell_type": "markdown",
   "metadata": {},
   "source": [
    "### Set up"
   ]
  },
  {
   "cell_type": "markdown",
   "metadata": {},
   "source": [
    "#### 1. Set  up  accounts and role"
   ]
  },
  {
   "cell_type": "code",
   "execution_count": 13,
   "metadata": {},
   "outputs": [],
   "source": [
    "#!pip install sagemaker==1.39.0"
   ]
  },
  {
   "cell_type": "code",
   "execution_count": 14,
   "metadata": {},
   "outputs": [],
   "source": [
    "import sagemaker\n",
    "import boto3\n",
    "\n",
    "sagemaker_session = sagemaker.Session()\n",
    "account_id =  boto3.client('sts').get_caller_identity().get('Account')\n",
    "region = boto3.session.Session().region_name\n",
    "\n",
    "\n",
    "#role = sagemaker.get_execution_role()\n",
    "role=\"arn:aws:iam::{}:role/service-role/AmazonSageMaker-ExecutionRole-20190118T115449\".format(account_id)\n"
   ]
  },
  {
   "cell_type": "markdown",
   "metadata": {},
   "source": [
    "#### 2. Setup image and instance type"
   ]
  },
  {
   "cell_type": "code",
   "execution_count": 15,
   "metadata": {},
   "outputs": [],
   "source": [
    "pytorch_custom_image_name=\"ppi-extractor:gpu-1.0.0-201909140804\"\n",
    "instance_type = \"ml.p3.2xlarge\" "
   ]
  },
  {
   "cell_type": "code",
   "execution_count": 16,
   "metadata": {},
   "outputs": [],
   "source": [
    "docker_repo = \"{}.dkr.ecr.{}.amazonaws.com/{}\".format(account_id, region, pytorch_custom_image_name)"
   ]
  },
  {
   "cell_type": "markdown",
   "metadata": {},
   "source": [
    "#### 3. Configure train/ test and validation datasets"
   ]
  },
  {
   "cell_type": "code",
   "execution_count": 17,
   "metadata": {},
   "outputs": [],
   "source": [
    "bucket = \"aegovan-data\""
   ]
  },
  {
   "cell_type": "code",
   "execution_count": 18,
   "metadata": {},
   "outputs": [],
   "source": [
    "trainfile = \"s3://{}/processed_dataset/train_unique_pub_v6_less_negative.json\".format(bucket)\n",
    "testfile= \"s3://{}/processed_dataset/test_unique_pub_v6_less_negative.json\".format(bucket)\n",
    "valfile=\"s3://{}/processed_dataset/val_unique_pub_v6_less_negative.json\".format(bucket)\n",
    "embeddingfile=\"s3://{}/embeddings/wikipedia-pubmed-and-PMC-w2v.bin.txt\".format(bucket)\n",
    "s3_output_path= \"s3://{}/results/\".format(bucket)\n",
    "s3_code_path= \"s3://{}/ppi_code/\".format(bucket)"
   ]
  },
  {
   "cell_type": "markdown",
   "metadata": {},
   "source": [
    "### Start training"
   ]
  },
  {
   "cell_type": "code",
   "execution_count": 19,
   "metadata": {},
   "outputs": [],
   "source": [
    "inputs = {\n",
    "    \"train\" : trainfile,\n",
    "    \"val\" :valfile,\n",
    "    \"embedding\" : embeddingfile\n",
    "}"
   ]
  },
  {
   "cell_type": "code",
   "execution_count": 20,
   "metadata": {},
   "outputs": [],
   "source": [
    "hyperparameters = {\n",
    "    \"dataset\":\"PpiDatasetFactory\",\n",
    "    \"trainfile\":trainfile.split(\"/\")[-1],\n",
    "    \"valfile\":valfile.split(\"/\")[-1],\n",
    "    \"embeddingfile\":embeddingfile.split(\"/\")[-1],\n",
    "    \"embeddim\":200,\n",
    "    \"batchsize\": \"32\",\n",
    "    \"epochs\" : \"1000\",   \n",
    "    \"log-level\" : \"INFO\",\n",
    "    \"lstmhiddensize\": 8,\n",
    "    \"fclayersize\": 10,\n",
    "    \"numlayers\":3,\n",
    "    \"cnn_output\":100,\n",
    "    \"poolingkernelsize\":3\n",
    "   \n",
    "}"
   ]
  },
  {
   "cell_type": "code",
   "execution_count": 21,
   "metadata": {},
   "outputs": [],
   "source": [
    "metric_definitions = [{\"Name\": \"TrainLoss\",\n",
    "                     \"Regex\": \"###score: train_loss### (\\d*[.]?\\d*)\"}\n",
    "                    ,{\"Name\": \"ValidationLoss\",\n",
    "                     \"Regex\": \"###score: val_loss### (\\d*[.]?\\d*)\"}\n",
    "                    ,{\"Name\": \"TrainFScore\",\n",
    "                     \"Regex\": \"###score: train_fscore### (\\d*[.]?\\d*)\"}\n",
    "                   ,{\"Name\": \"ValidationFScore\",\n",
    "                     \"Regex\": \"###score: val_fscore### (\\d*[.]?\\d*)\"}\n",
    "                    ]"
   ]
  },
  {
   "cell_type": "code",
   "execution_count": 22,
   "metadata": {},
   "outputs": [],
   "source": [
    "git_config = {'repo': 'https://github.com/elangovana/PPI-typed-relation-extractor.git',\n",
    "              'branch': 'master',\n",
    "              'commit': 'c050a2818efd6dc6d2adb3dac07c102b94c92eab'}"
   ]
  },
  {
   "cell_type": "code",
   "execution_count": 23,
   "metadata": {},
   "outputs": [],
   "source": [
    "from sagemaker.pytorch import PyTorch\n",
    "\n",
    "estimator = PyTorch(\n",
    "     entry_point='main_train.py',\n",
    "                    source_dir = 'source/algorithms',\n",
    "                    dependencies =['source/algorithms', 'source/datasets',  'source/preprocessor'],\n",
    "                    role=role,\n",
    "                    framework_version =\"1.0.0\",\n",
    "                    py_version='py3',\n",
    "                   # git_config= git_config,\n",
    "                    image_name= docker_repo,\n",
    "                    train_instance_count=1,\n",
    "                    train_instance_type=instance_type,\n",
    "                    hyperparameters =hyperparameters,\n",
    "                    output_path=s3_output_path,\n",
    "                    metric_definitions=metric_definitions,\n",
    "                    #train_use_spot_instances = True\n",
    "                    code_location=s3_code_path,\n",
    "\n",
    "\n",
    "                    train_volume_size=30,\n",
    "                    base_job_name =\"ppi-extractor\")"
   ]
  },
  {
   "cell_type": "code",
   "execution_count": null,
   "metadata": {},
   "outputs": [
    {
     "name": "stdout",
     "output_type": "stream",
     "text": [
      "2019-09-28 11:06:01 Starting - Starting the training job...\n",
      "2019-09-28 11:06:02 Starting - Launching requested ML instances......\n",
      "2019-09-28 11:07:24 Starting - Preparing the instances for training...\n",
      "2019-09-28 11:07:58 Downloading - Downloading input data...............\n",
      "2019-09-28 11:11:11 Training - Downloading the training image..........\u001b[31mbash: cannot set terminal process group (-1): Inappropriate ioctl for device\u001b[0m\n",
      "\u001b[31mbash: no job control in this shell\u001b[0m\n",
      "\u001b[31m2019-09-28 11:13:23,354 sagemaker-containers INFO     Imported framework sagemaker_pytorch_container.training\u001b[0m\n",
      "\u001b[31m2019-09-28 11:13:23,380 sagemaker_pytorch_container.training INFO     Block until all host DNS lookups succeed.\u001b[0m\n",
      "\u001b[31m2019-09-28 11:13:26,406 sagemaker_pytorch_container.training INFO     Invoking user training script.\u001b[0m\n",
      "\u001b[31m2019-09-28 11:13:26,675 sagemaker-containers INFO     Module main_train does not provide a setup.py. \u001b[0m\n",
      "\u001b[31mGenerating setup.py\u001b[0m\n",
      "\u001b[31m2019-09-28 11:13:26,675 sagemaker-containers INFO     Generating setup.cfg\u001b[0m\n",
      "\u001b[31m2019-09-28 11:13:26,676 sagemaker-containers INFO     Generating MANIFEST.in\u001b[0m\n",
      "\u001b[31m2019-09-28 11:13:26,676 sagemaker-containers INFO     Installing module with the following command:\u001b[0m\n",
      "\u001b[31m/usr/bin/python -m pip install -U . \u001b[0m\n",
      "\u001b[31mProcessing /opt/ml/code\u001b[0m\n",
      "\u001b[31mBuilding wheels for collected packages: main-train\n",
      "  Running setup.py bdist_wheel for main-train: started\u001b[0m\n",
      "\u001b[31m  Running setup.py bdist_wheel for main-train: finished with status 'done'\n",
      "  Stored in directory: /tmp/pip-ephem-wheel-cache-jf46g9sa/wheels/35/24/16/37574d11bf9bde50616c67372a334f94fa8356bc7164af8ca3\u001b[0m\n",
      "\u001b[31mSuccessfully built main-train\u001b[0m\n",
      "\u001b[31mInstalling collected packages: main-train\u001b[0m\n",
      "\u001b[31mSuccessfully installed main-train-1.0.0\u001b[0m\n",
      "\u001b[31mYou are using pip version 18.1, however version 19.2.3 is available.\u001b[0m\n",
      "\u001b[31mYou should consider upgrading via the 'pip install --upgrade pip' command.\u001b[0m\n",
      "\u001b[31m2019-09-28 11:13:29,037 sagemaker-containers INFO     Invoking user script\n",
      "\u001b[0m\n",
      "\u001b[31mTraining Env:\n",
      "\u001b[0m\n",
      "\u001b[31m{\n",
      "    \"additional_framework_parameters\": {},\n",
      "    \"channel_input_dirs\": {\n",
      "        \"val\": \"/opt/ml/input/data/val\",\n",
      "        \"embedding\": \"/opt/ml/input/data/embedding\",\n",
      "        \"train\": \"/opt/ml/input/data/train\"\n",
      "    },\n",
      "    \"current_host\": \"algo-1\",\n",
      "    \"framework_module\": \"sagemaker_pytorch_container.training:main\",\n",
      "    \"hosts\": [\n",
      "        \"algo-1\"\n",
      "    ],\n",
      "    \"hyperparameters\": {\n",
      "        \"poolingkernelsize\": 3,\n",
      "        \"fclayersize\": 10,\n",
      "        \"trainfile\": \"train_unique_pub_v6_less_negative.json\",\n",
      "        \"batchsize\": \"32\",\n",
      "        \"cnn_output\": 100,\n",
      "        \"log-level\": \"INFO\",\n",
      "        \"embeddim\": 200,\n",
      "        \"embeddingfile\": \"wikipedia-pubmed-and-PMC-w2v.bin.txt\",\n",
      "        \"valfile\": \"val_unique_pub_v6_less_negative.json\",\n",
      "        \"numlayers\": 3,\n",
      "        \"dataset\": \"PpiDatasetFactory\",\n",
      "        \"epochs\": \"1000\",\n",
      "        \"lstmhiddensize\": 8\n",
      "    },\n",
      "    \"input_config_dir\": \"/opt/ml/input/config\",\n",
      "    \"input_data_config\": {\n",
      "        \"val\": {\n",
      "            \"TrainingInputMode\": \"File\",\n",
      "            \"S3DistributionType\": \"FullyReplicated\",\n",
      "            \"RecordWrapperType\": \"None\"\n",
      "        },\n",
      "        \"embedding\": {\n",
      "            \"TrainingInputMode\": \"File\",\n",
      "            \"S3DistributionType\": \"FullyReplicated\",\n",
      "            \"RecordWrapperType\": \"None\"\n",
      "        },\n",
      "        \"train\": {\n",
      "            \"TrainingInputMode\": \"File\",\n",
      "            \"S3DistributionType\": \"FullyReplicated\",\n",
      "            \"RecordWrapperType\": \"None\"\n",
      "        }\n",
      "    },\n",
      "    \"input_dir\": \"/opt/ml/input\",\n",
      "    \"is_master\": true,\n",
      "    \"job_name\": \"ppi-extractor-2019-09-28-11-05-45-054\",\n",
      "    \"log_level\": 20,\n",
      "    \"master_hostname\": \"algo-1\",\n",
      "    \"model_dir\": \"/opt/ml/model\",\n",
      "    \"module_dir\": \"s3://aegovan-data/ppi_code//ppi-extractor-2019-09-28-11-05-45-054/source/sourcedir.tar.gz\",\n",
      "    \"module_name\": \"main_train\",\n",
      "    \"network_interface_name\": \"eth0\",\n",
      "    \"num_cpus\": 8,\n",
      "    \"num_gpus\": 1,\n",
      "    \"output_data_dir\": \"/opt/ml/output/data\",\n",
      "    \"output_dir\": \"/opt/ml/output\",\n",
      "    \"output_intermediate_dir\": \"/opt/ml/output/intermediate\",\n",
      "    \"resource_config\": {\n",
      "        \"current_host\": \"algo-1\",\n",
      "        \"hosts\": [\n",
      "            \"algo-1\"\n",
      "        ],\n",
      "        \"network_interface_name\": \"eth0\"\n",
      "    },\n",
      "    \"user_entry_point\": \"main_train.py\"\u001b[0m\n",
      "\u001b[31m}\n",
      "\u001b[0m\n",
      "\u001b[31mEnvironment variables:\n",
      "\u001b[0m\n",
      "\u001b[31mSM_HOSTS=[\"algo-1\"]\u001b[0m\n",
      "\u001b[31mSM_NETWORK_INTERFACE_NAME=eth0\u001b[0m\n",
      "\u001b[31mSM_HPS={\"batchsize\":\"32\",\"cnn_output\":100,\"dataset\":\"PpiDatasetFactory\",\"embeddim\":200,\"embeddingfile\":\"wikipedia-pubmed-and-PMC-w2v.bin.txt\",\"epochs\":\"1000\",\"fclayersize\":10,\"log-level\":\"INFO\",\"lstmhiddensize\":8,\"numlayers\":3,\"poolingkernelsize\":3,\"trainfile\":\"train_unique_pub_v6_less_negative.json\",\"valfile\":\"val_unique_pub_v6_less_negative.json\"}\u001b[0m\n",
      "\u001b[31mSM_USER_ENTRY_POINT=main_train.py\u001b[0m\n",
      "\u001b[31mSM_FRAMEWORK_PARAMS={}\u001b[0m\n",
      "\u001b[31mSM_RESOURCE_CONFIG={\"current_host\":\"algo-1\",\"hosts\":[\"algo-1\"],\"network_interface_name\":\"eth0\"}\u001b[0m\n",
      "\u001b[31mSM_INPUT_DATA_CONFIG={\"embedding\":{\"RecordWrapperType\":\"None\",\"S3DistributionType\":\"FullyReplicated\",\"TrainingInputMode\":\"File\"},\"train\":{\"RecordWrapperType\":\"None\",\"S3DistributionType\":\"FullyReplicated\",\"TrainingInputMode\":\"File\"},\"val\":{\"RecordWrapperType\":\"None\",\"S3DistributionType\":\"FullyReplicated\",\"TrainingInputMode\":\"File\"}}\u001b[0m\n",
      "\u001b[31mSM_OUTPUT_DATA_DIR=/opt/ml/output/data\u001b[0m\n",
      "\u001b[31mSM_CHANNELS=[\"embedding\",\"train\",\"val\"]\u001b[0m\n",
      "\u001b[31mSM_CURRENT_HOST=algo-1\u001b[0m\n",
      "\u001b[31mSM_MODULE_NAME=main_train\u001b[0m\n",
      "\u001b[31mSM_LOG_LEVEL=20\u001b[0m\n",
      "\u001b[31mSM_FRAMEWORK_MODULE=sagemaker_pytorch_container.training:main\u001b[0m\n",
      "\u001b[31mSM_INPUT_DIR=/opt/ml/input\u001b[0m\n",
      "\u001b[31mSM_INPUT_CONFIG_DIR=/opt/ml/input/config\u001b[0m\n",
      "\u001b[31mSM_OUTPUT_DIR=/opt/ml/output\u001b[0m\n",
      "\u001b[31mSM_NUM_CPUS=8\u001b[0m\n",
      "\u001b[31mSM_NUM_GPUS=1\u001b[0m\n",
      "\u001b[31mSM_MODEL_DIR=/opt/ml/model\u001b[0m\n",
      "\u001b[31mSM_MODULE_DIR=s3://aegovan-data/ppi_code//ppi-extractor-2019-09-28-11-05-45-054/source/sourcedir.tar.gz\u001b[0m\n",
      "\u001b[31mSM_TRAINING_ENV={\"additional_framework_parameters\":{},\"channel_input_dirs\":{\"embedding\":\"/opt/ml/input/data/embedding\",\"train\":\"/opt/ml/input/data/train\",\"val\":\"/opt/ml/input/data/val\"},\"current_host\":\"algo-1\",\"framework_module\":\"sagemaker_pytorch_container.training:main\",\"hosts\":[\"algo-1\"],\"hyperparameters\":{\"batchsize\":\"32\",\"cnn_output\":100,\"dataset\":\"PpiDatasetFactory\",\"embeddim\":200,\"embeddingfile\":\"wikipedia-pubmed-and-PMC-w2v.bin.txt\",\"epochs\":\"1000\",\"fclayersize\":10,\"log-level\":\"INFO\",\"lstmhiddensize\":8,\"numlayers\":3,\"poolingkernelsize\":3,\"trainfile\":\"train_unique_pub_v6_less_negative.json\",\"valfile\":\"val_unique_pub_v6_less_negative.json\"},\"input_config_dir\":\"/opt/ml/input/config\",\"input_data_config\":{\"embedding\":{\"RecordWrapperType\":\"None\",\"S3DistributionType\":\"FullyReplicated\",\"TrainingInputMode\":\"File\"},\"train\":{\"RecordWrapperType\":\"None\",\"S3DistributionType\":\"FullyReplicated\",\"TrainingInputMode\":\"File\"},\"val\":{\"RecordWrapperType\":\"None\",\"S3DistributionType\":\"FullyReplicated\",\"TrainingInputMode\":\"File\"}},\"input_dir\":\"/opt/ml/input\",\"is_master\":true,\"job_name\":\"ppi-extractor-2019-09-28-11-05-45-054\",\"log_level\":20,\"master_hostname\":\"algo-1\",\"model_dir\":\"/opt/ml/model\",\"module_dir\":\"s3://aegovan-data/ppi_code//ppi-extractor-2019-09-28-11-05-45-054/source/sourcedir.tar.gz\",\"module_name\":\"main_train\",\"network_interface_name\":\"eth0\",\"num_cpus\":8,\"num_gpus\":1,\"output_data_dir\":\"/opt/ml/output/data\",\"output_dir\":\"/opt/ml/output\",\"output_intermediate_dir\":\"/opt/ml/output/intermediate\",\"resource_config\":{\"current_host\":\"algo-1\",\"hosts\":[\"algo-1\"],\"network_interface_name\":\"eth0\"},\"user_entry_point\":\"main_train.py\"}\u001b[0m\n",
      "\u001b[31mSM_USER_ARGS=[\"--batchsize\",\"32\",\"--cnn_output\",\"100\",\"--dataset\",\"PpiDatasetFactory\",\"--embeddim\",\"200\",\"--embeddingfile\",\"wikipedia-pubmed-and-PMC-w2v.bin.txt\",\"--epochs\",\"1000\",\"--fclayersize\",\"10\",\"--log-level\",\"INFO\",\"--lstmhiddensize\",\"8\",\"--numlayers\",\"3\",\"--poolingkernelsize\",\"3\",\"--trainfile\",\"train_unique_pub_v6_less_negative.json\",\"--valfile\",\"val_unique_pub_v6_less_negative.json\"]\u001b[0m\n",
      "\u001b[31mSM_OUTPUT_INTERMEDIATE_DIR=/opt/ml/output/intermediate\u001b[0m\n",
      "\u001b[31mSM_CHANNEL_VAL=/opt/ml/input/data/val\u001b[0m\n",
      "\u001b[31mSM_CHANNEL_EMBEDDING=/opt/ml/input/data/embedding\u001b[0m\n",
      "\u001b[31mSM_CHANNEL_TRAIN=/opt/ml/input/data/train\u001b[0m\n",
      "\u001b[31mSM_HP_POOLINGKERNELSIZE=3\u001b[0m\n",
      "\u001b[31mSM_HP_FCLAYERSIZE=10\u001b[0m\n",
      "\u001b[31mSM_HP_TRAINFILE=train_unique_pub_v6_less_negative.json\u001b[0m\n",
      "\u001b[31mSM_HP_BATCHSIZE=32\u001b[0m\n",
      "\u001b[31mSM_HP_CNN_OUTPUT=100\u001b[0m\n",
      "\u001b[31mSM_HP_LOG-LEVEL=INFO\u001b[0m\n",
      "\u001b[31mSM_HP_EMBEDDIM=200\u001b[0m\n",
      "\u001b[31mSM_HP_EMBEDDINGFILE=wikipedia-pubmed-and-PMC-w2v.bin.txt\u001b[0m\n",
      "\u001b[31mSM_HP_VALFILE=val_unique_pub_v6_less_negative.json\u001b[0m\n",
      "\u001b[31mSM_HP_NUMLAYERS=3\u001b[0m\n",
      "\u001b[31mSM_HP_DATASET=PpiDatasetFactory\u001b[0m\n",
      "\u001b[31mSM_HP_EPOCHS=1000\u001b[0m\n",
      "\u001b[31mSM_HP_LSTMHIDDENSIZE=8\u001b[0m\n",
      "\u001b[31mPYTHONPATH=/usr/local/bin:/usr/lib/python36.zip:/usr/lib/python3.6:/usr/lib/python3.6/lib-dynload:/usr/local/lib/python3.6/dist-packages:/usr/lib/python3/dist-packages\n",
      "\u001b[0m\n",
      "\u001b[31mInvoking script with the following command:\n",
      "\u001b[0m\n",
      "\u001b[31m/usr/bin/python -m main_train --batchsize 32 --cnn_output 100 --dataset PpiDatasetFactory --embeddim 200 --embeddingfile wikipedia-pubmed-and-PMC-w2v.bin.txt --epochs 1000 --fclayersize 10 --log-level INFO --lstmhiddensize 8 --numlayers 3 --poolingkernelsize 3 --trainfile train_unique_pub_v6_less_negative.json --valfile val_unique_pub_v6_less_negative.json\n",
      "\n",
      "\u001b[0m\n",
      "\u001b[31m['--batchsize', '32', '--cnn_output', '100', '--fclayersize', '10', '--lstmhiddensize', '8', '--numlayers', '3', '--poolingkernelsize', '3']\u001b[0m\n",
      "\u001b[31m{'dataset': 'PpiDatasetFactory', 'trainfile': 'train_unique_pub_v6_less_negative.json', 'traindir': '/opt/ml/input/data/train', 'valfile': 'val_unique_pub_v6_less_negative.json', 'valdir': '/opt/ml/input/data/val', 'embeddingfile': 'wikipedia-pubmed-and-PMC-w2v.bin.txt', 'embeddingdir': '/opt/ml/input/data/embedding', 'outdir': '/opt/ml/output/data', 'modeldir': '/opt/ml/model', 'embeddim': 200, 'epochs': 1000, 'earlystoppingpatience': 10, 'interaction_type': None, 'log_level': 'INFO'}\u001b[0m\n",
      "\u001b[31m{'batchsize': '32', 'cnn_output': '100', 'fclayersize': '10', 'lstmhiddensize': '8', 'numlayers': '3', 'poolingkernelsize': '3'}\u001b[0m\n",
      "\u001b[31m2019-09-28 11:13:31,774 - __main__ - INFO - The embedding header is 5443656 200\n",
      "\u001b[0m\n",
      "\u001b[31m2019-09-28 11:13:31,774 - algorithms.TrainInferenceBuilder - INFO - Retrieving key batchsize with default 32, found 32\u001b[0m\n",
      "\u001b[31m2019-09-28 11:13:31,774 - algorithms.TrainInferenceBuilder - INFO - Retrieving key lstmhiddensize with default 100, found 8\u001b[0m\n",
      "\u001b[31m2019-09-28 11:13:31,774 - algorithms.TrainInferenceBuilder - INFO - Retrieving key dropout_rate_fc with default .5, found .5\u001b[0m\n",
      "\u001b[31m2019-09-28 11:13:31,775 - algorithms.TrainInferenceBuilder - INFO - Retrieving key poolingkernelsize with default 4, found 3\u001b[0m\n",
      "\u001b[31m2019-09-28 11:13:31,775 - algorithms.TrainInferenceBuilder - INFO - Retrieving key fclayersize with default 25, found 10\u001b[0m\n",
      "\u001b[31m2019-09-28 11:13:31,775 - algorithms.TrainInferenceBuilder - INFO - Retrieving key numlayers with default 2, found 3\u001b[0m\n",
      "\u001b[31m2019-09-28 11:13:31,775 - algorithms.TrainInferenceBuilder - INFO - Retrieving key learningrate with default .01, found .01\u001b[0m\n",
      "\u001b[31m2019-09-28 11:13:31,775 - algorithms.TrainInferenceBuilder - INFO - Retrieving key cnn_output with default 100, found 100\u001b[0m\n",
      "\u001b[31m2019-09-28 11:13:31,776 - algorithms.RelationExtractorCnnPosNetwork - INFO - NGram Size is 5\u001b[0m\n",
      "\u001b[31m2019-09-28 11:13:31,777 - algorithms.RelationExtractorCnnPosNetwork - INFO - The text feature is index 0, the feature lengths are [250   1   1   1]\u001b[0m\n",
      "\u001b[31m2019-09-28 11:13:31,787 - algorithms.RelationExtractorCnnPosNetwork - INFO - Word embedding size is 200, pos embedding size is 9, cnn_output size 100, total is 209\u001b[0m\n",
      "\u001b[31m2019-09-28 11:13:31,787 - algorithms.RelationExtractorCnnPosNetwork - INFO - Cnn layer  out length = 250, layer_cnn_kernel=5, pool layer length = 250, layer_pool_kernel=5\u001b[0m\n",
      "\u001b[31m2019-09-28 11:13:31,817 - algorithms.TrainInferenceBuilder - INFO - Using model <class 'algorithms.RelationExtractorCnnPosNetwork.RelationExtractorCnnPosNetwork'>\u001b[0m\n",
      "\u001b[31m2019-09-28 11:13:31,817 - algorithms.TrainInferenceBuilder - INFO - Using optimiser <class 'torch.optim.adam.Adam'>\u001b[0m\n",
      "\u001b[31m2019-09-28 11:13:31,818 - algorithms.TrainInferenceBuilder - INFO - Using loss function <class 'torch.nn.modules.loss.CrossEntropyLoss'>\u001b[0m\n",
      "\u001b[31m2019-09-28 11:13:31,844 - algorithms.TrainInferencePipeline - INFO - Train set has 3639 records, val has 479\u001b[0m\n"
     ]
    },
    {
     "name": "stdout",
     "output_type": "stream",
     "text": [
      "\n",
      "2019-09-28 11:13:22 Training - Training image download completed. Training in progress.\u001b[31m2019-09-28 11:21:12,224 - algorithms.PretrainedEmbedderLoader - INFO - The number of words intialised without embbeder is 126\u001b[0m\n",
      "\u001b[31m2019-09-28 11:22:31,395 - algorithms.transform_sentence_tokeniser - INFO - Running sentence tokenisor \u001b[0m\n",
      "\u001b[31m2019-09-28 11:24:35,557 - algorithms.transform_sentence_tokeniser - INFO - Completed  sentence tokenisor \u001b[0m\n",
      "\u001b[31m2019-09-28 11:24:35,565 - algorithms.transform_text_index - INFO - Transforming TransformTextToIndex\u001b[0m\n",
      "\u001b[31m2019-09-28 11:24:36,113 - algorithms.transform_text_index - INFO - Completed TransformTextToIndex\u001b[0m\n",
      "\u001b[31m2019-09-28 11:24:36,114 - algorithms.transform_sentence_tokeniser - INFO - Running sentence tokenisor \u001b[0m\n",
      "\u001b[31m2019-09-28 11:24:54,329 - algorithms.transform_sentence_tokeniser - INFO - Completed  sentence tokenisor \u001b[0m\n",
      "\u001b[31m2019-09-28 11:24:54,333 - algorithms.transform_text_index - INFO - Transforming TransformTextToIndex\u001b[0m\n",
      "\u001b[31m2019-09-28 11:24:54,404 - algorithms.transform_text_index - INFO - Completed TransformTextToIndex\u001b[0m\n",
      "\u001b[31m2019-09-28 11:24:54,405 - algorithms.transform_label_encoder - INFO - Running TransformLabelEncoder\u001b[0m\n",
      "\u001b[31m2019-09-28 11:24:54,406 - algorithms.transform_label_encoder - INFO - Complete TransformLabelEncoder\u001b[0m\n",
      "\u001b[31m2019-09-28 11:24:59,170 - algorithms.transform_label_rehaper - INFO - Loading int 1 to tensor 1\u001b[0m\n",
      "\u001b[31m2019-09-28 11:24:59,171 - algorithms.TrainInferencePipeline - INFO - Positive label True is 1\u001b[0m\n",
      "\u001b[31m2019-09-28 11:25:01,464 - algorithms.Train - INFO - using score : <class 'algorithms.result_scorer_f1.ResultScorerF1'>\u001b[0m\n",
      "\u001b[31m2019-09-28 11:29:45,591 - algorithms.Train - INFO - Train set result details:\u001b[0m\n",
      "\u001b[31m2019-09-28 11:29:45,644 - algorithms.result_writer - INFO - Confusion matrix, full output in /opt/ml/output/data/predictedvsactual_6fcaba4b-0f50-4440-864c-cf8e1963905d_20190928_112945.csv: \u001b[0m\n",
      "\u001b[31m[[2798    2]\n",
      " [ 832    7]]\u001b[0m\n",
      "\u001b[31m2019-09-28 11:29:45,649 - algorithms.Train - INFO - Train set result details: 0.01650943396226415\u001b[0m\n",
      "\u001b[31m2019-09-28 11:29:45,649 - algorithms.Train - INFO - Validation set result details:\u001b[0m\n",
      "\u001b[31m2019-09-28 11:30:04,190 - algorithms.result_writer - INFO - Confusion matrix, full output in /opt/ml/output/data/predictedvsactual_48f1f71c-c32d-4277-9fd9-db6b56ca86df_20190928_113004.csv: \u001b[0m\n",
      "\u001b[31m[[374   0]\n",
      " [105   0]]\u001b[0m\n",
      "\u001b[31m2019-09-28 11:30:04,194 - algorithms.Train - INFO - Validation set result details: 0.0 \u001b[0m\n",
      "\u001b[31m2019-09-28 11:30:04,194 - algorithms.Train - INFO - Snapshotting because the current score 0.0 is greater than None \u001b[0m\n",
      "\u001b[31m2019-09-28 11:30:04,194 - algorithms.ModelSnapshotCallback - INFO - Snappshotting model to /opt/ml/model/best_snaphsotmodel.pt\u001b[0m\n",
      "\u001b[31m2019-09-28 11:30:33,501 - algorithms.Train - INFO - Run    332     0       114     5/114         4% 61.017176 7.879845       0.0165       0.0000\u001b[0m\n",
      "\u001b[31m###score: train_loss### 61.01717573404312\u001b[0m\n",
      "\u001b[31m###score: val_loss### 7.87984524667263\u001b[0m\n",
      "\u001b[31m###score: train_fscore### 0.01650943396226415\u001b[0m\n",
      "\u001b[31m###score: val_fscore### 0.0\u001b[0m\n"
     ]
    }
   ],
   "source": [
    "estimator.fit(inputs)"
   ]
  },
  {
   "cell_type": "markdown",
   "metadata": {},
   "source": [
    "### HPO"
   ]
  },
  {
   "cell_type": "code",
   "execution_count": null,
   "metadata": {},
   "outputs": [],
   "source": [
    "objective_metric_name =\"ValidationFScore\""
   ]
  },
  {
   "cell_type": "code",
   "execution_count": null,
   "metadata": {},
   "outputs": [],
   "source": [
    "from sagemaker.tuner import HyperparameterTuner, IntegerParameter, CategoricalParameter, ContinuousParameter\n",
    "hyperparameter_ranges = {'lstmhiddensize': IntegerParameter(2,200), #ContinuousParameter(0.01, 0.2),\n",
    "                        \"fclayersize\": IntegerParameter(2,50),\n",
    "                        \"numlayers\":IntegerParameter(1,10),\n",
    "                        \"poolingkernelsize\":IntegerParameter(2,10)\n",
    "                        }"
   ]
  },
  {
   "cell_type": "code",
   "execution_count": null,
   "metadata": {},
   "outputs": [],
   "source": [
    "hyperparameters={ \"trainfile\":trainfile.split(\"/\")[-1],\n",
    "    \"valfile\":valfile.split(\"/\")[-1],\n",
    "    \"embeddingfile\":embeddingfile.split(\"/\")[-1],\n",
    "                        \"embeddim\":\"200\",\n",
    "                        \"dataset\":\"PpiDatasetFactory\",\n",
    "                 \"earlystoppingpatience\":20,\n",
    "                         'epochs': 100}"
   ]
  },
  {
   "cell_type": "code",
   "execution_count": null,
   "metadata": {},
   "outputs": [],
   "source": [
    "\n",
    "estimator = PyTorch(\n",
    "     entry_point='main_train.py',\n",
    "                    source_dir = 'source/algorithms',\n",
    "                    dependencies =['source/algorithms', 'source/datasets', 'source/preprocessor'],\n",
    "                    role=role,\n",
    "                    framework_version =\"1.0.0\",\n",
    "                    py_version='py3',\n",
    "                   # git_config= git_config,\n",
    "                    image_name= docker_repo,\n",
    "                    train_instance_count=1,\n",
    "                    train_instance_type=instance_type,\n",
    "                    hyperparameters =hyperparameters,\n",
    "                    output_path=s3_output_path,\n",
    "                    metric_definitions=metric_definitions,\n",
    "                    code_location=s3_code_path,\n",
    "\n",
    "\n",
    "                    #train_use_spot_instances = True\n",
    "                    train_volume_size=30,\n",
    "                    base_job_name =\"hpo-ppi-extractor\")"
   ]
  },
  {
   "cell_type": "code",
   "execution_count": null,
   "metadata": {},
   "outputs": [],
   "source": [
    "tuner = HyperparameterTuner(estimator,\n",
    "                            objective_metric_name,\n",
    "                            hyperparameter_ranges,\n",
    "                            metric_definitions,\n",
    "                            max_jobs=50,\n",
    "                            max_parallel_jobs=4,\n",
    "                            strategy=\"Random\",\n",
    "                            base_tuning_job_name=\"hpo-ppi-extractor\")\n",
    "tuner.fit(inputs)"
   ]
  }
 ],
 "metadata": {
  "kernelspec": {
   "display_name": "Python 3",
   "language": "python",
   "name": "python3"
  },
  "language_info": {
   "codemirror_mode": {
    "name": "ipython",
    "version": 3
   },
   "file_extension": ".py",
   "mimetype": "text/x-python",
   "name": "python",
   "nbconvert_exporter": "python",
   "pygments_lexer": "ipython3",
   "version": "3.6.4"
  }
 },
 "nbformat": 4,
 "nbformat_minor": 1
}
