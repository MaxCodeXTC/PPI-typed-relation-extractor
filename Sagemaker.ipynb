{
 "cells": [
  {
   "cell_type": "markdown",
   "metadata": {},
   "source": [
    "### Set up"
   ]
  },
  {
   "cell_type": "markdown",
   "metadata": {},
   "source": [
    "#### 1. Set  up  accounts and role"
   ]
  },
  {
   "cell_type": "code",
   "execution_count": null,
   "metadata": {},
   "outputs": [],
   "source": [
    "!pip install sagemaker==1.39.0"
   ]
  },
  {
   "cell_type": "code",
   "execution_count": 1,
   "metadata": {},
   "outputs": [],
   "source": [
    "import sagemaker\n",
    "import boto3\n",
    "\n",
    "sagemaker_session = sagemaker.Session()\n",
    "account_id =  boto3.client('sts').get_caller_identity().get('Account')\n",
    "region = boto3.session.Session().region_name\n",
    "\n",
    "\n",
    "#role = sagemaker.get_execution_role()\n",
    "role=\"arn:aws:iam::{}:role/service-role/AmazonSageMaker-ExecutionRole-20190118T115449\".format(account_id)\n"
   ]
  },
  {
   "cell_type": "markdown",
   "metadata": {},
   "source": [
    "#### 2. Setup image and instance type"
   ]
  },
  {
   "cell_type": "code",
   "execution_count": 2,
   "metadata": {},
   "outputs": [],
   "source": [
    "pytorch_custom_image_name=\"ppi-extractor:gpu-1.0.0-201909140804\"\n",
    "instance_type = \"ml.p3.2xlarge\" "
   ]
  },
  {
   "cell_type": "code",
   "execution_count": 3,
   "metadata": {},
   "outputs": [],
   "source": [
    "docker_repo = \"{}.dkr.ecr.{}.amazonaws.com/{}\".format(account_id, region, pytorch_custom_image_name)"
   ]
  },
  {
   "cell_type": "markdown",
   "metadata": {},
   "source": [
    "#### 3. Configure train/ test and validation datasets"
   ]
  },
  {
   "cell_type": "code",
   "execution_count": 4,
   "metadata": {},
   "outputs": [],
   "source": [
    "bucket = \"aegovan-data\""
   ]
  },
  {
   "cell_type": "code",
   "execution_count": 5,
   "metadata": {},
   "outputs": [],
   "source": [
    "trainfile = \"s3://{}/processed_dataset/train_unique_pub_v6_less_negative.json\".format(bucket)\n",
    "testfile= \"s3://{}/processed_dataset/test_unique_pub_v6_less_negative.json\".format(bucket)\n",
    "valfile=\"s3://{}/processed_dataset/val_unique_pub_v6_less_negative.json\".format(bucket)\n",
    "embeddingfile=\"s3://{}/embeddings/wikipedia-pubmed-and-PMC-w2v.bin.txt\".format(bucket)\n",
    "s3_output_path= \"s3://{}/results/\".format(bucket)"
   ]
  },
  {
   "cell_type": "markdown",
   "metadata": {},
   "source": [
    "### Start training"
   ]
  },
  {
   "cell_type": "code",
   "execution_count": 6,
   "metadata": {},
   "outputs": [],
   "source": [
    "inputs = {\n",
    "    \"train\" : trainfile,\n",
    "    \"val\" :valfile,\n",
    "    \"embedding\" : embeddingfile\n",
    "}"
   ]
  },
  {
   "cell_type": "code",
   "execution_count": 7,
   "metadata": {},
   "outputs": [],
   "source": [
    "hyperparameters = {\n",
    "    \"dataset\":\"PPIDataset\",\n",
    "    \"trainfile\":trainfile.split(\"/\")[-1],\n",
    "    \"valfile\":valfile.split(\"/\")[-1],\n",
    "    \"embeddingfile\":embeddingfile.split(\"/\")[-1],\n",
    "    \"embeddim\":200,\n",
    "    \"batchsize\": \"32\",\n",
    "    \"epochs\" : \"1000\",   \n",
    "    \"log-level\" : \"INFO\",\n",
    "    \"lstmhiddensize\": 75,\n",
    "    \"poolingkernelsize\":4\n",
    "   \n",
    "}"
   ]
  },
  {
   "cell_type": "code",
   "execution_count": 8,
   "metadata": {},
   "outputs": [],
   "source": [
    "metric_definitions = [{\"Name\": \"TrainLoss\",\n",
    "                     \"Regex\": \"###score: train_loss### (\\d*[.]?\\d*)\"}\n",
    "                    ,{\"Name\": \"ValidationLoss\",\n",
    "                     \"Regex\": \"###score: val_loss### (\\d*[.]?\\d*)\"}\n",
    "                    ,{\"Name\": \"TrainFScore\",\n",
    "                     \"Regex\": \"###score: train_fscore### (\\d*[.]?\\d*)\"}\n",
    "                   ,{\"Name\": \"ValidationFScore\",\n",
    "                     \"Regex\": \"###score: val_fscore### (\\d*[.]?\\d*)\"}\n",
    "                    ]"
   ]
  },
  {
   "cell_type": "code",
   "execution_count": null,
   "metadata": {},
   "outputs": [],
   "source": [
    "git_config = {'repo': 'https://github.com/elangovana/PPI-typed-relation-extractor.git',\n",
    "              'branch': 'master',\n",
    "              'commit': 'c050a2818efd6dc6d2adb3dac07c102b94c92eab'}"
   ]
  },
  {
   "cell_type": "code",
   "execution_count": 9,
   "metadata": {},
   "outputs": [],
   "source": [
    "from sagemaker.pytorch import PyTorch\n",
    "\n",
    "estimator = PyTorch(\n",
    "     entry_point='main_train.py',\n",
    "                    source_dir = 'source/algorithms',\n",
    "                    dependencies =['source/algorithms', 'source/datasets'],\n",
    "                    role=role,\n",
    "                    framework_version =\"1.0.0\",\n",
    "                    py_version='py3',\n",
    "                   # git_config= git_config,\n",
    "                    image_name= docker_repo,\n",
    "                    train_instance_count=1,\n",
    "                    train_instance_type=instance_type,\n",
    "                    hyperparameters =hyperparameters,\n",
    "                    output_path=s3_output_path,\n",
    "                    metric_definitions=metric_definitions,\n",
    "                    #train_use_spot_instances = True\n",
    "                    train_volume_size=30,\n",
    "                    base_job_name =\"ppi-extractor\")"
   ]
  },
  {
   "cell_type": "code",
   "execution_count": null,
   "metadata": {},
   "outputs": [
    {
     "name": "stdout",
     "output_type": "stream",
     "text": [
      "2019-09-15 02:05:07 Starting - Starting the training job...\n",
      "2019-09-15 02:05:09 Starting - Launching requested ML instances...\n",
      "2019-09-15 02:06:07 Starting - Preparing the instances for training...\n",
      "2019-09-15 02:06:57 Downloading - Downloading input data........................\n",
      "2019-09-15 02:11:44 Training - Downloading the training image...........\u001b[31mbash: cannot set terminal process group (-1): Inappropriate ioctl for device\u001b[0m\n",
      "\u001b[31mbash: no job control in this shell\u001b[0m\n",
      "\u001b[31m2019-09-15 02:13:56,551 sagemaker-containers INFO     Imported framework sagemaker_pytorch_container.training\u001b[0m\n",
      "\u001b[31m2019-09-15 02:13:56,576 sagemaker_pytorch_container.training INFO     Block until all host DNS lookups succeed.\u001b[0m\n",
      "\u001b[31m2019-09-15 02:13:59,589 sagemaker_pytorch_container.training INFO     Invoking user training script.\u001b[0m\n",
      "\u001b[31m2019-09-15 02:13:59,863 sagemaker-containers INFO     Module main_train does not provide a setup.py. \u001b[0m\n",
      "\u001b[31mGenerating setup.py\u001b[0m\n",
      "\u001b[31m2019-09-15 02:13:59,863 sagemaker-containers INFO     Generating setup.cfg\u001b[0m\n",
      "\u001b[31m2019-09-15 02:13:59,864 sagemaker-containers INFO     Generating MANIFEST.in\u001b[0m\n",
      "\u001b[31m2019-09-15 02:13:59,864 sagemaker-containers INFO     Installing module with the following command:\u001b[0m\n",
      "\u001b[31m/usr/bin/python -m pip install -U . \u001b[0m\n",
      "\u001b[31mProcessing /opt/ml/code\u001b[0m\n",
      "\u001b[31mBuilding wheels for collected packages: main-train\n",
      "  Running setup.py bdist_wheel for main-train: started\n",
      "  Running setup.py bdist_wheel for main-train: finished with status 'done'\n",
      "  Stored in directory: /tmp/pip-ephem-wheel-cache-l0mu1l6j/wheels/35/24/16/37574d11bf9bde50616c67372a334f94fa8356bc7164af8ca3\u001b[0m\n",
      "\u001b[31mSuccessfully built main-train\u001b[0m\n",
      "\u001b[31mInstalling collected packages: main-train\u001b[0m\n",
      "\u001b[31mSuccessfully installed main-train-1.0.0\u001b[0m\n",
      "\u001b[31mYou are using pip version 18.1, however version 19.2.3 is available.\u001b[0m\n",
      "\u001b[31mYou should consider upgrading via the 'pip install --upgrade pip' command.\u001b[0m\n",
      "\u001b[31m2019-09-15 02:14:01,957 sagemaker-containers INFO     Invoking user script\n",
      "\u001b[0m\n",
      "\u001b[31mTraining Env:\n",
      "\u001b[0m\n",
      "\u001b[31m{\n",
      "    \"additional_framework_parameters\": {},\n",
      "    \"channel_input_dirs\": {\n",
      "        \"val\": \"/opt/ml/input/data/val\",\n",
      "        \"embedding\": \"/opt/ml/input/data/embedding\",\n",
      "        \"train\": \"/opt/ml/input/data/train\"\n",
      "    },\n",
      "    \"current_host\": \"algo-1\",\n",
      "    \"framework_module\": \"sagemaker_pytorch_container.training:main\",\n",
      "    \"hosts\": [\n",
      "        \"algo-1\"\n",
      "    ],\n",
      "    \"hyperparameters\": {\n",
      "        \"poolingkernelsize\": 4,\n",
      "        \"trainfile\": \"train_unique_pub_v6_less_negative.json\",\n",
      "        \"batchsize\": \"32\",\n",
      "        \"log-level\": \"INFO\",\n",
      "        \"embeddim\": 200,\n",
      "        \"embeddingfile\": \"wikipedia-pubmed-and-PMC-w2v.bin.txt\",\n",
      "        \"valfile\": \"val_unique_pub_v6_less_negative.json\",\n",
      "        \"dataset\": \"PPIDataset\",\n",
      "        \"epochs\": \"1000\",\n",
      "        \"lstmhiddensize\": 75\n",
      "    },\n",
      "    \"input_config_dir\": \"/opt/ml/input/config\",\n",
      "    \"input_data_config\": {\n",
      "        \"val\": {\n",
      "            \"TrainingInputMode\": \"File\",\n",
      "            \"S3DistributionType\": \"FullyReplicated\",\n",
      "            \"RecordWrapperType\": \"None\"\n",
      "        },\n",
      "        \"embedding\": {\n",
      "            \"TrainingInputMode\": \"File\",\n",
      "            \"S3DistributionType\": \"FullyReplicated\",\n",
      "            \"RecordWrapperType\": \"None\"\n",
      "        },\n",
      "        \"train\": {\n",
      "            \"TrainingInputMode\": \"File\",\n",
      "            \"S3DistributionType\": \"FullyReplicated\",\n",
      "            \"RecordWrapperType\": \"None\"\n",
      "        }\n",
      "    },\n",
      "    \"input_dir\": \"/opt/ml/input\",\n",
      "    \"is_master\": true,\n",
      "    \"job_name\": \"ppi-extractor-2019-09-15-02-04-54-148\",\n",
      "    \"log_level\": 20,\n",
      "    \"master_hostname\": \"algo-1\",\n",
      "    \"model_dir\": \"/opt/ml/model\",\n",
      "    \"module_dir\": \"s3://aegovan-data/ppi-extractor-2019-09-15-02-04-54-148/source/sourcedir.tar.gz\",\n",
      "    \"module_name\": \"main_train\",\n",
      "    \"network_interface_name\": \"eth0\",\n",
      "    \"num_cpus\": 8,\n",
      "    \"num_gpus\": 1,\n",
      "    \"output_data_dir\": \"/opt/ml/output/data\",\n",
      "    \"output_dir\": \"/opt/ml/output\",\n",
      "    \"output_intermediate_dir\": \"/opt/ml/output/intermediate\",\n",
      "    \"resource_config\": {\n",
      "        \"current_host\": \"algo-1\",\n",
      "        \"hosts\": [\n",
      "            \"algo-1\"\n",
      "        ],\n",
      "        \"network_interface_name\": \"eth0\"\n",
      "    },\n",
      "    \"user_entry_point\": \"main_train.py\"\u001b[0m\n",
      "\u001b[31m}\n",
      "\u001b[0m\n",
      "\u001b[31mEnvironment variables:\n",
      "\u001b[0m\n",
      "\u001b[31mSM_HOSTS=[\"algo-1\"]\u001b[0m\n",
      "\u001b[31mSM_NETWORK_INTERFACE_NAME=eth0\u001b[0m\n",
      "\u001b[31mSM_HPS={\"batchsize\":\"32\",\"dataset\":\"PPIDataset\",\"embeddim\":200,\"embeddingfile\":\"wikipedia-pubmed-and-PMC-w2v.bin.txt\",\"epochs\":\"1000\",\"log-level\":\"INFO\",\"lstmhiddensize\":75,\"poolingkernelsize\":4,\"trainfile\":\"train_unique_pub_v6_less_negative.json\",\"valfile\":\"val_unique_pub_v6_less_negative.json\"}\u001b[0m\n",
      "\u001b[31mSM_USER_ENTRY_POINT=main_train.py\u001b[0m\n",
      "\u001b[31mSM_FRAMEWORK_PARAMS={}\u001b[0m\n",
      "\u001b[31mSM_RESOURCE_CONFIG={\"current_host\":\"algo-1\",\"hosts\":[\"algo-1\"],\"network_interface_name\":\"eth0\"}\u001b[0m\n",
      "\u001b[31mSM_INPUT_DATA_CONFIG={\"embedding\":{\"RecordWrapperType\":\"None\",\"S3DistributionType\":\"FullyReplicated\",\"TrainingInputMode\":\"File\"},\"train\":{\"RecordWrapperType\":\"None\",\"S3DistributionType\":\"FullyReplicated\",\"TrainingInputMode\":\"File\"},\"val\":{\"RecordWrapperType\":\"None\",\"S3DistributionType\":\"FullyReplicated\",\"TrainingInputMode\":\"File\"}}\u001b[0m\n",
      "\u001b[31mSM_OUTPUT_DATA_DIR=/opt/ml/output/data\u001b[0m\n",
      "\u001b[31mSM_CHANNELS=[\"embedding\",\"train\",\"val\"]\u001b[0m\n",
      "\u001b[31mSM_CURRENT_HOST=algo-1\u001b[0m\n",
      "\u001b[31mSM_MODULE_NAME=main_train\u001b[0m\n",
      "\u001b[31mSM_LOG_LEVEL=20\u001b[0m\n",
      "\u001b[31mSM_FRAMEWORK_MODULE=sagemaker_pytorch_container.training:main\u001b[0m\n",
      "\u001b[31mSM_INPUT_DIR=/opt/ml/input\u001b[0m\n",
      "\u001b[31mSM_INPUT_CONFIG_DIR=/opt/ml/input/config\u001b[0m\n",
      "\u001b[31mSM_OUTPUT_DIR=/opt/ml/output\u001b[0m\n",
      "\u001b[31mSM_NUM_CPUS=8\u001b[0m\n",
      "\u001b[31mSM_NUM_GPUS=1\u001b[0m\n",
      "\u001b[31mSM_MODEL_DIR=/opt/ml/model\u001b[0m\n",
      "\u001b[31mSM_MODULE_DIR=s3://aegovan-data/ppi-extractor-2019-09-15-02-04-54-148/source/sourcedir.tar.gz\u001b[0m\n",
      "\u001b[31mSM_TRAINING_ENV={\"additional_framework_parameters\":{},\"channel_input_dirs\":{\"embedding\":\"/opt/ml/input/data/embedding\",\"train\":\"/opt/ml/input/data/train\",\"val\":\"/opt/ml/input/data/val\"},\"current_host\":\"algo-1\",\"framework_module\":\"sagemaker_pytorch_container.training:main\",\"hosts\":[\"algo-1\"],\"hyperparameters\":{\"batchsize\":\"32\",\"dataset\":\"PPIDataset\",\"embeddim\":200,\"embeddingfile\":\"wikipedia-pubmed-and-PMC-w2v.bin.txt\",\"epochs\":\"1000\",\"log-level\":\"INFO\",\"lstmhiddensize\":75,\"poolingkernelsize\":4,\"trainfile\":\"train_unique_pub_v6_less_negative.json\",\"valfile\":\"val_unique_pub_v6_less_negative.json\"},\"input_config_dir\":\"/opt/ml/input/config\",\"input_data_config\":{\"embedding\":{\"RecordWrapperType\":\"None\",\"S3DistributionType\":\"FullyReplicated\",\"TrainingInputMode\":\"File\"},\"train\":{\"RecordWrapperType\":\"None\",\"S3DistributionType\":\"FullyReplicated\",\"TrainingInputMode\":\"File\"},\"val\":{\"RecordWrapperType\":\"None\",\"S3DistributionType\":\"FullyReplicated\",\"TrainingInputMode\":\"File\"}},\"input_dir\":\"/opt/ml/input\",\"is_master\":true,\"job_name\":\"ppi-extractor-2019-09-15-02-04-54-148\",\"log_level\":20,\"master_hostname\":\"algo-1\",\"model_dir\":\"/opt/ml/model\",\"module_dir\":\"s3://aegovan-data/ppi-extractor-2019-09-15-02-04-54-148/source/sourcedir.tar.gz\",\"module_name\":\"main_train\",\"network_interface_name\":\"eth0\",\"num_cpus\":8,\"num_gpus\":1,\"output_data_dir\":\"/opt/ml/output/data\",\"output_dir\":\"/opt/ml/output\",\"output_intermediate_dir\":\"/opt/ml/output/intermediate\",\"resource_config\":{\"current_host\":\"algo-1\",\"hosts\":[\"algo-1\"],\"network_interface_name\":\"eth0\"},\"user_entry_point\":\"main_train.py\"}\u001b[0m\n",
      "\u001b[31mSM_USER_ARGS=[\"--batchsize\",\"32\",\"--dataset\",\"PPIDataset\",\"--embeddim\",\"200\",\"--embeddingfile\",\"wikipedia-pubmed-and-PMC-w2v.bin.txt\",\"--epochs\",\"1000\",\"--log-level\",\"INFO\",\"--lstmhiddensize\",\"75\",\"--poolingkernelsize\",\"4\",\"--trainfile\",\"train_unique_pub_v6_less_negative.json\",\"--valfile\",\"val_unique_pub_v6_less_negative.json\"]\u001b[0m\n",
      "\u001b[31mSM_OUTPUT_INTERMEDIATE_DIR=/opt/ml/output/intermediate\u001b[0m\n",
      "\u001b[31mSM_CHANNEL_VAL=/opt/ml/input/data/val\u001b[0m\n",
      "\u001b[31mSM_CHANNEL_EMBEDDING=/opt/ml/input/data/embedding\u001b[0m\n",
      "\u001b[31mSM_CHANNEL_TRAIN=/opt/ml/input/data/train\u001b[0m\n",
      "\u001b[31mSM_HP_POOLINGKERNELSIZE=4\u001b[0m\n",
      "\u001b[31mSM_HP_TRAINFILE=train_unique_pub_v6_less_negative.json\u001b[0m\n",
      "\u001b[31mSM_HP_BATCHSIZE=32\u001b[0m\n",
      "\u001b[31mSM_HP_LOG-LEVEL=INFO\u001b[0m\n",
      "\u001b[31mSM_HP_EMBEDDIM=200\u001b[0m\n",
      "\u001b[31mSM_HP_EMBEDDINGFILE=wikipedia-pubmed-and-PMC-w2v.bin.txt\u001b[0m\n",
      "\u001b[31mSM_HP_VALFILE=val_unique_pub_v6_less_negative.json\u001b[0m\n",
      "\u001b[31mSM_HP_DATASET=PPIDataset\u001b[0m\n",
      "\u001b[31mSM_HP_EPOCHS=1000\u001b[0m\n",
      "\u001b[31mSM_HP_LSTMHIDDENSIZE=75\u001b[0m\n",
      "\u001b[31mPYTHONPATH=/usr/local/bin:/usr/lib/python36.zip:/usr/lib/python3.6:/usr/lib/python3.6/lib-dynload:/usr/local/lib/python3.6/dist-packages:/usr/lib/python3/dist-packages\n",
      "\u001b[0m\n",
      "\u001b[31mInvoking script with the following command:\n",
      "\u001b[0m\n",
      "\u001b[31m/usr/bin/python -m main_train --batchsize 32 --dataset PPIDataset --embeddim 200 --embeddingfile wikipedia-pubmed-and-PMC-w2v.bin.txt --epochs 1000 --log-level INFO --lstmhiddensize 75 --poolingkernelsize 4 --trainfile train_unique_pub_v6_less_negative.json --valfile val_unique_pub_v6_less_negative.json\n",
      "\n",
      "\u001b[0m\n",
      "\u001b[31m['--batchsize', '32', '--lstmhiddensize', '75', '--poolingkernelsize', '4']\u001b[0m\n",
      "\u001b[31m{'dataset': 'PPIDataset', 'trainfile': 'train_unique_pub_v6_less_negative.json', 'traindir': '/opt/ml/input/data/train', 'valfile': 'val_unique_pub_v6_less_negative.json', 'valdir': '/opt/ml/input/data/val', 'embeddingfile': 'wikipedia-pubmed-and-PMC-w2v.bin.txt', 'embeddingdir': '/opt/ml/input/data/embedding', 'outdir': '/opt/ml/model', 'embeddim': 200, 'epochs': 1000, 'interaction_type': None, 'log_level': 'INFO'}\u001b[0m\n",
      "\u001b[31m{'batchsize': '32', 'lstmhiddensize': '75', 'poolingkernelsize': '4'}\u001b[0m\n",
      "\u001b[31m2019-09-15 02:14:04,548 - __main__ - INFO - The embedding header is 5443656 200\n",
      "\u001b[0m\n",
      "\u001b[31m2019-09-15 02:14:04,548 - algorithms.TrainInferenceBuilder - INFO - Retrieving key batchsize with default 32, found 32\u001b[0m\n",
      "\u001b[31m2019-09-15 02:14:04,548 - algorithms.TrainInferenceBuilder - INFO - Retrieving key lstmhiddensize with default 100, found 75\u001b[0m\n",
      "\u001b[31m2019-09-15 02:14:04,548 - algorithms.TrainInferenceBuilder - INFO - Retrieving key hiddensize with default .5, found .5\u001b[0m\n",
      "\u001b[31m2019-09-15 02:14:04,548 - algorithms.TrainInferenceBuilder - INFO - Retrieving key poolingkernelsize with default 4, found 4\u001b[0m\n",
      "\u001b[31m2019-09-15 02:14:04,549 - algorithms.RelationExtractorBiLstmNetwork - INFO - The text feature is index 0, the feature lengths are [250   1   1   1]\u001b[0m\n",
      "\u001b[31m2019-09-15 02:14:04,558 - algorithms.RelationExtractorBiLstmNetwork - INFO - Word embedding size is 200, pos embedding size is 9, totaldim is 209, hidden_size  75\u001b[0m\n",
      "\u001b[31m2019-09-15 02:14:04,571 - algorithms.TrainInferenceBuilder - INFO - Using model <class 'algorithms.RelationExtractorBiLstmNetwork.RelationExtractorBiLstmNetwork'>\u001b[0m\n",
      "\u001b[31m2019-09-15 02:14:04,571 - algorithms.TrainInferenceBuilder - INFO - Using optimiser <class 'torch.optim.adam.Adam'>\u001b[0m\n",
      "\u001b[31m2019-09-15 02:14:04,571 - algorithms.TrainInferenceBuilder - INFO - Using loss function <class 'torch.nn.modules.loss.CrossEntropyLoss'>\u001b[0m\n"
     ]
    },
    {
     "name": "stdout",
     "output_type": "stream",
     "text": [
      "\n",
      "2019-09-15 02:13:55 Training - Training image download completed. Training in progress."
     ]
    }
   ],
   "source": [
    "estimator.fit(inputs)"
   ]
  }
 ],
 "metadata": {
  "kernelspec": {
   "display_name": "Python 3",
   "language": "python",
   "name": "python3"
  },
  "language_info": {
   "codemirror_mode": {
    "name": "ipython",
    "version": 3
   },
   "file_extension": ".py",
   "mimetype": "text/x-python",
   "name": "python",
   "nbconvert_exporter": "python",
   "pygments_lexer": "ipython3",
   "version": "3.6.4"
  }
 },
 "nbformat": 4,
 "nbformat_minor": 1
}
