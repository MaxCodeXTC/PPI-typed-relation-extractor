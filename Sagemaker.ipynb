{
 "cells": [
  {
   "cell_type": "markdown",
   "metadata": {},
   "source": [
    "### Set up"
   ]
  },
  {
   "cell_type": "markdown",
   "metadata": {},
   "source": [
    "#### 1. Set  up  accounts and role"
   ]
  },
  {
   "cell_type": "code",
   "execution_count": 16,
   "metadata": {},
   "outputs": [
    {
     "name": "stdout",
     "output_type": "stream",
     "text": [
      "Requirement already satisfied: sagemaker==1.39.0 in /Users/aeg/miniconda/envs/untitled2/lib/python3.6/site-packages (1.39.0)\n",
      "Requirement already satisfied: numpy>=1.9.0 in /Users/aeg/miniconda/envs/untitled2/lib/python3.6/site-packages (from sagemaker==1.39.0) (1.14.1)\n",
      "Requirement already satisfied: boto3>=1.9.213 in /Users/aeg/miniconda/envs/untitled2/lib/python3.6/site-packages (from sagemaker==1.39.0) (1.9.228)\n",
      "Requirement already satisfied: protobuf>=3.1 in /Users/aeg/miniconda/envs/untitled2/lib/python3.6/site-packages (from sagemaker==1.39.0) (3.6.1)\n",
      "Requirement already satisfied: fabric>=2.0 in /Users/aeg/miniconda/envs/untitled2/lib/python3.6/site-packages (from sagemaker==1.39.0) (2.5.0)\n",
      "Requirement already satisfied: requests<2.21,>=2.20.0 in /Users/aeg/miniconda/envs/untitled2/lib/python3.6/site-packages (from sagemaker==1.39.0) (2.20.1)\n",
      "Requirement already satisfied: urllib3<1.25,>=1.21 in /Users/aeg/miniconda/envs/untitled2/lib/python3.6/site-packages (from sagemaker==1.39.0) (1.22)\n",
      "Requirement already satisfied: scipy>=0.19.0 in /Users/aeg/miniconda/envs/untitled2/lib/python3.6/site-packages (from sagemaker==1.39.0) (1.1.0)\n",
      "Requirement already satisfied: protobuf3-to-dict>=0.1.5 in /Users/aeg/miniconda/envs/untitled2/lib/python3.6/site-packages (from sagemaker==1.39.0) (0.1.5)\n",
      "Requirement already satisfied: docker-compose>=1.23.0 in /Users/aeg/miniconda/envs/untitled2/lib/python3.6/site-packages (from sagemaker==1.39.0) (1.24.1)\n",
      "Requirement already satisfied: jmespath<1.0.0,>=0.7.1 in /Users/aeg/miniconda/envs/untitled2/lib/python3.6/site-packages (from boto3>=1.9.213->sagemaker==1.39.0) (0.9.3)\n",
      "Requirement already satisfied: s3transfer<0.3.0,>=0.2.0 in /Users/aeg/miniconda/envs/untitled2/lib/python3.6/site-packages (from boto3>=1.9.213->sagemaker==1.39.0) (0.2.1)\n",
      "Requirement already satisfied: botocore<1.13.0,>=1.12.228 in /Users/aeg/miniconda/envs/untitled2/lib/python3.6/site-packages (from boto3>=1.9.213->sagemaker==1.39.0) (1.12.228)\n",
      "Requirement already satisfied: six>=1.9 in /Users/aeg/miniconda/envs/untitled2/lib/python3.6/site-packages (from protobuf>=3.1->sagemaker==1.39.0) (1.11.0)\n",
      "Requirement already satisfied: setuptools in /Users/aeg/.local/lib/python3.6/site-packages (from protobuf>=3.1->sagemaker==1.39.0) (39.1.0)\n",
      "Requirement already satisfied: invoke<2.0,>=1.3 in /Users/aeg/miniconda/envs/untitled2/lib/python3.6/site-packages (from fabric>=2.0->sagemaker==1.39.0) (1.3.0)\n",
      "Requirement already satisfied: paramiko>=2.4 in /Users/aeg/miniconda/envs/untitled2/lib/python3.6/site-packages (from fabric>=2.0->sagemaker==1.39.0) (2.6.0)\n",
      "Requirement already satisfied: idna<2.8,>=2.5 in /Users/aeg/miniconda/envs/untitled2/lib/python3.6/site-packages (from requests<2.21,>=2.20.0->sagemaker==1.39.0) (2.6)\n",
      "Requirement already satisfied: chardet<3.1.0,>=3.0.2 in /Users/aeg/miniconda/envs/untitled2/lib/python3.6/site-packages (from requests<2.21,>=2.20.0->sagemaker==1.39.0) (3.0.4)\n",
      "Requirement already satisfied: certifi>=2017.4.17 in /Users/aeg/miniconda/envs/untitled2/lib/python3.6/site-packages (from requests<2.21,>=2.20.0->sagemaker==1.39.0) (2018.1.18)\n",
      "Requirement already satisfied: cached-property<2,>=1.2.0 in /Users/aeg/miniconda/envs/untitled2/lib/python3.6/site-packages (from docker-compose>=1.23.0->sagemaker==1.39.0) (1.5.1)\n",
      "Requirement already satisfied: docopt<0.7,>=0.6.1 in /Users/aeg/.local/lib/python3.6/site-packages (from docker-compose>=1.23.0->sagemaker==1.39.0) (0.6.2)\n",
      "Requirement already satisfied: texttable<0.10,>=0.9.0 in /Users/aeg/miniconda/envs/untitled2/lib/python3.6/site-packages (from docker-compose>=1.23.0->sagemaker==1.39.0) (0.9.1)\n",
      "Requirement already satisfied: dockerpty<0.5,>=0.4.1 in /Users/aeg/.local/lib/python3.6/site-packages (from docker-compose>=1.23.0->sagemaker==1.39.0) (0.4.1)\n",
      "Requirement already satisfied: websocket-client<1.0,>=0.32.0 in /Users/aeg/.local/lib/python3.6/site-packages (from docker-compose>=1.23.0->sagemaker==1.39.0) (0.47.0)\n",
      "Requirement already satisfied: docker[ssh]<4.0,>=3.7.0 in /Users/aeg/miniconda/envs/untitled2/lib/python3.6/site-packages (from docker-compose>=1.23.0->sagemaker==1.39.0) (3.7.3)\n",
      "Requirement already satisfied: PyYAML<4.3,>=3.10 in /Users/aeg/.local/lib/python3.6/site-packages (from docker-compose>=1.23.0->sagemaker==1.39.0) (3.12)\n",
      "Requirement already satisfied: jsonschema<3,>=2.5.1 in /Users/aeg/miniconda/envs/untitled2/lib/python3.6/site-packages (from docker-compose>=1.23.0->sagemaker==1.39.0) (2.6.0)\n",
      "Requirement already satisfied: python-dateutil<3.0.0,>=2.1; python_version >= \"2.7\" in /Users/aeg/miniconda/envs/untitled2/lib/python3.6/site-packages (from botocore<1.13.0,>=1.12.228->boto3>=1.9.213->sagemaker==1.39.0) (2.7.0)\n",
      "Requirement already satisfied: docutils<0.16,>=0.10 in /Users/aeg/miniconda/envs/untitled2/lib/python3.6/site-packages (from botocore<1.13.0,>=1.12.228->boto3>=1.9.213->sagemaker==1.39.0) (0.14)\n",
      "Requirement already satisfied: cryptography>=2.5 in /Users/aeg/miniconda/envs/untitled2/lib/python3.6/site-packages (from paramiko>=2.4->fabric>=2.0->sagemaker==1.39.0) (2.7)\n",
      "Requirement already satisfied: bcrypt>=3.1.3 in /Users/aeg/miniconda/envs/untitled2/lib/python3.6/site-packages (from paramiko>=2.4->fabric>=2.0->sagemaker==1.39.0) (3.1.7)\n",
      "Requirement already satisfied: pynacl>=1.0.1 in /Users/aeg/miniconda/envs/untitled2/lib/python3.6/site-packages (from paramiko>=2.4->fabric>=2.0->sagemaker==1.39.0) (1.3.0)\n",
      "Requirement already satisfied: docker-pycreds>=0.4.0 in /Users/aeg/miniconda/envs/untitled2/lib/python3.6/site-packages (from docker[ssh]<4.0,>=3.7.0->docker-compose>=1.23.0->sagemaker==1.39.0) (0.4.0)\n",
      "Requirement already satisfied: asn1crypto>=0.21.0 in /Users/aeg/miniconda/envs/untitled2/lib/python3.6/site-packages (from cryptography>=2.5->paramiko>=2.4->fabric>=2.0->sagemaker==1.39.0) (0.24.0)\n",
      "Requirement already satisfied: cffi!=1.11.3,>=1.8 in /Users/aeg/miniconda/envs/untitled2/lib/python3.6/site-packages (from cryptography>=2.5->paramiko>=2.4->fabric>=2.0->sagemaker==1.39.0) (1.11.5)\n",
      "Requirement already satisfied: pycparser in /Users/aeg/miniconda/envs/untitled2/lib/python3.6/site-packages (from cffi!=1.11.3,>=1.8->cryptography>=2.5->paramiko>=2.4->fabric>=2.0->sagemaker==1.39.0) (2.18)\n",
      "\u001b[31mawsebcli 3.12.4 has requirement requests<=2.9.1,>=2.6.1, but you'll have requests 2.20.1 which is incompatible.\u001b[0m\n",
      "\u001b[31mspacy 2.1.8 has requirement numpy>=1.15.0, but you'll have numpy 1.14.1 which is incompatible.\u001b[0m\n",
      "\u001b[31mblis 0.2.4 has requirement numpy>=1.15.0, but you'll have numpy 1.14.1 which is incompatible.\u001b[0m\n",
      "\u001b[33mYou are using pip version 10.0.1, however version 19.2.3 is available.\n",
      "You should consider upgrading via the 'pip install --upgrade pip' command.\u001b[0m\n"
     ]
    }
   ],
   "source": [
    "!pip install sagemaker==1.39.0"
   ]
  },
  {
   "cell_type": "code",
   "execution_count": 1,
   "metadata": {},
   "outputs": [],
   "source": [
    "import sagemaker\n",
    "import boto3\n",
    "\n",
    "sagemaker_session = sagemaker.Session()\n",
    "account_id =  boto3.client('sts').get_caller_identity().get('Account')\n",
    "region = boto3.session.Session().region_name\n",
    "\n",
    "\n",
    "#role = sagemaker.get_execution_role()\n",
    "role=\"arn:aws:iam::{}:role/service-role/AmazonSageMaker-ExecutionRole-20190118T115449\".format(account_id)\n"
   ]
  },
  {
   "cell_type": "markdown",
   "metadata": {},
   "source": [
    "#### 2. Setup image and instance type"
   ]
  },
  {
   "cell_type": "code",
   "execution_count": 2,
   "metadata": {},
   "outputs": [],
   "source": [
    "pytorch_custom_image_name=\"ppi-extractor:gpu-1.0.0-201909140804\"\n",
    "instance_type = \"ml.p3.2xlarge\" "
   ]
  },
  {
   "cell_type": "code",
   "execution_count": 3,
   "metadata": {},
   "outputs": [],
   "source": [
    "docker_repo = \"{}.dkr.ecr.{}.amazonaws.com/{}\".format(account_id, region, pytorch_custom_image_name)"
   ]
  },
  {
   "cell_type": "markdown",
   "metadata": {},
   "source": [
    "#### 3. Configure train/ test and validation datasets"
   ]
  },
  {
   "cell_type": "code",
   "execution_count": 4,
   "metadata": {},
   "outputs": [],
   "source": [
    "bucket = \"aegovan-data\""
   ]
  },
  {
   "cell_type": "code",
   "execution_count": 5,
   "metadata": {},
   "outputs": [],
   "source": [
    "trainfile = \"s3://{}/processed_dataset/train_unique_pub_v6_less_negative.json\".format(bucket)\n",
    "testfile= \"s3://{}/processed_dataset/test_unique_pub_v6_less_negative.json\".format(bucket)\n",
    "valfile=\"s3://{}/processed_dataset/val_unique_pub_v6_less_negative.json\".format(bucket)\n",
    "embeddingfile=\"s3://{}/embeddings/wikipedia-pubmed-and-PMC-w2v.bin.txt\".format(bucket)\n",
    "s3_output_path= \"s3://{}/results/\".format(bucket)"
   ]
  },
  {
   "cell_type": "markdown",
   "metadata": {},
   "source": [
    "### Start training"
   ]
  },
  {
   "cell_type": "code",
   "execution_count": 6,
   "metadata": {},
   "outputs": [],
   "source": [
    "inputs = {\n",
    "    \"train\" : trainfile,\n",
    "    \"val\" :valfile,\n",
    "    \"embedding\" : embeddingfile\n",
    "}"
   ]
  },
  {
   "cell_type": "code",
   "execution_count": 47,
   "metadata": {},
   "outputs": [],
   "source": [
    "hyperparameters = {\n",
    "    \"dataset\":\"PPIDataset\",\n",
    "    \"trainfile\":trainfile.split(\"/\")[-1],\n",
    "    \"valfile\":valfile.split(\"/\")[-1],\n",
    "    \"embeddingfile\":embeddingfile.split(\"/\")[-1],\n",
    "    \"embeddim\":200,\n",
    "    \"batchsize\": \"32\",\n",
    "    \"epochs\" : \"1000\",   \n",
    "    \"log-level\" : \"INFO\",\n",
    "    \"lstmhiddensize\": 90,\n",
    "    \"poolingkernelsize\":4\n",
    "   \n",
    "}"
   ]
  },
  {
   "cell_type": "code",
   "execution_count": 10,
   "metadata": {},
   "outputs": [],
   "source": [
    "metric_definitions = [{\"Name\": \"TrainLoss\",\n",
    "                     \"Regex\": \"###score: train_loss### (\\d*[.]?\\d*)\"}\n",
    "                    ,{\"Name\": \"ValidationLoss\",\n",
    "                     \"Regex\": \"###score: val_loss### (\\d*[.]?\\d*)\"}\n",
    "                    ,{\"Name\": \"TrainFScore\",\n",
    "                     \"Regex\": \"###score: train_fscore### (\\d*[.]?\\d*)\"}\n",
    "                   ,{\"Name\": \"ValidationFScore\",\n",
    "                     \"Regex\": \"###score: val_fscore### (\\d*[.]?\\d*)\"}\n",
    "                    ]"
   ]
  },
  {
   "cell_type": "code",
   "execution_count": 18,
   "metadata": {},
   "outputs": [],
   "source": [
    "git_config = {'repo': 'https://github.com/elangovana/PPI-typed-relation-extractor.git',\n",
    "              'branch': 'master',\n",
    "              'commit': 'c050a2818efd6dc6d2adb3dac07c102b94c92eab'}"
   ]
  },
  {
   "cell_type": "code",
   "execution_count": 48,
   "metadata": {},
   "outputs": [],
   "source": [
    "from sagemaker.pytorch import PyTorch\n",
    "\n",
    "estimator = PyTorch(\n",
    "     entry_point='main_train.py',\n",
    "                    source_dir = 'source/algorithms',\n",
    "                    dependencies =['source/algorithms', 'source/datasets'],\n",
    "                    role=role,\n",
    "                    framework_version =\"1.0.0\",\n",
    "                    py_version='py3',\n",
    "                   # git_config= git_config,\n",
    "                    image_name= docker_repo,\n",
    "                    train_instance_count=1,\n",
    "                    train_instance_type=instance_type,\n",
    "                    hyperparameters =hyperparameters,\n",
    "                    output_path=s3_output_path,\n",
    "                    metric_definitions=metric_definitions,\n",
    "                    #train_use_spot_instances = True\n",
    "                    train_volume_size=30,\n",
    "                    base_job_name =\"ppi-extractor\")"
   ]
  },
  {
   "cell_type": "code",
   "execution_count": null,
   "metadata": {},
   "outputs": [
    {
     "name": "stdout",
     "output_type": "stream",
     "text": [
      "2019-09-14 10:44:09 Starting - Starting the training job."
     ]
    }
   ],
   "source": [
    "estimator.fit(inputs)"
   ]
  }
 ],
 "metadata": {
  "kernelspec": {
   "display_name": "Python 3",
   "language": "python",
   "name": "python3"
  },
  "language_info": {
   "codemirror_mode": {
    "name": "ipython",
    "version": 3
   },
   "file_extension": ".py",
   "mimetype": "text/x-python",
   "name": "python",
   "nbconvert_exporter": "python",
   "pygments_lexer": "ipython3",
   "version": "3.6.4"
  }
 },
 "nbformat": 4,
 "nbformat_minor": 1
}
