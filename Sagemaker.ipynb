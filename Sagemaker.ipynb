{
 "cells": [
  {
   "cell_type": "markdown",
   "metadata": {},
   "source": [
    "### Set up"
   ]
  },
  {
   "cell_type": "markdown",
   "metadata": {},
   "source": [
    "#### 1. Set  up  accounts and role"
   ]
  },
  {
   "cell_type": "code",
   "execution_count": 16,
   "metadata": {},
   "outputs": [
    {
     "name": "stdout",
     "output_type": "stream",
     "text": [
      "Requirement already satisfied: sagemaker==1.39.0 in /Users/aeg/miniconda/envs/untitled2/lib/python3.6/site-packages (1.39.0)\n",
      "Requirement already satisfied: numpy>=1.9.0 in /Users/aeg/miniconda/envs/untitled2/lib/python3.6/site-packages (from sagemaker==1.39.0) (1.14.1)\n",
      "Requirement already satisfied: boto3>=1.9.213 in /Users/aeg/miniconda/envs/untitled2/lib/python3.6/site-packages (from sagemaker==1.39.0) (1.9.228)\n",
      "Requirement already satisfied: protobuf>=3.1 in /Users/aeg/miniconda/envs/untitled2/lib/python3.6/site-packages (from sagemaker==1.39.0) (3.6.1)\n",
      "Requirement already satisfied: fabric>=2.0 in /Users/aeg/miniconda/envs/untitled2/lib/python3.6/site-packages (from sagemaker==1.39.0) (2.5.0)\n",
      "Requirement already satisfied: requests<2.21,>=2.20.0 in /Users/aeg/miniconda/envs/untitled2/lib/python3.6/site-packages (from sagemaker==1.39.0) (2.20.1)\n",
      "Requirement already satisfied: urllib3<1.25,>=1.21 in /Users/aeg/miniconda/envs/untitled2/lib/python3.6/site-packages (from sagemaker==1.39.0) (1.22)\n",
      "Requirement already satisfied: scipy>=0.19.0 in /Users/aeg/miniconda/envs/untitled2/lib/python3.6/site-packages (from sagemaker==1.39.0) (1.1.0)\n",
      "Requirement already satisfied: protobuf3-to-dict>=0.1.5 in /Users/aeg/miniconda/envs/untitled2/lib/python3.6/site-packages (from sagemaker==1.39.0) (0.1.5)\n",
      "Requirement already satisfied: docker-compose>=1.23.0 in /Users/aeg/miniconda/envs/untitled2/lib/python3.6/site-packages (from sagemaker==1.39.0) (1.24.1)\n",
      "Requirement already satisfied: jmespath<1.0.0,>=0.7.1 in /Users/aeg/miniconda/envs/untitled2/lib/python3.6/site-packages (from boto3>=1.9.213->sagemaker==1.39.0) (0.9.3)\n",
      "Requirement already satisfied: s3transfer<0.3.0,>=0.2.0 in /Users/aeg/miniconda/envs/untitled2/lib/python3.6/site-packages (from boto3>=1.9.213->sagemaker==1.39.0) (0.2.1)\n",
      "Requirement already satisfied: botocore<1.13.0,>=1.12.228 in /Users/aeg/miniconda/envs/untitled2/lib/python3.6/site-packages (from boto3>=1.9.213->sagemaker==1.39.0) (1.12.228)\n",
      "Requirement already satisfied: six>=1.9 in /Users/aeg/miniconda/envs/untitled2/lib/python3.6/site-packages (from protobuf>=3.1->sagemaker==1.39.0) (1.11.0)\n",
      "Requirement already satisfied: setuptools in /Users/aeg/.local/lib/python3.6/site-packages (from protobuf>=3.1->sagemaker==1.39.0) (39.1.0)\n",
      "Requirement already satisfied: invoke<2.0,>=1.3 in /Users/aeg/miniconda/envs/untitled2/lib/python3.6/site-packages (from fabric>=2.0->sagemaker==1.39.0) (1.3.0)\n",
      "Requirement already satisfied: paramiko>=2.4 in /Users/aeg/miniconda/envs/untitled2/lib/python3.6/site-packages (from fabric>=2.0->sagemaker==1.39.0) (2.6.0)\n",
      "Requirement already satisfied: idna<2.8,>=2.5 in /Users/aeg/miniconda/envs/untitled2/lib/python3.6/site-packages (from requests<2.21,>=2.20.0->sagemaker==1.39.0) (2.6)\n",
      "Requirement already satisfied: chardet<3.1.0,>=3.0.2 in /Users/aeg/miniconda/envs/untitled2/lib/python3.6/site-packages (from requests<2.21,>=2.20.0->sagemaker==1.39.0) (3.0.4)\n",
      "Requirement already satisfied: certifi>=2017.4.17 in /Users/aeg/miniconda/envs/untitled2/lib/python3.6/site-packages (from requests<2.21,>=2.20.0->sagemaker==1.39.0) (2018.1.18)\n",
      "Requirement already satisfied: cached-property<2,>=1.2.0 in /Users/aeg/miniconda/envs/untitled2/lib/python3.6/site-packages (from docker-compose>=1.23.0->sagemaker==1.39.0) (1.5.1)\n",
      "Requirement already satisfied: docopt<0.7,>=0.6.1 in /Users/aeg/.local/lib/python3.6/site-packages (from docker-compose>=1.23.0->sagemaker==1.39.0) (0.6.2)\n",
      "Requirement already satisfied: texttable<0.10,>=0.9.0 in /Users/aeg/miniconda/envs/untitled2/lib/python3.6/site-packages (from docker-compose>=1.23.0->sagemaker==1.39.0) (0.9.1)\n",
      "Requirement already satisfied: dockerpty<0.5,>=0.4.1 in /Users/aeg/.local/lib/python3.6/site-packages (from docker-compose>=1.23.0->sagemaker==1.39.0) (0.4.1)\n",
      "Requirement already satisfied: websocket-client<1.0,>=0.32.0 in /Users/aeg/.local/lib/python3.6/site-packages (from docker-compose>=1.23.0->sagemaker==1.39.0) (0.47.0)\n",
      "Requirement already satisfied: docker[ssh]<4.0,>=3.7.0 in /Users/aeg/miniconda/envs/untitled2/lib/python3.6/site-packages (from docker-compose>=1.23.0->sagemaker==1.39.0) (3.7.3)\n",
      "Requirement already satisfied: PyYAML<4.3,>=3.10 in /Users/aeg/.local/lib/python3.6/site-packages (from docker-compose>=1.23.0->sagemaker==1.39.0) (3.12)\n",
      "Requirement already satisfied: jsonschema<3,>=2.5.1 in /Users/aeg/miniconda/envs/untitled2/lib/python3.6/site-packages (from docker-compose>=1.23.0->sagemaker==1.39.0) (2.6.0)\n",
      "Requirement already satisfied: python-dateutil<3.0.0,>=2.1; python_version >= \"2.7\" in /Users/aeg/miniconda/envs/untitled2/lib/python3.6/site-packages (from botocore<1.13.0,>=1.12.228->boto3>=1.9.213->sagemaker==1.39.0) (2.7.0)\n",
      "Requirement already satisfied: docutils<0.16,>=0.10 in /Users/aeg/miniconda/envs/untitled2/lib/python3.6/site-packages (from botocore<1.13.0,>=1.12.228->boto3>=1.9.213->sagemaker==1.39.0) (0.14)\n",
      "Requirement already satisfied: cryptography>=2.5 in /Users/aeg/miniconda/envs/untitled2/lib/python3.6/site-packages (from paramiko>=2.4->fabric>=2.0->sagemaker==1.39.0) (2.7)\n",
      "Requirement already satisfied: bcrypt>=3.1.3 in /Users/aeg/miniconda/envs/untitled2/lib/python3.6/site-packages (from paramiko>=2.4->fabric>=2.0->sagemaker==1.39.0) (3.1.7)\n",
      "Requirement already satisfied: pynacl>=1.0.1 in /Users/aeg/miniconda/envs/untitled2/lib/python3.6/site-packages (from paramiko>=2.4->fabric>=2.0->sagemaker==1.39.0) (1.3.0)\n",
      "Requirement already satisfied: docker-pycreds>=0.4.0 in /Users/aeg/miniconda/envs/untitled2/lib/python3.6/site-packages (from docker[ssh]<4.0,>=3.7.0->docker-compose>=1.23.0->sagemaker==1.39.0) (0.4.0)\n",
      "Requirement already satisfied: asn1crypto>=0.21.0 in /Users/aeg/miniconda/envs/untitled2/lib/python3.6/site-packages (from cryptography>=2.5->paramiko>=2.4->fabric>=2.0->sagemaker==1.39.0) (0.24.0)\n",
      "Requirement already satisfied: cffi!=1.11.3,>=1.8 in /Users/aeg/miniconda/envs/untitled2/lib/python3.6/site-packages (from cryptography>=2.5->paramiko>=2.4->fabric>=2.0->sagemaker==1.39.0) (1.11.5)\n",
      "Requirement already satisfied: pycparser in /Users/aeg/miniconda/envs/untitled2/lib/python3.6/site-packages (from cffi!=1.11.3,>=1.8->cryptography>=2.5->paramiko>=2.4->fabric>=2.0->sagemaker==1.39.0) (2.18)\n",
      "\u001b[31mawsebcli 3.12.4 has requirement requests<=2.9.1,>=2.6.1, but you'll have requests 2.20.1 which is incompatible.\u001b[0m\n",
      "\u001b[31mspacy 2.1.8 has requirement numpy>=1.15.0, but you'll have numpy 1.14.1 which is incompatible.\u001b[0m\n",
      "\u001b[31mblis 0.2.4 has requirement numpy>=1.15.0, but you'll have numpy 1.14.1 which is incompatible.\u001b[0m\n",
      "\u001b[33mYou are using pip version 10.0.1, however version 19.2.3 is available.\n",
      "You should consider upgrading via the 'pip install --upgrade pip' command.\u001b[0m\n"
     ]
    }
   ],
   "source": [
    "!pip install sagemaker==1.39.0"
   ]
  },
  {
   "cell_type": "code",
   "execution_count": 1,
   "metadata": {},
   "outputs": [],
   "source": [
    "import sagemaker\n",
    "import boto3\n",
    "\n",
    "sagemaker_session = sagemaker.Session()\n",
    "account_id =  boto3.client('sts').get_caller_identity().get('Account')\n",
    "region = boto3.session.Session().region_name\n",
    "\n",
    "\n",
    "#role = sagemaker.get_execution_role()\n",
    "role=\"arn:aws:iam::{}:role/service-role/AmazonSageMaker-ExecutionRole-20190118T115449\".format(account_id)\n"
   ]
  },
  {
   "cell_type": "markdown",
   "metadata": {},
   "source": [
    "#### 2. Setup image and instance type"
   ]
  },
  {
   "cell_type": "code",
   "execution_count": 2,
   "metadata": {},
   "outputs": [],
   "source": [
    "pytorch_custom_image_name=\"ppi-extractor:gpu-1.0.0-201909140804\"\n",
    "instance_type = \"ml.p3.2xlarge\" "
   ]
  },
  {
   "cell_type": "code",
   "execution_count": 3,
   "metadata": {},
   "outputs": [],
   "source": [
    "docker_repo = \"{}.dkr.ecr.{}.amazonaws.com/{}\".format(account_id, region, pytorch_custom_image_name)"
   ]
  },
  {
   "cell_type": "markdown",
   "metadata": {},
   "source": [
    "#### 3. Configure train/ test and validation datasets"
   ]
  },
  {
   "cell_type": "code",
   "execution_count": 4,
   "metadata": {},
   "outputs": [],
   "source": [
    "bucket = \"aegovan-data\""
   ]
  },
  {
   "cell_type": "code",
   "execution_count": 5,
   "metadata": {},
   "outputs": [],
   "source": [
    "trainfile = \"s3://{}/processed_dataset/train_unique_pub_v6_less_negative.json\".format(bucket)\n",
    "testfile= \"s3://{}/processed_dataset/test_unique_pub_v6_less_negative.json\".format(bucket)\n",
    "valfile=\"s3://{}/processed_dataset/val_unique_pub_v6_less_negative.json\".format(bucket)\n",
    "embeddingfile=\"s3://{}/embeddings/wikipedia-pubmed-and-PMC-w2v.bin.txt\".format(bucket)\n",
    "s3_output_path= \"s3://{}/results/\".format(bucket)"
   ]
  },
  {
   "cell_type": "markdown",
   "metadata": {},
   "source": [
    "### Start training"
   ]
  },
  {
   "cell_type": "code",
   "execution_count": 6,
   "metadata": {},
   "outputs": [],
   "source": [
    "inputs = {\n",
    "    \"train\" : trainfile,\n",
    "    \"val\" :valfile,\n",
    "    \"embedding\" : embeddingfile\n",
    "}"
   ]
  },
  {
   "cell_type": "code",
   "execution_count": 9,
   "metadata": {},
   "outputs": [],
   "source": [
    "hyperparameters = {\n",
    "    \"dataset\":\"PPIDataset\",\n",
    "    \"trainfile\":trainfile.split(\"/\")[-1],\n",
    "    \"valfile\":valfile.split(\"/\")[-1],\n",
    "    \"embeddingfile\":embeddingfile.split(\"/\")[-1],\n",
    "    \"embeddim\":200,\n",
    "    \"batchsize\": \"32\",\n",
    "    \"epochs\" : \"1000\",   \n",
    "    \"log-level\" : \"INFO\"\n",
    "   \n",
    "}"
   ]
  },
  {
   "cell_type": "code",
   "execution_count": 10,
   "metadata": {},
   "outputs": [],
   "source": [
    "metric_definitions = [{\"Name\": \"TrainLoss\",\n",
    "                     \"Regex\": \"###score: train_loss### (\\d*[.]?\\d*)\"}\n",
    "                    ,{\"Name\": \"ValidationLoss\",\n",
    "                     \"Regex\": \"###score: val_loss### (\\d*[.]?\\d*)\"}\n",
    "                    ,{\"Name\": \"TrainFScore\",\n",
    "                     \"Regex\": \"###score: train_fscore### (\\d*[.]?\\d*)\"}\n",
    "                   ,{\"Name\": \"ValidationFScore\",\n",
    "                     \"Regex\": \"###score: val_fscore### (\\d*[.]?\\d*)\"}\n",
    "                    ]"
   ]
  },
  {
   "cell_type": "code",
   "execution_count": 18,
   "metadata": {},
   "outputs": [],
   "source": [
    "git_config = {'repo': 'https://github.com/elangovana/PPI-typed-relation-extractor.git',\n",
    "              'branch': 'master',\n",
    "              'commit': 'c050a2818efd6dc6d2adb3dac07c102b94c92eab'}"
   ]
  },
  {
   "cell_type": "code",
   "execution_count": 41,
   "metadata": {},
   "outputs": [],
   "source": [
    "from sagemaker.pytorch import PyTorch\n",
    "\n",
    "estimator = PyTorch(\n",
    "     entry_point='main_train.py',\n",
    "                    source_dir = 'source/algorithms',\n",
    "                    dependencies =['source/algorithms'],\n",
    "                    role=role,\n",
    "                    framework_version =\"1.0.0\",\n",
    "                    py_version='py3',\n",
    "                   # git_config= git_config,\n",
    "                    image_name= docker_repo,\n",
    "                    train_instance_count=1,\n",
    "                    train_instance_type=instance_type,\n",
    "                    hyperparameters =hyperparameters,\n",
    "                    output_path=s3_output_path,\n",
    "                    metric_definitions=metric_definitions,\n",
    "                    #train_use_spot_instances = True\n",
    "                    train_volume_size=30,\n",
    "                    base_job_name =\"ppi-extractor\")"
   ]
  },
  {
   "cell_type": "code",
   "execution_count": 42,
   "metadata": {},
   "outputs": [
    {
     "name": "stdout",
     "output_type": "stream",
     "text": [
      "2019-09-14 09:50:29 Starting - Starting the training job...\n",
      "2019-09-14 09:50:32 Starting - Launching requested ML instances...\n",
      "2019-09-14 09:51:25 Starting - Preparing the instances for training...\n",
      "2019-09-14 09:52:00 Downloading - Downloading input data..................\n",
      "2019-09-14 09:55:41 Training - Downloading the training image..........\u001b[31mbash: cannot set terminal process group (-1): Inappropriate ioctl for device\u001b[0m\n",
      "\u001b[31mbash: no job control in this shell\u001b[0m\n",
      "\u001b[31m2019-09-14 09:57:55,191 sagemaker-containers INFO     Imported framework sagemaker_pytorch_container.training\u001b[0m\n",
      "\u001b[31m2019-09-14 09:57:55,215 sagemaker_pytorch_container.training INFO     Block until all host DNS lookups succeed.\u001b[0m\n",
      "\u001b[31m2019-09-14 09:57:58,227 sagemaker_pytorch_container.training INFO     Invoking user training script.\u001b[0m\n",
      "\u001b[31m2019-09-14 09:57:58,563 sagemaker-containers INFO     Module main_train does not provide a setup.py. \u001b[0m\n",
      "\u001b[31mGenerating setup.py\u001b[0m\n",
      "\u001b[31m2019-09-14 09:57:58,563 sagemaker-containers INFO     Generating setup.cfg\u001b[0m\n",
      "\u001b[31m2019-09-14 09:57:58,563 sagemaker-containers INFO     Generating MANIFEST.in\u001b[0m\n",
      "\u001b[31m2019-09-14 09:57:58,563 sagemaker-containers INFO     Installing module with the following command:\u001b[0m\n",
      "\u001b[31m/usr/bin/python -m pip install -U . \u001b[0m\n",
      "\u001b[31mProcessing /opt/ml/code\u001b[0m\n",
      "\u001b[31mBuilding wheels for collected packages: main-train\n",
      "  Running setup.py bdist_wheel for main-train: started\n",
      "  Running setup.py bdist_wheel for main-train: finished with status 'done'\n",
      "  Stored in directory: /tmp/pip-ephem-wheel-cache-oox_e2qi/wheels/35/24/16/37574d11bf9bde50616c67372a334f94fa8356bc7164af8ca3\u001b[0m\n",
      "\u001b[31mSuccessfully built main-train\u001b[0m\n",
      "\u001b[31mInstalling collected packages: main-train\u001b[0m\n",
      "\u001b[31mSuccessfully installed main-train-1.0.0\u001b[0m\n",
      "\u001b[31mYou are using pip version 18.1, however version 19.2.3 is available.\u001b[0m\n",
      "\u001b[31mYou should consider upgrading via the 'pip install --upgrade pip' command.\u001b[0m\n",
      "\u001b[31m2019-09-14 09:58:00,444 sagemaker-containers INFO     Invoking user script\n",
      "\u001b[0m\n",
      "\u001b[31mTraining Env:\n",
      "\u001b[0m\n",
      "\u001b[31m{\n",
      "    \"additional_framework_parameters\": {},\n",
      "    \"channel_input_dirs\": {\n",
      "        \"val\": \"/opt/ml/input/data/val\",\n",
      "        \"embedding\": \"/opt/ml/input/data/embedding\",\n",
      "        \"train\": \"/opt/ml/input/data/train\"\n",
      "    },\n",
      "    \"current_host\": \"algo-1\",\n",
      "    \"framework_module\": \"sagemaker_pytorch_container.training:main\",\n",
      "    \"hosts\": [\n",
      "        \"algo-1\"\n",
      "    ],\n",
      "    \"hyperparameters\": {\n",
      "        \"trainfile\": \"train_unique_pub_v6_less_negative.json\",\n",
      "        \"batchsize\": \"32\",\n",
      "        \"log-level\": \"INFO\",\n",
      "        \"embeddim\": 200,\n",
      "        \"embeddingfile\": \"wikipedia-pubmed-and-PMC-w2v.bin.txt\",\n",
      "        \"valfile\": \"val_unique_pub_v6_less_negative.json\",\n",
      "        \"dataset\": \"PPIDataset\",\n",
      "        \"epochs\": \"1000\"\n",
      "    },\n",
      "    \"input_config_dir\": \"/opt/ml/input/config\",\n",
      "    \"input_data_config\": {\n",
      "        \"val\": {\n",
      "            \"TrainingInputMode\": \"File\",\n",
      "            \"S3DistributionType\": \"FullyReplicated\",\n",
      "            \"RecordWrapperType\": \"None\"\n",
      "        },\n",
      "        \"embedding\": {\n",
      "            \"TrainingInputMode\": \"File\",\n",
      "            \"S3DistributionType\": \"FullyReplicated\",\n",
      "            \"RecordWrapperType\": \"None\"\n",
      "        },\n",
      "        \"train\": {\n",
      "            \"TrainingInputMode\": \"File\",\n",
      "            \"S3DistributionType\": \"FullyReplicated\",\n",
      "            \"RecordWrapperType\": \"None\"\n",
      "        }\n",
      "    },\n",
      "    \"input_dir\": \"/opt/ml/input\",\n",
      "    \"is_master\": true,\n",
      "    \"job_name\": \"ppi-extractor-2019-09-14-09-50-18-575\",\n",
      "    \"log_level\": 20,\n",
      "    \"master_hostname\": \"algo-1\",\n",
      "    \"model_dir\": \"/opt/ml/model\",\n",
      "    \"module_dir\": \"s3://aegovan-data/ppi-extractor-2019-09-14-09-50-18-575/source/sourcedir.tar.gz\",\n",
      "    \"module_name\": \"main_train\",\n",
      "    \"network_interface_name\": \"eth0\",\n",
      "    \"num_cpus\": 8,\n",
      "    \"num_gpus\": 1,\n",
      "    \"output_data_dir\": \"/opt/ml/output/data\",\n",
      "    \"output_dir\": \"/opt/ml/output\",\n",
      "    \"output_intermediate_dir\": \"/opt/ml/output/intermediate\",\n",
      "    \"resource_config\": {\n",
      "        \"current_host\": \"algo-1\",\n",
      "        \"hosts\": [\n",
      "            \"algo-1\"\n",
      "        ],\n",
      "        \"network_interface_name\": \"eth0\"\n",
      "    },\n",
      "    \"user_entry_point\": \"main_train.py\"\u001b[0m\n",
      "\u001b[31m}\n",
      "\u001b[0m\n",
      "\u001b[31mEnvironment variables:\n",
      "\u001b[0m\n",
      "\u001b[31mSM_HOSTS=[\"algo-1\"]\u001b[0m\n",
      "\u001b[31mSM_NETWORK_INTERFACE_NAME=eth0\u001b[0m\n",
      "\u001b[31mSM_HPS={\"batchsize\":\"32\",\"dataset\":\"PPIDataset\",\"embeddim\":200,\"embeddingfile\":\"wikipedia-pubmed-and-PMC-w2v.bin.txt\",\"epochs\":\"1000\",\"log-level\":\"INFO\",\"trainfile\":\"train_unique_pub_v6_less_negative.json\",\"valfile\":\"val_unique_pub_v6_less_negative.json\"}\u001b[0m\n",
      "\u001b[31mSM_USER_ENTRY_POINT=main_train.py\u001b[0m\n",
      "\u001b[31mSM_FRAMEWORK_PARAMS={}\u001b[0m\n",
      "\u001b[31mSM_RESOURCE_CONFIG={\"current_host\":\"algo-1\",\"hosts\":[\"algo-1\"],\"network_interface_name\":\"eth0\"}\u001b[0m\n",
      "\u001b[31mSM_INPUT_DATA_CONFIG={\"embedding\":{\"RecordWrapperType\":\"None\",\"S3DistributionType\":\"FullyReplicated\",\"TrainingInputMode\":\"File\"},\"train\":{\"RecordWrapperType\":\"None\",\"S3DistributionType\":\"FullyReplicated\",\"TrainingInputMode\":\"File\"},\"val\":{\"RecordWrapperType\":\"None\",\"S3DistributionType\":\"FullyReplicated\",\"TrainingInputMode\":\"File\"}}\u001b[0m\n",
      "\u001b[31mSM_OUTPUT_DATA_DIR=/opt/ml/output/data\u001b[0m\n",
      "\u001b[31mSM_CHANNELS=[\"embedding\",\"train\",\"val\"]\u001b[0m\n",
      "\u001b[31mSM_CURRENT_HOST=algo-1\u001b[0m\n",
      "\u001b[31mSM_MODULE_NAME=main_train\u001b[0m\n",
      "\u001b[31mSM_LOG_LEVEL=20\u001b[0m\n",
      "\u001b[31mSM_FRAMEWORK_MODULE=sagemaker_pytorch_container.training:main\u001b[0m\n",
      "\u001b[31mSM_INPUT_DIR=/opt/ml/input\u001b[0m\n",
      "\u001b[31mSM_INPUT_CONFIG_DIR=/opt/ml/input/config\u001b[0m\n",
      "\u001b[31mSM_OUTPUT_DIR=/opt/ml/output\u001b[0m\n",
      "\u001b[31mSM_NUM_CPUS=8\u001b[0m\n",
      "\u001b[31mSM_NUM_GPUS=1\u001b[0m\n",
      "\u001b[31mSM_MODEL_DIR=/opt/ml/model\u001b[0m\n",
      "\u001b[31mSM_MODULE_DIR=s3://aegovan-data/ppi-extractor-2019-09-14-09-50-18-575/source/sourcedir.tar.gz\u001b[0m\n",
      "\u001b[31mSM_TRAINING_ENV={\"additional_framework_parameters\":{},\"channel_input_dirs\":{\"embedding\":\"/opt/ml/input/data/embedding\",\"train\":\"/opt/ml/input/data/train\",\"val\":\"/opt/ml/input/data/val\"},\"current_host\":\"algo-1\",\"framework_module\":\"sagemaker_pytorch_container.training:main\",\"hosts\":[\"algo-1\"],\"hyperparameters\":{\"batchsize\":\"32\",\"dataset\":\"PPIDataset\",\"embeddim\":200,\"embeddingfile\":\"wikipedia-pubmed-and-PMC-w2v.bin.txt\",\"epochs\":\"1000\",\"log-level\":\"INFO\",\"trainfile\":\"train_unique_pub_v6_less_negative.json\",\"valfile\":\"val_unique_pub_v6_less_negative.json\"},\"input_config_dir\":\"/opt/ml/input/config\",\"input_data_config\":{\"embedding\":{\"RecordWrapperType\":\"None\",\"S3DistributionType\":\"FullyReplicated\",\"TrainingInputMode\":\"File\"},\"train\":{\"RecordWrapperType\":\"None\",\"S3DistributionType\":\"FullyReplicated\",\"TrainingInputMode\":\"File\"},\"val\":{\"RecordWrapperType\":\"None\",\"S3DistributionType\":\"FullyReplicated\",\"TrainingInputMode\":\"File\"}},\"input_dir\":\"/opt/ml/input\",\"is_master\":true,\"job_name\":\"ppi-extractor-2019-09-14-09-50-18-575\",\"log_level\":20,\"master_hostname\":\"algo-1\",\"model_dir\":\"/opt/ml/model\",\"module_dir\":\"s3://aegovan-data/ppi-extractor-2019-09-14-09-50-18-575/source/sourcedir.tar.gz\",\"module_name\":\"main_train\",\"network_interface_name\":\"eth0\",\"num_cpus\":8,\"num_gpus\":1,\"output_data_dir\":\"/opt/ml/output/data\",\"output_dir\":\"/opt/ml/output\",\"output_intermediate_dir\":\"/opt/ml/output/intermediate\",\"resource_config\":{\"current_host\":\"algo-1\",\"hosts\":[\"algo-1\"],\"network_interface_name\":\"eth0\"},\"user_entry_point\":\"main_train.py\"}\u001b[0m\n",
      "\u001b[31mSM_USER_ARGS=[\"--batchsize\",\"32\",\"--dataset\",\"PPIDataset\",\"--embeddim\",\"200\",\"--embeddingfile\",\"wikipedia-pubmed-and-PMC-w2v.bin.txt\",\"--epochs\",\"1000\",\"--log-level\",\"INFO\",\"--trainfile\",\"train_unique_pub_v6_less_negative.json\",\"--valfile\",\"val_unique_pub_v6_less_negative.json\"]\u001b[0m\n",
      "\u001b[31mSM_OUTPUT_INTERMEDIATE_DIR=/opt/ml/output/intermediate\u001b[0m\n",
      "\u001b[31mSM_CHANNEL_VAL=/opt/ml/input/data/val\u001b[0m\n",
      "\u001b[31mSM_CHANNEL_EMBEDDING=/opt/ml/input/data/embedding\u001b[0m\n",
      "\u001b[31mSM_CHANNEL_TRAIN=/opt/ml/input/data/train\u001b[0m\n",
      "\u001b[31mSM_HP_TRAINFILE=train_unique_pub_v6_less_negative.json\u001b[0m\n",
      "\u001b[31mSM_HP_BATCHSIZE=32\u001b[0m\n",
      "\u001b[31mSM_HP_LOG-LEVEL=INFO\u001b[0m\n",
      "\u001b[31mSM_HP_EMBEDDIM=200\u001b[0m\n",
      "\u001b[31mSM_HP_EMBEDDINGFILE=wikipedia-pubmed-and-PMC-w2v.bin.txt\u001b[0m\n",
      "\u001b[31mSM_HP_VALFILE=val_unique_pub_v6_less_negative.json\u001b[0m\n",
      "\u001b[31mSM_HP_DATASET=PPIDataset\u001b[0m\n",
      "\u001b[31mSM_HP_EPOCHS=1000\u001b[0m\n",
      "\u001b[31mPYTHONPATH=/usr/local/bin:/usr/lib/python36.zip:/usr/lib/python3.6:/usr/lib/python3.6/lib-dynload:/usr/local/lib/python3.6/dist-packages:/usr/lib/python3/dist-packages\n",
      "\u001b[0m\n",
      "\u001b[31mInvoking script with the following command:\n",
      "\u001b[0m\n",
      "\u001b[31m/usr/bin/python -m main_train --batchsize 32 --dataset PPIDataset --embeddim 200 --embeddingfile wikipedia-pubmed-and-PMC-w2v.bin.txt --epochs 1000 --log-level INFO --trainfile train_unique_pub_v6_less_negative.json --valfile val_unique_pub_v6_less_negative.json\n",
      "\n",
      "\u001b[0m\n"
     ]
    },
    {
     "name": "stdout",
     "output_type": "stream",
     "text": [
      "\u001b[31m2019-09-14 09:58:02,434 sagemaker-containers ERROR    ExecuteUserScriptError:\u001b[0m\n",
      "\u001b[31mCommand \"/usr/bin/python -m main_train --batchsize 32 --dataset PPIDataset --embeddim 200 --embeddingfile wikipedia-pubmed-and-PMC-w2v.bin.txt --epochs 1000 --log-level INFO --trainfile train_unique_pub_v6_less_negative.json --valfile val_unique_pub_v6_less_negative.json\"\u001b[0m\n",
      "\u001b[31musage: main_train.py [-h] --dataset\n",
      "                     {PPIDataset,PpiAimedDataset,PpiNoInteractionDataset}\n",
      "                     --trainfile TRAINFILE [--traindir TRAINDIR] --valfile\n",
      "                     VALFILE [--valdir VALDIR] --embeddingfile EMBEDDINGFILE\n",
      "                     [--embeddingdir EMBEDDINGDIR] [--outdir OUTDIR]\n",
      "                     --embeddim EMBEDDIM [--epochs EPOCHS]\n",
      "                     [--interaction-type INTERACTION_TYPE]\n",
      "                     [--log-level {DEBUG,ERROR,WARN,INFO}]\u001b[0m\n",
      "\u001b[31mmain_train.py: error: unrecognized arguments: --batchsize 32\u001b[0m\n",
      "\n",
      "2019-09-14 09:58:06 Uploading - Uploading generated training model\n",
      "2019-09-14 09:58:06 Failed - Training job failed\n"
     ]
    },
    {
     "ename": "UnexpectedStatusException",
     "evalue": "Error for Training job ppi-extractor-2019-09-14-09-50-18-575: Failed. Reason: AlgorithmError: ExecuteUserScriptError:\nCommand \"/usr/bin/python -m main_train --batchsize 32 --dataset PPIDataset --embeddim 200 --embeddingfile wikipedia-pubmed-and-PMC-w2v.bin.txt --epochs 1000 --log-level INFO --trainfile train_unique_pub_v6_less_negative.json --valfile val_unique_pub_v6_less_negative.json\"\nusage: main_train.py [-h] --dataset\n                     {PPIDataset,PpiAimedDataset,PpiNoInteractionDataset}\n                     --trainfile TRAINFILE [--traindir TRAINDIR] --valfile\n                     VALFILE [--valdir VALDIR] --embeddingfile EMBEDDINGFILE\n                     [--embeddingdir EMBEDDINGDIR] [--outdir OUTDIR]\n                     --embeddim EMBEDDIM [--epochs EPOCHS]\n                     [--interaction-type INTERACTION_TYPE]\n                     [--log-level {DEBUG,ERROR,WARN,INFO}]\nmain_train.py: error: unrecognized arguments: --batchsize 32",
     "output_type": "error",
     "traceback": [
      "\u001b[0;31m---------------------------------------------------------------------------\u001b[0m",
      "\u001b[0;31mUnexpectedStatusException\u001b[0m                 Traceback (most recent call last)",
      "\u001b[0;32m<ipython-input-42-0731e612c7b1>\u001b[0m in \u001b[0;36m<module>\u001b[0;34m()\u001b[0m\n\u001b[0;32m----> 1\u001b[0;31m \u001b[0mestimator\u001b[0m\u001b[0;34m.\u001b[0m\u001b[0mfit\u001b[0m\u001b[0;34m(\u001b[0m\u001b[0minputs\u001b[0m\u001b[0;34m)\u001b[0m\u001b[0;34m\u001b[0m\u001b[0m\n\u001b[0m",
      "\u001b[0;32m~/miniconda/envs/untitled2/lib/python3.6/site-packages/sagemaker/estimator.py\u001b[0m in \u001b[0;36mfit\u001b[0;34m(self, inputs, wait, logs, job_name)\u001b[0m\n\u001b[1;32m    329\u001b[0m         \u001b[0mself\u001b[0m\u001b[0;34m.\u001b[0m\u001b[0mlatest_training_job\u001b[0m \u001b[0;34m=\u001b[0m \u001b[0m_TrainingJob\u001b[0m\u001b[0;34m.\u001b[0m\u001b[0mstart_new\u001b[0m\u001b[0;34m(\u001b[0m\u001b[0mself\u001b[0m\u001b[0;34m,\u001b[0m \u001b[0minputs\u001b[0m\u001b[0;34m)\u001b[0m\u001b[0;34m\u001b[0m\u001b[0m\n\u001b[1;32m    330\u001b[0m         \u001b[0;32mif\u001b[0m \u001b[0mwait\u001b[0m\u001b[0;34m:\u001b[0m\u001b[0;34m\u001b[0m\u001b[0m\n\u001b[0;32m--> 331\u001b[0;31m             \u001b[0mself\u001b[0m\u001b[0;34m.\u001b[0m\u001b[0mlatest_training_job\u001b[0m\u001b[0;34m.\u001b[0m\u001b[0mwait\u001b[0m\u001b[0;34m(\u001b[0m\u001b[0mlogs\u001b[0m\u001b[0;34m=\u001b[0m\u001b[0mlogs\u001b[0m\u001b[0;34m)\u001b[0m\u001b[0;34m\u001b[0m\u001b[0m\n\u001b[0m\u001b[1;32m    332\u001b[0m \u001b[0;34m\u001b[0m\u001b[0m\n\u001b[1;32m    333\u001b[0m     \u001b[0;32mdef\u001b[0m \u001b[0m_compilation_job_name\u001b[0m\u001b[0;34m(\u001b[0m\u001b[0mself\u001b[0m\u001b[0;34m)\u001b[0m\u001b[0;34m:\u001b[0m\u001b[0;34m\u001b[0m\u001b[0m\n",
      "\u001b[0;32m~/miniconda/envs/untitled2/lib/python3.6/site-packages/sagemaker/estimator.py\u001b[0m in \u001b[0;36mwait\u001b[0;34m(self, logs)\u001b[0m\n\u001b[1;32m    870\u001b[0m         \"\"\"\n\u001b[1;32m    871\u001b[0m         \u001b[0;32mif\u001b[0m \u001b[0mlogs\u001b[0m\u001b[0;34m:\u001b[0m\u001b[0;34m\u001b[0m\u001b[0m\n\u001b[0;32m--> 872\u001b[0;31m             \u001b[0mself\u001b[0m\u001b[0;34m.\u001b[0m\u001b[0msagemaker_session\u001b[0m\u001b[0;34m.\u001b[0m\u001b[0mlogs_for_job\u001b[0m\u001b[0;34m(\u001b[0m\u001b[0mself\u001b[0m\u001b[0;34m.\u001b[0m\u001b[0mjob_name\u001b[0m\u001b[0;34m,\u001b[0m \u001b[0mwait\u001b[0m\u001b[0;34m=\u001b[0m\u001b[0;32mTrue\u001b[0m\u001b[0;34m)\u001b[0m\u001b[0;34m\u001b[0m\u001b[0m\n\u001b[0m\u001b[1;32m    873\u001b[0m         \u001b[0;32melse\u001b[0m\u001b[0;34m:\u001b[0m\u001b[0;34m\u001b[0m\u001b[0m\n\u001b[1;32m    874\u001b[0m             \u001b[0mself\u001b[0m\u001b[0;34m.\u001b[0m\u001b[0msagemaker_session\u001b[0m\u001b[0;34m.\u001b[0m\u001b[0mwait_for_job\u001b[0m\u001b[0;34m(\u001b[0m\u001b[0mself\u001b[0m\u001b[0;34m.\u001b[0m\u001b[0mjob_name\u001b[0m\u001b[0;34m)\u001b[0m\u001b[0;34m\u001b[0m\u001b[0m\n",
      "\u001b[0;32m~/miniconda/envs/untitled2/lib/python3.6/site-packages/sagemaker/session.py\u001b[0m in \u001b[0;36mlogs_for_job\u001b[0;34m(self, job_name, wait, poll)\u001b[0m\n\u001b[1;32m   1492\u001b[0m \u001b[0;34m\u001b[0m\u001b[0m\n\u001b[1;32m   1493\u001b[0m         \u001b[0;32mif\u001b[0m \u001b[0mwait\u001b[0m\u001b[0;34m:\u001b[0m\u001b[0;34m\u001b[0m\u001b[0m\n\u001b[0;32m-> 1494\u001b[0;31m             \u001b[0mself\u001b[0m\u001b[0;34m.\u001b[0m\u001b[0m_check_job_status\u001b[0m\u001b[0;34m(\u001b[0m\u001b[0mjob_name\u001b[0m\u001b[0;34m,\u001b[0m \u001b[0mdescription\u001b[0m\u001b[0;34m,\u001b[0m \u001b[0;34m\"TrainingJobStatus\"\u001b[0m\u001b[0;34m)\u001b[0m\u001b[0;34m\u001b[0m\u001b[0m\n\u001b[0m\u001b[1;32m   1495\u001b[0m             \u001b[0;32mif\u001b[0m \u001b[0mdot\u001b[0m\u001b[0;34m:\u001b[0m\u001b[0;34m\u001b[0m\u001b[0m\n\u001b[1;32m   1496\u001b[0m                 \u001b[0mprint\u001b[0m\u001b[0;34m(\u001b[0m\u001b[0;34m)\u001b[0m\u001b[0;34m\u001b[0m\u001b[0m\n",
      "\u001b[0;32m~/miniconda/envs/untitled2/lib/python3.6/site-packages/sagemaker/session.py\u001b[0m in \u001b[0;36m_check_job_status\u001b[0;34m(self, job, desc, status_key_name)\u001b[0m\n\u001b[1;32m   1150\u001b[0m                 ),\n\u001b[1;32m   1151\u001b[0m                 \u001b[0mallowed_statuses\u001b[0m\u001b[0;34m=\u001b[0m\u001b[0;34m[\u001b[0m\u001b[0;34m\"Completed\"\u001b[0m\u001b[0;34m,\u001b[0m \u001b[0;34m\"Stopped\"\u001b[0m\u001b[0;34m]\u001b[0m\u001b[0;34m,\u001b[0m\u001b[0;34m\u001b[0m\u001b[0m\n\u001b[0;32m-> 1152\u001b[0;31m                 \u001b[0mactual_status\u001b[0m\u001b[0;34m=\u001b[0m\u001b[0mstatus\u001b[0m\u001b[0;34m,\u001b[0m\u001b[0;34m\u001b[0m\u001b[0m\n\u001b[0m\u001b[1;32m   1153\u001b[0m             )\n\u001b[1;32m   1154\u001b[0m \u001b[0;34m\u001b[0m\u001b[0m\n",
      "\u001b[0;31mUnexpectedStatusException\u001b[0m: Error for Training job ppi-extractor-2019-09-14-09-50-18-575: Failed. Reason: AlgorithmError: ExecuteUserScriptError:\nCommand \"/usr/bin/python -m main_train --batchsize 32 --dataset PPIDataset --embeddim 200 --embeddingfile wikipedia-pubmed-and-PMC-w2v.bin.txt --epochs 1000 --log-level INFO --trainfile train_unique_pub_v6_less_negative.json --valfile val_unique_pub_v6_less_negative.json\"\nusage: main_train.py [-h] --dataset\n                     {PPIDataset,PpiAimedDataset,PpiNoInteractionDataset}\n                     --trainfile TRAINFILE [--traindir TRAINDIR] --valfile\n                     VALFILE [--valdir VALDIR] --embeddingfile EMBEDDINGFILE\n                     [--embeddingdir EMBEDDINGDIR] [--outdir OUTDIR]\n                     --embeddim EMBEDDIM [--epochs EPOCHS]\n                     [--interaction-type INTERACTION_TYPE]\n                     [--log-level {DEBUG,ERROR,WARN,INFO}]\nmain_train.py: error: unrecognized arguments: --batchsize 32"
     ]
    }
   ],
   "source": [
    "estimator.fit(inputs)"
   ]
  }
 ],
 "metadata": {
  "kernelspec": {
   "display_name": "Python 3",
   "language": "python",
   "name": "python3"
  },
  "language_info": {
   "codemirror_mode": {
    "name": "ipython",
    "version": 3
   },
   "file_extension": ".py",
   "mimetype": "text/x-python",
   "name": "python",
   "nbconvert_exporter": "python",
   "pygments_lexer": "ipython3",
   "version": "3.6.4"
  }
 },
 "nbformat": 4,
 "nbformat_minor": 1
}
