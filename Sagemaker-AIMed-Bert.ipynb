{
 "cells": [
  {
   "cell_type": "markdown",
   "metadata": {},
   "source": [
    "### Set up"
   ]
  },
  {
   "cell_type": "markdown",
   "metadata": {},
   "source": [
    "#### 1. Set  up  accounts and role"
   ]
  },
  {
   "cell_type": "code",
   "execution_count": 1,
   "metadata": {},
   "outputs": [],
   "source": [
    "#!pip install sagemaker==1.39.0"
   ]
  },
  {
   "cell_type": "code",
   "execution_count": 2,
   "metadata": {},
   "outputs": [],
   "source": [
    "import sagemaker\n",
    "import boto3\n",
    "\n",
    "sagemaker_session = sagemaker.Session()\n",
    "account_id =  boto3.client('sts').get_caller_identity().get('Account')\n",
    "region = boto3.session.Session().region_name\n",
    "\n",
    "\n",
    "#role = sagemaker.get_execution_role()\n",
    "role=\"arn:aws:iam::{}:role/service-role/AmazonSageMaker-ExecutionRole-20190118T115449\".format(account_id)\n",
    "max_runs=1"
   ]
  },
  {
   "cell_type": "markdown",
   "metadata": {},
   "source": [
    "#### 2. Setup image and instance type"
   ]
  },
  {
   "cell_type": "code",
   "execution_count": 3,
   "metadata": {},
   "outputs": [],
   "source": [
    "pytorch_custom_image_name=\"ppi-extractor:gpu-1.0.0-201910130520\"\n",
    "instance_type = \"ml.p3.8xlarge\" "
   ]
  },
  {
   "cell_type": "code",
   "execution_count": 4,
   "metadata": {},
   "outputs": [],
   "source": [
    "docker_repo = \"{}.dkr.ecr.{}.amazonaws.com/{}\".format(account_id, region, pytorch_custom_image_name)"
   ]
  },
  {
   "cell_type": "markdown",
   "metadata": {},
   "source": [
    "#### 3. Configure train/ test and validation datasets"
   ]
  },
  {
   "cell_type": "code",
   "execution_count": 5,
   "metadata": {},
   "outputs": [],
   "source": [
    "bucket = \"aegovan-data\""
   ]
  },
  {
   "cell_type": "code",
   "execution_count": 6,
   "metadata": {},
   "outputs": [],
   "source": [
    "#trainfile = \"s3://{}/aimed/AIMedtrain.json\".format(bucket)\n",
    "trainfile_plain = \"s3://{}/aimed/AIMedFull.json\".format(bucket)\n",
    "trainfile=\"s3://{}/aimed/AIMedFull_preprocessed.json\".format(bucket)\n",
    "\n",
    "valfile=\"s3://{}/aimed/AIMedval_preprocessed.json\".format(bucket)\n",
    "\n",
    "pretrained_bert=\"s3://{}/embeddings/bert/\".format(bucket)\n",
    "\n",
    "\n",
    "\n",
    "train_split=\"s3://{}/aimed/AIMedtrain_pubmedoverlap_preprocessed.json\".format(bucket)\n",
    "val_split=\"s3://{}/aimed/AIMedval_pubmedoverlap_preprocessed.json\".format(bucket)\n",
    "\n",
    "\n",
    "\n",
    "s3_output_path= \"s3://{}/results/\".format(bucket)\n",
    "s3_code_path= \"s3://{}/aimed_bert_code\".format(bucket)"
   ]
  },
  {
   "cell_type": "markdown",
   "metadata": {},
   "source": [
    "### Start training"
   ]
  },
  {
   "cell_type": "code",
   "execution_count": 7,
   "metadata": {},
   "outputs": [],
   "source": [
    "commit_id = \"21a539b999abfbad643c2727aa1d475cc47d545c\""
   ]
  },
  {
   "cell_type": "code",
   "execution_count": 8,
   "metadata": {},
   "outputs": [],
   "source": [
    "pub_inputs = {\n",
    "    \"train\" : trainfile,\n",
    "    \"PRETRAINED_BIOBERT\" : pretrained_bert\n",
    "}"
   ]
  },
  {
   "cell_type": "code",
   "execution_count": 9,
   "metadata": {},
   "outputs": [],
   "source": [
    "plain_inputs = {\n",
    "    \"train\" : trainfile_plain,\n",
    "    \"PRETRAINED_BIOBERT\" : pretrained_bert\n",
    "}"
   ]
  },
  {
   "cell_type": "code",
   "execution_count": null,
   "metadata": {},
   "outputs": [],
   "source": [
    "train_split_inputs = {\n",
    "    \"train\" : train_split,\n",
    "    \"val\" : val_split,\n",
    "   # \"val\" :valfile,\n",
    "    \"PRETRAINED_BIOBERT\" : pretrained_bert\n",
    "}"
   ]
  },
  {
   "cell_type": "code",
   "execution_count": 10,
   "metadata": {},
   "outputs": [],
   "source": [
    "BertNetworkFactoryhyperparameters = {\n",
    "    \"dataset\":\"PpiAimedDatasetPreprocessedFactory\",\n",
    "    \"network\" :\"RelationExtractorBioBertFactory\",\n",
    "    \"trainfile\":trainfile.split(\"/\")[-1],\n",
    "    \"batchsize\": \"8\",\n",
    "    \"accumulation_steps\" : \"8\",\n",
    "    \"epochs\" : \"1000\",   \n",
    "    \"log-level\" : \"INFO\",\n",
    "    \"learningrate\":.00001,\n",
    "    \"earlystoppingpatience\":20,\n",
    "    \"commit_id\" : commit_id,\n",
    "    \"docidfieldname\":\"docid\",\n",
    "    \"labelfieldname\":\"isValid\"\n",
    "\n",
    "\n",
    "}"
   ]
  },
  {
   "cell_type": "code",
   "execution_count": 11,
   "metadata": {},
   "outputs": [],
   "source": [
    "BertNetworkFactoryhyperparameters_overlap = {\n",
    "    \"dataset\":\"PpiAimedDatasetPreprocessedFactory\",\n",
    "    \"network\" :\"RelationExtractorBioBertFactory\",\n",
    "    \"trainfile\":trainfile.split(\"/\")[-1],\n",
    "    \"batchsize\": \"8\",\n",
    "    \"accumulation_steps\" : \"8\",\n",
    "    \"epochs\" : \"1000\",   \n",
    "    \"log-level\" : \"INFO\",\n",
    "    \"learningrate\":.00001,\n",
    "    \"earlystoppingpatience\":20,\n",
    "    \"commit_id\" : commit_id,\n",
    "    \"labelfieldname\":\"isValid\"\n",
    "\n",
    "\n",
    "}"
   ]
  },
  {
   "cell_type": "code",
   "execution_count": 12,
   "metadata": {},
   "outputs": [],
   "source": [
    "BertNetworkFactoryhyperparameters_plain = {\n",
    "    \"dataset\":\"PpiAimedDatasetFactory\",\n",
    "    \"network\" :\"RelationExtractorBioBertFactory\",\n",
    "    \"trainfile\":trainfile_plain.split(\"/\")[-1],\n",
    "    \"batchsize\": \"8\",\n",
    "    \"accumulation_steps\" : \"8\",\n",
    "    \"epochs\" : \"1000\",   \n",
    "    \"log-level\" : \"INFO\",\n",
    "    \"learningrate\":.00001,\n",
    "    \"earlystoppingpatience\":20,\n",
    "    \"commit_id\" : commit_id,\n",
    "    \"docidfieldname\":\"docid\",\n",
    "    \"labelfieldname\":\"isValid\"\n",
    "}"
   ]
  },
  {
   "cell_type": "code",
   "execution_count": null,
   "metadata": {},
   "outputs": [],
   "source": [
    "BertNetworkFactoryhyperparameters_plain_split = {\n",
    "    \"dataset\":\"PpiAimedDatasetFactory\",\n",
    "    \"network\" :\"RelationExtractorBioBertFactory\",\n",
    "    \"trainfile\":trainfile_plain.split(\"/\")[-1],\n",
    "    \"batchsize\": \"8\",\n",
    "    \"accumulation_steps\" : \"8\",\n",
    "    \"epochs\" : \"1000\",   \n",
    "    \"log-level\" : \"INFO\",\n",
    "    \"learningrate\":.00001,\n",
    "    \"earlystoppingpatience\":20,\n",
    "    \"commit_id\" : commit_id,\n",
    "    \"docidfieldname\":\"docid\",\n",
    "    \"labelfieldname\":\"isValid\"\n",
    "}"
   ]
  },
  {
   "cell_type": "code",
   "execution_count": 13,
   "metadata": {},
   "outputs": [],
   "source": [
    "BertNetworkFactoryhyperparameters_plain_overlap = {\n",
    "    \"dataset\":\"PpiAimedDatasetFactory\",\n",
    "    \"network\" :\"RelationExtractorBioBertFactory\",\n",
    "    \"trainfile\":trainfile_plain.split(\"/\")[-1],\n",
    "    \"batchsize\": \"8\",\n",
    "    \"accumulation_steps\" : \"8\",\n",
    "    \"epochs\" : \"1000\",   \n",
    "    \"log-level\" : \"INFO\",\n",
    "    \"learningrate\":.00001,\n",
    "    \"earlystoppingpatience\":20,\n",
    "    \"commit_id\" : commit_id,\n",
    "    \"labelfieldname\":\"isValid\"\n",
    "}"
   ]
  },
  {
   "cell_type": "code",
   "execution_count": 14,
   "metadata": {},
   "outputs": [],
   "source": [
    "LstmBertNetworkFactoryhyperparameters_plain = {\n",
    "    \"dataset\":\"PpiAimedDatasetFactory\",\n",
    "    \"network\" :\"RelationExtractorBertBiLstmNetworkNoPosFactory\",\n",
    "    \"trainfile\":trainfile_plain.split(\"/\")[-1],\n",
    "    \"batchsize\": \"64\",\n",
    "    \"accumulation_steps\" : \"1\",\n",
    "    \"epochs\" : \"1000\",   \n",
    "    \"log-level\" : \"INFO\",\n",
    "    \"earlystoppingpatience\":20,\n",
    "    \"commit_id\" : commit_id,\n",
    "    \"learningrate\":.001,\n",
    "    \"lstm_dropout\":0.5,\n",
    "    \"lstm_num_layers\" :1,\n",
    "    \"lstm_hidden_size\":200,\n",
    "    \"fc_drop_out_rate\":0.5,\n",
    "    \"input_dropout\" :0.1,\n",
    "    \"docidfieldname\":\"docid\",\n",
    "    \"labelfieldname\":\"isValid\"\n",
    "   \n",
    "}"
   ]
  },
  {
   "cell_type": "code",
   "execution_count": 15,
   "metadata": {},
   "outputs": [],
   "source": [
    "metric_definitions = [{\"Name\": \"TrainLoss\",\n",
    "                     \"Regex\": \"###score: train_loss### (\\d*[.]?\\d*)\"}\n",
    "                    ,{\"Name\": \"ValidationLoss\",\n",
    "                     \"Regex\": \"###score: val_loss### (\\d*[.]?\\d*)\"}\n",
    "                    ,{\"Name\": \"TrainFScore\",\n",
    "                     \"Regex\": \"###score: train_fscore### (\\d*[.]?\\d*)\"}\n",
    "                   ,{\"Name\": \"ValidationFScore\",\n",
    "                     \"Regex\": \"###score: val_fscore### (\\d*[.]?\\d*)\"}\n",
    "                    ]"
   ]
  },
  {
   "cell_type": "code",
   "execution_count": 16,
   "metadata": {},
   "outputs": [
    {
     "name": "stdout",
     "output_type": "stream",
     "text": [
      "commit 17b3ebdb9f7d95caa29f7142af9e8dbf25575ef9\n",
      "    update notebook - Add multiple runs\n"
     ]
    }
   ],
   "source": [
    "!git log -1 | head -1\n",
    "!git log -1 | head -5 | tail -1"
   ]
  },
  {
   "cell_type": "code",
   "execution_count": 17,
   "metadata": {},
   "outputs": [],
   "source": [
    "hyperparameters = BertNetworkFactoryhyperparameters #BertNetworkFactoryhyperparameters_plain_overlap # BertNetworkFactoryhyperparameters_plain #  # LstmBertNetworkFactoryhyperparameters_plain \n",
    "inputs = pub_inputs #plain_inputs \n",
    "base_name = \"aimed-bert-process-overlap\""
   ]
  },
  {
   "cell_type": "code",
   "execution_count": 18,
   "metadata": {},
   "outputs": [],
   "source": [
    "git_config = {'repo': 'https://github.com/elangovana/PPI-typed-relation-extractor.git',\n",
    "              'branch': 'master',\n",
    "              'commit': hyperparameters[\"commit_id\"]\n",
    "             }"
   ]
  },
  {
   "cell_type": "code",
   "execution_count": 19,
   "metadata": {},
   "outputs": [
    {
     "data": {
      "text/plain": [
       "{'dataset': 'PpiAimedDatasetPreprocessedFactory',\n",
       " 'network': 'RelationExtractorBioBertFactory',\n",
       " 'trainfile': 'AIMedFull_preprocessed.json',\n",
       " 'batchsize': '8',\n",
       " 'accumulation_steps': '8',\n",
       " 'epochs': '1000',\n",
       " 'log-level': 'INFO',\n",
       " 'learningrate': 1e-05,\n",
       " 'earlystoppingpatience': 20,\n",
       " 'commit_id': '21a539b999abfbad643c2727aa1d475cc47d545c',\n",
       " 'docidfieldname': 'docid',\n",
       " 'labelfieldname': 'isValid'}"
      ]
     },
     "execution_count": 19,
     "metadata": {},
     "output_type": "execute_result"
    }
   ],
   "source": [
    "hyperparameters"
   ]
  },
  {
   "cell_type": "code",
   "execution_count": 20,
   "metadata": {},
   "outputs": [
    {
     "data": {
      "text/plain": [
       "{'train': 's3://aegovan-data/aimed/AIMedFull_preprocessed.json',\n",
       " 'PRETRAINED_BIOBERT': 's3://aegovan-data/embeddings/bert/'}"
      ]
     },
     "execution_count": 20,
     "metadata": {},
     "output_type": "execute_result"
    }
   ],
   "source": [
    "inputs"
   ]
  },
  {
   "cell_type": "code",
   "execution_count": 21,
   "metadata": {},
   "outputs": [],
   "source": [
    "from sagemaker.pytorch import PyTorch\n",
    "\n",
    "estimator = PyTorch(\n",
    "     #entry_point='main_train_k_fold.py',\n",
    "    entry_point='main_train_bert_k_fold.py',\n",
    "                    source_dir = 'source/algorithms',\n",
    "                    dependencies =['source/algorithms', 'source/datasets', 'source/preprocessor', 'source/modelnetworks','source/trainpipelinesbuilders', 'source/metrics'],\n",
    "                    role=role,\n",
    "                    framework_version =\"1.0.0\",\n",
    "                    py_version='py3',\n",
    "                    git_config= git_config,\n",
    "                    image_name= docker_repo,\n",
    "                    train_instance_count=1,\n",
    "                    train_instance_type=instance_type,\n",
    "                    hyperparameters =hyperparameters,\n",
    "                    output_path=s3_output_path,\n",
    "                    metric_definitions=metric_definitions,\n",
    "                    #train_use_spot_instances = True\n",
    "                    train_volume_size=30,\n",
    "                    code_location=s3_code_path,\n",
    "                    train_max_run = 60 * 60 * 24 * 4,\n",
    "                    base_job_name =base_name)"
   ]
  },
  {
   "cell_type": "code",
   "execution_count": 22,
   "metadata": {},
   "outputs": [],
   "source": [
    "estimator.fit(inputs, wait=False)"
   ]
  },
  {
   "attachments": {},
   "cell_type": "markdown",
   "metadata": {},
   "source": [
    "### AIMed bert - No overlap\n",
    "- Run : aimed-bert-plain-nooverlap-2019-11-23-09-43-13-289\n",
    "\n",
    "- Script\n",
    "```bash\n",
    "/usr/bin/python -m main_train_bert_k_fold --accumulation_steps 8 --batchsize 8 --commit_id 21a539b999abfbad643c2727aa1d475cc47d545c --dataset PpiAimedDatasetFactory --docidfieldname docid --earlystoppingpatience 20 --epochs 1000 --labelfieldname isValid --learningrate 1e-05 --log-level INFO --network RelationExtractorBioBertFactory --trainfile AIMedFull.json\n",
    "```\n",
    "\n",
    "- Confusion matrx\n",
    "\n",
    "```text\n",
    "tn, fp, fn, tp\n",
    "471\t39\t41\t66\n",
    "403\t13\t29\t87\n",
    "342\t31\t36\t61\n",
    "418\t37\t36\t81\n",
    "589\t34\t51\t49\n",
    "578\t27\t24\t74\n",
    "319\t59\t40\t59\n",
    "505\t26\t50\t49\n",
    "583\t22\t26\t69\n",
    "310\t28\t23\t49\n",
    "```\n",
    "\n",
    "- Results\n",
    "\n",
    "\n",
    "```text\n",
    "    P           R           F1\n",
    "0.628571429\t0.61682243\t0.622641509\n",
    "0.87\t0.75\t0.805555556\n",
    "0.663043478\t0.628865979\t0.645502646\n",
    "0.686440678\t0.692307692\t0.689361702\n",
    "0.590361446\t0.49\t0.535519126\n",
    "0.732673267\t0.755102041\t0.743718593\n",
    "0.5\t0.595959596\t0.543778802\n",
    "0.653333333\t0.494949495\t0.563218391\n",
    "0.758241758\t0.726315789\t0.741935484\n",
    "0.636363636\t0.680555556\t0.657718121\n",
    "\n",
    "67.19\t64.31\t65.49\n",
    "    10\t9.6\t     9.2\n",
    "```\n"
   ]
  }
 ],
 "metadata": {
  "kernelspec": {
   "display_name": "Python 3",
   "language": "python",
   "name": "python3"
  },
  "language_info": {
   "codemirror_mode": {
    "name": "ipython",
    "version": 3
   },
   "file_extension": ".py",
   "mimetype": "text/x-python",
   "name": "python",
   "nbconvert_exporter": "python",
   "pygments_lexer": "ipython3",
   "version": "3.7.4"
  }
 },
 "nbformat": 4,
 "nbformat_minor": 1
}
