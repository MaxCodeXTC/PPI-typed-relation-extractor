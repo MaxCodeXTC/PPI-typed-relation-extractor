{
 "cells": [
  {
   "cell_type": "markdown",
   "metadata": {},
   "source": [
    "### Set up"
   ]
  },
  {
   "cell_type": "markdown",
   "metadata": {},
   "source": [
    "#### 1. Set  up  accounts and role"
   ]
  },
  {
   "cell_type": "code",
   "execution_count": 1,
   "metadata": {},
   "outputs": [],
   "source": [
    "#!pip install sagemaker==1.39.0"
   ]
  },
  {
   "cell_type": "code",
   "execution_count": 2,
   "metadata": {},
   "outputs": [],
   "source": [
    "import sagemaker\n",
    "import boto3\n",
    "\n",
    "sagemaker_session = sagemaker.Session()\n",
    "account_id =  boto3.client('sts').get_caller_identity().get('Account')\n",
    "region = boto3.session.Session().region_name\n",
    "\n",
    "\n",
    "#role = sagemaker.get_execution_role()\n",
    "role=\"arn:aws:iam::{}:role/service-role/AmazonSageMaker-ExecutionRole-20190118T115449\".format(account_id)\n"
   ]
  },
  {
   "cell_type": "markdown",
   "metadata": {},
   "source": [
    "#### 2. Setup image and instance type"
   ]
  },
  {
   "cell_type": "code",
   "execution_count": 3,
   "metadata": {},
   "outputs": [],
   "source": [
    "pytorch_custom_image_name=\"ppi-extractor:gpu-1.0.0-201910130520\"\n",
    "instance_type = \"ml.p3.8xlarge\" "
   ]
  },
  {
   "cell_type": "code",
   "execution_count": 4,
   "metadata": {},
   "outputs": [],
   "source": [
    "docker_repo = \"{}.dkr.ecr.{}.amazonaws.com/{}\".format(account_id, region, pytorch_custom_image_name)"
   ]
  },
  {
   "cell_type": "markdown",
   "metadata": {},
   "source": [
    "#### 3. Configure train/ test and validation datasets"
   ]
  },
  {
   "cell_type": "code",
   "execution_count": 5,
   "metadata": {},
   "outputs": [],
   "source": [
    "bucket = \"aegovan-data\""
   ]
  },
  {
   "cell_type": "code",
   "execution_count": 6,
   "metadata": {},
   "outputs": [],
   "source": [
    "trainfile = \"s3://{}/processed_dataset/train_unique_pub_v6_less_negative.json\".format(bucket)\n",
    "testfile= \"s3://{}/processed_dataset/test_unique_pub_v6_less_negative.json\".format(bucket)\n",
    "valfile=\"s3://{}/processed_dataset/val_unique_pub_v6_less_negative.json\".format(bucket)\n",
    "\n",
    "\n",
    "trainfile = \"s3://{}/processed_dataset/train_unique_pub_v6_max_neg.json\".format(bucket)\n",
    "testfile= \"s3://{}/processed_dataset/test_unique_pub_v6_max_neg.json\".format(bucket)\n",
    "valfile=\"s3://{}/processed_dataset/val_unique_pub_v6_max_neg.json\".format(bucket)\n",
    "# trainfile = \"s3://{}/aimed/train_unique_negative_entity_only.json\".format(bucket)\n",
    "# testfile= \"s3://{}/aimed/test_unique_negative_entity_only.json\".format(bucket)\n",
    "# valfile= \"s3://{}/aimed/val_unique_negative_entity_only.json\".format(bucket)\n",
    "\n",
    "\n",
    "\n",
    "pretrained_bert=\"s3://{}/embeddings/bert/\".format(bucket)\n",
    "\n",
    "\n",
    "s3_output_path= \"s3://{}/results/\".format(bucket)\n",
    "s3_code_path= \"s3://{}/aimed_bert_code\".format(bucket)"
   ]
  },
  {
   "cell_type": "markdown",
   "metadata": {},
   "source": [
    "### Start training"
   ]
  },
  {
   "cell_type": "code",
   "execution_count": 7,
   "metadata": {},
   "outputs": [],
   "source": [
    "pub_inputs = {\n",
    "    \"train\" : trainfile,\n",
    "    \"val\" :valfile,\n",
    "    \"test\" : testfile,\n",
    "    \"PRETRAINED_BIOBERT\" : pretrained_bert\n",
    "}"
   ]
  },
  {
   "cell_type": "code",
   "execution_count": 8,
   "metadata": {},
   "outputs": [],
   "source": [
    "BertNetworkFactoryhyperparameters = {\n",
    "    \"dataset\":\"PpiDatasetFactory\",\n",
    "    \"network\" :\"RelationExtractorBioBertFactory\",\n",
    "    \"trainfile\":trainfile.split(\"/\")[-1],\n",
    "     \"valfile\":valfile.split(\"/\")[-1],\n",
    "    \"testfile\":testfile.split(\"/\")[-1],\n",
    "    \"batchsize\": \"8\",\n",
    "    \"accumulation_steps\": 8,\n",
    "    \"epochs\" : \"1000\",   \n",
    "    \"log-level\" : \"INFO\",\n",
    "    \"learningrate\":.00001,\n",
    "    \n",
    "    \"earlystoppingpatience\":20\n",
    "}"
   ]
  },
  {
   "cell_type": "code",
   "execution_count": 9,
   "metadata": {},
   "outputs": [],
   "source": [
    "BertNoType_NetworkFactoryhyperparameters = {\n",
    "    \"dataset\":\"PpiNoInteractionDatasetFactory\",\n",
    "    \"network\" :\"RelationExtractorBioBertFactory\",\n",
    "    \"trainfile\":trainfile.split(\"/\")[-1],\n",
    "     \"valfile\":valfile.split(\"/\")[-1],\n",
    "    \"batchsize\": \"8\",\n",
    "    \"epochs\" : \"1000\",   \n",
    "    \"log-level\" : \"INFO\",\n",
    "    \"learningrate\":.00001,\n",
    "    \"earlystoppingpatience\":20\n",
    "}"
   ]
  },
  {
   "cell_type": "code",
   "execution_count": 10,
   "metadata": {},
   "outputs": [],
   "source": [
    "metric_definitions = [{\"Name\": \"TrainLoss\",\n",
    "                     \"Regex\": \"###score: train_loss### (\\d*[.]?\\d*)\"}\n",
    "                    ,{\"Name\": \"ValidationLoss\",\n",
    "                     \"Regex\": \"###score: val_loss### (\\d*[.]?\\d*)\"}\n",
    "                    ,{\"Name\": \"TrainFScore\",\n",
    "                     \"Regex\": \"###score: train_fscore### (\\d*[.]?\\d*)\"}\n",
    "                   ,{\"Name\": \"ValidationFScore\",\n",
    "                     \"Regex\": \"###score: val_fscore### (\\d*[.]?\\d*)\"}\n",
    "                    ]"
   ]
  },
  {
   "cell_type": "code",
   "execution_count": 11,
   "metadata": {},
   "outputs": [
    {
     "name": "stdout",
     "output_type": "stream",
     "text": [
      "commit b88fc61617018334491247162e33042bf5c2eefc\n",
      "    Fix predictor\n"
     ]
    }
   ],
   "source": [
    "!git log -1 | head -1\n",
    "!git log -1 | head -5 | tail -1"
   ]
  },
  {
   "cell_type": "code",
   "execution_count": 12,
   "metadata": {},
   "outputs": [],
   "source": [
    "git_config = {'repo': 'https://github.com/elangovana/PPI-typed-relation-extractor.git',\n",
    "              'branch': 'master',\n",
    "            #  'commit': '58a09e154935248667062a36fdae7d86b86b477c'\n",
    "             }"
   ]
  },
  {
   "cell_type": "code",
   "execution_count": 13,
   "metadata": {},
   "outputs": [],
   "source": [
    "hyperparameters =BertNetworkFactoryhyperparameters #BertNoType_NetworkFactoryhyperparameters \n",
    "inputs = pub_inputs \n"
   ]
  },
  {
   "cell_type": "code",
   "execution_count": 14,
   "metadata": {},
   "outputs": [
    {
     "data": {
      "text/plain": [
       "{'accumulation_steps': 8,\n",
       " 'batchsize': '8',\n",
       " 'dataset': 'PpiDatasetFactory',\n",
       " 'earlystoppingpatience': 20,\n",
       " 'epochs': '1000',\n",
       " 'learningrate': 1e-05,\n",
       " 'log-level': 'INFO',\n",
       " 'network': 'RelationExtractorBioBertFactory',\n",
       " 'testfile': 'test_unique_pub_v6_max_neg.json',\n",
       " 'trainfile': 'train_unique_pub_v6_max_neg.json',\n",
       " 'valfile': 'val_unique_pub_v6_max_neg.json'}"
      ]
     },
     "execution_count": 14,
     "metadata": {},
     "output_type": "execute_result"
    }
   ],
   "source": [
    "hyperparameters"
   ]
  },
  {
   "cell_type": "code",
   "execution_count": 15,
   "metadata": {},
   "outputs": [
    {
     "data": {
      "text/plain": [
       "{'PRETRAINED_BIOBERT': 's3://aegovan-data/embeddings/bert/',\n",
       " 'test': 's3://aegovan-data/processed_dataset/test_unique_pub_v6_max_neg.json',\n",
       " 'train': 's3://aegovan-data/processed_dataset/train_unique_pub_v6_max_neg.json',\n",
       " 'val': 's3://aegovan-data/processed_dataset/val_unique_pub_v6_max_neg.json'}"
      ]
     },
     "execution_count": 15,
     "metadata": {},
     "output_type": "execute_result"
    }
   ],
   "source": [
    "inputs"
   ]
  },
  {
   "cell_type": "code",
   "execution_count": 16,
   "metadata": {},
   "outputs": [],
   "source": [
    "from sagemaker.pytorch import PyTorch\n",
    "\n",
    "estimator = PyTorch(\n",
    "     #entry_point='main_train_k_fold.py',\n",
    "    entry_point='main_train_bert.py',\n",
    "                    source_dir = 'source/algorithms',\n",
    "                    dependencies =['source/algorithms', 'source/datasets', 'source/preprocessor', 'source/modelnetworks','source/trainpipelinesbuilders'],\n",
    "                    role=role,\n",
    "                    framework_version =\"1.0.0\",\n",
    "                    py_version='py3',\n",
    "                    git_config= git_config,\n",
    "                    image_name= docker_repo,\n",
    "                    train_instance_count=1,\n",
    "                    train_instance_type=instance_type,\n",
    "                    hyperparameters =hyperparameters,\n",
    "                    output_path=s3_output_path,\n",
    "                    metric_definitions=metric_definitions,\n",
    "                    #train_use_spot_instances = True\n",
    "                    train_volume_size=30,\n",
    "                    code_location=s3_code_path,\n",
    "                    base_job_name =\"ppi-bert-extractor-neg\")"
   ]
  },
  {
   "cell_type": "code",
   "execution_count": null,
   "metadata": {},
   "outputs": [],
   "source": [
    "estimator.fit(inputs)"
   ]
  }
 ],
 "metadata": {
  "kernelspec": {
   "display_name": "Python 3",
   "language": "python",
   "name": "python3"
  },
  "language_info": {
   "codemirror_mode": {
    "name": "ipython",
    "version": 3
   },
   "file_extension": ".py",
   "mimetype": "text/x-python",
   "name": "python",
   "nbconvert_exporter": "python",
   "pygments_lexer": "ipython3",
   "version": "3.6.4"
  }
 },
 "nbformat": 4,
 "nbformat_minor": 1
}
