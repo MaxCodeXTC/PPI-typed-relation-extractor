{
 "cells": [
  {
   "cell_type": "markdown",
   "metadata": {},
   "source": [
    "# Explore AIMed - Ylhsieh Dataset\n"
   ]
  },
  {
   "cell_type": "code",
   "execution_count": 1,
   "metadata": {},
   "outputs": [],
   "source": [
    "train_data=\"~/Downloads/AIMED/AIMed_tokenized_f0_train.txt\"\n",
    "val_data=\"~/Downloads/AIMED/AIMed_tokenized_f0_test.txt\"\n"
   ]
  },
  {
   "cell_type": "code",
   "execution_count": 2,
   "metadata": {},
   "outputs": [],
   "source": [
    "import pandas as pd\n",
    "\n",
    "pd.set_option('display.max_columns', None)\n",
    "pd.set_option('display.max_colwidth', 10000)\n",
    "pd.set_option('display.max_rows', 100)\n",
    "\n",
    "import matplotlib.pyplot as plt\n",
    "plt.rcParams.update({'font.size': 12})"
   ]
  },
  {
   "cell_type": "code",
   "execution_count": 3,
   "metadata": {},
   "outputs": [],
   "source": [
    "import sys\n",
    "sys.path.append('./source')"
   ]
  },
  {
   "cell_type": "markdown",
   "metadata": {},
   "source": [
    "#### Covert to pandas"
   ]
  },
  {
   "cell_type": "code",
   "execution_count": 4,
   "metadata": {},
   "outputs": [],
   "source": [
    "import pandas as pd"
   ]
  },
  {
   "cell_type": "code",
   "execution_count": 5,
   "metadata": {},
   "outputs": [
    {
     "data": {
      "text/plain": [
       "((4699, 2), (523, 2))"
      ]
     },
     "execution_count": 5,
     "metadata": {},
     "output_type": "execute_result"
    }
   ],
   "source": [
    "df_train = pd.read_csv(train_data, sep=\"\\t\", names=[\"label\",\"text\" ])\n",
    "df_val = pd.read_csv(val_data, sep=\"\\t\", names=[\"label\",\"text\" ])\n",
    "df_train.shape, df_val.shape"
   ]
  },
  {
   "cell_type": "code",
   "execution_count": 19,
   "metadata": {},
   "outputs": [
    {
     "data": {
      "text/plain": [
       "(5222, 2)"
      ]
     },
     "execution_count": 19,
     "metadata": {},
     "output_type": "execute_result"
    }
   ],
   "source": [
    "df = pd.concat([df_train,df_val], axis=0, ignore_index=True)\n",
    "df.shape"
   ]
  },
  {
   "cell_type": "code",
   "execution_count": 20,
   "metadata": {},
   "outputs": [
    {
     "data": {
      "text/html": [
       "<div>\n",
       "<style scoped>\n",
       "    .dataframe tbody tr th:only-of-type {\n",
       "        vertical-align: middle;\n",
       "    }\n",
       "\n",
       "    .dataframe tbody tr th {\n",
       "        vertical-align: top;\n",
       "    }\n",
       "\n",
       "    .dataframe thead th {\n",
       "        text-align: right;\n",
       "    }\n",
       "</style>\n",
       "<table border=\"1\" class=\"dataframe\">\n",
       "  <thead>\n",
       "    <tr style=\"text-align: right;\">\n",
       "      <th></th>\n",
       "      <th>label</th>\n",
       "      <th>text</th>\n",
       "    </tr>\n",
       "  </thead>\n",
       "  <tbody>\n",
       "    <tr>\n",
       "      <th>4420</th>\n",
       "      <td>N</td>\n",
       "      <td>Although PROTEIN / PROTEIN1 and PROTEIN2 / PROTEIN were previously thought to interact preferentially with different DNA regulatory elements -LRB- the AP-1  /  TRE and PROTEIN / CRE sites , respectively -RRB- , we find that members of these two families form selective cross-family heterodimers .</td>\n",
       "    </tr>\n",
       "    <tr>\n",
       "      <th>1961</th>\n",
       "      <td>N</td>\n",
       "      <td>Immunoprecipitation assays also show a weak substoichiometric association of the PROTEIN -LRB- PROTEIN -RRB- with PROTEIN , consistent with the previous report of a PTF-related complex -LRB- PROTEIN1 -RRB- containing substoichiometric levels of PROTEIN2 and a component -LRB- PROTEIN -RRB- identical in sequence to the PROTEIN gamma reported here .</td>\n",
       "    </tr>\n",
       "    <tr>\n",
       "      <th>179</th>\n",
       "      <td>N</td>\n",
       "      <td>PROTEIN interacts with PROTEIN in the presence of PROTEIN1 to generate a structure similar to 17S PROTEIN , which suggests a function for PROTEIN2 and PROTEIN in the incorporation of PROTEIN into the spliceosome .</td>\n",
       "    </tr>\n",
       "    <tr>\n",
       "      <th>2662</th>\n",
       "      <td>N</td>\n",
       "      <td>The interface relies on the steric complementarity between the PROTEIN1 cleft and the hydrophobic face of the PROTEIN alpha helix and , in particular , on a triad of PROTEIN2 amino acids-Phe19 , Trp23 , and Leu26-which insert deep into the PROTEIN cleft .</td>\n",
       "    </tr>\n",
       "    <tr>\n",
       "      <th>5049</th>\n",
       "      <td>N</td>\n",
       "      <td>Peptide growth factors , as well as the immediate early gene products PROTEIN1 , PROTEIN2 , and PROTEIN , inhibit the activity of PROTEIN through a mechanism independent of its association with PROTEIN products .</td>\n",
       "    </tr>\n",
       "  </tbody>\n",
       "</table>\n",
       "</div>"
      ],
      "text/plain": [
       "     label  \\\n",
       "4420     N   \n",
       "1961     N   \n",
       "179      N   \n",
       "2662     N   \n",
       "5049     N   \n",
       "\n",
       "                                                                                                                                                                                                                                                                                                                                                              text  \n",
       "4420                                                      Although PROTEIN / PROTEIN1 and PROTEIN2 / PROTEIN were previously thought to interact preferentially with different DNA regulatory elements -LRB- the AP-1  /  TRE and PROTEIN / CRE sites , respectively -RRB- , we find that members of these two families form selective cross-family heterodimers .  \n",
       "1961  Immunoprecipitation assays also show a weak substoichiometric association of the PROTEIN -LRB- PROTEIN -RRB- with PROTEIN , consistent with the previous report of a PTF-related complex -LRB- PROTEIN1 -RRB- containing substoichiometric levels of PROTEIN2 and a component -LRB- PROTEIN -RRB- identical in sequence to the PROTEIN gamma reported here .  \n",
       "179                                                                                                                                          PROTEIN interacts with PROTEIN in the presence of PROTEIN1 to generate a structure similar to 17S PROTEIN , which suggests a function for PROTEIN2 and PROTEIN in the incorporation of PROTEIN into the spliceosome .  \n",
       "2662                                                                                               The interface relies on the steric complementarity between the PROTEIN1 cleft and the hydrophobic face of the PROTEIN alpha helix and , in particular , on a triad of PROTEIN2 amino acids-Phe19 , Trp23 , and Leu26-which insert deep into the PROTEIN cleft .  \n",
       "5049                                                                                                                                          Peptide growth factors , as well as the immediate early gene products PROTEIN1 , PROTEIN2 , and PROTEIN , inhibit the activity of PROTEIN through a mechanism independent of its association with PROTEIN products .  "
      ]
     },
     "execution_count": 20,
     "metadata": {},
     "output_type": "execute_result"
    }
   ],
   "source": [
    "df.sample(n=5)"
   ]
  },
  {
   "cell_type": "markdown",
   "metadata": {},
   "source": [
    "### Explore dataset"
   ]
  },
  {
   "cell_type": "code",
   "execution_count": 21,
   "metadata": {},
   "outputs": [
    {
     "data": {
      "image/png": "[encoded data removed]",
      "text/plain": [
       "<Figure size 288x288 with 1 Axes>"
      ]
     },
     "metadata": {},
     "output_type": "display_data"
    }
   ],
   "source": [
    "import matplotlib.pyplot as plt\n",
    "\n",
    "df[\"label\"].value_counts().plot.pie(autopct='%.2f',figsize=(4, 4))\n",
    "plt.show()"
   ]
  },
  {
   "cell_type": "code",
   "execution_count": 22,
   "metadata": {},
   "outputs": [
    {
     "data": {
      "text/plain": [
       "N    4231\n",
       "P     991\n",
       "Name: label, dtype: int64"
      ]
     },
     "execution_count": 22,
     "metadata": {},
     "output_type": "execute_result"
    }
   ],
   "source": [
    "df[\"label\"].value_counts()"
   ]
  },
  {
   "cell_type": "code",
   "execution_count": 23,
   "metadata": {},
   "outputs": [],
   "source": [
    "df.to_json(\"AIMedFull_Ylhsieh.json\")"
   ]
  },
  {
   "cell_type": "markdown",
   "metadata": {},
   "source": [
    "## Split into train/test/validation"
   ]
  },
  {
   "cell_type": "code",
   "execution_count": 26,
   "metadata": {},
   "outputs": [],
   "source": [
    "from sklearn.model_selection import train_test_split\n",
    "from sklearn.model_selection import train_test_split\n",
    "\n",
    "\n",
    "train_p, val_p = train_test_split(df,  test_size=.1,\n",
    "                                                        random_state=777, stratify=df[\"label\"])"
   ]
  },
  {
   "cell_type": "code",
   "execution_count": 28,
   "metadata": {},
   "outputs": [
    {
     "data": {
      "image/png": "[encoded data removed]",
      "text/plain": [
       "<Figure size 1080x1440 with 2 Axes>"
      ]
     },
     "metadata": {},
     "output_type": "display_data"
    }
   ],
   "source": [
    "import matplotlib.pyplot as plt\n",
    "fig, ax = plt.subplots(1,2, figsize=(15,20))\n",
    "\n",
    "ax[0].set_title('Train class distribution')\n",
    "train_p.label.value_counts().plot.pie(autopct='%.2f',  ax=ax[0])\n",
    "\n",
    "ax[1].set_title('Validation class distribution')\n",
    "val_p.label.value_counts().plot.pie(autopct='%.2f',  ax=ax[1])\n",
    "\n",
    "\n",
    "\n",
    "plt.show()"
   ]
  },
  {
   "cell_type": "code",
   "execution_count": 29,
   "metadata": {},
   "outputs": [],
   "source": [
    "train_p.to_json(\"AIMedtrain_pubmedoverlap_Ylhsieh.json\")\n",
    "val_p.to_json(\"AIMedval_pubmedoverlap_Ylhsieh.json\")"
   ]
  },
  {
   "cell_type": "code",
   "execution_count": 30,
   "metadata": {},
   "outputs": [],
   "source": [
    "train_p.sample(n=30).to_json(\"AIMedtrain_sample_Ylhsieh.json\")"
   ]
  }
 ],
 "metadata": {
  "kernelspec": {
   "display_name": "Python 3",
   "language": "python",
   "name": "python3"
  },
  "language_info": {
   "codemirror_mode": {
    "name": "ipython",
    "version": 3
   },
   "file_extension": ".py",
   "mimetype": "text/x-python",
   "name": "python",
   "nbconvert_exporter": "python",
   "pygments_lexer": "ipython3",
   "version": "3.6.4"
  }
 },
 "nbformat": 4,
 "nbformat_minor": 1
}
