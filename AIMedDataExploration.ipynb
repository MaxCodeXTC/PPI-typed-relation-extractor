{
 "cells": [
  {
   "cell_type": "markdown",
   "metadata": {},
   "source": [
    "# Explore AIMed Dataset\n"
   ]
  },
  {
   "cell_type": "code",
   "execution_count": 1,
   "metadata": {},
   "outputs": [],
   "source": [
    "aimed_bioc = \"http://corpora.informatik.hu-berlin.de/corpora/brat2bioc/aimed_bioc.xml.zip\"\n",
    "xml_file_name = \"aimed_bioc.xml\""
   ]
  },
  {
   "cell_type": "code",
   "execution_count": null,
   "metadata": {},
   "outputs": [],
   "source": [
    "!wget $aimed_bioc\n",
    "!unzip aimed_bioc.xml.zip"
   ]
  },
  {
   "cell_type": "code",
   "execution_count": 2,
   "metadata": {},
   "outputs": [],
   "source": [
    "import sys\n",
    "sys.path.append('./source')"
   ]
  },
  {
   "cell_type": "markdown",
   "metadata": {},
   "source": [
    "#### Covert to pandas json"
   ]
  },
  {
   "cell_type": "code",
   "execution_count": 3,
   "metadata": {},
   "outputs": [],
   "source": [
    "from datatransformer.BiocToDataFrame import BiocToDataFrame\n",
    "df = BiocToDataFrame().parse(xml_file_name)\n"
   ]
  },
  {
   "cell_type": "code",
   "execution_count": 4,
   "metadata": {},
   "outputs": [
    {
     "data": {
      "text/html": [
       "<div>\n",
       "<style scoped>\n",
       "    .dataframe tbody tr th:only-of-type {\n",
       "        vertical-align: middle;\n",
       "    }\n",
       "\n",
       "    .dataframe tbody tr th {\n",
       "        vertical-align: top;\n",
       "    }\n",
       "\n",
       "    .dataframe thead th {\n",
       "        text-align: right;\n",
       "    }\n",
       "</style>\n",
       "<table border=\"1\" class=\"dataframe\">\n",
       "  <thead>\n",
       "    <tr style=\"text-align: right;\">\n",
       "      <th></th>\n",
       "      <th>docid</th>\n",
       "      <th>isValid</th>\n",
       "      <th>participant1</th>\n",
       "      <th>participant2</th>\n",
       "      <th>passage</th>\n",
       "    </tr>\n",
       "  </thead>\n",
       "  <tbody>\n",
       "    <tr>\n",
       "      <th>0</th>\n",
       "      <td>AIMed_d30</td>\n",
       "      <td>False</td>\n",
       "      <td>PS1</td>\n",
       "      <td>presenilin (PS) 1</td>\n",
       "      <td>Isolation of human delta-catenin and its bindi...</td>\n",
       "    </tr>\n",
       "    <tr>\n",
       "      <th>1</th>\n",
       "      <td>AIMed_d30</td>\n",
       "      <td>False</td>\n",
       "      <td>armadillo-protein</td>\n",
       "      <td>presenilin (PS) 1</td>\n",
       "      <td>Isolation of human delta-catenin and its bindi...</td>\n",
       "    </tr>\n",
       "    <tr>\n",
       "      <th>2</th>\n",
       "      <td>AIMed_d30</td>\n",
       "      <td>False</td>\n",
       "      <td>p0071</td>\n",
       "      <td>presenilin (PS) 1</td>\n",
       "      <td>Isolation of human delta-catenin and its bindi...</td>\n",
       "    </tr>\n",
       "    <tr>\n",
       "      <th>3</th>\n",
       "      <td>AIMed_d30</td>\n",
       "      <td>False</td>\n",
       "      <td>PS2</td>\n",
       "      <td>presenilin (PS) 1</td>\n",
       "      <td>Isolation of human delta-catenin and its bindi...</td>\n",
       "    </tr>\n",
       "    <tr>\n",
       "      <th>4</th>\n",
       "      <td>AIMed_d30</td>\n",
       "      <td>False</td>\n",
       "      <td>PS-2</td>\n",
       "      <td>presenilin (PS) 1</td>\n",
       "      <td>Isolation of human delta-catenin and its bindi...</td>\n",
       "    </tr>\n",
       "    <tr>\n",
       "      <th>5</th>\n",
       "      <td>AIMed_d30</td>\n",
       "      <td>False</td>\n",
       "      <td>presenilin (PS) 1</td>\n",
       "      <td>presenilin 1</td>\n",
       "      <td>Isolation of human delta-catenin and its bindi...</td>\n",
       "    </tr>\n",
       "    <tr>\n",
       "      <th>6</th>\n",
       "      <td>AIMed_d30</td>\n",
       "      <td>True</td>\n",
       "      <td>delta-catenin</td>\n",
       "      <td>presenilin (PS) 1</td>\n",
       "      <td>Isolation of human delta-catenin and its bindi...</td>\n",
       "    </tr>\n",
       "    <tr>\n",
       "      <th>7</th>\n",
       "      <td>AIMed_d30</td>\n",
       "      <td>False</td>\n",
       "      <td>PS1</td>\n",
       "      <td>armadillo-protein</td>\n",
       "      <td>Isolation of human delta-catenin and its bindi...</td>\n",
       "    </tr>\n",
       "    <tr>\n",
       "      <th>8</th>\n",
       "      <td>AIMed_d30</td>\n",
       "      <td>True</td>\n",
       "      <td>PS1</td>\n",
       "      <td>p0071</td>\n",
       "      <td>Isolation of human delta-catenin and its bindi...</td>\n",
       "    </tr>\n",
       "    <tr>\n",
       "      <th>9</th>\n",
       "      <td>AIMed_d30</td>\n",
       "      <td>False</td>\n",
       "      <td>PS1</td>\n",
       "      <td>PS2</td>\n",
       "      <td>Isolation of human delta-catenin and its bindi...</td>\n",
       "    </tr>\n",
       "  </tbody>\n",
       "</table>\n",
       "</div>"
      ],
      "text/plain": [
       "       docid  isValid       participant1       participant2  \\\n",
       "0  AIMed_d30    False                PS1  presenilin (PS) 1   \n",
       "1  AIMed_d30    False  armadillo-protein  presenilin (PS) 1   \n",
       "2  AIMed_d30    False              p0071  presenilin (PS) 1   \n",
       "3  AIMed_d30    False                PS2  presenilin (PS) 1   \n",
       "4  AIMed_d30    False               PS-2  presenilin (PS) 1   \n",
       "5  AIMed_d30    False  presenilin (PS) 1       presenilin 1   \n",
       "6  AIMed_d30     True      delta-catenin  presenilin (PS) 1   \n",
       "7  AIMed_d30    False                PS1  armadillo-protein   \n",
       "8  AIMed_d30     True                PS1              p0071   \n",
       "9  AIMed_d30    False                PS1                PS2   \n",
       "\n",
       "                                             passage  \n",
       "0  Isolation of human delta-catenin and its bindi...  \n",
       "1  Isolation of human delta-catenin and its bindi...  \n",
       "2  Isolation of human delta-catenin and its bindi...  \n",
       "3  Isolation of human delta-catenin and its bindi...  \n",
       "4  Isolation of human delta-catenin and its bindi...  \n",
       "5  Isolation of human delta-catenin and its bindi...  \n",
       "6  Isolation of human delta-catenin and its bindi...  \n",
       "7  Isolation of human delta-catenin and its bindi...  \n",
       "8  Isolation of human delta-catenin and its bindi...  \n",
       "9  Isolation of human delta-catenin and its bindi...  "
      ]
     },
     "execution_count": 4,
     "metadata": {},
     "output_type": "execute_result"
    }
   ],
   "source": [
    "df.head(n=10)"
   ]
  },
  {
   "cell_type": "code",
   "execution_count": 21,
   "metadata": {},
   "outputs": [
    {
     "data": {
      "text/plain": [
       "'Isolation of human delta-catenin and its binding specificity with presenilin 1.\\nWe screened proteins for interaction with presenilin (PS) 1, and cloned the full-length cDNA of human delta-catenin, which encoded 1225 amino acids.\\nYeast two-hybrid assay, GST binding assay and immunoprecipitation demonstrated that delta-catenin interacted with a hydrophilic loop region in the endoproteolytic C-terminal fragment of PS1, but not with that of PS-2.\\nThese results suggest that PS1 and PS2 partly differ in function.\\nPS1 loop fragment containing the pathogenic mutation retained the binding ability.\\nWe also found another armadillo-protein, p0071, interacted with PS1.'"
      ]
     },
     "execution_count": 21,
     "metadata": {},
     "output_type": "execute_result"
    }
   ],
   "source": [
    "df.loc[6,\"passage\"]"
   ]
  },
  {
   "cell_type": "code",
   "execution_count": 5,
   "metadata": {},
   "outputs": [
    {
     "data": {
      "text/plain": [
       "(5522, 5)"
      ]
     },
     "execution_count": 5,
     "metadata": {},
     "output_type": "execute_result"
    }
   ],
   "source": [
    "df.shape"
   ]
  },
  {
   "cell_type": "code",
   "execution_count": 50,
   "metadata": {},
   "outputs": [
    {
     "name": "stdout",
     "output_type": "stream",
     "text": [
      "Unique setences :   1938\n"
     ]
    }
   ],
   "source": [
    "unique_passages = df[\"passage\"].unique()\n",
    "unique_sentence_count=[ len(r.split(\"\\n\")) for r in unique_passages]\n",
    "print(\"Unique setences :  \" , sum(unique_sentence_count))"
   ]
  },
  {
   "cell_type": "markdown",
   "metadata": {},
   "source": [
    "### Explore dataset"
   ]
  },
  {
   "cell_type": "code",
   "execution_count": 6,
   "metadata": {},
   "outputs": [
    {
     "data": {
      "text/plain": [
       "<Figure size 400x400 with 1 Axes>"
      ]
     },
     "metadata": {},
     "output_type": "display_data"
    }
   ],
   "source": [
    "import matplotlib.pyplot as plt\n",
    "\n",
    "df[\"isValid\"].value_counts().plot.pie(autopct='%.2f',figsize=(4, 4))\n",
    "plt.show()"
   ]
  },
  {
   "cell_type": "code",
   "execution_count": 7,
   "metadata": {},
   "outputs": [
    {
     "data": {
      "text/plain": [
       "222"
      ]
     },
     "execution_count": 7,
     "metadata": {},
     "output_type": "execute_result"
    }
   ],
   "source": [
    "df[\"docid\"].nunique()"
   ]
  },
  {
   "cell_type": "markdown",
   "metadata": {},
   "source": [
    "## Split into train/test/validation"
   ]
  },
  {
   "cell_type": "code",
   "execution_count": 8,
   "metadata": {},
   "outputs": [],
   "source": [
    "from sklearn.model_selection import train_test_split\n",
    "from sklearn.model_selection import train_test_split\n",
    "\n",
    "unique_docids = df.docid.unique()\n",
    "stratified =  [ df.query(\"docid == '{}'\".format(p))['isValid'].iloc[0] for p in unique_docids]\n",
    "traindocid, valdocid = train_test_split(unique_docids,  test_size=.1,\n",
    "                                                        random_state=777, stratify=stratified)"
   ]
  },
  {
   "cell_type": "code",
   "execution_count": 10,
   "metadata": {},
   "outputs": [],
   "source": [
    "\n",
    "stratified =  [df.query(\"docid == '{}'\".format(p))['isValid'].iloc[0] for p in traindocid]\n",
    "traindocid, testdocid = train_test_split(traindocid,  test_size=.2,\n",
    "                                                        random_state=777, stratify=stratified)"
   ]
  },
  {
   "cell_type": "code",
   "execution_count": 11,
   "metadata": {},
   "outputs": [],
   "source": [
    "train = df[df['docid'].isin(traindocid)]\n",
    "test = df[df['docid'].isin(traindocid)]\n",
    "val = df[df['docid'].isin(traindocid)]\n",
    "\n",
    "\n"
   ]
  },
  {
   "cell_type": "code",
   "execution_count": 12,
   "metadata": {},
   "outputs": [
    {
     "data": {
      "image/png": "[encoded data removed]",
      "text/plain": [
       "<Figure size 1080x1440 with 3 Axes>"
      ]
     },
     "metadata": {},
     "output_type": "display_data"
    }
   ],
   "source": [
    "import matplotlib.pyplot as plt\n",
    "fig, ax = plt.subplots(1,3, figsize=(15,20))\n",
    "\n",
    "ax[0].set_title('Train class distribution')\n",
    "train.isValid.value_counts().plot.pie(autopct='%.2f',  ax=ax[0])\n",
    "\n",
    "ax[1].set_title('Validation class distribution')\n",
    "val.isValid.value_counts().plot.pie(autopct='%.2f',  ax=ax[1])\n",
    "\n",
    "\n",
    "ax[2].set_title('Test class distribution')\n",
    "test.isValid.value_counts().plot.pie(autopct='%.2f',  ax=ax[2])\n",
    "\n",
    "\n",
    "plt.show()"
   ]
  },
  {
   "cell_type": "code",
   "execution_count": 13,
   "metadata": {},
   "outputs": [],
   "source": [
    "train.to_json(\"AIMedtrain.json\")\n",
    "test.to_json(\"AIMedtest.json\")\n",
    "val.to_json(\"AIMedval.json\")"
   ]
  },
  {
   "cell_type": "code",
   "execution_count": 20,
   "metadata": {},
   "outputs": [],
   "source": [
    "train.sample(n=20).to_json(\"Aimedsample.json\")"
   ]
  }
 ],
 "metadata": {
  "kernelspec": {
   "display_name": "Python 3",
   "language": "python",
   "name": "python3"
  },
  "language_info": {
   "codemirror_mode": {
    "name": "ipython",
    "version": 3
   },
   "file_extension": ".py",
   "mimetype": "text/x-python",
   "name": "python",
   "nbconvert_exporter": "python",
   "pygments_lexer": "ipython3",
   "version": "3.6.4"
  }
 },
 "nbformat": 4,
 "nbformat_minor": 1
}
