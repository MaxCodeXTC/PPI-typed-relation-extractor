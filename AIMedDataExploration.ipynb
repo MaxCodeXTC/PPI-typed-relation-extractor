{
 "cells": [
  {
   "cell_type": "markdown",
   "metadata": {},
   "source": [
    "# Explore AIMed Dataset\n"
   ]
  },
  {
   "cell_type": "markdown",
   "metadata": {},
   "source": [
    "### AIMed dataset preprocessing\n",
    "\n",
    " - Download from ftp://ftp.cs.utexas.edu/pub/mooney/bio-data/interactions.tar.gz\"\n",
    "\n",
    " - Convert the raw dataset into XML for using instructions in http://mars.cs.utu.fi/PPICorpora/ \n",
    " \n",
    " ```python\n",
    " convert_aimed.py -i  aimed_interactions_input_dir -o aimed.xml\n",
    " ```\n",
    "\n",
    "Acknowledgements:\n",
    " Pyysalo S, Airola A, Heimonen J, Björne J, Ginter F, Salakoski T, Comparative Analysis of Five Protein-protein Interaction Corpora, LBM'07. 2007.\n"
   ]
  },
  {
   "cell_type": "code",
   "execution_count": 1,
   "metadata": {},
   "outputs": [],
   "source": [
    "xmlfile = \"aimed.xml\""
   ]
  },
  {
   "cell_type": "code",
   "execution_count": 2,
   "metadata": {},
   "outputs": [],
   "source": [
    "s3_bucket =\"s3://aegovan-data/aimed/\""
   ]
  },
  {
   "cell_type": "code",
   "execution_count": 3,
   "metadata": {},
   "outputs": [],
   "source": [
    "import sys\n",
    "sys.path.append('./source')"
   ]
  },
  {
   "cell_type": "code",
   "execution_count": 4,
   "metadata": {},
   "outputs": [],
   "source": [
    "import pandas as pd\n",
    "pd.set_option('display.max_columns', None)\n",
    "pd.set_option('display.max_colwidth', 10000)\n",
    "pd.set_option('display.max_rows', 100)\n",
    "\n",
    "import matplotlib.pyplot as plt\n",
    "plt.rcParams.update({'font.size': 12})"
   ]
  },
  {
   "cell_type": "markdown",
   "metadata": {},
   "source": [
    "#### Covert to pandas"
   ]
  },
  {
   "cell_type": "code",
   "execution_count": 5,
   "metadata": {},
   "outputs": [],
   "source": [
    "from datatransformer.AimedXmlToDataFramePreprocessed import AimedXmlToDataFramePreprocessed\n",
    "df_processed = AimedXmlToDataFramePreprocessed()(xmlfile)\n"
   ]
  },
  {
   "cell_type": "code",
   "execution_count": 6,
   "metadata": {},
   "outputs": [
    {
     "data": {
      "text/html": [
       "<div>\n",
       "<style scoped>\n",
       "    .dataframe tbody tr th:only-of-type {\n",
       "        vertical-align: middle;\n",
       "    }\n",
       "\n",
       "    .dataframe tbody tr th {\n",
       "        vertical-align: top;\n",
       "    }\n",
       "\n",
       "    .dataframe thead th {\n",
       "        text-align: right;\n",
       "    }\n",
       "</style>\n",
       "<table border=\"1\" class=\"dataframe\">\n",
       "  <thead>\n",
       "    <tr style=\"text-align: right;\">\n",
       "      <th></th>\n",
       "      <th>docid</th>\n",
       "      <th>isValid</th>\n",
       "      <th>passage</th>\n",
       "      <th>passageid</th>\n",
       "    </tr>\n",
       "  </thead>\n",
       "  <tbody>\n",
       "    <tr>\n",
       "      <th>696</th>\n",
       "      <td>AIMed.d35</td>\n",
       "      <td>False</td>\n",
       "      <td>Most familial early-onset Alzheimer's disease cases are caused by mutations in the PROTEIN1 ( PROTEIN2 ) gene.</td>\n",
       "      <td>AIMed.d35.s292</td>\n",
       "    </tr>\n",
       "    <tr>\n",
       "      <th>697</th>\n",
       "      <td>AIMed.d35</td>\n",
       "      <td>False</td>\n",
       "      <td>Although numerous studies revealed predominant localization of PROTEIN1 to endoplasmic reticulum and Golgi, there are conflicting reports on the localization of PROTEIN2 to the cell surface.</td>\n",
       "      <td>AIMed.d35.s294</td>\n",
       "    </tr>\n",
       "    <tr>\n",
       "      <th>698</th>\n",
       "      <td>AIMed.d35</td>\n",
       "      <td>False</td>\n",
       "      <td>Cell surface PROTEIN formed complexes in vivo with actin-binding protein PROTEIN1 ( PROTEIN2 ), which is known to form bridges between cell surface receptors and cytoskeleton and mediate cell adhesion and cell motility.</td>\n",
       "      <td>AIMed.d35.s299</td>\n",
       "    </tr>\n",
       "    <tr>\n",
       "      <th>699</th>\n",
       "      <td>AIMed.d35</td>\n",
       "      <td>True</td>\n",
       "      <td>Cell surface PROTEIN1 formed complexes in vivo with actin-binding protein PROTEIN2 ( PROTEIN ), which is known to form bridges between cell surface receptors and cytoskeleton and mediate cell adhesion and cell motility.</td>\n",
       "      <td>AIMed.d35.s299</td>\n",
       "    </tr>\n",
       "    <tr>\n",
       "      <th>700</th>\n",
       "      <td>AIMed.d35</td>\n",
       "      <td>True</td>\n",
       "      <td>Cell surface PROTEIN1 formed complexes in vivo with actin-binding protein PROTEIN ( PROTEIN2 ), which is known to form bridges between cell surface receptors and cytoskeleton and mediate cell adhesion and cell motility.</td>\n",
       "      <td>AIMed.d35.s299</td>\n",
       "    </tr>\n",
       "  </tbody>\n",
       "</table>\n",
       "</div>"
      ],
      "text/plain": [
       "         docid  isValid  \\\n",
       "696  AIMed.d35    False   \n",
       "697  AIMed.d35    False   \n",
       "698  AIMed.d35    False   \n",
       "699  AIMed.d35     True   \n",
       "700  AIMed.d35     True   \n",
       "\n",
       "                                                                                                                                                                                                                         passage  \\\n",
       "696                                                                                                               Most familial early-onset Alzheimer's disease cases are caused by mutations in the PROTEIN1 ( PROTEIN2 ) gene.   \n",
       "697                               Although numerous studies revealed predominant localization of PROTEIN1 to endoplasmic reticulum and Golgi, there are conflicting reports on the localization of PROTEIN2 to the cell surface.   \n",
       "698  Cell surface PROTEIN formed complexes in vivo with actin-binding protein PROTEIN1 ( PROTEIN2 ), which is known to form bridges between cell surface receptors and cytoskeleton and mediate cell adhesion and cell motility.   \n",
       "699  Cell surface PROTEIN1 formed complexes in vivo with actin-binding protein PROTEIN2 ( PROTEIN ), which is known to form bridges between cell surface receptors and cytoskeleton and mediate cell adhesion and cell motility.   \n",
       "700  Cell surface PROTEIN1 formed complexes in vivo with actin-binding protein PROTEIN ( PROTEIN2 ), which is known to form bridges between cell surface receptors and cytoskeleton and mediate cell adhesion and cell motility.   \n",
       "\n",
       "          passageid  \n",
       "696  AIMed.d35.s292  \n",
       "697  AIMed.d35.s294  \n",
       "698  AIMed.d35.s299  \n",
       "699  AIMed.d35.s299  \n",
       "700  AIMed.d35.s299  "
      ]
     },
     "execution_count": 6,
     "metadata": {},
     "output_type": "execute_result"
    }
   ],
   "source": [
    "df_processed.query(\"docid=='AIMed.d35'\")"
   ]
  },
  {
   "cell_type": "code",
   "execution_count": 7,
   "metadata": {},
   "outputs": [
    {
     "data": {
      "text/plain": [
       "(5834, 4)"
      ]
     },
     "execution_count": 7,
     "metadata": {},
     "output_type": "execute_result"
    }
   ],
   "source": [
    "df_processed.shape"
   ]
  },
  {
   "cell_type": "code",
   "execution_count": 8,
   "metadata": {},
   "outputs": [
    {
     "data": {
      "text/html": [
       "<div>\n",
       "<style scoped>\n",
       "    .dataframe tbody tr th:only-of-type {\n",
       "        vertical-align: middle;\n",
       "    }\n",
       "\n",
       "    .dataframe tbody tr th {\n",
       "        vertical-align: top;\n",
       "    }\n",
       "\n",
       "    .dataframe thead th {\n",
       "        text-align: right;\n",
       "    }\n",
       "</style>\n",
       "<table border=\"1\" class=\"dataframe\">\n",
       "  <thead>\n",
       "    <tr style=\"text-align: right;\">\n",
       "      <th></th>\n",
       "      <th>docid</th>\n",
       "      <th>isValid</th>\n",
       "      <th>passage</th>\n",
       "      <th>passageid</th>\n",
       "    </tr>\n",
       "  </thead>\n",
       "  <tbody>\n",
       "    <tr>\n",
       "      <th>0</th>\n",
       "      <td>AIMed.d0</td>\n",
       "      <td>False</td>\n",
       "      <td>Cytokines measurements during PROTEIN1 treatment showed a trend to decreasing levels of PROTEIN2 at 4, 12, and 24 weeks.</td>\n",
       "      <td>AIMed.d0.s5</td>\n",
       "    </tr>\n",
       "    <tr>\n",
       "      <th>1</th>\n",
       "      <td>AIMed.d0</td>\n",
       "      <td>False</td>\n",
       "      <td>Levels of PROTEIN1 were slightly increased following PROTEIN2 treatment (P = 0.09).</td>\n",
       "      <td>AIMed.d0.s6</td>\n",
       "    </tr>\n",
       "  </tbody>\n",
       "</table>\n",
       "</div>"
      ],
      "text/plain": [
       "      docid  isValid  \\\n",
       "0  AIMed.d0    False   \n",
       "1  AIMed.d0    False   \n",
       "\n",
       "                                                                                                                    passage  \\\n",
       "0  Cytokines measurements during PROTEIN1 treatment showed a trend to decreasing levels of PROTEIN2 at 4, 12, and 24 weeks.   \n",
       "1                                       Levels of PROTEIN1 were slightly increased following PROTEIN2 treatment (P = 0.09).   \n",
       "\n",
       "     passageid  \n",
       "0  AIMed.d0.s5  \n",
       "1  AIMed.d0.s6  "
      ]
     },
     "execution_count": 8,
     "metadata": {},
     "output_type": "execute_result"
    }
   ],
   "source": [
    "df_processed.head(n=2)"
   ]
  },
  {
   "cell_type": "code",
   "execution_count": 9,
   "metadata": {},
   "outputs": [
    {
     "name": "stdout",
     "output_type": "stream",
     "text": [
      "Unique sentences :   1169\n"
     ]
    }
   ],
   "source": [
    "unique_passages = df_processed[\"passageid\"].unique()\n",
    "print(\"Unique sentences :  \" , len(unique_passages))"
   ]
  },
  {
   "cell_type": "markdown",
   "metadata": {},
   "source": [
    "### Explore dataset - Preprocessed"
   ]
  },
  {
   "cell_type": "code",
   "execution_count": 10,
   "metadata": {},
   "outputs": [
    {
     "data": {
      "image/png": "[encoded data removed]",
      "text/plain": [
       "<Figure size 288x288 with 1 Axes>"
      ]
     },
     "metadata": {},
     "output_type": "display_data"
    }
   ],
   "source": [
    "import matplotlib.pyplot as plt\n",
    "\n",
    "df_processed[\"isValid\"].value_counts().plot.pie(autopct='%.2f',figsize=(4, 4))\n",
    "plt.show()"
   ]
  },
  {
   "cell_type": "code",
   "execution_count": 11,
   "metadata": {},
   "outputs": [
    {
     "data": {
      "text/plain": [
       "False    4834\n",
       "True     1000\n",
       "Name: isValid, dtype: int64"
      ]
     },
     "execution_count": 11,
     "metadata": {},
     "output_type": "execute_result"
    }
   ],
   "source": [
    "df_processed[\"isValid\"].value_counts()"
   ]
  },
  {
   "cell_type": "code",
   "execution_count": 12,
   "metadata": {},
   "outputs": [],
   "source": [
    "data_file=\"AIMedFull_preprocessed.json\"\n",
    "df_processed.to_json(data_file)"
   ]
  },
  {
   "cell_type": "code",
   "execution_count": 13,
   "metadata": {},
   "outputs": [
    {
     "name": "stdout",
     "output_type": "stream",
     "text": [
      "upload: ./AIMedFull_preprocessed.json to s3://aegovan-data/aimed/AIMedFull_preprocessed.json\n"
     ]
    }
   ],
   "source": [
    "!aws s3 cp $data_file $s3_bucket"
   ]
  },
  {
   "cell_type": "markdown",
   "metadata": {},
   "source": [
    "## Split into train/test/validation  - Preprocessed"
   ]
  },
  {
   "cell_type": "code",
   "execution_count": 14,
   "metadata": {},
   "outputs": [],
   "source": [
    "from sklearn.model_selection import train_test_split\n",
    "from sklearn.model_selection import train_test_split\n",
    "\n",
    "unique_docids = df_processed.docid.unique()\n",
    "stratified =  [ df_processed.query(\"docid == '{}'\".format(p))['isValid'].iloc[0] for p in unique_docids]\n",
    "traindocid, valdocid = train_test_split(unique_docids,  test_size=.1,\n",
    "                                                        random_state=777, stratify=stratified)"
   ]
  },
  {
   "cell_type": "code",
   "execution_count": 15,
   "metadata": {},
   "outputs": [],
   "source": [
    "train = df_processed[df_processed['docid'].isin(traindocid)]\n",
    "val = df_processed[df_processed['docid'].isin(valdocid)]\n",
    "\n",
    "\n"
   ]
  },
  {
   "cell_type": "code",
   "execution_count": 16,
   "metadata": {},
   "outputs": [
    {
     "data": {
      "image/png": "[encoded data removed]",
      "text/plain": [
       "<Figure size 1080x1440 with 2 Axes>"
      ]
     },
     "metadata": {},
     "output_type": "display_data"
    }
   ],
   "source": [
    "import matplotlib.pyplot as plt\n",
    "fig, ax = plt.subplots(1,2, figsize=(15,20))\n",
    "\n",
    "ax[0].set_title('Train class distribution')\n",
    "train.isValid.value_counts().plot.pie(autopct='%.2f',  ax=ax[0])\n",
    "\n",
    "ax[1].set_title('Validation class distribution')\n",
    "val.isValid.value_counts().plot.pie(autopct='%.2f',  ax=ax[1])\n",
    "\n",
    "\n",
    "\n",
    "plt.show()"
   ]
  },
  {
   "cell_type": "code",
   "execution_count": 17,
   "metadata": {},
   "outputs": [],
   "source": [
    "data_train_file = \"AIMedtrain_preprocessed.json\"\n",
    "data_val_file = \"AIMedval_preprocessed.json\"\n",
    "train.to_json(data_train_file)\n",
    "val.to_json(data_val_file)"
   ]
  },
  {
   "cell_type": "code",
   "execution_count": 18,
   "metadata": {},
   "outputs": [
    {
     "name": "stdout",
     "output_type": "stream",
     "text": [
      "upload: ./AIMedtrain_preprocessed.json to s3://aegovan-data/aimed/AIMedtrain_preprocessed.json\n",
      "upload: ./AIMedval_preprocessed.json to s3://aegovan-data/aimed/AIMedval_preprocessed.json\n"
     ]
    }
   ],
   "source": [
    "!aws s3 cp $data_train_file $s3_bucket\n",
    "!aws s3 cp $data_val_file $s3_bucket"
   ]
  },
  {
   "cell_type": "code",
   "execution_count": 19,
   "metadata": {},
   "outputs": [
    {
     "data": {
      "text/plain": [
       "False    382\n",
       "True      84\n",
       "Name: isValid, dtype: int64"
      ]
     },
     "execution_count": 19,
     "metadata": {},
     "output_type": "execute_result"
    }
   ],
   "source": [
    "val.isValid.value_counts()"
   ]
  },
  {
   "cell_type": "code",
   "execution_count": 20,
   "metadata": {},
   "outputs": [
    {
     "data": {
      "text/plain": [
       "<matplotlib.axes._subplots.AxesSubplot at 0x123cc9dd0>"
      ]
     },
     "execution_count": 20,
     "metadata": {},
     "output_type": "execute_result"
    },
    {
     "data": {
      "image/png": "[encoded data removed]",
      "text/plain": [
       "<Figure size 432x288 with 1 Axes>"
      ]
     },
     "metadata": {
      "needs_background": "light"
     },
     "output_type": "display_data"
    }
   ],
   "source": [
    "train.isValid.value_counts().plot.bar()"
   ]
  },
  {
   "cell_type": "code",
   "execution_count": 21,
   "metadata": {},
   "outputs": [],
   "source": [
    "word_count= train.apply(lambda r: len(r[\"passage\"].split(\" \")), axis=1)"
   ]
  },
  {
   "cell_type": "code",
   "execution_count": 22,
   "metadata": {},
   "outputs": [
    {
     "data": {
      "text/plain": [
       "<matplotlib.axes._subplots.AxesSubplot at 0x1244b1ad0>"
      ]
     },
     "execution_count": 22,
     "metadata": {},
     "output_type": "execute_result"
    },
    {
     "data": {
      "image/png": "[encoded data removed]",
      "text/plain": [
       "<Figure size 432x288 with 1 Axes>"
      ]
     },
     "metadata": {
      "needs_background": "light"
     },
     "output_type": "display_data"
    }
   ],
   "source": [
    "word_count.plot.hist()"
   ]
  },
  {
   "cell_type": "code",
   "execution_count": 23,
   "metadata": {},
   "outputs": [],
   "source": [
    "train.sample(n=20).to_json(\"Aimedsample_preprocessed.json\")"
   ]
  },
  {
   "cell_type": "markdown",
   "metadata": {},
   "source": [
    "## Split into train/validation without looking at pubmed overlap -  Preprocessed"
   ]
  },
  {
   "cell_type": "code",
   "execution_count": 24,
   "metadata": {},
   "outputs": [],
   "source": [
    "from sklearn.model_selection import train_test_split\n",
    "from sklearn.model_selection import train_test_split\n",
    "\n",
    "\n",
    "train_p, val_p = train_test_split(df_processed,  test_size=.1,\n",
    "                                                        random_state=777, stratify=df_processed[\"isValid\"])"
   ]
  },
  {
   "cell_type": "code",
   "execution_count": 25,
   "metadata": {},
   "outputs": [
    {
     "data": {
      "image/png": "[encoded data removed]",
      "text/plain": [
       "<Figure size 1080x1440 with 2 Axes>"
      ]
     },
     "metadata": {},
     "output_type": "display_data"
    }
   ],
   "source": [
    "import matplotlib.pyplot as plt\n",
    "fig, ax = plt.subplots(1,2, figsize=(15,20))\n",
    "\n",
    "ax[0].set_title('Train class distribution')\n",
    "train_p.isValid.value_counts().plot.pie(autopct='%.2f',  ax=ax[0])\n",
    "\n",
    "ax[1].set_title('Validation class distribution')\n",
    "val_p.isValid.value_counts().plot.pie(autopct='%.2f',  ax=ax[1])\n",
    "\n",
    "\n",
    "\n",
    "plt.show()"
   ]
  },
  {
   "cell_type": "code",
   "execution_count": 26,
   "metadata": {},
   "outputs": [],
   "source": [
    "\n",
    "data_train_file_p = \"AIMedtrain_pubmedoverlap_preprocessed.json\"\n",
    "data_val_file_p=\"AIMedval_pubmedoverlap_preprocessed.json\"\n",
    "train_p.to_json(data_train_file_p)\n",
    "val_p.to_json(data_val_file_p)"
   ]
  },
  {
   "cell_type": "code",
   "execution_count": 27,
   "metadata": {},
   "outputs": [
    {
     "name": "stdout",
     "output_type": "stream",
     "text": [
      "upload: ./AIMedtrain_pubmedoverlap_preprocessed.json to s3://aegovan-data/aimed/AIMedtrain_pubmedoverlap_preprocessed.json\n",
      "upload: ./AIMedval_pubmedoverlap_preprocessed.json to s3://aegovan-data/aimed/AIMedval_pubmedoverlap_preprocessed.json\n"
     ]
    }
   ],
   "source": [
    "!aws s3 cp $data_train_file_p $s3_bucket\n",
    "!aws s3 cp $data_val_file_p $s3_bucket"
   ]
  },
  {
   "cell_type": "code",
   "execution_count": 28,
   "metadata": {},
   "outputs": [
    {
     "data": {
      "text/plain": [
       "False    484\n",
       "True     100\n",
       "Name: isValid, dtype: int64"
      ]
     },
     "execution_count": 28,
     "metadata": {},
     "output_type": "execute_result"
    }
   ],
   "source": [
    "val_p.isValid.value_counts()"
   ]
  },
  {
   "cell_type": "code",
   "execution_count": 29,
   "metadata": {},
   "outputs": [
    {
     "data": {
      "text/plain": [
       "False    4350\n",
       "True      900\n",
       "Name: isValid, dtype: int64"
      ]
     },
     "execution_count": 29,
     "metadata": {},
     "output_type": "execute_result"
    }
   ],
   "source": [
    "train_p.isValid.value_counts()"
   ]
  },
  {
   "cell_type": "code",
   "execution_count": 30,
   "metadata": {},
   "outputs": [
    {
     "data": {
      "text/plain": [
       "<matplotlib.axes._subplots.AxesSubplot at 0x1246a22d0>"
      ]
     },
     "execution_count": 30,
     "metadata": {},
     "output_type": "execute_result"
    },
    {
     "data": {
      "image/png": "[encoded data removed]",
      "text/plain": [
       "<Figure size 432x288 with 1 Axes>"
      ]
     },
     "metadata": {
      "needs_background": "light"
     },
     "output_type": "display_data"
    }
   ],
   "source": [
    "train_p.isValid.value_counts().plot.bar()"
   ]
  },
  {
   "cell_type": "markdown",
   "metadata": {},
   "source": [
    "## No preprocessing"
   ]
  },
  {
   "cell_type": "code",
   "execution_count": 31,
   "metadata": {},
   "outputs": [],
   "source": [
    "from datatransformer.AimedXmlToDataFrame import AimedXmlToDataFrame\n",
    "df_not_processed = AimedXmlToDataFrame()(xmlfile)"
   ]
  },
  {
   "cell_type": "code",
   "execution_count": 32,
   "metadata": {
    "scrolled": true
   },
   "outputs": [
    {
     "data": {
      "text/plain": [
       "False    4834\n",
       "True     1000\n",
       "Name: isValid, dtype: int64"
      ]
     },
     "execution_count": 32,
     "metadata": {},
     "output_type": "execute_result"
    }
   ],
   "source": [
    "df_not_processed[\"isValid\"].value_counts()"
   ]
  },
  {
   "cell_type": "code",
   "execution_count": 33,
   "metadata": {},
   "outputs": [
    {
     "data": {
      "text/html": [
       "<div>\n",
       "<style scoped>\n",
       "    .dataframe tbody tr th:only-of-type {\n",
       "        vertical-align: middle;\n",
       "    }\n",
       "\n",
       "    .dataframe tbody tr th {\n",
       "        vertical-align: top;\n",
       "    }\n",
       "\n",
       "    .dataframe thead th {\n",
       "        text-align: right;\n",
       "    }\n",
       "</style>\n",
       "<table border=\"1\" class=\"dataframe\">\n",
       "  <thead>\n",
       "    <tr style=\"text-align: right;\">\n",
       "      <th></th>\n",
       "      <th>docid</th>\n",
       "      <th>isValid</th>\n",
       "      <th>participant1</th>\n",
       "      <th>participant1_loc</th>\n",
       "      <th>participant2</th>\n",
       "      <th>participant2_loc</th>\n",
       "      <th>passage</th>\n",
       "      <th>passageid</th>\n",
       "    </tr>\n",
       "  </thead>\n",
       "  <tbody>\n",
       "    <tr>\n",
       "      <th>696</th>\n",
       "      <td>AIMed.d35</td>\n",
       "      <td>False</td>\n",
       "      <td>presenilin 1</td>\n",
       "      <td>83-94</td>\n",
       "      <td>PS1</td>\n",
       "      <td>97-99</td>\n",
       "      <td>Most familial early-onset Alzheimer's disease cases are caused by mutations in the presenilin 1 (PS1) gene.</td>\n",
       "      <td>AIMed.d35.s292</td>\n",
       "    </tr>\n",
       "    <tr>\n",
       "      <th>697</th>\n",
       "      <td>AIMed.d35</td>\n",
       "      <td>False</td>\n",
       "      <td>PS1</td>\n",
       "      <td>156-158</td>\n",
       "      <td>PS1</td>\n",
       "      <td>63-65</td>\n",
       "      <td>Although numerous studies revealed predominant localization of PS1 to endoplasmic reticulum and Golgi, there are conflicting reports on the localization of PS1 to the cell surface.</td>\n",
       "      <td>AIMed.d35.s294</td>\n",
       "    </tr>\n",
       "    <tr>\n",
       "      <th>698</th>\n",
       "      <td>AIMed.d35</td>\n",
       "      <td>False</td>\n",
       "      <td>filamin</td>\n",
       "      <td>69-75</td>\n",
       "      <td>ABP-280</td>\n",
       "      <td>78-84</td>\n",
       "      <td>Cell surface PS1 formed complexes in vivo with actin-binding protein filamin (ABP-280), which is known to form bridges between cell surface receptors and cytoskeleton and mediate cell adhesion and cell motility.</td>\n",
       "      <td>AIMed.d35.s299</td>\n",
       "    </tr>\n",
       "    <tr>\n",
       "      <th>699</th>\n",
       "      <td>AIMed.d35</td>\n",
       "      <td>True</td>\n",
       "      <td>PS1</td>\n",
       "      <td>13-15</td>\n",
       "      <td>filamin</td>\n",
       "      <td>69-75</td>\n",
       "      <td>Cell surface PS1 formed complexes in vivo with actin-binding protein filamin (ABP-280), which is known to form bridges between cell surface receptors and cytoskeleton and mediate cell adhesion and cell motility.</td>\n",
       "      <td>AIMed.d35.s299</td>\n",
       "    </tr>\n",
       "    <tr>\n",
       "      <th>700</th>\n",
       "      <td>AIMed.d35</td>\n",
       "      <td>True</td>\n",
       "      <td>PS1</td>\n",
       "      <td>13-15</td>\n",
       "      <td>ABP-280</td>\n",
       "      <td>78-84</td>\n",
       "      <td>Cell surface PS1 formed complexes in vivo with actin-binding protein filamin (ABP-280), which is known to form bridges between cell surface receptors and cytoskeleton and mediate cell adhesion and cell motility.</td>\n",
       "      <td>AIMed.d35.s299</td>\n",
       "    </tr>\n",
       "  </tbody>\n",
       "</table>\n",
       "</div>"
      ],
      "text/plain": [
       "         docid  isValid  participant1 participant1_loc participant2  \\\n",
       "696  AIMed.d35    False  presenilin 1            83-94          PS1   \n",
       "697  AIMed.d35    False           PS1          156-158          PS1   \n",
       "698  AIMed.d35    False       filamin            69-75      ABP-280   \n",
       "699  AIMed.d35     True           PS1            13-15      filamin   \n",
       "700  AIMed.d35     True           PS1            13-15      ABP-280   \n",
       "\n",
       "    participant2_loc  \\\n",
       "696            97-99   \n",
       "697            63-65   \n",
       "698            78-84   \n",
       "699            69-75   \n",
       "700            78-84   \n",
       "\n",
       "                                                                                                                                                                                                                 passage  \\\n",
       "696                                                                                                          Most familial early-onset Alzheimer's disease cases are caused by mutations in the presenilin 1 (PS1) gene.   \n",
       "697                                 Although numerous studies revealed predominant localization of PS1 to endoplasmic reticulum and Golgi, there are conflicting reports on the localization of PS1 to the cell surface.   \n",
       "698  Cell surface PS1 formed complexes in vivo with actin-binding protein filamin (ABP-280), which is known to form bridges between cell surface receptors and cytoskeleton and mediate cell adhesion and cell motility.   \n",
       "699  Cell surface PS1 formed complexes in vivo with actin-binding protein filamin (ABP-280), which is known to form bridges between cell surface receptors and cytoskeleton and mediate cell adhesion and cell motility.   \n",
       "700  Cell surface PS1 formed complexes in vivo with actin-binding protein filamin (ABP-280), which is known to form bridges between cell surface receptors and cytoskeleton and mediate cell adhesion and cell motility.   \n",
       "\n",
       "          passageid  \n",
       "696  AIMed.d35.s292  \n",
       "697  AIMed.d35.s294  \n",
       "698  AIMed.d35.s299  \n",
       "699  AIMed.d35.s299  \n",
       "700  AIMed.d35.s299  "
      ]
     },
     "execution_count": 33,
     "metadata": {},
     "output_type": "execute_result"
    }
   ],
   "source": [
    "df_not_processed.query(\"docid=='AIMed.d35'\")"
   ]
  },
  {
   "cell_type": "markdown",
   "metadata": {},
   "source": [
    "### Explore dataset -  no preprocess"
   ]
  },
  {
   "cell_type": "code",
   "execution_count": 34,
   "metadata": {},
   "outputs": [
    {
     "data": {
      "image/png": "[encoded data removed]",
      "text/plain": [
       "<Figure size 288x288 with 1 Axes>"
      ]
     },
     "metadata": {},
     "output_type": "display_data"
    }
   ],
   "source": [
    "import matplotlib.pyplot as plt\n",
    "\n",
    "df_not_processed[\"isValid\"].value_counts().plot.pie(autopct='%.2f',figsize=(4, 4))\n",
    "plt.show()"
   ]
  },
  {
   "cell_type": "code",
   "execution_count": 35,
   "metadata": {},
   "outputs": [
    {
     "data": {
      "text/plain": [
       "False    4834\n",
       "True     1000\n",
       "Name: isValid, dtype: int64"
      ]
     },
     "execution_count": 35,
     "metadata": {},
     "output_type": "execute_result"
    }
   ],
   "source": [
    "df_not_processed[\"isValid\"].value_counts()"
   ]
  },
  {
   "cell_type": "code",
   "execution_count": 36,
   "metadata": {},
   "outputs": [],
   "source": [
    "data_file_not_processed = \"AIMedFull.json\"\n",
    "df_not_processed.to_json(data_file_not_processed)"
   ]
  },
  {
   "cell_type": "code",
   "execution_count": 37,
   "metadata": {},
   "outputs": [
    {
     "name": "stdout",
     "output_type": "stream",
     "text": [
      "upload: ./AIMedFull.json to s3://aegovan-data/aimed/AIMedFull.json\n"
     ]
    }
   ],
   "source": [
    "!aws s3 cp $data_file_not_processed $s3_bucket"
   ]
  },
  {
   "cell_type": "markdown",
   "metadata": {},
   "source": [
    "## Split into train/test/validation  - no preprocess"
   ]
  },
  {
   "cell_type": "code",
   "execution_count": 38,
   "metadata": {},
   "outputs": [],
   "source": [
    "from sklearn.model_selection import train_test_split\n",
    "from sklearn.model_selection import train_test_split\n",
    "\n",
    "unique_docids = df_not_processed.docid.unique()\n",
    "stratified =  [ df_not_processed.query(\"docid == '{}'\".format(p))['isValid'].iloc[0] for p in unique_docids]\n",
    "traindocid_np, valdocid_np = train_test_split(unique_docids,  test_size=.1,\n",
    "                                                        random_state=777, stratify=stratified)"
   ]
  },
  {
   "cell_type": "code",
   "execution_count": 39,
   "metadata": {},
   "outputs": [],
   "source": [
    "train_notprocessed = df_not_processed[df_not_processed['docid'].isin(traindocid_np)]\n",
    "val_notprocessed = df_not_processed[df_not_processed['docid'].isin(valdocid_np)]\n",
    "\n",
    "\n"
   ]
  },
  {
   "cell_type": "code",
   "execution_count": 40,
   "metadata": {},
   "outputs": [
    {
     "data": {
      "image/png": "[encoded data removed]",
      "text/plain": [
       "<Figure size 1080x1440 with 2 Axes>"
      ]
     },
     "metadata": {},
     "output_type": "display_data"
    }
   ],
   "source": [
    "import matplotlib.pyplot as plt\n",
    "fig, ax = plt.subplots(1,2, figsize=(15,20))\n",
    "\n",
    "ax[0].set_title('Train class distribution')\n",
    "train_notprocessed.isValid.value_counts().plot.pie(autopct='%.2f',  ax=ax[0])\n",
    "\n",
    "ax[1].set_title('Validation class distribution')\n",
    "val_notprocessed.isValid.value_counts().plot.pie(autopct='%.2f',  ax=ax[1])\n",
    "\n",
    "\n",
    "\n",
    "plt.show()"
   ]
  },
  {
   "cell_type": "code",
   "execution_count": 41,
   "metadata": {},
   "outputs": [],
   "source": [
    "train_file_not_processed = \"AIMedtrain.json\"\n",
    "val_file_not_processed=\"AIMedval.json\"\n",
    "train_notprocessed.to_json(train_file_not_processed)\n",
    "val_notprocessed.to_json(val_file_not_processed)"
   ]
  },
  {
   "cell_type": "code",
   "execution_count": 42,
   "metadata": {},
   "outputs": [
    {
     "name": "stdout",
     "output_type": "stream",
     "text": [
      "upload: ./AIMedtrain.json to s3://aegovan-data/aimed/AIMedtrain.json\n",
      "upload: ./AIMedval.json to s3://aegovan-data/aimed/AIMedval.json   \n"
     ]
    }
   ],
   "source": [
    "!aws s3 cp $train_file_not_processed $s3_bucket\n",
    "!aws s3 cp $val_file_not_processed $s3_bucket"
   ]
  },
  {
   "cell_type": "code",
   "execution_count": 43,
   "metadata": {},
   "outputs": [
    {
     "data": {
      "text/plain": [
       "False    382\n",
       "True      84\n",
       "Name: isValid, dtype: int64"
      ]
     },
     "execution_count": 43,
     "metadata": {},
     "output_type": "execute_result"
    }
   ],
   "source": [
    "val_notprocessed.isValid.value_counts()"
   ]
  },
  {
   "cell_type": "code",
   "execution_count": 44,
   "metadata": {},
   "outputs": [
    {
     "data": {
      "text/plain": [
       "False    4452\n",
       "True      916\n",
       "Name: isValid, dtype: int64"
      ]
     },
     "execution_count": 44,
     "metadata": {},
     "output_type": "execute_result"
    }
   ],
   "source": [
    "train_notprocessed.isValid.value_counts()"
   ]
  },
  {
   "cell_type": "code",
   "execution_count": 45,
   "metadata": {},
   "outputs": [
    {
     "data": {
      "text/plain": [
       "<matplotlib.axes._subplots.AxesSubplot at 0x124a8cf50>"
      ]
     },
     "execution_count": 45,
     "metadata": {},
     "output_type": "execute_result"
    },
    {
     "data": {
      "image/png": "[encoded data removed]",
      "text/plain": [
       "<Figure size 432x288 with 1 Axes>"
      ]
     },
     "metadata": {
      "needs_background": "light"
     },
     "output_type": "display_data"
    }
   ],
   "source": [
    "train_notprocessed.isValid.value_counts().plot.bar()"
   ]
  },
  {
   "cell_type": "code",
   "execution_count": 46,
   "metadata": {},
   "outputs": [],
   "source": [
    "word_count= train_notprocessed.apply(lambda r: len(r[\"passage\"].split(\" \")), axis=1)"
   ]
  },
  {
   "cell_type": "code",
   "execution_count": 47,
   "metadata": {},
   "outputs": [
    {
     "data": {
      "text/plain": [
       "<matplotlib.axes._subplots.AxesSubplot at 0x1249af790>"
      ]
     },
     "execution_count": 47,
     "metadata": {},
     "output_type": "execute_result"
    },
    {
     "data": {
      "image/png": "[encoded data removed]",
      "text/plain": [
       "<Figure size 432x288 with 1 Axes>"
      ]
     },
     "metadata": {
      "needs_background": "light"
     },
     "output_type": "display_data"
    }
   ],
   "source": [
    "word_count.plot.hist()"
   ]
  },
  {
   "cell_type": "code",
   "execution_count": 48,
   "metadata": {},
   "outputs": [],
   "source": [
    "train_notprocessed.sample(n=20).to_json(\"Aimedsample.json\")"
   ]
  },
  {
   "cell_type": "code",
   "execution_count": 49,
   "metadata": {},
   "outputs": [],
   "source": [
    "assert train_notprocessed.shape[0] == train.shape[0]"
   ]
  },
  {
   "cell_type": "markdown",
   "metadata": {},
   "source": [
    "## Split into train/validation without looking at pubmed overlap  - no preprocess"
   ]
  },
  {
   "cell_type": "code",
   "execution_count": 50,
   "metadata": {},
   "outputs": [],
   "source": [
    "from sklearn.model_selection import train_test_split\n",
    "from sklearn.model_selection import train_test_split\n",
    "\n",
    "\n",
    "train_np_p, val_np_p = train_test_split(df_not_processed,  test_size=.1,\n",
    "                                                        random_state=777, stratify=df_not_processed[\"isValid\"])"
   ]
  },
  {
   "cell_type": "code",
   "execution_count": 51,
   "metadata": {},
   "outputs": [
    {
     "data": {
      "image/png": "[encoded data removed]",
      "text/plain": [
       "<Figure size 1080x1440 with 2 Axes>"
      ]
     },
     "metadata": {},
     "output_type": "display_data"
    }
   ],
   "source": [
    "import matplotlib.pyplot as plt\n",
    "fig, ax = plt.subplots(1,2, figsize=(15,20))\n",
    "\n",
    "ax[0].set_title('Train class distribution')\n",
    "train_np_p.isValid.value_counts().plot.pie(autopct='%.2f',  ax=ax[0])\n",
    "\n",
    "ax[1].set_title('Validation class distribution')\n",
    "val_np_p.isValid.value_counts().plot.pie(autopct='%.2f',  ax=ax[1])\n",
    "\n",
    "\n",
    "\n",
    "plt.show()"
   ]
  },
  {
   "cell_type": "code",
   "execution_count": 52,
   "metadata": {},
   "outputs": [],
   "source": [
    "train_np_p.to_json(\"AIMedtrain_pubmedoverlap.json\")\n",
    "val_np_p.to_json(\"AIMedval_pubmedoverlap.json\")"
   ]
  },
  {
   "cell_type": "code",
   "execution_count": 53,
   "metadata": {},
   "outputs": [
    {
     "data": {
      "text/plain": [
       "<matplotlib.axes._subplots.AxesSubplot at 0x124b52850>"
      ]
     },
     "execution_count": 53,
     "metadata": {},
     "output_type": "execute_result"
    },
    {
     "data": {
      "image/png": "[encoded data removed]",
      "text/plain": [
       "<Figure size 432x288 with 1 Axes>"
      ]
     },
     "metadata": {
      "needs_background": "light"
     },
     "output_type": "display_data"
    }
   ],
   "source": [
    "train_np_p.isValid.value_counts().plot.bar()"
   ]
  }
 ],
 "metadata": {
  "kernelspec": {
   "display_name": "Python 3",
   "language": "python",
   "name": "python3"
  },
  "language_info": {
   "codemirror_mode": {
    "name": "ipython",
    "version": 3
   },
   "file_extension": ".py",
   "mimetype": "text/x-python",
   "name": "python",
   "nbconvert_exporter": "python",
   "pygments_lexer": "ipython3",
   "version": "3.7.4"
  }
 },
 "nbformat": 4,
 "nbformat_minor": 1
}
