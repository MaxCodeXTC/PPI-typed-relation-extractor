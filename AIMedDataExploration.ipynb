{
 "cells": [
  {
   "cell_type": "markdown",
   "metadata": {},
   "source": [
    "# Explore AIMed Dataset\n"
   ]
  },
  {
   "cell_type": "markdown",
   "metadata": {},
   "source": [
    "### AIMed dataset preprocessing\n",
    "\n",
    " - Download from ftp://ftp.cs.utexas.edu/pub/mooney/bio-data/interactions.tar.gz\"\n",
    "\n",
    " - Convert the raw dataset into XML for using instructions in http://mars.cs.utu.fi/PPICorpora/ \n",
    " \n",
    " ```python\n",
    " convert_aimed.py -i  aimed_interactions_input_dir -o aimed.xml\n",
    " ```\n",
    "\n",
    "Acknowledgements:\n",
    " Pyysalo S, Airola A, Heimonen J, Björne J, Ginter F, Salakoski T, Comparative Analysis of Five Protein-protein Interaction Corpora, LBM'07. 2007.\n"
   ]
  },
  {
   "cell_type": "code",
   "execution_count": 1,
   "metadata": {},
   "outputs": [],
   "source": [
    "xmlfile = \"aimed.xml\""
   ]
  },
  {
   "cell_type": "code",
   "execution_count": 2,
   "metadata": {},
   "outputs": [],
   "source": [
    "import sys\n",
    "sys.path.append('./source')"
   ]
  },
  {
   "cell_type": "markdown",
   "metadata": {},
   "source": [
    "#### Covert to pandas"
   ]
  },
  {
   "cell_type": "code",
   "execution_count": 3,
   "metadata": {},
   "outputs": [],
   "source": [
    "from datatransformer.AimedXmlToDataFrame import AimedXmlToDataFrame\n",
    "df = AimedXmlToDataFrame()(xmlfile)\n"
   ]
  },
  {
   "cell_type": "code",
   "execution_count": 4,
   "metadata": {},
   "outputs": [
    {
     "data": {
      "text/html": [
       "<div>\n",
       "<style scoped>\n",
       "    .dataframe tbody tr th:only-of-type {\n",
       "        vertical-align: middle;\n",
       "    }\n",
       "\n",
       "    .dataframe tbody tr th {\n",
       "        vertical-align: top;\n",
       "    }\n",
       "\n",
       "    .dataframe thead th {\n",
       "        text-align: right;\n",
       "    }\n",
       "</style>\n",
       "<table border=\"1\" class=\"dataframe\">\n",
       "  <thead>\n",
       "    <tr style=\"text-align: right;\">\n",
       "      <th></th>\n",
       "      <th>docid</th>\n",
       "      <th>isValid</th>\n",
       "      <th>participant1</th>\n",
       "      <th>participant1_loc</th>\n",
       "      <th>participant2</th>\n",
       "      <th>participant2_loc</th>\n",
       "      <th>passage</th>\n",
       "      <th>passageid</th>\n",
       "    </tr>\n",
       "  </thead>\n",
       "  <tbody>\n",
       "    <tr>\n",
       "      <th>696</th>\n",
       "      <td>AIMed.d35</td>\n",
       "      <td>False</td>\n",
       "      <td>presenilin 1</td>\n",
       "      <td>83-94</td>\n",
       "      <td>PS1</td>\n",
       "      <td>97-99</td>\n",
       "      <td>Most familial early-onset Alzheimer's disease ...</td>\n",
       "      <td>AIMed.d35.s292</td>\n",
       "    </tr>\n",
       "    <tr>\n",
       "      <th>697</th>\n",
       "      <td>AIMed.d35</td>\n",
       "      <td>False</td>\n",
       "      <td>PS1</td>\n",
       "      <td>156-158</td>\n",
       "      <td>PS1</td>\n",
       "      <td>63-65</td>\n",
       "      <td>Although numerous studies revealed predominant...</td>\n",
       "      <td>AIMed.d35.s294</td>\n",
       "    </tr>\n",
       "    <tr>\n",
       "      <th>698</th>\n",
       "      <td>AIMed.d35</td>\n",
       "      <td>True</td>\n",
       "      <td>PS1</td>\n",
       "      <td>13-15</td>\n",
       "      <td>ABP-280</td>\n",
       "      <td>78-84</td>\n",
       "      <td>Cell surface PS1 formed complexes in vivo with...</td>\n",
       "      <td>AIMed.d35.s299</td>\n",
       "    </tr>\n",
       "    <tr>\n",
       "      <th>699</th>\n",
       "      <td>AIMed.d35</td>\n",
       "      <td>False</td>\n",
       "      <td>filamin</td>\n",
       "      <td>69-75</td>\n",
       "      <td>ABP-280</td>\n",
       "      <td>78-84</td>\n",
       "      <td>Cell surface PS1 formed complexes in vivo with...</td>\n",
       "      <td>AIMed.d35.s299</td>\n",
       "    </tr>\n",
       "    <tr>\n",
       "      <th>700</th>\n",
       "      <td>AIMed.d35</td>\n",
       "      <td>True</td>\n",
       "      <td>PS1</td>\n",
       "      <td>13-15</td>\n",
       "      <td>filamin</td>\n",
       "      <td>69-75</td>\n",
       "      <td>Cell surface PS1 formed complexes in vivo with...</td>\n",
       "      <td>AIMed.d35.s299</td>\n",
       "    </tr>\n",
       "  </tbody>\n",
       "</table>\n",
       "</div>"
      ],
      "text/plain": [
       "         docid  isValid  participant1 participant1_loc participant2  \\\n",
       "696  AIMed.d35    False  presenilin 1            83-94          PS1   \n",
       "697  AIMed.d35    False           PS1          156-158          PS1   \n",
       "698  AIMed.d35     True           PS1            13-15      ABP-280   \n",
       "699  AIMed.d35    False       filamin            69-75      ABP-280   \n",
       "700  AIMed.d35     True           PS1            13-15      filamin   \n",
       "\n",
       "    participant2_loc                                            passage  \\\n",
       "696            97-99  Most familial early-onset Alzheimer's disease ...   \n",
       "697            63-65  Although numerous studies revealed predominant...   \n",
       "698            78-84  Cell surface PS1 formed complexes in vivo with...   \n",
       "699            78-84  Cell surface PS1 formed complexes in vivo with...   \n",
       "700            69-75  Cell surface PS1 formed complexes in vivo with...   \n",
       "\n",
       "          passageid  \n",
       "696  AIMed.d35.s292  \n",
       "697  AIMed.d35.s294  \n",
       "698  AIMed.d35.s299  \n",
       "699  AIMed.d35.s299  \n",
       "700  AIMed.d35.s299  "
      ]
     },
     "execution_count": 4,
     "metadata": {},
     "output_type": "execute_result"
    }
   ],
   "source": [
    "df.query(\"docid=='AIMed.d35'\")"
   ]
  },
  {
   "cell_type": "code",
   "execution_count": 5,
   "metadata": {},
   "outputs": [
    {
     "data": {
      "text/plain": [
       "(5834, 8)"
      ]
     },
     "execution_count": 5,
     "metadata": {},
     "output_type": "execute_result"
    }
   ],
   "source": [
    "df.shape"
   ]
  },
  {
   "cell_type": "code",
   "execution_count": 6,
   "metadata": {},
   "outputs": [
    {
     "name": "stdout",
     "output_type": "stream",
     "text": [
      "Unique setences :   1169\n"
     ]
    }
   ],
   "source": [
    "unique_passages = df[\"passage\"].unique()\n",
    "unique_sentence_count=[ len(r.split(\"\\n\")) for r in unique_passages]\n",
    "print(\"Unique setences :  \" , sum(unique_sentence_count))"
   ]
  },
  {
   "cell_type": "markdown",
   "metadata": {},
   "source": [
    "### Explore dataset"
   ]
  },
  {
   "cell_type": "code",
   "execution_count": 19,
   "metadata": {},
   "outputs": [
    {
     "data": {
      "image/png": "[encoded data removed]",
      "text/plain": [
       "<Figure size 288x288 with 1 Axes>"
      ]
     },
     "metadata": {},
     "output_type": "display_data"
    }
   ],
   "source": [
    "import matplotlib.pyplot as plt\n",
    "\n",
    "df[\"isValid\"].value_counts().plot.pie(autopct='%.2f',figsize=(4, 4))\n",
    "plt.show()"
   ]
  },
  {
   "cell_type": "code",
   "execution_count": 8,
   "metadata": {},
   "outputs": [
    {
     "data": {
      "text/plain": [
       "False    4834\n",
       "True     1000\n",
       "Name: isValid, dtype: int64"
      ]
     },
     "execution_count": 8,
     "metadata": {},
     "output_type": "execute_result"
    }
   ],
   "source": [
    "df[\"isValid\"].value_counts()"
   ]
  },
  {
   "cell_type": "markdown",
   "metadata": {},
   "source": [
    "## Split into train/test/validation"
   ]
  },
  {
   "cell_type": "code",
   "execution_count": 9,
   "metadata": {},
   "outputs": [],
   "source": [
    "from sklearn.model_selection import train_test_split\n",
    "from sklearn.model_selection import train_test_split\n",
    "\n",
    "unique_docids = df.docid.unique()\n",
    "stratified =  [ df.query(\"docid == '{}'\".format(p))['isValid'].iloc[0] for p in unique_docids]\n",
    "traindocid, valdocid = train_test_split(unique_docids,  test_size=.1,\n",
    "                                                        random_state=777, stratify=stratified)"
   ]
  },
  {
   "cell_type": "code",
   "execution_count": 10,
   "metadata": {},
   "outputs": [],
   "source": [
    "train = df[df['docid'].isin(traindocid)]\n",
    "val = df[df['docid'].isin(valdocid)]\n",
    "\n",
    "\n"
   ]
  },
  {
   "cell_type": "code",
   "execution_count": 11,
   "metadata": {},
   "outputs": [
    {
     "data": {
      "image/png": "[encoded data removed]",
      "text/plain": [
       "<Figure size 1080x1440 with 2 Axes>"
      ]
     },
     "metadata": {},
     "output_type": "display_data"
    }
   ],
   "source": [
    "import matplotlib.pyplot as plt\n",
    "fig, ax = plt.subplots(1,2, figsize=(15,20))\n",
    "\n",
    "ax[0].set_title('Train class distribution')\n",
    "train.isValid.value_counts().plot.pie(autopct='%.2f',  ax=ax[0])\n",
    "\n",
    "ax[1].set_title('Validation class distribution')\n",
    "val.isValid.value_counts().plot.pie(autopct='%.2f',  ax=ax[1])\n",
    "\n",
    "\n",
    "\n",
    "plt.show()"
   ]
  },
  {
   "cell_type": "code",
   "execution_count": 12,
   "metadata": {},
   "outputs": [],
   "source": [
    "train.to_json(\"AIMedtrain.json\")\n",
    "val.to_json(\"AIMedval.json\")"
   ]
  },
  {
   "cell_type": "code",
   "execution_count": 13,
   "metadata": {},
   "outputs": [
    {
     "data": {
      "text/plain": [
       "<matplotlib.axes._subplots.AxesSubplot at 0x1a13c925f8>"
      ]
     },
     "execution_count": 13,
     "metadata": {},
     "output_type": "execute_result"
    },
    {
     "data": {
      "image/png": "[encoded data removed]",
      "text/plain": [
       "<Figure size 432x288 with 1 Axes>"
      ]
     },
     "metadata": {},
     "output_type": "display_data"
    }
   ],
   "source": [
    "train.isValid.value_counts().plot.bar()"
   ]
  },
  {
   "cell_type": "code",
   "execution_count": 17,
   "metadata": {},
   "outputs": [],
   "source": [
    "word_count= train.apply(lambda r: len(r[\"passage\"].split(\" \")), axis=1)"
   ]
  },
  {
   "cell_type": "code",
   "execution_count": 18,
   "metadata": {},
   "outputs": [
    {
     "data": {
      "text/plain": [
       "<matplotlib.axes._subplots.AxesSubplot at 0x1a14ae1208>"
      ]
     },
     "execution_count": 18,
     "metadata": {},
     "output_type": "execute_result"
    },
    {
     "data": {
      "image/png": "[encoded data removed]",
      "text/plain": [
       "<Figure size 432x288 with 1 Axes>"
      ]
     },
     "metadata": {},
     "output_type": "display_data"
    }
   ],
   "source": [
    "word_count.plot.hist()"
   ]
  },
  {
   "cell_type": "code",
   "execution_count": 16,
   "metadata": {},
   "outputs": [],
   "source": [
    "train.sample(n=20).to_json(\"Aimedsample.json\")"
   ]
  }
 ],
 "metadata": {
  "kernelspec": {
   "display_name": "Python 3",
   "language": "python",
   "name": "python3"
  },
  "language_info": {
   "codemirror_mode": {
    "name": "ipython",
    "version": 3
   },
   "file_extension": ".py",
   "mimetype": "text/x-python",
   "name": "python",
   "nbconvert_exporter": "python",
   "pygments_lexer": "ipython3",
   "version": "3.6.4"
  }
 },
 "nbformat": 4,
 "nbformat_minor": 1
}
