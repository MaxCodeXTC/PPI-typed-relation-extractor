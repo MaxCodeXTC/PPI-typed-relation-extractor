{
 "cells": [
  {
   "cell_type": "markdown",
   "metadata": {},
   "source": [
    "# Explore AIMed Dataset\n"
   ]
  },
  {
   "cell_type": "markdown",
   "metadata": {},
   "source": [
    "#### Download AIMed dataset from ftp://ftp.cs.utexas.edu/pub/mooney/bio-data/interactions.tar.gz\"\n",
    "\n"
   ]
  },
  {
   "cell_type": "code",
   "execution_count": 4,
   "metadata": {},
   "outputs": [],
   "source": [
    "data_dir = \"interactions 3\""
   ]
  },
  {
   "cell_type": "code",
   "execution_count": 5,
   "metadata": {},
   "outputs": [],
   "source": [
    "import sys\n",
    "sys.path.append('./source')"
   ]
  },
  {
   "cell_type": "markdown",
   "metadata": {},
   "source": [
    "#### Covert to pandas"
   ]
  },
  {
   "cell_type": "code",
   "execution_count": 6,
   "metadata": {},
   "outputs": [],
   "source": [
    "from datatransformer.AimedToDataFrame import AimedToDataFrame\n",
    "df = AimedToDataFrame().load_dir(data_dir)\n"
   ]
  },
  {
   "cell_type": "code",
   "execution_count": 7,
   "metadata": {},
   "outputs": [
    {
     "data": {
      "text/html": [
       "<div>\n",
       "<style scoped>\n",
       "    .dataframe tbody tr th:only-of-type {\n",
       "        vertical-align: middle;\n",
       "    }\n",
       "\n",
       "    .dataframe tbody tr th {\n",
       "        vertical-align: top;\n",
       "    }\n",
       "\n",
       "    .dataframe thead th {\n",
       "        text-align: right;\n",
       "    }\n",
       "</style>\n",
       "<table border=\"1\" class=\"dataframe\">\n",
       "  <thead>\n",
       "    <tr style=\"text-align: right;\">\n",
       "      <th></th>\n",
       "      <th>docid</th>\n",
       "      <th>isValid</th>\n",
       "      <th>line_no</th>\n",
       "      <th>participant1</th>\n",
       "      <th>participant2</th>\n",
       "      <th>passage</th>\n",
       "    </tr>\n",
       "  </thead>\n",
       "  <tbody>\n",
       "    <tr>\n",
       "      <th>0</th>\n",
       "      <td>abstract_11780382</td>\n",
       "      <td>False</td>\n",
       "      <td>6</td>\n",
       "      <td>IFN - alpha</td>\n",
       "      <td>IL - 4</td>\n",
       "      <td>Cytokines measurements during IFN - alpha trea...</td>\n",
       "    </tr>\n",
       "    <tr>\n",
       "      <th>1</th>\n",
       "      <td>abstract_11780382</td>\n",
       "      <td>False</td>\n",
       "      <td>7</td>\n",
       "      <td>IFN - alpha</td>\n",
       "      <td>IFN - gamma</td>\n",
       "      <td>Levels of IFN - gamma were slightly increased ...</td>\n",
       "    </tr>\n",
       "    <tr>\n",
       "      <th>2</th>\n",
       "      <td>abstract_11780382</td>\n",
       "      <td>False</td>\n",
       "      <td>8</td>\n",
       "      <td>IFN - alpha</td>\n",
       "      <td>IFN - gamma</td>\n",
       "      <td>In patients with a complete response to IFN - ...</td>\n",
       "    </tr>\n",
       "    <tr>\n",
       "      <th>3</th>\n",
       "      <td>abstract_11780382</td>\n",
       "      <td>False</td>\n",
       "      <td>8</td>\n",
       "      <td>IFN - alpha</td>\n",
       "      <td>IL - 4</td>\n",
       "      <td>In patients with a complete response to IFN - ...</td>\n",
       "    </tr>\n",
       "    <tr>\n",
       "      <th>4</th>\n",
       "      <td>abstract_11780382</td>\n",
       "      <td>False</td>\n",
       "      <td>8</td>\n",
       "      <td>IFN - gamma</td>\n",
       "      <td>IL - 4</td>\n",
       "      <td>In patients with a complete response to IFN - ...</td>\n",
       "    </tr>\n",
       "    <tr>\n",
       "      <th>5</th>\n",
       "      <td>abstract_11781009</td>\n",
       "      <td>False</td>\n",
       "      <td>2</td>\n",
       "      <td>BMP receptor type IB</td>\n",
       "      <td>BMPRIB</td>\n",
       "      <td>AB - This study describes the distributions of...</td>\n",
       "    </tr>\n",
       "    <tr>\n",
       "      <th>6</th>\n",
       "      <td>abstract_11781009</td>\n",
       "      <td>False</td>\n",
       "      <td>2</td>\n",
       "      <td>BMP receptor type IB</td>\n",
       "      <td>Col II</td>\n",
       "      <td>AB - This study describes the distributions of...</td>\n",
       "    </tr>\n",
       "    <tr>\n",
       "      <th>7</th>\n",
       "      <td>abstract_11781009</td>\n",
       "      <td>False</td>\n",
       "      <td>2</td>\n",
       "      <td>BMP receptor type IB</td>\n",
       "      <td>Col III</td>\n",
       "      <td>AB - This study describes the distributions of...</td>\n",
       "    </tr>\n",
       "    <tr>\n",
       "      <th>8</th>\n",
       "      <td>abstract_11781009</td>\n",
       "      <td>False</td>\n",
       "      <td>2</td>\n",
       "      <td>BMP receptor type IB</td>\n",
       "      <td>bone morphogenetic protein ( BMP ) - 2</td>\n",
       "      <td>AB - This study describes the distributions of...</td>\n",
       "    </tr>\n",
       "    <tr>\n",
       "      <th>9</th>\n",
       "      <td>abstract_11781009</td>\n",
       "      <td>False</td>\n",
       "      <td>2</td>\n",
       "      <td>BMPRIB</td>\n",
       "      <td>Col II</td>\n",
       "      <td>AB - This study describes the distributions of...</td>\n",
       "    </tr>\n",
       "  </tbody>\n",
       "</table>\n",
       "</div>"
      ],
      "text/plain": [
       "               docid  isValid  line_no          participant1  \\\n",
       "0  abstract_11780382    False        6           IFN - alpha   \n",
       "1  abstract_11780382    False        7           IFN - alpha   \n",
       "2  abstract_11780382    False        8           IFN - alpha   \n",
       "3  abstract_11780382    False        8           IFN - alpha   \n",
       "4  abstract_11780382    False        8           IFN - gamma   \n",
       "5  abstract_11781009    False        2  BMP receptor type IB   \n",
       "6  abstract_11781009    False        2  BMP receptor type IB   \n",
       "7  abstract_11781009    False        2  BMP receptor type IB   \n",
       "8  abstract_11781009    False        2  BMP receptor type IB   \n",
       "9  abstract_11781009    False        2                BMPRIB   \n",
       "\n",
       "                             participant2  \\\n",
       "0                                  IL - 4   \n",
       "1                             IFN - gamma   \n",
       "2                             IFN - gamma   \n",
       "3                                  IL - 4   \n",
       "4                                  IL - 4   \n",
       "5                                  BMPRIB   \n",
       "6                                  Col II   \n",
       "7                                 Col III   \n",
       "8  bone morphogenetic protein ( BMP ) - 2   \n",
       "9                                  Col II   \n",
       "\n",
       "                                             passage  \n",
       "0  Cytokines measurements during IFN - alpha trea...  \n",
       "1  Levels of IFN - gamma were slightly increased ...  \n",
       "2  In patients with a complete response to IFN - ...  \n",
       "3  In patients with a complete response to IFN - ...  \n",
       "4  In patients with a complete response to IFN - ...  \n",
       "5  AB - This study describes the distributions of...  \n",
       "6  AB - This study describes the distributions of...  \n",
       "7  AB - This study describes the distributions of...  \n",
       "8  AB - This study describes the distributions of...  \n",
       "9  AB - This study describes the distributions of...  "
      ]
     },
     "execution_count": 7,
     "metadata": {},
     "output_type": "execute_result"
    }
   ],
   "source": [
    "df.head(n=10)"
   ]
  },
  {
   "cell_type": "code",
   "execution_count": 12,
   "metadata": {},
   "outputs": [
    {
     "data": {
      "text/plain": [
       "(3677, 6)"
      ]
     },
     "execution_count": 12,
     "metadata": {},
     "output_type": "execute_result"
    }
   ],
   "source": [
    "df.shape"
   ]
  },
  {
   "cell_type": "code",
   "execution_count": 8,
   "metadata": {},
   "outputs": [
    {
     "name": "stdout",
     "output_type": "stream",
     "text": [
      "Unique setences :   1082\n"
     ]
    }
   ],
   "source": [
    "unique_passages = df[\"passage\"].unique()\n",
    "unique_sentence_count=[ len(r.split(\"\\n\")) for r in unique_passages]\n",
    "print(\"Unique setences :  \" , sum(unique_sentence_count))"
   ]
  },
  {
   "cell_type": "markdown",
   "metadata": {},
   "source": [
    "### Explore dataset"
   ]
  },
  {
   "cell_type": "code",
   "execution_count": 10,
   "metadata": {},
   "outputs": [
    {
     "data": {
      "image/png": "[encoded data removed]",
      "text/plain": [
       "<Figure size 288x288 with 1 Axes>"
      ]
     },
     "metadata": {},
     "output_type": "display_data"
    }
   ],
   "source": [
    "import matplotlib.pyplot as plt\n",
    "\n",
    "df[\"isValid\"].value_counts().plot.pie(autopct='%.2f',figsize=(4, 4))\n",
    "plt.show()"
   ]
  },
  {
   "cell_type": "code",
   "execution_count": 14,
   "metadata": {},
   "outputs": [
    {
     "data": {
      "text/plain": [
       "False    3188\n",
       "True      489\n",
       "Name: isValid, dtype: int64"
      ]
     },
     "execution_count": 14,
     "metadata": {},
     "output_type": "execute_result"
    }
   ],
   "source": [
    "df[\"isValid\"].value_counts()"
   ]
  },
  {
   "cell_type": "markdown",
   "metadata": {},
   "source": [
    "## Split into train/test/validation"
   ]
  },
  {
   "cell_type": "code",
   "execution_count": 15,
   "metadata": {},
   "outputs": [],
   "source": [
    "from sklearn.model_selection import train_test_split\n",
    "from sklearn.model_selection import train_test_split\n",
    "\n",
    "unique_docids = df.docid.unique()\n",
    "stratified =  [ df.query(\"docid == '{}'\".format(p))['isValid'].iloc[0] for p in unique_docids]\n",
    "traindocid, valdocid = train_test_split(unique_docids,  test_size=.1,\n",
    "                                                        random_state=777, stratify=stratified)"
   ]
  },
  {
   "cell_type": "code",
   "execution_count": 16,
   "metadata": {},
   "outputs": [],
   "source": [
    "\n",
    "stratified =  [df.query(\"docid == '{}'\".format(p))['isValid'].iloc[0] for p in traindocid]\n",
    "traindocid, testdocid = train_test_split(traindocid,  test_size=.2,\n",
    "                                                        random_state=777, stratify=stratified)"
   ]
  },
  {
   "cell_type": "code",
   "execution_count": 17,
   "metadata": {},
   "outputs": [],
   "source": [
    "train = df[df['docid'].isin(traindocid)]\n",
    "test = df[df['docid'].isin(traindocid)]\n",
    "val = df[df['docid'].isin(traindocid)]\n",
    "\n",
    "\n"
   ]
  },
  {
   "cell_type": "code",
   "execution_count": 18,
   "metadata": {},
   "outputs": [
    {
     "data": {
      "image/png": "[encoded data removed]",
      "text/plain": [
       "<Figure size 1080x1440 with 3 Axes>"
      ]
     },
     "metadata": {},
     "output_type": "display_data"
    }
   ],
   "source": [
    "import matplotlib.pyplot as plt\n",
    "fig, ax = plt.subplots(1,3, figsize=(15,20))\n",
    "\n",
    "ax[0].set_title('Train class distribution')\n",
    "train.isValid.value_counts().plot.pie(autopct='%.2f',  ax=ax[0])\n",
    "\n",
    "ax[1].set_title('Validation class distribution')\n",
    "val.isValid.value_counts().plot.pie(autopct='%.2f',  ax=ax[1])\n",
    "\n",
    "\n",
    "ax[2].set_title('Test class distribution')\n",
    "test.isValid.value_counts().plot.pie(autopct='%.2f',  ax=ax[2])\n",
    "\n",
    "\n",
    "plt.show()"
   ]
  },
  {
   "cell_type": "code",
   "execution_count": 19,
   "metadata": {},
   "outputs": [],
   "source": [
    "train.to_json(\"AIMedtrain.json\")\n",
    "test.to_json(\"AIMedtest.json\")\n",
    "val.to_json(\"AIMedval.json\")"
   ]
  },
  {
   "cell_type": "code",
   "execution_count": 20,
   "metadata": {},
   "outputs": [],
   "source": [
    "train.sample(n=20).to_json(\"Aimedsample.json\")"
   ]
  }
 ],
 "metadata": {
  "kernelspec": {
   "display_name": "Python 3",
   "language": "python",
   "name": "python3"
  },
  "language_info": {
   "codemirror_mode": {
    "name": "ipython",
    "version": 3
   },
   "file_extension": ".py",
   "mimetype": "text/x-python",
   "name": "python",
   "nbconvert_exporter": "python",
   "pygments_lexer": "ipython3",
   "version": "3.6.4"
  }
 },
 "nbformat": 4,
 "nbformat_minor": 1
}
