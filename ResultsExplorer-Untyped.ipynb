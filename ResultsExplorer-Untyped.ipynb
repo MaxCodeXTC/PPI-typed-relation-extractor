{
 "cells": [
  {
   "cell_type": "code",
   "execution_count": 63,
   "metadata": {},
   "outputs": [],
   "source": [
    "s3_data =\"s3://aegovan-data/processed_dataset/test_unique_negative_entity_only.json\"\n",
    "model_s3_path=\"s3://aegovan-data/results/ppi-bert-untype-2019-11-05-08-14-14-416/output/output.tar.gz\"\n",
    "\n",
    "s3_model_path_format = \"s3://aegovan-data/results/{}/output/output.tar.gz\""
   ]
  },
  {
   "cell_type": "code",
   "execution_count": 20,
   "metadata": {},
   "outputs": [
    {
     "name": "stdout",
     "output_type": "stream",
     "text": [
      "Requirement already satisfied: scikit-plot==0.3.7 in /Users/aeg/miniconda/envs/untitled2/lib/python3.6/site-packages (0.3.7)\n",
      "Requirement already satisfied: matplotlib>=1.4.0 in /Users/aeg/miniconda/envs/untitled2/lib/python3.6/site-packages (from scikit-plot==0.3.7) (3.0.0)\n",
      "Requirement already satisfied: scipy>=0.9 in /Users/aeg/miniconda/envs/untitled2/lib/python3.6/site-packages (from scikit-plot==0.3.7) (1.1.0)\n",
      "Requirement already satisfied: scikit-learn>=0.18 in /Users/aeg/miniconda/envs/untitled2/lib/python3.6/site-packages (from scikit-plot==0.3.7) (0.21.2)\n",
      "Requirement already satisfied: joblib>=0.10 in /Users/aeg/miniconda/envs/untitled2/lib/python3.6/site-packages (from scikit-plot==0.3.7) (0.13.2)\n",
      "Requirement already satisfied: kiwisolver>=1.0.1 in /Users/aeg/miniconda/envs/untitled2/lib/python3.6/site-packages (from matplotlib>=1.4.0->scikit-plot==0.3.7) (1.0.1)\n",
      "Requirement already satisfied: cycler>=0.10 in /Users/aeg/miniconda/envs/untitled2/lib/python3.6/site-packages (from matplotlib>=1.4.0->scikit-plot==0.3.7) (0.10.0)\n",
      "Requirement already satisfied: pyparsing!=2.0.4,!=2.1.2,!=2.1.6,>=2.0.1 in /Users/aeg/miniconda/envs/untitled2/lib/python3.6/site-packages (from matplotlib>=1.4.0->scikit-plot==0.3.7) (2.2.0)\n",
      "Requirement already satisfied: numpy>=1.10.0 in /Users/aeg/miniconda/envs/untitled2/lib/python3.6/site-packages (from matplotlib>=1.4.0->scikit-plot==0.3.7) (1.14.1)\n",
      "Requirement already satisfied: python-dateutil>=2.1 in /Users/aeg/miniconda/envs/untitled2/lib/python3.6/site-packages (from matplotlib>=1.4.0->scikit-plot==0.3.7) (2.7.0)\n",
      "Requirement already satisfied: setuptools in /Users/aeg/.local/lib/python3.6/site-packages (from kiwisolver>=1.0.1->matplotlib>=1.4.0->scikit-plot==0.3.7) (39.1.0)\n",
      "Requirement already satisfied: six in /Users/aeg/miniconda/envs/untitled2/lib/python3.6/site-packages (from cycler>=0.10->matplotlib>=1.4.0->scikit-plot==0.3.7) (1.11.0)\n",
      "\u001b[31mawsebcli 3.12.4 has requirement requests<=2.9.1,>=2.6.1, but you'll have requests 2.20.1 which is incompatible.\u001b[0m\n",
      "\u001b[31mspacy 2.1.8 has requirement numpy>=1.15.0, but you'll have numpy 1.14.1 which is incompatible.\u001b[0m\n",
      "\u001b[31mblis 0.2.4 has requirement numpy>=1.15.0, but you'll have numpy 1.14.1 which is incompatible.\u001b[0m\n",
      "\u001b[33mYou are using pip version 10.0.1, however version 19.3.1 is available.\n",
      "You should consider upgrading via the 'pip install --upgrade pip' command.\u001b[0m\n"
     ]
    }
   ],
   "source": [
    "!pip install scikit-plot==0.3.7"
   ]
  },
  {
   "cell_type": "code",
   "execution_count": 2,
   "metadata": {},
   "outputs": [],
   "source": [
    "import tarfile\n",
    "import pandas as pd\n",
    "import json\n",
    "from pandas.io.json import json_normalize\n",
    "import tempfile \n",
    "import os\n",
    "import boto3\n",
    "import matplotlib.pyplot as plt\n",
    "import glob\n",
    "from sklearn.metrics import f1_score, accuracy_score,precision_score, recall_score\n",
    "import scikitplot as skplt\n",
    "\n",
    "\n",
    "\n"
   ]
  },
  {
   "cell_type": "code",
   "execution_count": 3,
   "metadata": {},
   "outputs": [],
   "source": [
    "\n",
    "\n",
    "pd.set_option('display.max_columns', None)\n",
    "pd.set_option('display.max_colwidth', 10000)\n",
    "pd.set_option('display.max_rows', 100)\n",
    "\n",
    "plt.rcParams.update({'font.size': 12})"
   ]
  },
  {
   "cell_type": "code",
   "execution_count": 4,
   "metadata": {},
   "outputs": [],
   "source": [
    "\n",
    "def download_single_file(bucket_name_path, local_path):\n",
    "    index = bucket_name_path.find(\"://\")\n",
    "\n",
    "    # remove the s3:// if present\n",
    "    if index > -1:\n",
    "        bucket_name_path = bucket_name_path[index + 3:]\n",
    "\n",
    "    key_start_index = bucket_name_path.find(\"/\")\n",
    "    bucket_name = bucket_name_path\n",
    "    key = \"/\"\n",
    "    if key_start_index > -1:\n",
    "        bucket_name = bucket_name_path[0:key_start_index]\n",
    "        key = bucket_name_path[key_start_index + 1:]\n",
    "        \n",
    "    client = boto3.resource('s3')\n",
    "    client.Bucket(bucket_name).download_file(key, local_path)\n",
    "\n"
   ]
  },
  {
   "cell_type": "code",
   "execution_count": 5,
   "metadata": {},
   "outputs": [],
   "source": [
    "def load_scores_as_df (file):\n",
    "    with open(file, \"r\") as i:\n",
    "        data = json.loads(i.read())\n",
    "        \n",
    "    return json_normalize(data)"
   ]
  },
  {
   "cell_type": "code",
   "execution_count": 6,
   "metadata": {},
   "outputs": [],
   "source": [
    "\n",
    "\n",
    "def get_predictions(s3_path):\n",
    "    tmp_dir = tempfile.mkdtemp()\n",
    "    outfile = os.path.join(tmp_dir, \"output.tar.gz\" )\n",
    "    download_single_file(s3_path, outfile)\n",
    "    tf = tarfile.open(outfile)\n",
    "    tf.extractall(path=tmp_dir)\n",
    "    test_input_file = os.path.join(tmp_dir, \"predicted.json\")\n",
    "\n",
    "\n",
    "    df_results =  pd.read_json(test_input_file)\n",
    "    df_results[\"actual\"] = df_results[\"isValid\"]\n",
    "    \n",
    "    validation_fit_file = glob.glob(\"{}/validation_scores_epoch_Objectdump*.json\".format(tmp_dir))[0]\n",
    "    train_fit_file = glob.glob(\"{}/training_scores_epoch_Objectdump*.json\".format(tmp_dir))[0]\n",
    "\n",
    "    df_val_fit = load_scores_as_df(validation_fit_file)\n",
    "    df_train_fit = load_scores_as_df(train_fit_file)\n",
    "\n",
    "\n",
    "\n",
    "    return df_results, df_val_fit, df_train_fit"
   ]
  },
  {
   "cell_type": "code",
   "execution_count": 7,
   "metadata": {},
   "outputs": [],
   "source": [
    "\n",
    "def convert_scores_to_df(scores : dict):\n",
    "    score_formatted = []\n",
    "    for k, v in scores.items():\n",
    "        p,r,f1 = v[0], v[1], v[2]\n",
    "        score_formatted.append ({\"key\":k, \"Precision\": p*100, \"Recall\":r*100, \"F1-score\": f1*100})\n",
    "    return pd.DataFrame(score_formatted)"
   ]
  },
  {
   "cell_type": "code",
   "execution_count": 65,
   "metadata": {},
   "outputs": [],
   "source": [
    "def get_all_scores (list_of_s3_path):\n",
    "    scores = []\n",
    "\n",
    "    for s3_path in list_of_s3_path:\n",
    "        df,_,_ = get_predictions(s3_path) \n",
    "        score = {}\n",
    "        score[\"key\"]=s3_path\n",
    "        score[\"F1-score\"] = 100*f1_score(df[\"actual\"], df[\"predicted\"], average='binary' ,sample_weight=None)  \n",
    "        score[\"Precision\"]  =100* precision_score(df[\"actual\"], df[\"predicted\"], average='binary' ,sample_weight=None)  \n",
    "        score[\"Recall\"] = 100*recall_score(df[\"actual\"], df[\"predicted\"], average='binary' ,sample_weight=None)  \n",
    "        scores.append(score)\n",
    "        \n",
    "    return pd.DataFrame(scores)\n",
    "\n",
    "\n"
   ]
  },
  {
   "cell_type": "code",
   "execution_count": 9,
   "metadata": {},
   "outputs": [],
   "source": [
    "\n",
    "pos_label = True\n",
    "df_results, df_val_fit, df_train_fit = get_predictions(model_s3_path)"
   ]
  },
  {
   "cell_type": "code",
   "execution_count": 10,
   "metadata": {},
   "outputs": [
    {
     "data": {
      "text/plain": [
       "Index(['entityMentionsCount', 'hasTriggerWord', 'interactionId',\n",
       "       'interactionType', 'isValid', 'lessThanThreshold', 'participant1Alias',\n",
       "       'participant1Id', 'participant2Alias', 'participant2Id',\n",
       "       'participants_count', 'pubmedId', 'pubmedTitle', 'pubmedabstract',\n",
       "       'normalised_abstract', 'particpant1Exists', 'particpant2Exists',\n",
       "       'bothParticpantsExist', 'noParticpantsExist', 'predicted',\n",
       "       'confidence_scores', 'actual'],\n",
       "      dtype='object')"
      ]
     },
     "execution_count": 10,
     "metadata": {},
     "output_type": "execute_result"
    }
   ],
   "source": [
    "df_results.columns\n"
   ]
  },
  {
   "cell_type": "code",
   "execution_count": 11,
   "metadata": {},
   "outputs": [
    {
     "data": {
      "text/plain": [
       "(894, 22)"
      ]
     },
     "execution_count": 11,
     "metadata": {},
     "output_type": "execute_result"
    }
   ],
   "source": [
    "df_results.shape"
   ]
  },
  {
   "cell_type": "code",
   "execution_count": 75,
   "metadata": {
    "scrolled": false
   },
   "outputs": [
    {
     "data": {
      "text/html": [
       "<div>\n",
       "<style scoped>\n",
       "    .dataframe tbody tr th:only-of-type {\n",
       "        vertical-align: middle;\n",
       "    }\n",
       "\n",
       "    .dataframe tbody tr th {\n",
       "        vertical-align: top;\n",
       "    }\n",
       "\n",
       "    .dataframe thead th {\n",
       "        text-align: right;\n",
       "    }\n",
       "</style>\n",
       "<table border=\"1\" class=\"dataframe\">\n",
       "  <thead>\n",
       "    <tr style=\"text-align: right;\">\n",
       "      <th></th>\n",
       "      <th>entityMentionsCount</th>\n",
       "      <th>hasTriggerWord</th>\n",
       "      <th>interactionId</th>\n",
       "      <th>interactionType</th>\n",
       "      <th>isValid</th>\n",
       "      <th>lessThanThreshold</th>\n",
       "      <th>participant1Alias</th>\n",
       "      <th>participant1Id</th>\n",
       "      <th>participant2Alias</th>\n",
       "      <th>participant2Id</th>\n",
       "      <th>participants_count</th>\n",
       "      <th>pubmedId</th>\n",
       "      <th>pubmedTitle</th>\n",
       "      <th>pubmedabstract</th>\n",
       "      <th>normalised_abstract</th>\n",
       "      <th>particpant1Exists</th>\n",
       "      <th>particpant2Exists</th>\n",
       "      <th>bothParticpantsExist</th>\n",
       "      <th>noParticpantsExist</th>\n",
       "      <th>predicted</th>\n",
       "      <th>confidence_scores</th>\n",
       "      <th>actual</th>\n",
       "      <th>False</th>\n",
       "      <th>True</th>\n",
       "      <th>predicted_confidence</th>\n",
       "    </tr>\n",
       "  </thead>\n",
       "  <tbody>\n",
       "    <tr>\n",
       "      <th>0</th>\n",
       "      <td>5</td>\n",
       "      <td>True</td>\n",
       "      <td>1012878_e8728d51-a879-40dd-9f42-aeb3aa715354_fake_annot</td>\n",
       "      <td>dephosphorylation</td>\n",
       "      <td>False</td>\n",
       "      <td>True</td>\n",
       "      <td>[PP2A]</td>\n",
       "      <td>Q15257</td>\n",
       "      <td>[MAPK/ERK kinase kinase 3, MEKK3]</td>\n",
       "      <td>Q99759</td>\n",
       "      <td>2</td>\n",
       "      <td>16407301</td>\n",
       "      <td>None</td>\n",
       "      <td>MAPK/ERK kinase kinase 3 (MEKK3) is a mitogen-activated protein kinase kinase kinase (MAP3K) that functions upstream of the MAP kinases and IkappaB kinase. Phosphorylation is believed to be a critical component for MEKK3-dependent signal transduction, but little is known about the phosphorylation sites of this MAP3K. To address this question, point mutations were introduced in the activation loop (T-loop), substituting alanine for serine or threonine, and the mutants were transfected into HEK293 Epstein-Barr virus nuclear antigen cells. MEKK3-dependent activation of an NF-kappaB reporter gene as well as ERK, JNK, and p38 MAP kinases correlated with a requirement for serine at position 526. Constitutively active mutants of MEKK3, consisting of S526D and S526E, were capable of activating a NF-kappaB luciferase reporter gene as well as ERK and MEK, suggesting that a negative charge at Ser526 was necessary for MEKK3 activity and implicating Ser526 as a phosphorylation site. An antibody was developed that specifically recognized phospho-Ser526 of MEKK3 but did not recognize the S526A point mutant. The catalytically inactive (K391M) mutant of MEKK3 was not phosphorylated at Ser526, indicating that phosphorylation of Ser526 occurs via autophosphorylation. Endogenous MEKK3 was phosphorylated on Ser526 in response to osmotic stress. In addition, phosphorylation of Ser526 was required for MKK6 phosphorylation in vitro, whereas dephosphorylation of Ser526 was mediated by protein phosphatase 2A and sensitive to okadaic acid and sodium fluoride. Finally, the association between MEKK3 and 14-3-3 was dependent on Ser526 and prevented dephosphorylation of Ser526. In summary, Ser526 of MEKK3 is an autophosphorylation site within the T-loop that is regulated by PP2A and 14-3-3 proteins.</td>\n",
       "      <td>Q99759 (Q99759) is a mitogen-activated protein kinase kinase kinase (MAP3K) that functions upstream of the MAP kinases and IkappaB kinase. Phosphorylation is believed to be a critical component for Q99759-dependent signal transduction, but little is known about the phosphorylation sites of this MAP3K. To address this question, point mutations were introduced in the activation loop (T-loop), substituting alanine for serine or threonine, and the mutants were transfected into HEK293 Epstein-Barr virus nuclear antigen cells. Q99759-dependent activation of an NF-kappaB reporter gene as well as ERK, JNK, and Q16539 MAP kinases correlated with a requirement for serine at position 526. Constitutively active mutants of Q99759, consisting of S526D and S526E, were capable of activating a NF-kappaB luciferase reporter gene as well as ERK and O14733, suggesting that a negative charge at Ser526 was necessary for Q99759 activity and implicating Ser526 as a phosphorylation site. An antibody was developed that specifically recognized phospho-Ser526 of Q99759 but did not recognize the S526A point mutant. The catalytically inactive (K391M) mutant of Q99759 was not phosphorylated at Ser526, indicating that phosphorylation of Ser526 occurs via autophosphorylation. Endogenous Q99759 was phosphorylated on Ser526 in response to osmotic stress. In addition, phosphorylation of Ser526 was required for P52564 phosphorylation in vitro, whereas dephosphorylation of Ser526 was mediated by protein phosphatase 2A and sensitive to okadaic acid and sodium fluoride. Finally, the association between Q99759 and 14-3-3 was dependent on Ser526 and prevented dephosphorylation of Ser526. In summary, Ser526 of Q99759 is an autophosphorylation site within the T-loop that is regulated by Q15257 and 14-3-3 proteins.</td>\n",
       "      <td>False</td>\n",
       "      <td>True</td>\n",
       "      <td>False</td>\n",
       "      <td>False</td>\n",
       "      <td>True</td>\n",
       "      <td>{'False': -3.5538949966, 'True': 2.8602070808}</td>\n",
       "      <td>False</td>\n",
       "      <td>0.028613</td>\n",
       "      <td>17.465143</td>\n",
       "      <td>0.998364</td>\n",
       "    </tr>\n",
       "  </tbody>\n",
       "</table>\n",
       "</div>"
      ],
      "text/plain": [
       "   entityMentionsCount  hasTriggerWord  \\\n",
       "0                    5            True   \n",
       "\n",
       "                                             interactionId    interactionType  \\\n",
       "0  1012878_e8728d51-a879-40dd-9f42-aeb3aa715354_fake_annot  dephosphorylation   \n",
       "\n",
       "   isValid  lessThanThreshold participant1Alias participant1Id  \\\n",
       "0    False               True            [PP2A]         Q15257   \n",
       "\n",
       "                   participant2Alias participant2Id  participants_count  \\\n",
       "0  [MAPK/ERK kinase kinase 3, MEKK3]         Q99759                   2   \n",
       "\n",
       "   pubmedId pubmedTitle  \\\n",
       "0  16407301        None   \n",
       "\n",
       "                                                                                                                                                                                                                                                                                                                                                                                                                                                                                                                                                                                                                                                                                                                                                                                                                                                                                                                                                                                                                                                                                                                                                                                                                                                                                                                                                                                                                                                                                                                                                                                                                                                                                                                                                                                                                                                            pubmedabstract  \\\n",
       "0  MAPK/ERK kinase kinase 3 (MEKK3) is a mitogen-activated protein kinase kinase kinase (MAP3K) that functions upstream of the MAP kinases and IkappaB kinase. Phosphorylation is believed to be a critical component for MEKK3-dependent signal transduction, but little is known about the phosphorylation sites of this MAP3K. To address this question, point mutations were introduced in the activation loop (T-loop), substituting alanine for serine or threonine, and the mutants were transfected into HEK293 Epstein-Barr virus nuclear antigen cells. MEKK3-dependent activation of an NF-kappaB reporter gene as well as ERK, JNK, and p38 MAP kinases correlated with a requirement for serine at position 526. Constitutively active mutants of MEKK3, consisting of S526D and S526E, were capable of activating a NF-kappaB luciferase reporter gene as well as ERK and MEK, suggesting that a negative charge at Ser526 was necessary for MEKK3 activity and implicating Ser526 as a phosphorylation site. An antibody was developed that specifically recognized phospho-Ser526 of MEKK3 but did not recognize the S526A point mutant. The catalytically inactive (K391M) mutant of MEKK3 was not phosphorylated at Ser526, indicating that phosphorylation of Ser526 occurs via autophosphorylation. Endogenous MEKK3 was phosphorylated on Ser526 in response to osmotic stress. In addition, phosphorylation of Ser526 was required for MKK6 phosphorylation in vitro, whereas dephosphorylation of Ser526 was mediated by protein phosphatase 2A and sensitive to okadaic acid and sodium fluoride. Finally, the association between MEKK3 and 14-3-3 was dependent on Ser526 and prevented dephosphorylation of Ser526. In summary, Ser526 of MEKK3 is an autophosphorylation site within the T-loop that is regulated by PP2A and 14-3-3 proteins.   \n",
       "\n",
       "                                                                                                                                                                                                                                                                                                                                                                                                                                                                                                                                                                                                                                                                                                                                                                                                                                                                                                                                                                                                                                                                                                                                                                                                                                                                                                                                                                                                                                                                                                                                                                                                                                                                                                                                                                                                                                                         normalised_abstract  \\\n",
       "0  Q99759 (Q99759) is a mitogen-activated protein kinase kinase kinase (MAP3K) that functions upstream of the MAP kinases and IkappaB kinase. Phosphorylation is believed to be a critical component for Q99759-dependent signal transduction, but little is known about the phosphorylation sites of this MAP3K. To address this question, point mutations were introduced in the activation loop (T-loop), substituting alanine for serine or threonine, and the mutants were transfected into HEK293 Epstein-Barr virus nuclear antigen cells. Q99759-dependent activation of an NF-kappaB reporter gene as well as ERK, JNK, and Q16539 MAP kinases correlated with a requirement for serine at position 526. Constitutively active mutants of Q99759, consisting of S526D and S526E, were capable of activating a NF-kappaB luciferase reporter gene as well as ERK and O14733, suggesting that a negative charge at Ser526 was necessary for Q99759 activity and implicating Ser526 as a phosphorylation site. An antibody was developed that specifically recognized phospho-Ser526 of Q99759 but did not recognize the S526A point mutant. The catalytically inactive (K391M) mutant of Q99759 was not phosphorylated at Ser526, indicating that phosphorylation of Ser526 occurs via autophosphorylation. Endogenous Q99759 was phosphorylated on Ser526 in response to osmotic stress. In addition, phosphorylation of Ser526 was required for P52564 phosphorylation in vitro, whereas dephosphorylation of Ser526 was mediated by protein phosphatase 2A and sensitive to okadaic acid and sodium fluoride. Finally, the association between Q99759 and 14-3-3 was dependent on Ser526 and prevented dephosphorylation of Ser526. In summary, Ser526 of Q99759 is an autophosphorylation site within the T-loop that is regulated by Q15257 and 14-3-3 proteins.   \n",
       "\n",
       "   particpant1Exists  particpant2Exists  bothParticpantsExist  \\\n",
       "0              False               True                 False   \n",
       "\n",
       "   noParticpantsExist  predicted  \\\n",
       "0               False       True   \n",
       "\n",
       "                                confidence_scores  actual     False  \\\n",
       "0  {'False': -3.5538949966, 'True': 2.8602070808}   False  0.028613   \n",
       "\n",
       "        True  predicted_confidence  \n",
       "0  17.465143              0.998364  "
      ]
     },
     "execution_count": 75,
     "metadata": {},
     "output_type": "execute_result"
    }
   ],
   "source": [
    "df_results.head(n=1)"
   ]
  },
  {
   "cell_type": "markdown",
   "metadata": {},
   "source": [
    "## Analyse Results"
   ]
  },
  {
   "cell_type": "code",
   "execution_count": 13,
   "metadata": {},
   "outputs": [],
   "source": [
    "df = df_results"
   ]
  },
  {
   "cell_type": "code",
   "execution_count": 14,
   "metadata": {},
   "outputs": [
    {
     "data": {
      "text/plain": [
       "(894, 22)"
      ]
     },
     "execution_count": 14,
     "metadata": {},
     "output_type": "execute_result"
    }
   ],
   "source": [
    "df_results.shape"
   ]
  },
  {
   "cell_type": "code",
   "execution_count": 15,
   "metadata": {},
   "outputs": [],
   "source": [
    "keys = list(df[\"confidence_scores\"][0].keys())"
   ]
  },
  {
   "cell_type": "code",
   "execution_count": 16,
   "metadata": {},
   "outputs": [],
   "source": [
    "import math\n",
    "\n",
    "# This is log softmax, convert to softmax prob\n",
    "for k in keys:\n",
    "    df[k]  =df[\"confidence_scores\"].apply(lambda x: math.exp(x[k]))\n",
    "    df[k]  =df[\"confidence_scores\"].apply(lambda x: math.exp(x[k]))\n",
    "\n",
    "df[\"predicted_confidence\"] = df.apply(lambda r: max(r[ keys]/ sum(r[ keys])), axis=1 )"
   ]
  },
  {
   "cell_type": "code",
   "execution_count": 17,
   "metadata": {},
   "outputs": [
    {
     "data": {
      "text/html": [
       "<div>\n",
       "<style scoped>\n",
       "    .dataframe tbody tr th:only-of-type {\n",
       "        vertical-align: middle;\n",
       "    }\n",
       "\n",
       "    .dataframe tbody tr th {\n",
       "        vertical-align: top;\n",
       "    }\n",
       "\n",
       "    .dataframe thead th {\n",
       "        text-align: right;\n",
       "    }\n",
       "</style>\n",
       "<table border=\"1\" class=\"dataframe\">\n",
       "  <thead>\n",
       "    <tr style=\"text-align: right;\">\n",
       "      <th></th>\n",
       "      <th>predicted_confidence</th>\n",
       "      <th>False</th>\n",
       "      <th>True</th>\n",
       "    </tr>\n",
       "  </thead>\n",
       "  <tbody>\n",
       "    <tr>\n",
       "      <th>825</th>\n",
       "      <td>0.995994</td>\n",
       "      <td>0.081684</td>\n",
       "      <td>20.308543</td>\n",
       "    </tr>\n",
       "    <tr>\n",
       "      <th>179</th>\n",
       "      <td>0.999896</td>\n",
       "      <td>138.443706</td>\n",
       "      <td>0.014339</td>\n",
       "    </tr>\n",
       "    <tr>\n",
       "      <th>459</th>\n",
       "      <td>0.999796</td>\n",
       "      <td>94.866459</td>\n",
       "      <td>0.019317</td>\n",
       "    </tr>\n",
       "    <tr>\n",
       "      <th>451</th>\n",
       "      <td>0.999926</td>\n",
       "      <td>140.854466</td>\n",
       "      <td>0.010378</td>\n",
       "    </tr>\n",
       "    <tr>\n",
       "      <th>512</th>\n",
       "      <td>0.872200</td>\n",
       "      <td>0.600334</td>\n",
       "      <td>4.097106</td>\n",
       "    </tr>\n",
       "    <tr>\n",
       "      <th>829</th>\n",
       "      <td>0.972604</td>\n",
       "      <td>0.233055</td>\n",
       "      <td>8.273733</td>\n",
       "    </tr>\n",
       "    <tr>\n",
       "      <th>765</th>\n",
       "      <td>0.584897</td>\n",
       "      <td>1.428514</td>\n",
       "      <td>2.012831</td>\n",
       "    </tr>\n",
       "    <tr>\n",
       "      <th>522</th>\n",
       "      <td>0.999930</td>\n",
       "      <td>148.981457</td>\n",
       "      <td>0.010356</td>\n",
       "    </tr>\n",
       "    <tr>\n",
       "      <th>767</th>\n",
       "      <td>0.999720</td>\n",
       "      <td>0.014382</td>\n",
       "      <td>51.421706</td>\n",
       "    </tr>\n",
       "    <tr>\n",
       "      <th>385</th>\n",
       "      <td>0.999928</td>\n",
       "      <td>141.120757</td>\n",
       "      <td>0.010184</td>\n",
       "    </tr>\n",
       "  </tbody>\n",
       "</table>\n",
       "</div>"
      ],
      "text/plain": [
       "     predicted_confidence       False       True\n",
       "825              0.995994    0.081684  20.308543\n",
       "179              0.999896  138.443706   0.014339\n",
       "459              0.999796   94.866459   0.019317\n",
       "451              0.999926  140.854466   0.010378\n",
       "512              0.872200    0.600334   4.097106\n",
       "829              0.972604    0.233055   8.273733\n",
       "765              0.584897    1.428514   2.012831\n",
       "522              0.999930  148.981457   0.010356\n",
       "767              0.999720    0.014382  51.421706\n",
       "385              0.999928  141.120757   0.010184"
      ]
     },
     "execution_count": 17,
     "metadata": {},
     "output_type": "execute_result"
    }
   ],
   "source": [
    "df[ [\"predicted_confidence\"] + keys].sample(n=10)"
   ]
  },
  {
   "cell_type": "code",
   "execution_count": 18,
   "metadata": {},
   "outputs": [
    {
     "name": "stdout",
     "output_type": "stream",
     "text": [
      "{'F1_binary': 0.7239583333333335, 'precision_binary': 0.7808988764044944, 'recall_binary': 0.6747572815533981, 'accuracy': 0.8814317673378076}\n"
     ]
    }
   ],
   "source": [
    "from sklearn.metrics import f1_score, accuracy_score,precision_score, recall_score\n",
    "\n",
    "scores = {}\n",
    "scores[\"F1_binary\"] = f1_score(df[\"actual\"], df[\"predicted\"], average='binary' ,sample_weight=None)  \n",
    "scores[\"precision_binary\"]  = precision_score(df[\"actual\"], df[\"predicted\"], average='binary' ,sample_weight=None)  \n",
    "scores[\"recall_binary\"] = recall_score(df[\"actual\"], df[\"predicted\"], average='binary' ,sample_weight=None)  \n",
    "\n",
    "\n",
    "\n",
    "\n",
    "\n",
    "scores[\"accuracy\"] = accuracy_score(df[\"actual\"], df[\"predicted\"],sample_weight=None)\n",
    "print(scores)\n",
    "\n"
   ]
  },
  {
   "cell_type": "code",
   "execution_count": null,
   "metadata": {},
   "outputs": [],
   "source": []
  },
  {
   "cell_type": "code",
   "execution_count": 19,
   "metadata": {},
   "outputs": [
    {
     "name": "stdout",
     "output_type": "stream",
     "text": [
      "The F1 score is 0.824229878917379 and the accuracy is 0.8814317673378076\n"
     ]
    }
   ],
   "source": [
    "\n",
    "accuracy = accuracy_score(df[\"actual\"], df[\"predicted\"], sample_weight=None)\n",
    "f1 = f1_score(df[\"actual\"], df[\"predicted\"],average='macro', sample_weight=None)  \n",
    "\n",
    "\n",
    "\n",
    "print(\"The F1 score is {} and the accuracy is {}\".format(f1, accuracy))\n"
   ]
  },
  {
   "cell_type": "code",
   "execution_count": null,
   "metadata": {},
   "outputs": [],
   "source": []
  },
  {
   "cell_type": "code",
   "execution_count": 21,
   "metadata": {},
   "outputs": [
    {
     "data": {
      "image/png": "[encoded data removed]",
      "text/plain": [
       "<Figure size 504x504 with 2 Axes>"
      ]
     },
     "metadata": {},
     "output_type": "display_data"
    },
    {
     "data": {
      "image/png": "[encoded data removed]",
      "text/plain": [
       "<Figure size 504x504 with 2 Axes>"
      ]
     },
     "metadata": {},
     "output_type": "display_data"
    }
   ],
   "source": [
    "import matplotlib.pyplot as plt\n",
    "import scikitplot as skplt\n",
    "\n",
    "# fig = plt.figure(figsize=(7,20))\n",
    "# gs = fig.add_gridspec(2, 1)\n",
    "\n",
    "\n",
    "skplt.metrics.plot_confusion_matrix(df[\"actual\"], df[\"predicted\"], normalize=True , figsize=(7,7),  x_tick_rotation=90)\n",
    "plt.savefig(\"confusionmatrix_normalised.jpg\", bbox_inches='tight')\n",
    "\n",
    "skplt.metrics.plot_confusion_matrix(df[\"actual\"], df[\"predicted\"], figsize=(7,7), normalize=False, x_tick_rotation=90 )\n",
    "plt.savefig(\"confusionmatrix_unnormalised.jpg\", bbox_inches='tight')\n",
    "\n",
    "\n"
   ]
  },
  {
   "cell_type": "code",
   "execution_count": 22,
   "metadata": {},
   "outputs": [],
   "source": [
    "# from sklearn.metrics import accuracy_score, accuracy_score,recall_score\n",
    "\n",
    "\n",
    "# interactions = df[\"class\"].unique()\n",
    "# interactions.sort()\n",
    "# #fig, ax = plt.subplots(1, len(interactions), figsize=(40,40), squeeze=False, sharey=True, sharex=True)\n",
    "# fig = plt.figure(figsize=(20,20))\n",
    "# gs = fig.add_gridspec(3, 3)\n",
    "# #ax = fig.add_axes([0,0,1,1])\n",
    "# i = 0\n",
    "# avg = 'macro'\n",
    "# for interaction in interactions:\n",
    "#     r = i//3\n",
    "#     c= i % 3\n",
    "#     df_interaction_type = df.query(\"predicted == '{}'\".format(interaction))\n",
    "#     if df_interaction_type.shape[0] == 0: continue\n",
    "#     ax1 = fig.add_subplot(gs[r, c])\n",
    "    \n",
    "\n",
    "\n",
    "#     f1 = f1_score(df_interaction_type[\"actual\"], df_interaction_type[\"predicted\"],average=avg, sample_weight=None)  \n",
    "#     accuracy = accuracy_score(df_interaction_type[\"actual\"], df_interaction_type[\"predicted\"], sample_weight=None)\n",
    "#     precision= precision_score(df_interaction_type[\"actual\"], df_interaction_type[\"predicted\"], average=avg,sample_weight=None)\n",
    "#     recall = recall_score(df_interaction_type[\"actual\"], df_interaction_type[\"predicted\"], average=avg,sample_weight=None)\n",
    "#     skplt.metrics.plot_confusion_matrix(df_interaction_type[\"actual\"], df_interaction_type[\"predicted\"], normalize=False, title = \"{}: \\nPrecision {}, Recall {} \\nF-score {}\".format(interaction,  round(precision*100, 2),round(recall*100, 2), round(f1*100, 2)), ax= ax1)\n",
    "    \n",
    "# #     ax2 = fig.add_subplot(gs[i, 1])\n",
    "# #     skplt.metrics.plot_confusion_matrix(df_interaction_type[\"actual\"], df_interaction_type[\"predicted\"], normalize=False, title = \"{}: F-score {}\".format(interaction,f1), ax= ax2)\n",
    "\n",
    "\n",
    "#     i += 1\n",
    "#     #break\n",
    "\n",
    "# plt.savefig(\"confusionmatrix_.jpg\", bbox_inches='tight')\n",
    "# plt.show()\n",
    "    \n",
    "    \n"
   ]
  },
  {
   "cell_type": "code",
   "execution_count": 23,
   "metadata": {},
   "outputs": [
    {
     "data": {
      "text/plain": [
       "<matplotlib.axes._subplots.AxesSubplot at 0x1a118220b8>"
      ]
     },
     "execution_count": 23,
     "metadata": {},
     "output_type": "execute_result"
    },
    {
     "data": {
      "image/png": "[encoded data removed]",
      "text/plain": [
       "<Figure size 720x720 with 1 Axes>"
      ]
     },
     "metadata": {},
     "output_type": "display_data"
    }
   ],
   "source": [
    "\n",
    "\n",
    "skplt.metrics.plot_precision_recall(df[\"actual\"], df[keys], figsize=(10,10))"
   ]
  },
  {
   "cell_type": "code",
   "execution_count": 24,
   "metadata": {},
   "outputs": [
    {
     "data": {
      "text/plain": [
       "<matplotlib.axes._subplots.AxesSubplot at 0x1a11f1b828>"
      ]
     },
     "execution_count": 24,
     "metadata": {},
     "output_type": "execute_result"
    },
    {
     "data": {
      "image/png": "[encoded data removed]",
      "text/plain": [
       "<Figure size 720x720 with 1 Axes>"
      ]
     },
     "metadata": {},
     "output_type": "display_data"
    }
   ],
   "source": [
    "\n",
    "skplt.metrics.plot_roc(df[\"actual\"], df[keys], figsize=(10,10))"
   ]
  },
  {
   "cell_type": "markdown",
   "metadata": {},
   "source": [
    "## Training / Validation epoch fit"
   ]
  },
  {
   "cell_type": "code",
   "execution_count": 27,
   "metadata": {},
   "outputs": [
    {
     "data": {
      "text/html": [
       "<div>\n",
       "<style scoped>\n",
       "    .dataframe tbody tr th:only-of-type {\n",
       "        vertical-align: middle;\n",
       "    }\n",
       "\n",
       "    .dataframe tbody tr th {\n",
       "        vertical-align: top;\n",
       "    }\n",
       "\n",
       "    .dataframe thead th {\n",
       "        text-align: right;\n",
       "    }\n",
       "</style>\n",
       "<table border=\"1\" class=\"dataframe\">\n",
       "  <thead>\n",
       "    <tr style=\"text-align: right;\">\n",
       "      <th></th>\n",
       "      <th>epoch</th>\n",
       "      <th>loss</th>\n",
       "      <th>score</th>\n",
       "    </tr>\n",
       "  </thead>\n",
       "  <tbody>\n",
       "    <tr>\n",
       "      <th>38</th>\n",
       "      <td>38</td>\n",
       "      <td>0.897991</td>\n",
       "      <td>9987.910143</td>\n",
       "    </tr>\n",
       "    <tr>\n",
       "      <th>32</th>\n",
       "      <td>32</td>\n",
       "      <td>1.240311</td>\n",
       "      <td>9983.911241</td>\n",
       "    </tr>\n",
       "    <tr>\n",
       "      <th>44</th>\n",
       "      <td>44</td>\n",
       "      <td>0.899853</td>\n",
       "      <td>9983.898847</td>\n",
       "    </tr>\n",
       "    <tr>\n",
       "      <th>39</th>\n",
       "      <td>39</td>\n",
       "      <td>0.879323</td>\n",
       "      <td>9983.898847</td>\n",
       "    </tr>\n",
       "    <tr>\n",
       "      <th>42</th>\n",
       "      <td>42</td>\n",
       "      <td>0.868681</td>\n",
       "      <td>9983.886418</td>\n",
       "    </tr>\n",
       "    <tr>\n",
       "      <th>41</th>\n",
       "      <td>41</td>\n",
       "      <td>0.895303</td>\n",
       "      <td>9983.886418</td>\n",
       "    </tr>\n",
       "    <tr>\n",
       "      <th>36</th>\n",
       "      <td>36</td>\n",
       "      <td>0.920220</td>\n",
       "      <td>9983.886418</td>\n",
       "    </tr>\n",
       "    <tr>\n",
       "      <th>37</th>\n",
       "      <td>37</td>\n",
       "      <td>1.096133</td>\n",
       "      <td>9983.873954</td>\n",
       "    </tr>\n",
       "    <tr>\n",
       "      <th>24</th>\n",
       "      <td>24</td>\n",
       "      <td>1.969661</td>\n",
       "      <td>9979.896781</td>\n",
       "    </tr>\n",
       "    <tr>\n",
       "      <th>33</th>\n",
       "      <td>33</td>\n",
       "      <td>1.446311</td>\n",
       "      <td>9979.881310</td>\n",
       "    </tr>\n",
       "  </tbody>\n",
       "</table>\n",
       "</div>"
      ],
      "text/plain": [
       "    epoch      loss        score\n",
       "38     38  0.897991  9987.910143\n",
       "32     32  1.240311  9983.911241\n",
       "44     44  0.899853  9983.898847\n",
       "39     39  0.879323  9983.898847\n",
       "42     42  0.868681  9983.886418\n",
       "41     41  0.895303  9983.886418\n",
       "36     36  0.920220  9983.886418\n",
       "37     37  1.096133  9983.873954\n",
       "24     24  1.969661  9979.896781\n",
       "33     33  1.446311  9979.881310"
      ]
     },
     "execution_count": 27,
     "metadata": {},
     "output_type": "execute_result"
    }
   ],
   "source": [
    "df_train_fit[\"score\"] =df_train_fit[\"score\"]* 100\n",
    "df_train_fit.sort_values([\"score\"], ascending=False).head(n=10)"
   ]
  },
  {
   "cell_type": "code",
   "execution_count": 29,
   "metadata": {},
   "outputs": [
    {
     "data": {
      "text/html": [
       "<div>\n",
       "<style scoped>\n",
       "    .dataframe tbody tr th:only-of-type {\n",
       "        vertical-align: middle;\n",
       "    }\n",
       "\n",
       "    .dataframe tbody tr th {\n",
       "        vertical-align: top;\n",
       "    }\n",
       "\n",
       "    .dataframe thead th {\n",
       "        text-align: right;\n",
       "    }\n",
       "</style>\n",
       "<table border=\"1\" class=\"dataframe\">\n",
       "  <thead>\n",
       "    <tr style=\"text-align: right;\">\n",
       "      <th></th>\n",
       "      <th>epoch</th>\n",
       "      <th>loss</th>\n",
       "      <th>score</th>\n",
       "    </tr>\n",
       "  </thead>\n",
       "  <tbody>\n",
       "    <tr>\n",
       "      <th>23</th>\n",
       "      <td>23</td>\n",
       "      <td>43.315627</td>\n",
       "      <td>83.083815</td>\n",
       "    </tr>\n",
       "    <tr>\n",
       "      <th>12</th>\n",
       "      <td>12</td>\n",
       "      <td>32.924648</td>\n",
       "      <td>82.823337</td>\n",
       "    </tr>\n",
       "    <tr>\n",
       "      <th>33</th>\n",
       "      <td>33</td>\n",
       "      <td>41.870604</td>\n",
       "      <td>82.532731</td>\n",
       "    </tr>\n",
       "    <tr>\n",
       "      <th>41</th>\n",
       "      <td>41</td>\n",
       "      <td>45.744951</td>\n",
       "      <td>82.268254</td>\n",
       "    </tr>\n",
       "    <tr>\n",
       "      <th>43</th>\n",
       "      <td>43</td>\n",
       "      <td>49.297639</td>\n",
       "      <td>82.207657</td>\n",
       "    </tr>\n",
       "    <tr>\n",
       "      <th>22</th>\n",
       "      <td>22</td>\n",
       "      <td>42.464401</td>\n",
       "      <td>82.005549</td>\n",
       "    </tr>\n",
       "    <tr>\n",
       "      <th>20</th>\n",
       "      <td>20</td>\n",
       "      <td>37.656112</td>\n",
       "      <td>82.005549</td>\n",
       "    </tr>\n",
       "    <tr>\n",
       "      <th>19</th>\n",
       "      <td>19</td>\n",
       "      <td>34.510314</td>\n",
       "      <td>81.830764</td>\n",
       "    </tr>\n",
       "    <tr>\n",
       "      <th>15</th>\n",
       "      <td>15</td>\n",
       "      <td>38.225885</td>\n",
       "      <td>81.794528</td>\n",
       "    </tr>\n",
       "    <tr>\n",
       "      <th>44</th>\n",
       "      <td>44</td>\n",
       "      <td>43.496057</td>\n",
       "      <td>81.623464</td>\n",
       "    </tr>\n",
       "  </tbody>\n",
       "</table>\n",
       "</div>"
      ],
      "text/plain": [
       "    epoch       loss      score\n",
       "23     23  43.315627  83.083815\n",
       "12     12  32.924648  82.823337\n",
       "33     33  41.870604  82.532731\n",
       "41     41  45.744951  82.268254\n",
       "43     43  49.297639  82.207657\n",
       "22     22  42.464401  82.005549\n",
       "20     20  37.656112  82.005549\n",
       "19     19  34.510314  81.830764\n",
       "15     15  38.225885  81.794528\n",
       "44     44  43.496057  81.623464"
      ]
     },
     "execution_count": 29,
     "metadata": {},
     "output_type": "execute_result"
    }
   ],
   "source": [
    "df_val_fit[\"score\"] =df_val_fit[\"score\"]* 100\n",
    "\n",
    "\n",
    "df_val_fit.sort_values([\"score\"], ascending=False).head(n=10)"
   ]
  },
  {
   "cell_type": "code",
   "execution_count": 30,
   "metadata": {
    "scrolled": true
   },
   "outputs": [
    {
     "data": {
      "image/png": "[encoded data removed]",
      "text/plain": [
       "<Figure size 720x360 with 2 Axes>"
      ]
     },
     "metadata": {},
     "output_type": "display_data"
    }
   ],
   "source": [
    "fig, ax = plt.subplots(1,2, figsize=(10,5))\n",
    "\n",
    "df_train_fit.plot.line(x=\"epoch\", y=\"loss\", ax = ax[0], color =\"blue\")\n",
    "df_train_fit.plot.line(x=\"epoch\", y=\"score\", ax = ax[0], color=\"orange\")\n",
    "ax[0].set_title(\"Training set\")\n",
    "#ax[0].yaxis.set_major_locator(plt.FixedLocator([0,.1,.2,.3,.4,.5,.6, .7,.8,.9,1]))\n",
    "\n",
    "df_val_fit.plot.line(x=\"epoch\", y=\"loss\", ax = ax[1], color=\"blue\")\n",
    "df_val_fit.plot.line(x=\"epoch\", y=\"score\", ax = ax[1], color =\"orange\")\n",
    "ax[1].set_title(\"Validation set\")\n",
    "#ax[1].yaxis.set_major_locator(plt.FixedLocator([0,.1,.2,.3,.4,.5,.6, .7,.8,.9,1]))\n",
    "\n",
    "\n",
    "\n",
    "plt.show()"
   ]
  },
  {
   "cell_type": "markdown",
   "metadata": {},
   "source": [
    "### Threshold "
   ]
  },
  {
   "cell_type": "code",
   "execution_count": 31,
   "metadata": {},
   "outputs": [
    {
     "name": "stdout",
     "output_type": "stream",
     "text": [
      "(0, 25)\n",
      "The F1 score is nan and the accuracy is nan, precision nan, recall nan\n"
     ]
    },
    {
     "name": "stderr",
     "output_type": "stream",
     "text": [
      "/Users/aeg/miniconda/envs/untitled2/lib/python3.6/site-packages/numpy/lib/function_base.py:1128: RuntimeWarning: Mean of empty slice.\n",
      "  avg = a.mean(axis)\n",
      "/Users/aeg/miniconda/envs/untitled2/lib/python3.6/site-packages/numpy/core/_methods.py:80: RuntimeWarning: invalid value encountered in double_scalars\n",
      "  ret = ret.dtype.type(ret / rcount)\n"
     ]
    }
   ],
   "source": [
    "threshold = .00\n",
    "key = keys[0]\n",
    "df_trues = df.query(\"predicted_confidence >  {} and predicted == 'acetylation'\".format(threshold))\n",
    "print(df_trues.shape)\n",
    "\n",
    "from sklearn.metrics import f1_score, accuracy_score,precision_score, recall_score\n",
    "\n",
    "f1 = f1_score(df_trues[\"actual\"], df_trues[\"predicted\"], average=\"macro\")  \n",
    "accuracy = accuracy_score(df_trues[\"actual\"], df_trues[\"predicted\"], sample_weight=None)\n",
    "precision = precision_score(df_trues[\"actual\"], df_trues[\"predicted\"], average=\"macro\", sample_weight=None)\n",
    "recall = recall_score(df_trues[\"actual\"], df_trues[\"predicted\"], average=\"macro\", sample_weight=None)\n",
    "\n",
    "\n",
    "\n",
    "print(\"The F1 score is {} and the accuracy is {}, precision {}, recall {}\".format(f1, accuracy, precision, recall))"
   ]
  },
  {
   "cell_type": "code",
   "execution_count": 35,
   "metadata": {},
   "outputs": [
    {
     "data": {
      "text/plain": [
       "<Figure size 2880x2880 with 0 Axes>"
      ]
     },
     "metadata": {},
     "output_type": "display_data"
    }
   ],
   "source": [
    "interactions = df_trues[\"interactionType\"].unique()\n",
    "#fig, ax = plt.subplots(1, len(interactions), figsize=(40,40), squeeze=False, sharey=True, sharex=True)\n",
    "fig = plt.figure(figsize=(40,40))\n",
    "gs = fig.add_gridspec(7, 1)\n",
    "#ax = fig.add_axes([0,0,1,1])\n",
    "i = 0\n",
    "for interaction in interactions:\n",
    "    print(interaction)\n",
    "    df_interaction_type = df_trues.query(\"interactionType == '{}'\".format(interaction))\n",
    "    ax1 = fig.add_subplot(gs[i, 0])\n",
    "    \n",
    "\n",
    "\n",
    "    f1 = f1_score(df_interaction_type[\"actual\"], df_interaction_type[\"predicted\"], average='macro')  \n",
    "    accuracy = accuracy_score(df_interaction_type[\"actual\"], df_interaction_type[\"predicted\"], sample_weight=None)\n",
    "    skplt.metrics.plot_confusion_matrix(df_interaction_type[\"actual\"], df_interaction_type[\"predicted\"], normalize=False, title = \"{}: F-score {}\".format(interaction,f1), ax= ax1)\n",
    "    \n",
    "#     ax2 = fig.add_subplot(gs[i, 1])\n",
    "#     skplt.metrics.plot_confusion_matrix(df_interaction_type[\"actual\"], df_interaction_type[\"predicted\"], normalize=False, title = \"{}: F-score {}\".format(interaction,f1), ax= ax2)\n",
    "\n",
    "\n",
    "    i += 1\n",
    "    #break\n",
    "\n",
    "plt.savefig(\"confusionmatrix_threshold.jpg\", bbox_inches='tight')\n",
    "    "
   ]
  },
  {
   "cell_type": "markdown",
   "metadata": {},
   "source": [
    "## Filter uniprot not in train"
   ]
  },
  {
   "cell_type": "code",
   "execution_count": 36,
   "metadata": {},
   "outputs": [],
   "source": [
    "df_train = pd.read_json('train_unique_pub_v6_less_negative.json')"
   ]
  },
  {
   "cell_type": "code",
   "execution_count": 37,
   "metadata": {},
   "outputs": [
    {
     "data": {
      "text/plain": [
       "['O43293-1',\n",
       " 'O43293-2',\n",
       " 'O60934',\n",
       " 'P53235',\n",
       " 'P51617',\n",
       " 'Q9NWZ3',\n",
       " 'P51617',\n",
       " 'Q9H0H5',\n",
       " 'Q9H0H5',\n",
       " 'Q9H0H5']"
      ]
     },
     "execution_count": 37,
     "metadata": {},
     "output_type": "execute_result"
    }
   ],
   "source": [
    "df_train['participant1Id'].values.tolist()[0:10]"
   ]
  },
  {
   "cell_type": "code",
   "execution_count": 38,
   "metadata": {},
   "outputs": [],
   "source": [
    "train_uniprot = set(df_train['participant1Id'].values.tolist()).union(set(df_train['participant2Id'].values.tolist()))"
   ]
  },
  {
   "cell_type": "code",
   "execution_count": 39,
   "metadata": {},
   "outputs": [],
   "source": [
    "df_filtered_uniprot =df[ df.apply(lambda r : r['participant2Id'] in train_uniprot and  r['participant1Id'] in train_uniprot , axis=1)]"
   ]
  },
  {
   "cell_type": "code",
   "execution_count": 40,
   "metadata": {},
   "outputs": [
    {
     "data": {
      "text/plain": [
       "(454, 25)"
      ]
     },
     "execution_count": 40,
     "metadata": {},
     "output_type": "execute_result"
    }
   ],
   "source": [
    "df_filtered_uniprot.shape"
   ]
  },
  {
   "cell_type": "code",
   "execution_count": 41,
   "metadata": {},
   "outputs": [
    {
     "data": {
      "image/png": "[encoded data removed]",
      "text/plain": [
       "<Figure size 432x288 with 2 Axes>"
      ]
     },
     "metadata": {},
     "output_type": "display_data"
    }
   ],
   "source": [
    "import matplotlib.pyplot as plt\n",
    "import scikitplot as skplt\n",
    "\n",
    "skplt.metrics.plot_confusion_matrix(df_filtered_uniprot[\"actual\"], df_filtered_uniprot[\"predicted\"], normalize=False )\n",
    "plt.show()"
   ]
  },
  {
   "cell_type": "code",
   "execution_count": 42,
   "metadata": {},
   "outputs": [
    {
     "name": "stdout",
     "output_type": "stream",
     "text": [
      "The F1 score is 0.7473684210526317 and the accuracy is 0.8942731277533039\n"
     ]
    }
   ],
   "source": [
    "from sklearn.metrics import f1_score, accuracy_score\n",
    "\n",
    "f1 = f1_score(df_filtered_uniprot[\"actual\"], df_filtered_uniprot[\"predicted\"], sample_weight=None)  \n",
    "accuracy = accuracy_score(df_filtered_uniprot[\"actual\"], df_filtered_uniprot[\"predicted\"], sample_weight=None)\n",
    "print(\"The F1 score is {} and the accuracy is {}\".format(f1, accuracy))\n",
    "\n",
    "\n"
   ]
  },
  {
   "cell_type": "code",
   "execution_count": null,
   "metadata": {},
   "outputs": [],
   "source": [
    "from sklearn.metrics import f1_score, accuracy_score\n",
    "\n",
    "f1 = f1_score(df_filtered_missing_uniprot[\"actual\"], df_filtered_missing_uniprot[\"predicted\"], sample_weight=None)  \n",
    "accuracy = accuracy_score(df_filtered_missing_uniprot[\"actual\"], df_filtered_missing_uniprot[\"predicted\"], sample_weight=None)\n",
    "print(\"The F1 score is {} and the accuracy is {}\".format(f1, accuracy))"
   ]
  },
  {
   "cell_type": "markdown",
   "metadata": {},
   "source": [
    "## Variation Bert"
   ]
  },
  {
   "cell_type": "code",
   "execution_count": 44,
   "metadata": {},
   "outputs": [],
   "source": [
    "#precision, recall, fscore\n",
    "val_scores = {\n",
    "    \"ppi-bert-untype-2019-11-05-08-14-14-416-copy-3/algo-1-1573202144\":[0.804347826,0.704761905,0.751269036],\n",
    "    \"ppi-bert-untype-2019-11-05-08-14-14-416-copy-2/algo-1-1573202128\": [0.694736842,0.628571429,0.66],\n",
    "    \"ppi-bert-untype-2019-11-05-08-14-14-416-copy-11-08/algo-1-1573202119\":[0.752293578,0.780952381,0.76635514],\n",
    "    \"ppi-bert-untype-2019-11-05-08-14-14-416-copy-5/algo-1-1573264923\": [0.7346938775510204, 0.6857142857142857, 0.7093596059113301],\n",
    "    \"ppi-bert-untype-2019-11-05-08-14-14-416-copy-6/algo-1-1573264942\":[0.75, 0.7714285714285715, 0.7605633802816902],\n",
    "    \"ppi-bert-untype-2019-11-05-08-14-14-416-copy-7/algo-1-1573264962\": [0.7217391304347827, 0.7904761904761904, 0.7545454545454545],\n",
    "    \"ppi-bert-untype-2019-11-05-08-14-14-416-copy-8/algo-1-1573264983\": [0.7373737373737373, 0.6952380952380952, 0.7156862745098039],\n",
    "    \"ppi-bert-untype-2019-11-05-08-14-14-416-copy-9/algo-1-1573264997\":[0.75, 0.6857142857142857, 0.7164179104477612],\n",
    "    \"ppi-bert-untype-2019-11-05-08-14-14-416-copy-10/algo-1-1573265016\":[0.7155963302752294, 0.7428571428571429, 0.7289719626168223],\n",
    "    \"ppi-bert-untype-2019-11-05-08-14-14-416/algo-1-1572941791\":[0.7155963302752294, 0.7428571428571429, 0.7289719626168223]\n",
    "}"
   ]
  },
  {
   "cell_type": "code",
   "execution_count": 45,
   "metadata": {},
   "outputs": [],
   "source": [
    "import pandas as pd\n",
    "\n",
    "def convert_to_df(scores : dict):\n",
    "    score_formatted = []\n",
    "    for k, v in scores.items():\n",
    "        p,r,f1 = v[0], v[1], v[2]\n",
    "        score_formatted.append ({\"key\":k, \"Precision\": p*100, \"Recall\":r*100, \"F1-score\": f1*100})\n",
    "    return pd.DataFrame(score_formatted)\n",
    "    "
   ]
  },
  {
   "cell_type": "code",
   "execution_count": 46,
   "metadata": {},
   "outputs": [],
   "source": [
    "df_val_scores = convert_to_df(val_scores)"
   ]
  },
  {
   "cell_type": "code",
   "execution_count": 47,
   "metadata": {},
   "outputs": [
    {
     "data": {
      "text/html": [
       "<div>\n",
       "<style scoped>\n",
       "    .dataframe tbody tr th:only-of-type {\n",
       "        vertical-align: middle;\n",
       "    }\n",
       "\n",
       "    .dataframe tbody tr th {\n",
       "        vertical-align: top;\n",
       "    }\n",
       "\n",
       "    .dataframe thead th {\n",
       "        text-align: right;\n",
       "    }\n",
       "</style>\n",
       "<table border=\"1\" class=\"dataframe\">\n",
       "  <thead>\n",
       "    <tr style=\"text-align: right;\">\n",
       "      <th></th>\n",
       "      <th>F1-score</th>\n",
       "      <th>Precision</th>\n",
       "      <th>Recall</th>\n",
       "    </tr>\n",
       "  </thead>\n",
       "  <tbody>\n",
       "    <tr>\n",
       "      <th>count</th>\n",
       "      <td>10.000000</td>\n",
       "      <td>10.000000</td>\n",
       "      <td>10.000000</td>\n",
       "    </tr>\n",
       "    <tr>\n",
       "      <th>mean</th>\n",
       "      <td>72.921407</td>\n",
       "      <td>73.763777</td>\n",
       "      <td>72.285714</td>\n",
       "    </tr>\n",
       "    <tr>\n",
       "      <th>std</th>\n",
       "      <td>3.166138</td>\n",
       "      <td>2.989670</td>\n",
       "      <td>5.147362</td>\n",
       "    </tr>\n",
       "    <tr>\n",
       "      <th>min</th>\n",
       "      <td>66.000000</td>\n",
       "      <td>69.473684</td>\n",
       "      <td>62.857143</td>\n",
       "    </tr>\n",
       "    <tr>\n",
       "      <th>25%</th>\n",
       "      <td>71.586918</td>\n",
       "      <td>71.713203</td>\n",
       "      <td>68.809524</td>\n",
       "    </tr>\n",
       "    <tr>\n",
       "      <th>50%</th>\n",
       "      <td>72.897196</td>\n",
       "      <td>73.603381</td>\n",
       "      <td>72.380952</td>\n",
       "    </tr>\n",
       "    <tr>\n",
       "      <th>75%</th>\n",
       "      <td>75.372635</td>\n",
       "      <td>75.000000</td>\n",
       "      <td>76.428571</td>\n",
       "    </tr>\n",
       "    <tr>\n",
       "      <th>max</th>\n",
       "      <td>76.635514</td>\n",
       "      <td>80.434783</td>\n",
       "      <td>79.047619</td>\n",
       "    </tr>\n",
       "  </tbody>\n",
       "</table>\n",
       "</div>"
      ],
      "text/plain": [
       "        F1-score  Precision     Recall\n",
       "count  10.000000  10.000000  10.000000\n",
       "mean   72.921407  73.763777  72.285714\n",
       "std     3.166138   2.989670   5.147362\n",
       "min    66.000000  69.473684  62.857143\n",
       "25%    71.586918  71.713203  68.809524\n",
       "50%    72.897196  73.603381  72.380952\n",
       "75%    75.372635  75.000000  76.428571\n",
       "max    76.635514  80.434783  79.047619"
      ]
     },
     "execution_count": 47,
     "metadata": {},
     "output_type": "execute_result"
    }
   ],
   "source": [
    "df_val_scores.describe()"
   ]
  },
  {
   "cell_type": "code",
   "execution_count": 48,
   "metadata": {},
   "outputs": [
    {
     "data": {
      "text/plain": [
       "<matplotlib.axes._subplots.AxesSubplot at 0x1a253f3f28>"
      ]
     },
     "execution_count": 48,
     "metadata": {},
     "output_type": "execute_result"
    },
    {
     "data": {
      "image/png": "[encoded data removed]",
      "text/plain": [
       "<Figure size 432x288 with 1 Axes>"
      ]
     },
     "metadata": {},
     "output_type": "display_data"
    }
   ],
   "source": [
    "df_val_scores[[\"Precision\", \"Recall\", \"F1-score\"]].boxplot()"
   ]
  },
  {
   "cell_type": "code",
   "execution_count": 66,
   "metadata": {},
   "outputs": [
    {
     "name": "stdout",
     "output_type": "stream",
     "text": [
      "CPU times: user 2.14 s, sys: 221 ms, total: 2.36 s\n",
      "Wall time: 1min 3s\n"
     ]
    }
   ],
   "source": [
    "%%time \n",
    "\n",
    "s3_model_paths = []\n",
    "for k in val_scores:\n",
    "    job_name = k.split(\"/\")[0] \n",
    "    s3_path = s3_model_path_format.format(job_name)\n",
    "    s3_model_paths.append(s3_path)\n",
    "\n",
    "df_test_scores =  get_all_scores(s3_model_paths)"
   ]
  },
  {
   "cell_type": "code",
   "execution_count": 67,
   "metadata": {},
   "outputs": [
    {
     "data": {
      "text/html": [
       "<div>\n",
       "<style scoped>\n",
       "    .dataframe tbody tr th:only-of-type {\n",
       "        vertical-align: middle;\n",
       "    }\n",
       "\n",
       "    .dataframe tbody tr th {\n",
       "        vertical-align: top;\n",
       "    }\n",
       "\n",
       "    .dataframe thead th {\n",
       "        text-align: right;\n",
       "    }\n",
       "</style>\n",
       "<table border=\"1\" class=\"dataframe\">\n",
       "  <thead>\n",
       "    <tr style=\"text-align: right;\">\n",
       "      <th></th>\n",
       "      <th>F1-score</th>\n",
       "      <th>Precision</th>\n",
       "      <th>Recall</th>\n",
       "    </tr>\n",
       "  </thead>\n",
       "  <tbody>\n",
       "    <tr>\n",
       "      <th>count</th>\n",
       "      <td>10.000000</td>\n",
       "      <td>10.000000</td>\n",
       "      <td>10.000000</td>\n",
       "    </tr>\n",
       "    <tr>\n",
       "      <th>mean</th>\n",
       "      <td>71.759196</td>\n",
       "      <td>79.486314</td>\n",
       "      <td>65.679612</td>\n",
       "    </tr>\n",
       "    <tr>\n",
       "      <th>std</th>\n",
       "      <td>2.816175</td>\n",
       "      <td>2.668999</td>\n",
       "      <td>5.213521</td>\n",
       "    </tr>\n",
       "    <tr>\n",
       "      <th>min</th>\n",
       "      <td>65.306122</td>\n",
       "      <td>77.005348</td>\n",
       "      <td>54.368932</td>\n",
       "    </tr>\n",
       "    <tr>\n",
       "      <th>25%</th>\n",
       "      <td>71.172793</td>\n",
       "      <td>77.980071</td>\n",
       "      <td>63.470874</td>\n",
       "    </tr>\n",
       "    <tr>\n",
       "      <th>50%</th>\n",
       "      <td>72.229248</td>\n",
       "      <td>78.135853</td>\n",
       "      <td>66.019417</td>\n",
       "    </tr>\n",
       "    <tr>\n",
       "      <th>75%</th>\n",
       "      <td>73.260801</td>\n",
       "      <td>80.904512</td>\n",
       "      <td>68.567961</td>\n",
       "    </tr>\n",
       "    <tr>\n",
       "      <th>max</th>\n",
       "      <td>75.810474</td>\n",
       "      <td>85.256410</td>\n",
       "      <td>73.786408</td>\n",
       "    </tr>\n",
       "  </tbody>\n",
       "</table>\n",
       "</div>"
      ],
      "text/plain": [
       "        F1-score  Precision     Recall\n",
       "count  10.000000  10.000000  10.000000\n",
       "mean   71.759196  79.486314  65.679612\n",
       "std     2.816175   2.668999   5.213521\n",
       "min    65.306122  77.005348  54.368932\n",
       "25%    71.172793  77.980071  63.470874\n",
       "50%    72.229248  78.135853  66.019417\n",
       "75%    73.260801  80.904512  68.567961\n",
       "max    75.810474  85.256410  73.786408"
      ]
     },
     "execution_count": 67,
     "metadata": {},
     "output_type": "execute_result"
    }
   ],
   "source": [
    "df_test_scores.describe()"
   ]
  },
  {
   "cell_type": "code",
   "execution_count": 79,
   "metadata": {},
   "outputs": [
    {
     "data": {
      "image/png": "[encoded data removed]",
      "text/plain": [
       "<Figure size 720x360 with 2 Axes>"
      ]
     },
     "metadata": {},
     "output_type": "display_data"
    }
   ],
   "source": [
    "\n",
    "fig, ax = plt.subplots(1,2, figsize=(10, 5))\n",
    "\n",
    "df_test_scores[[\"Precision\", \"Recall\", \"F1-score\"]].boxplot(ax=ax[0])\n",
    "df_test_scores[[\"Precision\", \"Recall\", \"F1-score\"]].plot(ax = ax[1])\n",
    "\n",
    "plt.savefig(\"score_variation.jpg\", bbox_inches='tight')\n",
    "\n"
   ]
  }
 ],
 "metadata": {
  "kernelspec": {
   "display_name": "Python 3",
   "language": "python",
   "name": "python3"
  },
  "language_info": {
   "codemirror_mode": {
    "name": "ipython",
    "version": 3
   },
   "file_extension": ".py",
   "mimetype": "text/x-python",
   "name": "python",
   "nbconvert_exporter": "python",
   "pygments_lexer": "ipython3",
   "version": "3.6.4"
  }
 },
 "nbformat": 4,
 "nbformat_minor": 2
}
