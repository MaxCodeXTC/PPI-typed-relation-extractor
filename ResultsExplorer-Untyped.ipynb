{
 "cells": [
  {
   "cell_type": "code",
   "execution_count": 1,
   "metadata": {},
   "outputs": [],
   "source": [
    "s3_data =\"s3://aegovan-data/processed_dataset/test_unique_negative_entity_only.json\"\n",
    "model_s3_path=\"s3://aegovan-data/results/ppi-bert-untype-2019-11-05-08-14-14-416/output/output.tar.gz\"\n",
    "\n",
    "s3_model_path_format = \"s3://aegovan-data/results/{}/output/output.tar.gz\""
   ]
  },
  {
   "cell_type": "code",
   "execution_count": 2,
   "metadata": {},
   "outputs": [
    {
     "name": "stdout",
     "output_type": "stream",
     "text": [
      "Requirement already satisfied: scikit-plot==0.3.7 in /Users/aeg/miniconda/envs/kegg_env/lib/python3.7/site-packages (0.3.7)\n",
      "Requirement already satisfied: scikit-learn>=0.18 in /Users/aeg/miniconda/envs/kegg_env/lib/python3.7/site-packages (from scikit-plot==0.3.7) (0.21.2)\n",
      "Requirement already satisfied: scipy>=0.9 in /Users/aeg/miniconda/envs/kegg_env/lib/python3.7/site-packages (from scikit-plot==0.3.7) (1.3.2)\n",
      "Requirement already satisfied: matplotlib>=1.4.0 in /Users/aeg/miniconda/envs/kegg_env/lib/python3.7/site-packages (from scikit-plot==0.3.7) (3.0.0)\n",
      "Requirement already satisfied: joblib>=0.10 in /Users/aeg/miniconda/envs/kegg_env/lib/python3.7/site-packages (from scikit-plot==0.3.7) (0.14.0)\n",
      "Requirement already satisfied: numpy>=1.11.0 in /Users/aeg/miniconda/envs/kegg_env/lib/python3.7/site-packages (from scikit-learn>=0.18->scikit-plot==0.3.7) (1.17.4)\n",
      "Requirement already satisfied: kiwisolver>=1.0.1 in /Users/aeg/miniconda/envs/kegg_env/lib/python3.7/site-packages (from matplotlib>=1.4.0->scikit-plot==0.3.7) (1.1.0)\n",
      "Requirement already satisfied: python-dateutil>=2.1 in /Users/aeg/miniconda/envs/kegg_env/lib/python3.7/site-packages (from matplotlib>=1.4.0->scikit-plot==0.3.7) (2.8.0)\n",
      "Requirement already satisfied: cycler>=0.10 in /Users/aeg/miniconda/envs/kegg_env/lib/python3.7/site-packages (from matplotlib>=1.4.0->scikit-plot==0.3.7) (0.10.0)\n",
      "Requirement already satisfied: pyparsing!=2.0.4,!=2.1.2,!=2.1.6,>=2.0.1 in /Users/aeg/miniconda/envs/kegg_env/lib/python3.7/site-packages (from matplotlib>=1.4.0->scikit-plot==0.3.7) (2.4.5)\n",
      "Requirement already satisfied: setuptools in /Users/aeg/miniconda/envs/kegg_env/lib/python3.7/site-packages (from kiwisolver>=1.0.1->matplotlib>=1.4.0->scikit-plot==0.3.7) (41.6.0)\n",
      "Requirement already satisfied: six>=1.5 in /Users/aeg/miniconda/envs/kegg_env/lib/python3.7/site-packages (from python-dateutil>=2.1->matplotlib>=1.4.0->scikit-plot==0.3.7) (1.13.0)\n",
      "\u001b[33mWARNING: You are using pip version 19.3.1; however, version 20.0.2 is available.\n",
      "You should consider upgrading via the 'pip install --upgrade pip' command.\u001b[0m\n"
     ]
    }
   ],
   "source": [
    "!pip install scikit-plot==0.3.7"
   ]
  },
  {
   "cell_type": "code",
   "execution_count": 3,
   "metadata": {},
   "outputs": [],
   "source": [
    "import tarfile\n",
    "import pandas as pd\n",
    "import json\n",
    "from pandas.io.json import json_normalize\n",
    "import tempfile \n",
    "import os\n",
    "import boto3\n",
    "import matplotlib.pyplot as plt\n",
    "import glob\n",
    "from sklearn.metrics import f1_score, accuracy_score,precision_score, recall_score\n",
    "import scikitplot as skplt\n",
    "\n",
    "\n",
    "\n"
   ]
  },
  {
   "cell_type": "code",
   "execution_count": 4,
   "metadata": {},
   "outputs": [],
   "source": [
    "\n",
    "\n",
    "pd.set_option('display.max_columns', None)\n",
    "pd.set_option('display.max_colwidth', 10000)\n",
    "pd.set_option('display.max_rows', 100)\n",
    "\n",
    "plt.rcParams.update({'font.size': 12})"
   ]
  },
  {
   "cell_type": "code",
   "execution_count": 5,
   "metadata": {},
   "outputs": [],
   "source": [
    "\n",
    "def download_single_file(bucket_name_path, local_path):\n",
    "    index = bucket_name_path.find(\"://\")\n",
    "\n",
    "    # remove the s3:// if present\n",
    "    if index > -1:\n",
    "        bucket_name_path = bucket_name_path[index + 3:]\n",
    "\n",
    "    key_start_index = bucket_name_path.find(\"/\")\n",
    "    bucket_name = bucket_name_path\n",
    "    key = \"/\"\n",
    "    if key_start_index > -1:\n",
    "        bucket_name = bucket_name_path[0:key_start_index]\n",
    "        key = bucket_name_path[key_start_index + 1:]\n",
    "        \n",
    "    client = boto3.resource('s3')\n",
    "    client.Bucket(bucket_name).download_file(key, local_path)\n",
    "\n"
   ]
  },
  {
   "cell_type": "code",
   "execution_count": 6,
   "metadata": {},
   "outputs": [],
   "source": [
    "def load_scores_as_df (file):\n",
    "    with open(file, \"r\") as i:\n",
    "        data = json.loads(i.read())\n",
    "        \n",
    "    return json_normalize(data)"
   ]
  },
  {
   "cell_type": "code",
   "execution_count": 7,
   "metadata": {},
   "outputs": [],
   "source": [
    "\n",
    "\n",
    "def get_predictions(s3_path):\n",
    "    tmp_dir = tempfile.mkdtemp()\n",
    "    outfile = os.path.join(tmp_dir, \"output.tar.gz\" )\n",
    "    download_single_file(s3_path, outfile)\n",
    "    tf = tarfile.open(outfile)\n",
    "    tf.extractall(path=tmp_dir)\n",
    "    test_input_file = os.path.join(tmp_dir, \"predicted.json\")\n",
    "\n",
    "\n",
    "    df_results =  pd.read_json(test_input_file)\n",
    "    df_results[\"actual\"] = df_results[\"isValid\"]\n",
    "    \n",
    "    validation_fit_file = glob.glob(\"{}/validation_scores_epoch_Objectdump*.json\".format(tmp_dir))[0]\n",
    "    train_fit_file = glob.glob(\"{}/training_scores_epoch_Objectdump*.json\".format(tmp_dir))[0]\n",
    "\n",
    "    df_val_fit = load_scores_as_df(validation_fit_file)\n",
    "    df_train_fit = load_scores_as_df(train_fit_file)\n",
    "\n",
    "\n",
    "\n",
    "    return df_results, df_val_fit, df_train_fit"
   ]
  },
  {
   "cell_type": "code",
   "execution_count": 8,
   "metadata": {},
   "outputs": [],
   "source": [
    "\n",
    "def convert_scores_to_df(scores : dict):\n",
    "    score_formatted = []\n",
    "    for k, v in scores.items():\n",
    "        p,r,f1 = v[0], v[1], v[2]\n",
    "        score_formatted.append ({\"key\":k, \"Precision\": p*100, \"Recall\":r*100, \"F1-score\": f1*100})\n",
    "    return pd.DataFrame(score_formatted)"
   ]
  },
  {
   "cell_type": "code",
   "execution_count": 9,
   "metadata": {},
   "outputs": [],
   "source": [
    "def get_all_scores (list_of_s3_path):\n",
    "    scores = []\n",
    "\n",
    "    for s3_path in list_of_s3_path:\n",
    "        df,_,_ = get_predictions(s3_path) \n",
    "        score = {}\n",
    "        score[\"key\"]=s3_path\n",
    "        score[\"F1-score\"] = 100*f1_score(df[\"actual\"], df[\"predicted\"], average='binary' ,sample_weight=None)  \n",
    "        score[\"Precision\"]  =100* precision_score(df[\"actual\"], df[\"predicted\"], average='binary' ,sample_weight=None)  \n",
    "        score[\"Recall\"] = 100*recall_score(df[\"actual\"], df[\"predicted\"], average='binary' ,sample_weight=None)  \n",
    "        scores.append(score)\n",
    "        \n",
    "    return pd.DataFrame(scores)\n",
    "\n",
    "\n"
   ]
  },
  {
   "cell_type": "code",
   "execution_count": 10,
   "metadata": {},
   "outputs": [],
   "source": [
    "\n",
    "pos_label = True\n",
    "df_results, df_val_fit, df_train_fit = get_predictions(model_s3_path)"
   ]
  },
  {
   "cell_type": "code",
   "execution_count": 11,
   "metadata": {},
   "outputs": [
    {
     "data": {
      "text/plain": [
       "Index(['entityMentionsCount', 'hasTriggerWord', 'interactionId',\n",
       "       'interactionType', 'isValid', 'lessThanThreshold', 'participant1Alias',\n",
       "       'participant1Id', 'participant2Alias', 'participant2Id',\n",
       "       'participants_count', 'pubmedId', 'pubmedTitle', 'pubmedabstract',\n",
       "       'normalised_abstract', 'particpant1Exists', 'particpant2Exists',\n",
       "       'bothParticpantsExist', 'noParticpantsExist', 'predicted',\n",
       "       'confidence_scores', 'actual'],\n",
       "      dtype='object')"
      ]
     },
     "execution_count": 11,
     "metadata": {},
     "output_type": "execute_result"
    }
   ],
   "source": [
    "df_results.columns\n"
   ]
  },
  {
   "cell_type": "code",
   "execution_count": 12,
   "metadata": {},
   "outputs": [
    {
     "data": {
      "text/plain": [
       "(894, 22)"
      ]
     },
     "execution_count": 12,
     "metadata": {},
     "output_type": "execute_result"
    }
   ],
   "source": [
    "df_results.shape"
   ]
  },
  {
   "cell_type": "code",
   "execution_count": 13,
   "metadata": {
    "scrolled": false
   },
   "outputs": [
    {
     "data": {
      "text/html": [
       "<div>\n",
       "<style scoped>\n",
       "    .dataframe tbody tr th:only-of-type {\n",
       "        vertical-align: middle;\n",
       "    }\n",
       "\n",
       "    .dataframe tbody tr th {\n",
       "        vertical-align: top;\n",
       "    }\n",
       "\n",
       "    .dataframe thead th {\n",
       "        text-align: right;\n",
       "    }\n",
       "</style>\n",
       "<table border=\"1\" class=\"dataframe\">\n",
       "  <thead>\n",
       "    <tr style=\"text-align: right;\">\n",
       "      <th></th>\n",
       "      <th>entityMentionsCount</th>\n",
       "      <th>hasTriggerWord</th>\n",
       "      <th>interactionId</th>\n",
       "      <th>interactionType</th>\n",
       "      <th>isValid</th>\n",
       "      <th>lessThanThreshold</th>\n",
       "      <th>participant1Alias</th>\n",
       "      <th>participant1Id</th>\n",
       "      <th>participant2Alias</th>\n",
       "      <th>participant2Id</th>\n",
       "      <th>participants_count</th>\n",
       "      <th>pubmedId</th>\n",
       "      <th>pubmedTitle</th>\n",
       "      <th>pubmedabstract</th>\n",
       "      <th>normalised_abstract</th>\n",
       "      <th>particpant1Exists</th>\n",
       "      <th>particpant2Exists</th>\n",
       "      <th>bothParticpantsExist</th>\n",
       "      <th>noParticpantsExist</th>\n",
       "      <th>predicted</th>\n",
       "      <th>confidence_scores</th>\n",
       "      <th>actual</th>\n",
       "    </tr>\n",
       "  </thead>\n",
       "  <tbody>\n",
       "    <tr>\n",
       "      <th>0</th>\n",
       "      <td>5</td>\n",
       "      <td>True</td>\n",
       "      <td>1012878_e8728d51-a879-40dd-9f42-aeb3aa715354_fake_annot</td>\n",
       "      <td>dephosphorylation</td>\n",
       "      <td>False</td>\n",
       "      <td>True</td>\n",
       "      <td>[PP2A]</td>\n",
       "      <td>Q15257</td>\n",
       "      <td>[MAPK/ERK kinase kinase 3, MEKK3]</td>\n",
       "      <td>Q99759</td>\n",
       "      <td>2</td>\n",
       "      <td>16407301</td>\n",
       "      <td>None</td>\n",
       "      <td>MAPK/ERK kinase kinase 3 (MEKK3) is a mitogen-activated protein kinase kinase kinase (MAP3K) that functions upstream of the MAP kinases and IkappaB kinase. Phosphorylation is believed to be a critical component for MEKK3-dependent signal transduction, but little is known about the phosphorylation sites of this MAP3K. To address this question, point mutations were introduced in the activation loop (T-loop), substituting alanine for serine or threonine, and the mutants were transfected into HEK293 Epstein-Barr virus nuclear antigen cells. MEKK3-dependent activation of an NF-kappaB reporter gene as well as ERK, JNK, and p38 MAP kinases correlated with a requirement for serine at position 526. Constitutively active mutants of MEKK3, consisting of S526D and S526E, were capable of activating a NF-kappaB luciferase reporter gene as well as ERK and MEK, suggesting that a negative charge at Ser526 was necessary for MEKK3 activity and implicating Ser526 as a phosphorylation site. An antibody was developed that specifically recognized phospho-Ser526 of MEKK3 but did not recognize the S526A point mutant. The catalytically inactive (K391M) mutant of MEKK3 was not phosphorylated at Ser526, indicating that phosphorylation of Ser526 occurs via autophosphorylation. Endogenous MEKK3 was phosphorylated on Ser526 in response to osmotic stress. In addition, phosphorylation of Ser526 was required for MKK6 phosphorylation in vitro, whereas dephosphorylation of Ser526 was mediated by protein phosphatase 2A and sensitive to okadaic acid and sodium fluoride. Finally, the association between MEKK3 and 14-3-3 was dependent on Ser526 and prevented dephosphorylation of Ser526. In summary, Ser526 of MEKK3 is an autophosphorylation site within the T-loop that is regulated by PP2A and 14-3-3 proteins.</td>\n",
       "      <td>Q99759 (Q99759) is a mitogen-activated protein kinase kinase kinase (MAP3K) that functions upstream of the MAP kinases and IkappaB kinase. Phosphorylation is believed to be a critical component for Q99759-dependent signal transduction, but little is known about the phosphorylation sites of this MAP3K. To address this question, point mutations were introduced in the activation loop (T-loop), substituting alanine for serine or threonine, and the mutants were transfected into HEK293 Epstein-Barr virus nuclear antigen cells. Q99759-dependent activation of an NF-kappaB reporter gene as well as ERK, JNK, and Q16539 MAP kinases correlated with a requirement for serine at position 526. Constitutively active mutants of Q99759, consisting of S526D and S526E, were capable of activating a NF-kappaB luciferase reporter gene as well as ERK and O14733, suggesting that a negative charge at Ser526 was necessary for Q99759 activity and implicating Ser526 as a phosphorylation site. An antibody was developed that specifically recognized phospho-Ser526 of Q99759 but did not recognize the S526A point mutant. The catalytically inactive (K391M) mutant of Q99759 was not phosphorylated at Ser526, indicating that phosphorylation of Ser526 occurs via autophosphorylation. Endogenous Q99759 was phosphorylated on Ser526 in response to osmotic stress. In addition, phosphorylation of Ser526 was required for P52564 phosphorylation in vitro, whereas dephosphorylation of Ser526 was mediated by protein phosphatase 2A and sensitive to okadaic acid and sodium fluoride. Finally, the association between Q99759 and 14-3-3 was dependent on Ser526 and prevented dephosphorylation of Ser526. In summary, Ser526 of Q99759 is an autophosphorylation site within the T-loop that is regulated by Q15257 and 14-3-3 proteins.</td>\n",
       "      <td>False</td>\n",
       "      <td>True</td>\n",
       "      <td>False</td>\n",
       "      <td>False</td>\n",
       "      <td>True</td>\n",
       "      <td>{'False': -3.5538949966, 'True': 2.8602070808}</td>\n",
       "      <td>False</td>\n",
       "    </tr>\n",
       "  </tbody>\n",
       "</table>\n",
       "</div>"
      ],
      "text/plain": [
       "   entityMentionsCount  hasTriggerWord  \\\n",
       "0                    5            True   \n",
       "\n",
       "                                             interactionId    interactionType  \\\n",
       "0  1012878_e8728d51-a879-40dd-9f42-aeb3aa715354_fake_annot  dephosphorylation   \n",
       "\n",
       "   isValid  lessThanThreshold participant1Alias participant1Id  \\\n",
       "0    False               True            [PP2A]         Q15257   \n",
       "\n",
       "                   participant2Alias participant2Id  participants_count  \\\n",
       "0  [MAPK/ERK kinase kinase 3, MEKK3]         Q99759                   2   \n",
       "\n",
       "   pubmedId pubmedTitle  \\\n",
       "0  16407301        None   \n",
       "\n",
       "                                                                                                                                                                                                                                                                                                                                                                                                                                                                                                                                                                                                                                                                                                                                                                                                                                                                                                                                                                                                                                                                                                                                                                                                                                                                                                                                                                                                                                                                                                                                                                                                                                                                                                                                                                                                                                                            pubmedabstract  \\\n",
       "0  MAPK/ERK kinase kinase 3 (MEKK3) is a mitogen-activated protein kinase kinase kinase (MAP3K) that functions upstream of the MAP kinases and IkappaB kinase. Phosphorylation is believed to be a critical component for MEKK3-dependent signal transduction, but little is known about the phosphorylation sites of this MAP3K. To address this question, point mutations were introduced in the activation loop (T-loop), substituting alanine for serine or threonine, and the mutants were transfected into HEK293 Epstein-Barr virus nuclear antigen cells. MEKK3-dependent activation of an NF-kappaB reporter gene as well as ERK, JNK, and p38 MAP kinases correlated with a requirement for serine at position 526. Constitutively active mutants of MEKK3, consisting of S526D and S526E, were capable of activating a NF-kappaB luciferase reporter gene as well as ERK and MEK, suggesting that a negative charge at Ser526 was necessary for MEKK3 activity and implicating Ser526 as a phosphorylation site. An antibody was developed that specifically recognized phospho-Ser526 of MEKK3 but did not recognize the S526A point mutant. The catalytically inactive (K391M) mutant of MEKK3 was not phosphorylated at Ser526, indicating that phosphorylation of Ser526 occurs via autophosphorylation. Endogenous MEKK3 was phosphorylated on Ser526 in response to osmotic stress. In addition, phosphorylation of Ser526 was required for MKK6 phosphorylation in vitro, whereas dephosphorylation of Ser526 was mediated by protein phosphatase 2A and sensitive to okadaic acid and sodium fluoride. Finally, the association between MEKK3 and 14-3-3 was dependent on Ser526 and prevented dephosphorylation of Ser526. In summary, Ser526 of MEKK3 is an autophosphorylation site within the T-loop that is regulated by PP2A and 14-3-3 proteins.   \n",
       "\n",
       "                                                                                                                                                                                                                                                                                                                                                                                                                                                                                                                                                                                                                                                                                                                                                                                                                                                                                                                                                                                                                                                                                                                                                                                                                                                                                                                                                                                                                                                                                                                                                                                                                                                                                                                                                                                                                                                         normalised_abstract  \\\n",
       "0  Q99759 (Q99759) is a mitogen-activated protein kinase kinase kinase (MAP3K) that functions upstream of the MAP kinases and IkappaB kinase. Phosphorylation is believed to be a critical component for Q99759-dependent signal transduction, but little is known about the phosphorylation sites of this MAP3K. To address this question, point mutations were introduced in the activation loop (T-loop), substituting alanine for serine or threonine, and the mutants were transfected into HEK293 Epstein-Barr virus nuclear antigen cells. Q99759-dependent activation of an NF-kappaB reporter gene as well as ERK, JNK, and Q16539 MAP kinases correlated with a requirement for serine at position 526. Constitutively active mutants of Q99759, consisting of S526D and S526E, were capable of activating a NF-kappaB luciferase reporter gene as well as ERK and O14733, suggesting that a negative charge at Ser526 was necessary for Q99759 activity and implicating Ser526 as a phosphorylation site. An antibody was developed that specifically recognized phospho-Ser526 of Q99759 but did not recognize the S526A point mutant. The catalytically inactive (K391M) mutant of Q99759 was not phosphorylated at Ser526, indicating that phosphorylation of Ser526 occurs via autophosphorylation. Endogenous Q99759 was phosphorylated on Ser526 in response to osmotic stress. In addition, phosphorylation of Ser526 was required for P52564 phosphorylation in vitro, whereas dephosphorylation of Ser526 was mediated by protein phosphatase 2A and sensitive to okadaic acid and sodium fluoride. Finally, the association between Q99759 and 14-3-3 was dependent on Ser526 and prevented dephosphorylation of Ser526. In summary, Ser526 of Q99759 is an autophosphorylation site within the T-loop that is regulated by Q15257 and 14-3-3 proteins.   \n",
       "\n",
       "   particpant1Exists  particpant2Exists  bothParticpantsExist  \\\n",
       "0              False               True                 False   \n",
       "\n",
       "   noParticpantsExist  predicted  \\\n",
       "0               False       True   \n",
       "\n",
       "                                confidence_scores  actual  \n",
       "0  {'False': -3.5538949966, 'True': 2.8602070808}   False  "
      ]
     },
     "execution_count": 13,
     "metadata": {},
     "output_type": "execute_result"
    }
   ],
   "source": [
    "df_results.head(n=1)"
   ]
  },
  {
   "cell_type": "markdown",
   "metadata": {},
   "source": [
    "## Analyse Results"
   ]
  },
  {
   "cell_type": "code",
   "execution_count": 14,
   "metadata": {},
   "outputs": [],
   "source": [
    "df = df_results"
   ]
  },
  {
   "cell_type": "code",
   "execution_count": 15,
   "metadata": {},
   "outputs": [
    {
     "data": {
      "text/plain": [
       "(894, 22)"
      ]
     },
     "execution_count": 15,
     "metadata": {},
     "output_type": "execute_result"
    }
   ],
   "source": [
    "df_results.shape"
   ]
  },
  {
   "cell_type": "code",
   "execution_count": 16,
   "metadata": {},
   "outputs": [],
   "source": [
    "keys = list(df[\"confidence_scores\"][0].keys())"
   ]
  },
  {
   "cell_type": "code",
   "execution_count": 17,
   "metadata": {},
   "outputs": [],
   "source": [
    "import math\n",
    "\n",
    "# This is log softmax, convert to softmax prob\n",
    "for k in keys:\n",
    "    df[k]  =df[\"confidence_scores\"].apply(lambda x: math.exp(x[k]))\n",
    "    df[k]  =df[\"confidence_scores\"].apply(lambda x: math.exp(x[k]))\n",
    "\n",
    "df[\"predicted_confidence\"] = df.apply(lambda r: max(r[ keys]/ sum(r[ keys])), axis=1 )"
   ]
  },
  {
   "cell_type": "code",
   "execution_count": 18,
   "metadata": {},
   "outputs": [
    {
     "data": {
      "text/html": [
       "<div>\n",
       "<style scoped>\n",
       "    .dataframe tbody tr th:only-of-type {\n",
       "        vertical-align: middle;\n",
       "    }\n",
       "\n",
       "    .dataframe tbody tr th {\n",
       "        vertical-align: top;\n",
       "    }\n",
       "\n",
       "    .dataframe thead th {\n",
       "        text-align: right;\n",
       "    }\n",
       "</style>\n",
       "<table border=\"1\" class=\"dataframe\">\n",
       "  <thead>\n",
       "    <tr style=\"text-align: right;\">\n",
       "      <th></th>\n",
       "      <th>predicted_confidence</th>\n",
       "      <th>False</th>\n",
       "      <th>True</th>\n",
       "    </tr>\n",
       "  </thead>\n",
       "  <tbody>\n",
       "    <tr>\n",
       "      <th>143</th>\n",
       "      <td>0.999897</td>\n",
       "      <td>117.625140</td>\n",
       "      <td>0.012113</td>\n",
       "    </tr>\n",
       "    <tr>\n",
       "      <th>208</th>\n",
       "      <td>0.998887</td>\n",
       "      <td>35.595658</td>\n",
       "      <td>0.039662</td>\n",
       "    </tr>\n",
       "    <tr>\n",
       "      <th>478</th>\n",
       "      <td>0.999911</td>\n",
       "      <td>132.167041</td>\n",
       "      <td>0.011727</td>\n",
       "    </tr>\n",
       "    <tr>\n",
       "      <th>431</th>\n",
       "      <td>0.999902</td>\n",
       "      <td>144.290751</td>\n",
       "      <td>0.014125</td>\n",
       "    </tr>\n",
       "    <tr>\n",
       "      <th>883</th>\n",
       "      <td>0.999858</td>\n",
       "      <td>135.814266</td>\n",
       "      <td>0.019324</td>\n",
       "    </tr>\n",
       "    <tr>\n",
       "      <th>868</th>\n",
       "      <td>0.999034</td>\n",
       "      <td>0.034663</td>\n",
       "      <td>35.862780</td>\n",
       "    </tr>\n",
       "    <tr>\n",
       "      <th>315</th>\n",
       "      <td>0.999911</td>\n",
       "      <td>140.755031</td>\n",
       "      <td>0.012525</td>\n",
       "    </tr>\n",
       "    <tr>\n",
       "      <th>523</th>\n",
       "      <td>0.999448</td>\n",
       "      <td>69.184861</td>\n",
       "      <td>0.038190</td>\n",
       "    </tr>\n",
       "    <tr>\n",
       "      <th>878</th>\n",
       "      <td>0.999557</td>\n",
       "      <td>75.670714</td>\n",
       "      <td>0.033510</td>\n",
       "    </tr>\n",
       "    <tr>\n",
       "      <th>263</th>\n",
       "      <td>0.999917</td>\n",
       "      <td>127.730328</td>\n",
       "      <td>0.010664</td>\n",
       "    </tr>\n",
       "  </tbody>\n",
       "</table>\n",
       "</div>"
      ],
      "text/plain": [
       "     predicted_confidence       False       True\n",
       "143              0.999897  117.625140   0.012113\n",
       "208              0.998887   35.595658   0.039662\n",
       "478              0.999911  132.167041   0.011727\n",
       "431              0.999902  144.290751   0.014125\n",
       "883              0.999858  135.814266   0.019324\n",
       "868              0.999034    0.034663  35.862780\n",
       "315              0.999911  140.755031   0.012525\n",
       "523              0.999448   69.184861   0.038190\n",
       "878              0.999557   75.670714   0.033510\n",
       "263              0.999917  127.730328   0.010664"
      ]
     },
     "execution_count": 18,
     "metadata": {},
     "output_type": "execute_result"
    }
   ],
   "source": [
    "df[ [\"predicted_confidence\"] + keys].sample(n=10)"
   ]
  },
  {
   "cell_type": "code",
   "execution_count": 19,
   "metadata": {},
   "outputs": [
    {
     "name": "stdout",
     "output_type": "stream",
     "text": [
      "{'F1_binary': 0.7239583333333335, 'precision_binary': 0.7808988764044944, 'recall_binary': 0.6747572815533981, 'accuracy': 0.8814317673378076}\n"
     ]
    }
   ],
   "source": [
    "from sklearn.metrics import f1_score, accuracy_score,precision_score, recall_score\n",
    "\n",
    "scores = {}\n",
    "scores[\"F1_binary\"] = f1_score(df[\"actual\"], df[\"predicted\"], average='binary' ,sample_weight=None)  \n",
    "scores[\"precision_binary\"]  = precision_score(df[\"actual\"], df[\"predicted\"], average='binary' ,sample_weight=None)  \n",
    "scores[\"recall_binary\"] = recall_score(df[\"actual\"], df[\"predicted\"], average='binary' ,sample_weight=None)  \n",
    "\n",
    "\n",
    "\n",
    "\n",
    "\n",
    "scores[\"accuracy\"] = accuracy_score(df[\"actual\"], df[\"predicted\"],sample_weight=None)\n",
    "print(scores)\n",
    "\n"
   ]
  },
  {
   "cell_type": "code",
   "execution_count": 20,
   "metadata": {},
   "outputs": [
    {
     "name": "stdout",
     "output_type": "stream",
     "text": [
      "The F1 score is 0.824229878917379 and the accuracy is 0.8814317673378076\n"
     ]
    }
   ],
   "source": [
    "\n",
    "accuracy = accuracy_score(df[\"actual\"], df[\"predicted\"], sample_weight=None)\n",
    "f1 = f1_score(df[\"actual\"], df[\"predicted\"],average='macro', sample_weight=None)  \n",
    "\n",
    "\n",
    "\n",
    "print(\"The F1 score is {} and the accuracy is {}\".format(f1, accuracy))\n"
   ]
  },
  {
   "cell_type": "code",
   "execution_count": 21,
   "metadata": {},
   "outputs": [
    {
     "data": {
      "image/png": "[encoded data removed]",
      "text/plain": [
       "<Figure size 504x504 with 2 Axes>"
      ]
     },
     "metadata": {
      "needs_background": "light"
     },
     "output_type": "display_data"
    },
    {
     "data": {
      "image/png": "[encoded data removed]",
      "text/plain": [
       "<Figure size 504x504 with 2 Axes>"
      ]
     },
     "metadata": {
      "needs_background": "light"
     },
     "output_type": "display_data"
    }
   ],
   "source": [
    "import matplotlib.pyplot as plt\n",
    "import scikitplot as skplt\n",
    "\n",
    "# fig = plt.figure(figsize=(7,20))\n",
    "# gs = fig.add_gridspec(2, 1)\n",
    "\n",
    "\n",
    "skplt.metrics.plot_confusion_matrix(df[\"actual\"], df[\"predicted\"], normalize=True , figsize=(7,7),  x_tick_rotation=90)\n",
    "plt.savefig(\"confusionmatrix_normalised.eps\", bbox_inches='tight')\n",
    "\n",
    "skplt.metrics.plot_confusion_matrix(df[\"actual\"], df[\"predicted\"], figsize=(7,7), normalize=False, x_tick_rotation=90 )\n",
    "plt.savefig(\"confusionmatrix_unnormalised.eps\", bbox_inches='tight')\n",
    "\n",
    "\n"
   ]
  },
  {
   "cell_type": "code",
   "execution_count": 22,
   "metadata": {},
   "outputs": [],
   "source": [
    "# from sklearn.metrics import accuracy_score, accuracy_score,recall_score\n",
    "\n",
    "\n",
    "# interactions = df[\"class\"].unique()\n",
    "# interactions.sort()\n",
    "# #fig, ax = plt.subplots(1, len(interactions), figsize=(40,40), squeeze=False, sharey=True, sharex=True)\n",
    "# fig = plt.figure(figsize=(20,20))\n",
    "# gs = fig.add_gridspec(3, 3)\n",
    "# #ax = fig.add_axes([0,0,1,1])\n",
    "# i = 0\n",
    "# avg = 'macro'\n",
    "# for interaction in interactions:\n",
    "#     r = i//3\n",
    "#     c= i % 3\n",
    "#     df_interaction_type = df.query(\"predicted == '{}'\".format(interaction))\n",
    "#     if df_interaction_type.shape[0] == 0: continue\n",
    "#     ax1 = fig.add_subplot(gs[r, c])\n",
    "    \n",
    "\n",
    "\n",
    "#     f1 = f1_score(df_interaction_type[\"actual\"], df_interaction_type[\"predicted\"],average=avg, sample_weight=None)  \n",
    "#     accuracy = accuracy_score(df_interaction_type[\"actual\"], df_interaction_type[\"predicted\"], sample_weight=None)\n",
    "#     precision= precision_score(df_interaction_type[\"actual\"], df_interaction_type[\"predicted\"], average=avg,sample_weight=None)\n",
    "#     recall = recall_score(df_interaction_type[\"actual\"], df_interaction_type[\"predicted\"], average=avg,sample_weight=None)\n",
    "#     skplt.metrics.plot_confusion_matrix(df_interaction_type[\"actual\"], df_interaction_type[\"predicted\"], normalize=False, title = \"{}: \\nPrecision {}, Recall {} \\nF-score {}\".format(interaction,  round(precision*100, 2),round(recall*100, 2), round(f1*100, 2)), ax= ax1)\n",
    "    \n",
    "# #     ax2 = fig.add_subplot(gs[i, 1])\n",
    "# #     skplt.metrics.plot_confusion_matrix(df_interaction_type[\"actual\"], df_interaction_type[\"predicted\"], normalize=False, title = \"{}: F-score {}\".format(interaction,f1), ax= ax2)\n",
    "\n",
    "\n",
    "#     i += 1\n",
    "#     #break\n",
    "\n",
    "# plt.savefig(\"confusionmatrix_.jpg\", bbox_inches='tight')\n",
    "# plt.show()\n",
    "    \n",
    "    \n"
   ]
  },
  {
   "cell_type": "code",
   "execution_count": 23,
   "metadata": {},
   "outputs": [
    {
     "data": {
      "text/plain": [
       "<matplotlib.axes._subplots.AxesSubplot at 0x11b17b3d0>"
      ]
     },
     "execution_count": 23,
     "metadata": {},
     "output_type": "execute_result"
    },
    {
     "data": {
      "image/png": "[encoded data removed]",
      "text/plain": [
       "<Figure size 720x720 with 1 Axes>"
      ]
     },
     "metadata": {
      "needs_background": "light"
     },
     "output_type": "display_data"
    }
   ],
   "source": [
    "\n",
    "\n",
    "skplt.metrics.plot_precision_recall(df[\"actual\"], df[keys], figsize=(10,10))"
   ]
  },
  {
   "cell_type": "code",
   "execution_count": 24,
   "metadata": {},
   "outputs": [
    {
     "data": {
      "text/plain": [
       "<matplotlib.axes._subplots.AxesSubplot at 0x11b16f5d0>"
      ]
     },
     "execution_count": 24,
     "metadata": {},
     "output_type": "execute_result"
    },
    {
     "data": {
      "image/png": "[encoded data removed]",
      "text/plain": [
       "<Figure size 720x720 with 1 Axes>"
      ]
     },
     "metadata": {
      "needs_background": "light"
     },
     "output_type": "display_data"
    }
   ],
   "source": [
    "\n",
    "skplt.metrics.plot_roc(df[\"actual\"], df[keys], figsize=(10,10))"
   ]
  },
  {
   "cell_type": "markdown",
   "metadata": {},
   "source": [
    "## Training / Validation epoch fit"
   ]
  },
  {
   "cell_type": "code",
   "execution_count": 25,
   "metadata": {},
   "outputs": [
    {
     "data": {
      "text/html": [
       "<div>\n",
       "<style scoped>\n",
       "    .dataframe tbody tr th:only-of-type {\n",
       "        vertical-align: middle;\n",
       "    }\n",
       "\n",
       "    .dataframe tbody tr th {\n",
       "        vertical-align: top;\n",
       "    }\n",
       "\n",
       "    .dataframe thead th {\n",
       "        text-align: right;\n",
       "    }\n",
       "</style>\n",
       "<table border=\"1\" class=\"dataframe\">\n",
       "  <thead>\n",
       "    <tr style=\"text-align: right;\">\n",
       "      <th></th>\n",
       "      <th>epoch</th>\n",
       "      <th>loss</th>\n",
       "      <th>score</th>\n",
       "    </tr>\n",
       "  </thead>\n",
       "  <tbody>\n",
       "    <tr>\n",
       "      <th>38</th>\n",
       "      <td>38</td>\n",
       "      <td>0.897991</td>\n",
       "      <td>99.879101</td>\n",
       "    </tr>\n",
       "    <tr>\n",
       "      <th>32</th>\n",
       "      <td>32</td>\n",
       "      <td>1.240311</td>\n",
       "      <td>99.839112</td>\n",
       "    </tr>\n",
       "    <tr>\n",
       "      <th>44</th>\n",
       "      <td>44</td>\n",
       "      <td>0.899853</td>\n",
       "      <td>99.838988</td>\n",
       "    </tr>\n",
       "    <tr>\n",
       "      <th>39</th>\n",
       "      <td>39</td>\n",
       "      <td>0.879323</td>\n",
       "      <td>99.838988</td>\n",
       "    </tr>\n",
       "    <tr>\n",
       "      <th>42</th>\n",
       "      <td>42</td>\n",
       "      <td>0.868681</td>\n",
       "      <td>99.838864</td>\n",
       "    </tr>\n",
       "    <tr>\n",
       "      <th>41</th>\n",
       "      <td>41</td>\n",
       "      <td>0.895303</td>\n",
       "      <td>99.838864</td>\n",
       "    </tr>\n",
       "    <tr>\n",
       "      <th>36</th>\n",
       "      <td>36</td>\n",
       "      <td>0.920220</td>\n",
       "      <td>99.838864</td>\n",
       "    </tr>\n",
       "    <tr>\n",
       "      <th>37</th>\n",
       "      <td>37</td>\n",
       "      <td>1.096133</td>\n",
       "      <td>99.838740</td>\n",
       "    </tr>\n",
       "    <tr>\n",
       "      <th>24</th>\n",
       "      <td>24</td>\n",
       "      <td>1.969661</td>\n",
       "      <td>99.798968</td>\n",
       "    </tr>\n",
       "    <tr>\n",
       "      <th>33</th>\n",
       "      <td>33</td>\n",
       "      <td>1.446311</td>\n",
       "      <td>99.798813</td>\n",
       "    </tr>\n",
       "  </tbody>\n",
       "</table>\n",
       "</div>"
      ],
      "text/plain": [
       "    epoch      loss      score\n",
       "38     38  0.897991  99.879101\n",
       "32     32  1.240311  99.839112\n",
       "44     44  0.899853  99.838988\n",
       "39     39  0.879323  99.838988\n",
       "42     42  0.868681  99.838864\n",
       "41     41  0.895303  99.838864\n",
       "36     36  0.920220  99.838864\n",
       "37     37  1.096133  99.838740\n",
       "24     24  1.969661  99.798968\n",
       "33     33  1.446311  99.798813"
      ]
     },
     "execution_count": 25,
     "metadata": {},
     "output_type": "execute_result"
    }
   ],
   "source": [
    "df_train_fit[\"score\"] =df_train_fit[\"score\"]* 100\n",
    "df_train_fit.sort_values([\"score\"], ascending=False).head(n=10)"
   ]
  },
  {
   "cell_type": "code",
   "execution_count": 26,
   "metadata": {},
   "outputs": [
    {
     "data": {
      "text/html": [
       "<div>\n",
       "<style scoped>\n",
       "    .dataframe tbody tr th:only-of-type {\n",
       "        vertical-align: middle;\n",
       "    }\n",
       "\n",
       "    .dataframe tbody tr th {\n",
       "        vertical-align: top;\n",
       "    }\n",
       "\n",
       "    .dataframe thead th {\n",
       "        text-align: right;\n",
       "    }\n",
       "</style>\n",
       "<table border=\"1\" class=\"dataframe\">\n",
       "  <thead>\n",
       "    <tr style=\"text-align: right;\">\n",
       "      <th></th>\n",
       "      <th>epoch</th>\n",
       "      <th>loss</th>\n",
       "      <th>score</th>\n",
       "    </tr>\n",
       "  </thead>\n",
       "  <tbody>\n",
       "    <tr>\n",
       "      <th>23</th>\n",
       "      <td>23</td>\n",
       "      <td>43.315627</td>\n",
       "      <td>83.083815</td>\n",
       "    </tr>\n",
       "    <tr>\n",
       "      <th>12</th>\n",
       "      <td>12</td>\n",
       "      <td>32.924648</td>\n",
       "      <td>82.823337</td>\n",
       "    </tr>\n",
       "    <tr>\n",
       "      <th>33</th>\n",
       "      <td>33</td>\n",
       "      <td>41.870604</td>\n",
       "      <td>82.532731</td>\n",
       "    </tr>\n",
       "    <tr>\n",
       "      <th>41</th>\n",
       "      <td>41</td>\n",
       "      <td>45.744951</td>\n",
       "      <td>82.268254</td>\n",
       "    </tr>\n",
       "    <tr>\n",
       "      <th>43</th>\n",
       "      <td>43</td>\n",
       "      <td>49.297639</td>\n",
       "      <td>82.207657</td>\n",
       "    </tr>\n",
       "    <tr>\n",
       "      <th>22</th>\n",
       "      <td>22</td>\n",
       "      <td>42.464401</td>\n",
       "      <td>82.005549</td>\n",
       "    </tr>\n",
       "    <tr>\n",
       "      <th>20</th>\n",
       "      <td>20</td>\n",
       "      <td>37.656112</td>\n",
       "      <td>82.005549</td>\n",
       "    </tr>\n",
       "    <tr>\n",
       "      <th>19</th>\n",
       "      <td>19</td>\n",
       "      <td>34.510314</td>\n",
       "      <td>81.830764</td>\n",
       "    </tr>\n",
       "    <tr>\n",
       "      <th>15</th>\n",
       "      <td>15</td>\n",
       "      <td>38.225885</td>\n",
       "      <td>81.794528</td>\n",
       "    </tr>\n",
       "    <tr>\n",
       "      <th>44</th>\n",
       "      <td>44</td>\n",
       "      <td>43.496057</td>\n",
       "      <td>81.623464</td>\n",
       "    </tr>\n",
       "  </tbody>\n",
       "</table>\n",
       "</div>"
      ],
      "text/plain": [
       "    epoch       loss      score\n",
       "23     23  43.315627  83.083815\n",
       "12     12  32.924648  82.823337\n",
       "33     33  41.870604  82.532731\n",
       "41     41  45.744951  82.268254\n",
       "43     43  49.297639  82.207657\n",
       "22     22  42.464401  82.005549\n",
       "20     20  37.656112  82.005549\n",
       "19     19  34.510314  81.830764\n",
       "15     15  38.225885  81.794528\n",
       "44     44  43.496057  81.623464"
      ]
     },
     "execution_count": 26,
     "metadata": {},
     "output_type": "execute_result"
    }
   ],
   "source": [
    "df_val_fit[\"score\"] =df_val_fit[\"score\"]* 100\n",
    "\n",
    "\n",
    "df_val_fit.sort_values([\"score\"], ascending=False).head(n=10)"
   ]
  },
  {
   "cell_type": "code",
   "execution_count": 27,
   "metadata": {
    "scrolled": true
   },
   "outputs": [
    {
     "data": {
      "image/png": "[encoded data removed]",
      "text/plain": [
       "<Figure size 720x360 with 2 Axes>"
      ]
     },
     "metadata": {
      "needs_background": "light"
     },
     "output_type": "display_data"
    }
   ],
   "source": [
    "fig, ax = plt.subplots(1,2, figsize=(10,5))\n",
    "\n",
    "df_train_fit.plot.line(x=\"epoch\", y=\"loss\", ax = ax[0], color =\"blue\")\n",
    "df_train_fit.plot.line(x=\"epoch\", y=\"score\", ax = ax[0], color=\"orange\")\n",
    "ax[0].set_title(\"Training set\")\n",
    "#ax[0].yaxis.set_major_locator(plt.FixedLocator([0,.1,.2,.3,.4,.5,.6, .7,.8,.9,1]))\n",
    "\n",
    "df_val_fit.plot.line(x=\"epoch\", y=\"loss\", ax = ax[1], color=\"blue\")\n",
    "df_val_fit.plot.line(x=\"epoch\", y=\"score\", ax = ax[1], color =\"orange\")\n",
    "ax[1].set_title(\"Validation set\")\n",
    "#ax[1].yaxis.set_major_locator(plt.FixedLocator([0,.1,.2,.3,.4,.5,.6, .7,.8,.9,1]))\n",
    "\n",
    "\n",
    "\n",
    "plt.show()"
   ]
  },
  {
   "cell_type": "markdown",
   "metadata": {},
   "source": [
    "### Threshold "
   ]
  },
  {
   "cell_type": "code",
   "execution_count": 28,
   "metadata": {},
   "outputs": [
    {
     "name": "stdout",
     "output_type": "stream",
     "text": [
      "(0, 25)\n",
      "The F1 score is nan and the accuracy is nan, precision nan, recall nan\n"
     ]
    },
    {
     "name": "stderr",
     "output_type": "stream",
     "text": [
      "/Users/aeg/miniconda/envs/kegg_env/lib/python3.7/site-packages/numpy/lib/function_base.py:390: RuntimeWarning: Mean of empty slice.\n",
      "  avg = a.mean(axis)\n",
      "/Users/aeg/miniconda/envs/kegg_env/lib/python3.7/site-packages/numpy/core/_methods.py:161: RuntimeWarning: invalid value encountered in double_scalars\n",
      "  ret = ret.dtype.type(ret / rcount)\n"
     ]
    }
   ],
   "source": [
    "threshold = .00\n",
    "key = keys[0]\n",
    "df_trues = df.query(\"predicted_confidence >  {} and predicted == 'acetylation'\".format(threshold))\n",
    "print(df_trues.shape)\n",
    "\n",
    "from sklearn.metrics import f1_score, accuracy_score,precision_score, recall_score\n",
    "\n",
    "f1 = f1_score(df_trues[\"actual\"], df_trues[\"predicted\"], average=\"macro\")  \n",
    "accuracy = accuracy_score(df_trues[\"actual\"], df_trues[\"predicted\"], sample_weight=None)\n",
    "precision = precision_score(df_trues[\"actual\"], df_trues[\"predicted\"], average=\"macro\", sample_weight=None)\n",
    "recall = recall_score(df_trues[\"actual\"], df_trues[\"predicted\"], average=\"macro\", sample_weight=None)\n",
    "\n",
    "\n",
    "\n",
    "print(\"The F1 score is {} and the accuracy is {}, precision {}, recall {}\".format(f1, accuracy, precision, recall))"
   ]
  },
  {
   "cell_type": "code",
   "execution_count": 29,
   "metadata": {},
   "outputs": [
    {
     "data": {
      "text/plain": [
       "<Figure size 2880x2880 with 0 Axes>"
      ]
     },
     "metadata": {},
     "output_type": "display_data"
    }
   ],
   "source": [
    "interactions = df_trues[\"interactionType\"].unique()\n",
    "#fig, ax = plt.subplots(1, len(interactions), figsize=(40,40), squeeze=False, sharey=True, sharex=True)\n",
    "fig = plt.figure(figsize=(40,40))\n",
    "gs = fig.add_gridspec(7, 1)\n",
    "#ax = fig.add_axes([0,0,1,1])\n",
    "i = 0\n",
    "for interaction in interactions:\n",
    "    print(interaction)\n",
    "    df_interaction_type = df_trues.query(\"interactionType == '{}'\".format(interaction))\n",
    "    ax1 = fig.add_subplot(gs[i, 0])\n",
    "    \n",
    "\n",
    "\n",
    "    f1 = f1_score(df_interaction_type[\"actual\"], df_interaction_type[\"predicted\"], average='macro')  \n",
    "    accuracy = accuracy_score(df_interaction_type[\"actual\"], df_interaction_type[\"predicted\"], sample_weight=None)\n",
    "    skplt.metrics.plot_confusion_matrix(df_interaction_type[\"actual\"], df_interaction_type[\"predicted\"], normalize=False, title = \"{}: F-score {}\".format(interaction,f1), ax= ax1)\n",
    "    \n",
    "#     ax2 = fig.add_subplot(gs[i, 1])\n",
    "#     skplt.metrics.plot_confusion_matrix(df_interaction_type[\"actual\"], df_interaction_type[\"predicted\"], normalize=False, title = \"{}: F-score {}\".format(interaction,f1), ax= ax2)\n",
    "\n",
    "\n",
    "    i += 1\n",
    "    #break\n",
    "\n",
    "plt.savefig(\"confusionmatrix_threshold.eps\", bbox_inches='tight')\n",
    "    "
   ]
  },
  {
   "cell_type": "markdown",
   "metadata": {},
   "source": [
    "## Filter uniprot not in train"
   ]
  },
  {
   "cell_type": "code",
   "execution_count": 30,
   "metadata": {},
   "outputs": [],
   "source": [
    "df_train = pd.read_json('train_unique_pub_v6_less_negative.json')"
   ]
  },
  {
   "cell_type": "code",
   "execution_count": 31,
   "metadata": {},
   "outputs": [
    {
     "data": {
      "text/plain": [
       "['O43293-1',\n",
       " 'O43293-2',\n",
       " 'O60934',\n",
       " 'P53235',\n",
       " 'P51617',\n",
       " 'Q9NWZ3',\n",
       " 'P51617',\n",
       " 'Q9H0H5',\n",
       " 'Q9H0H5',\n",
       " 'Q9H0H5']"
      ]
     },
     "execution_count": 31,
     "metadata": {},
     "output_type": "execute_result"
    }
   ],
   "source": [
    "df_train['participant1Id'].values.tolist()[0:10]"
   ]
  },
  {
   "cell_type": "code",
   "execution_count": 32,
   "metadata": {},
   "outputs": [],
   "source": [
    "train_uniprot = set(df_train['participant1Id'].values.tolist()).union(set(df_train['participant2Id'].values.tolist()))"
   ]
  },
  {
   "cell_type": "code",
   "execution_count": 33,
   "metadata": {},
   "outputs": [],
   "source": [
    "df_filtered_uniprot =df[ df.apply(lambda r : r['participant2Id'] in train_uniprot and  r['participant1Id'] in train_uniprot , axis=1)]"
   ]
  },
  {
   "cell_type": "code",
   "execution_count": 34,
   "metadata": {},
   "outputs": [
    {
     "data": {
      "text/plain": [
       "(454, 25)"
      ]
     },
     "execution_count": 34,
     "metadata": {},
     "output_type": "execute_result"
    }
   ],
   "source": [
    "df_filtered_uniprot.shape"
   ]
  },
  {
   "cell_type": "code",
   "execution_count": 35,
   "metadata": {},
   "outputs": [
    {
     "data": {
      "image/png": "[encoded data removed]",
      "text/plain": [
       "<Figure size 432x288 with 2 Axes>"
      ]
     },
     "metadata": {
      "needs_background": "light"
     },
     "output_type": "display_data"
    }
   ],
   "source": [
    "import matplotlib.pyplot as plt\n",
    "import scikitplot as skplt\n",
    "\n",
    "skplt.metrics.plot_confusion_matrix(df_filtered_uniprot[\"actual\"], df_filtered_uniprot[\"predicted\"], normalize=False )\n",
    "plt.show()"
   ]
  },
  {
   "cell_type": "code",
   "execution_count": 36,
   "metadata": {},
   "outputs": [
    {
     "name": "stdout",
     "output_type": "stream",
     "text": [
      "The F1 score is 0.7473684210526317 and the accuracy is 0.8942731277533039\n"
     ]
    }
   ],
   "source": [
    "from sklearn.metrics import f1_score, accuracy_score\n",
    "\n",
    "f1 = f1_score(df_filtered_uniprot[\"actual\"], df_filtered_uniprot[\"predicted\"], sample_weight=None)  \n",
    "accuracy = accuracy_score(df_filtered_uniprot[\"actual\"], df_filtered_uniprot[\"predicted\"], sample_weight=None)\n",
    "print(\"The F1 score is {} and the accuracy is {}\".format(f1, accuracy))\n",
    "\n",
    "\n"
   ]
  },
  {
   "cell_type": "markdown",
   "metadata": {},
   "source": [
    "## Variation Bert"
   ]
  },
  {
   "cell_type": "code",
   "execution_count": 37,
   "metadata": {},
   "outputs": [],
   "source": [
    "import boto3\n",
    "import re\n",
    "\n",
    "def search_log(stream_names, filter_pattern, regex_pattern):\n",
    "    client = boto3.client('logs')\n",
    "\n",
    "    log_group_name= \"/aws/sagemaker/TrainingJobs\"\n",
    "\n",
    "    response = client.filter_log_events(\n",
    "        logGroupName=log_group_name,\n",
    "        logStreamNames=stream_names,\n",
    "        filterPattern= filter_pattern,\n",
    "        limit=10,\n",
    "        interleaved=False\n",
    "    )\n",
    "    assert len(response[\"events\"]) == 1\n",
    "    log_message = response[\"events\"][0][\"message\"]\n",
    "    \n",
    "    # extract the cm from string\n",
    "    prog = re.compile(regex_pattern)\n",
    "    result = prog.match(log_message)\n",
    "    \n",
    "    return result\n",
    "\n",
    "\n",
    "\n",
    "def get_prf(stream_names, filterPattern):\n",
    "    regex_pattern = \".*precision, recall, fscore, support\\s+\\((0\\.\\d+,\\s+0\\.\\d+,\\s+0\\.\\d+).*\"\n",
    "    \n",
    "    result = search_log(stream_names, filterPattern, regex_pattern).group(1)\n",
    "\n",
    "    # normalise string to remove extra space\n",
    "    result = re.sub(\"\\s+\", \"\", result) \n",
    "    \n",
    "    # split the string, sep by comma..514 62 41 75\n",
    "    precision, recall, fscore = result.split(\",\")\n",
    "    \n",
    "    return float(precision), float(recall), float(fscore)\n",
    "\n",
    "\n",
    "    \n",
    "def get_val_macro_score(stream_names):\n",
    "    filterPattern =  '\"__main__ - INFO - macro average scores\"'\n",
    "    return get_prf(stream_names, filterPattern)\n",
    "\n",
    "def get_val_micro_score(stream_names):\n",
    "    filterPattern =  '\"__main__ - INFO - micro average scores\"'\n",
    "    return get_prf(stream_names, filterPattern)\n",
    "\n",
    "def get_val_binary_score(stream_names):\n",
    "    filterPattern =  '\"__main__ - INFO - binary average scores\"'\n",
    "    return get_prf(stream_names, filterPattern)\n",
    "\n",
    "def get_log_name(sagemaker_job_name):\n",
    "    client = boto3.client('logs')\n",
    "    log_group_name= \"/aws/sagemaker/TrainingJobs\"\n",
    "    \n",
    "    response = client.describe_log_streams(\n",
    "    logGroupName=log_group_name,\n",
    "    logStreamNamePrefix=sagemaker_job_name,\n",
    "    orderBy='LogStreamName',\n",
    "    descending=False,\n",
    "    limit=5\n",
    ")\n",
    "    assert len(response[\"logStreams\"]) == 1\n",
    "    \n",
    "    return  response[\"logStreams\"][0][\"logStreamName\"]"
   ]
  },
  {
   "cell_type": "code",
   "execution_count": 38,
   "metadata": {},
   "outputs": [],
   "source": [
    "jobs = [\n",
    "\"ppi-bert-untype-2020-03-09-03-26-08-266\",\n",
    "\"ppi-bert-untype-2020-03-09-03-25-30-551\",\n",
    "\"ppi-bert-untype-2020-03-09-03-25-04-734\",\n",
    "\"ppi-bert-untype-2020-03-09-03-24-40-775\",\n",
    "\"ppi-bert-untype-2020-03-09-03-24-18-001\",\n",
    "\"ppi-bert-untype-2020-03-09-03-23-52-024\",\n",
    "\"ppi-bert-untype-2020-03-09-03-23-29-379\",\n",
    "\"ppi-bert-untype-2020-03-09-03-23-07-482\",\n",
    "\"ppi-bert-untype-2020-03-09-03-22-50-158\",\n",
    "\"ppi-bert-untype-2020-03-09-03-22-27-135\"\n",
    "]"
   ]
  },
  {
   "cell_type": "code",
   "execution_count": 39,
   "metadata": {},
   "outputs": [],
   "source": [
    "# #precision, recall, fscore\n",
    "# val_scores = {\n",
    "#     \"ppi-bert-untype-2019-11-05-08-14-14-416-copy-3/algo-1-1573202144\":[0.804347826,0.704761905,0.751269036],\n",
    "#     \"ppi-bert-untype-2019-11-05-08-14-14-416-copy-2/algo-1-1573202128\": [0.694736842,0.628571429,0.66],\n",
    "#     \"ppi-bert-untype-2019-11-05-08-14-14-416-copy-11-08/algo-1-1573202119\":[0.752293578,0.780952381,0.76635514],\n",
    "#     \"ppi-bert-untype-2019-11-05-08-14-14-416-copy-5/algo-1-1573264923\": [0.7346938775510204, 0.6857142857142857, 0.7093596059113301],\n",
    "#     \"ppi-bert-untype-2019-11-05-08-14-14-416-copy-6/algo-1-1573264942\":[0.75, 0.7714285714285715, 0.7605633802816902],\n",
    "#     \"ppi-bert-untype-2019-11-05-08-14-14-416-copy-7/algo-1-1573264962\": [0.7217391304347827, 0.7904761904761904, 0.7545454545454545],\n",
    "#     \"ppi-bert-untype-2019-11-05-08-14-14-416-copy-8/algo-1-1573264983\": [0.7373737373737373, 0.6952380952380952, 0.7156862745098039],\n",
    "#     \"ppi-bert-untype-2019-11-05-08-14-14-416-copy-9/algo-1-1573264997\":[0.75, 0.6857142857142857, 0.7164179104477612],\n",
    "#     \"ppi-bert-untype-2019-11-05-08-14-14-416-copy-10/algo-1-1573265016\":[0.7155963302752294, 0.7428571428571429, 0.7289719626168223],\n",
    "#     \"ppi-bert-untype-2019-11-05-08-14-14-416/algo-1-1572941791\":[0.7155963302752294, 0.7428571428571429, 0.7289719626168223]\n",
    "# }"
   ]
  },
  {
   "cell_type": "code",
   "execution_count": 40,
   "metadata": {},
   "outputs": [],
   "source": [
    "import pandas as pd\n",
    "\n",
    "val_scores = []\n",
    "for j in jobs:\n",
    "    l = get_log_name(j)\n",
    "    precision, recall, fbinary = get_val_binary_score([l])\n",
    "    val_scores.append({\"jobname\": j, \"precision\":precision*100, \"recall\": recall*100, \"f1-score\": fbinary*100})\n",
    "\n",
    "df_val_variation_scores = pd.DataFrame(val_scores)"
   ]
  },
  {
   "cell_type": "code",
   "execution_count": 41,
   "metadata": {},
   "outputs": [],
   "source": [
    "df_val_scores = df_val_variation_scores"
   ]
  },
  {
   "cell_type": "code",
   "execution_count": 42,
   "metadata": {},
   "outputs": [
    {
     "data": {
      "text/html": [
       "<div>\n",
       "<style scoped>\n",
       "    .dataframe tbody tr th:only-of-type {\n",
       "        vertical-align: middle;\n",
       "    }\n",
       "\n",
       "    .dataframe tbody tr th {\n",
       "        vertical-align: top;\n",
       "    }\n",
       "\n",
       "    .dataframe thead th {\n",
       "        text-align: right;\n",
       "    }\n",
       "</style>\n",
       "<table border=\"1\" class=\"dataframe\">\n",
       "  <thead>\n",
       "    <tr style=\"text-align: right;\">\n",
       "      <th></th>\n",
       "      <th>f1-score</th>\n",
       "      <th>precision</th>\n",
       "      <th>recall</th>\n",
       "    </tr>\n",
       "  </thead>\n",
       "  <tbody>\n",
       "    <tr>\n",
       "      <th>count</th>\n",
       "      <td>10.000000</td>\n",
       "      <td>10.000000</td>\n",
       "      <td>10.000000</td>\n",
       "    </tr>\n",
       "    <tr>\n",
       "      <th>mean</th>\n",
       "      <td>69.565333</td>\n",
       "      <td>70.360046</td>\n",
       "      <td>69.809524</td>\n",
       "    </tr>\n",
       "    <tr>\n",
       "      <th>std</th>\n",
       "      <td>4.186080</td>\n",
       "      <td>7.266873</td>\n",
       "      <td>7.943489</td>\n",
       "    </tr>\n",
       "    <tr>\n",
       "      <th>min</th>\n",
       "      <td>60.792952</td>\n",
       "      <td>56.557377</td>\n",
       "      <td>60.952381</td>\n",
       "    </tr>\n",
       "    <tr>\n",
       "      <th>25%</th>\n",
       "      <td>68.648649</td>\n",
       "      <td>67.484756</td>\n",
       "      <td>61.904762</td>\n",
       "    </tr>\n",
       "    <tr>\n",
       "      <th>50%</th>\n",
       "      <td>69.646141</td>\n",
       "      <td>68.653576</td>\n",
       "      <td>69.047619</td>\n",
       "    </tr>\n",
       "    <tr>\n",
       "      <th>75%</th>\n",
       "      <td>72.605263</td>\n",
       "      <td>75.651995</td>\n",
       "      <td>76.904762</td>\n",
       "    </tr>\n",
       "    <tr>\n",
       "      <th>max</th>\n",
       "      <td>74.766355</td>\n",
       "      <td>80.000000</td>\n",
       "      <td>80.000000</td>\n",
       "    </tr>\n",
       "  </tbody>\n",
       "</table>\n",
       "</div>"
      ],
      "text/plain": [
       "        f1-score  precision     recall\n",
       "count  10.000000  10.000000  10.000000\n",
       "mean   69.565333  70.360046  69.809524\n",
       "std     4.186080   7.266873   7.943489\n",
       "min    60.792952  56.557377  60.952381\n",
       "25%    68.648649  67.484756  61.904762\n",
       "50%    69.646141  68.653576  69.047619\n",
       "75%    72.605263  75.651995  76.904762\n",
       "max    74.766355  80.000000  80.000000"
      ]
     },
     "execution_count": 42,
     "metadata": {},
     "output_type": "execute_result"
    }
   ],
   "source": [
    "df_val_scores.describe()"
   ]
  },
  {
   "cell_type": "code",
   "execution_count": 43,
   "metadata": {},
   "outputs": [
    {
     "name": "stderr",
     "output_type": "stream",
     "text": [
      "/Users/aeg/miniconda/envs/kegg_env/lib/python3.7/site-packages/matplotlib/__init__.py:886: MatplotlibDeprecationWarning: \n",
      "examples.directory is deprecated; in the future, examples will be found relative to the 'datapath' directory.\n",
      "  \"found relative to the 'datapath' directory.\".format(key))\n"
     ]
    },
    {
     "data": {
      "text/plain": [
       "<matplotlib.axes._subplots.AxesSubplot at 0x127308f50>"
      ]
     },
     "execution_count": 43,
     "metadata": {},
     "output_type": "execute_result"
    },
    {
     "data": {
      "image/png": "[encoded data removed]",
      "text/plain": [
       "<Figure size 432x288 with 1 Axes>"
      ]
     },
     "metadata": {
      "needs_background": "light"
     },
     "output_type": "display_data"
    }
   ],
   "source": [
    "df_val_scores[[\"precision\", \"recall\", \"f1-score\"]].boxplot()"
   ]
  },
  {
   "cell_type": "code",
   "execution_count": 44,
   "metadata": {},
   "outputs": [
    {
     "data": {
      "text/plain": [
       "f1-score                                     74.7664\n",
       "jobname      ppi-bert-untype-2020-03-09-03-23-07-482\n",
       "precision                                    73.3945\n",
       "recall                                       76.1905\n",
       "Name: 7, dtype: object"
      ]
     },
     "execution_count": 44,
     "metadata": {},
     "output_type": "execute_result"
    }
   ],
   "source": [
    "df_val_variation_scores.iloc[df_val_variation_scores[\"f1-score\"].idxmax()]"
   ]
  },
  {
   "cell_type": "code",
   "execution_count": 45,
   "metadata": {},
   "outputs": [],
   "source": [
    "best_val_job = df_val_variation_scores.iloc[df_val_variation_scores[\"f1-score\"].idxmax()][\"jobname\"]"
   ]
  },
  {
   "cell_type": "code",
   "execution_count": 46,
   "metadata": {},
   "outputs": [],
   "source": [
    "def download_single_file(bucket_name_path, local_path):\n",
    "    index = bucket_name_path.find(\"://\")\n",
    "\n",
    "    # remove the s3:// if present\n",
    "    if index > -1:\n",
    "        bucket_name_path = bucket_name_path[index + 3:]\n",
    "\n",
    "    key_start_index = bucket_name_path.find(\"/\")\n",
    "    bucket_name = bucket_name_path\n",
    "    key = \"/\"\n",
    "    if key_start_index > -1:\n",
    "        bucket_name = bucket_name_path[0:key_start_index]\n",
    "        key = bucket_name_path[key_start_index + 1:]\n",
    "        \n",
    "    client = boto3.resource('s3')\n",
    "    client.Bucket(bucket_name).download_file(key, local_path)\n",
    "\n",
    "\n",
    "def load_scores_as_df (file):\n",
    "    with open(file, \"r\") as i:\n",
    "        data = json.loads(i.read())\n",
    "        \n",
    "    return json_normalize(data)\n",
    "    \n",
    "def get_predictions(s3_path):\n",
    "    tmp_dir = tempfile.mkdtemp()\n",
    "    outfile = os.path.join(tmp_dir, \"output.tar.gz\" )\n",
    "    download_single_file(s3_path, outfile)\n",
    "    tf = tarfile.open(outfile)\n",
    "    tf.extractall(path=tmp_dir)\n",
    "    test_input_file = os.path.join(tmp_dir, \"predicted.json\")\n",
    "\n",
    "\n",
    "    df_results =  pd.read_json(test_input_file)\n",
    "    df_results[\"actual\"] = df_results[\"isValid\"]\n",
    "    \n",
    "    validation_fit_file = glob.glob(\"{}/validation_scores_epoch_Objectdump*.json\".format(tmp_dir))[0]\n",
    "    train_fit_file = glob.glob(\"{}/training_scores_epoch_Objectdump*.json\".format(tmp_dir))[0]\n",
    "\n",
    "    df_val_fit = load_scores_as_df(validation_fit_file)\n",
    "    df_train_fit = load_scores_as_df(train_fit_file)\n",
    "\n",
    "\n",
    "\n",
    "    return df_results, df_val_fit, df_train_fit\n",
    "\n",
    "def get_all_scores (list_of_s3_path):\n",
    "    scores = []\n",
    "\n",
    "    for s3_path in list_of_s3_path:\n",
    "        df,_,_ = get_predictions(s3_path) \n",
    "        score = {}\n",
    "        score[\"key\"]=s3_path\n",
    "        score[\"F1-score\"] = 100*f1_score(df[\"actual\"], df[\"predicted\"], average='binary' ,sample_weight=None)  \n",
    "        score[\"Precision\"]  =100* precision_score(df[\"actual\"], df[\"predicted\"], average='binary' ,sample_weight=None)  \n",
    "        score[\"Recall\"] = 100*recall_score(df[\"actual\"], df[\"predicted\"], average='binary' ,sample_weight=None) \n",
    "        score[\"Accuracy\"] = 100*accuracy_score(df[\"actual\"], df[\"predicted\"])  \n",
    "\n",
    "\n",
    "        scores.append(score)\n",
    "        \n",
    "    return pd.DataFrame(scores)\n",
    "\n",
    "\n",
    "def get_ensemble (list_of_s3_path):\n",
    "    scores = {}\n",
    "\n",
    "    for s3_path in list_of_s3_path:\n",
    "        df,_,_ = get_predictions(s3_path) \n",
    "        scores[s3_path] = df\n",
    "        \n",
    "    return scores"
   ]
  },
  {
   "cell_type": "code",
   "execution_count": 47,
   "metadata": {},
   "outputs": [
    {
     "name": "stdout",
     "output_type": "stream",
     "text": [
      "CPU times: user 861 ms, sys: 185 ms, total: 1.05 s\n",
      "Wall time: 47.6 s\n"
     ]
    }
   ],
   "source": [
    "%%time\n",
    "\n",
    "s3_model_paths = []\n",
    "for k in jobs:\n",
    "    s3_path = s3_model_path_format.format(k)\n",
    "    s3_model_paths.append(s3_path)\n",
    "\n",
    "df_test_variation_scores =  get_all_scores(s3_model_paths)"
   ]
  },
  {
   "cell_type": "code",
   "execution_count": 48,
   "metadata": {},
   "outputs": [
    {
     "data": {
      "text/html": [
       "<div>\n",
       "<style scoped>\n",
       "    .dataframe tbody tr th:only-of-type {\n",
       "        vertical-align: middle;\n",
       "    }\n",
       "\n",
       "    .dataframe tbody tr th {\n",
       "        vertical-align: top;\n",
       "    }\n",
       "\n",
       "    .dataframe thead th {\n",
       "        text-align: right;\n",
       "    }\n",
       "</style>\n",
       "<table border=\"1\" class=\"dataframe\">\n",
       "  <thead>\n",
       "    <tr style=\"text-align: right;\">\n",
       "      <th></th>\n",
       "      <th>Accuracy</th>\n",
       "      <th>F1-score</th>\n",
       "      <th>Precision</th>\n",
       "      <th>Recall</th>\n",
       "    </tr>\n",
       "  </thead>\n",
       "  <tbody>\n",
       "    <tr>\n",
       "      <th>count</th>\n",
       "      <td>10.000000</td>\n",
       "      <td>10.000000</td>\n",
       "      <td>10.000000</td>\n",
       "      <td>10.000000</td>\n",
       "    </tr>\n",
       "    <tr>\n",
       "      <th>mean</th>\n",
       "      <td>86.118568</td>\n",
       "      <td>67.631668</td>\n",
       "      <td>73.430150</td>\n",
       "      <td>63.155340</td>\n",
       "    </tr>\n",
       "    <tr>\n",
       "      <th>std</th>\n",
       "      <td>1.549440</td>\n",
       "      <td>3.745644</td>\n",
       "      <td>5.267773</td>\n",
       "      <td>5.978083</td>\n",
       "    </tr>\n",
       "    <tr>\n",
       "      <th>min</th>\n",
       "      <td>82.438479</td>\n",
       "      <td>61.613692</td>\n",
       "      <td>62.068966</td>\n",
       "      <td>50.970874</td>\n",
       "    </tr>\n",
       "    <tr>\n",
       "      <th>25%</th>\n",
       "      <td>85.738255</td>\n",
       "      <td>65.140249</td>\n",
       "      <td>71.082512</td>\n",
       "      <td>60.072816</td>\n",
       "    </tr>\n",
       "    <tr>\n",
       "      <th>50%</th>\n",
       "      <td>86.689038</td>\n",
       "      <td>68.840301</td>\n",
       "      <td>73.872245</td>\n",
       "      <td>62.864078</td>\n",
       "    </tr>\n",
       "    <tr>\n",
       "      <th>75%</th>\n",
       "      <td>87.164430</td>\n",
       "      <td>69.757649</td>\n",
       "      <td>75.877193</td>\n",
       "      <td>68.325243</td>\n",
       "    </tr>\n",
       "    <tr>\n",
       "      <th>max</th>\n",
       "      <td>87.472036</td>\n",
       "      <td>71.921182</td>\n",
       "      <td>80.921053</td>\n",
       "      <td>70.873786</td>\n",
       "    </tr>\n",
       "  </tbody>\n",
       "</table>\n",
       "</div>"
      ],
      "text/plain": [
       "        Accuracy   F1-score  Precision     Recall\n",
       "count  10.000000  10.000000  10.000000  10.000000\n",
       "mean   86.118568  67.631668  73.430150  63.155340\n",
       "std     1.549440   3.745644   5.267773   5.978083\n",
       "min    82.438479  61.613692  62.068966  50.970874\n",
       "25%    85.738255  65.140249  71.082512  60.072816\n",
       "50%    86.689038  68.840301  73.872245  62.864078\n",
       "75%    87.164430  69.757649  75.877193  68.325243\n",
       "max    87.472036  71.921182  80.921053  70.873786"
      ]
     },
     "execution_count": 48,
     "metadata": {},
     "output_type": "execute_result"
    }
   ],
   "source": [
    "df_test_variation_scores.describe()"
   ]
  },
  {
   "cell_type": "code",
   "execution_count": 49,
   "metadata": {},
   "outputs": [
    {
     "data": {
      "image/png": "[encoded data removed]",
      "text/plain": [
       "<Figure size 720x360 with 2 Axes>"
      ]
     },
     "metadata": {
      "needs_background": "light"
     },
     "output_type": "display_data"
    }
   ],
   "source": [
    "\n",
    "fig, ax = plt.subplots(1,2, figsize=(10, 5))\n",
    "\n",
    "df_test_variation_scores[[\"Precision\", \"Recall\", \"F1-score\"]].boxplot(ax=ax[0])\n",
    "df_test_variation_scores[[\"Precision\", \"Recall\", \"F1-score\"]].plot(ax = ax[1])\n",
    "\n",
    "plt.savefig(\"score_variation.eps\", bbox_inches='tight')\n",
    "\n"
   ]
  },
  {
   "cell_type": "code",
   "execution_count": 50,
   "metadata": {},
   "outputs": [
    {
     "data": {
      "text/html": [
       "<div>\n",
       "<style scoped>\n",
       "    .dataframe tbody tr th:only-of-type {\n",
       "        vertical-align: middle;\n",
       "    }\n",
       "\n",
       "    .dataframe tbody tr th {\n",
       "        vertical-align: top;\n",
       "    }\n",
       "\n",
       "    .dataframe thead th {\n",
       "        text-align: right;\n",
       "    }\n",
       "</style>\n",
       "<table border=\"1\" class=\"dataframe\">\n",
       "  <thead>\n",
       "    <tr style=\"text-align: right;\">\n",
       "      <th></th>\n",
       "      <th>Accuracy</th>\n",
       "      <th>F1-score</th>\n",
       "      <th>Precision</th>\n",
       "      <th>Recall</th>\n",
       "      <th>key</th>\n",
       "    </tr>\n",
       "  </thead>\n",
       "  <tbody>\n",
       "    <tr>\n",
       "      <th>7</th>\n",
       "      <td>86.689038</td>\n",
       "      <td>69.250646</td>\n",
       "      <td>74.033149</td>\n",
       "      <td>65.048544</td>\n",
       "      <td>s3://aegovan-data/results/ppi-bert-untype-2020-03-09-03-23-07-482/output/output.tar.gz</td>\n",
       "    </tr>\n",
       "  </tbody>\n",
       "</table>\n",
       "</div>"
      ],
      "text/plain": [
       "    Accuracy   F1-score  Precision     Recall  \\\n",
       "7  86.689038  69.250646  74.033149  65.048544   \n",
       "\n",
       "                                                                                      key  \n",
       "7  s3://aegovan-data/results/ppi-bert-untype-2020-03-09-03-23-07-482/output/output.tar.gz  "
      ]
     },
     "execution_count": 50,
     "metadata": {},
     "output_type": "execute_result"
    }
   ],
   "source": [
    "df_test_variation_scores.query(\"key == '{}'\".format(s3_model_path_format.format(best_val_job)))"
   ]
  },
  {
   "cell_type": "code",
   "execution_count": 51,
   "metadata": {},
   "outputs": [
    {
     "name": "stdout",
     "output_type": "stream",
     "text": [
      "CPU times: user 807 ms, sys: 193 ms, total: 1 s\n",
      "Wall time: 46.1 s\n"
     ]
    }
   ],
   "source": [
    "%%time\n",
    "\n",
    "s3_model_paths = []\n",
    "for k in jobs:\n",
    "    job_name = k \n",
    "    s3_path = s3_model_path_format.format(job_name)\n",
    "    s3_model_paths.append(s3_path)\n",
    "\n",
    "ensemble_results =  get_ensemble(s3_model_paths)"
   ]
  },
  {
   "cell_type": "code",
   "execution_count": 53,
   "metadata": {},
   "outputs": [],
   "source": [
    "import math\n",
    "def populate_predicted_confidence(df):\n",
    "    keys = list(df[\"confidence_scores\"][0].keys())\n",
    "    # This is log softmax, convert to softmax prob\n",
    "    for k in keys:\n",
    "        df[k]  =df[\"confidence_scores\"].apply(lambda x: math.exp(x[k]))\n",
    "        df[k]  =df[\"confidence_scores\"].apply(lambda x: math.exp(x[k]))\n",
    "\n",
    "    df[\"predicted_confidence\"] = df.apply(lambda r: max(r[ keys]/ sum(r[ keys])), axis=1 )"
   ]
  },
  {
   "cell_type": "code",
   "execution_count": 63,
   "metadata": {},
   "outputs": [
    {
     "data": {
      "text/plain": [
       "{'False': 2.1086540222, 'True': -1.9104254246}"
      ]
     },
     "execution_count": 63,
     "metadata": {},
     "output_type": "execute_result"
    }
   ],
   "source": [
    "list(ensemble_results.values())[0][\"confidence_scores\"].iloc[0]"
   ]
  },
  {
   "cell_type": "code",
   "execution_count": 94,
   "metadata": {},
   "outputs": [],
   "source": [
    "vote_base=\"votes_{}\"\n",
    "def populate_ensemble_predicted_confidence(ensemble_results_dict):\n",
    "    ensemble_results = list(ensemble_results_dict.values())\n",
    "    base_df= ensemble_results[0]\n",
    "    keys = list(base_df[\"confidence_scores\"][0].keys())\n",
    "    \n",
    "    vote_keys = [ vote_base.format(k) for k in keys]\n",
    "    result = base_df[[\"actual\"]  ]\n",
    "    result[\"index\"] = base_df.index\n",
    "    for v in vote_keys + keys:\n",
    "        result[v] = 0.0\n",
    "    # This is log softmax, convert to softmax prob\n",
    "    for df in ensemble_results:\n",
    "        for k in keys:\n",
    "            populate_predicted_confidence(df)\n",
    "        \n",
    "            result.loc[:,k] = result.loc[:,k] +  df[k]\n",
    "            result.loc[:,vote_base.format(k)] = result.loc[:,vote_base.format(k)]  + df.apply(lambda r: 1 if r[\"predicted\"] == k else 0 , axis=1)\n",
    "\n",
    "\n",
    "            \n",
    "    \n",
    "    # populate voting\n",
    "    result.loc[:,\"ensemble_predicted_confidence\"] =  result.apply(lambda r: max(r[ keys]/ sum(r[ keys])), axis=1 )\n",
    "    result.loc[:,\"ensemble_predicted\"] =  result.apply(lambda r: keys[list(r[ keys]).index(max(r[ keys]))] == 'True' , axis=1  )\n",
    "\n",
    "\n",
    "    result.loc[:,\"ensemble_majority_prediction\"] = result.apply(lambda r: keys[list(r[ vote_keys]).index(max(r[ vote_keys]))] , axis=1 )\n",
    "    result.loc[:,\"ensemble_confidence_majority_prediction\"] = result.apply(lambda r: r[r[\"ensemble_majority_prediction\"]], axis=1 )\n",
    "    result.loc[:,\"ensemble_majority_prediction\"]  = result.apply(lambda r : r[\"ensemble_majority_prediction\"] == 'True',  axis=1 )\n",
    "    return result"
   ]
  },
  {
   "cell_type": "code",
   "execution_count": 95,
   "metadata": {},
   "outputs": [
    {
     "name": "stderr",
     "output_type": "stream",
     "text": [
      "/Users/aeg/miniconda/envs/kegg_env/lib/python3.7/site-packages/ipykernel_launcher.py:9: SettingWithCopyWarning: \n",
      "A value is trying to be set on a copy of a slice from a DataFrame.\n",
      "Try using .loc[row_indexer,col_indexer] = value instead\n",
      "\n",
      "See the caveats in the documentation: http://pandas.pydata.org/pandas-docs/stable/indexing.html#indexing-view-versus-copy\n",
      "  if __name__ == '__main__':\n",
      "/Users/aeg/miniconda/envs/kegg_env/lib/python3.7/site-packages/ipykernel_launcher.py:11: SettingWithCopyWarning: \n",
      "A value is trying to be set on a copy of a slice from a DataFrame.\n",
      "Try using .loc[row_indexer,col_indexer] = value instead\n",
      "\n",
      "See the caveats in the documentation: http://pandas.pydata.org/pandas-docs/stable/indexing.html#indexing-view-versus-copy\n",
      "  # This is added back by InteractiveShellApp.init_path()\n"
     ]
    }
   ],
   "source": [
    "df_ensemble = populate_ensemble_predicted_confidence(ensemble_results)"
   ]
  },
  {
   "cell_type": "code",
   "execution_count": 96,
   "metadata": {},
   "outputs": [
    {
     "data": {
      "text/plain": [
       "actual                                        bool\n",
       "index                                        int64\n",
       "votes_False                                float64\n",
       "votes_True                                 float64\n",
       "False                                      float64\n",
       "True                                       float64\n",
       "ensemble_predicted_confidence              float64\n",
       "ensemble_predicted                            bool\n",
       "ensemble_majority_prediction                  bool\n",
       "ensemble_confidence_majority_prediction    float64\n",
       "dtype: object"
      ]
     },
     "execution_count": 96,
     "metadata": {},
     "output_type": "execute_result"
    }
   ],
   "source": [
    "df_ensemble.dtypes"
   ]
  },
  {
   "cell_type": "code",
   "execution_count": 97,
   "metadata": {},
   "outputs": [
    {
     "data": {
      "text/plain": [
       "array([False,  True])"
      ]
     },
     "execution_count": 97,
     "metadata": {},
     "output_type": "execute_result"
    }
   ],
   "source": [
    "df_ensemble[\"ensemble_predicted\"].unique()"
   ]
  },
  {
   "cell_type": "code",
   "execution_count": 98,
   "metadata": {},
   "outputs": [
    {
     "name": "stdout",
     "output_type": "stream",
     "text": [
      "The F1 score is 0.7169811320754716 and the accuracy is 0.8825503355704698, precision 0.806060606060606, recall 0.6456310679611651\n"
     ]
    }
   ],
   "source": [
    "from sklearn.metrics import f1_score, accuracy_score,precision_score, recall_score\n",
    "\n",
    "f1 = f1_score(df_ensemble[\"actual\"], df_ensemble[\"ensemble_predicted\"], average=\"binary\")  \n",
    "accuracy = accuracy_score(df_ensemble[\"actual\"], df_ensemble[\"ensemble_predicted\"], sample_weight=None)\n",
    "precision = precision_score(df_ensemble[\"actual\"], df_ensemble[\"ensemble_predicted\"], average=\"binary\", sample_weight=None)\n",
    "recall = recall_score(df_ensemble[\"actual\"], df_ensemble[\"ensemble_predicted\"], average=\"binary\", sample_weight=None)\n",
    "\n",
    "\n",
    "\n",
    "print(\"The F1 score is {} and the accuracy is {}, precision {}, recall {}\".format(f1, accuracy, precision, recall))"
   ]
  }
 ],
 "metadata": {
  "kernelspec": {
   "display_name": "Python 3",
   "language": "python",
   "name": "python3"
  },
  "language_info": {
   "codemirror_mode": {
    "name": "ipython",
    "version": 3
   },
   "file_extension": ".py",
   "mimetype": "text/x-python",
   "name": "python",
   "nbconvert_exporter": "python",
   "pygments_lexer": "ipython3",
   "version": "3.7.4"
  }
 },
 "nbformat": 4,
 "nbformat_minor": 2
}
