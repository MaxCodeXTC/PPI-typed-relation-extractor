{
 "cells": [
  {
   "cell_type": "code",
   "execution_count": 1,
   "metadata": {},
   "outputs": [],
   "source": [
    "import pandas as pd"
   ]
  },
  {
   "cell_type": "code",
   "execution_count": 2,
   "metadata": {},
   "outputs": [],
   "source": [
    "data = [\n",
    "    {\"Embedding Type\": \"PreTrained\", \"Data\": \"Train\", \"Accuracy\": 98.79, \"Precision\":98.38, \"Recall\":98.35, \"F-Score\":98.37 },\n",
    "    {\"Embedding Type\":\"PreTrained\",   \"Data\": \"Validation\", \"Accuracy\": 89.71, \"Precision\":80.51, \"Recall\":79.03, \"F-Score\":79.76},\n",
    "                  \n",
    "     {\"Embedding Type\":\"RandomInit\",   \"Data\": \"Train\", \"Accuracy\": 37.0198 , \"Precision\": 37.01, \"Recall\" : 1.0, \"F-Score\": 54.04},\n",
    "    \n",
    "      {\"Embedding Type\":\"RandomInit\",   \"Data\": \"Validation\", \"Accuracy\": 25.6501, \"Precision\": 25.65, \"Recall\" : 1.0, \"F-Score\": 40.83}\n",
    "  \n",
    "]"
   ]
  },
  {
   "cell_type": "code",
   "execution_count": 3,
   "metadata": {},
   "outputs": [],
   "source": [
    "result = pd.DataFrame(data)\n",
    "result.index= result['Embedding Type']"
   ]
  },
  {
   "cell_type": "code",
   "execution_count": 4,
   "metadata": {},
   "outputs": [
    {
     "data": {
      "text/html": [
       "<div>\n",
       "<style scoped>\n",
       "    .dataframe tbody tr th:only-of-type {\n",
       "        vertical-align: middle;\n",
       "    }\n",
       "\n",
       "    .dataframe tbody tr th {\n",
       "        vertical-align: top;\n",
       "    }\n",
       "\n",
       "    .dataframe thead th {\n",
       "        text-align: right;\n",
       "    }\n",
       "</style>\n",
       "<table border=\"1\" class=\"dataframe\">\n",
       "  <thead>\n",
       "    <tr style=\"text-align: right;\">\n",
       "      <th></th>\n",
       "      <th>Accuracy</th>\n",
       "      <th>Data</th>\n",
       "      <th>Embedding Type</th>\n",
       "      <th>F-Score</th>\n",
       "      <th>Precision</th>\n",
       "      <th>Recall</th>\n",
       "    </tr>\n",
       "    <tr>\n",
       "      <th>Embedding Type</th>\n",
       "      <th></th>\n",
       "      <th></th>\n",
       "      <th></th>\n",
       "      <th></th>\n",
       "      <th></th>\n",
       "      <th></th>\n",
       "    </tr>\n",
       "  </thead>\n",
       "  <tbody>\n",
       "    <tr>\n",
       "      <th>PreTrained</th>\n",
       "      <td>98.7900</td>\n",
       "      <td>Train</td>\n",
       "      <td>PreTrained</td>\n",
       "      <td>98.37</td>\n",
       "      <td>98.38</td>\n",
       "      <td>98.35</td>\n",
       "    </tr>\n",
       "    <tr>\n",
       "      <th>PreTrained</th>\n",
       "      <td>89.7100</td>\n",
       "      <td>Validation</td>\n",
       "      <td>PreTrained</td>\n",
       "      <td>79.76</td>\n",
       "      <td>80.51</td>\n",
       "      <td>79.03</td>\n",
       "    </tr>\n",
       "    <tr>\n",
       "      <th>RandomInit</th>\n",
       "      <td>37.0198</td>\n",
       "      <td>Train</td>\n",
       "      <td>RandomInit</td>\n",
       "      <td>54.04</td>\n",
       "      <td>37.01</td>\n",
       "      <td>1.00</td>\n",
       "    </tr>\n",
       "    <tr>\n",
       "      <th>RandomInit</th>\n",
       "      <td>25.6501</td>\n",
       "      <td>Validation</td>\n",
       "      <td>RandomInit</td>\n",
       "      <td>40.83</td>\n",
       "      <td>25.65</td>\n",
       "      <td>1.00</td>\n",
       "    </tr>\n",
       "  </tbody>\n",
       "</table>\n",
       "</div>"
      ],
      "text/plain": [
       "                Accuracy        Data Embedding Type  F-Score  Precision  \\\n",
       "Embedding Type                                                            \n",
       "PreTrained       98.7900       Train     PreTrained    98.37      98.38   \n",
       "PreTrained       89.7100  Validation     PreTrained    79.76      80.51   \n",
       "RandomInit       37.0198       Train     RandomInit    54.04      37.01   \n",
       "RandomInit       25.6501  Validation     RandomInit    40.83      25.65   \n",
       "\n",
       "                Recall  \n",
       "Embedding Type          \n",
       "PreTrained       98.35  \n",
       "PreTrained       79.03  \n",
       "RandomInit        1.00  \n",
       "RandomInit        1.00  "
      ]
     },
     "execution_count": 4,
     "metadata": {},
     "output_type": "execute_result"
    }
   ],
   "source": [
    "result.head()"
   ]
  },
  {
   "cell_type": "code",
   "execution_count": 5,
   "metadata": {},
   "outputs": [],
   "source": [
    "def annotate(plotbar):\n",
    "    a =0\n",
    "    for p in plotbar.patches:\n",
    "        a = (a % 3)+1\n",
    "        plotbar.annotate(\"{}%\".format(str(round(p.get_height(),1))), (p.get_x() * 1.005, p.get_height() * 1.005/a))\n",
    "        a += 1"
   ]
  },
  {
   "cell_type": "code",
   "execution_count": 15,
   "metadata": {},
   "outputs": [
    {
     "data": {
      "image/png": "[encoded data removed]",
      "text/plain": [
       "<Figure size 1296x432 with 2 Axes>"
      ]
     },
     "metadata": {},
     "output_type": "display_data"
    }
   ],
   "source": [
    "import matplotlib.pyplot as plt\n",
    "\n",
    "\n",
    "fig, ax = plt.subplots( 1,2, figsize=(18,6))\n",
    "\n",
    "\n",
    "    \n",
    "plotbar=result.query('Data==\"Train\"').plot.bar( colormap='summer_r', ax=ax[0], yticks=range(0,110, 10),ylim= [0, 110])\n",
    "ax[0].set_title( \"Training set\")\n",
    "annotate(plotbar)\n",
    "\n",
    "\n",
    "\n",
    "\n",
    "plotbar = result.query('Data==\"Validation\"').plot.bar( colormap='summer_r', ax=ax[1], yticks=range(0,110, 10), ylim= [0, 110])\n",
    "ax[1].set_title( \"Validation set\")\n",
    "annotate(plotbar)\n",
    "\n",
    "\n",
    "\n",
    "plt.savefig(\"Results.svg\",bbox_inches = \"tight\")\n",
    "\n",
    "plt.show()\n",
    "\n",
    "\n",
    "\n"
   ]
  }
 ],
 "metadata": {
  "kernelspec": {
   "display_name": "Python 3",
   "language": "python",
   "name": "python3"
  },
  "language_info": {
   "codemirror_mode": {
    "name": "ipython",
    "version": 3
   },
   "file_extension": ".py",
   "mimetype": "text/x-python",
   "name": "python",
   "nbconvert_exporter": "python",
   "pygments_lexer": "ipython3",
   "version": "3.6.4"
  }
 },
 "nbformat": 4,
 "nbformat_minor": 1
}
